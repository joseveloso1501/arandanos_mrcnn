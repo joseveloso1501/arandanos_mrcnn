{
 "cells": [
  {
   "cell_type": "markdown",
   "metadata": {},
   "source": [
    "# Test 6 (paper) - Experimento 6 (PT)\n",
    "\n",
    "Entrenamiento de Mask R-CNN con dataset modificado para emular \"Test 6\"\n",
    "\n",
    "### Hiperparametros\n",
    "* **epoch = 100**\n",
    "    * steps x epoch = 146 (lotes de imagenes)\n",
    "    * batch = 2\n",
    "* optimizador = SGD\n",
    "* Funcion de perdida = SMOOTHL1LOSS\n",
    "* Metrica de evaluacion = mAP (IoU >= 0.5)\n",
    "* Mini-mask shape: 56x56\n",
    "* RPN anchor scales: (32, 64, 128, 256, 512)\n",
    "* Tasa de aprendizaje: 0.001\n",
    "* imagenes = 292\n",
    "    * entrenamiento 81% = 237\n",
    "    * validacion 19% = 55\n",
    "* etiquetas = 9140\n",
    "* **resolucion = 1024 x 800**\n",
    "* etiquetas = bounding box formato VOC XML\n",
    "* **numero de clases = 2 (arandano, arandano-maduro)**\n",
    "* **data augmentation = true**\n"
   ]
  },
  {
   "cell_type": "markdown",
   "metadata": {
    "id": "9csYdOiCeux-"
   },
   "source": [
    "## Comprobar directorio principal"
   ]
  },
  {
   "cell_type": "code",
   "execution_count": 1,
   "metadata": {
    "scrolled": false
   },
   "outputs": [
    {
     "name": "stdout",
     "output_type": "stream",
     "text": [
      "/tf/PT_JoseVeloso/Mask_RCNN-master_matterport/model-training\r\n",
      "total 2088\r\n",
      "drwxr-xr-x 4 root root    4096 Aug  7 06:10 build\r\n",
      "drwxr-xr-x 2 root root    4096 Aug  7 06:10 dist\r\n",
      "drwxr-xr-x 2 root root    4096 Aug  8 03:15 mask_rcnn.egg-info\r\n",
      "-rw-r--r-- 1 root root  163205 Sep 13 20:29 master-test_5.ipynb\r\n",
      "-rw-r--r-- 1 root root  350337 Sep 15 00:38 master-test_5_fase_2.ipynb\r\n",
      "-rw-r--r-- 1 root root  110478 Sep 13 20:29 master-test_6.ipynb\r\n",
      "-rw-r--r-- 1 root root   21196 Sep 15 02:12 master-test_6_fase_2.ipynb\r\n",
      "-rw-r--r-- 1 root root 1395023 Sep 13 01:41 master-v2.ipynb\r\n",
      "-rw-r--r-- 1 root root   71399 Aug 17 21:33 master.ipynb\r\n",
      "drwxr-xr-x 4 root root    4096 Sep 13 07:49 mrcnn\r\n"
     ]
    }
   ],
   "source": [
    "!pwd && ls -l"
   ]
  },
  {
   "cell_type": "markdown",
   "metadata": {
    "id": "j6qajN7v0saE"
   },
   "source": [
    "# Importar bibliotecas"
   ]
  },
  {
   "cell_type": "code",
   "execution_count": 2,
   "metadata": {
    "executionInfo": {
     "elapsed": 6812,
     "status": "ok",
     "timestamp": 1659596011947,
     "user": {
      "displayName": "José Ignacio Veloso Inzunza",
      "userId": "04140603416196179882"
     },
     "user_tz": 240
    },
    "id": "iyA_0ghC0saJ",
    "scrolled": true
   },
   "outputs": [],
   "source": [
    "# bibliotecas basicas\n",
    "import os\n",
    "from os import listdir\n",
    "import sys\n",
    "import json\n",
    "import datetime\n",
    "\n",
    "#sys.path.append(\"/tf/PT_JoseVeloso/Mask_RCNN-master/\")\n",
    "\n",
    "# bibliotecas avanzadas \n",
    "from xml.etree import ElementTree\n",
    "import skimage.draw\n",
    "import cv2\n",
    "import imgaug\n",
    "\n",
    "# bibliotecas mask rcnn \n",
    "from mrcnn.utils import Dataset\n",
    "from mrcnn.config import Config\n",
    "from mrcnn.model import MaskRCNN\n",
    "from mrcnn.visualize import display_instances\n",
    "from mrcnn.utils import extract_bboxes\n",
    "from mrcnn.utils import compute_ap\n",
    "from mrcnn.model import load_image_gt\n",
    "from mrcnn.model import mold_image\n",
    "from mrcnn import visualize\n",
    "\n",
    "# biblioteca matplotlib \n",
    "import matplotlib.pyplot as plt\n",
    "\n",
    "# bibliotecas numpy \n",
    "import numpy as np\n",
    "from numpy import zeros\n",
    "from numpy import asarray\n",
    "from numpy import expand_dims\n",
    "from numpy import mean\n",
    "\n",
    "# bibliotecas keras\n",
    "import tensorflow as tf\n",
    "from tensorflow.keras.preprocessing.image import load_img   #keras.preprocessing.image tensorflow.keras.preprocessing.image import load_img\n",
    "from tensorflow.keras.preprocessing.image import img_to_array\n",
    "\n",
    "# ignorar alertas de elementos que seran descontinuados\n",
    "import warnings\n",
    "warnings.filterwarnings(\"ignore\", category=DeprecationWarning) \n",
    "\n",
    "%matplotlib inline\n",
    "#plt.show()\n",
    "\n",
    "import imgaug.augmenters as iaa"
   ]
  },
  {
   "cell_type": "markdown",
   "metadata": {
    "id": "5Mbj3-t70saL"
   },
   "source": [
    "# Fase 2 - Entrenamiento con dos clases y etiquetas de Bounding Box"
   ]
  },
  {
   "cell_type": "markdown",
   "metadata": {
    "id": "hGtz-ovS0saM"
   },
   "source": [
    "En este entremamiento se utiliza un conjunto de datos simple con imágenes etiquetadas con cuadros delimitadores y una clase llamada 'Daño'. En la siguiente sección se encuentra el código para el entrenamiento del modelo. Se incluyen comentarios para describir mejor el flujo del programa."
   ]
  },
  {
   "cell_type": "code",
   "execution_count": 3,
   "metadata": {},
   "outputs": [
    {
     "name": "stdout",
     "output_type": "stream",
     "text": [
      "\n",
      "Configurations:\n",
      "BACKBONE                       resnet101\n",
      "BACKBONE_STRIDES               [4, 8, 16, 32, 64]\n",
      "BATCH_SIZE                     2\n",
      "BBOX_STD_DEV                   [0.1 0.1 0.2 0.2]\n",
      "COMPUTE_BACKBONE_SHAPE         None\n",
      "DETECTION_MAX_INSTANCES        100\n",
      "DETECTION_MIN_CONFIDENCE       0.7\n",
      "DETECTION_NMS_THRESHOLD        0.3\n",
      "DEVICE                         /gpu:0\n",
      "FPN_CLASSIF_FC_LAYERS_SIZE     1024\n",
      "GPU_COUNT                      1\n",
      "GRADIENT_CLIP_NORM             5.0\n",
      "IMAGES_PER_GPU                 2\n",
      "IMAGE_CHANNEL_COUNT            3\n",
      "IMAGE_MAX_DIM                  1024\n",
      "IMAGE_META_SIZE                15\n",
      "IMAGE_MIN_DIM                  512\n",
      "IMAGE_MIN_SCALE                0\n",
      "IMAGE_RESIZE_MODE              square\n",
      "IMAGE_SHAPE                    [1024 1024    3]\n",
      "LEARNING_MOMENTUM              0.8\n",
      "LEARNING_RATE                  0.001\n",
      "LOSS_WEIGHTS                   {'rpn_class_loss': 1.0, 'rpn_bbox_loss': 1.0, 'mrcnn_class_loss': 1.0, 'mrcnn_bbox_loss': 1.0, 'mrcnn_mask_loss': 1.0}\n",
      "MASK_POOL_SIZE                 14\n",
      "MASK_SHAPE                     [28, 28]\n",
      "MAX_GT_INSTANCES               100\n",
      "MEAN_PIXEL                     [123.7 116.8 103.9]\n",
      "MINI_MASK_SHAPE                (56, 56)\n",
      "NAME                           arandano_cfg_test_6_fase_2_\n",
      "NUM_CLASSES                    3\n",
      "POOL_SIZE                      7\n",
      "POST_NMS_ROIS_INFERENCE        1000\n",
      "POST_NMS_ROIS_TRAINING         2000\n",
      "PRE_NMS_LIMIT                  6000\n",
      "ROI_POSITIVE_RATIO             0.33\n",
      "RPN_ANCHOR_RATIOS              [0.5, 1, 1.5]\n",
      "RPN_ANCHOR_SCALES              (32, 64, 128, 256, 512)\n",
      "RPN_ANCHOR_STRIDE              1\n",
      "RPN_BBOX_STD_DEV               [0.1 0.1 0.2 0.2]\n",
      "RPN_NMS_THRESHOLD              0.7\n",
      "RPN_TRAIN_ANCHORS_PER_IMAGE    256\n",
      "STEPS_PER_EPOCH                146\n",
      "TOP_DOWN_PYRAMID_SIZE          256\n",
      "TRAIN_BN                       False\n",
      "TRAIN_ROIS_PER_IMAGE           200\n",
      "Train_ROIs_Per_Image           200\n",
      "USE_MINI_MASK                  True\n",
      "USE_RPN_ROIS                   True\n",
      "VALIDATION_STEPS               50\n",
      "WEIGHT_DECAY                   0.0001\n",
      "\n",
      "\n"
     ]
    }
   ],
   "source": [
    "class DatasetArandanos(Dataset):\n",
    "    \n",
    "    # load_dataset function is used to load the train and test dataset\n",
    "    def load_dataset(self, dataset_dir, is_train=True):\n",
    "        \n",
    "        # we use add_class for each class in our dataset and assign numbers to them. 0 is background\n",
    "        # self.add_class('source', 'class id', 'class name')\n",
    "        self.add_class(\"dataset\", 1, \"arandano\")\n",
    "        self.add_class(\"dataset\", 2, \"arandano-maduro\")\n",
    "        #self.add_class(\"dataset\", 3, \"Level-3\")\n",
    "        #self.add_class(\"dataset\", 4, \"Level-4\")\n",
    "        \n",
    "        # we concatenate the dataset_dir with /images and /annots\n",
    "        images_dir = dataset_dir + '/images/'\n",
    "        annotations_dir = dataset_dir + '/annots/'\n",
    "        \n",
    "        # is_train will be true if we our training our model and false when we are testing the model\n",
    "        for filename in listdir(images_dir):\n",
    "            \n",
    "            # extract image id\n",
    "            image_id = filename[:-4] # used to skip last 4 chars which is '.jpg' (class_id.jpg)\n",
    "            \n",
    "            # if is_train is True skip all images with id greater than and equal to 160\n",
    "             # roughly 80% of dataset for training\n",
    "            if is_train and int(image_id) >= 11074 :\n",
    "                #print(\"image_id: \", image_id)\n",
    "                continue\n",
    "             \n",
    "            # if is_train is not True skip all images with id less than 420\n",
    "            if not is_train and int(image_id) < 11074:\n",
    "                continue\n",
    "            \n",
    "            # img_path and ann_path variables are defined\n",
    "            img_path = images_dir + filename\n",
    "            ann_path = annotations_dir + image_id + '.xml'\n",
    "            \n",
    "            # using add_image function we pass image_id, image_path and ann_path so that the current\n",
    "            # image is added to the dataset for training\n",
    "            self.add_image('dataset', image_id=image_id, path=img_path, annotation=ann_path)\n",
    "\n",
    "    # function used to extract bouding boxes from annotated files\n",
    "    def extract_boxes(self, filename):\n",
    "\n",
    "        # you can see how the images are annotated we extracrt the width, height and bndbox values\n",
    "\n",
    "        # <size>\n",
    "\n",
    "        #       <width>640</width>\n",
    "\n",
    "        #       <height>360</height>\n",
    "\n",
    "        #       <depth>3</depth>\n",
    "\n",
    "        # </size>\n",
    "\n",
    "\n",
    "        # <object>\n",
    "\n",
    "        #          <name>damage</name>\n",
    "\n",
    "        #          <pose>Unspecified</pose>\n",
    "\n",
    "        #          <truncated>0</truncated>\n",
    "\n",
    "        #          <difficult>0</difficult>\n",
    "\n",
    "\n",
    "        #          <bndbox>\n",
    "\n",
    "        #                 <xmin>315</xmin>\n",
    "\n",
    "        #                 <ymin>160</ymin>\n",
    "\n",
    "        #                 <xmax>381</xmax>\n",
    "\n",
    "        #                 <ymax>199</ymax>\n",
    "\n",
    "        #          </bndbox>\n",
    "\n",
    "        # </object>\n",
    "\n",
    "        # </annotation>\n",
    "        \n",
    "        # used to parse the .xml files\n",
    "        tree = ElementTree.parse(filename)\n",
    "        \n",
    "        # to get the root of the xml file\n",
    "        root = tree.getroot()\n",
    "        \n",
    "        # we will append all x, y coordinated in boxes\n",
    "        # for all instances of an onject\n",
    "        boxes = list()\n",
    "        \n",
    "        # we find all attributes with name bndbox\n",
    "        # bndbox will exist for each ground truth in an image\n",
    "        for box in root.findall('.//object'):\n",
    "            name = box.find('name').text\n",
    "            xmin = int(box.find('./bndbox/xmin').text)\n",
    "            ymin = int(box.find('./bndbox/ymin').text)\n",
    "            xmax = int(box.find('./bndbox/xmax').text)\n",
    "            ymax = int(box.find('./bndbox/ymax').text)\n",
    "            coors = [xmin, ymin, xmax, ymax, name]\n",
    "            boxes.append(coors)\n",
    "            \n",
    "            # I have included this line to skip any un-annotated images\n",
    "            if name=='arandano' or name=='arandano-maduro':\n",
    "                boxes.append(coors)\n",
    "\n",
    "        # extract width and height of the image\n",
    "        width = int(root.find('.//size/width').text)\n",
    "        height = int(root.find('.//size/height').text)\n",
    "        \n",
    "        # return boxes-> list, width-> int and height-> int \n",
    "        return boxes, width, height\n",
    "    \n",
    "    # this function calls on the extract_boxes method and is used to load a mask for each instance in an image\n",
    "    # returns a boolean mask with following dimensions width * height * instances        \n",
    "    def load_mask(self, image_id):\n",
    "        \n",
    "        # info points to the current image_id\n",
    "        info = self.image_info[image_id]\n",
    "        \n",
    "        # we get the annotation path of image_id which is dataset_dir/annots/image_id.xml\n",
    "        path = info['annotation']\n",
    "        \n",
    "        # we call the extract_boxes method(above) to get bndbox from .xml file\n",
    "        boxes, w, h = self.extract_boxes(path)\n",
    "        \n",
    "        # we create len(boxes) number of masks of height 'h' and width 'w'\n",
    "        masks = zeros([h, w, len(boxes)], dtype='uint8')\n",
    "\n",
    "        class_ids = list()\n",
    "        \n",
    "        # we loop over all boxes and generate masks (bndbox mask) and class id for each instance\n",
    "        # masks will have rectange shape as we have used bndboxes for annotations\n",
    "        # for example: if 2.jpg have four objects we will have following masks and class_ids\n",
    "        # 000000000 000000000 000003330 111100000\n",
    "        # 000011100 022200000 000003330 111100000\n",
    "        # 000011100 022200000 000003330 111100000\n",
    "        # 000000000 022200000 000000000 000000000\n",
    "        #    1         2          3         1<- class_ids\n",
    "        for i in range(len(boxes)):\n",
    "            box = boxes[i]\n",
    "            row_s, row_e = box[1], box[3]\n",
    "            col_s, col_e = box[0], box[2]\n",
    "            \n",
    "            # box[4] will have the name of the class for a particular damage\n",
    "            if (box[4] == 'arandano'):\n",
    "                masks[row_s:row_e, col_s:col_e, i] = 1\n",
    "                class_ids.append(self.class_names.index('arandano'))\n",
    "            elif(box[4] == 'arandano-maduro'):\n",
    "                masks[row_s:row_e, col_s:col_e, i] = 2\n",
    "                class_ids.append(self.class_names.index('arandano-maduro')) \n",
    "                \n",
    "        # return masks and class_ids as array\n",
    "        return masks, asarray(class_ids, dtype='int32')\n",
    "    \n",
    "    # this functions takes the image_id and returns the path of the image\n",
    "    def image_reference(self, image_id):\n",
    "        info = self.image_info[image_id]\n",
    "        return info['path']\n",
    "\n",
    "# damage configuration class, you can change values of hyper parameters here\n",
    "class ConfigArandanos(Config):\n",
    "\n",
    "    # nombre de la configuracion\n",
    "    NAME = \"arandano_cfg_test_6_fase_2_\"    \n",
    "    \n",
    "    # clase arandano + clase background + 4 clases\n",
    "    NUM_CLASSES = 1 + 2\n",
    "    \n",
    "    # pasos por epoch y confianza minima    # STEPS_PER_EPOCH = cantidad de lotes/batchs\n",
    "    #STEPS_PER_EPOCH = 73   # por epoch se entrenaran 73 lotes de 4 imagenes, dataset = 292\n",
    "    STEPS_PER_EPOCH = 146\n",
    "    \n",
    "    # tasa de aprendizaje y momentum\n",
    "    LEARNING_RATE=0.001\n",
    "    LEARNING_MOMENTUM = 0.8\n",
    "    \n",
    "    # penalización de regularización\n",
    "    WEIGHT_DECAY = 0.0001\n",
    "    \n",
    "    # el tamaño de la imagen está controlado por este parámetro\n",
    "    IMAGE_MIN_DIM = 512\n",
    "    \n",
    "    # pasos de validación\n",
    "    VALIDATION_STEPS = 50\n",
    "    \n",
    "    # número de regiones de interés generadas por imagen\n",
    "    Train_ROIs_Per_Image = 200\n",
    "    \n",
    "    # escala de anclas RPN y proporciones (ratios) para encontrar la ROI\n",
    "    RPN_ANCHOR_SCALES = (32, 64, 128, 256, 512)    # Longitud del lado del ancla cuadrada, en píxeles \n",
    "    RPN_ANCHOR_RATIOS = [0.5, 1, 1.5]   # Proporciones de anclas por cada celda (ancho/alto). Un valor de 1 representa un ancla cuadrada y 0,5 es un ancla ancha \n",
    "\n",
    "    #DEVICE = \"/cpu:0\"  # /cpu:0 or /gpu:0    \n",
    "    DEVICE = \"/gpu:0\"  # /cpu:0 or /gpu:0\n",
    "\n",
    "    IMAGES_PER_GPU = 2\n",
    "    \n",
    "ConfigArandanos().display()\n"
   ]
  },
  {
   "cell_type": "markdown",
   "metadata": {},
   "source": [
    "### Entrenamiento"
   ]
  },
  {
   "cell_type": "code",
   "execution_count": 4,
   "metadata": {
    "scrolled": true
   },
   "outputs": [
    {
     "name": "stdout",
     "output_type": "stream",
     "text": [
      "/tf/PT_JoseVeloso/Mask_RCNN-master_matterport\n"
     ]
    }
   ],
   "source": [
    "cd /tf/PT_JoseVeloso/Mask_RCNN-master_matterport/"
   ]
  },
  {
   "cell_type": "code",
   "execution_count": 5,
   "metadata": {},
   "outputs": [],
   "source": [
    "#pesos = 'mask_rcnn_coco.h5'\n",
    "#pesos = 'mask_rcnn_damage_cfg_0049.h5'\n",
    "#pesos = 'arandano_cfg_test_5_20220907T0914/mask_rcnn_arandano_cfg_0300.h5'\n",
    "#pesos = 'arandano_cfg_test_5_20220907T0914/mask_rcnn_arandano_cfg_0300.h5'\n",
    "pesos = 'arandano_cfg_test_5_fase_2_20220913T0749/mask_rcnn_arandano_cfg_test_5_fase_2__0300.h5'\n",
    "\n",
    "conjunto_datos = 'customImages/test_6_fase_2'\n"
   ]
  },
  {
   "cell_type": "code",
   "execution_count": 7,
   "metadata": {
    "colab": {
     "base_uri": "https://localhost:8080/"
    },
    "executionInfo": {
     "elapsed": 3787125,
     "status": "ok",
     "timestamp": 1659604139130,
     "user": {
      "displayName": "José Ignacio Veloso Inzunza",
      "userId": "04140603416196179882"
     },
     "user_tz": 240
    },
    "id": "dF77APDH0saM",
    "outputId": "aa2a0330-e201-4b00-b12c-fee7986449cb",
    "scrolled": true
   },
   "outputs": [
    {
     "name": "stdout",
     "output_type": "stream",
     "text": [
      "\n",
      "Starting at epoch 0. LR=0.001\n",
      "\n",
      "Checkpoint Path: ./arandano_cfg_test_6_fase_2_20220915T0216/mask_rcnn_arandano_cfg_test_6_fase_2__{epoch:04d}.h5\n",
      "Selecting layers to train\n",
      "conv1                  (Conv2D)\n",
      "bn_conv1               (BatchNorm)\n",
      "res2a_branch2a         (Conv2D)\n",
      "bn2a_branch2a          (BatchNorm)\n",
      "res2a_branch2b         (Conv2D)\n",
      "bn2a_branch2b          (BatchNorm)\n",
      "res2a_branch2c         (Conv2D)\n",
      "res2a_branch1          (Conv2D)\n",
      "bn2a_branch2c          (BatchNorm)\n",
      "bn2a_branch1           (BatchNorm)\n",
      "res2b_branch2a         (Conv2D)\n",
      "bn2b_branch2a          (BatchNorm)\n",
      "res2b_branch2b         (Conv2D)\n",
      "bn2b_branch2b          (BatchNorm)\n",
      "res2b_branch2c         (Conv2D)\n",
      "bn2b_branch2c          (BatchNorm)\n",
      "res2c_branch2a         (Conv2D)\n",
      "bn2c_branch2a          (BatchNorm)\n",
      "res2c_branch2b         (Conv2D)\n",
      "bn2c_branch2b          (BatchNorm)\n",
      "res2c_branch2c         (Conv2D)\n",
      "bn2c_branch2c          (BatchNorm)\n",
      "res3a_branch2a         (Conv2D)\n",
      "bn3a_branch2a          (BatchNorm)\n",
      "res3a_branch2b         (Conv2D)\n",
      "bn3a_branch2b          (BatchNorm)\n",
      "res3a_branch2c         (Conv2D)\n",
      "res3a_branch1          (Conv2D)\n",
      "bn3a_branch2c          (BatchNorm)\n",
      "bn3a_branch1           (BatchNorm)\n",
      "res3b_branch2a         (Conv2D)\n",
      "bn3b_branch2a          (BatchNorm)\n",
      "res3b_branch2b         (Conv2D)\n",
      "bn3b_branch2b          (BatchNorm)\n",
      "res3b_branch2c         (Conv2D)\n",
      "bn3b_branch2c          (BatchNorm)\n",
      "res3c_branch2a         (Conv2D)\n",
      "bn3c_branch2a          (BatchNorm)\n",
      "res3c_branch2b         (Conv2D)\n",
      "bn3c_branch2b          (BatchNorm)\n",
      "res3c_branch2c         (Conv2D)\n",
      "bn3c_branch2c          (BatchNorm)\n",
      "res3d_branch2a         (Conv2D)\n",
      "bn3d_branch2a          (BatchNorm)\n",
      "res3d_branch2b         (Conv2D)\n",
      "bn3d_branch2b          (BatchNorm)\n",
      "res3d_branch2c         (Conv2D)\n",
      "bn3d_branch2c          (BatchNorm)\n",
      "res4a_branch2a         (Conv2D)\n",
      "bn4a_branch2a          (BatchNorm)\n",
      "res4a_branch2b         (Conv2D)\n",
      "bn4a_branch2b          (BatchNorm)\n",
      "res4a_branch2c         (Conv2D)\n",
      "res4a_branch1          (Conv2D)\n",
      "bn4a_branch2c          (BatchNorm)\n",
      "bn4a_branch1           (BatchNorm)\n",
      "res4b_branch2a         (Conv2D)\n",
      "bn4b_branch2a          (BatchNorm)\n",
      "res4b_branch2b         (Conv2D)\n",
      "bn4b_branch2b          (BatchNorm)\n",
      "res4b_branch2c         (Conv2D)\n",
      "bn4b_branch2c          (BatchNorm)\n",
      "res4c_branch2a         (Conv2D)\n",
      "bn4c_branch2a          (BatchNorm)\n",
      "res4c_branch2b         (Conv2D)\n",
      "bn4c_branch2b          (BatchNorm)\n",
      "res4c_branch2c         (Conv2D)\n",
      "bn4c_branch2c          (BatchNorm)\n",
      "res4d_branch2a         (Conv2D)\n",
      "bn4d_branch2a          (BatchNorm)\n",
      "res4d_branch2b         (Conv2D)\n",
      "bn4d_branch2b          (BatchNorm)\n",
      "res4d_branch2c         (Conv2D)\n",
      "bn4d_branch2c          (BatchNorm)\n",
      "res4e_branch2a         (Conv2D)\n",
      "bn4e_branch2a          (BatchNorm)\n",
      "res4e_branch2b         (Conv2D)\n",
      "bn4e_branch2b          (BatchNorm)\n",
      "res4e_branch2c         (Conv2D)\n",
      "bn4e_branch2c          (BatchNorm)\n",
      "res4f_branch2a         (Conv2D)\n",
      "bn4f_branch2a          (BatchNorm)\n",
      "res4f_branch2b         (Conv2D)\n",
      "bn4f_branch2b          (BatchNorm)\n",
      "res4f_branch2c         (Conv2D)\n",
      "bn4f_branch2c          (BatchNorm)\n",
      "res4g_branch2a         (Conv2D)\n",
      "bn4g_branch2a          (BatchNorm)\n",
      "res4g_branch2b         (Conv2D)\n",
      "bn4g_branch2b          (BatchNorm)\n",
      "res4g_branch2c         (Conv2D)\n",
      "bn4g_branch2c          (BatchNorm)\n",
      "res4h_branch2a         (Conv2D)\n",
      "bn4h_branch2a          (BatchNorm)\n",
      "res4h_branch2b         (Conv2D)\n",
      "bn4h_branch2b          (BatchNorm)\n",
      "res4h_branch2c         (Conv2D)\n",
      "bn4h_branch2c          (BatchNorm)\n",
      "res4i_branch2a         (Conv2D)\n",
      "bn4i_branch2a          (BatchNorm)\n",
      "res4i_branch2b         (Conv2D)\n",
      "bn4i_branch2b          (BatchNorm)\n",
      "res4i_branch2c         (Conv2D)\n",
      "bn4i_branch2c          (BatchNorm)\n",
      "res4j_branch2a         (Conv2D)\n",
      "bn4j_branch2a          (BatchNorm)\n",
      "res4j_branch2b         (Conv2D)\n",
      "bn4j_branch2b          (BatchNorm)\n",
      "res4j_branch2c         (Conv2D)\n",
      "bn4j_branch2c          (BatchNorm)\n",
      "res4k_branch2a         (Conv2D)\n",
      "bn4k_branch2a          (BatchNorm)\n",
      "res4k_branch2b         (Conv2D)\n",
      "bn4k_branch2b          (BatchNorm)\n",
      "res4k_branch2c         (Conv2D)\n",
      "bn4k_branch2c          (BatchNorm)\n",
      "res4l_branch2a         (Conv2D)\n",
      "bn4l_branch2a          (BatchNorm)\n",
      "res4l_branch2b         (Conv2D)\n",
      "bn4l_branch2b          (BatchNorm)\n",
      "res4l_branch2c         (Conv2D)\n",
      "bn4l_branch2c          (BatchNorm)\n",
      "res4m_branch2a         (Conv2D)\n",
      "bn4m_branch2a          (BatchNorm)\n",
      "res4m_branch2b         (Conv2D)\n",
      "bn4m_branch2b          (BatchNorm)\n",
      "res4m_branch2c         (Conv2D)\n",
      "bn4m_branch2c          (BatchNorm)\n",
      "res4n_branch2a         (Conv2D)\n",
      "bn4n_branch2a          (BatchNorm)\n",
      "res4n_branch2b         (Conv2D)\n",
      "bn4n_branch2b          (BatchNorm)\n",
      "res4n_branch2c         (Conv2D)\n",
      "bn4n_branch2c          (BatchNorm)\n",
      "res4o_branch2a         (Conv2D)\n",
      "bn4o_branch2a          (BatchNorm)\n",
      "res4o_branch2b         (Conv2D)\n",
      "bn4o_branch2b          (BatchNorm)\n",
      "res4o_branch2c         (Conv2D)\n",
      "bn4o_branch2c          (BatchNorm)\n",
      "res4p_branch2a         (Conv2D)\n",
      "bn4p_branch2a          (BatchNorm)\n",
      "res4p_branch2b         (Conv2D)\n",
      "bn4p_branch2b          (BatchNorm)\n",
      "res4p_branch2c         (Conv2D)\n",
      "bn4p_branch2c          (BatchNorm)\n",
      "res4q_branch2a         (Conv2D)\n",
      "bn4q_branch2a          (BatchNorm)\n",
      "res4q_branch2b         (Conv2D)\n",
      "bn4q_branch2b          (BatchNorm)\n",
      "res4q_branch2c         (Conv2D)\n",
      "bn4q_branch2c          (BatchNorm)\n",
      "res4r_branch2a         (Conv2D)\n",
      "bn4r_branch2a          (BatchNorm)\n",
      "res4r_branch2b         (Conv2D)\n",
      "bn4r_branch2b          (BatchNorm)\n",
      "res4r_branch2c         (Conv2D)\n",
      "bn4r_branch2c          (BatchNorm)\n",
      "res4s_branch2a         (Conv2D)\n",
      "bn4s_branch2a          (BatchNorm)\n",
      "res4s_branch2b         (Conv2D)\n",
      "bn4s_branch2b          (BatchNorm)\n",
      "res4s_branch2c         (Conv2D)\n",
      "bn4s_branch2c          (BatchNorm)\n",
      "res4t_branch2a         (Conv2D)\n",
      "bn4t_branch2a          (BatchNorm)\n",
      "res4t_branch2b         (Conv2D)\n",
      "bn4t_branch2b          (BatchNorm)\n",
      "res4t_branch2c         (Conv2D)\n",
      "bn4t_branch2c          (BatchNorm)\n",
      "res4u_branch2a         (Conv2D)\n",
      "bn4u_branch2a          (BatchNorm)\n",
      "res4u_branch2b         (Conv2D)\n",
      "bn4u_branch2b          (BatchNorm)\n",
      "res4u_branch2c         (Conv2D)\n",
      "bn4u_branch2c          (BatchNorm)\n",
      "res4v_branch2a         (Conv2D)\n",
      "bn4v_branch2a          (BatchNorm)\n",
      "res4v_branch2b         (Conv2D)\n",
      "bn4v_branch2b          (BatchNorm)\n",
      "res4v_branch2c         (Conv2D)\n",
      "bn4v_branch2c          (BatchNorm)\n",
      "res4w_branch2a         (Conv2D)\n",
      "bn4w_branch2a          (BatchNorm)\n",
      "res4w_branch2b         (Conv2D)\n",
      "bn4w_branch2b          (BatchNorm)\n",
      "res4w_branch2c         (Conv2D)\n",
      "bn4w_branch2c          (BatchNorm)\n",
      "res5a_branch2a         (Conv2D)\n",
      "bn5a_branch2a          (BatchNorm)\n",
      "res5a_branch2b         (Conv2D)\n",
      "bn5a_branch2b          (BatchNorm)\n",
      "res5a_branch2c         (Conv2D)\n",
      "res5a_branch1          (Conv2D)\n",
      "bn5a_branch2c          (BatchNorm)\n",
      "bn5a_branch1           (BatchNorm)\n",
      "res5b_branch2a         (Conv2D)\n",
      "bn5b_branch2a          (BatchNorm)\n",
      "res5b_branch2b         (Conv2D)\n",
      "bn5b_branch2b          (BatchNorm)\n",
      "res5b_branch2c         (Conv2D)\n",
      "bn5b_branch2c          (BatchNorm)\n",
      "res5c_branch2a         (Conv2D)\n",
      "bn5c_branch2a          (BatchNorm)\n",
      "res5c_branch2b         (Conv2D)\n",
      "bn5c_branch2b          (BatchNorm)\n",
      "res5c_branch2c         (Conv2D)\n",
      "bn5c_branch2c          (BatchNorm)\n",
      "fpn_c5p5               (Conv2D)\n",
      "fpn_c4p4               (Conv2D)\n",
      "fpn_c3p3               (Conv2D)\n",
      "fpn_c2p2               (Conv2D)\n",
      "fpn_p5                 (Conv2D)\n",
      "fpn_p2                 (Conv2D)\n",
      "fpn_p3                 (Conv2D)\n",
      "fpn_p4                 (Conv2D)\n",
      "rpn_model              (Functional)\n",
      "anchors                (AnchorsLayer)\n",
      "mrcnn_mask_conv1       (TimeDistributed)\n",
      "mrcnn_mask_bn1         (TimeDistributed)\n",
      "mrcnn_mask_conv2       (TimeDistributed)\n",
      "mrcnn_mask_bn2         (TimeDistributed)\n",
      "mrcnn_class_conv1      (TimeDistributed)\n",
      "mrcnn_class_bn1        (TimeDistributed)\n",
      "mrcnn_mask_conv3       (TimeDistributed)\n",
      "mrcnn_mask_bn3         (TimeDistributed)\n",
      "mrcnn_class_conv2      (TimeDistributed)\n",
      "mrcnn_class_bn2        (TimeDistributed)\n",
      "mrcnn_mask_conv4       (TimeDistributed)\n",
      "mrcnn_mask_bn4         (TimeDistributed)\n",
      "mrcnn_bbox_fc          (TimeDistributed)\n",
      "mrcnn_mask_deconv      (TimeDistributed)\n",
      "mrcnn_class_logits     (TimeDistributed)\n",
      "mrcnn_mask             (TimeDistributed)\n"
     ]
    },
    {
     "name": "stderr",
     "output_type": "stream",
     "text": [
      "/usr/local/lib/python3.8/dist-packages/imgaug/augmenters/base.py:49: SuspiciousSingleImageShapeWarning: You provided a numpy array of shape (1024, 1024, 36) as a single-image augmentation input, which was interpreted as (H, W, C). The last dimension however has a size of >=32, which indicates that you provided a multi-image array with shape (N, H, W) instead. If that is the case, you should use e.g. augmenter(imageS=<your input>) or augment_imageS(<your input>). Otherwise your multi-image input will be interpreted as a single image during augmentation.\n",
      "  ia.warn(\n",
      "/usr/local/lib/python3.8/dist-packages/imgaug/augmenters/base.py:49: SuspiciousSingleImageShapeWarning: You provided a numpy array of shape (1024, 1024, 78) as a single-image augmentation input, which was interpreted as (H, W, C). The last dimension however has a size of >=32, which indicates that you provided a multi-image array with shape (N, H, W) instead. If that is the case, you should use e.g. augmenter(imageS=<your input>) or augment_imageS(<your input>). Otherwise your multi-image input will be interpreted as a single image during augmentation.\n",
      "  ia.warn(\n",
      "/usr/local/lib/python3.8/dist-packages/imgaug/augmenters/base.py:49: SuspiciousSingleImageShapeWarning: You provided a numpy array of shape (1024, 1024, 98) as a single-image augmentation input, which was interpreted as (H, W, C). The last dimension however has a size of >=32, which indicates that you provided a multi-image array with shape (N, H, W) instead. If that is the case, you should use e.g. augmenter(imageS=<your input>) or augment_imageS(<your input>). Otherwise your multi-image input will be interpreted as a single image during augmentation.\n",
      "  ia.warn(\n"
     ]
    },
    {
     "name": "stdout",
     "output_type": "stream",
     "text": [
      "Epoch 1/100\n"
     ]
    },
    {
     "name": "stderr",
     "output_type": "stream",
     "text": [
      "/usr/local/lib/python3.8/dist-packages/imgaug/augmenters/base.py:49: SuspiciousSingleImageShapeWarning: You provided a numpy array of shape (1024, 1024, 44) as a single-image augmentation input, which was interpreted as (H, W, C). The last dimension however has a size of >=32, which indicates that you provided a multi-image array with shape (N, H, W) instead. If that is the case, you should use e.g. augmenter(imageS=<your input>) or augment_imageS(<your input>). Otherwise your multi-image input will be interpreted as a single image during augmentation.\n",
      "  ia.warn(\n",
      "/usr/local/lib/python3.8/dist-packages/tensorflow/python/framework/indexed_slices.py:444: UserWarning: Converting sparse IndexedSlices(IndexedSlices(indices=Tensor(\"training/SGD/gradients/gradients/roi_align_classifier_1/concat_grad/sub:0\", shape=(None,), dtype=int32), values=Tensor(\"training/SGD/gradients/gradients/roi_align_classifier_1/concat_grad/GatherV2_2:0\", shape=(None, 7, 7, 256), dtype=float32), dense_shape=Tensor(\"training/SGD/gradients/gradients/roi_align_classifier_1/concat_grad/Shape:0\", shape=(4,), dtype=int32))) to a dense Tensor of unknown shape. This may consume a large amount of memory.\n",
      "  warnings.warn(\n",
      "/usr/local/lib/python3.8/dist-packages/tensorflow/python/framework/indexed_slices.py:444: UserWarning: Converting sparse IndexedSlices(IndexedSlices(indices=Tensor(\"training/SGD/gradients/gradients/roi_align_classifier_1/concat_grad/sub_1:0\", shape=(None,), dtype=int32), values=Tensor(\"training/SGD/gradients/gradients/roi_align_classifier_1/concat_grad/GatherV2_5:0\", shape=(None, 7, 7, 256), dtype=float32), dense_shape=Tensor(\"training/SGD/gradients/gradients/roi_align_classifier_1/concat_grad/Shape_1:0\", shape=(4,), dtype=int32))) to a dense Tensor of unknown shape. This may consume a large amount of memory.\n",
      "  warnings.warn(\n",
      "/usr/local/lib/python3.8/dist-packages/tensorflow/python/framework/indexed_slices.py:444: UserWarning: Converting sparse IndexedSlices(IndexedSlices(indices=Tensor(\"training/SGD/gradients/gradients/roi_align_classifier_1/concat_grad/sub_2:0\", shape=(None,), dtype=int32), values=Tensor(\"training/SGD/gradients/gradients/roi_align_classifier_1/concat_grad/GatherV2_8:0\", shape=(None, 7, 7, 256), dtype=float32), dense_shape=Tensor(\"training/SGD/gradients/gradients/roi_align_classifier_1/concat_grad/Shape_2:0\", shape=(4,), dtype=int32))) to a dense Tensor of unknown shape. This may consume a large amount of memory.\n",
      "  warnings.warn(\n",
      "/usr/local/lib/python3.8/dist-packages/tensorflow/python/framework/indexed_slices.py:444: UserWarning: Converting sparse IndexedSlices(IndexedSlices(indices=Tensor(\"training/SGD/gradients/gradients/roi_align_classifier_1/concat_grad/sub_3:0\", shape=(None,), dtype=int32), values=Tensor(\"training/SGD/gradients/gradients/roi_align_classifier_1/concat_grad/GatherV2_11:0\", shape=(None, 7, 7, 256), dtype=float32), dense_shape=Tensor(\"training/SGD/gradients/gradients/roi_align_classifier_1/concat_grad/Shape_3:0\", shape=(4,), dtype=int32))) to a dense Tensor of unknown shape. This may consume a large amount of memory.\n",
      "  warnings.warn(\n",
      "/usr/local/lib/python3.8/dist-packages/tensorflow/python/framework/indexed_slices.py:444: UserWarning: Converting sparse IndexedSlices(IndexedSlices(indices=Tensor(\"training/SGD/gradients/gradients/roi_align_mask_1/concat_grad/sub:0\", shape=(None,), dtype=int32), values=Tensor(\"training/SGD/gradients/gradients/roi_align_mask_1/concat_grad/GatherV2_2:0\", shape=(None, 14, 14, 256), dtype=float32), dense_shape=Tensor(\"training/SGD/gradients/gradients/roi_align_mask_1/concat_grad/Shape:0\", shape=(4,), dtype=int32))) to a dense Tensor of unknown shape. This may consume a large amount of memory.\n",
      "  warnings.warn(\n",
      "/usr/local/lib/python3.8/dist-packages/tensorflow/python/framework/indexed_slices.py:444: UserWarning: Converting sparse IndexedSlices(IndexedSlices(indices=Tensor(\"training/SGD/gradients/gradients/roi_align_mask_1/concat_grad/sub_1:0\", shape=(None,), dtype=int32), values=Tensor(\"training/SGD/gradients/gradients/roi_align_mask_1/concat_grad/GatherV2_5:0\", shape=(None, 14, 14, 256), dtype=float32), dense_shape=Tensor(\"training/SGD/gradients/gradients/roi_align_mask_1/concat_grad/Shape_1:0\", shape=(4,), dtype=int32))) to a dense Tensor of unknown shape. This may consume a large amount of memory.\n",
      "  warnings.warn(\n",
      "/usr/local/lib/python3.8/dist-packages/tensorflow/python/framework/indexed_slices.py:444: UserWarning: Converting sparse IndexedSlices(IndexedSlices(indices=Tensor(\"training/SGD/gradients/gradients/roi_align_mask_1/concat_grad/sub_2:0\", shape=(None,), dtype=int32), values=Tensor(\"training/SGD/gradients/gradients/roi_align_mask_1/concat_grad/GatherV2_8:0\", shape=(None, 14, 14, 256), dtype=float32), dense_shape=Tensor(\"training/SGD/gradients/gradients/roi_align_mask_1/concat_grad/Shape_2:0\", shape=(4,), dtype=int32))) to a dense Tensor of unknown shape. This may consume a large amount of memory.\n",
      "  warnings.warn(\n",
      "/usr/local/lib/python3.8/dist-packages/tensorflow/python/framework/indexed_slices.py:444: UserWarning: Converting sparse IndexedSlices(IndexedSlices(indices=Tensor(\"training/SGD/gradients/gradients/roi_align_mask_1/concat_grad/sub_3:0\", shape=(None,), dtype=int32), values=Tensor(\"training/SGD/gradients/gradients/roi_align_mask_1/concat_grad/GatherV2_11:0\", shape=(None, 14, 14, 256), dtype=float32), dense_shape=Tensor(\"training/SGD/gradients/gradients/roi_align_mask_1/concat_grad/Shape_3:0\", shape=(4,), dtype=int32))) to a dense Tensor of unknown shape. This may consume a large amount of memory.\n",
      "  warnings.warn(\n",
      "/usr/local/lib/python3.8/dist-packages/tensorflow/python/framework/indexed_slices.py:444: UserWarning: Converting sparse IndexedSlices(IndexedSlices(indices=Tensor(\"training/SGD/gradients/gradients/ROI_1/GatherV2_2_grad/Reshape_1:0\", shape=(6000,), dtype=int32), values=Tensor(\"training/SGD/gradients/gradients/ROI_1/GatherV2_2_grad/Reshape:0\", shape=(6000, 4), dtype=float32), dense_shape=Tensor(\"training/SGD/gradients/gradients/ROI_1/GatherV2_2_grad/Cast:0\", shape=(2,), dtype=int32, device=/device:GPU:0))) to a dense Tensor of unknown shape. This may consume a large amount of memory.\n",
      "  warnings.warn(\n",
      "/usr/local/lib/python3.8/dist-packages/tensorflow/python/framework/indexed_slices.py:444: UserWarning: Converting sparse IndexedSlices(IndexedSlices(indices=Tensor(\"training/SGD/gradients/gradients/ROI_1/GatherV2_3_grad/Reshape_1:0\", shape=(6000,), dtype=int32), values=Tensor(\"training/SGD/gradients/gradients/ROI_1/GatherV2_3_grad/Reshape:0\", shape=(6000, 4), dtype=float32), dense_shape=Tensor(\"training/SGD/gradients/gradients/ROI_1/GatherV2_3_grad/Cast:0\", shape=(2,), dtype=int32, device=/device:GPU:0))) to a dense Tensor of unknown shape. This may consume a large amount of memory.\n",
      "  warnings.warn(\n",
      "/usr/local/lib/python3.8/dist-packages/imgaug/augmenters/base.py:49: SuspiciousSingleImageShapeWarning: You provided a numpy array of shape (1024, 1024, 64) as a single-image augmentation input, which was interpreted as (H, W, C). The last dimension however has a size of >=32, which indicates that you provided a multi-image array with shape (N, H, W) instead. If that is the case, you should use e.g. augmenter(imageS=<your input>) or augment_imageS(<your input>). Otherwise your multi-image input will be interpreted as a single image during augmentation.\n",
      "  ia.warn(\n",
      "/usr/local/lib/python3.8/dist-packages/imgaug/augmenters/base.py:49: SuspiciousSingleImageShapeWarning: You provided a numpy array of shape (1024, 1024, 32) as a single-image augmentation input, which was interpreted as (H, W, C). The last dimension however has a size of >=32, which indicates that you provided a multi-image array with shape (N, H, W) instead. If that is the case, you should use e.g. augmenter(imageS=<your input>) or augment_imageS(<your input>). Otherwise your multi-image input will be interpreted as a single image during augmentation.\n",
      "  ia.warn(\n",
      "/usr/local/lib/python3.8/dist-packages/imgaug/augmenters/base.py:49: SuspiciousSingleImageShapeWarning: You provided a numpy array of shape (1024, 1024, 42) as a single-image augmentation input, which was interpreted as (H, W, C). The last dimension however has a size of >=32, which indicates that you provided a multi-image array with shape (N, H, W) instead. If that is the case, you should use e.g. augmenter(imageS=<your input>) or augment_imageS(<your input>). Otherwise your multi-image input will be interpreted as a single image during augmentation.\n",
      "  ia.warn(\n"
     ]
    },
    {
     "name": "stderr",
     "output_type": "stream",
     "text": [
      "/usr/local/lib/python3.8/dist-packages/imgaug/augmenters/base.py:49: SuspiciousSingleImageShapeWarning: You provided a numpy array of shape (1024, 1024, 52) as a single-image augmentation input, which was interpreted as (H, W, C). The last dimension however has a size of >=32, which indicates that you provided a multi-image array with shape (N, H, W) instead. If that is the case, you should use e.g. augmenter(imageS=<your input>) or augment_imageS(<your input>). Otherwise your multi-image input will be interpreted as a single image during augmentation.\n",
      "  ia.warn(\n",
      "/usr/local/lib/python3.8/dist-packages/imgaug/augmenters/base.py:49: SuspiciousSingleImageShapeWarning: You provided a numpy array of shape (1024, 1024, 78) as a single-image augmentation input, which was interpreted as (H, W, C). The last dimension however has a size of >=32, which indicates that you provided a multi-image array with shape (N, H, W) instead. If that is the case, you should use e.g. augmenter(imageS=<your input>) or augment_imageS(<your input>). Otherwise your multi-image input will be interpreted as a single image during augmentation.\n",
      "  ia.warn(\n",
      "/usr/local/lib/python3.8/dist-packages/imgaug/augmenters/base.py:49: SuspiciousSingleImageShapeWarning: You provided a numpy array of shape (1024, 1024, 64) as a single-image augmentation input, which was interpreted as (H, W, C). The last dimension however has a size of >=32, which indicates that you provided a multi-image array with shape (N, H, W) instead. If that is the case, you should use e.g. augmenter(imageS=<your input>) or augment_imageS(<your input>). Otherwise your multi-image input will be interpreted as a single image during augmentation.\n",
      "  ia.warn(\n",
      "/usr/local/lib/python3.8/dist-packages/imgaug/augmenters/base.py:49: SuspiciousSingleImageShapeWarning: You provided a numpy array of shape (1024, 1024, 46) as a single-image augmentation input, which was interpreted as (H, W, C). The last dimension however has a size of >=32, which indicates that you provided a multi-image array with shape (N, H, W) instead. If that is the case, you should use e.g. augmenter(imageS=<your input>) or augment_imageS(<your input>). Otherwise your multi-image input will be interpreted as a single image during augmentation.\n",
      "  ia.warn(\n",
      "/usr/local/lib/python3.8/dist-packages/imgaug/augmenters/base.py:49: SuspiciousSingleImageShapeWarning: You provided a numpy array of shape (1024, 1024, 78) as a single-image augmentation input, which was interpreted as (H, W, C). The last dimension however has a size of >=32, which indicates that you provided a multi-image array with shape (N, H, W) instead. If that is the case, you should use e.g. augmenter(imageS=<your input>) or augment_imageS(<your input>). Otherwise your multi-image input will be interpreted as a single image during augmentation.\n",
      "  ia.warn(\n",
      "/usr/local/lib/python3.8/dist-packages/imgaug/augmenters/base.py:49: SuspiciousSingleImageShapeWarning: You provided a numpy array of shape (1024, 1024, 32) as a single-image augmentation input, which was interpreted as (H, W, C). The last dimension however has a size of >=32, which indicates that you provided a multi-image array with shape (N, H, W) instead. If that is the case, you should use e.g. augmenter(imageS=<your input>) or augment_imageS(<your input>). Otherwise your multi-image input will be interpreted as a single image during augmentation.\n",
      "  ia.warn(\n",
      "/usr/local/lib/python3.8/dist-packages/imgaug/augmenters/base.py:49: SuspiciousSingleImageShapeWarning: You provided a numpy array of shape (1024, 1024, 44) as a single-image augmentation input, which was interpreted as (H, W, C). The last dimension however has a size of >=32, which indicates that you provided a multi-image array with shape (N, H, W) instead. If that is the case, you should use e.g. augmenter(imageS=<your input>) or augment_imageS(<your input>). Otherwise your multi-image input will be interpreted as a single image during augmentation.\n",
      "  ia.warn(\n",
      "/usr/local/lib/python3.8/dist-packages/imgaug/augmenters/base.py:49: SuspiciousSingleImageShapeWarning: You provided a numpy array of shape (1024, 1024, 36) as a single-image augmentation input, which was interpreted as (H, W, C). The last dimension however has a size of >=32, which indicates that you provided a multi-image array with shape (N, H, W) instead. If that is the case, you should use e.g. augmenter(imageS=<your input>) or augment_imageS(<your input>). Otherwise your multi-image input will be interpreted as a single image during augmentation.\n",
      "  ia.warn(\n",
      "/usr/local/lib/python3.8/dist-packages/imgaug/augmenters/base.py:49: SuspiciousSingleImageShapeWarning: You provided a numpy array of shape (1024, 1024, 40) as a single-image augmentation input, which was interpreted as (H, W, C). The last dimension however has a size of >=32, which indicates that you provided a multi-image array with shape (N, H, W) instead. If that is the case, you should use e.g. augmenter(imageS=<your input>) or augment_imageS(<your input>). Otherwise your multi-image input will be interpreted as a single image during augmentation.\n",
      "  ia.warn(\n",
      "/usr/local/lib/python3.8/dist-packages/imgaug/augmenters/base.py:49: SuspiciousSingleImageShapeWarning: You provided a numpy array of shape (1024, 1024, 38) as a single-image augmentation input, which was interpreted as (H, W, C). The last dimension however has a size of >=32, which indicates that you provided a multi-image array with shape (N, H, W) instead. If that is the case, you should use e.g. augmenter(imageS=<your input>) or augment_imageS(<your input>). Otherwise your multi-image input will be interpreted as a single image during augmentation.\n",
      "  ia.warn(\n",
      "/usr/local/lib/python3.8/dist-packages/imgaug/augmenters/base.py:49: SuspiciousSingleImageShapeWarning: You provided a numpy array of shape (1024, 1024, 64) as a single-image augmentation input, which was interpreted as (H, W, C). The last dimension however has a size of >=32, which indicates that you provided a multi-image array with shape (N, H, W) instead. If that is the case, you should use e.g. augmenter(imageS=<your input>) or augment_imageS(<your input>). Otherwise your multi-image input will be interpreted as a single image during augmentation.\n",
      "  ia.warn(\n"
     ]
    },
    {
     "name": "stdout",
     "output_type": "stream",
     "text": [
      "\r\n",
      "  1/146 [..............................] - ETA: 1:04:50 - batch: 0.0000e+00 - size: 2.0000 - loss: 58.6550 - rpn_class_loss: 20.2817 - rpn_bbox_loss: 20.7105 - mrcnn_class_loss: 17.6627 - mrcnn_bbox_loss: 0.0000e+00 - mrcnn_mask_loss: 0.0000e+00"
     ]
    },
    {
     "name": "stderr",
     "output_type": "stream",
     "text": [
      "/usr/local/lib/python3.8/dist-packages/imgaug/augmenters/base.py:49: SuspiciousSingleImageShapeWarning: You provided a numpy array of shape (1024, 1024, 46) as a single-image augmentation input, which was interpreted as (H, W, C). The last dimension however has a size of >=32, which indicates that you provided a multi-image array with shape (N, H, W) instead. If that is the case, you should use e.g. augmenter(imageS=<your input>) or augment_imageS(<your input>). Otherwise your multi-image input will be interpreted as a single image during augmentation.\n",
      "  ia.warn(\n",
      "/usr/local/lib/python3.8/dist-packages/imgaug/augmenters/base.py:49: SuspiciousSingleImageShapeWarning: You provided a numpy array of shape (1024, 1024, 64) as a single-image augmentation input, which was interpreted as (H, W, C). The last dimension however has a size of >=32, which indicates that you provided a multi-image array with shape (N, H, W) instead. If that is the case, you should use e.g. augmenter(imageS=<your input>) or augment_imageS(<your input>). Otherwise your multi-image input will be interpreted as a single image during augmentation.\n",
      "  ia.warn(\n"
     ]
    },
    {
     "name": "stdout",
     "output_type": "stream",
     "text": [
      "  4/146 [..............................] - ETA: 3:08 - batch: 1.5000 - size: 2.0000 - loss: 27.4234 - rpn_class_loss: 9.3855 - rpn_bbox_loss: 13.6158 - mrcnn_class_loss: 4.4221 - mrcnn_bbox_loss: 0.0000e+00 - mrcnn_mask_loss: 0.0000e+00       "
     ]
    },
    {
     "name": "stderr",
     "output_type": "stream",
     "text": [
      "/usr/local/lib/python3.8/dist-packages/imgaug/augmenters/base.py:49: SuspiciousSingleImageShapeWarning: You provided a numpy array of shape (1024, 1024, 98) as a single-image augmentation input, which was interpreted as (H, W, C). The last dimension however has a size of >=32, which indicates that you provided a multi-image array with shape (N, H, W) instead. If that is the case, you should use e.g. augmenter(imageS=<your input>) or augment_imageS(<your input>). Otherwise your multi-image input will be interpreted as a single image during augmentation.\n",
      "  ia.warn(\n"
     ]
    },
    {
     "name": "stdout",
     "output_type": "stream",
     "text": [
      "  7/146 [>.............................] - ETA: 2:29 - batch: 3.0000 - size: 2.0000 - loss: 18.9241 - rpn_class_loss: 6.3381 - rpn_bbox_loss: 9.5562 - mrcnn_class_loss: 2.5407 - mrcnn_bbox_loss: 0.3525 - mrcnn_mask_loss: 0.1366         "
     ]
    },
    {
     "name": "stderr",
     "output_type": "stream",
     "text": [
      "/usr/local/lib/python3.8/dist-packages/imgaug/augmenters/base.py:49: SuspiciousSingleImageShapeWarning: You provided a numpy array of shape (1024, 1024, 52) as a single-image augmentation input, which was interpreted as (H, W, C). The last dimension however has a size of >=32, which indicates that you provided a multi-image array with shape (N, H, W) instead. If that is the case, you should use e.g. augmenter(imageS=<your input>) or augment_imageS(<your input>). Otherwise your multi-image input will be interpreted as a single image during augmentation.\n",
      "  ia.warn(\n"
     ]
    },
    {
     "name": "stdout",
     "output_type": "stream",
     "text": [
      "\b\b\b\b\b\b\b\b\b\b\b\b\b\b\b\b\b\b\b\b\b\b\b\b\b\b\b\b\b\b\b\b\b\b\b\b\b\b\b\b\b\b\b\b\b\b\b\b\b\b\b\b\b\b\b\b\b\b\b\b\b\b\b\b\b\b\b\b\b\b\b\b\b\b\b\b\b\b\b\b\b\b\b\b\b\b\b\b\b\b\b\b\b\b\b\b\b\b\b\b\b\b\b\b\b\b\b\b\b\b\b\b\b\b\b\b\b\b\b\b\b\b\b\b\b\b\b\b\b\b\b\b\b\b\b\b\b\b\b\b\b\b\b\b\b\b\b\b\b\b\b\b\b\b\b\b\b\b\b\b\b\b\b\b\b\b\b\b\b\b\b\b\b\b\b\b\b\b\b\b\b\b\b\b\b\b\b\b\b\b\b\b\b\b\b\b\b\b\b\b\b\b\b\b\b\b\b\b\b\b\b\b\b\b\b\b\b\b\b\b\b\b\b\b\b\b\b\r\n",
      "  8/146 [>.............................] - ETA: 2:23 - batch: 3.5000 - size: 2.0000 - loss: 18.6991 - rpn_class_loss: 6.4539 - rpn_bbox_loss: 8.9643 - mrcnn_class_loss: 2.2297 - mrcnn_bbox_loss: 0.8448 - mrcnn_mask_loss: 0.2064"
     ]
    },
    {
     "name": "stderr",
     "output_type": "stream",
     "text": [
      "/usr/local/lib/python3.8/dist-packages/imgaug/augmenters/base.py:49: SuspiciousSingleImageShapeWarning: You provided a numpy array of shape (1024, 1024, 36) as a single-image augmentation input, which was interpreted as (H, W, C). The last dimension however has a size of >=32, which indicates that you provided a multi-image array with shape (N, H, W) instead. If that is the case, you should use e.g. augmenter(imageS=<your input>) or augment_imageS(<your input>). Otherwise your multi-image input will be interpreted as a single image during augmentation.\n",
      "  ia.warn(\n"
     ]
    },
    {
     "name": "stdout",
     "output_type": "stream",
     "text": [
      " 10/146 [=>............................] - ETA: 2:14 - batch: 4.5000 - size: 2.0000 - loss: 16.9792 - rpn_class_loss: 5.6637 - rpn_bbox_loss: 8.4793 - mrcnn_class_loss: 1.7871 - mrcnn_bbox_loss: 0.7959 - mrcnn_mask_loss: 0.2532"
     ]
    },
    {
     "name": "stderr",
     "output_type": "stream",
     "text": [
      "/usr/local/lib/python3.8/dist-packages/imgaug/augmenters/base.py:49: SuspiciousSingleImageShapeWarning: You provided a numpy array of shape (1024, 1024, 64) as a single-image augmentation input, which was interpreted as (H, W, C). The last dimension however has a size of >=32, which indicates that you provided a multi-image array with shape (N, H, W) instead. If that is the case, you should use e.g. augmenter(imageS=<your input>) or augment_imageS(<your input>). Otherwise your multi-image input will be interpreted as a single image during augmentation.\n",
      "  ia.warn(\n"
     ]
    },
    {
     "name": "stdout",
     "output_type": "stream",
     "text": [
      "\b\b\b\b\b\b\b\b\b\b\b\b\b\b\b\b\b\b\b\b\b\b\b\b\b\b\b\b\b\b\b\b\b\b\b\b\b\b\b\b\b\b\b\b\b\b\b\b\b\b\b\b\b\b\b\b\b\b\b\b\b\b\b\b\b\b\b\b\b\b\b\b\b\b\b\b\b\b\b\b\b\b\b\b\b\b\b\b\b\b\b\b\b\b\b\b\b\b\b\b\b\b\b\b\b\b\b\b\b\b\b\b\b\b\b\b\b\b\b\b\b\b\b\b\b\b\b\b\b\b\b\b\b\b\b\b\b\b\b\b\b\b\b\b\b\b\b\b\b\b\b\b\b\b\b\b\b\b\b\b\b\b\b\b\b\b\b\b\b\b\b\b\b\b\b\b\b\b\b\b\b\b\b\b\b\b\b\b\b\b\b\b\b\b\b\b\b\b\b\b\b\b\b\b\b\b\b\b\b\b\b\b\b\b\b\b\b\b\b\b\b\b\b\b\b\b\b\r\n",
      " 11/146 [=>............................] - ETA: 2:10 - batch: 5.0000 - size: 2.0000 - loss: 16.1173 - rpn_class_loss: 5.2162 - rpn_bbox_loss: 8.0598 - mrcnn_class_loss: 1.6320 - mrcnn_bbox_loss: 0.9217 - mrcnn_mask_loss: 0.2875"
     ]
    },
    {
     "name": "stderr",
     "output_type": "stream",
     "text": [
      "/usr/local/lib/python3.8/dist-packages/imgaug/augmenters/base.py:49: SuspiciousSingleImageShapeWarning: You provided a numpy array of shape (1024, 1024, 34) as a single-image augmentation input, which was interpreted as (H, W, C). The last dimension however has a size of >=32, which indicates that you provided a multi-image array with shape (N, H, W) instead. If that is the case, you should use e.g. augmenter(imageS=<your input>) or augment_imageS(<your input>). Otherwise your multi-image input will be interpreted as a single image during augmentation.\n",
      "  ia.warn(\n"
     ]
    },
    {
     "name": "stdout",
     "output_type": "stream",
     "text": [
      "\b\b\b\b\b\b\b\b\b\b\b\b\b\b\b\b\b\b\b\b\b\b\b\b\b\b\b\b\b\b\b\b\b\b\b\b\b\b\b\b\b\b\b\b\b\b\b\b\b\b\b\b\b\b\b\b\b\b\b\b\b\b\b\b\b\b\b\b\b\b\b\b\b\b\b\b\b\b\b\b\b\b\b\b\b\b\b\b\b\b\b\b\b\b\b\b\b\b\b\b\b\b\b\b\b\b\b\b\b\b\b\b\b\b\b\b\b\b\b\b\b\b\b\b\b\b\b\b\b\b\b\b\b\b\b\b\b\b\b\b\b\b\b\b\b\b\b\b\b\b\b\b\b\b\b\b\b\b\b\b\b\b\b\b\b\b\b\b\b\b\b\b\b\b\b\b\b\b\b\b\b\b\b\b\b\b\b\b\b\b\b\b\b\b\b\b\b\b\b\b\b\b\b\b\b\b\b\b\b\b\b\b\b\b\b\b\b\b\b\b\b\b\b\b\b\b\b\r\n",
      " 12/146 [=>............................] - ETA: 2:07 - batch: 5.5000 - size: 2.0000 - loss: 15.2411 - rpn_class_loss: 4.8250 - rpn_bbox_loss: 7.5689 - mrcnn_class_loss: 1.5369 - mrcnn_bbox_loss: 0.9980 - mrcnn_mask_loss: 0.3122"
     ]
    },
    {
     "name": "stderr",
     "output_type": "stream",
     "text": [
      "/usr/local/lib/python3.8/dist-packages/imgaug/augmenters/base.py:49: SuspiciousSingleImageShapeWarning: You provided a numpy array of shape (1024, 1024, 36) as a single-image augmentation input, which was interpreted as (H, W, C). The last dimension however has a size of >=32, which indicates that you provided a multi-image array with shape (N, H, W) instead. If that is the case, you should use e.g. augmenter(imageS=<your input>) or augment_imageS(<your input>). Otherwise your multi-image input will be interpreted as a single image during augmentation.\n",
      "  ia.warn(\n"
     ]
    },
    {
     "name": "stdout",
     "output_type": "stream",
     "text": [
      "\b\b\b\b\b\b\b\b\b\b\b\b\b\b\b\b\b\b\b\b\b\b\b\b\b\b\b\b\b\b\b\b\b\b\b\b\b\b\b\b\b\b\b\b\b\b\b\b\b\b\b\b\b\b\b\b\b\b\b\b\b\b\b\b\b\b\b\b\b\b\b\b\b\b\b\b\b\b\b\b\b\b\b\b\b\b\b\b\b\b\b\b\b\b\b\b\b\b\b\b\b\b\b\b\b\b\b\b\b\b\b\b\b\b\b\b\b\b\b\b\b\b\b\b\b\b\b\b\b\b\b\b\b\b\b\b\b\b\b\b\b\b\b\b\b\b\b\b\b\b\b\b\b\b\b\b\b\b\b\b\b\b\b\b\b\b\b\b\b\b\b\b\b\b\b\b\b\b\b\b\b\b\b\b\b\b\b\b\b\b\b\b\b\b\b\b\b\b\b\b\b\b\b\b\b\b\b\b\b\b\b\b\b\b\b\b\b\b\b\b\b\b\b\b\b\b\b\r\n",
      " 13/146 [=>............................] - ETA: 2:05 - batch: 6.0000 - size: 2.0000 - loss: 14.4580 - rpn_class_loss: 4.4803 - rpn_bbox_loss: 7.2252 - mrcnn_class_loss: 1.4212 - mrcnn_bbox_loss: 0.9950 - mrcnn_mask_loss: 0.3364"
     ]
    },
    {
     "name": "stderr",
     "output_type": "stream",
     "text": [
      "/usr/local/lib/python3.8/dist-packages/imgaug/augmenters/base.py:49: SuspiciousSingleImageShapeWarning: You provided a numpy array of shape (1024, 1024, 32) as a single-image augmentation input, which was interpreted as (H, W, C). The last dimension however has a size of >=32, which indicates that you provided a multi-image array with shape (N, H, W) instead. If that is the case, you should use e.g. augmenter(imageS=<your input>) or augment_imageS(<your input>). Otherwise your multi-image input will be interpreted as a single image during augmentation.\n",
      "  ia.warn(\n"
     ]
    },
    {
     "name": "stdout",
     "output_type": "stream",
     "text": [
      " 17/146 [==>...........................] - ETA: 1:57 - batch: 8.0000 - size: 2.0000 - loss: 12.3647 - rpn_class_loss: 3.7311 - rpn_bbox_loss: 6.1666 - mrcnn_class_loss: 1.0940 - mrcnn_bbox_loss: 1.0569 - mrcnn_mask_loss: 0.3161"
     ]
    },
    {
     "name": "stderr",
     "output_type": "stream",
     "text": [
      "/usr/local/lib/python3.8/dist-packages/imgaug/augmenters/base.py:49: SuspiciousSingleImageShapeWarning: You provided a numpy array of shape (1024, 1024, 114) as a single-image augmentation input, which was interpreted as (H, W, C). The last dimension however has a size of >=32, which indicates that you provided a multi-image array with shape (N, H, W) instead. If that is the case, you should use e.g. augmenter(imageS=<your input>) or augment_imageS(<your input>). Otherwise your multi-image input will be interpreted as a single image during augmentation.\n",
      "  ia.warn(\n"
     ]
    },
    {
     "name": "stdout",
     "output_type": "stream",
     "text": [
      " 21/146 [===>..........................] - ETA: 1:51 - batch: 10.0000 - size: 2.0000 - loss: 10.7891 - rpn_class_loss: 3.1353 - rpn_bbox_loss: 5.3119 - mrcnn_class_loss: 0.9119 - mrcnn_bbox_loss: 1.0704 - mrcnn_mask_loss: 0.3596"
     ]
    },
    {
     "name": "stderr",
     "output_type": "stream",
     "text": [
      "/usr/local/lib/python3.8/dist-packages/imgaug/augmenters/base.py:49: SuspiciousSingleImageShapeWarning: You provided a numpy array of shape (1024, 1024, 58) as a single-image augmentation input, which was interpreted as (H, W, C). The last dimension however has a size of >=32, which indicates that you provided a multi-image array with shape (N, H, W) instead. If that is the case, you should use e.g. augmenter(imageS=<your input>) or augment_imageS(<your input>). Otherwise your multi-image input will be interpreted as a single image during augmentation.\n",
      "  ia.warn(\n"
     ]
    },
    {
     "name": "stdout",
     "output_type": "stream",
     "text": [
      " 23/146 [===>..........................] - ETA: 1:51 - batch: 11.0000 - size: 2.0000 - loss: 10.2622 - rpn_class_loss: 2.9439 - rpn_bbox_loss: 5.0175 - mrcnn_class_loss: 0.8381 - mrcnn_bbox_loss: 1.0822 - mrcnn_mask_loss: 0.3804"
     ]
    },
    {
     "name": "stderr",
     "output_type": "stream",
     "text": [
      "/usr/local/lib/python3.8/dist-packages/imgaug/augmenters/base.py:49: SuspiciousSingleImageShapeWarning: You provided a numpy array of shape (1024, 1024, 64) as a single-image augmentation input, which was interpreted as (H, W, C). The last dimension however has a size of >=32, which indicates that you provided a multi-image array with shape (N, H, W) instead. If that is the case, you should use e.g. augmenter(imageS=<your input>) or augment_imageS(<your input>). Otherwise your multi-image input will be interpreted as a single image during augmentation.\n",
      "  ia.warn(\n"
     ]
    },
    {
     "name": "stdout",
     "output_type": "stream",
     "text": [
      "\b\b\b\b\b\b\b\b\b\b\b\b\b\b\b\b\b\b\b\b\b\b\b\b\b\b\b\b\b\b\b\b\b\b\b\b\b\b\b\b\b\b\b\b\b\b\b\b\b\b\b\b\b\b\b\b\b\b\b\b\b\b\b\b\b\b\b\b\b\b\b\b\b\b\b\b\b\b\b\b\b\b\b\b\b\b\b\b\b\b\b\b\b\b\b\b\b\b\b\b\b\b\b\b\b\b\b\b\b\b\b\b\b\b\b\b\b\b\b\b\b\b\b\b\b\b\b\b\b\b\b\b\b\b\b\b\b\b\b\b\b\b\b\b\b\b\b\b\b\b\b\b\b\b\b\b\b\b\b\b\b\b\b\b\b\b\b\b\b\b\b\b\b\b\b\b\b\b\b\b\b\b\b\b\b\b\b\b\b\b\b\b\b\b\b\b\b\b\b\b\b\b\b\b\b\b\b\b\b\b\b\b\b\b\b\b\b\b\b\b\b\b\b\b\b\b\b\b\r\n",
      " 24/146 [===>..........................] - ETA: 1:57 - batch: 11.5000 - size: 2.0000 - loss: 10.0193 - rpn_class_loss: 2.8555 - rpn_bbox_loss: 4.8805 - mrcnn_class_loss: 0.8075 - mrcnn_bbox_loss: 1.0872 - mrcnn_mask_loss: 0.3887"
     ]
    },
    {
     "name": "stderr",
     "output_type": "stream",
     "text": [
      "/usr/local/lib/python3.8/dist-packages/imgaug/augmenters/base.py:49: SuspiciousSingleImageShapeWarning: You provided a numpy array of shape (1024, 1024, 38) as a single-image augmentation input, which was interpreted as (H, W, C). The last dimension however has a size of >=32, which indicates that you provided a multi-image array with shape (N, H, W) instead. If that is the case, you should use e.g. augmenter(imageS=<your input>) or augment_imageS(<your input>). Otherwise your multi-image input will be interpreted as a single image during augmentation.\n",
      "  ia.warn(\n",
      "/usr/local/lib/python3.8/dist-packages/imgaug/augmenters/base.py:49: SuspiciousSingleImageShapeWarning: You provided a numpy array of shape (1024, 1024, 40) as a single-image augmentation input, which was interpreted as (H, W, C). The last dimension however has a size of >=32, which indicates that you provided a multi-image array with shape (N, H, W) instead. If that is the case, you should use e.g. augmenter(imageS=<your input>) or augment_imageS(<your input>). Otherwise your multi-image input will be interpreted as a single image during augmentation.\n",
      "  ia.warn(\n"
     ]
    },
    {
     "name": "stdout",
     "output_type": "stream",
     "text": [
      " 26/146 [====>.........................] - ETA: 1:59 - batch: 12.5000 - size: 2.0000 - loss: 9.5454 - rpn_class_loss: 2.6756 - rpn_bbox_loss: 4.6247 - mrcnn_class_loss: 0.7539 - mrcnn_bbox_loss: 1.0882 - mrcnn_mask_loss: 0.4030"
     ]
    },
    {
     "name": "stderr",
     "output_type": "stream",
     "text": [
      "/usr/local/lib/python3.8/dist-packages/imgaug/augmenters/base.py:49: SuspiciousSingleImageShapeWarning: You provided a numpy array of shape (1024, 1024, 36) as a single-image augmentation input, which was interpreted as (H, W, C). The last dimension however has a size of >=32, which indicates that you provided a multi-image array with shape (N, H, W) instead. If that is the case, you should use e.g. augmenter(imageS=<your input>) or augment_imageS(<your input>). Otherwise your multi-image input will be interpreted as a single image during augmentation.\n",
      "  ia.warn(\n"
     ]
    },
    {
     "name": "stdout",
     "output_type": "stream",
     "text": [
      "\b\b\b\b\b\b\b\b\b\b\b\b\b\b\b\b\b\b\b\b\b\b\b\b\b\b\b\b\b\b\b\b\b\b\b\b\b\b\b\b\b\b\b\b\b\b\b\b\b\b\b\b\b\b\b\b\b\b\b\b\b\b\b\b\b\b\b\b\b\b\b\b\b\b\b\b\b\b\b\b\b\b\b\b\b\b\b\b\b\b\b\b\b\b\b\b\b\b\b\b\b\b\b\b\b\b\b\b\b\b\b\b\b\b\b\b\b\b\b\b\b\b\b\b\b\b\b\b\b\b\b\b\b\b\b\b\b\b\b\b\b\b\b\b\b\b\b\b\b\b\b\b\b\b\b\b\b\b\b\b\b\b\b\b\b\b\b\b\b\b\b\b\b\b\b\b\b\b\b\b\b\b\b\b\b\b\b\b\b\b\b\b\b\b\b\b\b\b\b\b\b\b\b\b\b\b\b\b\b\b\b\b\b\b\b\b\b\b\b\b\b\b\b\b\b\b\b\r\n",
      " 27/146 [====>.........................] - ETA: 2:00 - batch: 13.0000 - size: 2.0000 - loss: 9.3161 - rpn_class_loss: 2.5967 - rpn_bbox_loss: 4.4947 - mrcnn_class_loss: 0.7399 - mrcnn_bbox_loss: 1.0746 - mrcnn_mask_loss: 0.4103"
     ]
    },
    {
     "name": "stderr",
     "output_type": "stream",
     "text": [
      "/usr/local/lib/python3.8/dist-packages/imgaug/augmenters/base.py:49: SuspiciousSingleImageShapeWarning: You provided a numpy array of shape (1024, 1024, 40) as a single-image augmentation input, which was interpreted as (H, W, C). The last dimension however has a size of >=32, which indicates that you provided a multi-image array with shape (N, H, W) instead. If that is the case, you should use e.g. augmenter(imageS=<your input>) or augment_imageS(<your input>). Otherwise your multi-image input will be interpreted as a single image during augmentation.\n",
      "  ia.warn(\n",
      "/usr/local/lib/python3.8/dist-packages/imgaug/augmenters/base.py:49: SuspiciousSingleImageShapeWarning: You provided a numpy array of shape (1024, 1024, 52) as a single-image augmentation input, which was interpreted as (H, W, C). The last dimension however has a size of >=32, which indicates that you provided a multi-image array with shape (N, H, W) instead. If that is the case, you should use e.g. augmenter(imageS=<your input>) or augment_imageS(<your input>). Otherwise your multi-image input will be interpreted as a single image during augmentation.\n",
      "  ia.warn(\n"
     ]
    },
    {
     "name": "stdout",
     "output_type": "stream",
     "text": [
      " 29/146 [====>.........................] - ETA: 2:03 - batch: 14.0000 - size: 2.0000 - loss: 8.9377 - rpn_class_loss: 2.4517 - rpn_bbox_loss: 4.2733 - mrcnn_class_loss: 0.7113 - mrcnn_bbox_loss: 1.0791 - mrcnn_mask_loss: 0.4222"
     ]
    },
    {
     "name": "stderr",
     "output_type": "stream",
     "text": [
      "/usr/local/lib/python3.8/dist-packages/imgaug/augmenters/base.py:49: SuspiciousSingleImageShapeWarning: You provided a numpy array of shape (1024, 1024, 46) as a single-image augmentation input, which was interpreted as (H, W, C). The last dimension however has a size of >=32, which indicates that you provided a multi-image array with shape (N, H, W) instead. If that is the case, you should use e.g. augmenter(imageS=<your input>) or augment_imageS(<your input>). Otherwise your multi-image input will be interpreted as a single image during augmentation.\n",
      "  ia.warn(\n"
     ]
    },
    {
     "name": "stdout",
     "output_type": "stream",
     "text": [
      "\b\b\b\b\b\b\b\b\b\b\b\b\b\b\b\b\b\b\b\b\b\b\b\b\b\b\b\b\b\b\b\b\b\b\b\b\b\b\b\b\b\b\b\b\b\b\b\b\b\b\b\b\b\b\b\b\b\b\b\b\b\b\b\b\b\b\b\b\b\b\b\b\b\b\b\b\b\b\b\b\b\b\b\b\b\b\b\b\b\b\b\b\b\b\b\b\b\b\b\b\b\b\b\b\b\b\b\b\b\b\b\b\b\b\b\b\b\b\b\b\b\b\b\b\b\b\b\b\b\b\b\b\b\b\b\b\b\b\b\b\b\b\b\b\b\b\b\b\b\b\b\b\b\b\b\b\b\b\b\b\b\b\b\b\b\b\b\b\b\b\b\b\b\b\b\b\b\b\b\b\b\b\b\b\b\b\b\b\b\b\b\b\b\b\b\b\b\b\b\b\b\b\b\b\b\b\b\b\b\b\b\b\b\b\b\b\b\b\b\b\b\b\b\b\b\b\b\r\n",
      " 30/146 [=====>........................] - ETA: 2:04 - batch: 14.5000 - size: 2.0000 - loss: 8.7370 - rpn_class_loss: 2.3849 - rpn_bbox_loss: 4.1569 - mrcnn_class_loss: 0.6957 - mrcnn_bbox_loss: 1.0719 - mrcnn_mask_loss: 0.4277"
     ]
    },
    {
     "name": "stderr",
     "output_type": "stream",
     "text": [
      "/usr/local/lib/python3.8/dist-packages/imgaug/augmenters/base.py:49: SuspiciousSingleImageShapeWarning: You provided a numpy array of shape (1024, 1024, 44) as a single-image augmentation input, which was interpreted as (H, W, C). The last dimension however has a size of >=32, which indicates that you provided a multi-image array with shape (N, H, W) instead. If that is the case, you should use e.g. augmenter(imageS=<your input>) or augment_imageS(<your input>). Otherwise your multi-image input will be interpreted as a single image during augmentation.\n",
      "  ia.warn(\n",
      "/usr/local/lib/python3.8/dist-packages/imgaug/augmenters/base.py:49: SuspiciousSingleImageShapeWarning: You provided a numpy array of shape (1024, 1024, 62) as a single-image augmentation input, which was interpreted as (H, W, C). The last dimension however has a size of >=32, which indicates that you provided a multi-image array with shape (N, H, W) instead. If that is the case, you should use e.g. augmenter(imageS=<your input>) or augment_imageS(<your input>). Otherwise your multi-image input will be interpreted as a single image during augmentation.\n",
      "  ia.warn(\n"
     ]
    },
    {
     "name": "stdout",
     "output_type": "stream",
     "text": [
      "\b\b\b\b\b\b\b\b\b\b\b\b\b\b\b\b\b\b\b\b\b\b\b\b\b\b\b\b\b\b\b\b\b\b\b\b\b\b\b\b\b\b\b\b\b\b\b\b\b\b\b\b\b\b\b\b\b\b\b\b\b\b\b\b\b\b\b\b\b\b\b\b\b\b\b\b\b\b\b\b\b\b\b\b\b\b\b\b\b\b\b\b\b\b\b\b\b\b\b\b\b\b\b\b\b\b\b\b\b\b\b\b\b\b\b\b\b\b\b\b\b\b\b\b\b\b\b\b\b\b\b\b\b\b\b\b\b\b\b\b\b\b\b\b\b\b\b\b\b\b\b\b\b\b\b\b\b\b\b\b\b\b\b\b\b\b\b\b\b\b\b\b\b\b\b\b\b\b\b\b\b\b\b\b\b\b\b\b\b\b\b\b\b\b\b\b\b\b\b\b\b\b\b\b\b\b\b\b\b\b\b\b\b\b\b\b\b\b\b\b\b\b\b\b\b\b\b\r\n",
      " 31/146 [=====>........................] - ETA: 2:05 - batch: 15.0000 - size: 2.0000 - loss: 8.5559 - rpn_class_loss: 2.3194 - rpn_bbox_loss: 4.0515 - mrcnn_class_loss: 0.6888 - mrcnn_bbox_loss: 1.0647 - mrcnn_mask_loss: 0.4314"
     ]
    },
    {
     "name": "stderr",
     "output_type": "stream",
     "text": [
      "/usr/local/lib/python3.8/dist-packages/imgaug/augmenters/base.py:49: SuspiciousSingleImageShapeWarning: You provided a numpy array of shape (1024, 1024, 62) as a single-image augmentation input, which was interpreted as (H, W, C). The last dimension however has a size of >=32, which indicates that you provided a multi-image array with shape (N, H, W) instead. If that is the case, you should use e.g. augmenter(imageS=<your input>) or augment_imageS(<your input>). Otherwise your multi-image input will be interpreted as a single image during augmentation.\n",
      "  ia.warn(\n"
     ]
    },
    {
     "name": "stdout",
     "output_type": "stream",
     "text": [
      "\b\b\b\b\b\b\b\b\b\b\b\b\b\b\b\b\b\b\b\b\b\b\b\b\b\b\b\b\b\b\b\b\b\b\b\b\b\b\b\b\b\b\b\b\b\b\b\b\b\b\b\b\b\b\b\b\b\b\b\b\b\b\b\b\b\b\b\b\b\b\b\b\b\b\b\b\b\b\b\b\b\b\b\b\b\b\b\b\b\b\b\b\b\b\b\b\b\b\b\b\b\b\b\b\b\b\b\b\b\b\b\b\b\b\b\b\b\b\b\b\b\b\b\b\b\b\b\b\b\b\b\b\b\b\b\b\b\b\b\b\b\b\b\b\b\b\b\b\b\b\b\b\b\b\b\b\b\b\b\b\b\b\b\b\b\b\b\b\b\b\b\b\b\b\b\b\b\b\b\b\b\b\b\b\b\b\b\b\b\b\b\b\b\b\b\b\b\b\b\b\b\b\b\b\b\b\b\b\b\b\b\b\b\b\b\b\b\b\b\b\b\b\b\b\b\b\b\r\n",
      " 32/146 [=====>........................] - ETA: 2:11 - batch: 15.5000 - size: 2.0000 - loss: 8.3971 - rpn_class_loss: 2.2749 - rpn_bbox_loss: 3.9534 - mrcnn_class_loss: 0.6778 - mrcnn_bbox_loss: 1.0551 - mrcnn_mask_loss: 0.4359"
     ]
    },
    {
     "name": "stderr",
     "output_type": "stream",
     "text": [
      "/usr/local/lib/python3.8/dist-packages/imgaug/augmenters/base.py:49: SuspiciousSingleImageShapeWarning: You provided a numpy array of shape (1024, 1024, 42) as a single-image augmentation input, which was interpreted as (H, W, C). The last dimension however has a size of >=32, which indicates that you provided a multi-image array with shape (N, H, W) instead. If that is the case, you should use e.g. augmenter(imageS=<your input>) or augment_imageS(<your input>). Otherwise your multi-image input will be interpreted as a single image during augmentation.\n",
      "  ia.warn(\n",
      "/usr/local/lib/python3.8/dist-packages/imgaug/augmenters/base.py:49: SuspiciousSingleImageShapeWarning: You provided a numpy array of shape (1024, 1024, 44) as a single-image augmentation input, which was interpreted as (H, W, C). The last dimension however has a size of >=32, which indicates that you provided a multi-image array with shape (N, H, W) instead. If that is the case, you should use e.g. augmenter(imageS=<your input>) or augment_imageS(<your input>). Otherwise your multi-image input will be interpreted as a single image during augmentation.\n",
      "  ia.warn(\n"
     ]
    },
    {
     "name": "stdout",
     "output_type": "stream",
     "text": [
      "\b\b\b\b\b\b\b\b\b\b\b\b\b\b\b\b\b\b\b\b\b\b\b\b\b\b\b\b\b\b\b\b\b\b\b\b\b\b\b\b\b\b\b\b\b\b\b\b\b\b\b\b\b\b\b\b\b\b\b\b\b\b\b\b\b\b\b\b\b\b\b\b\b\b\b\b\b\b\b\b\b\b\b\b\b\b\b\b\b\b\b\b\b\b\b\b\b\b\b\b\b\b\b\b\b\b\b\b\b\b\b\b\b\b\b\b\b\b\b\b\b\b\b\b\b\b\b\b\b\b\b\b\b\b\b\b\b\b\b\b\b\b\b\b\b\b\b\b\b\b\b\b\b\b\b\b\b\b\b\b\b\b\b\b\b\b\b\b\b\b\b\b\b\b\b\b\b\b\b\b\b\b\b\b\b\b\b\b\b\b\b\b\b\b\b\b\b\b\b\b\b\b\b\b\b\b\b\b\b\b\b\b\b\b\b\b\b\b\b\b\b\b\b\b\b\b\b\r\n",
      " 33/146 [=====>........................] - ETA: 2:12 - batch: 16.0000 - size: 2.0000 - loss: 8.2268 - rpn_class_loss: 2.2170 - rpn_bbox_loss: 3.8563 - mrcnn_class_loss: 0.6691 - mrcnn_bbox_loss: 1.0460 - mrcnn_mask_loss: 0.4384"
     ]
    },
    {
     "name": "stderr",
     "output_type": "stream",
     "text": [
      "/usr/local/lib/python3.8/dist-packages/imgaug/augmenters/base.py:49: SuspiciousSingleImageShapeWarning: You provided a numpy array of shape (1024, 1024, 98) as a single-image augmentation input, which was interpreted as (H, W, C). The last dimension however has a size of >=32, which indicates that you provided a multi-image array with shape (N, H, W) instead. If that is the case, you should use e.g. augmenter(imageS=<your input>) or augment_imageS(<your input>). Otherwise your multi-image input will be interpreted as a single image during augmentation.\n",
      "  ia.warn(\n",
      "/usr/local/lib/python3.8/dist-packages/imgaug/augmenters/base.py:49: SuspiciousSingleImageShapeWarning: You provided a numpy array of shape (1024, 1024, 40) as a single-image augmentation input, which was interpreted as (H, W, C). The last dimension however has a size of >=32, which indicates that you provided a multi-image array with shape (N, H, W) instead. If that is the case, you should use e.g. augmenter(imageS=<your input>) or augment_imageS(<your input>). Otherwise your multi-image input will be interpreted as a single image during augmentation.\n",
      "  ia.warn(\n"
     ]
    },
    {
     "name": "stdout",
     "output_type": "stream",
     "text": [
      "\b\b\b\b\b\b\b\b\b\b\b\b\b\b\b\b\b\b\b\b\b\b\b\b\b\b\b\b\b\b\b\b\b\b\b\b\b\b\b\b\b\b\b\b\b\b\b\b\b\b\b\b\b\b\b\b\b\b\b\b\b\b\b\b\b\b\b\b\b\b\b\b\b\b\b\b\b\b\b\b\b\b\b\b\b\b\b\b\b\b\b\b\b\b\b\b\b\b\b\b\b\b\b\b\b\b\b\b\b\b\b\b\b\b\b\b\b\b\b\b\b\b\b\b\b\b\b\b\b\b\b\b\b\b\b\b\b\b\b\b\b\b\b\b\b\b\b\b\b\b\b\b\b\b\b\b\b\b\b\b\b\b\b\b\b\b\b\b\b\b\b\b\b\b\b\b\b\b\b\b\b\b\b\b\b\b\b\b\b\b\b\b\b\b\b\b\b\b\b\b\b\b\b\b\b\b\b\b\b\b\b\b\b\b\b\b\b\b\b\b\b\b\b\b\b\b\b\r\n",
      " 34/146 [=====>........................] - ETA: 2:20 - batch: 16.5000 - size: 2.0000 - loss: 8.0994 - rpn_class_loss: 2.1729 - rpn_bbox_loss: 3.7790 - mrcnn_class_loss: 0.6677 - mrcnn_bbox_loss: 1.0378 - mrcnn_mask_loss: 0.4419"
     ]
    },
    {
     "name": "stderr",
     "output_type": "stream",
     "text": [
      "/usr/local/lib/python3.8/dist-packages/imgaug/augmenters/base.py:49: SuspiciousSingleImageShapeWarning: You provided a numpy array of shape (1024, 1024, 64) as a single-image augmentation input, which was interpreted as (H, W, C). The last dimension however has a size of >=32, which indicates that you provided a multi-image array with shape (N, H, W) instead. If that is the case, you should use e.g. augmenter(imageS=<your input>) or augment_imageS(<your input>). Otherwise your multi-image input will be interpreted as a single image during augmentation.\n",
      "  ia.warn(\n"
     ]
    },
    {
     "name": "stdout",
     "output_type": "stream",
     "text": [
      "\b\b\b\b\b\b\b\b\b\b\b\b\b\b\b\b\b\b\b\b\b\b\b\b\b\b\b\b\b\b\b\b\b\b\b\b\b\b\b\b\b\b\b\b\b\b\b\b\b\b\b\b\b\b\b\b\b\b\b\b\b\b\b\b\b\b\b\b\b\b\b\b\b\b\b\b\b\b\b\b\b\b\b\b\b\b\b\b\b\b\b\b\b\b\b\b\b\b\b\b\b\b\b\b\b\b\b\b\b\b\b\b\b\b\b\b\b\b\b\b\b\b\b\b\b\b\b\b\b\b\b\b\b\b\b\b\b\b\b\b\b\b\b\b\b\b\b\b\b\b\b\b\b\b\b\b\b\b\b\b\b\b\b\b\b\b\b\b\b\b\b\b\b\b\b\b\b\b\b\b\b\b\b\b\b\b\b\b\b\b\b\b\b\b\b\b\b\b\b\b\b\b\b\b\b\b\b\b\b\b\b\b\b\b\b\b\b\b\b\b\b\b\b\b\b\b\b\r\n",
      " 35/146 [======>.......................] - ETA: 2:23 - batch: 17.0000 - size: 2.0000 - loss: 7.9758 - rpn_class_loss: 2.1242 - rpn_bbox_loss: 3.7010 - mrcnn_class_loss: 0.6716 - mrcnn_bbox_loss: 1.0341 - mrcnn_mask_loss: 0.4449"
     ]
    },
    {
     "name": "stderr",
     "output_type": "stream",
     "text": [
      "/usr/local/lib/python3.8/dist-packages/imgaug/augmenters/base.py:49: SuspiciousSingleImageShapeWarning: You provided a numpy array of shape (1024, 1024, 44) as a single-image augmentation input, which was interpreted as (H, W, C). The last dimension however has a size of >=32, which indicates that you provided a multi-image array with shape (N, H, W) instead. If that is the case, you should use e.g. augmenter(imageS=<your input>) or augment_imageS(<your input>). Otherwise your multi-image input will be interpreted as a single image during augmentation.\n",
      "  ia.warn(\n",
      "/usr/local/lib/python3.8/dist-packages/imgaug/augmenters/base.py:49: SuspiciousSingleImageShapeWarning: You provided a numpy array of shape (1024, 1024, 44) as a single-image augmentation input, which was interpreted as (H, W, C). The last dimension however has a size of >=32, which indicates that you provided a multi-image array with shape (N, H, W) instead. If that is the case, you should use e.g. augmenter(imageS=<your input>) or augment_imageS(<your input>). Otherwise your multi-image input will be interpreted as a single image during augmentation.\n",
      "  ia.warn(\n"
     ]
    },
    {
     "name": "stdout",
     "output_type": "stream",
     "text": [
      "\b\b\b\b\b\b\b\b\b\b\b\b\b\b\b\b\b\b\b\b\b\b\b\b\b\b\b\b\b\b\b\b\b\b\b\b\b\b\b\b\b\b\b\b\b\b\b\b\b\b\b\b\b\b\b\b\b\b\b\b\b\b\b\b\b\b\b\b\b\b\b\b\b\b\b\b\b\b\b\b\b\b\b\b\b\b\b\b\b\b\b\b\b\b\b\b\b\b\b\b\b\b\b\b\b\b\b\b\b\b\b\b\b\b\b\b\b\b\b\b\b\b\b\b\b\b\b\b\b\b\b\b\b\b\b\b\b\b\b\b\b\b\b\b\b\b\b\b\b\b\b\b\b\b\b\b\b\b\b\b\b\b\b\b\b\b\b\b\b\b\b\b\b\b\b\b\b\b\b\b\b\b\b\b\b\b\b\b\b\b\b\b\b\b\b\b\b\b\b\b\b\b\b\b\b\b\b\b\b\b\b\b\b\b\b\b\b\b\b\b\b\b\b\b\b\b\b\r\n",
      " 36/146 [======>.......................] - ETA: 2:22 - batch: 17.5000 - size: 2.0000 - loss: 7.8341 - rpn_class_loss: 2.0778 - rpn_bbox_loss: 3.6208 - mrcnn_class_loss: 0.6625 - mrcnn_bbox_loss: 1.0271 - mrcnn_mask_loss: 0.4459"
     ]
    },
    {
     "name": "stderr",
     "output_type": "stream",
     "text": [
      "/usr/local/lib/python3.8/dist-packages/imgaug/augmenters/base.py:49: SuspiciousSingleImageShapeWarning: You provided a numpy array of shape (1024, 1024, 120) as a single-image augmentation input, which was interpreted as (H, W, C). The last dimension however has a size of >=32, which indicates that you provided a multi-image array with shape (N, H, W) instead. If that is the case, you should use e.g. augmenter(imageS=<your input>) or augment_imageS(<your input>). Otherwise your multi-image input will be interpreted as a single image during augmentation.\n",
      "  ia.warn(\n"
     ]
    },
    {
     "name": "stdout",
     "output_type": "stream",
     "text": [
      " 38/146 [======>.......................] - ETA: 2:28 - batch: 18.5000 - size: 2.0000 - loss: 7.5866 - rpn_class_loss: 1.9948 - rpn_bbox_loss: 3.4848 - mrcnn_class_loss: 0.6428 - mrcnn_bbox_loss: 1.0140 - mrcnn_mask_loss: 0.4502"
     ]
    },
    {
     "name": "stderr",
     "output_type": "stream",
     "text": [
      "/usr/local/lib/python3.8/dist-packages/imgaug/augmenters/base.py:49: SuspiciousSingleImageShapeWarning: You provided a numpy array of shape (1024, 1024, 58) as a single-image augmentation input, which was interpreted as (H, W, C). The last dimension however has a size of >=32, which indicates that you provided a multi-image array with shape (N, H, W) instead. If that is the case, you should use e.g. augmenter(imageS=<your input>) or augment_imageS(<your input>). Otherwise your multi-image input will be interpreted as a single image during augmentation.\n",
      "  ia.warn(\n"
     ]
    },
    {
     "name": "stdout",
     "output_type": "stream",
     "text": [
      " 40/146 [=======>......................] - ETA: 2:26 - batch: 19.5000 - size: 2.0000 - loss: 7.3434 - rpn_class_loss: 1.9136 - rpn_bbox_loss: 3.3527 - mrcnn_class_loss: 0.6235 - mrcnn_bbox_loss: 0.9990 - mrcnn_mask_loss: 0.4547"
     ]
    },
    {
     "name": "stderr",
     "output_type": "stream",
     "text": [
      "/usr/local/lib/python3.8/dist-packages/imgaug/augmenters/base.py:49: SuspiciousSingleImageShapeWarning: You provided a numpy array of shape (1024, 1024, 98) as a single-image augmentation input, which was interpreted as (H, W, C). The last dimension however has a size of >=32, which indicates that you provided a multi-image array with shape (N, H, W) instead. If that is the case, you should use e.g. augmenter(imageS=<your input>) or augment_imageS(<your input>). Otherwise your multi-image input will be interpreted as a single image during augmentation.\n",
      "  ia.warn(\n"
     ]
    },
    {
     "name": "stdout",
     "output_type": "stream",
     "text": [
      " 42/146 [=======>......................] - ETA: 2:26 - batch: 20.5000 - size: 2.0000 - loss: 7.1316 - rpn_class_loss: 1.8437 - rpn_bbox_loss: 3.2396 - mrcnn_class_loss: 0.6059 - mrcnn_bbox_loss: 0.9845 - mrcnn_mask_loss: 0.4579"
     ]
    },
    {
     "name": "stderr",
     "output_type": "stream",
     "text": [
      "/usr/local/lib/python3.8/dist-packages/imgaug/augmenters/base.py:49: SuspiciousSingleImageShapeWarning: You provided a numpy array of shape (1024, 1024, 120) as a single-image augmentation input, which was interpreted as (H, W, C). The last dimension however has a size of >=32, which indicates that you provided a multi-image array with shape (N, H, W) instead. If that is the case, you should use e.g. augmenter(imageS=<your input>) or augment_imageS(<your input>). Otherwise your multi-image input will be interpreted as a single image during augmentation.\n",
      "  ia.warn(\n",
      "/usr/local/lib/python3.8/dist-packages/imgaug/augmenters/base.py:49: SuspiciousSingleImageShapeWarning: You provided a numpy array of shape (1024, 1024, 40) as a single-image augmentation input, which was interpreted as (H, W, C). The last dimension however has a size of >=32, which indicates that you provided a multi-image array with shape (N, H, W) instead. If that is the case, you should use e.g. augmenter(imageS=<your input>) or augment_imageS(<your input>). Otherwise your multi-image input will be interpreted as a single image during augmentation.\n",
      "  ia.warn(\n"
     ]
    },
    {
     "name": "stdout",
     "output_type": "stream",
     "text": [
      "\b\b\b\b\b\b\b\b\b\b\b\b\b\b\b\b\b\b\b\b\b\b\b\b\b\b\b\b\b\b\b\b\b\b\b\b\b\b\b\b\b\b\b\b\b\b\b\b\b\b\b\b\b\b\b\b\b\b\b\b\b\b\b\b\b\b\b\b\b\b\b\b\b\b\b\b\b\b\b\b\b\b\b\b\b\b\b\b\b\b\b\b\b\b\b\b\b\b\b\b\b\b\b\b\b\b\b\b\b\b\b\b\b\b\b\b\b\b\b\b\b\b\b\b\b\b\b\b\b\b\b\b\b\b\b\b\b\b\b\b\b\b\b\b\b\b\b\b\b\b\b\b\b\b\b\b\b\b\b\b\b\b\b\b\b\b\b\b\b\b\b\b\b\b\b\b\b\b\b\b\b\b\b\b\b\b\b\b\b\b\b\b\b\b\b\b\b\b\b\b\b\b\b\b\b\b\b\b\b\b\b\b\b\b\b\b\b\b\b\b\b\b\b\b\b\b\b\r\n",
      " 43/146 [=======>......................] - ETA: 2:31 - batch: 21.0000 - size: 2.0000 - loss: 7.0361 - rpn_class_loss: 1.8160 - rpn_bbox_loss: 3.1832 - mrcnn_class_loss: 0.5981 - mrcnn_bbox_loss: 0.9780 - mrcnn_mask_loss: 0.4608"
     ]
    },
    {
     "name": "stderr",
     "output_type": "stream",
     "text": [
      "/usr/local/lib/python3.8/dist-packages/imgaug/augmenters/base.py:49: SuspiciousSingleImageShapeWarning: You provided a numpy array of shape (1024, 1024, 38) as a single-image augmentation input, which was interpreted as (H, W, C). The last dimension however has a size of >=32, which indicates that you provided a multi-image array with shape (N, H, W) instead. If that is the case, you should use e.g. augmenter(imageS=<your input>) or augment_imageS(<your input>). Otherwise your multi-image input will be interpreted as a single image during augmentation.\n",
      "  ia.warn(\n"
     ]
    },
    {
     "name": "stdout",
     "output_type": "stream",
     "text": [
      "\b\b\b\b\b\b\b\b\b\b\b\b\b\b\b\b\b\b\b\b\b\b\b\b\b\b\b\b\b\b\b\b\b\b\b\b\b\b\b\b\b\b\b\b\b\b\b\b\b\b\b\b\b\b\b\b\b\b\b\b\b\b\b\b\b\b\b\b\b\b\b\b\b\b\b\b\b\b\b\b\b\b\b\b\b\b\b\b\b\b\b\b\b\b\b\b\b\b\b\b\b\b\b\b\b\b\b\b\b\b\b\b\b\b\b\b\b\b\b\b\b\b\b\b\b\b\b\b\b\b\b\b\b\b\b\b\b\b\b\b\b\b\b\b\b\b\b\b\b\b\b\b\b\b\b\b\b\b\b\b\b\b\b\b\b\b\b\b\b\b\b\b\b\b\b\b\b\b\b\b\b\b\b\b\b\b\b\b\b\b\b\b\b\b\b\b\b\b\b\b\b\b\b\b\b\b\b\b\b\b\b\b\b\b\b\b\b\b\b\b\b\b\b\b\b\b\b\r\n",
      " 44/146 [========>.....................] - ETA: 2:31 - batch: 21.5000 - size: 2.0000 - loss: 6.9407 - rpn_class_loss: 1.7832 - rpn_bbox_loss: 3.1306 - mrcnn_class_loss: 0.5918 - mrcnn_bbox_loss: 0.9738 - mrcnn_mask_loss: 0.4613"
     ]
    },
    {
     "name": "stderr",
     "output_type": "stream",
     "text": [
      "/usr/local/lib/python3.8/dist-packages/imgaug/augmenters/base.py:49: SuspiciousSingleImageShapeWarning: You provided a numpy array of shape (1024, 1024, 78) as a single-image augmentation input, which was interpreted as (H, W, C). The last dimension however has a size of >=32, which indicates that you provided a multi-image array with shape (N, H, W) instead. If that is the case, you should use e.g. augmenter(imageS=<your input>) or augment_imageS(<your input>). Otherwise your multi-image input will be interpreted as a single image during augmentation.\n",
      "  ia.warn(\n",
      "/usr/local/lib/python3.8/dist-packages/imgaug/augmenters/base.py:49: SuspiciousSingleImageShapeWarning: You provided a numpy array of shape (1024, 1024, 50) as a single-image augmentation input, which was interpreted as (H, W, C). The last dimension however has a size of >=32, which indicates that you provided a multi-image array with shape (N, H, W) instead. If that is the case, you should use e.g. augmenter(imageS=<your input>) or augment_imageS(<your input>). Otherwise your multi-image input will be interpreted as a single image during augmentation.\n",
      "  ia.warn(\n",
      "/usr/local/lib/python3.8/dist-packages/imgaug/augmenters/base.py:49: SuspiciousSingleImageShapeWarning: You provided a numpy array of shape (1024, 1024, 34) as a single-image augmentation input, which was interpreted as (H, W, C). The last dimension however has a size of >=32, which indicates that you provided a multi-image array with shape (N, H, W) instead. If that is the case, you should use e.g. augmenter(imageS=<your input>) or augment_imageS(<your input>). Otherwise your multi-image input will be interpreted as a single image during augmentation.\n",
      "  ia.warn(\n"
     ]
    },
    {
     "name": "stdout",
     "output_type": "stream",
     "text": [
      "\b\b\b\b\b\b\b\b\b\b\b\b\b\b\b\b\b\b\b\b\b\b\b\b\b\b\b\b\b\b\b\b\b\b\b\b\b\b\b\b\b\b\b\b\b\b\b\b\b\b\b\b\b\b\b\b\b\b\b\b\b\b\b\b\b\b\b\b\b\b\b\b\b\b\b\b\b\b\b\b\b\b\b\b\b\b\b\b\b\b\b\b\b\b\b\b\b\b\b\b\b\b\b\b\b\b\b\b\b\b\b\b\b\b\b\b\b\b\b\b\b\b\b\b\b\b\b\b\b\b\b\b\b\b\b\b\b\b\b\b\b\b\b\b\b\b\b\b\b\b\b\b\b\b\b\b\b\b\b\b\b\b\b\b\b\b\b\b\b\b\b\b\b\b\b\b\b\b\b\b\b\b\b\b\b\b\b\b\b\b\b\b\b\b\b\b\b\b\b\b\b\b\b\b\b\b\b\b\b\b\b\b\b\b\b\b\b\b\b\b\b\b\b\b\b\b\b\r\n",
      " 45/146 [========>.....................] - ETA: 2:34 - batch: 22.0000 - size: 2.0000 - loss: 6.8467 - rpn_class_loss: 1.7527 - rpn_bbox_loss: 3.0777 - mrcnn_class_loss: 0.5871 - mrcnn_bbox_loss: 0.9660 - mrcnn_mask_loss: 0.4631"
     ]
    },
    {
     "name": "stderr",
     "output_type": "stream",
     "text": [
      "/usr/local/lib/python3.8/dist-packages/imgaug/augmenters/base.py:49: SuspiciousSingleImageShapeWarning: You provided a numpy array of shape (1024, 1024, 36) as a single-image augmentation input, which was interpreted as (H, W, C). The last dimension however has a size of >=32, which indicates that you provided a multi-image array with shape (N, H, W) instead. If that is the case, you should use e.g. augmenter(imageS=<your input>) or augment_imageS(<your input>). Otherwise your multi-image input will be interpreted as a single image during augmentation.\n",
      "  ia.warn(\n",
      "/usr/local/lib/python3.8/dist-packages/imgaug/augmenters/base.py:49: SuspiciousSingleImageShapeWarning: You provided a numpy array of shape (1024, 1024, 34) as a single-image augmentation input, which was interpreted as (H, W, C). The last dimension however has a size of >=32, which indicates that you provided a multi-image array with shape (N, H, W) instead. If that is the case, you should use e.g. augmenter(imageS=<your input>) or augment_imageS(<your input>). Otherwise your multi-image input will be interpreted as a single image during augmentation.\n",
      "  ia.warn(\n"
     ]
    },
    {
     "name": "stdout",
     "output_type": "stream",
     "text": [
      "\b\b\b\b\b\b\b\b\b\b\b\b\b\b\b\b\b\b\b\b\b\b\b\b\b\b\b\b\b\b\b\b\b\b\b\b\b\b\b\b\b\b\b\b\b\b\b\b\b\b\b\b\b\b\b\b\b\b\b\b\b\b\b\b\b\b\b\b\b\b\b\b\b\b\b\b\b\b\b\b\b\b\b\b\b\b\b\b\b\b\b\b\b\b\b\b\b\b\b\b\b\b\b\b\b\b\b\b\b\b\b\b\b\b\b\b\b\b\b\b\b\b\b\b\b\b\b\b\b\b\b\b\b\b\b\b\b\b\b\b\b\b\b\b\b\b\b\b\b\b\b\b\b\b\b\b\b\b\b\b\b\b\b\b\b\b\b\b\b\b\b\b\b\b\b\b\b\b\b\b\b\b\b\b\b\b\b\b\b\b\b\b\b\b\b\b\b\b\b\b\b\b\b\b\b\b\b\b\b\b\b\b\b\b\b\b\b\b\b\b\b\b\b\b\b\b\b\r\n",
      " 46/146 [========>.....................] - ETA: 2:33 - batch: 22.5000 - size: 2.0000 - loss: 6.7526 - rpn_class_loss: 1.7222 - rpn_bbox_loss: 3.0240 - mrcnn_class_loss: 0.5817 - mrcnn_bbox_loss: 0.9607 - mrcnn_mask_loss: 0.4639"
     ]
    },
    {
     "name": "stderr",
     "output_type": "stream",
     "text": [
      "/usr/local/lib/python3.8/dist-packages/imgaug/augmenters/base.py:49: SuspiciousSingleImageShapeWarning: You provided a numpy array of shape (1024, 1024, 38) as a single-image augmentation input, which was interpreted as (H, W, C). The last dimension however has a size of >=32, which indicates that you provided a multi-image array with shape (N, H, W) instead. If that is the case, you should use e.g. augmenter(imageS=<your input>) or augment_imageS(<your input>). Otherwise your multi-image input will be interpreted as a single image during augmentation.\n",
      "  ia.warn(\n",
      "/usr/local/lib/python3.8/dist-packages/imgaug/augmenters/base.py:49: SuspiciousSingleImageShapeWarning: You provided a numpy array of shape (1024, 1024, 38) as a single-image augmentation input, which was interpreted as (H, W, C). The last dimension however has a size of >=32, which indicates that you provided a multi-image array with shape (N, H, W) instead. If that is the case, you should use e.g. augmenter(imageS=<your input>) or augment_imageS(<your input>). Otherwise your multi-image input will be interpreted as a single image during augmentation.\n",
      "  ia.warn(\n"
     ]
    },
    {
     "name": "stdout",
     "output_type": "stream",
     "text": [
      "\b\b\b\b\b\b\b\b\b\b\b\b\b\b\b\b\b\b\b\b\b\b\b\b\b\b\b\b\b\b\b\b\b\b\b\b\b\b\b\b\b\b\b\b\b\b\b\b\b\b\b\b\b\b\b\b\b\b\b\b\b\b\b\b\b\b\b\b\b\b\b\b\b\b\b\b\b\b\b\b\b\b\b\b\b\b\b\b\b\b\b\b\b\b\b\b\b\b\b\b\b\b\b\b\b\b\b\b\b\b\b\b\b\b\b\b\b\b\b\b\b\b\b\b\b\b\b\b\b\b\b\b\b\b\b\b\b\b\b\b\b\b\b\b\b\b\b\b\b\b\b\b\b\b\b\b\b\b\b\b\b\b\b\b\b\b\b\b\b\b\b\b\b\b\b\b\b\b\b\b\b\b\b\b\b\b\b\b\b\b\b\b\b\b\b\b\b\b\b\b\b\b\b\b\b\b\b\b\b\b\b\b\b\b\b\b\b\b\b\b\b\b\b\b\b\b\b\r\n",
      " 47/146 [========>.....................] - ETA: 2:32 - batch: 23.0000 - size: 2.0000 - loss: 6.6580 - rpn_class_loss: 1.6926 - rpn_bbox_loss: 2.9698 - mrcnn_class_loss: 0.5778 - mrcnn_bbox_loss: 0.9531 - mrcnn_mask_loss: 0.4648"
     ]
    },
    {
     "name": "stderr",
     "output_type": "stream",
     "text": [
      "/usr/local/lib/python3.8/dist-packages/imgaug/augmenters/base.py:49: SuspiciousSingleImageShapeWarning: You provided a numpy array of shape (1024, 1024, 46) as a single-image augmentation input, which was interpreted as (H, W, C). The last dimension however has a size of >=32, which indicates that you provided a multi-image array with shape (N, H, W) instead. If that is the case, you should use e.g. augmenter(imageS=<your input>) or augment_imageS(<your input>). Otherwise your multi-image input will be interpreted as a single image during augmentation.\n",
      "  ia.warn(\n"
     ]
    },
    {
     "name": "stdout",
     "output_type": "stream",
     "text": [
      "\b\b\b\b\b\b\b\b\b\b\b\b\b\b\b\b\b\b\b\b\b\b\b\b\b\b\b\b\b\b\b\b\b\b\b\b\b\b\b\b\b\b\b\b\b\b\b\b\b\b\b\b\b\b\b\b\b\b\b\b\b\b\b\b\b\b\b\b\b\b\b\b\b\b\b\b\b\b\b\b\b\b\b\b\b\b\b\b\b\b\b\b\b\b\b\b\b\b\b\b\b\b\b\b\b\b\b\b\b\b\b\b\b\b\b\b\b\b\b\b\b\b\b\b\b\b\b\b\b\b\b\b\b\b\b\b\b\b\b\b\b\b\b\b\b\b\b\b\b\b\b\b\b\b\b\b\b\b\b\b\b\b\b\b\b\b\b\b\b\b\b\b\b\b\b\b\b\b\b\b\b\b\b\b\b\b\b\b\b\b\b\b\b\b\b\b\b\b\b\b\b\b\b\b\b\b\b\b\b\b\b\b\b\b\b\b\b\b\b\b\b\b\b\b\b\b\b\r\n",
      " 48/146 [========>.....................] - ETA: 2:30 - batch: 23.5000 - size: 2.0000 - loss: 6.5623 - rpn_class_loss: 1.6639 - rpn_bbox_loss: 2.9181 - mrcnn_class_loss: 0.5680 - mrcnn_bbox_loss: 0.9460 - mrcnn_mask_loss: 0.4663"
     ]
    },
    {
     "name": "stderr",
     "output_type": "stream",
     "text": [
      "/usr/local/lib/python3.8/dist-packages/imgaug/augmenters/base.py:49: SuspiciousSingleImageShapeWarning: You provided a numpy array of shape (1024, 1024, 98) as a single-image augmentation input, which was interpreted as (H, W, C). The last dimension however has a size of >=32, which indicates that you provided a multi-image array with shape (N, H, W) instead. If that is the case, you should use e.g. augmenter(imageS=<your input>) or augment_imageS(<your input>). Otherwise your multi-image input will be interpreted as a single image during augmentation.\n",
      "  ia.warn(\n",
      "/usr/local/lib/python3.8/dist-packages/imgaug/augmenters/base.py:49: SuspiciousSingleImageShapeWarning: You provided a numpy array of shape (1024, 1024, 38) as a single-image augmentation input, which was interpreted as (H, W, C). The last dimension however has a size of >=32, which indicates that you provided a multi-image array with shape (N, H, W) instead. If that is the case, you should use e.g. augmenter(imageS=<your input>) or augment_imageS(<your input>). Otherwise your multi-image input will be interpreted as a single image during augmentation.\n",
      "  ia.warn(\n"
     ]
    },
    {
     "name": "stdout",
     "output_type": "stream",
     "text": [
      "\b\b\b\b\b\b\b\b\b\b\b\b\b\b\b\b\b\b\b\b\b\b\b\b\b\b\b\b\b\b\b\b\b\b\b\b\b\b\b\b\b\b\b\b\b\b\b\b\b\b\b\b\b\b\b\b\b\b\b\b\b\b\b\b\b\b\b\b\b\b\b\b\b\b\b\b\b\b\b\b\b\b\b\b\b\b\b\b\b\b\b\b\b\b\b\b\b\b\b\b\b\b\b\b\b\b\b\b\b\b\b\b\b\b\b\b\b\b\b\b\b\b\b\b\b\b\b\b\b\b\b\b\b\b\b\b\b\b\b\b\b\b\b\b\b\b\b\b\b\b\b\b\b\b\b\b\b\b\b\b\b\b\b\b\b\b\b\b\b\b\b\b\b\b\b\b\b\b\b\b\b\b\b\b\b\b\b\b\b\b\b\b\b\b\b\b\b\b\b\b\b\b\b\b\b\b\b\b\b\b\b\b\b\b\b\b\b\b\b\b\b\b\b\b\b\b\b\r\n",
      " 49/146 [=========>....................] - ETA: 2:33 - batch: 24.0000 - size: 2.0000 - loss: 6.4906 - rpn_class_loss: 1.6427 - rpn_bbox_loss: 2.8767 - mrcnn_class_loss: 0.5632 - mrcnn_bbox_loss: 0.9394 - mrcnn_mask_loss: 0.4686"
     ]
    },
    {
     "name": "stderr",
     "output_type": "stream",
     "text": [
      "/usr/local/lib/python3.8/dist-packages/imgaug/augmenters/base.py:49: SuspiciousSingleImageShapeWarning: You provided a numpy array of shape (1024, 1024, 32) as a single-image augmentation input, which was interpreted as (H, W, C). The last dimension however has a size of >=32, which indicates that you provided a multi-image array with shape (N, H, W) instead. If that is the case, you should use e.g. augmenter(imageS=<your input>) or augment_imageS(<your input>). Otherwise your multi-image input will be interpreted as a single image during augmentation.\n",
      "  ia.warn(\n"
     ]
    },
    {
     "name": "stdout",
     "output_type": "stream",
     "text": [
      "\b\b\b\b\b\b\b\b\b\b\b\b\b\b\b\b\b\b\b\b\b\b\b\b\b\b\b\b\b\b\b\b\b\b\b\b\b\b\b\b\b\b\b\b\b\b\b\b\b\b\b\b\b\b\b\b\b\b\b\b\b\b\b\b\b\b\b\b\b\b\b\b\b\b\b\b\b\b\b\b\b\b\b\b\b\b\b\b\b\b\b\b\b\b\b\b\b\b\b\b\b\b\b\b\b\b\b\b\b\b\b\b\b\b\b\b\b\b\b\b\b\b\b\b\b\b\b\b\b\b\b\b\b\b\b\b\b\b\b\b\b\b\b\b\b\b\b\b\b\b\b\b\b\b\b\b\b\b\b\b\b\b\b\b\b\b\b\b\b\b\b\b\b\b\b\b\b\b\b\b\b\b\b\b\b\b\b\b\b\b\b\b\b\b\b\b\b\b\b\b\b\b\b\b\b\b\b\b\b\b\b\b\b\b\b\b\b\b\b\b\b\b\b\b\b\b\b\r\n",
      " 50/146 [=========>....................] - ETA: 2:31 - batch: 24.5000 - size: 2.0000 - loss: 6.4106 - rpn_class_loss: 1.6130 - rpn_bbox_loss: 2.8307 - mrcnn_class_loss: 0.5657 - mrcnn_bbox_loss: 0.9324 - mrcnn_mask_loss: 0.4687"
     ]
    },
    {
     "name": "stderr",
     "output_type": "stream",
     "text": [
      "/usr/local/lib/python3.8/dist-packages/imgaug/augmenters/base.py:49: SuspiciousSingleImageShapeWarning: You provided a numpy array of shape (1024, 1024, 78) as a single-image augmentation input, which was interpreted as (H, W, C). The last dimension however has a size of >=32, which indicates that you provided a multi-image array with shape (N, H, W) instead. If that is the case, you should use e.g. augmenter(imageS=<your input>) or augment_imageS(<your input>). Otherwise your multi-image input will be interpreted as a single image during augmentation.\n",
      "  ia.warn(\n",
      "/usr/local/lib/python3.8/dist-packages/imgaug/augmenters/base.py:49: SuspiciousSingleImageShapeWarning: You provided a numpy array of shape (1024, 1024, 58) as a single-image augmentation input, which was interpreted as (H, W, C). The last dimension however has a size of >=32, which indicates that you provided a multi-image array with shape (N, H, W) instead. If that is the case, you should use e.g. augmenter(imageS=<your input>) or augment_imageS(<your input>). Otherwise your multi-image input will be interpreted as a single image during augmentation.\n",
      "  ia.warn(\n"
     ]
    },
    {
     "name": "stdout",
     "output_type": "stream",
     "text": [
      " 52/146 [=========>....................] - ETA: 2:31 - batch: 25.5000 - size: 2.0000 - loss: 6.2617 - rpn_class_loss: 1.5638 - rpn_bbox_loss: 2.7470 - mrcnn_class_loss: 0.5570 - mrcnn_bbox_loss: 0.9215 - mrcnn_mask_loss: 0.4723"
     ]
    },
    {
     "name": "stderr",
     "output_type": "stream",
     "text": [
      "/usr/local/lib/python3.8/dist-packages/imgaug/augmenters/base.py:49: SuspiciousSingleImageShapeWarning: You provided a numpy array of shape (1024, 1024, 62) as a single-image augmentation input, which was interpreted as (H, W, C). The last dimension however has a size of >=32, which indicates that you provided a multi-image array with shape (N, H, W) instead. If that is the case, you should use e.g. augmenter(imageS=<your input>) or augment_imageS(<your input>). Otherwise your multi-image input will be interpreted as a single image during augmentation.\n",
      "  ia.warn(\n",
      "/usr/local/lib/python3.8/dist-packages/imgaug/augmenters/base.py:49: SuspiciousSingleImageShapeWarning: You provided a numpy array of shape (1024, 1024, 36) as a single-image augmentation input, which was interpreted as (H, W, C). The last dimension however has a size of >=32, which indicates that you provided a multi-image array with shape (N, H, W) instead. If that is the case, you should use e.g. augmenter(imageS=<your input>) or augment_imageS(<your input>). Otherwise your multi-image input will be interpreted as a single image during augmentation.\n",
      "  ia.warn(\n"
     ]
    },
    {
     "name": "stdout",
     "output_type": "stream",
     "text": [
      " 54/146 [==========>...................] - ETA: 2:28 - batch: 26.5000 - size: 2.0000 - loss: 6.1130 - rpn_class_loss: 1.5166 - rpn_bbox_loss: 2.6653 - mrcnn_class_loss: 0.5475 - mrcnn_bbox_loss: 0.9098 - mrcnn_mask_loss: 0.4737"
     ]
    },
    {
     "name": "stderr",
     "output_type": "stream",
     "text": [
      "/usr/local/lib/python3.8/dist-packages/imgaug/augmenters/base.py:49: SuspiciousSingleImageShapeWarning: You provided a numpy array of shape (1024, 1024, 72) as a single-image augmentation input, which was interpreted as (H, W, C). The last dimension however has a size of >=32, which indicates that you provided a multi-image array with shape (N, H, W) instead. If that is the case, you should use e.g. augmenter(imageS=<your input>) or augment_imageS(<your input>). Otherwise your multi-image input will be interpreted as a single image during augmentation.\n",
      "  ia.warn(\n",
      "/usr/local/lib/python3.8/dist-packages/imgaug/augmenters/base.py:49: SuspiciousSingleImageShapeWarning: You provided a numpy array of shape (1024, 1024, 34) as a single-image augmentation input, which was interpreted as (H, W, C). The last dimension however has a size of >=32, which indicates that you provided a multi-image array with shape (N, H, W) instead. If that is the case, you should use e.g. augmenter(imageS=<your input>) or augment_imageS(<your input>). Otherwise your multi-image input will be interpreted as a single image during augmentation.\n",
      "  ia.warn(\n",
      "/usr/local/lib/python3.8/dist-packages/imgaug/augmenters/base.py:49: SuspiciousSingleImageShapeWarning: You provided a numpy array of shape (1024, 1024, 38) as a single-image augmentation input, which was interpreted as (H, W, C). The last dimension however has a size of >=32, which indicates that you provided a multi-image array with shape (N, H, W) instead. If that is the case, you should use e.g. augmenter(imageS=<your input>) or augment_imageS(<your input>). Otherwise your multi-image input will be interpreted as a single image during augmentation.\n",
      "  ia.warn(\n"
     ]
    },
    {
     "name": "stdout",
     "output_type": "stream",
     "text": [
      "\b\b\b\b\b\b\b\b\b\b\b\b\b\b\b\b\b\b\b\b\b\b\b\b\b\b\b\b\b\b\b\b\b\b\b\b\b\b\b\b\b\b\b\b\b\b\b\b\b\b\b\b\b\b\b\b\b\b\b\b\b\b\b\b\b\b\b\b\b\b\b\b\b\b\b\b\b\b\b\b\b\b\b\b\b\b\b\b\b\b\b\b\b\b\b\b\b\b\b\b\b\b\b\b\b\b\b\b\b\b\b\b\b\b\b\b\b\b\b\b\b\b\b\b\b\b\b\b\b\b\b\b\b\b\b\b\b\b\b\b\b\b\b\b\b\b\b\b\b\b\b\b\b\b\b\b\b\b\b\b\b\b\b\b\b\b\b\b\b\b\b\b\b\b\b\b\b\b\b\b\b\b\b\b\b\b\b\b\b\b\b\b\b\b\b\b\b\b\b\b\b\b\b\b\b\b\b\b\b\b\b\b\b\b\b\b\b\b\b\b\b\b\b\b\b\b\b\r\n",
      " 55/146 [==========>...................] - ETA: 2:28 - batch: 27.0000 - size: 2.0000 - loss: 6.0507 - rpn_class_loss: 1.4948 - rpn_bbox_loss: 2.6270 - mrcnn_class_loss: 0.5480 - mrcnn_bbox_loss: 0.9060 - mrcnn_mask_loss: 0.4750"
     ]
    },
    {
     "name": "stderr",
     "output_type": "stream",
     "text": [
      "/usr/local/lib/python3.8/dist-packages/imgaug/augmenters/base.py:49: SuspiciousSingleImageShapeWarning: You provided a numpy array of shape (1024, 1024, 36) as a single-image augmentation input, which was interpreted as (H, W, C). The last dimension however has a size of >=32, which indicates that you provided a multi-image array with shape (N, H, W) instead. If that is the case, you should use e.g. augmenter(imageS=<your input>) or augment_imageS(<your input>). Otherwise your multi-image input will be interpreted as a single image during augmentation.\n",
      "  ia.warn(\n"
     ]
    },
    {
     "name": "stdout",
     "output_type": "stream",
     "text": [
      "\b\b\b\b\b\b\b\b\b\b\b\b\b\b\b\b\b\b\b\b\b\b\b\b\b\b\b\b\b\b\b\b\b\b\b\b\b\b\b\b\b\b\b\b\b\b\b\b\b\b\b\b\b\b\b\b\b\b\b\b\b\b\b\b\b\b\b\b\b\b\b\b\b\b\b\b\b\b\b\b\b\b\b\b\b\b\b\b\b\b\b\b\b\b\b\b\b\b\b\b\b\b\b\b\b\b\b\b\b\b\b\b\b\b\b\b\b\b\b\b\b\b\b\b\b\b\b\b\b\b\b\b\b\b\b\b\b\b\b\b\b\b\b\b\b\b\b\b\b\b\b\b\b\b\b\b\b\b\b\b\b\b\b\b\b\b\b\b\b\b\b\b\b\b\b\b\b\b\b\b\b\b\b\b\b\b\b\b\b\b\b\b\b\b\b\b\b\b\b\b\b\b\b\b\b\b\b\b\b\b\b\b\b\b\b\b\b\b\b\b\b\b\b\b\b\b\b\r\n",
      " 56/146 [==========>...................] - ETA: 2:26 - batch: 27.5000 - size: 2.0000 - loss: 5.9830 - rpn_class_loss: 1.4747 - rpn_bbox_loss: 2.5905 - mrcnn_class_loss: 0.5411 - mrcnn_bbox_loss: 0.9011 - mrcnn_mask_loss: 0.4757"
     ]
    },
    {
     "name": "stderr",
     "output_type": "stream",
     "text": [
      "/usr/local/lib/python3.8/dist-packages/imgaug/augmenters/base.py:49: SuspiciousSingleImageShapeWarning: You provided a numpy array of shape (1024, 1024, 98) as a single-image augmentation input, which was interpreted as (H, W, C). The last dimension however has a size of >=32, which indicates that you provided a multi-image array with shape (N, H, W) instead. If that is the case, you should use e.g. augmenter(imageS=<your input>) or augment_imageS(<your input>). Otherwise your multi-image input will be interpreted as a single image during augmentation.\n",
      "  ia.warn(\n",
      "/usr/local/lib/python3.8/dist-packages/imgaug/augmenters/base.py:49: SuspiciousSingleImageShapeWarning: You provided a numpy array of shape (1024, 1024, 52) as a single-image augmentation input, which was interpreted as (H, W, C). The last dimension however has a size of >=32, which indicates that you provided a multi-image array with shape (N, H, W) instead. If that is the case, you should use e.g. augmenter(imageS=<your input>) or augment_imageS(<your input>). Otherwise your multi-image input will be interpreted as a single image during augmentation.\n",
      "  ia.warn(\n"
     ]
    },
    {
     "name": "stdout",
     "output_type": "stream",
     "text": [
      "\b\b\b\b\b\b\b\b\b\b\b\b\b\b\b\b\b\b\b\b\b\b\b\b\b\b\b\b\b\b\b\b\b\b\b\b\b\b\b\b\b\b\b\b\b\b\b\b\b\b\b\b\b\b\b\b\b\b\b\b\b\b\b\b\b\b\b\b\b\b\b\b\b\b\b\b\b\b\b\b\b\b\b\b\b\b\b\b\b\b\b\b\b\b\b\b\b\b\b\b\b\b\b\b\b\b\b\b\b\b\b\b\b\b\b\b\b\b\b\b\b\b\b\b\b\b\b\b\b\b\b\b\b\b\b\b\b\b\b\b\b\b\b\b\b\b\b\b\b\b\b\b\b\b\b\b\b\b\b\b\b\b\b\b\b\b\b\b\b\b\b\b\b\b\b\b\b\b\b\b\b\b\b\b\b\b\b\b\b\b\b\b\b\b\b\b\b\b\b\b\b\b\b\b\b\b\b\b\b\b\b\b\b\b\b\b\b\b\b\b\b\b\b\b\b\b\b\r\n",
      " 57/146 [==========>...................] - ETA: 2:28 - batch: 28.0000 - size: 2.0000 - loss: 5.9276 - rpn_class_loss: 1.4572 - rpn_bbox_loss: 2.5572 - mrcnn_class_loss: 0.5409 - mrcnn_bbox_loss: 0.8955 - mrcnn_mask_loss: 0.4767"
     ]
    },
    {
     "name": "stderr",
     "output_type": "stream",
     "text": [
      "/usr/local/lib/python3.8/dist-packages/imgaug/augmenters/base.py:49: SuspiciousSingleImageShapeWarning: You provided a numpy array of shape (1024, 1024, 40) as a single-image augmentation input, which was interpreted as (H, W, C). The last dimension however has a size of >=32, which indicates that you provided a multi-image array with shape (N, H, W) instead. If that is the case, you should use e.g. augmenter(imageS=<your input>) or augment_imageS(<your input>). Otherwise your multi-image input will be interpreted as a single image during augmentation.\n",
      "  ia.warn(\n"
     ]
    },
    {
     "name": "stdout",
     "output_type": "stream",
     "text": [
      "\b\b\b\b\b\b\b\b\b\b\b\b\b\b\b\b\b\b\b\b\b\b\b\b\b\b\b\b\b\b\b\b\b\b\b\b\b\b\b\b\b\b\b\b\b\b\b\b\b\b\b\b\b\b\b\b\b\b\b\b\b\b\b\b\b\b\b\b\b\b\b\b\b\b\b\b\b\b\b\b\b\b\b\b\b\b\b\b\b\b\b\b\b\b\b\b\b\b\b\b\b\b\b\b\b\b\b\b\b\b\b\b\b\b\b\b\b\b\b\b\b\b\b\b\b\b\b\b\b\b\b\b\b\b\b\b\b\b\b\b\b\b\b\b\b\b\b\b\b\b\b\b\b\b\b\b\b\b\b\b\b\b\b\b\b\b\b\b\b\b\b\b\b\b\b\b\b\b\b\b\b\b\b\b\b\b\b\b\b\b\b\b\b\b\b\b\b\b\b\b\b\b\b\b\b\b\b\b\b\b\b\b\b\b\b\b\b\b\b\b\b\b\b\b\b\b\b\r\n",
      " 58/146 [==========>...................] - ETA: 2:27 - batch: 28.5000 - size: 2.0000 - loss: 5.8748 - rpn_class_loss: 1.4375 - rpn_bbox_loss: 2.5257 - mrcnn_class_loss: 0.5430 - mrcnn_bbox_loss: 0.8908 - mrcnn_mask_loss: 0.4779"
     ]
    },
    {
     "name": "stderr",
     "output_type": "stream",
     "text": [
      "/usr/local/lib/python3.8/dist-packages/imgaug/augmenters/base.py:49: SuspiciousSingleImageShapeWarning: You provided a numpy array of shape (1024, 1024, 40) as a single-image augmentation input, which was interpreted as (H, W, C). The last dimension however has a size of >=32, which indicates that you provided a multi-image array with shape (N, H, W) instead. If that is the case, you should use e.g. augmenter(imageS=<your input>) or augment_imageS(<your input>). Otherwise your multi-image input will be interpreted as a single image during augmentation.\n",
      "  ia.warn(\n"
     ]
    },
    {
     "name": "stdout",
     "output_type": "stream",
     "text": [
      "\b\b\b\b\b\b\b\b\b\b\b\b\b\b\b\b\b\b\b\b\b\b\b\b\b\b\b\b\b\b\b\b\b\b\b\b\b\b\b\b\b\b\b\b\b\b\b\b\b\b\b\b\b\b\b\b\b\b\b\b\b\b\b\b\b\b\b\b\b\b\b\b\b\b\b\b\b\b\b\b\b\b\b\b\b\b\b\b\b\b\b\b\b\b\b\b\b\b\b\b\b\b\b\b\b\b\b\b\b\b\b\b\b\b\b\b\b\b\b\b\b\b\b\b\b\b\b\b\b\b\b\b\b\b\b\b\b\b\b\b\b\b\b\b\b\b\b\b\b\b\b\b\b\b\b\b\b\b\b\b\b\b\b\b\b\b\b\b\b\b\b\b\b\b\b\b\b\b\b\b\b\b\b\b\b\b\b\b\b\b\b\b\b\b\b\b\b\b\b\b\b\b\b\b\b\b\b\b\b\b\b\b\b\b\b\b\b\b\b\b\b\b\b\b\b\b\b\r\n",
      " 59/146 [===========>..................] - ETA: 2:24 - batch: 29.0000 - size: 2.0000 - loss: 5.8173 - rpn_class_loss: 1.4194 - rpn_bbox_loss: 2.4947 - mrcnn_class_loss: 0.5376 - mrcnn_bbox_loss: 0.8865 - mrcnn_mask_loss: 0.4790"
     ]
    },
    {
     "name": "stderr",
     "output_type": "stream",
     "text": [
      "/usr/local/lib/python3.8/dist-packages/imgaug/augmenters/base.py:49: SuspiciousSingleImageShapeWarning: You provided a numpy array of shape (1024, 1024, 44) as a single-image augmentation input, which was interpreted as (H, W, C). The last dimension however has a size of >=32, which indicates that you provided a multi-image array with shape (N, H, W) instead. If that is the case, you should use e.g. augmenter(imageS=<your input>) or augment_imageS(<your input>). Otherwise your multi-image input will be interpreted as a single image during augmentation.\n",
      "  ia.warn(\n",
      "/usr/local/lib/python3.8/dist-packages/imgaug/augmenters/base.py:49: SuspiciousSingleImageShapeWarning: You provided a numpy array of shape (1024, 1024, 36) as a single-image augmentation input, which was interpreted as (H, W, C). The last dimension however has a size of >=32, which indicates that you provided a multi-image array with shape (N, H, W) instead. If that is the case, you should use e.g. augmenter(imageS=<your input>) or augment_imageS(<your input>). Otherwise your multi-image input will be interpreted as a single image during augmentation.\n",
      "  ia.warn(\n"
     ]
    },
    {
     "name": "stdout",
     "output_type": "stream",
     "text": [
      "\b\b\b\b\b\b\b\b\b\b\b\b\b\b\b\b\b\b\b\b\b\b\b\b\b\b\b\b\b\b\b\b\b\b\b\b\b\b\b\b\b\b\b\b\b\b\b\b\b\b\b\b\b\b\b\b\b\b\b\b\b\b\b\b\b\b\b\b\b\b\b\b\b\b\b\b\b\b\b\b\b\b\b\b\b\b\b\b\b\b\b\b\b\b\b\b\b\b\b\b\b\b\b\b\b\b\b\b\b\b\b\b\b\b\b\b\b\b\b\b\b\b\b\b\b\b\b\b\b\b\b\b\b\b\b\b\b\b\b\b\b\b\b\b\b\b\b\b\b\b\b\b\b\b\b\b\b\b\b\b\b\b\b\b\b\b\b\b\b\b\b\b\b\b\b\b\b\b\b\b\b\b\b\b\b\b\b\b\b\b\b\b\b\b\b\b\b\b\b\b\b\b\b\b\b\b\b\b\b\b\b\b\b\b\b\b\b\b\b\b\b\b\b\b\b\b\b\r\n",
      " 60/146 [===========>..................] - ETA: 2:23 - batch: 29.5000 - size: 2.0000 - loss: 5.7597 - rpn_class_loss: 1.4002 - rpn_bbox_loss: 2.4605 - mrcnn_class_loss: 0.5379 - mrcnn_bbox_loss: 0.8809 - mrcnn_mask_loss: 0.4801"
     ]
    },
    {
     "name": "stderr",
     "output_type": "stream",
     "text": [
      "/usr/local/lib/python3.8/dist-packages/imgaug/augmenters/base.py:49: SuspiciousSingleImageShapeWarning: You provided a numpy array of shape (1024, 1024, 114) as a single-image augmentation input, which was interpreted as (H, W, C). The last dimension however has a size of >=32, which indicates that you provided a multi-image array with shape (N, H, W) instead. If that is the case, you should use e.g. augmenter(imageS=<your input>) or augment_imageS(<your input>). Otherwise your multi-image input will be interpreted as a single image during augmentation.\n",
      "  ia.warn(\n"
     ]
    },
    {
     "name": "stdout",
     "output_type": "stream",
     "text": [
      "\b\b\b\b\b\b\b\b\b\b\b\b\b\b\b\b\b\b\b\b\b\b\b\b\b\b\b\b\b\b\b\b\b\b\b\b\b\b\b\b\b\b\b\b\b\b\b\b\b\b\b\b\b\b\b\b\b\b\b\b\b\b\b\b\b\b\b\b\b\b\b\b\b\b\b\b\b\b\b\b\b\b\b\b\b\b\b\b\b\b\b\b\b\b\b\b\b\b\b\b\b\b\b\b\b\b\b\b\b\b\b\b\b\b\b\b\b\b\b\b\b\b\b\b\b\b\b\b\b\b\b\b\b\b\b\b\b\b\b\b\b\b\b\b\b\b\b\b\b\b\b\b\b\b\b\b\b\b\b\b\b\b\b\b\b\b\b\b\b\b\b\b\b\b\b\b\b\b\b\b\b\b\b\b\b\b\b\b\b\b\b\b\b\b\b\b\b\b\b\b\b\b\b\b\b\b\b\b\b\b\b\b\b\b\b\b\b\b\b\b\b\b\b\b\b\b\b\r\n",
      " 61/146 [===========>..................] - ETA: 2:25 - batch: 30.0000 - size: 2.0000 - loss: 5.7097 - rpn_class_loss: 1.3842 - rpn_bbox_loss: 2.4309 - mrcnn_class_loss: 0.5362 - mrcnn_bbox_loss: 0.8760 - mrcnn_mask_loss: 0.4824"
     ]
    },
    {
     "name": "stderr",
     "output_type": "stream",
     "text": [
      "/usr/local/lib/python3.8/dist-packages/imgaug/augmenters/base.py:49: SuspiciousSingleImageShapeWarning: You provided a numpy array of shape (1024, 1024, 56) as a single-image augmentation input, which was interpreted as (H, W, C). The last dimension however has a size of >=32, which indicates that you provided a multi-image array with shape (N, H, W) instead. If that is the case, you should use e.g. augmenter(imageS=<your input>) or augment_imageS(<your input>). Otherwise your multi-image input will be interpreted as a single image during augmentation.\n",
      "  ia.warn(\n",
      "/usr/local/lib/python3.8/dist-packages/imgaug/augmenters/base.py:49: SuspiciousSingleImageShapeWarning: You provided a numpy array of shape (1024, 1024, 44) as a single-image augmentation input, which was interpreted as (H, W, C). The last dimension however has a size of >=32, which indicates that you provided a multi-image array with shape (N, H, W) instead. If that is the case, you should use e.g. augmenter(imageS=<your input>) or augment_imageS(<your input>). Otherwise your multi-image input will be interpreted as a single image during augmentation.\n",
      "  ia.warn(\n"
     ]
    },
    {
     "name": "stdout",
     "output_type": "stream",
     "text": [
      " 63/146 [===========>..................] - ETA: 2:22 - batch: 31.0000 - size: 2.0000 - loss: 5.6005 - rpn_class_loss: 1.3506 - rpn_bbox_loss: 2.3707 - mrcnn_class_loss: 0.5306 - mrcnn_bbox_loss: 0.8666 - mrcnn_mask_loss: 0.4820"
     ]
    },
    {
     "name": "stderr",
     "output_type": "stream",
     "text": [
      "/usr/local/lib/python3.8/dist-packages/imgaug/augmenters/base.py:49: SuspiciousSingleImageShapeWarning: You provided a numpy array of shape (1024, 1024, 62) as a single-image augmentation input, which was interpreted as (H, W, C). The last dimension however has a size of >=32, which indicates that you provided a multi-image array with shape (N, H, W) instead. If that is the case, you should use e.g. augmenter(imageS=<your input>) or augment_imageS(<your input>). Otherwise your multi-image input will be interpreted as a single image during augmentation.\n",
      "  ia.warn(\n",
      "/usr/local/lib/python3.8/dist-packages/imgaug/augmenters/base.py:49: SuspiciousSingleImageShapeWarning: You provided a numpy array of shape (1024, 1024, 44) as a single-image augmentation input, which was interpreted as (H, W, C). The last dimension however has a size of >=32, which indicates that you provided a multi-image array with shape (N, H, W) instead. If that is the case, you should use e.g. augmenter(imageS=<your input>) or augment_imageS(<your input>). Otherwise your multi-image input will be interpreted as a single image during augmentation.\n",
      "  ia.warn(\n"
     ]
    },
    {
     "name": "stdout",
     "output_type": "stream",
     "text": [
      "\b\b\b\b\b\b\b\b\b\b\b\b\b\b\b\b\b\b\b\b\b\b\b\b\b\b\b\b\b\b\b\b\b\b\b\b\b\b\b\b\b\b\b\b\b\b\b\b\b\b\b\b\b\b\b\b\b\b\b\b\b\b\b\b\b\b\b\b\b\b\b\b\b\b\b\b\b\b\b\b\b\b\b\b\b\b\b\b\b\b\b\b\b\b\b\b\b\b\b\b\b\b\b\b\b\b\b\b\b\b\b\b\b\b\b\b\b\b\b\b\b\b\b\b\b\b\b\b\b\b\b\b\b\b\b\b\b\b\b\b\b\b\b\b\b\b\b\b\b\b\b\b\b\b\b\b\b\b\b\b\b\b\b\b\b\b\b\b\b\b\b\b\b\b\b\b\b\b\b\b\b\b\b\b\b\b\b\b\b\b\b\b\b\b\b\b\b\b\b\b\b\b\b\b\b\b\b\b\b\b\b\b\b\b\b\b\b\b\b\b\b\b\b\b\b\b\b\r\n",
      " 64/146 [============>.................] - ETA: 2:22 - batch: 31.5000 - size: 2.0000 - loss: 5.5550 - rpn_class_loss: 1.3354 - rpn_bbox_loss: 2.3443 - mrcnn_class_loss: 0.5308 - mrcnn_bbox_loss: 0.8618 - mrcnn_mask_loss: 0.4826"
     ]
    },
    {
     "name": "stderr",
     "output_type": "stream",
     "text": [
      "/usr/local/lib/python3.8/dist-packages/imgaug/augmenters/base.py:49: SuspiciousSingleImageShapeWarning: You provided a numpy array of shape (1024, 1024, 62) as a single-image augmentation input, which was interpreted as (H, W, C). The last dimension however has a size of >=32, which indicates that you provided a multi-image array with shape (N, H, W) instead. If that is the case, you should use e.g. augmenter(imageS=<your input>) or augment_imageS(<your input>). Otherwise your multi-image input will be interpreted as a single image during augmentation.\n",
      "  ia.warn(\n"
     ]
    },
    {
     "name": "stdout",
     "output_type": "stream",
     "text": [
      "\b\b\b\b\b\b\b\b\b\b\b\b\b\b\b\b\b\b\b\b\b\b\b\b\b\b\b\b\b\b\b\b\b\b\b\b\b\b\b\b\b\b\b\b\b\b\b\b\b\b\b\b\b\b\b\b\b\b\b\b\b\b\b\b\b\b\b\b\b\b\b\b\b\b\b\b\b\b\b\b\b\b\b\b\b\b\b\b\b\b\b\b\b\b\b\b\b\b\b\b\b\b\b\b\b\b\b\b\b\b\b\b\b\b\b\b\b\b\b\b\b\b\b\b\b\b\b\b\b\b\b\b\b\b\b\b\b\b\b\b\b\b\b\b\b\b\b\b\b\b\b\b\b\b\b\b\b\b\b\b\b\b\b\b\b\b\b\b\b\b\b\b\b\b\b\b\b\b\b\b\b\b\b\b\b\b\b\b\b\b\b\b\b\b\b\b\b\b\b\b\b\b\b\b\b\b\b\b\b\b\b\b\b\b\b\b\b\b\b\b\b\b\b\b\b\b\b\r\n",
      " 65/146 [============>.................] - ETA: 2:20 - batch: 32.0000 - size: 2.0000 - loss: 5.5080 - rpn_class_loss: 1.3201 - rpn_bbox_loss: 2.3169 - mrcnn_class_loss: 0.5311 - mrcnn_bbox_loss: 0.8564 - mrcnn_mask_loss: 0.4834"
     ]
    },
    {
     "name": "stderr",
     "output_type": "stream",
     "text": [
      "/usr/local/lib/python3.8/dist-packages/imgaug/augmenters/base.py:49: SuspiciousSingleImageShapeWarning: You provided a numpy array of shape (1024, 1024, 62) as a single-image augmentation input, which was interpreted as (H, W, C). The last dimension however has a size of >=32, which indicates that you provided a multi-image array with shape (N, H, W) instead. If that is the case, you should use e.g. augmenter(imageS=<your input>) or augment_imageS(<your input>). Otherwise your multi-image input will be interpreted as a single image during augmentation.\n",
      "  ia.warn(\n",
      "/usr/local/lib/python3.8/dist-packages/imgaug/augmenters/base.py:49: SuspiciousSingleImageShapeWarning: You provided a numpy array of shape (1024, 1024, 64) as a single-image augmentation input, which was interpreted as (H, W, C). The last dimension however has a size of >=32, which indicates that you provided a multi-image array with shape (N, H, W) instead. If that is the case, you should use e.g. augmenter(imageS=<your input>) or augment_imageS(<your input>). Otherwise your multi-image input will be interpreted as a single image during augmentation.\n",
      "  ia.warn(\n",
      "/usr/local/lib/python3.8/dist-packages/imgaug/augmenters/base.py:49: SuspiciousSingleImageShapeWarning: You provided a numpy array of shape (1024, 1024, 44) as a single-image augmentation input, which was interpreted as (H, W, C). The last dimension however has a size of >=32, which indicates that you provided a multi-image array with shape (N, H, W) instead. If that is the case, you should use e.g. augmenter(imageS=<your input>) or augment_imageS(<your input>). Otherwise your multi-image input will be interpreted as a single image during augmentation.\n",
      "  ia.warn(\n"
     ]
    },
    {
     "name": "stdout",
     "output_type": "stream",
     "text": [
      "\b\b\b\b\b\b\b\b\b\b\b\b\b\b\b\b\b\b\b\b\b\b\b\b\b\b\b\b\b\b\b\b\b\b\b\b\b\b\b\b\b\b\b\b\b\b\b\b\b\b\b\b\b\b\b\b\b\b\b\b\b\b\b\b\b\b\b\b\b\b\b\b\b\b\b\b\b\b\b\b\b\b\b\b\b\b\b\b\b\b\b\b\b\b\b\b\b\b\b\b\b\b\b\b\b\b\b\b\b\b\b\b\b\b\b\b\b\b\b\b\b\b\b\b\b\b\b\b\b\b\b\b\b\b\b\b\b\b\b\b\b\b\b\b\b\b\b\b\b\b\b\b\b\b\b\b\b\b\b\b\b\b\b\b\b\b\b\b\b\b\b\b\b\b\b\b\b\b\b\b\b\b\b\b\b\b\b\b\b\b\b\b\b\b\b\b\b\b\b\b\b\b\b\b\b\b\b\b\b\b\b\b\b\b\b\b\b\b\b\b\b\b\b\b\b\b\b\r\n",
      " 66/146 [============>.................] - ETA: 2:21 - batch: 32.5000 - size: 2.0000 - loss: 5.4639 - rpn_class_loss: 1.3049 - rpn_bbox_loss: 2.2909 - mrcnn_class_loss: 0.5320 - mrcnn_bbox_loss: 0.8515 - mrcnn_mask_loss: 0.4846"
     ]
    },
    {
     "name": "stderr",
     "output_type": "stream",
     "text": [
      "/usr/local/lib/python3.8/dist-packages/imgaug/augmenters/base.py:49: SuspiciousSingleImageShapeWarning: You provided a numpy array of shape (1024, 1024, 34) as a single-image augmentation input, which was interpreted as (H, W, C). The last dimension however has a size of >=32, which indicates that you provided a multi-image array with shape (N, H, W) instead. If that is the case, you should use e.g. augmenter(imageS=<your input>) or augment_imageS(<your input>). Otherwise your multi-image input will be interpreted as a single image during augmentation.\n",
      "  ia.warn(\n"
     ]
    },
    {
     "name": "stdout",
     "output_type": "stream",
     "text": [
      " 68/146 [============>.................] - ETA: 2:17 - batch: 33.5000 - size: 2.0000 - loss: 5.3698 - rpn_class_loss: 1.2758 - rpn_bbox_loss: 2.2389 - mrcnn_class_loss: 0.5259 - mrcnn_bbox_loss: 0.8457 - mrcnn_mask_loss: 0.4835"
     ]
    },
    {
     "name": "stderr",
     "output_type": "stream",
     "text": [
      "/usr/local/lib/python3.8/dist-packages/imgaug/augmenters/base.py:49: SuspiciousSingleImageShapeWarning: You provided a numpy array of shape (1024, 1024, 40) as a single-image augmentation input, which was interpreted as (H, W, C). The last dimension however has a size of >=32, which indicates that you provided a multi-image array with shape (N, H, W) instead. If that is the case, you should use e.g. augmenter(imageS=<your input>) or augment_imageS(<your input>). Otherwise your multi-image input will be interpreted as a single image during augmentation.\n",
      "  ia.warn(\n"
     ]
    },
    {
     "name": "stdout",
     "output_type": "stream",
     "text": [
      "\b\b\b\b\b\b\b\b\b\b\b\b\b\b\b\b\b\b\b\b\b\b\b\b\b\b\b\b\b\b\b\b\b\b\b\b\b\b\b\b\b\b\b\b\b\b\b\b\b\b\b\b\b\b\b\b\b\b\b\b\b\b\b\b\b\b\b\b\b\b\b\b\b\b\b\b\b\b\b\b\b\b\b\b\b\b\b\b\b\b\b\b\b\b\b\b\b\b\b\b\b\b\b\b\b\b\b\b\b\b\b\b\b\b\b\b\b\b\b\b\b\b\b\b\b\b\b\b\b\b\b\b\b\b\b\b\b\b\b\b\b\b\b\b\b\b\b\b\b\b\b\b\b\b\b\b\b\b\b\b\b\b\b\b\b\b\b\b\b\b\b\b\b\b\b\b\b\b\b\b\b\b\b\b\b\b\b\b\b\b\b\b\b\b\b\b\b\b\b\b\b\b\b\b\b\b\b\b\b\b\b\b\b\b\b\b\b\b\b\b\b\b\b\b\b\b\b\r\n",
      " 69/146 [=============>................] - ETA: 2:14 - batch: 34.0000 - size: 2.0000 - loss: 5.3209 - rpn_class_loss: 1.2605 - rpn_bbox_loss: 2.2142 - mrcnn_class_loss: 0.5223 - mrcnn_bbox_loss: 0.8421 - mrcnn_mask_loss: 0.4818"
     ]
    },
    {
     "name": "stderr",
     "output_type": "stream",
     "text": [
      "/usr/local/lib/python3.8/dist-packages/imgaug/augmenters/base.py:49: SuspiciousSingleImageShapeWarning: You provided a numpy array of shape (1024, 1024, 120) as a single-image augmentation input, which was interpreted as (H, W, C). The last dimension however has a size of >=32, which indicates that you provided a multi-image array with shape (N, H, W) instead. If that is the case, you should use e.g. augmenter(imageS=<your input>) or augment_imageS(<your input>). Otherwise your multi-image input will be interpreted as a single image during augmentation.\n",
      "  ia.warn(\n",
      "/usr/local/lib/python3.8/dist-packages/imgaug/augmenters/base.py:49: SuspiciousSingleImageShapeWarning: You provided a numpy array of shape (1024, 1024, 34) as a single-image augmentation input, which was interpreted as (H, W, C). The last dimension however has a size of >=32, which indicates that you provided a multi-image array with shape (N, H, W) instead. If that is the case, you should use e.g. augmenter(imageS=<your input>) or augment_imageS(<your input>). Otherwise your multi-image input will be interpreted as a single image during augmentation.\n",
      "  ia.warn(\n"
     ]
    },
    {
     "name": "stdout",
     "output_type": "stream",
     "text": [
      " 71/146 [=============>................] - ETA: 2:12 - batch: 35.0000 - size: 2.0000 - loss: 5.2493 - rpn_class_loss: 1.2384 - rpn_bbox_loss: 2.1726 - mrcnn_class_loss: 0.5214 - mrcnn_bbox_loss: 0.8352 - mrcnn_mask_loss: 0.4817"
     ]
    },
    {
     "name": "stderr",
     "output_type": "stream",
     "text": [
      "/usr/local/lib/python3.8/dist-packages/imgaug/augmenters/base.py:49: SuspiciousSingleImageShapeWarning: You provided a numpy array of shape (1024, 1024, 64) as a single-image augmentation input, which was interpreted as (H, W, C). The last dimension however has a size of >=32, which indicates that you provided a multi-image array with shape (N, H, W) instead. If that is the case, you should use e.g. augmenter(imageS=<your input>) or augment_imageS(<your input>). Otherwise your multi-image input will be interpreted as a single image during augmentation.\n",
      "  ia.warn(\n"
     ]
    },
    {
     "name": "stdout",
     "output_type": "stream",
     "text": [
      "\b\b\b\b\b\b\b\b\b\b\b\b\b\b\b\b\b\b\b\b\b\b\b\b\b\b\b\b\b\b\b\b\b\b\b\b\b\b\b\b\b\b\b\b\b\b\b\b\b\b\b\b\b\b\b\b\b\b\b\b\b\b\b\b\b\b\b\b\b\b\b\b\b\b\b\b\b\b\b\b\b\b\b\b\b\b\b\b\b\b\b\b\b\b\b\b\b\b\b\b\b\b\b\b\b\b\b\b\b\b\b\b\b\b\b\b\b\b\b\b\b\b\b\b\b\b\b\b\b\b\b\b\b\b\b\b\b\b\b\b\b\b\b\b\b\b\b\b\b\b\b\b\b\b\b\b\b\b\b\b\b\b\b\b\b\b\b\b\b\b\b\b\b\b\b\b\b\b\b\b\b\b\b\b\b\b\b\b\b\b\b\b\b\b\b\b\b\b\b\b\b\b\b\b\b\b\b\b\b\b\b\b\b\b\b\b\b\b\b\b\b\b\b\b\b\b\b\r\n",
      " 72/146 [=============>................] - ETA: 2:11 - batch: 35.5000 - size: 2.0000 - loss: 5.2154 - rpn_class_loss: 1.2263 - rpn_bbox_loss: 2.1521 - mrcnn_class_loss: 0.5236 - mrcnn_bbox_loss: 0.8323 - mrcnn_mask_loss: 0.4810"
     ]
    },
    {
     "name": "stderr",
     "output_type": "stream",
     "text": [
      "/usr/local/lib/python3.8/dist-packages/imgaug/augmenters/base.py:49: SuspiciousSingleImageShapeWarning: You provided a numpy array of shape (1024, 1024, 58) as a single-image augmentation input, which was interpreted as (H, W, C). The last dimension however has a size of >=32, which indicates that you provided a multi-image array with shape (N, H, W) instead. If that is the case, you should use e.g. augmenter(imageS=<your input>) or augment_imageS(<your input>). Otherwise your multi-image input will be interpreted as a single image during augmentation.\n",
      "  ia.warn(\n"
     ]
    },
    {
     "name": "stdout",
     "output_type": "stream",
     "text": [
      "\b\b\b\b\b\b\b\b\b\b\b\b\b\b\b\b\b\b\b\b\b\b\b\b\b\b\b\b\b\b\b\b\b\b\b\b\b\b\b\b\b\b\b\b\b\b\b\b\b\b\b\b\b\b\b\b\b\b\b\b\b\b\b\b\b\b\b\b\b\b\b\b\b\b\b\b\b\b\b\b\b\b\b\b\b\b\b\b\b\b\b\b\b\b\b\b\b\b\b\b\b\b\b\b\b\b\b\b\b\b\b\b\b\b\b\b\b\b\b\b\b\b\b\b\b\b\b\b\b\b\b\b\b\b\b\b\b\b\b\b\b\b\b\b\b\b\b\b\b\b\b\b\b\b\b\b\b\b\b\b\b\b\b\b\b\b\b\b\b\b\b\b\b\b\b\b\b\b\b\b\b\b\b\b\b\b\b\b\b\b\b\b\b\b\b\b\b\b\b\b\b\b\b\b\b\b\b\b\b\b\b\b\b\b\b\b\b\b\b\b\b\b\b\b\b\b\b\r\n",
      " 73/146 [==============>...............] - ETA: 2:10 - batch: 36.0000 - size: 2.0000 - loss: 5.1765 - rpn_class_loss: 1.2137 - rpn_bbox_loss: 2.1307 - mrcnn_class_loss: 0.5238 - mrcnn_bbox_loss: 0.8278 - mrcnn_mask_loss: 0.4805"
     ]
    },
    {
     "name": "stderr",
     "output_type": "stream",
     "text": [
      "/usr/local/lib/python3.8/dist-packages/imgaug/augmenters/base.py:49: SuspiciousSingleImageShapeWarning: You provided a numpy array of shape (1024, 1024, 34) as a single-image augmentation input, which was interpreted as (H, W, C). The last dimension however has a size of >=32, which indicates that you provided a multi-image array with shape (N, H, W) instead. If that is the case, you should use e.g. augmenter(imageS=<your input>) or augment_imageS(<your input>). Otherwise your multi-image input will be interpreted as a single image during augmentation.\n",
      "  ia.warn(\n"
     ]
    },
    {
     "name": "stdout",
     "output_type": "stream",
     "text": [
      "\b\b\b\b\b\b\b\b\b\b\b\b\b\b\b\b\b\b\b\b\b\b\b\b\b\b\b\b\b\b\b\b\b\b\b\b\b\b\b\b\b\b\b\b\b\b\b\b\b\b\b\b\b\b\b\b\b\b\b\b\b\b\b\b\b\b\b\b\b\b\b\b\b\b\b\b\b\b\b\b\b\b\b\b\b\b\b\b\b\b\b\b\b\b\b\b\b\b\b\b\b\b\b\b\b\b\b\b\b\b\b\b\b\b\b\b\b\b\b\b\b\b\b\b\b\b\b\b\b\b\b\b\b\b\b\b\b\b\b\b\b\b\b\b\b\b\b\b\b\b\b\b\b\b\b\b\b\b\b\b\b\b\b\b\b\b\b\b\b\b\b\b\b\b\b\b\b\b\b\b\b\b\b\b\b\b\b\b\b\b\b\b\b\b\b\b\b\b\b\b\b\b\b\b\b\b\b\b\b\b\b\b\b\b\b\b\b\b\b\b\b\b\b\b\b\b\b\r\n",
      " 74/146 [==============>...............] - ETA: 2:08 - batch: 36.5000 - size: 2.0000 - loss: 5.1364 - rpn_class_loss: 1.2006 - rpn_bbox_loss: 2.1083 - mrcnn_class_loss: 0.5214 - mrcnn_bbox_loss: 0.8253 - mrcnn_mask_loss: 0.4809"
     ]
    },
    {
     "name": "stderr",
     "output_type": "stream",
     "text": [
      "/usr/local/lib/python3.8/dist-packages/imgaug/augmenters/base.py:49: SuspiciousSingleImageShapeWarning: You provided a numpy array of shape (1024, 1024, 64) as a single-image augmentation input, which was interpreted as (H, W, C). The last dimension however has a size of >=32, which indicates that you provided a multi-image array with shape (N, H, W) instead. If that is the case, you should use e.g. augmenter(imageS=<your input>) or augment_imageS(<your input>). Otherwise your multi-image input will be interpreted as a single image during augmentation.\n",
      "  ia.warn(\n",
      "/usr/local/lib/python3.8/dist-packages/imgaug/augmenters/base.py:49: SuspiciousSingleImageShapeWarning: You provided a numpy array of shape (1024, 1024, 56) as a single-image augmentation input, which was interpreted as (H, W, C). The last dimension however has a size of >=32, which indicates that you provided a multi-image array with shape (N, H, W) instead. If that is the case, you should use e.g. augmenter(imageS=<your input>) or augment_imageS(<your input>). Otherwise your multi-image input will be interpreted as a single image during augmentation.\n",
      "  ia.warn(\n"
     ]
    },
    {
     "name": "stdout",
     "output_type": "stream",
     "text": [
      " 76/146 [==============>...............] - ETA: 2:04 - batch: 37.5000 - size: 2.0000 - loss: 5.0614 - rpn_class_loss: 1.1783 - rpn_bbox_loss: 2.0671 - mrcnn_class_loss: 0.5180 - mrcnn_bbox_loss: 0.8174 - mrcnn_mask_loss: 0.4806"
     ]
    },
    {
     "name": "stderr",
     "output_type": "stream",
     "text": [
      "/usr/local/lib/python3.8/dist-packages/imgaug/augmenters/base.py:49: SuspiciousSingleImageShapeWarning: You provided a numpy array of shape (1024, 1024, 44) as a single-image augmentation input, which was interpreted as (H, W, C). The last dimension however has a size of >=32, which indicates that you provided a multi-image array with shape (N, H, W) instead. If that is the case, you should use e.g. augmenter(imageS=<your input>) or augment_imageS(<your input>). Otherwise your multi-image input will be interpreted as a single image during augmentation.\n",
      "  ia.warn(\n",
      "/usr/local/lib/python3.8/dist-packages/imgaug/augmenters/base.py:49: SuspiciousSingleImageShapeWarning: You provided a numpy array of shape (1024, 1024, 40) as a single-image augmentation input, which was interpreted as (H, W, C). The last dimension however has a size of >=32, which indicates that you provided a multi-image array with shape (N, H, W) instead. If that is the case, you should use e.g. augmenter(imageS=<your input>) or augment_imageS(<your input>). Otherwise your multi-image input will be interpreted as a single image during augmentation.\n",
      "  ia.warn(\n"
     ]
    },
    {
     "name": "stdout",
     "output_type": "stream",
     "text": [
      "\b\b\b\b\b\b\b\b\b\b\b\b\b\b\b\b\b\b\b\b\b\b\b\b\b\b\b\b\b\b\b\b\b\b\b\b\b\b\b\b\b\b\b\b\b\b\b\b\b\b\b\b\b\b\b\b\b\b\b\b\b\b\b\b\b\b\b\b\b\b\b\b\b\b\b\b\b\b\b\b\b\b\b\b\b\b\b\b\b\b\b\b\b\b\b\b\b\b\b\b\b\b\b\b\b\b\b\b\b\b\b\b\b\b\b\b\b\b\b\b\b\b\b\b\b\b\b\b\b\b\b\b\b\b\b\b\b\b\b\b\b\b\b\b\b\b\b\b\b\b\b\b\b\b\b\b\b\b\b\b\b\b\b\b\b\b\b\b\b\b\b\b\b\b\b\b\b\b\b\b\b\b\b\b\b\b\b\b\b\b\b\b\b\b\b\b\b\b\b\b\b\b\b\b\b\b\b\b\b\b\b\b\b\b\b\b\b\b\b\b\b\b\b\b\b\b\b\r\n",
      " 77/146 [==============>...............] - ETA: 2:03 - batch: 38.0000 - size: 2.0000 - loss: 5.0234 - rpn_class_loss: 1.1661 - rpn_bbox_loss: 2.0464 - mrcnn_class_loss: 0.5178 - mrcnn_bbox_loss: 0.8124 - mrcnn_mask_loss: 0.4807"
     ]
    },
    {
     "name": "stderr",
     "output_type": "stream",
     "text": [
      "/usr/local/lib/python3.8/dist-packages/imgaug/augmenters/base.py:49: SuspiciousSingleImageShapeWarning: You provided a numpy array of shape (1024, 1024, 120) as a single-image augmentation input, which was interpreted as (H, W, C). The last dimension however has a size of >=32, which indicates that you provided a multi-image array with shape (N, H, W) instead. If that is the case, you should use e.g. augmenter(imageS=<your input>) or augment_imageS(<your input>). Otherwise your multi-image input will be interpreted as a single image during augmentation.\n",
      "  ia.warn(\n"
     ]
    },
    {
     "name": "stdout",
     "output_type": "stream",
     "text": [
      "\b\b\b\b\b\b\b\b\b\b\b\b\b\b\b\b\b\b\b\b\b\b\b\b\b\b\b\b\b\b\b\b\b\b\b\b\b\b\b\b\b\b\b\b\b\b\b\b\b\b\b\b\b\b\b\b\b\b\b\b\b\b\b\b\b\b\b\b\b\b\b\b\b\b\b\b\b\b\b\b\b\b\b\b\b\b\b\b\b\b\b\b\b\b\b\b\b\b\b\b\b\b\b\b\b\b\b\b\b\b\b\b\b\b\b\b\b\b\b\b\b\b\b\b\b\b\b\b\b\b\b\b\b\b\b\b\b\b\b\b\b\b\b\b\b\b\b\b\b\b\b\b\b\b\b\b\b\b\b\b\b\b\b\b\b\b\b\b\b\b\b\b\b\b\b\b\b\b\b\b\b\b\b\b\b\b\b\b\b\b\b\b\b\b\b\b\b\b\b\b\b\b\b\b\b\b\b\b\b\b\b\b\b\b\b\b\b\b\b\b\b\b\b\b\b\b\b\r\n",
      " 78/146 [===============>..............] - ETA: 2:03 - batch: 38.5000 - size: 2.0000 - loss: 4.9922 - rpn_class_loss: 1.1560 - rpn_bbox_loss: 2.0293 - mrcnn_class_loss: 0.5170 - mrcnn_bbox_loss: 0.8083 - mrcnn_mask_loss: 0.4815"
     ]
    },
    {
     "name": "stderr",
     "output_type": "stream",
     "text": [
      "/usr/local/lib/python3.8/dist-packages/imgaug/augmenters/base.py:49: SuspiciousSingleImageShapeWarning: You provided a numpy array of shape (1024, 1024, 72) as a single-image augmentation input, which was interpreted as (H, W, C). The last dimension however has a size of >=32, which indicates that you provided a multi-image array with shape (N, H, W) instead. If that is the case, you should use e.g. augmenter(imageS=<your input>) or augment_imageS(<your input>). Otherwise your multi-image input will be interpreted as a single image during augmentation.\n",
      "  ia.warn(\n",
      "/usr/local/lib/python3.8/dist-packages/imgaug/augmenters/base.py:49: SuspiciousSingleImageShapeWarning: You provided a numpy array of shape (1024, 1024, 38) as a single-image augmentation input, which was interpreted as (H, W, C). The last dimension however has a size of >=32, which indicates that you provided a multi-image array with shape (N, H, W) instead. If that is the case, you should use e.g. augmenter(imageS=<your input>) or augment_imageS(<your input>). Otherwise your multi-image input will be interpreted as a single image during augmentation.\n",
      "  ia.warn(\n"
     ]
    },
    {
     "name": "stdout",
     "output_type": "stream",
     "text": [
      "\b\b\b\b\b\b\b\b\b\b\b\b\b\b\b\b\b\b\b\b\b\b\b\b\b\b\b\b\b\b\b\b\b\b\b\b\b\b\b\b\b\b\b\b\b\b\b\b\b\b\b\b\b\b\b\b\b\b\b\b\b\b\b\b\b\b\b\b\b\b\b\b\b\b\b\b\b\b\b\b\b\b\b\b\b\b\b\b\b\b\b\b\b\b\b\b\b\b\b\b\b\b\b\b\b\b\b\b\b\b\b\b\b\b\b\b\b\b\b\b\b\b\b\b\b\b\b\b\b\b\b\b\b\b\b\b\b\b\b\b\b\b\b\b\b\b\b\b\b\b\b\b\b\b\b\b\b\b\b\b\b\b\b\b\b\b\b\b\b\b\b\b\b\b\b\b\b\b\b\b\b\b\b\b\b\b\b\b\b\b\b\b\b\b\b\b\b\b\b\b\b\b\b\b\b\b\b\b\b\b\b\b\b\b\b\b\b\b\b\b\b\b\b\b\b\b\b\r\n",
      " 79/146 [===============>..............] - ETA: 2:02 - batch: 39.0000 - size: 2.0000 - loss: 4.9595 - rpn_class_loss: 1.1454 - rpn_bbox_loss: 2.0097 - mrcnn_class_loss: 0.5176 - mrcnn_bbox_loss: 0.8051 - mrcnn_mask_loss: 0.4816"
     ]
    },
    {
     "name": "stderr",
     "output_type": "stream",
     "text": [
      "/usr/local/lib/python3.8/dist-packages/imgaug/augmenters/base.py:49: SuspiciousSingleImageShapeWarning: You provided a numpy array of shape (1024, 1024, 78) as a single-image augmentation input, which was interpreted as (H, W, C). The last dimension however has a size of >=32, which indicates that you provided a multi-image array with shape (N, H, W) instead. If that is the case, you should use e.g. augmenter(imageS=<your input>) or augment_imageS(<your input>). Otherwise your multi-image input will be interpreted as a single image during augmentation.\n",
      "  ia.warn(\n",
      "/usr/local/lib/python3.8/dist-packages/imgaug/augmenters/base.py:49: SuspiciousSingleImageShapeWarning: You provided a numpy array of shape (1024, 1024, 36) as a single-image augmentation input, which was interpreted as (H, W, C). The last dimension however has a size of >=32, which indicates that you provided a multi-image array with shape (N, H, W) instead. If that is the case, you should use e.g. augmenter(imageS=<your input>) or augment_imageS(<your input>). Otherwise your multi-image input will be interpreted as a single image during augmentation.\n",
      "  ia.warn(\n"
     ]
    },
    {
     "name": "stdout",
     "output_type": "stream",
     "text": [
      "\b\b\b\b\b\b\b\b\b\b\b\b\b\b\b\b\b\b\b\b\b\b\b\b\b\b\b\b\b\b\b\b\b\b\b\b\b\b\b\b\b\b\b\b\b\b\b\b\b\b\b\b\b\b\b\b\b\b\b\b\b\b\b\b\b\b\b\b\b\b\b\b\b\b\b\b\b\b\b\b\b\b\b\b\b\b\b\b\b\b\b\b\b\b\b\b\b\b\b\b\b\b\b\b\b\b\b\b\b\b\b\b\b\b\b\b\b\b\b\b\b\b\b\b\b\b\b\b\b\b\b\b\b\b\b\b\b\b\b\b\b\b\b\b\b\b\b\b\b\b\b\b\b\b\b\b\b\b\b\b\b\b\b\b\b\b\b\b\b\b\b\b\b\b\b\b\b\b\b\b\b\b\b\b\b\b\b\b\b\b\b\b\b\b\b\b\b\b\b\b\b\b\b\b\b\b\b\b\b\b\b\b\b\b\b\b\b\b\b\b\b\b\b\b\b\b\b\r\n",
      " 80/146 [===============>..............] - ETA: 2:01 - batch: 39.5000 - size: 2.0000 - loss: 4.9277 - rpn_class_loss: 1.1350 - rpn_bbox_loss: 1.9917 - mrcnn_class_loss: 0.5176 - mrcnn_bbox_loss: 0.8011 - mrcnn_mask_loss: 0.4824"
     ]
    },
    {
     "name": "stderr",
     "output_type": "stream",
     "text": [
      "/usr/local/lib/python3.8/dist-packages/imgaug/augmenters/base.py:49: SuspiciousSingleImageShapeWarning: You provided a numpy array of shape (1024, 1024, 34) as a single-image augmentation input, which was interpreted as (H, W, C). The last dimension however has a size of >=32, which indicates that you provided a multi-image array with shape (N, H, W) instead. If that is the case, you should use e.g. augmenter(imageS=<your input>) or augment_imageS(<your input>). Otherwise your multi-image input will be interpreted as a single image during augmentation.\n",
      "  ia.warn(\n"
     ]
    },
    {
     "name": "stdout",
     "output_type": "stream",
     "text": [
      "\b\b\b\b\b\b\b\b\b\b\b\b\b\b\b\b\b\b\b\b\b\b\b\b\b\b\b\b\b\b\b\b\b\b\b\b\b\b\b\b\b\b\b\b\b\b\b\b\b\b\b\b\b\b\b\b\b\b\b\b\b\b\b\b\b\b\b\b\b\b\b\b\b\b\b\b\b\b\b\b\b\b\b\b\b\b\b\b\b\b\b\b\b\b\b\b\b\b\b\b\b\b\b\b\b\b\b\b\b\b\b\b\b\b\b\b\b\b\b\b\b\b\b\b\b\b\b\b\b\b\b\b\b\b\b\b\b\b\b\b\b\b\b\b\b\b\b\b\b\b\b\b\b\b\b\b\b\b\b\b\b\b\b\b\b\b\b\b\b\b\b\b\b\b\b\b\b\b\b\b\b\b\b\b\b\b\b\b\b\b\b\b\b\b\b\b\b\b\b\b\b\b\b\b\b\b\b\b\b\b\b\b\b\b\b\b\b\b\b\b\b\b\b\b\b\b\b\r\n",
      " 81/146 [===============>..............] - ETA: 1:59 - batch: 40.0000 - size: 2.0000 - loss: 4.8939 - rpn_class_loss: 1.1246 - rpn_bbox_loss: 1.9728 - mrcnn_class_loss: 0.5164 - mrcnn_bbox_loss: 0.7970 - mrcnn_mask_loss: 0.4830"
     ]
    },
    {
     "name": "stderr",
     "output_type": "stream",
     "text": [
      "/usr/local/lib/python3.8/dist-packages/imgaug/augmenters/base.py:49: SuspiciousSingleImageShapeWarning: You provided a numpy array of shape (1024, 1024, 64) as a single-image augmentation input, which was interpreted as (H, W, C). The last dimension however has a size of >=32, which indicates that you provided a multi-image array with shape (N, H, W) instead. If that is the case, you should use e.g. augmenter(imageS=<your input>) or augment_imageS(<your input>). Otherwise your multi-image input will be interpreted as a single image during augmentation.\n",
      "  ia.warn(\n",
      "/usr/local/lib/python3.8/dist-packages/imgaug/augmenters/base.py:49: SuspiciousSingleImageShapeWarning: You provided a numpy array of shape (1024, 1024, 38) as a single-image augmentation input, which was interpreted as (H, W, C). The last dimension however has a size of >=32, which indicates that you provided a multi-image array with shape (N, H, W) instead. If that is the case, you should use e.g. augmenter(imageS=<your input>) or augment_imageS(<your input>). Otherwise your multi-image input will be interpreted as a single image during augmentation.\n",
      "  ia.warn(\n",
      "/usr/local/lib/python3.8/dist-packages/imgaug/augmenters/base.py:49: SuspiciousSingleImageShapeWarning: You provided a numpy array of shape (1024, 1024, 56) as a single-image augmentation input, which was interpreted as (H, W, C). The last dimension however has a size of >=32, which indicates that you provided a multi-image array with shape (N, H, W) instead. If that is the case, you should use e.g. augmenter(imageS=<your input>) or augment_imageS(<your input>). Otherwise your multi-image input will be interpreted as a single image during augmentation.\n",
      "  ia.warn(\n"
     ]
    },
    {
     "name": "stdout",
     "output_type": "stream",
     "text": [
      " 83/146 [================>.............] - ETA: 1:56 - batch: 41.0000 - size: 2.0000 - loss: 4.8291 - rpn_class_loss: 1.1060 - rpn_bbox_loss: 1.9356 - mrcnn_class_loss: 0.5139 - mrcnn_bbox_loss: 0.7907 - mrcnn_mask_loss: 0.4829"
     ]
    },
    {
     "name": "stderr",
     "output_type": "stream",
     "text": [
      "/usr/local/lib/python3.8/dist-packages/imgaug/augmenters/base.py:49: SuspiciousSingleImageShapeWarning: You provided a numpy array of shape (1024, 1024, 72) as a single-image augmentation input, which was interpreted as (H, W, C). The last dimension however has a size of >=32, which indicates that you provided a multi-image array with shape (N, H, W) instead. If that is the case, you should use e.g. augmenter(imageS=<your input>) or augment_imageS(<your input>). Otherwise your multi-image input will be interpreted as a single image during augmentation.\n",
      "  ia.warn(\n",
      "/usr/local/lib/python3.8/dist-packages/imgaug/augmenters/base.py:49: SuspiciousSingleImageShapeWarning: You provided a numpy array of shape (1024, 1024, 34) as a single-image augmentation input, which was interpreted as (H, W, C). The last dimension however has a size of >=32, which indicates that you provided a multi-image array with shape (N, H, W) instead. If that is the case, you should use e.g. augmenter(imageS=<your input>) or augment_imageS(<your input>). Otherwise your multi-image input will be interpreted as a single image during augmentation.\n",
      "  ia.warn(\n",
      "/usr/local/lib/python3.8/dist-packages/imgaug/augmenters/base.py:49: SuspiciousSingleImageShapeWarning: You provided a numpy array of shape (1024, 1024, 44) as a single-image augmentation input, which was interpreted as (H, W, C). The last dimension however has a size of >=32, which indicates that you provided a multi-image array with shape (N, H, W) instead. If that is the case, you should use e.g. augmenter(imageS=<your input>) or augment_imageS(<your input>). Otherwise your multi-image input will be interpreted as a single image during augmentation.\n",
      "  ia.warn(\n"
     ]
    },
    {
     "name": "stdout",
     "output_type": "stream",
     "text": [
      "\b\b\b\b\b\b\b\b\b\b\b\b\b\b\b\b\b\b\b\b\b\b\b\b\b\b\b\b\b\b\b\b\b\b\b\b\b\b\b\b\b\b\b\b\b\b\b\b\b\b\b\b\b\b\b\b\b\b\b\b\b\b\b\b\b\b\b\b\b\b\b\b\b\b\b\b\b\b\b\b\b\b\b\b\b\b\b\b\b\b\b\b\b\b\b\b\b\b\b\b\b\b\b\b\b\b\b\b\b\b\b\b\b\b\b\b\b\b\b\b\b\b\b\b\b\b\b\b\b\b\b\b\b\b\b\b\b\b\b\b\b\b\b\b\b\b\b\b\b\b\b\b\b\b\b\b\b\b\b\b\b\b\b\b\b\b\b\b\b\b\b\b\b\b\b\b\b\b\b\b\b\b\b\b\b\b\b\b\b\b\b\b\b\b\b\b\b\b\b\b\b\b\b\b\b\b\b\b\b\b\b\b\b\b\b\b\b\b\b\b\b\b\b\b\b\b\b\r\n",
      " 84/146 [================>.............] - ETA: 1:55 - batch: 41.5000 - size: 2.0000 - loss: 4.7975 - rpn_class_loss: 1.0965 - rpn_bbox_loss: 1.9176 - mrcnn_class_loss: 0.5139 - mrcnn_bbox_loss: 0.7866 - mrcnn_mask_loss: 0.4829"
     ]
    },
    {
     "name": "stderr",
     "output_type": "stream",
     "text": [
      "/usr/local/lib/python3.8/dist-packages/imgaug/augmenters/base.py:49: SuspiciousSingleImageShapeWarning: You provided a numpy array of shape (1024, 1024, 56) as a single-image augmentation input, which was interpreted as (H, W, C). The last dimension however has a size of >=32, which indicates that you provided a multi-image array with shape (N, H, W) instead. If that is the case, you should use e.g. augmenter(imageS=<your input>) or augment_imageS(<your input>). Otherwise your multi-image input will be interpreted as a single image during augmentation.\n",
      "  ia.warn(\n"
     ]
    },
    {
     "name": "stdout",
     "output_type": "stream",
     "text": [
      "\b\b\b\b\b\b\b\b\b\b\b\b\b\b\b\b\b\b\b\b\b\b\b\b\b\b\b\b\b\b\b\b\b\b\b\b\b\b\b\b\b\b\b\b\b\b\b\b\b\b\b\b\b\b\b\b\b\b\b\b\b\b\b\b\b\b\b\b\b\b\b\b\b\b\b\b\b\b\b\b\b\b\b\b\b\b\b\b\b\b\b\b\b\b\b\b\b\b\b\b\b\b\b\b\b\b\b\b\b\b\b\b\b\b\b\b\b\b\b\b\b\b\b\b\b\b\b\b\b\b\b\b\b\b\b\b\b\b\b\b\b\b\b\b\b\b\b\b\b\b\b\b\b\b\b\b\b\b\b\b\b\b\b\b\b\b\b\b\b\b\b\b\b\b\b\b\b\b\b\b\b\b\b\b\b\b\b\b\b\b\b\b\b\b\b\b\b\b\b\b\b\b\b\b\b\b\b\b\b\b\b\b\b\b\b\b\b\b\b\b\b\b\b\b\b\b\b\r\n",
      " 85/146 [================>.............] - ETA: 1:53 - batch: 42.0000 - size: 2.0000 - loss: 4.7635 - rpn_class_loss: 1.0863 - rpn_bbox_loss: 1.8992 - mrcnn_class_loss: 0.5129 - mrcnn_bbox_loss: 0.7825 - mrcnn_mask_loss: 0.4827"
     ]
    },
    {
     "name": "stderr",
     "output_type": "stream",
     "text": [
      "/usr/local/lib/python3.8/dist-packages/imgaug/augmenters/base.py:49: SuspiciousSingleImageShapeWarning: You provided a numpy array of shape (1024, 1024, 44) as a single-image augmentation input, which was interpreted as (H, W, C). The last dimension however has a size of >=32, which indicates that you provided a multi-image array with shape (N, H, W) instead. If that is the case, you should use e.g. augmenter(imageS=<your input>) or augment_imageS(<your input>). Otherwise your multi-image input will be interpreted as a single image during augmentation.\n",
      "  ia.warn(\n"
     ]
    },
    {
     "name": "stdout",
     "output_type": "stream",
     "text": [
      "\b\b\b\b\b\b\b\b\b\b\b\b\b\b\b\b\b\b\b\b\b\b\b\b\b\b\b\b\b\b\b\b\b\b\b\b\b\b\b\b\b\b\b\b\b\b\b\b\b\b\b\b\b\b\b\b\b\b\b\b\b\b\b\b\b\b\b\b\b\b\b\b\b\b\b\b\b\b\b\b\b\b\b\b\b\b\b\b\b\b\b\b\b\b\b\b\b\b\b\b\b\b\b\b\b\b\b\b\b\b\b\b\b\b\b\b\b\b\b\b\b\b\b\b\b\b\b\b\b\b\b\b\b\b\b\b\b\b\b\b\b\b\b\b\b\b\b\b\b\b\b\b\b\b\b\b\b\b\b\b\b\b\b\b\b\b\b\b\b\b\b\b\b\b\b\b\b\b\b\b\b\b\b\b\b\b\b\b\b\b\b\b\b\b\b\b\b\b\b\b\b\b\b\b\b\b\b\b\b\b\b\b\b\b\b\b\b\b\b\b\b\b\b\b\b\b\b\r\n",
      " 86/146 [================>.............] - ETA: 1:51 - batch: 42.5000 - size: 2.0000 - loss: 4.7330 - rpn_class_loss: 1.0773 - rpn_bbox_loss: 1.8817 - mrcnn_class_loss: 0.5130 - mrcnn_bbox_loss: 0.7782 - mrcnn_mask_loss: 0.4828"
     ]
    },
    {
     "name": "stderr",
     "output_type": "stream",
     "text": [
      "/usr/local/lib/python3.8/dist-packages/imgaug/augmenters/base.py:49: SuspiciousSingleImageShapeWarning: You provided a numpy array of shape (1024, 1024, 34) as a single-image augmentation input, which was interpreted as (H, W, C). The last dimension however has a size of >=32, which indicates that you provided a multi-image array with shape (N, H, W) instead. If that is the case, you should use e.g. augmenter(imageS=<your input>) or augment_imageS(<your input>). Otherwise your multi-image input will be interpreted as a single image during augmentation.\n",
      "  ia.warn(\n",
      "/usr/local/lib/python3.8/dist-packages/imgaug/augmenters/base.py:49: SuspiciousSingleImageShapeWarning: You provided a numpy array of shape (1024, 1024, 36) as a single-image augmentation input, which was interpreted as (H, W, C). The last dimension however has a size of >=32, which indicates that you provided a multi-image array with shape (N, H, W) instead. If that is the case, you should use e.g. augmenter(imageS=<your input>) or augment_imageS(<your input>). Otherwise your multi-image input will be interpreted as a single image during augmentation.\n",
      "  ia.warn(\n"
     ]
    },
    {
     "name": "stdout",
     "output_type": "stream",
     "text": [
      "\b\b\b\b\b\b\b\b\b\b\b\b\b\b\b\b\b\b\b\b\b\b\b\b\b\b\b\b\b\b\b\b\b\b\b\b\b\b\b\b\b\b\b\b\b\b\b\b\b\b\b\b\b\b\b\b\b\b\b\b\b\b\b\b\b\b\b\b\b\b\b\b\b\b\b\b\b\b\b\b\b\b\b\b\b\b\b\b\b\b\b\b\b\b\b\b\b\b\b\b\b\b\b\b\b\b\b\b\b\b\b\b\b\b\b\b\b\b\b\b\b\b\b\b\b\b\b\b\b\b\b\b\b\b\b\b\b\b\b\b\b\b\b\b\b\b\b\b\b\b\b\b\b\b\b\b\b\b\b\b\b\b\b\b\b\b\b\b\b\b\b\b\b\b\b\b\b\b\b\b\b\b\b\b\b\b\b\b\b\b\b\b\b\b\b\b\b\b\b\b\b\b\b\b\b\b\b\b\b\b\b\b\b\b\b\b\b\b\b\b\b\b\b\b\b\b\b\r\n",
      " 87/146 [================>.............] - ETA: 1:49 - batch: 43.0000 - size: 2.0000 - loss: 4.7026 - rpn_class_loss: 1.0670 - rpn_bbox_loss: 1.8637 - mrcnn_class_loss: 0.5152 - mrcnn_bbox_loss: 0.7746 - mrcnn_mask_loss: 0.4821"
     ]
    },
    {
     "name": "stderr",
     "output_type": "stream",
     "text": [
      "/usr/local/lib/python3.8/dist-packages/imgaug/augmenters/base.py:49: SuspiciousSingleImageShapeWarning: You provided a numpy array of shape (1024, 1024, 56) as a single-image augmentation input, which was interpreted as (H, W, C). The last dimension however has a size of >=32, which indicates that you provided a multi-image array with shape (N, H, W) instead. If that is the case, you should use e.g. augmenter(imageS=<your input>) or augment_imageS(<your input>). Otherwise your multi-image input will be interpreted as a single image during augmentation.\n",
      "  ia.warn(\n"
     ]
    },
    {
     "name": "stdout",
     "output_type": "stream",
     "text": [
      "\b\b\b\b\b\b\b\b\b\b\b\b\b\b\b\b\b\b\b\b\b\b\b\b\b\b\b\b\b\b\b\b\b\b\b\b\b\b\b\b\b\b\b\b\b\b\b\b\b\b\b\b\b\b\b\b\b\b\b\b\b\b\b\b\b\b\b\b\b\b\b\b\b\b\b\b\b\b\b\b\b\b\b\b\b\b\b\b\b\b\b\b\b\b\b\b\b\b\b\b\b\b\b\b\b\b\b\b\b\b\b\b\b\b\b\b\b\b\b\b\b\b\b\b\b\b\b\b\b\b\b\b\b\b\b\b\b\b\b\b\b\b\b\b\b\b\b\b\b\b\b\b\b\b\b\b\b\b\b\b\b\b\b\b\b\b\b\b\b\b\b\b\b\b\b\b\b\b\b\b\b\b\b\b\b\b\b\b\b\b\b\b\b\b\b\b\b\b\b\b\b\b\b\b\b\b\b\b\b\b\b\b\b\b\b\b\b\b\b\b\b\b\b\b\b\b\b\r\n",
      " 88/146 [=================>............] - ETA: 1:47 - batch: 43.5000 - size: 2.0000 - loss: 4.6750 - rpn_class_loss: 1.0582 - rpn_bbox_loss: 1.8469 - mrcnn_class_loss: 0.5167 - mrcnn_bbox_loss: 0.7712 - mrcnn_mask_loss: 0.4821"
     ]
    },
    {
     "name": "stderr",
     "output_type": "stream",
     "text": [
      "/usr/local/lib/python3.8/dist-packages/imgaug/augmenters/base.py:49: SuspiciousSingleImageShapeWarning: You provided a numpy array of shape (1024, 1024, 46) as a single-image augmentation input, which was interpreted as (H, W, C). The last dimension however has a size of >=32, which indicates that you provided a multi-image array with shape (N, H, W) instead. If that is the case, you should use e.g. augmenter(imageS=<your input>) or augment_imageS(<your input>). Otherwise your multi-image input will be interpreted as a single image during augmentation.\n",
      "  ia.warn(\n",
      "/usr/local/lib/python3.8/dist-packages/imgaug/augmenters/base.py:49: SuspiciousSingleImageShapeWarning: You provided a numpy array of shape (1024, 1024, 44) as a single-image augmentation input, which was interpreted as (H, W, C). The last dimension however has a size of >=32, which indicates that you provided a multi-image array with shape (N, H, W) instead. If that is the case, you should use e.g. augmenter(imageS=<your input>) or augment_imageS(<your input>). Otherwise your multi-image input will be interpreted as a single image during augmentation.\n",
      "  ia.warn(\n"
     ]
    },
    {
     "name": "stdout",
     "output_type": "stream",
     "text": [
      "\b\b\b\b\b\b\b\b\b\b\b\b\b\b\b\b\b\b\b\b\b\b\b\b\b\b\b\b\b\b\b\b\b\b\b\b\b\b\b\b\b\b\b\b\b\b\b\b\b\b\b\b\b\b\b\b\b\b\b\b\b\b\b\b\b\b\b\b\b\b\b\b\b\b\b\b\b\b\b\b\b\b\b\b\b\b\b\b\b\b\b\b\b\b\b\b\b\b\b\b\b\b\b\b\b\b\b\b\b\b\b\b\b\b\b\b\b\b\b\b\b\b\b\b\b\b\b\b\b\b\b\b\b\b\b\b\b\b\b\b\b\b\b\b\b\b\b\b\b\b\b\b\b\b\b\b\b\b\b\b\b\b\b\b\b\b\b\b\b\b\b\b\b\b\b\b\b\b\b\b\b\b\b\b\b\b\b\b\b\b\b\b\b\b\b\b\b\b\b\b\b\b\b\b\b\b\b\b\b\b\b\b\b\b\b\b\b\b\b\b\b\b\b\b\b\b\b\r\n",
      " 89/146 [=================>............] - ETA: 1:45 - batch: 44.0000 - size: 2.0000 - loss: 4.6490 - rpn_class_loss: 1.0500 - rpn_bbox_loss: 1.8311 - mrcnn_class_loss: 0.5179 - mrcnn_bbox_loss: 0.7678 - mrcnn_mask_loss: 0.4822"
     ]
    },
    {
     "name": "stderr",
     "output_type": "stream",
     "text": [
      "/usr/local/lib/python3.8/dist-packages/imgaug/augmenters/base.py:49: SuspiciousSingleImageShapeWarning: You provided a numpy array of shape (1024, 1024, 44) as a single-image augmentation input, which was interpreted as (H, W, C). The last dimension however has a size of >=32, which indicates that you provided a multi-image array with shape (N, H, W) instead. If that is the case, you should use e.g. augmenter(imageS=<your input>) or augment_imageS(<your input>). Otherwise your multi-image input will be interpreted as a single image during augmentation.\n",
      "  ia.warn(\n"
     ]
    },
    {
     "name": "stdout",
     "output_type": "stream",
     "text": [
      "\b\b\b\b\b\b\b\b\b\b\b\b\b\b\b\b\b\b\b\b\b\b\b\b\b\b\b\b\b\b\b\b\b\b\b\b\b\b\b\b\b\b\b\b\b\b\b\b\b\b\b\b\b\b\b\b\b\b\b\b\b\b\b\b\b\b\b\b\b\b\b\b\b\b\b\b\b\b\b\b\b\b\b\b\b\b\b\b\b\b\b\b\b\b\b\b\b\b\b\b\b\b\b\b\b\b\b\b\b\b\b\b\b\b\b\b\b\b\b\b\b\b\b\b\b\b\b\b\b\b\b\b\b\b\b\b\b\b\b\b\b\b\b\b\b\b\b\b\b\b\b\b\b\b\b\b\b\b\b\b\b\b\b\b\b\b\b\b\b\b\b\b\b\b\b\b\b\b\b\b\b\b\b\b\b\b\b\b\b\b\b\b\b\b\b\b\b\b\b\b\b\b\b\b\b\b\b\b\b\b\b\b\b\b\b\b\b\b\b\b\b\b\b\b\b\b\b\r\n",
      " 90/146 [=================>............] - ETA: 1:43 - batch: 44.5000 - size: 2.0000 - loss: 4.6190 - rpn_class_loss: 1.0411 - rpn_bbox_loss: 1.8147 - mrcnn_class_loss: 0.5174 - mrcnn_bbox_loss: 0.7636 - mrcnn_mask_loss: 0.4822"
     ]
    },
    {
     "name": "stderr",
     "output_type": "stream",
     "text": [
      "/usr/local/lib/python3.8/dist-packages/imgaug/augmenters/base.py:49: SuspiciousSingleImageShapeWarning: You provided a numpy array of shape (1024, 1024, 34) as a single-image augmentation input, which was interpreted as (H, W, C). The last dimension however has a size of >=32, which indicates that you provided a multi-image array with shape (N, H, W) instead. If that is the case, you should use e.g. augmenter(imageS=<your input>) or augment_imageS(<your input>). Otherwise your multi-image input will be interpreted as a single image during augmentation.\n",
      "  ia.warn(\n"
     ]
    },
    {
     "name": "stdout",
     "output_type": "stream",
     "text": [
      "\b\b\b\b\b\b\b\b\b\b\b\b\b\b\b\b\b\b\b\b\b\b\b\b\b\b\b\b\b\b\b\b\b\b\b\b\b\b\b\b\b\b\b\b\b\b\b\b\b\b\b\b\b\b\b\b\b\b\b\b\b\b\b\b\b\b\b\b\b\b\b\b\b\b\b\b\b\b\b\b\b\b\b\b\b\b\b\b\b\b\b\b\b\b\b\b\b\b\b\b\b\b\b\b\b\b\b\b\b\b\b\b\b\b\b\b\b\b\b\b\b\b\b\b\b\b\b\b\b\b\b\b\b\b\b\b\b\b\b\b\b\b\b\b\b\b\b\b\b\b\b\b\b\b\b\b\b\b\b\b\b\b\b\b\b\b\b\b\b\b\b\b\b\b\b\b\b\b\b\b\b\b\b\b\b\b\b\b\b\b\b\b\b\b\b\b\b\b\b\b\b\b\b\b\b\b\b\b\b\b\b\b\b\b\b\b\b\b\b\b\b\b\b\b\b\b\b\r\n",
      " 91/146 [=================>............] - ETA: 1:42 - batch: 45.0000 - size: 2.0000 - loss: 4.5930 - rpn_class_loss: 1.0326 - rpn_bbox_loss: 1.8012 - mrcnn_class_loss: 0.5163 - mrcnn_bbox_loss: 0.7599 - mrcnn_mask_loss: 0.4830"
     ]
    },
    {
     "name": "stderr",
     "output_type": "stream",
     "text": [
      "/usr/local/lib/python3.8/dist-packages/imgaug/augmenters/base.py:49: SuspiciousSingleImageShapeWarning: You provided a numpy array of shape (1024, 1024, 44) as a single-image augmentation input, which was interpreted as (H, W, C). The last dimension however has a size of >=32, which indicates that you provided a multi-image array with shape (N, H, W) instead. If that is the case, you should use e.g. augmenter(imageS=<your input>) or augment_imageS(<your input>). Otherwise your multi-image input will be interpreted as a single image during augmentation.\n",
      "  ia.warn(\n",
      "/usr/local/lib/python3.8/dist-packages/imgaug/augmenters/base.py:49: SuspiciousSingleImageShapeWarning: You provided a numpy array of shape (1024, 1024, 36) as a single-image augmentation input, which was interpreted as (H, W, C). The last dimension however has a size of >=32, which indicates that you provided a multi-image array with shape (N, H, W) instead. If that is the case, you should use e.g. augmenter(imageS=<your input>) or augment_imageS(<your input>). Otherwise your multi-image input will be interpreted as a single image during augmentation.\n",
      "  ia.warn(\n"
     ]
    },
    {
     "name": "stdout",
     "output_type": "stream",
     "text": [
      "\b\b\b\b\b\b\b\b\b\b\b\b\b\b\b\b\b\b\b\b\b\b\b\b\b\b\b\b\b\b\b\b\b\b\b\b\b\b\b\b\b\b\b\b\b\b\b\b\b\b\b\b\b\b\b\b\b\b\b\b\b\b\b\b\b\b\b\b\b\b\b\b\b\b\b\b\b\b\b\b\b\b\b\b\b\b\b\b\b\b\b\b\b\b\b\b\b\b\b\b\b\b\b\b\b\b\b\b\b\b\b\b\b\b\b\b\b\b\b\b\b\b\b\b\b\b\b\b\b\b\b\b\b\b\b\b\b\b\b\b\b\b\b\b\b\b\b\b\b\b\b\b\b\b\b\b\b\b\b\b\b\b\b\b\b\b\b\b\b\b\b\b\b\b\b\b\b\b\b\b\b\b\b\b\b\b\b\b\b\b\b\b\b\b\b\b\b\b\b\b\b\b\b\b\b\b\b\b\b\b\b\b\b\b\b\b\b\b\b\b\b\b\b\b\b\b\b\r\n",
      " 92/146 [=================>............] - ETA: 1:40 - batch: 45.5000 - size: 2.0000 - loss: 4.5638 - rpn_class_loss: 1.0233 - rpn_bbox_loss: 1.7855 - mrcnn_class_loss: 0.5160 - mrcnn_bbox_loss: 0.7560 - mrcnn_mask_loss: 0.4829"
     ]
    },
    {
     "name": "stderr",
     "output_type": "stream",
     "text": [
      "/usr/local/lib/python3.8/dist-packages/imgaug/augmenters/base.py:49: SuspiciousSingleImageShapeWarning: You provided a numpy array of shape (1024, 1024, 44) as a single-image augmentation input, which was interpreted as (H, W, C). The last dimension however has a size of >=32, which indicates that you provided a multi-image array with shape (N, H, W) instead. If that is the case, you should use e.g. augmenter(imageS=<your input>) or augment_imageS(<your input>). Otherwise your multi-image input will be interpreted as a single image during augmentation.\n",
      "  ia.warn(\n"
     ]
    },
    {
     "name": "stdout",
     "output_type": "stream",
     "text": [
      "\b\b\b\b\b\b\b\b\b\b\b\b\b\b\b\b\b\b\b\b\b\b\b\b\b\b\b\b\b\b\b\b\b\b\b\b\b\b\b\b\b\b\b\b\b\b\b\b\b\b\b\b\b\b\b\b\b\b\b\b\b\b\b\b\b\b\b\b\b\b\b\b\b\b\b\b\b\b\b\b\b\b\b\b\b\b\b\b\b\b\b\b\b\b\b\b\b\b\b\b\b\b\b\b\b\b\b\b\b\b\b\b\b\b\b\b\b\b\b\b\b\b\b\b\b\b\b\b\b\b\b\b\b\b\b\b\b\b\b\b\b\b\b\b\b\b\b\b\b\b\b\b\b\b\b\b\b\b\b\b\b\b\b\b\b\b\b\b\b\b\b\b\b\b\b\b\b\b\b\b\b\b\b\b\b\b\b\b\b\b\b\b\b\b\b\b\b\b\b\b\b\b\b\b\b\b\b\b\b\b\b\b\b\b\b\b\b\b\b\b\b\b\b\b\b\b\b\r\n",
      " 93/146 [==================>...........] - ETA: 1:38 - batch: 46.0000 - size: 2.0000 - loss: 4.5356 - rpn_class_loss: 1.0143 - rpn_bbox_loss: 1.7701 - mrcnn_class_loss: 0.5158 - mrcnn_bbox_loss: 0.7529 - mrcnn_mask_loss: 0.4825"
     ]
    },
    {
     "name": "stderr",
     "output_type": "stream",
     "text": [
      "/usr/local/lib/python3.8/dist-packages/imgaug/augmenters/base.py:49: SuspiciousSingleImageShapeWarning: You provided a numpy array of shape (1024, 1024, 52) as a single-image augmentation input, which was interpreted as (H, W, C). The last dimension however has a size of >=32, which indicates that you provided a multi-image array with shape (N, H, W) instead. If that is the case, you should use e.g. augmenter(imageS=<your input>) or augment_imageS(<your input>). Otherwise your multi-image input will be interpreted as a single image during augmentation.\n",
      "  ia.warn(\n"
     ]
    },
    {
     "name": "stdout",
     "output_type": "stream",
     "text": [
      "\b\b\b\b\b\b\b\b\b\b\b\b\b\b\b\b\b\b\b\b\b\b\b\b\b\b\b\b\b\b\b\b\b\b\b\b\b\b\b\b\b\b\b\b\b\b\b\b\b\b\b\b\b\b\b\b\b\b\b\b\b\b\b\b\b\b\b\b\b\b\b\b\b\b\b\b\b\b\b\b\b\b\b\b\b\b\b\b\b\b\b\b\b\b\b\b\b\b\b\b\b\b\b\b\b\b\b\b\b\b\b\b\b\b\b\b\b\b\b\b\b\b\b\b\b\b\b\b\b\b\b\b\b\b\b\b\b\b\b\b\b\b\b\b\b\b\b\b\b\b\b\b\b\b\b\b\b\b\b\b\b\b\b\b\b\b\b\b\b\b\b\b\b\b\b\b\b\b\b\b\b\b\b\b\b\b\b\b\b\b\b\b\b\b\b\b\b\b\b\b\b\b\b\b\b\b\b\b\b\b\b\b\b\b\b\b\b\b\b\b\b\b\b\b\b\b\b\r\n",
      " 94/146 [==================>...........] - ETA: 1:36 - batch: 46.5000 - size: 2.0000 - loss: 4.5050 - rpn_class_loss: 1.0052 - rpn_bbox_loss: 1.7545 - mrcnn_class_loss: 0.5134 - mrcnn_bbox_loss: 0.7495 - mrcnn_mask_loss: 0.4823"
     ]
    },
    {
     "name": "stderr",
     "output_type": "stream",
     "text": [
      "/usr/local/lib/python3.8/dist-packages/imgaug/augmenters/base.py:49: SuspiciousSingleImageShapeWarning: You provided a numpy array of shape (1024, 1024, 64) as a single-image augmentation input, which was interpreted as (H, W, C). The last dimension however has a size of >=32, which indicates that you provided a multi-image array with shape (N, H, W) instead. If that is the case, you should use e.g. augmenter(imageS=<your input>) or augment_imageS(<your input>). Otherwise your multi-image input will be interpreted as a single image during augmentation.\n",
      "  ia.warn(\n",
      "/usr/local/lib/python3.8/dist-packages/imgaug/augmenters/base.py:49: SuspiciousSingleImageShapeWarning: You provided a numpy array of shape (1024, 1024, 38) as a single-image augmentation input, which was interpreted as (H, W, C). The last dimension however has a size of >=32, which indicates that you provided a multi-image array with shape (N, H, W) instead. If that is the case, you should use e.g. augmenter(imageS=<your input>) or augment_imageS(<your input>). Otherwise your multi-image input will be interpreted as a single image during augmentation.\n",
      "  ia.warn(\n"
     ]
    },
    {
     "name": "stdout",
     "output_type": "stream",
     "text": [
      "\b\b\b\b\b\b\b\b\b\b\b\b\b\b\b\b\b\b\b\b\b\b\b\b\b\b\b\b\b\b\b\b\b\b\b\b\b\b\b\b\b\b\b\b\b\b\b\b\b\b\b\b\b\b\b\b\b\b\b\b\b\b\b\b\b\b\b\b\b\b\b\b\b\b\b\b\b\b\b\b\b\b\b\b\b\b\b\b\b\b\b\b\b\b\b\b\b\b\b\b\b\b\b\b\b\b\b\b\b\b\b\b\b\b\b\b\b\b\b\b\b\b\b\b\b\b\b\b\b\b\b\b\b\b\b\b\b\b\b\b\b\b\b\b\b\b\b\b\b\b\b\b\b\b\b\b\b\b\b\b\b\b\b\b\b\b\b\b\b\b\b\b\b\b\b\b\b\b\b\b\b\b\b\b\b\b\b\b\b\b\b\b\b\b\b\b\b\b\b\b\b\b\b\b\b\b\b\b\b\b\b\b\b\b\b\b\b\b\b\b\b\b\b\b\b\b\b\r\n",
      " 95/146 [==================>...........] - ETA: 1:34 - batch: 47.0000 - size: 2.0000 - loss: 4.4852 - rpn_class_loss: 0.9982 - rpn_bbox_loss: 1.7429 - mrcnn_class_loss: 0.5139 - mrcnn_bbox_loss: 0.7471 - mrcnn_mask_loss: 0.4832"
     ]
    },
    {
     "name": "stderr",
     "output_type": "stream",
     "text": [
      "/usr/local/lib/python3.8/dist-packages/imgaug/augmenters/base.py:49: SuspiciousSingleImageShapeWarning: You provided a numpy array of shape (1024, 1024, 120) as a single-image augmentation input, which was interpreted as (H, W, C). The last dimension however has a size of >=32, which indicates that you provided a multi-image array with shape (N, H, W) instead. If that is the case, you should use e.g. augmenter(imageS=<your input>) or augment_imageS(<your input>). Otherwise your multi-image input will be interpreted as a single image during augmentation.\n",
      "  ia.warn(\n",
      "/usr/local/lib/python3.8/dist-packages/imgaug/augmenters/base.py:49: SuspiciousSingleImageShapeWarning: You provided a numpy array of shape (1024, 1024, 34) as a single-image augmentation input, which was interpreted as (H, W, C). The last dimension however has a size of >=32, which indicates that you provided a multi-image array with shape (N, H, W) instead. If that is the case, you should use e.g. augmenter(imageS=<your input>) or augment_imageS(<your input>). Otherwise your multi-image input will be interpreted as a single image during augmentation.\n",
      "  ia.warn(\n"
     ]
    },
    {
     "name": "stdout",
     "output_type": "stream",
     "text": [
      "\b\b\b\b\b\b\b\b\b\b\b\b\b\b\b\b\b\b\b\b\b\b\b\b\b\b\b\b\b\b\b\b\b\b\b\b\b\b\b\b\b\b\b\b\b\b\b\b\b\b\b\b\b\b\b\b\b\b\b\b\b\b\b\b\b\b\b\b\b\b\b\b\b\b\b\b\b\b\b\b\b\b\b\b\b\b\b\b\b\b\b\b\b\b\b\b\b\b\b\b\b\b\b\b\b\b\b\b\b\b\b\b\b\b\b\b\b\b\b\b\b\b\b\b\b\b\b\b\b\b\b\b\b\b\b\b\b\b\b\b\b\b\b\b\b\b\b\b\b\b\b\b\b\b\b\b\b\b\b\b\b\b\b\b\b\b\b\b\b\b\b\b\b\b\b\b\b\b\b\b\b\b\b\b\b\b\b\b\b\b\b\b\b\b\b\b\b\b\b\b\b\b\b\b\b\b\b\b\b\b\b\b\b\b\b\b\b\b\b\b\b\b\b\b\b\b\b\r\n",
      " 96/146 [==================>...........] - ETA: 1:34 - batch: 47.5000 - size: 2.0000 - loss: 4.4687 - rpn_class_loss: 0.9928 - rpn_bbox_loss: 1.7344 - mrcnn_class_loss: 0.5127 - mrcnn_bbox_loss: 0.7449 - mrcnn_mask_loss: 0.4839"
     ]
    },
    {
     "name": "stderr",
     "output_type": "stream",
     "text": [
      "/usr/local/lib/python3.8/dist-packages/imgaug/augmenters/base.py:49: SuspiciousSingleImageShapeWarning: You provided a numpy array of shape (1024, 1024, 36) as a single-image augmentation input, which was interpreted as (H, W, C). The last dimension however has a size of >=32, which indicates that you provided a multi-image array with shape (N, H, W) instead. If that is the case, you should use e.g. augmenter(imageS=<your input>) or augment_imageS(<your input>). Otherwise your multi-image input will be interpreted as a single image during augmentation.\n",
      "  ia.warn(\n",
      "/usr/local/lib/python3.8/dist-packages/imgaug/augmenters/base.py:49: SuspiciousSingleImageShapeWarning: You provided a numpy array of shape (1024, 1024, 42) as a single-image augmentation input, which was interpreted as (H, W, C). The last dimension however has a size of >=32, which indicates that you provided a multi-image array with shape (N, H, W) instead. If that is the case, you should use e.g. augmenter(imageS=<your input>) or augment_imageS(<your input>). Otherwise your multi-image input will be interpreted as a single image during augmentation.\n",
      "  ia.warn(\n"
     ]
    },
    {
     "name": "stdout",
     "output_type": "stream",
     "text": [
      " 98/146 [===================>..........] - ETA: 1:30 - batch: 48.5000 - size: 2.0000 - loss: 4.4199 - rpn_class_loss: 0.9777 - rpn_bbox_loss: 1.7100 - mrcnn_class_loss: 0.5097 - mrcnn_bbox_loss: 0.7384 - mrcnn_mask_loss: 0.4841"
     ]
    },
    {
     "name": "stderr",
     "output_type": "stream",
     "text": [
      "/usr/local/lib/python3.8/dist-packages/imgaug/augmenters/base.py:49: SuspiciousSingleImageShapeWarning: You provided a numpy array of shape (1024, 1024, 72) as a single-image augmentation input, which was interpreted as (H, W, C). The last dimension however has a size of >=32, which indicates that you provided a multi-image array with shape (N, H, W) instead. If that is the case, you should use e.g. augmenter(imageS=<your input>) or augment_imageS(<your input>). Otherwise your multi-image input will be interpreted as a single image during augmentation.\n",
      "  ia.warn(\n"
     ]
    },
    {
     "name": "stdout",
     "output_type": "stream",
     "text": [
      "\b\b\b\b\b\b\b\b\b\b\b\b\b\b\b\b\b\b\b\b\b\b\b\b\b\b\b\b\b\b\b\b\b\b\b\b\b\b\b\b\b\b\b\b\b\b\b\b\b\b\b\b\b\b\b\b\b\b\b\b\b\b\b\b\b\b\b\b\b\b\b\b\b\b\b\b\b\b\b\b\b\b\b\b\b\b\b\b\b\b\b\b\b\b\b\b\b\b\b\b\b\b\b\b\b\b\b\b\b\b\b\b\b\b\b\b\b\b\b\b\b\b\b\b\b\b\b\b\b\b\b\b\b\b\b\b\b\b\b\b\b\b\b\b\b\b\b\b\b\b\b\b\b\b\b\b\b\b\b\b\b\b\b\b\b\b\b\b\b\b\b\b\b\b\b\b\b\b\b\b\b\b\b\b\b\b\b\b\b\b\b\b\b\b\b\b\b\b\b\b\b\b\b\b\b\b\b\b\b\b\b\b\b\b\b\b\b\b\b\b\b\b\b\b\b\b\b\r\n",
      " 99/146 [===================>..........] - ETA: 1:28 - batch: 49.0000 - size: 2.0000 - loss: 4.3978 - rpn_class_loss: 0.9699 - rpn_bbox_loss: 1.6992 - mrcnn_class_loss: 0.5083 - mrcnn_bbox_loss: 0.7363 - mrcnn_mask_loss: 0.4841"
     ]
    },
    {
     "name": "stderr",
     "output_type": "stream",
     "text": [
      "/usr/local/lib/python3.8/dist-packages/imgaug/augmenters/base.py:49: SuspiciousSingleImageShapeWarning: You provided a numpy array of shape (1024, 1024, 114) as a single-image augmentation input, which was interpreted as (H, W, C). The last dimension however has a size of >=32, which indicates that you provided a multi-image array with shape (N, H, W) instead. If that is the case, you should use e.g. augmenter(imageS=<your input>) or augment_imageS(<your input>). Otherwise your multi-image input will be interpreted as a single image during augmentation.\n",
      "  ia.warn(\n",
      "/usr/local/lib/python3.8/dist-packages/imgaug/augmenters/base.py:49: SuspiciousSingleImageShapeWarning: You provided a numpy array of shape (1024, 1024, 120) as a single-image augmentation input, which was interpreted as (H, W, C). The last dimension however has a size of >=32, which indicates that you provided a multi-image array with shape (N, H, W) instead. If that is the case, you should use e.g. augmenter(imageS=<your input>) or augment_imageS(<your input>). Otherwise your multi-image input will be interpreted as a single image during augmentation.\n",
      "  ia.warn(\n",
      "/usr/local/lib/python3.8/dist-packages/imgaug/augmenters/base.py:49: SuspiciousSingleImageShapeWarning: You provided a numpy array of shape (1024, 1024, 32) as a single-image augmentation input, which was interpreted as (H, W, C). The last dimension however has a size of >=32, which indicates that you provided a multi-image array with shape (N, H, W) instead. If that is the case, you should use e.g. augmenter(imageS=<your input>) or augment_imageS(<your input>). Otherwise your multi-image input will be interpreted as a single image during augmentation.\n",
      "  ia.warn(\n"
     ]
    },
    {
     "name": "stdout",
     "output_type": "stream",
     "text": [
      "\b\b\b\b\b\b\b\b\b\b\b\b\b\b\b\b\b\b\b\b\b\b\b\b\b\b\b\b\b\b\b\b\b\b\b\b\b\b\b\b\b\b\b\b\b\b\b\b\b\b\b\b\b\b\b\b\b\b\b\b\b\b\b\b\b\b\b\b\b\b\b\b\b\b\b\b\b\b\b\b\b\b\b\b\b\b\b\b\b\b\b\b\b\b\b\b\b\b\b\b\b\b\b\b\b\b\b\b\b\b\b\b\b\b\b\b\b\b\b\b\b\b\b\b\b\b\b\b\b\b\b\b\b\b\b\b\b\b\b\b\b\b\b\b\b\b\b\b\b\b\b\b\b\b\b\b\b\b\b\b\b\b\b\b\b\b\b\b\b\b\b\b\b\b\b\b\b\b\b\b\b\b\b\b\b\b\b\b\b\b\b\b\b\b\b\b\b\b\b\b\b\b\b\b\b\b\b\b\b\b\b\b\b\b\b\b\b\b\b\b\b\b\b\b\b\b\b\r\n",
      "100/146 [===================>..........] - ETA: 1:28 - batch: 49.5000 - size: 2.0000 - loss: 4.3771 - rpn_class_loss: 0.9639 - rpn_bbox_loss: 1.6886 - mrcnn_class_loss: 0.5077 - mrcnn_bbox_loss: 0.7329 - mrcnn_mask_loss: 0.4840"
     ]
    },
    {
     "name": "stderr",
     "output_type": "stream",
     "text": [
      "/usr/local/lib/python3.8/dist-packages/imgaug/augmenters/base.py:49: SuspiciousSingleImageShapeWarning: You provided a numpy array of shape (1024, 1024, 40) as a single-image augmentation input, which was interpreted as (H, W, C). The last dimension however has a size of >=32, which indicates that you provided a multi-image array with shape (N, H, W) instead. If that is the case, you should use e.g. augmenter(imageS=<your input>) or augment_imageS(<your input>). Otherwise your multi-image input will be interpreted as a single image during augmentation.\n",
      "  ia.warn(\n"
     ]
    },
    {
     "name": "stdout",
     "output_type": "stream",
     "text": [
      "\b\b\b\b\b\b\b\b\b\b\b\b\b\b\b\b\b\b\b\b\b\b\b\b\b\b\b\b\b\b\b\b\b\b\b\b\b\b\b\b\b\b\b\b\b\b\b\b\b\b\b\b\b\b\b\b\b\b\b\b\b\b\b\b\b\b\b\b\b\b\b\b\b\b\b\b\b\b\b\b\b\b\b\b\b\b\b\b\b\b\b\b\b\b\b\b\b\b\b\b\b\b\b\b\b\b\b\b\b\b\b\b\b\b\b\b\b\b\b\b\b\b\b\b\b\b\b\b\b\b\b\b\b\b\b\b\b\b\b\b\b\b\b\b\b\b\b\b\b\b\b\b\b\b\b\b\b\b\b\b\b\b\b\b\b\b\b\b\b\b\b\b\b\b\b\b\b\b\b\b\b\b\b\b\b\b\b\b\b\b\b\b\b\b\b\b\b\b\b\b\b\b\b\b\b\b\b\b\b\b\b\b\b\b\b\b\b\b\b\b\b\b\b\b\b\b\b\r\n",
      "101/146 [===================>..........] - ETA: 1:26 - batch: 50.0000 - size: 2.0000 - loss: 4.3498 - rpn_class_loss: 0.9565 - rpn_bbox_loss: 1.6746 - mrcnn_class_loss: 0.5055 - mrcnn_bbox_loss: 0.7298 - mrcnn_mask_loss: 0.4834"
     ]
    },
    {
     "name": "stderr",
     "output_type": "stream",
     "text": [
      "/usr/local/lib/python3.8/dist-packages/imgaug/augmenters/base.py:49: SuspiciousSingleImageShapeWarning: You provided a numpy array of shape (1024, 1024, 98) as a single-image augmentation input, which was interpreted as (H, W, C). The last dimension however has a size of >=32, which indicates that you provided a multi-image array with shape (N, H, W) instead. If that is the case, you should use e.g. augmenter(imageS=<your input>) or augment_imageS(<your input>). Otherwise your multi-image input will be interpreted as a single image during augmentation.\n",
      "  ia.warn(\n"
     ]
    },
    {
     "name": "stdout",
     "output_type": "stream",
     "text": [
      "\b\b\b\b\b\b\b\b\b\b\b\b\b\b\b\b\b\b\b\b\b\b\b\b\b\b\b\b\b\b\b\b\b\b\b\b\b\b\b\b\b\b\b\b\b\b\b\b\b\b\b\b\b\b\b\b\b\b\b\b\b\b\b\b\b\b\b\b\b\b\b\b\b\b\b\b\b\b\b\b\b\b\b\b\b\b\b\b\b\b\b\b\b\b\b\b\b\b\b\b\b\b\b\b\b\b\b\b\b\b\b\b\b\b\b\b\b\b\b\b\b\b\b\b\b\b\b\b\b\b\b\b\b\b\b\b\b\b\b\b\b\b\b\b\b\b\b\b\b\b\b\b\b\b\b\b\b\b\b\b\b\b\b\b\b\b\b\b\b\b\b\b\b\b\b\b\b\b\b\b\b\b\b\b\b\b\b\b\b\b\b\b\b\b\b\b\b\b\b\b\b\b\b\b\b\b\b\b\b\b\b\b\b\b\b\b\b\b\b\b\b\b\b\b\b\b\b\r\n",
      "102/146 [===================>..........] - ETA: 1:25 - batch: 50.5000 - size: 2.0000 - loss: 4.3331 - rpn_class_loss: 0.9517 - rpn_bbox_loss: 1.6640 - mrcnn_class_loss: 0.5071 - mrcnn_bbox_loss: 0.7267 - mrcnn_mask_loss: 0.4836"
     ]
    },
    {
     "name": "stderr",
     "output_type": "stream",
     "text": [
      "/usr/local/lib/python3.8/dist-packages/imgaug/augmenters/base.py:49: SuspiciousSingleImageShapeWarning: You provided a numpy array of shape (1024, 1024, 44) as a single-image augmentation input, which was interpreted as (H, W, C). The last dimension however has a size of >=32, which indicates that you provided a multi-image array with shape (N, H, W) instead. If that is the case, you should use e.g. augmenter(imageS=<your input>) or augment_imageS(<your input>). Otherwise your multi-image input will be interpreted as a single image during augmentation.\n",
      "  ia.warn(\n"
     ]
    },
    {
     "name": "stdout",
     "output_type": "stream",
     "text": [
      "105/146 [====================>.........] - ETA: 1:18 - batch: 52.0000 - size: 2.0000 - loss: 4.2678 - rpn_class_loss: 0.9312 - rpn_bbox_loss: 1.6295 - mrcnn_class_loss: 0.5063 - mrcnn_bbox_loss: 0.7191 - mrcnn_mask_loss: 0.4817"
     ]
    },
    {
     "name": "stderr",
     "output_type": "stream",
     "text": [
      "/usr/local/lib/python3.8/dist-packages/imgaug/augmenters/base.py:49: SuspiciousSingleImageShapeWarning: You provided a numpy array of shape (1024, 1024, 38) as a single-image augmentation input, which was interpreted as (H, W, C). The last dimension however has a size of >=32, which indicates that you provided a multi-image array with shape (N, H, W) instead. If that is the case, you should use e.g. augmenter(imageS=<your input>) or augment_imageS(<your input>). Otherwise your multi-image input will be interpreted as a single image during augmentation.\n",
      "  ia.warn(\n"
     ]
    },
    {
     "name": "stdout",
     "output_type": "stream",
     "text": [
      "\b\b\b\b\b\b\b\b\b\b\b\b\b\b\b\b\b\b\b\b\b\b\b\b\b\b\b\b\b\b\b\b\b\b\b\b\b\b\b\b\b\b\b\b\b\b\b\b\b\b\b\b\b\b\b\b\b\b\b\b\b\b\b\b\b\b\b\b\b\b\b\b\b\b\b\b\b\b\b\b\b\b\b\b\b\b\b\b\b\b\b\b\b\b\b\b\b\b\b\b\b\b\b\b\b\b\b\b\b\b\b\b\b\b\b\b\b\b\b\b\b\b\b\b\b\b\b\b\b\b\b\b\b\b\b\b\b\b\b\b\b\b\b\b\b\b\b\b\b\b\b\b\b\b\b\b\b\b\b\b\b\b\b\b\b\b\b\b\b\b\b\b\b\b\b\b\b\b\b\b\b\b\b\b\b\b\b\b\b\b\b\b\b\b\b\b\b\b\b\b\b\b\b\b\b\b\b\b\b\b\b\b\b\b\b\b\b\b\b\b\b\b\b\b\b\b\b\r\n",
      "106/146 [====================>.........] - ETA: 1:16 - batch: 52.5000 - size: 2.0000 - loss: 4.2449 - rpn_class_loss: 0.9247 - rpn_bbox_loss: 1.6174 - mrcnn_class_loss: 0.5043 - mrcnn_bbox_loss: 0.7169 - mrcnn_mask_loss: 0.4816"
     ]
    },
    {
     "name": "stderr",
     "output_type": "stream",
     "text": [
      "/usr/local/lib/python3.8/dist-packages/imgaug/augmenters/base.py:49: SuspiciousSingleImageShapeWarning: You provided a numpy array of shape (1024, 1024, 64) as a single-image augmentation input, which was interpreted as (H, W, C). The last dimension however has a size of >=32, which indicates that you provided a multi-image array with shape (N, H, W) instead. If that is the case, you should use e.g. augmenter(imageS=<your input>) or augment_imageS(<your input>). Otherwise your multi-image input will be interpreted as a single image during augmentation.\n",
      "  ia.warn(\n"
     ]
    },
    {
     "name": "stdout",
     "output_type": "stream",
     "text": [
      "\b\b\b\b\b\b\b\b\b\b\b\b\b\b\b\b\b\b\b\b\b\b\b\b\b\b\b\b\b\b\b\b\b\b\b\b\b\b\b\b\b\b\b\b\b\b\b\b\b\b\b\b\b\b\b\b\b\b\b\b\b\b\b\b\b\b\b\b\b\b\b\b\b\b\b\b\b\b\b\b\b\b\b\b\b\b\b\b\b\b\b\b\b\b\b\b\b\b\b\b\b\b\b\b\b\b\b\b\b\b\b\b\b\b\b\b\b\b\b\b\b\b\b\b\b\b\b\b\b\b\b\b\b\b\b\b\b\b\b\b\b\b\b\b\b\b\b\b\b\b\b\b\b\b\b\b\b\b\b\b\b\b\b\b\b\b\b\b\b\b\b\b\b\b\b\b\b\b\b\b\b\b\b\b\b\b\b\b\b\b\b\b\b\b\b\b\b\b\b\b\b\b\b\b\b\b\b\b\b\b\b\b\b\b\b\b\b\b\b\b\b\b\b\b\b\b\b\r\n",
      "107/146 [====================>.........] - ETA: 1:14 - batch: 53.0000 - size: 2.0000 - loss: 4.2288 - rpn_class_loss: 0.9194 - rpn_bbox_loss: 1.6097 - mrcnn_class_loss: 0.5029 - mrcnn_bbox_loss: 0.7149 - mrcnn_mask_loss: 0.4819"
     ]
    },
    {
     "name": "stderr",
     "output_type": "stream",
     "text": [
      "/usr/local/lib/python3.8/dist-packages/imgaug/augmenters/base.py:49: SuspiciousSingleImageShapeWarning: You provided a numpy array of shape (1024, 1024, 58) as a single-image augmentation input, which was interpreted as (H, W, C). The last dimension however has a size of >=32, which indicates that you provided a multi-image array with shape (N, H, W) instead. If that is the case, you should use e.g. augmenter(imageS=<your input>) or augment_imageS(<your input>). Otherwise your multi-image input will be interpreted as a single image during augmentation.\n",
      "  ia.warn(\n"
     ]
    },
    {
     "name": "stdout",
     "output_type": "stream",
     "text": [
      "\b\b\b\b\b\b\b\b\b\b\b\b\b\b\b\b\b\b\b\b\b\b\b\b\b\b\b\b\b\b\b\b\b\b\b\b\b\b\b\b\b\b\b\b\b\b\b\b\b\b\b\b\b\b\b\b\b\b\b\b\b\b\b\b\b\b\b\b\b\b\b\b\b\b\b\b\b\b\b\b\b\b\b\b\b\b\b\b\b\b\b\b\b\b\b\b\b\b\b\b\b\b\b\b\b\b\b\b\b\b\b\b\b\b\b\b\b\b\b\b\b\b\b\b\b\b\b\b\b\b\b\b\b\b\b\b\b\b\b\b\b\b\b\b\b\b\b\b\b\b\b\b\b\b\b\b\b\b\b\b\b\b\b\b\b\b\b\b\b\b\b\b\b\b\b\b\b\b\b\b\b\b\b\b\b\b\b\b\b\b\b\b\b\b\b\b\b\b\b\b\b\b\b\b\b\b\b\b\b\b\b\b\b\b\b\b\b\b\b\b\b\b\b\b\b\b\b\r\n",
      "108/146 [=====================>........] - ETA: 1:13 - batch: 53.5000 - size: 2.0000 - loss: 4.2089 - rpn_class_loss: 0.9129 - rpn_bbox_loss: 1.5987 - mrcnn_class_loss: 0.5034 - mrcnn_bbox_loss: 0.7121 - mrcnn_mask_loss: 0.4819"
     ]
    },
    {
     "name": "stderr",
     "output_type": "stream",
     "text": [
      "/usr/local/lib/python3.8/dist-packages/imgaug/augmenters/base.py:49: SuspiciousSingleImageShapeWarning: You provided a numpy array of shape (1024, 1024, 34) as a single-image augmentation input, which was interpreted as (H, W, C). The last dimension however has a size of >=32, which indicates that you provided a multi-image array with shape (N, H, W) instead. If that is the case, you should use e.g. augmenter(imageS=<your input>) or augment_imageS(<your input>). Otherwise your multi-image input will be interpreted as a single image during augmentation.\n",
      "  ia.warn(\n"
     ]
    },
    {
     "name": "stdout",
     "output_type": "stream",
     "text": [
      "\b\b\b\b\b\b\b\b\b\b\b\b\b\b\b\b\b\b\b\b\b\b\b\b\b\b\b\b\b\b\b\b\b\b\b\b\b\b\b\b\b\b\b\b\b\b\b\b\b\b\b\b\b\b\b\b\b\b\b\b\b\b\b\b\b\b\b\b\b\b\b\b\b\b\b\b\b\b\b\b\b\b\b\b\b\b\b\b\b\b\b\b\b\b\b\b\b\b\b\b\b\b\b\b\b\b\b\b\b\b\b\b\b\b\b\b\b\b\b\b\b\b\b\b\b\b\b\b\b\b\b\b\b\b\b\b\b\b\b\b\b\b\b\b\b\b\b\b\b\b\b\b\b\b\b\b\b\b\b\b\b\b\b\b\b\b\b\b\b\b\b\b\b\b\b\b\b\b\b\b\b\b\b\b\b\b\b\b\b\b\b\b\b\b\b\b\b\b\b\b\b\b\b\b\b\b\b\b\b\b\b\b\b\b\b\b\b\b\b\b\b\b\b\b\b\b\b\r\n",
      "109/146 [=====================>........] - ETA: 1:10 - batch: 54.0000 - size: 2.0000 - loss: 4.1874 - rpn_class_loss: 0.9058 - rpn_bbox_loss: 1.5873 - mrcnn_class_loss: 0.5021 - mrcnn_bbox_loss: 0.7101 - mrcnn_mask_loss: 0.4822"
     ]
    },
    {
     "name": "stderr",
     "output_type": "stream",
     "text": [
      "/usr/local/lib/python3.8/dist-packages/imgaug/augmenters/base.py:49: SuspiciousSingleImageShapeWarning: You provided a numpy array of shape (1024, 1024, 44) as a single-image augmentation input, which was interpreted as (H, W, C). The last dimension however has a size of >=32, which indicates that you provided a multi-image array with shape (N, H, W) instead. If that is the case, you should use e.g. augmenter(imageS=<your input>) or augment_imageS(<your input>). Otherwise your multi-image input will be interpreted as a single image during augmentation.\n",
      "  ia.warn(\n",
      "/usr/local/lib/python3.8/dist-packages/imgaug/augmenters/base.py:49: SuspiciousSingleImageShapeWarning: You provided a numpy array of shape (1024, 1024, 36) as a single-image augmentation input, which was interpreted as (H, W, C). The last dimension however has a size of >=32, which indicates that you provided a multi-image array with shape (N, H, W) instead. If that is the case, you should use e.g. augmenter(imageS=<your input>) or augment_imageS(<your input>). Otherwise your multi-image input will be interpreted as a single image during augmentation.\n",
      "  ia.warn(\n"
     ]
    },
    {
     "name": "stdout",
     "output_type": "stream",
     "text": [
      "111/146 [=====================>........] - ETA: 1:06 - batch: 55.0000 - size: 2.0000 - loss: 4.1513 - rpn_class_loss: 0.8937 - rpn_bbox_loss: 1.5662 - mrcnn_class_loss: 0.5032 - mrcnn_bbox_loss: 0.7059 - mrcnn_mask_loss: 0.4824"
     ]
    },
    {
     "name": "stderr",
     "output_type": "stream",
     "text": [
      "/usr/local/lib/python3.8/dist-packages/imgaug/augmenters/base.py:49: SuspiciousSingleImageShapeWarning: You provided a numpy array of shape (1024, 1024, 38) as a single-image augmentation input, which was interpreted as (H, W, C). The last dimension however has a size of >=32, which indicates that you provided a multi-image array with shape (N, H, W) instead. If that is the case, you should use e.g. augmenter(imageS=<your input>) or augment_imageS(<your input>). Otherwise your multi-image input will be interpreted as a single image during augmentation.\n",
      "  ia.warn(\n"
     ]
    },
    {
     "name": "stdout",
     "output_type": "stream",
     "text": [
      "115/146 [======================>.......] - ETA: 58s - batch: 57.0000 - size: 2.0000 - loss: 4.0753 - rpn_class_loss: 0.8681 - rpn_bbox_loss: 1.5226 - mrcnn_class_loss: 0.5040 - mrcnn_bbox_loss: 0.6982 - mrcnn_mask_loss: 0.4824 "
     ]
    },
    {
     "name": "stderr",
     "output_type": "stream",
     "text": [
      "/usr/local/lib/python3.8/dist-packages/imgaug/augmenters/base.py:49: SuspiciousSingleImageShapeWarning: You provided a numpy array of shape (1024, 1024, 38) as a single-image augmentation input, which was interpreted as (H, W, C). The last dimension however has a size of >=32, which indicates that you provided a multi-image array with shape (N, H, W) instead. If that is the case, you should use e.g. augmenter(imageS=<your input>) or augment_imageS(<your input>). Otherwise your multi-image input will be interpreted as a single image during augmentation.\n",
      "  ia.warn(\n",
      "/usr/local/lib/python3.8/dist-packages/imgaug/augmenters/base.py:49: SuspiciousSingleImageShapeWarning: You provided a numpy array of shape (1024, 1024, 36) as a single-image augmentation input, which was interpreted as (H, W, C). The last dimension however has a size of >=32, which indicates that you provided a multi-image array with shape (N, H, W) instead. If that is the case, you should use e.g. augmenter(imageS=<your input>) or augment_imageS(<your input>). Otherwise your multi-image input will be interpreted as a single image during augmentation.\n",
      "  ia.warn(\n"
     ]
    },
    {
     "name": "stdout",
     "output_type": "stream",
     "text": [
      "\b\b\b\b\b\b\b\b\b\b\b\b\b\b\b\b\b\b\b\b\b\b\b\b\b\b\b\b\b\b\b\b\b\b\b\b\b\b\b\b\b\b\b\b\b\b\b\b\b\b\b\b\b\b\b\b\b\b\b\b\b\b\b\b\b\b\b\b\b\b\b\b\b\b\b\b\b\b\b\b\b\b\b\b\b\b\b\b\b\b\b\b\b\b\b\b\b\b\b\b\b\b\b\b\b\b\b\b\b\b\b\b\b\b\b\b\b\b\b\b\b\b\b\b\b\b\b\b\b\b\b\b\b\b\b\b\b\b\b\b\b\b\b\b\b\b\b\b\b\b\b\b\b\b\b\b\b\b\b\b\b\b\b\b\b\b\b\b\b\b\b\b\b\b\b\b\b\b\b\b\b\b\b\b\b\b\b\b\b\b\b\b\b\b\b\b\b\b\b\b\b\b\b\b\b\b\b\b\b\b\b\b\b\b\b\b\b\b\b\b\b\b\b\b\b\b\r\n",
      "116/146 [======================>.......] - ETA: 56s - batch: 57.5000 - size: 2.0000 - loss: 4.0585 - rpn_class_loss: 0.8626 - rpn_bbox_loss: 1.5134 - mrcnn_class_loss: 0.5026 - mrcnn_bbox_loss: 0.6972 - mrcnn_mask_loss: 0.4827"
     ]
    },
    {
     "name": "stderr",
     "output_type": "stream",
     "text": [
      "/usr/local/lib/python3.8/dist-packages/imgaug/augmenters/base.py:49: SuspiciousSingleImageShapeWarning: You provided a numpy array of shape (1024, 1024, 78) as a single-image augmentation input, which was interpreted as (H, W, C). The last dimension however has a size of >=32, which indicates that you provided a multi-image array with shape (N, H, W) instead. If that is the case, you should use e.g. augmenter(imageS=<your input>) or augment_imageS(<your input>). Otherwise your multi-image input will be interpreted as a single image during augmentation.\n",
      "  ia.warn(\n"
     ]
    },
    {
     "name": "stdout",
     "output_type": "stream",
     "text": [
      "118/146 [=======================>......] - ETA: 52s - batch: 58.5000 - size: 2.0000 - loss: 4.0283 - rpn_class_loss: 0.8533 - rpn_bbox_loss: 1.4968 - mrcnn_class_loss: 0.5002 - mrcnn_bbox_loss: 0.6944 - mrcnn_mask_loss: 0.4836"
     ]
    },
    {
     "name": "stderr",
     "output_type": "stream",
     "text": [
      "/usr/local/lib/python3.8/dist-packages/imgaug/augmenters/base.py:49: SuspiciousSingleImageShapeWarning: You provided a numpy array of shape (1024, 1024, 46) as a single-image augmentation input, which was interpreted as (H, W, C). The last dimension however has a size of >=32, which indicates that you provided a multi-image array with shape (N, H, W) instead. If that is the case, you should use e.g. augmenter(imageS=<your input>) or augment_imageS(<your input>). Otherwise your multi-image input will be interpreted as a single image during augmentation.\n",
      "  ia.warn(\n",
      "/usr/local/lib/python3.8/dist-packages/imgaug/augmenters/base.py:49: SuspiciousSingleImageShapeWarning: You provided a numpy array of shape (1024, 1024, 34) as a single-image augmentation input, which was interpreted as (H, W, C). The last dimension however has a size of >=32, which indicates that you provided a multi-image array with shape (N, H, W) instead. If that is the case, you should use e.g. augmenter(imageS=<your input>) or augment_imageS(<your input>). Otherwise your multi-image input will be interpreted as a single image during augmentation.\n",
      "  ia.warn(\n"
     ]
    },
    {
     "name": "stdout",
     "output_type": "stream",
     "text": [
      "\b\b\b\b\b\b\b\b\b\b\b\b\b\b\b\b\b\b\b\b\b\b\b\b\b\b\b\b\b\b\b\b\b\b\b\b\b\b\b\b\b\b\b\b\b\b\b\b\b\b\b\b\b\b\b\b\b\b\b\b\b\b\b\b\b\b\b\b\b\b\b\b\b\b\b\b\b\b\b\b\b\b\b\b\b\b\b\b\b\b\b\b\b\b\b\b\b\b\b\b\b\b\b\b\b\b\b\b\b\b\b\b\b\b\b\b\b\b\b\b\b\b\b\b\b\b\b\b\b\b\b\b\b\b\b\b\b\b\b\b\b\b\b\b\b\b\b\b\b\b\b\b\b\b\b\b\b\b\b\b\b\b\b\b\b\b\b\b\b\b\b\b\b\b\b\b\b\b\b\b\b\b\b\b\b\b\b\b\b\b\b\b\b\b\b\b\b\b\b\b\b\b\b\b\b\b\b\b\b\b\b\b\b\b\b\b\b\b\b\b\b\b\b\b\b\b\r\n",
      "119/146 [=======================>......] - ETA: 50s - batch: 59.0000 - size: 2.0000 - loss: 4.0111 - rpn_class_loss: 0.8476 - rpn_bbox_loss: 1.4878 - mrcnn_class_loss: 0.4990 - mrcnn_bbox_loss: 0.6926 - mrcnn_mask_loss: 0.4842"
     ]
    },
    {
     "name": "stderr",
     "output_type": "stream",
     "text": [
      "/usr/local/lib/python3.8/dist-packages/imgaug/augmenters/base.py:49: SuspiciousSingleImageShapeWarning: You provided a numpy array of shape (1024, 1024, 44) as a single-image augmentation input, which was interpreted as (H, W, C). The last dimension however has a size of >=32, which indicates that you provided a multi-image array with shape (N, H, W) instead. If that is the case, you should use e.g. augmenter(imageS=<your input>) or augment_imageS(<your input>). Otherwise your multi-image input will be interpreted as a single image during augmentation.\n",
      "  ia.warn(\n"
     ]
    },
    {
     "name": "stdout",
     "output_type": "stream",
     "text": [
      "\b\b\b\b\b\b\b\b\b\b\b\b\b\b\b\b\b\b\b\b\b\b\b\b\b\b\b\b\b\b\b\b\b\b\b\b\b\b\b\b\b\b\b\b\b\b\b\b\b\b\b\b\b\b\b\b\b\b\b\b\b\b\b\b\b\b\b\b\b\b\b\b\b\b\b\b\b\b\b\b\b\b\b\b\b\b\b\b\b\b\b\b\b\b\b\b\b\b\b\b\b\b\b\b\b\b\b\b\b\b\b\b\b\b\b\b\b\b\b\b\b\b\b\b\b\b\b\b\b\b\b\b\b\b\b\b\b\b\b\b\b\b\b\b\b\b\b\b\b\b\b\b\b\b\b\b\b\b\b\b\b\b\b\b\b\b\b\b\b\b\b\b\b\b\b\b\b\b\b\b\b\b\b\b\b\b\b\b\b\b\b\b\b\b\b\b\b\b\b\b\b\b\b\b\b\b\b\b\b\b\b\b\b\b\b\b\b\b\b\b\b\b\b\b\b\b\r\n",
      "120/146 [=======================>......] - ETA: 48s - batch: 59.5000 - size: 2.0000 - loss: 3.9966 - rpn_class_loss: 0.8433 - rpn_bbox_loss: 1.4805 - mrcnn_class_loss: 0.4978 - mrcnn_bbox_loss: 0.6904 - mrcnn_mask_loss: 0.4846"
     ]
    },
    {
     "name": "stderr",
     "output_type": "stream",
     "text": [
      "/usr/local/lib/python3.8/dist-packages/imgaug/augmenters/base.py:49: SuspiciousSingleImageShapeWarning: You provided a numpy array of shape (1024, 1024, 56) as a single-image augmentation input, which was interpreted as (H, W, C). The last dimension however has a size of >=32, which indicates that you provided a multi-image array with shape (N, H, W) instead. If that is the case, you should use e.g. augmenter(imageS=<your input>) or augment_imageS(<your input>). Otherwise your multi-image input will be interpreted as a single image during augmentation.\n",
      "  ia.warn(\n"
     ]
    },
    {
     "name": "stdout",
     "output_type": "stream",
     "text": [
      "\b\b\b\b\b\b\b\b\b\b\b\b\b\b\b\b\b\b\b\b\b\b\b\b\b\b\b\b\b\b\b\b\b\b\b\b\b\b\b\b\b\b\b\b\b\b\b\b\b\b\b\b\b\b\b\b\b\b\b\b\b\b\b\b\b\b\b\b\b\b\b\b\b\b\b\b\b\b\b\b\b\b\b\b\b\b\b\b\b\b\b\b\b\b\b\b\b\b\b\b\b\b\b\b\b\b\b\b\b\b\b\b\b\b\b\b\b\b\b\b\b\b\b\b\b\b\b\b\b\b\b\b\b\b\b\b\b\b\b\b\b\b\b\b\b\b\b\b\b\b\b\b\b\b\b\b\b\b\b\b\b\b\b\b\b\b\b\b\b\b\b\b\b\b\b\b\b\b\b\b\b\b\b\b\b\b\b\b\b\b\b\b\b\b\b\b\b\b\b\b\b\b\b\b\b\b\b\b\b\b\b\b\b\b\b\b\b\b\b\b\b\b\b\b\b\b\r\n",
      "121/146 [=======================>......] - ETA: 47s - batch: 60.0000 - size: 2.0000 - loss: 3.9798 - rpn_class_loss: 0.8386 - rpn_bbox_loss: 1.4715 - mrcnn_class_loss: 0.4963 - mrcnn_bbox_loss: 0.6895 - mrcnn_mask_loss: 0.4838"
     ]
    },
    {
     "name": "stderr",
     "output_type": "stream",
     "text": [
      "/usr/local/lib/python3.8/dist-packages/imgaug/augmenters/base.py:49: SuspiciousSingleImageShapeWarning: You provided a numpy array of shape (1024, 1024, 64) as a single-image augmentation input, which was interpreted as (H, W, C). The last dimension however has a size of >=32, which indicates that you provided a multi-image array with shape (N, H, W) instead. If that is the case, you should use e.g. augmenter(imageS=<your input>) or augment_imageS(<your input>). Otherwise your multi-image input will be interpreted as a single image during augmentation.\n",
      "  ia.warn(\n",
      "/usr/local/lib/python3.8/dist-packages/imgaug/augmenters/base.py:49: SuspiciousSingleImageShapeWarning: You provided a numpy array of shape (1024, 1024, 46) as a single-image augmentation input, which was interpreted as (H, W, C). The last dimension however has a size of >=32, which indicates that you provided a multi-image array with shape (N, H, W) instead. If that is the case, you should use e.g. augmenter(imageS=<your input>) or augment_imageS(<your input>). Otherwise your multi-image input will be interpreted as a single image during augmentation.\n",
      "  ia.warn(\n"
     ]
    },
    {
     "name": "stdout",
     "output_type": "stream",
     "text": [
      "\b\b\b\b\b\b\b\b\b\b\b\b\b\b\b\b\b\b\b\b\b\b\b\b\b\b\b\b\b\b\b\b\b\b\b\b\b\b\b\b\b\b\b\b\b\b\b\b\b\b\b\b\b\b\b\b\b\b\b\b\b\b\b\b\b\b\b\b\b\b\b\b\b\b\b\b\b\b\b\b\b\b\b\b\b\b\b\b\b\b\b\b\b\b\b\b\b\b\b\b\b\b\b\b\b\b\b\b\b\b\b\b\b\b\b\b\b\b\b\b\b\b\b\b\b\b\b\b\b\b\b\b\b\b\b\b\b\b\b\b\b\b\b\b\b\b\b\b\b\b\b\b\b\b\b\b\b\b\b\b\b\b\b\b\b\b\b\b\b\b\b\b\b\b\b\b\b\b\b\b\b\b\b\b\b\b\b\b\b\b\b\b\b\b\b\b\b\b\b\b\b\b\b\b\b\b\b\b\b\b\b\b\b\b\b\b\b\b\b\b\b\b\b\b\b\b\r\n",
      "122/146 [========================>.....] - ETA: 45s - batch: 60.5000 - size: 2.0000 - loss: 3.9659 - rpn_class_loss: 0.8342 - rpn_bbox_loss: 1.4636 - mrcnn_class_loss: 0.4961 - mrcnn_bbox_loss: 0.6884 - mrcnn_mask_loss: 0.4836"
     ]
    },
    {
     "name": "stderr",
     "output_type": "stream",
     "text": [
      "/usr/local/lib/python3.8/dist-packages/imgaug/augmenters/base.py:49: SuspiciousSingleImageShapeWarning: You provided a numpy array of shape (1024, 1024, 58) as a single-image augmentation input, which was interpreted as (H, W, C). The last dimension however has a size of >=32, which indicates that you provided a multi-image array with shape (N, H, W) instead. If that is the case, you should use e.g. augmenter(imageS=<your input>) or augment_imageS(<your input>). Otherwise your multi-image input will be interpreted as a single image during augmentation.\n",
      "  ia.warn(\n"
     ]
    },
    {
     "name": "stdout",
     "output_type": "stream",
     "text": [
      "124/146 [========================>.....] - ETA: 41s - batch: 61.5000 - size: 2.0000 - loss: 3.9360 - rpn_class_loss: 0.8251 - rpn_bbox_loss: 1.4474 - mrcnn_class_loss: 0.4956 - mrcnn_bbox_loss: 0.6850 - mrcnn_mask_loss: 0.4829"
     ]
    },
    {
     "name": "stderr",
     "output_type": "stream",
     "text": [
      "/usr/local/lib/python3.8/dist-packages/imgaug/augmenters/base.py:49: SuspiciousSingleImageShapeWarning: You provided a numpy array of shape (1024, 1024, 120) as a single-image augmentation input, which was interpreted as (H, W, C). The last dimension however has a size of >=32, which indicates that you provided a multi-image array with shape (N, H, W) instead. If that is the case, you should use e.g. augmenter(imageS=<your input>) or augment_imageS(<your input>). Otherwise your multi-image input will be interpreted as a single image during augmentation.\n",
      "  ia.warn(\n",
      "/usr/local/lib/python3.8/dist-packages/imgaug/augmenters/base.py:49: SuspiciousSingleImageShapeWarning: You provided a numpy array of shape (1024, 1024, 58) as a single-image augmentation input, which was interpreted as (H, W, C). The last dimension however has a size of >=32, which indicates that you provided a multi-image array with shape (N, H, W) instead. If that is the case, you should use e.g. augmenter(imageS=<your input>) or augment_imageS(<your input>). Otherwise your multi-image input will be interpreted as a single image during augmentation.\n",
      "  ia.warn(\n"
     ]
    },
    {
     "name": "stdout",
     "output_type": "stream",
     "text": [
      "126/146 [========================>.....] - ETA: 38s - batch: 62.5000 - size: 2.0000 - loss: 3.9141 - rpn_class_loss: 0.8186 - rpn_bbox_loss: 1.4326 - mrcnn_class_loss: 0.4959 - mrcnn_bbox_loss: 0.6829 - mrcnn_mask_loss: 0.4841"
     ]
    },
    {
     "name": "stderr",
     "output_type": "stream",
     "text": [
      "/usr/local/lib/python3.8/dist-packages/imgaug/augmenters/base.py:49: SuspiciousSingleImageShapeWarning: You provided a numpy array of shape (1024, 1024, 44) as a single-image augmentation input, which was interpreted as (H, W, C). The last dimension however has a size of >=32, which indicates that you provided a multi-image array with shape (N, H, W) instead. If that is the case, you should use e.g. augmenter(imageS=<your input>) or augment_imageS(<your input>). Otherwise your multi-image input will be interpreted as a single image during augmentation.\n",
      "  ia.warn(\n"
     ]
    },
    {
     "name": "stdout",
     "output_type": "stream",
     "text": [
      "128/146 [=========================>....] - ETA: 34s - batch: 63.5000 - size: 2.0000 - loss: 3.8828 - rpn_class_loss: 0.8087 - rpn_bbox_loss: 1.4158 - mrcnn_class_loss: 0.4925 - mrcnn_bbox_loss: 0.6816 - mrcnn_mask_loss: 0.4842"
     ]
    },
    {
     "name": "stderr",
     "output_type": "stream",
     "text": [
      "/usr/local/lib/python3.8/dist-packages/imgaug/augmenters/base.py:49: SuspiciousSingleImageShapeWarning: You provided a numpy array of shape (1024, 1024, 114) as a single-image augmentation input, which was interpreted as (H, W, C). The last dimension however has a size of >=32, which indicates that you provided a multi-image array with shape (N, H, W) instead. If that is the case, you should use e.g. augmenter(imageS=<your input>) or augment_imageS(<your input>). Otherwise your multi-image input will be interpreted as a single image during augmentation.\n",
      "  ia.warn(\n",
      "/usr/local/lib/python3.8/dist-packages/imgaug/augmenters/base.py:49: SuspiciousSingleImageShapeWarning: You provided a numpy array of shape (1024, 1024, 46) as a single-image augmentation input, which was interpreted as (H, W, C). The last dimension however has a size of >=32, which indicates that you provided a multi-image array with shape (N, H, W) instead. If that is the case, you should use e.g. augmenter(imageS=<your input>) or augment_imageS(<your input>). Otherwise your multi-image input will be interpreted as a single image during augmentation.\n",
      "  ia.warn(\n"
     ]
    },
    {
     "name": "stdout",
     "output_type": "stream",
     "text": [
      "\b\b\b\b\b\b\b\b\b\b\b\b\b\b\b\b\b\b\b\b\b\b\b\b\b\b\b\b\b\b\b\b\b\b\b\b\b\b\b\b\b\b\b\b\b\b\b\b\b\b\b\b\b\b\b\b\b\b\b\b\b\b\b\b\b\b\b\b\b\b\b\b\b\b\b\b\b\b\b\b\b\b\b\b\b\b\b\b\b\b\b\b\b\b\b\b\b\b\b\b\b\b\b\b\b\b\b\b\b\b\b\b\b\b\b\b\b\b\b\b\b\b\b\b\b\b\b\b\b\b\b\b\b\b\b\b\b\b\b\b\b\b\b\b\b\b\b\b\b\b\b\b\b\b\b\b\b\b\b\b\b\b\b\b\b\b\b\b\b\b\b\b\b\b\b\b\b\b\b\b\b\b\b\b\b\b\b\b\b\b\b\b\b\b\b\b\b\b\b\b\b\b\b\b\b\b\b\b\b\b\b\b\b\b\b\b\b\b\b\b\b\b\b\b\b\b\r\n",
      "129/146 [=========================>....] - ETA: 32s - batch: 64.0000 - size: 2.0000 - loss: 3.8707 - rpn_class_loss: 0.8054 - rpn_bbox_loss: 1.4089 - mrcnn_class_loss: 0.4921 - mrcnn_bbox_loss: 0.6799 - mrcnn_mask_loss: 0.4844"
     ]
    },
    {
     "name": "stderr",
     "output_type": "stream",
     "text": [
      "/usr/local/lib/python3.8/dist-packages/imgaug/augmenters/base.py:49: SuspiciousSingleImageShapeWarning: You provided a numpy array of shape (1024, 1024, 44) as a single-image augmentation input, which was interpreted as (H, W, C). The last dimension however has a size of >=32, which indicates that you provided a multi-image array with shape (N, H, W) instead. If that is the case, you should use e.g. augmenter(imageS=<your input>) or augment_imageS(<your input>). Otherwise your multi-image input will be interpreted as a single image during augmentation.\n",
      "  ia.warn(\n"
     ]
    },
    {
     "name": "stdout",
     "output_type": "stream",
     "text": [
      "\b\b\b\b\b\b\b\b\b\b\b\b\b\b\b\b\b\b\b\b\b\b\b\b\b\b\b\b\b\b\b\b\b\b\b\b\b\b\b\b\b\b\b\b\b\b\b\b\b\b\b\b\b\b\b\b\b\b\b\b\b\b\b\b\b\b\b\b\b\b\b\b\b\b\b\b\b\b\b\b\b\b\b\b\b\b\b\b\b\b\b\b\b\b\b\b\b\b\b\b\b\b\b\b\b\b\b\b\b\b\b\b\b\b\b\b\b\b\b\b\b\b\b\b\b\b\b\b\b\b\b\b\b\b\b\b\b\b\b\b\b\b\b\b\b\b\b\b\b\b\b\b\b\b\b\b\b\b\b\b\b\b\b\b\b\b\b\b\b\b\b\b\b\b\b\b\b\b\b\b\b\b\b\b\b\b\b\b\b\b\b\b\b\b\b\b\b\b\b\b\b\b\b\b\b\b\b\b\b\b\b\b\b\b\b\b\b\b\b\b\b\b\b\b\b\b\r\n",
      "130/146 [=========================>....] - ETA: 30s - batch: 64.5000 - size: 2.0000 - loss: 3.8552 - rpn_class_loss: 0.8005 - rpn_bbox_loss: 1.4008 - mrcnn_class_loss: 0.4906 - mrcnn_bbox_loss: 0.6790 - mrcnn_mask_loss: 0.4842"
     ]
    },
    {
     "name": "stderr",
     "output_type": "stream",
     "text": [
      "/usr/local/lib/python3.8/dist-packages/imgaug/augmenters/base.py:49: SuspiciousSingleImageShapeWarning: You provided a numpy array of shape (1024, 1024, 58) as a single-image augmentation input, which was interpreted as (H, W, C). The last dimension however has a size of >=32, which indicates that you provided a multi-image array with shape (N, H, W) instead. If that is the case, you should use e.g. augmenter(imageS=<your input>) or augment_imageS(<your input>). Otherwise your multi-image input will be interpreted as a single image during augmentation.\n",
      "  ia.warn(\n"
     ]
    },
    {
     "name": "stdout",
     "output_type": "stream",
     "text": [
      "\b\b\b\b\b\b\b\b\b\b\b\b\b\b\b\b\b\b\b\b\b\b\b\b\b\b\b\b\b\b\b\b\b\b\b\b\b\b\b\b\b\b\b\b\b\b\b\b\b\b\b\b\b\b\b\b\b\b\b\b\b\b\b\b\b\b\b\b\b\b\b\b\b\b\b\b\b\b\b\b\b\b\b\b\b\b\b\b\b\b\b\b\b\b\b\b\b\b\b\b\b\b\b\b\b\b\b\b\b\b\b\b\b\b\b\b\b\b\b\b\b\b\b\b\b\b\b\b\b\b\b\b\b\b\b\b\b\b\b\b\b\b\b\b\b\b\b\b\b\b\b\b\b\b\b\b\b\b\b\b\b\b\b\b\b\b\b\b\b\b\b\b\b\b\b\b\b\b\b\b\b\b\b\b\b\b\b\b\b\b\b\b\b\b\b\b\b\b\b\b\b\b\b\b\b\b\b\b\b\b\b\b\b\b\b\b\b\b\b\b\b\b\b\b\b\b\r\n",
      "131/146 [=========================>....] - ETA: 28s - batch: 65.0000 - size: 2.0000 - loss: 3.8400 - rpn_class_loss: 0.7960 - rpn_bbox_loss: 1.3928 - mrcnn_class_loss: 0.4904 - mrcnn_bbox_loss: 0.6768 - mrcnn_mask_loss: 0.4840"
     ]
    },
    {
     "name": "stderr",
     "output_type": "stream",
     "text": [
      "/usr/local/lib/python3.8/dist-packages/imgaug/augmenters/base.py:49: SuspiciousSingleImageShapeWarning: You provided a numpy array of shape (1024, 1024, 32) as a single-image augmentation input, which was interpreted as (H, W, C). The last dimension however has a size of >=32, which indicates that you provided a multi-image array with shape (N, H, W) instead. If that is the case, you should use e.g. augmenter(imageS=<your input>) or augment_imageS(<your input>). Otherwise your multi-image input will be interpreted as a single image during augmentation.\n",
      "  ia.warn(\n",
      "/usr/local/lib/python3.8/dist-packages/imgaug/augmenters/base.py:49: SuspiciousSingleImageShapeWarning: You provided a numpy array of shape (1024, 1024, 34) as a single-image augmentation input, which was interpreted as (H, W, C). The last dimension however has a size of >=32, which indicates that you provided a multi-image array with shape (N, H, W) instead. If that is the case, you should use e.g. augmenter(imageS=<your input>) or augment_imageS(<your input>). Otherwise your multi-image input will be interpreted as a single image during augmentation.\n",
      "  ia.warn(\n"
     ]
    },
    {
     "name": "stdout",
     "output_type": "stream",
     "text": [
      "\b\b\b\b\b\b\b\b\b\b\b\b\b\b\b\b\b\b\b\b\b\b\b\b\b\b\b\b\b\b\b\b\b\b\b\b\b\b\b\b\b\b\b\b\b\b\b\b\b\b\b\b\b\b\b\b\b\b\b\b\b\b\b\b\b\b\b\b\b\b\b\b\b\b\b\b\b\b\b\b\b\b\b\b\b\b\b\b\b\b\b\b\b\b\b\b\b\b\b\b\b\b\b\b\b\b\b\b\b\b\b\b\b\b\b\b\b\b\b\b\b\b\b\b\b\b\b\b\b\b\b\b\b\b\b\b\b\b\b\b\b\b\b\b\b\b\b\b\b\b\b\b\b\b\b\b\b\b\b\b\b\b\b\b\b\b\b\b\b\b\b\b\b\b\b\b\b\b\b\b\b\b\b\b\b\b\b\b\b\b\b\b\b\b\b\b\b\b\b\b\b\b\b\b\b\b\b\b\b\b\b\b\b\b\b\b\b\b\b\b\b\b\b\b\b\b\r\n",
      "132/146 [==========================>...] - ETA: 26s - batch: 65.5000 - size: 2.0000 - loss: 3.8236 - rpn_class_loss: 0.7910 - rpn_bbox_loss: 1.3844 - mrcnn_class_loss: 0.4895 - mrcnn_bbox_loss: 0.6750 - mrcnn_mask_loss: 0.4836"
     ]
    },
    {
     "name": "stderr",
     "output_type": "stream",
     "text": [
      "/usr/local/lib/python3.8/dist-packages/imgaug/augmenters/base.py:49: SuspiciousSingleImageShapeWarning: You provided a numpy array of shape (1024, 1024, 36) as a single-image augmentation input, which was interpreted as (H, W, C). The last dimension however has a size of >=32, which indicates that you provided a multi-image array with shape (N, H, W) instead. If that is the case, you should use e.g. augmenter(imageS=<your input>) or augment_imageS(<your input>). Otherwise your multi-image input will be interpreted as a single image during augmentation.\n",
      "  ia.warn(\n",
      "/usr/local/lib/python3.8/dist-packages/imgaug/augmenters/base.py:49: SuspiciousSingleImageShapeWarning: You provided a numpy array of shape (1024, 1024, 34) as a single-image augmentation input, which was interpreted as (H, W, C). The last dimension however has a size of >=32, which indicates that you provided a multi-image array with shape (N, H, W) instead. If that is the case, you should use e.g. augmenter(imageS=<your input>) or augment_imageS(<your input>). Otherwise your multi-image input will be interpreted as a single image during augmentation.\n",
      "  ia.warn(\n"
     ]
    },
    {
     "name": "stdout",
     "output_type": "stream",
     "text": [
      "\b\b\b\b\b\b\b\b\b\b\b\b\b\b\b\b\b\b\b\b\b\b\b\b\b\b\b\b\b\b\b\b\b\b\b\b\b\b\b\b\b\b\b\b\b\b\b\b\b\b\b\b\b\b\b\b\b\b\b\b\b\b\b\b\b\b\b\b\b\b\b\b\b\b\b\b\b\b\b\b\b\b\b\b\b\b\b\b\b\b\b\b\b\b\b\b\b\b\b\b\b\b\b\b\b\b\b\b\b\b\b\b\b\b\b\b\b\b\b\b\b\b\b\b\b\b\b\b\b\b\b\b\b\b\b\b\b\b\b\b\b\b\b\b\b\b\b\b\b\b\b\b\b\b\b\b\b\b\b\b\b\b\b\b\b\b\b\b\b\b\b\b\b\b\b\b\b\b\b\b\b\b\b\b\b\b\b\b\b\b\b\b\b\b\b\b\b\b\b\b\b\b\b\b\b\b\b\b\b\b\b\b\b\b\b\b\b\b\b\b\b\b\b\b\b\b\r\n",
      "133/146 [==========================>...] - ETA: 24s - batch: 66.0000 - size: 2.0000 - loss: 3.8107 - rpn_class_loss: 0.7864 - rpn_bbox_loss: 1.3784 - mrcnn_class_loss: 0.4881 - mrcnn_bbox_loss: 0.6739 - mrcnn_mask_loss: 0.4839"
     ]
    },
    {
     "name": "stderr",
     "output_type": "stream",
     "text": [
      "/usr/local/lib/python3.8/dist-packages/imgaug/augmenters/base.py:49: SuspiciousSingleImageShapeWarning: You provided a numpy array of shape (1024, 1024, 40) as a single-image augmentation input, which was interpreted as (H, W, C). The last dimension however has a size of >=32, which indicates that you provided a multi-image array with shape (N, H, W) instead. If that is the case, you should use e.g. augmenter(imageS=<your input>) or augment_imageS(<your input>). Otherwise your multi-image input will be interpreted as a single image during augmentation.\n",
      "  ia.warn(\n",
      "/usr/local/lib/python3.8/dist-packages/imgaug/augmenters/base.py:49: SuspiciousSingleImageShapeWarning: You provided a numpy array of shape (1024, 1024, 36) as a single-image augmentation input, which was interpreted as (H, W, C). The last dimension however has a size of >=32, which indicates that you provided a multi-image array with shape (N, H, W) instead. If that is the case, you should use e.g. augmenter(imageS=<your input>) or augment_imageS(<your input>). Otherwise your multi-image input will be interpreted as a single image during augmentation.\n",
      "  ia.warn(\n"
     ]
    },
    {
     "name": "stdout",
     "output_type": "stream",
     "text": [
      "135/146 [==========================>...] - ETA: 20s - batch: 67.0000 - size: 2.0000 - loss: 3.7837 - rpn_class_loss: 0.7776 - rpn_bbox_loss: 1.3642 - mrcnn_class_loss: 0.4880 - mrcnn_bbox_loss: 0.6702 - mrcnn_mask_loss: 0.4838"
     ]
    },
    {
     "name": "stderr",
     "output_type": "stream",
     "text": [
      "/usr/local/lib/python3.8/dist-packages/imgaug/augmenters/base.py:49: SuspiciousSingleImageShapeWarning: You provided a numpy array of shape (1024, 1024, 36) as a single-image augmentation input, which was interpreted as (H, W, C). The last dimension however has a size of >=32, which indicates that you provided a multi-image array with shape (N, H, W) instead. If that is the case, you should use e.g. augmenter(imageS=<your input>) or augment_imageS(<your input>). Otherwise your multi-image input will be interpreted as a single image during augmentation.\n",
      "  ia.warn(\n"
     ]
    },
    {
     "name": "stdout",
     "output_type": "stream",
     "text": [
      "\b\b\b\b\b\b\b\b\b\b\b\b\b\b\b\b\b\b\b\b\b\b\b\b\b\b\b\b\b\b\b\b\b\b\b\b\b\b\b\b\b\b\b\b\b\b\b\b\b\b\b\b\b\b\b\b\b\b\b\b\b\b\b\b\b\b\b\b\b\b\b\b\b\b\b\b\b\b\b\b\b\b\b\b\b\b\b\b\b\b\b\b\b\b\b\b\b\b\b\b\b\b\b\b\b\b\b\b\b\b\b\b\b\b\b\b\b\b\b\b\b\b\b\b\b\b\b\b\b\b\b\b\b\b\b\b\b\b\b\b\b\b\b\b\b\b\b\b\b\b\b\b\b\b\b\b\b\b\b\b\b\b\b\b\b\b\b\b\b\b\b\b\b\b\b\b\b\b\b\b\b\b\b\b\b\b\b\b\b\b\b\b\b\b\b\b\b\b\b\b\b\b\b\b\b\b\b\b\b\b\b\b\b\b\b\b\b\b\b\b\b\b\b\b\b\b\r\n",
      "136/146 [==========================>...] - ETA: 18s - batch: 67.5000 - size: 2.0000 - loss: 3.7686 - rpn_class_loss: 0.7729 - rpn_bbox_loss: 1.3572 - mrcnn_class_loss: 0.4876 - mrcnn_bbox_loss: 0.6678 - mrcnn_mask_loss: 0.4831"
     ]
    },
    {
     "name": "stderr",
     "output_type": "stream",
     "text": [
      "/usr/local/lib/python3.8/dist-packages/imgaug/augmenters/base.py:49: SuspiciousSingleImageShapeWarning: You provided a numpy array of shape (1024, 1024, 58) as a single-image augmentation input, which was interpreted as (H, W, C). The last dimension however has a size of >=32, which indicates that you provided a multi-image array with shape (N, H, W) instead. If that is the case, you should use e.g. augmenter(imageS=<your input>) or augment_imageS(<your input>). Otherwise your multi-image input will be interpreted as a single image during augmentation.\n",
      "  ia.warn(\n"
     ]
    },
    {
     "name": "stdout",
     "output_type": "stream",
     "text": [
      "\b\b\b\b\b\b\b\b\b\b\b\b\b\b\b\b\b\b\b\b\b\b\b\b\b\b\b\b\b\b\b\b\b\b\b\b\b\b\b\b\b\b\b\b\b\b\b\b\b\b\b\b\b\b\b\b\b\b\b\b\b\b\b\b\b\b\b\b\b\b\b\b\b\b\b\b\b\b\b\b\b\b\b\b\b\b\b\b\b\b\b\b\b\b\b\b\b\b\b\b\b\b\b\b\b\b\b\b\b\b\b\b\b\b\b\b\b\b\b\b\b\b\b\b\b\b\b\b\b\b\b\b\b\b\b\b\b\b\b\b\b\b\b\b\b\b\b\b\b\b\b\b\b\b\b\b\b\b\b\b\b\b\b\b\b\b\b\b\b\b\b\b\b\b\b\b\b\b\b\b\b\b\b\b\b\b\b\b\b\b\b\b\b\b\b\b\b\b\b\b\b\b\b\b\b\b\b\b\b\b\b\b\b\b\b\b\b\b\b\b\b\b\b\b\b\b\r\n",
      "137/146 [===========================>..] - ETA: 17s - batch: 68.0000 - size: 2.0000 - loss: 3.7572 - rpn_class_loss: 0.7692 - rpn_bbox_loss: 1.3505 - mrcnn_class_loss: 0.4886 - mrcnn_bbox_loss: 0.6662 - mrcnn_mask_loss: 0.4827"
     ]
    },
    {
     "name": "stderr",
     "output_type": "stream",
     "text": [
      "/usr/local/lib/python3.8/dist-packages/imgaug/augmenters/base.py:49: SuspiciousSingleImageShapeWarning: You provided a numpy array of shape (1024, 1024, 62) as a single-image augmentation input, which was interpreted as (H, W, C). The last dimension however has a size of >=32, which indicates that you provided a multi-image array with shape (N, H, W) instead. If that is the case, you should use e.g. augmenter(imageS=<your input>) or augment_imageS(<your input>). Otherwise your multi-image input will be interpreted as a single image during augmentation.\n",
      "  ia.warn(\n",
      "/usr/local/lib/python3.8/dist-packages/imgaug/augmenters/base.py:49: SuspiciousSingleImageShapeWarning: You provided a numpy array of shape (1024, 1024, 58) as a single-image augmentation input, which was interpreted as (H, W, C). The last dimension however has a size of >=32, which indicates that you provided a multi-image array with shape (N, H, W) instead. If that is the case, you should use e.g. augmenter(imageS=<your input>) or augment_imageS(<your input>). Otherwise your multi-image input will be interpreted as a single image during augmentation.\n",
      "  ia.warn(\n"
     ]
    },
    {
     "name": "stdout",
     "output_type": "stream",
     "text": [
      "\b\b\b\b\b\b\b\b\b\b\b\b\b\b\b\b\b\b\b\b\b\b\b\b\b\b\b\b\b\b\b\b\b\b\b\b\b\b\b\b\b\b\b\b\b\b\b\b\b\b\b\b\b\b\b\b\b\b\b\b\b\b\b\b\b\b\b\b\b\b\b\b\b\b\b\b\b\b\b\b\b\b\b\b\b\b\b\b\b\b\b\b\b\b\b\b\b\b\b\b\b\b\b\b\b\b\b\b\b\b\b\b\b\b\b\b\b\b\b\b\b\b\b\b\b\b\b\b\b\b\b\b\b\b\b\b\b\b\b\b\b\b\b\b\b\b\b\b\b\b\b\b\b\b\b\b\b\b\b\b\b\b\b\b\b\b\b\b\b\b\b\b\b\b\b\b\b\b\b\b\b\b\b\b\b\b\b\b\b\b\b\b\b\b\b\b\b\b\b\b\b\b\b\b\b\b\b\b\b\b\b\b\b\b\b\b\b\b\b\b\b\b\b\b\b\b\r\n",
      "138/146 [===========================>..] - ETA: 15s - batch: 68.5000 - size: 2.0000 - loss: 3.7476 - rpn_class_loss: 0.7663 - rpn_bbox_loss: 1.3440 - mrcnn_class_loss: 0.4889 - mrcnn_bbox_loss: 0.6652 - mrcnn_mask_loss: 0.4833"
     ]
    },
    {
     "name": "stderr",
     "output_type": "stream",
     "text": [
      "/usr/local/lib/python3.8/dist-packages/imgaug/augmenters/base.py:49: SuspiciousSingleImageShapeWarning: You provided a numpy array of shape (1024, 1024, 120) as a single-image augmentation input, which was interpreted as (H, W, C). The last dimension however has a size of >=32, which indicates that you provided a multi-image array with shape (N, H, W) instead. If that is the case, you should use e.g. augmenter(imageS=<your input>) or augment_imageS(<your input>). Otherwise your multi-image input will be interpreted as a single image during augmentation.\n",
      "  ia.warn(\n",
      "/usr/local/lib/python3.8/dist-packages/imgaug/augmenters/base.py:49: SuspiciousSingleImageShapeWarning: You provided a numpy array of shape (1024, 1024, 44) as a single-image augmentation input, which was interpreted as (H, W, C). The last dimension however has a size of >=32, which indicates that you provided a multi-image array with shape (N, H, W) instead. If that is the case, you should use e.g. augmenter(imageS=<your input>) or augment_imageS(<your input>). Otherwise your multi-image input will be interpreted as a single image during augmentation.\n",
      "  ia.warn(\n"
     ]
    },
    {
     "name": "stdout",
     "output_type": "stream",
     "text": [
      "\b\b\b\b\b\b\b\b\b\b\b\b\b\b\b\b\b\b\b\b\b\b\b\b\b\b\b\b\b\b\b\b\b\b\b\b\b\b\b\b\b\b\b\b\b\b\b\b\b\b\b\b\b\b\b\b\b\b\b\b\b\b\b\b\b\b\b\b\b\b\b\b\b\b\b\b\b\b\b\b\b\b\b\b\b\b\b\b\b\b\b\b\b\b\b\b\b\b\b\b\b\b\b\b\b\b\b\b\b\b\b\b\b\b\b\b\b\b\b\b\b\b\b\b\b\b\b\b\b\b\b\b\b\b\b\b\b\b\b\b\b\b\b\b\b\b\b\b\b\b\b\b\b\b\b\b\b\b\b\b\b\b\b\b\b\b\b\b\b\b\b\b\b\b\b\b\b\b\b\b\b\b\b\b\b\b\b\b\b\b\b\b\b\b\b\b\b\b\b\b\b\b\b\b\b\b\b\b\b\b\b\b\b\b\b\b\b\b\b\b\b\b\b\b\b\b\r\n",
      "139/146 [===========================>..] - ETA: 13s - batch: 69.0000 - size: 2.0000 - loss: 3.7384 - rpn_class_loss: 0.7646 - rpn_bbox_loss: 1.3387 - mrcnn_class_loss: 0.4884 - mrcnn_bbox_loss: 0.6632 - mrcnn_mask_loss: 0.4835"
     ]
    },
    {
     "name": "stderr",
     "output_type": "stream",
     "text": [
      "/usr/local/lib/python3.8/dist-packages/imgaug/augmenters/base.py:49: SuspiciousSingleImageShapeWarning: You provided a numpy array of shape (1024, 1024, 44) as a single-image augmentation input, which was interpreted as (H, W, C). The last dimension however has a size of >=32, which indicates that you provided a multi-image array with shape (N, H, W) instead. If that is the case, you should use e.g. augmenter(imageS=<your input>) or augment_imageS(<your input>). Otherwise your multi-image input will be interpreted as a single image during augmentation.\n",
      "  ia.warn(\n",
      "/usr/local/lib/python3.8/dist-packages/imgaug/augmenters/base.py:49: SuspiciousSingleImageShapeWarning: You provided a numpy array of shape (1024, 1024, 56) as a single-image augmentation input, which was interpreted as (H, W, C). The last dimension however has a size of >=32, which indicates that you provided a multi-image array with shape (N, H, W) instead. If that is the case, you should use e.g. augmenter(imageS=<your input>) or augment_imageS(<your input>). Otherwise your multi-image input will be interpreted as a single image during augmentation.\n",
      "  ia.warn(\n"
     ]
    },
    {
     "name": "stdout",
     "output_type": "stream",
     "text": [
      "\b\b\b\b\b\b\b\b\b\b\b\b\b\b\b\b\b\b\b\b\b\b\b\b\b\b\b\b\b\b\b\b\b\b\b\b\b\b\b\b\b\b\b\b\b\b\b\b\b\b\b\b\b\b\b\b\b\b\b\b\b\b\b\b\b\b\b\b\b\b\b\b\b\b\b\b\b\b\b\b\b\b\b\b\b\b\b\b\b\b\b\b\b\b\b\b\b\b\b\b\b\b\b\b\b\b\b\b\b\b\b\b\b\b\b\b\b\b\b\b\b\b\b\b\b\b\b\b\b\b\b\b\b\b\b\b\b\b\b\b\b\b\b\b\b\b\b\b\b\b\b\b\b\b\b\b\b\b\b\b\b\b\b\b\b\b\b\b\b\b\b\b\b\b\b\b\b\b\b\b\b\b\b\b\b\b\b\b\b\b\b\b\b\b\b\b\b\b\b\b\b\b\b\b\b\b\b\b\b\b\b\b\b\b\b\b\b\b\b\b\b\b\b\b\b\b\r\n",
      "140/146 [===========================>..] - ETA: 11s - batch: 69.5000 - size: 2.0000 - loss: 3.7226 - rpn_class_loss: 0.7604 - rpn_bbox_loss: 1.3311 - mrcnn_class_loss: 0.4871 - mrcnn_bbox_loss: 0.6607 - mrcnn_mask_loss: 0.4833"
     ]
    },
    {
     "name": "stderr",
     "output_type": "stream",
     "text": [
      "/usr/local/lib/python3.8/dist-packages/imgaug/augmenters/base.py:49: SuspiciousSingleImageShapeWarning: You provided a numpy array of shape (1024, 1024, 34) as a single-image augmentation input, which was interpreted as (H, W, C). The last dimension however has a size of >=32, which indicates that you provided a multi-image array with shape (N, H, W) instead. If that is the case, you should use e.g. augmenter(imageS=<your input>) or augment_imageS(<your input>). Otherwise your multi-image input will be interpreted as a single image during augmentation.\n",
      "  ia.warn(\n",
      "/usr/local/lib/python3.8/dist-packages/imgaug/augmenters/base.py:49: SuspiciousSingleImageShapeWarning: You provided a numpy array of shape (1024, 1024, 36) as a single-image augmentation input, which was interpreted as (H, W, C). The last dimension however has a size of >=32, which indicates that you provided a multi-image array with shape (N, H, W) instead. If that is the case, you should use e.g. augmenter(imageS=<your input>) or augment_imageS(<your input>). Otherwise your multi-image input will be interpreted as a single image during augmentation.\n",
      "  ia.warn(\n"
     ]
    },
    {
     "name": "stdout",
     "output_type": "stream",
     "text": [
      "\b\b\b\b\b\b\b\b\b\b\b\b\b\b\b\b\b\b\b\b\b\b\b\b\b\b\b\b\b\b\b\b\b\b\b\b\b\b\b\b\b\b\b\b\b\b\b\b\b\b\b\b\b\b\b\b\b\b\b\b\b\b\b\b\b\b\b\b\b\b\b\b\b\b\b\b\b\b\b\b\b\b\b\b\b\b\b\b\b\b\b\b\b\b\b\b\b\b\b\b\b\b\b\b\b\b\b\b\b\b\b\b\b\b\b\b\b\b\b\b\b\b\b\b\b\b\b\b\b\b\b\b\b\b\b\b\b\b\b\b\b\b\b\b\b\b\b\b\b\b\b\b\b\b\b\b\b\b\b\b\b\b\b\b\b\b\b\b\b\b\b\b\b\b\b\b\b\b\b\b\b\b\b\b\b\b\b\b\b\b\b\b\b\b\b\b\b\b\b\b\b\b\b\b\b\b\b\b\b\b\b\b\b\b\b\b\b\b\b\b\b\b\b\b\b\b\r\n",
      "141/146 [===========================>..] - ETA: 9s - batch: 70.0000 - size: 2.0000 - loss: 3.7104 - rpn_class_loss: 0.7565 - rpn_bbox_loss: 1.3244 - mrcnn_class_loss: 0.4871 - mrcnn_bbox_loss: 0.6594 - mrcnn_mask_loss: 0.4830 "
     ]
    },
    {
     "name": "stderr",
     "output_type": "stream",
     "text": [
      "/usr/local/lib/python3.8/dist-packages/imgaug/augmenters/base.py:49: SuspiciousSingleImageShapeWarning: You provided a numpy array of shape (1024, 1024, 56) as a single-image augmentation input, which was interpreted as (H, W, C). The last dimension however has a size of >=32, which indicates that you provided a multi-image array with shape (N, H, W) instead. If that is the case, you should use e.g. augmenter(imageS=<your input>) or augment_imageS(<your input>). Otherwise your multi-image input will be interpreted as a single image during augmentation.\n",
      "  ia.warn(\n"
     ]
    },
    {
     "name": "stdout",
     "output_type": "stream",
     "text": [
      "143/146 [============================>.] - ETA: 5s - batch: 71.0000 - size: 2.0000 - loss: 3.6860 - rpn_class_loss: 0.7493 - rpn_bbox_loss: 1.3102 - mrcnn_class_loss: 0.4882 - mrcnn_bbox_loss: 0.6563 - mrcnn_mask_loss: 0.4820"
     ]
    },
    {
     "name": "stderr",
     "output_type": "stream",
     "text": [
      "/usr/local/lib/python3.8/dist-packages/imgaug/augmenters/base.py:49: SuspiciousSingleImageShapeWarning: You provided a numpy array of shape (1024, 1024, 44) as a single-image augmentation input, which was interpreted as (H, W, C). The last dimension however has a size of >=32, which indicates that you provided a multi-image array with shape (N, H, W) instead. If that is the case, you should use e.g. augmenter(imageS=<your input>) or augment_imageS(<your input>). Otherwise your multi-image input will be interpreted as a single image during augmentation.\n",
      "  ia.warn(\n"
     ]
    },
    {
     "name": "stdout",
     "output_type": "stream",
     "text": [
      "\b\b\b\b\b\b\b\b\b\b\b\b\b\b\b\b\b\b\b\b\b\b\b\b\b\b\b\b\b\b\b\b\b\b\b\b\b\b\b\b\b\b\b\b\b\b\b\b\b\b\b\b\b\b\b\b\b\b\b\b\b\b\b\b\b\b\b\b\b\b\b\b\b\b\b\b\b\b\b\b\b\b\b\b\b\b\b\b\b\b\b\b\b\b\b\b\b\b\b\b\b\b\b\b\b\b\b\b\b\b\b\b\b\b\b\b\b\b\b\b\b\b\b\b\b\b\b\b\b\b\b\b\b\b\b\b\b\b\b\b\b\b\b\b\b\b\b\b\b\b\b\b\b\b\b\b\b\b\b\b\b\b\b\b\b\b\b\b\b\b\b\b\b\b\b\b\b\b\b\b\b\b\b\b\b\b\b\b\b\b\b\b\b\b\b\b\b\b\b\b\b\b\b\b\b\b\b\b\b\b\b\b\b\b\b\b\b\b\b\b\b\b\b\b\b\r\n",
      "144/146 [============================>.] - ETA: 3s - batch: 71.5000 - size: 2.0000 - loss: 3.6732 - rpn_class_loss: 0.7451 - rpn_bbox_loss: 1.3037 - mrcnn_class_loss: 0.4885 - mrcnn_bbox_loss: 0.6543 - mrcnn_mask_loss: 0.4816"
     ]
    },
    {
     "name": "stderr",
     "output_type": "stream",
     "text": [
      "/usr/local/lib/python3.8/dist-packages/imgaug/augmenters/base.py:49: SuspiciousSingleImageShapeWarning: You provided a numpy array of shape (1024, 1024, 62) as a single-image augmentation input, which was interpreted as (H, W, C). The last dimension however has a size of >=32, which indicates that you provided a multi-image array with shape (N, H, W) instead. If that is the case, you should use e.g. augmenter(imageS=<your input>) or augment_imageS(<your input>). Otherwise your multi-image input will be interpreted as a single image during augmentation.\n",
      "  ia.warn(\n",
      "/usr/local/lib/python3.8/dist-packages/imgaug/augmenters/base.py:49: SuspiciousSingleImageShapeWarning: You provided a numpy array of shape (1024, 1024, 52) as a single-image augmentation input, which was interpreted as (H, W, C). The last dimension however has a size of >=32, which indicates that you provided a multi-image array with shape (N, H, W) instead. If that is the case, you should use e.g. augmenter(imageS=<your input>) or augment_imageS(<your input>). Otherwise your multi-image input will be interpreted as a single image during augmentation.\n",
      "  ia.warn(\n"
     ]
    },
    {
     "name": "stdout",
     "output_type": "stream",
     "text": [
      "\b\b\b\b\b\b\b\b\b\b\b\b\b\b\b\b\b\b\b\b\b\b\b\b\b\b\b\b\b\b\b\b\b\b\b\b\b\b\b\b\b\b\b\b\b\b\b\b\b\b\b\b\b\b\b\b\b\b\b\b\b\b\b\b\b\b\b\b\b\b\b\b\b\b\b\b\b\b\b\b\b\b\b\b\b\b\b\b\b\b\b\b\b\b\b\b\b\b\b\b\b\b\b\b\b\b\b\b\b\b\b\b\b\b\b\b\b\b\b\b\b\b\b\b\b\b\b\b\b\b\b\b\b\b\b\b\b\b\b\b\b\b\b\b\b\b\b\b\b\b\b\b\b\b\b\b\b\b\b\b\b\b\b\b\b\b\b\b\b\b\b\b\b\b\b\b\b\b\b\b\b\b\b\b\b\b\b\b\b\b\b\b\b\b\b\b\b\b\b\b\b\b\b\b\b\b\b\b\b\b\b\b\b\b\b\b\b\b\b\b\b\b\b\b\b\r\n",
      "145/146 [============================>.] - ETA: 1s - batch: 72.0000 - size: 2.0000 - loss: 3.6633 - rpn_class_loss: 0.7416 - rpn_bbox_loss: 1.2977 - mrcnn_class_loss: 0.4891 - mrcnn_bbox_loss: 0.6531 - mrcnn_mask_loss: 0.4817"
     ]
    },
    {
     "name": "stderr",
     "output_type": "stream",
     "text": [
      "/usr/local/lib/python3.8/dist-packages/imgaug/augmenters/base.py:49: SuspiciousSingleImageShapeWarning: You provided a numpy array of shape (1024, 1024, 44) as a single-image augmentation input, which was interpreted as (H, W, C). The last dimension however has a size of >=32, which indicates that you provided a multi-image array with shape (N, H, W) instead. If that is the case, you should use e.g. augmenter(imageS=<your input>) or augment_imageS(<your input>). Otherwise your multi-image input will be interpreted as a single image during augmentation.\n",
      "  ia.warn(\n"
     ]
    },
    {
     "name": "stdout",
     "output_type": "stream",
     "text": [
      "146/146 [==============================] - 537s 4s/step - batch: 72.5000 - size: 2.0000 - loss: 3.6531 - rpn_class_loss: 0.7378 - rpn_bbox_loss: 1.2913 - mrcnn_class_loss: 0.4902 - mrcnn_bbox_loss: 0.6517 - mrcnn_mask_loss: 0.4820 - val_loss: 2.6930 - val_rpn_class_loss: 0.6831 - val_rpn_bbox_loss: 0.6934 - val_mrcnn_class_loss: 0.3378 - val_mrcnn_bbox_loss: 0.4880 - val_mrcnn_mask_loss: 0.4908\n",
      "Epoch 2/100\n",
      "146/146 [==============================] - 481s 3s/step - batch: 72.5000 - size: 2.0000 - loss: 1.8703 - rpn_class_loss: 0.2035 - rpn_bbox_loss: 0.3628 - mrcnn_class_loss: 0.4648 - mrcnn_bbox_loss: 0.3892 - mrcnn_mask_loss: 0.4500 - val_loss: 2.6785 - val_rpn_class_loss: 0.5712 - val_rpn_bbox_loss: 0.6237 - val_mrcnn_class_loss: 0.5927 - val_mrcnn_bbox_loss: 0.4436 - val_mrcnn_mask_loss: 0.4473\n",
      "Epoch 3/100\n",
      "146/146 [==============================] - 476s 3s/step - batch: 72.5000 - size: 2.0000 - loss: 1.6299 - rpn_class_loss: 0.1448 - rpn_bbox_loss: 0.2977 - mrcnn_class_loss: 0.4335 - mrcnn_bbox_loss: 0.3296 - mrcnn_mask_loss: 0.4242 - val_loss: 2.4833 - val_rpn_class_loss: 0.5432 - val_rpn_bbox_loss: 0.6046 - val_mrcnn_class_loss: 0.5001 - val_mrcnn_bbox_loss: 0.4177 - val_mrcnn_mask_loss: 0.4176\n",
      "Epoch 4/100\n",
      "146/146 [==============================] - 410s 3s/step - batch: 72.5000 - size: 2.0000 - loss: 1.5276 - rpn_class_loss: 0.1287 - rpn_bbox_loss: 0.2723 - mrcnn_class_loss: 0.4100 - mrcnn_bbox_loss: 0.3035 - mrcnn_mask_loss: 0.4131 - val_loss: 2.2759 - val_rpn_class_loss: 0.4293 - val_rpn_bbox_loss: 0.5212 - val_mrcnn_class_loss: 0.4927 - val_mrcnn_bbox_loss: 0.4104 - val_mrcnn_mask_loss: 0.4223\n",
      "Epoch 5/100\n",
      "146/146 [==============================] - 453s 3s/step - batch: 72.5000 - size: 2.0000 - loss: 1.4407 - rpn_class_loss: 0.1151 - rpn_bbox_loss: 0.2484 - mrcnn_class_loss: 0.3954 - mrcnn_bbox_loss: 0.2776 - mrcnn_mask_loss: 0.4042 - val_loss: 2.2927 - val_rpn_class_loss: 0.4220 - val_rpn_bbox_loss: 0.5451 - val_mrcnn_class_loss: 0.5230 - val_mrcnn_bbox_loss: 0.3903 - val_mrcnn_mask_loss: 0.4122\n",
      "Epoch 6/100\n",
      "146/146 [==============================] - 421s 3s/step - batch: 72.5000 - size: 2.0000 - loss: 1.3642 - rpn_class_loss: 0.1037 - rpn_bbox_loss: 0.2215 - mrcnn_class_loss: 0.3894 - mrcnn_bbox_loss: 0.2556 - mrcnn_mask_loss: 0.3940 - val_loss: 2.5979 - val_rpn_class_loss: 0.6819 - val_rpn_bbox_loss: 0.5571 - val_mrcnn_class_loss: 0.5565 - val_mrcnn_bbox_loss: 0.3924 - val_mrcnn_mask_loss: 0.4100\n",
      "Epoch 7/100\n",
      "146/146 [==============================] - 449s 3s/step - batch: 72.5000 - size: 2.0000 - loss: 1.2819 - rpn_class_loss: 0.0936 - rpn_bbox_loss: 0.2079 - mrcnn_class_loss: 0.3586 - mrcnn_bbox_loss: 0.2375 - mrcnn_mask_loss: 0.3842 - val_loss: 2.1202 - val_rpn_class_loss: 0.3760 - val_rpn_bbox_loss: 0.5130 - val_mrcnn_class_loss: 0.4641 - val_mrcnn_bbox_loss: 0.3722 - val_mrcnn_mask_loss: 0.3949\n",
      "Epoch 8/100\n",
      "146/146 [==============================] - 455s 3s/step - batch: 72.5000 - size: 2.0000 - loss: 1.2152 - rpn_class_loss: 0.0820 - rpn_bbox_loss: 0.1976 - mrcnn_class_loss: 0.3376 - mrcnn_bbox_loss: 0.2250 - mrcnn_mask_loss: 0.3730 - val_loss: 2.4205 - val_rpn_class_loss: 0.6113 - val_rpn_bbox_loss: 0.5614 - val_mrcnn_class_loss: 0.4860 - val_mrcnn_bbox_loss: 0.3830 - val_mrcnn_mask_loss: 0.3788\n",
      "Epoch 9/100\n",
      "146/146 [==============================] - 491s 3s/step - batch: 72.5000 - size: 2.0000 - loss: 1.1625 - rpn_class_loss: 0.0756 - rpn_bbox_loss: 0.1848 - mrcnn_class_loss: 0.3232 - mrcnn_bbox_loss: 0.2146 - mrcnn_mask_loss: 0.3642 - val_loss: 2.4639 - val_rpn_class_loss: 0.6261 - val_rpn_bbox_loss: 0.6011 - val_mrcnn_class_loss: 0.5013 - val_mrcnn_bbox_loss: 0.3469 - val_mrcnn_mask_loss: 0.3884\n",
      "Epoch 10/100\n",
      "146/146 [==============================] - 436s 3s/step - batch: 72.5000 - size: 2.0000 - loss: 1.0755 - rpn_class_loss: 0.0661 - rpn_bbox_loss: 0.1648 - mrcnn_class_loss: 0.2870 - mrcnn_bbox_loss: 0.1991 - mrcnn_mask_loss: 0.3584 - val_loss: 2.9641 - val_rpn_class_loss: 1.0030 - val_rpn_bbox_loss: 0.6712 - val_mrcnn_class_loss: 0.5085 - val_mrcnn_bbox_loss: 0.3785 - val_mrcnn_mask_loss: 0.4029\n",
      "Epoch 11/100\n",
      "146/146 [==============================] - 425s 3s/step - batch: 72.5000 - size: 2.0000 - loss: 1.0377 - rpn_class_loss: 0.0619 - rpn_bbox_loss: 0.1527 - mrcnn_class_loss: 0.2818 - mrcnn_bbox_loss: 0.1890 - mrcnn_mask_loss: 0.3523 - val_loss: 2.6350 - val_rpn_class_loss: 0.7151 - val_rpn_bbox_loss: 0.5874 - val_mrcnn_class_loss: 0.5931 - val_mrcnn_bbox_loss: 0.3464 - val_mrcnn_mask_loss: 0.3930\n",
      "Epoch 12/100\n",
      "146/146 [==============================] - 477s 3s/step - batch: 72.5000 - size: 2.0000 - loss: 1.0282 - rpn_class_loss: 0.0622 - rpn_bbox_loss: 0.1564 - mrcnn_class_loss: 0.2758 - mrcnn_bbox_loss: 0.1852 - mrcnn_mask_loss: 0.3486 - val_loss: 3.0631 - val_rpn_class_loss: 0.9365 - val_rpn_bbox_loss: 0.6594 - val_mrcnn_class_loss: 0.7275 - val_mrcnn_bbox_loss: 0.3433 - val_mrcnn_mask_loss: 0.3963\n",
      "Epoch 13/100\n",
      "146/146 [==============================] - 461s 3s/step - batch: 72.5000 - size: 2.0000 - loss: 0.9711 - rpn_class_loss: 0.0525 - rpn_bbox_loss: 0.1393 - mrcnn_class_loss: 0.2666 - mrcnn_bbox_loss: 0.1743 - mrcnn_mask_loss: 0.3385 - val_loss: 2.8328 - val_rpn_class_loss: 0.8248 - val_rpn_bbox_loss: 0.6365 - val_mrcnn_class_loss: 0.6217 - val_mrcnn_bbox_loss: 0.3518 - val_mrcnn_mask_loss: 0.3979\n",
      "Epoch 14/100\n",
      "146/146 [==============================] - 441s 3s/step - batch: 72.5000 - size: 2.0000 - loss: 0.9422 - rpn_class_loss: 0.0477 - rpn_bbox_loss: 0.1367 - mrcnn_class_loss: 0.2545 - mrcnn_bbox_loss: 0.1679 - mrcnn_mask_loss: 0.3354 - val_loss: 2.5713 - val_rpn_class_loss: 0.5723 - val_rpn_bbox_loss: 0.7361 - val_mrcnn_class_loss: 0.5114 - val_mrcnn_bbox_loss: 0.3332 - val_mrcnn_mask_loss: 0.4183\n",
      "Epoch 15/100\n",
      "146/146 [==============================] - 489s 3s/step - batch: 72.5000 - size: 2.0000 - loss: 0.9254 - rpn_class_loss: 0.0517 - rpn_bbox_loss: 0.1347 - mrcnn_class_loss: 0.2482 - mrcnn_bbox_loss: 0.1612 - mrcnn_mask_loss: 0.3297 - val_loss: 2.5937 - val_rpn_class_loss: 0.7600 - val_rpn_bbox_loss: 0.6030 - val_mrcnn_class_loss: 0.5310 - val_mrcnn_bbox_loss: 0.3213 - val_mrcnn_mask_loss: 0.3785\n",
      "Epoch 16/100\n",
      "146/146 [==============================] - 459s 3s/step - batch: 72.5000 - size: 2.0000 - loss: 0.8861 - rpn_class_loss: 0.0450 - rpn_bbox_loss: 0.1205 - mrcnn_class_loss: 0.2360 - mrcnn_bbox_loss: 0.1557 - mrcnn_mask_loss: 0.3289 - val_loss: 2.9104 - val_rpn_class_loss: 0.8364 - val_rpn_bbox_loss: 0.6844 - val_mrcnn_class_loss: 0.6522 - val_mrcnn_bbox_loss: 0.3373 - val_mrcnn_mask_loss: 0.4002\n",
      "Epoch 17/100\n",
      "146/146 [==============================] - 475s 3s/step - batch: 72.5000 - size: 2.0000 - loss: 0.8523 - rpn_class_loss: 0.0429 - rpn_bbox_loss: 0.1160 - mrcnn_class_loss: 0.2227 - mrcnn_bbox_loss: 0.1473 - mrcnn_mask_loss: 0.3234 - val_loss: 2.7175 - val_rpn_class_loss: 0.8365 - val_rpn_bbox_loss: 0.6196 - val_mrcnn_class_loss: 0.5655 - val_mrcnn_bbox_loss: 0.3244 - val_mrcnn_mask_loss: 0.3715\n",
      "Epoch 18/100\n",
      "146/146 [==============================] - 428s 3s/step - batch: 72.5000 - size: 2.0000 - loss: 0.8279 - rpn_class_loss: 0.0412 - rpn_bbox_loss: 0.1143 - mrcnn_class_loss: 0.2134 - mrcnn_bbox_loss: 0.1440 - mrcnn_mask_loss: 0.3149 - val_loss: 2.8206 - val_rpn_class_loss: 0.9135 - val_rpn_bbox_loss: 0.5494 - val_mrcnn_class_loss: 0.6494 - val_mrcnn_bbox_loss: 0.3399 - val_mrcnn_mask_loss: 0.3684\n",
      "Epoch 19/100\n",
      "146/146 [==============================] - 428s 3s/step - batch: 72.5000 - size: 2.0000 - loss: 0.7861 - rpn_class_loss: 0.0360 - rpn_bbox_loss: 0.1032 - mrcnn_class_loss: 0.2012 - mrcnn_bbox_loss: 0.1358 - mrcnn_mask_loss: 0.3099 - val_loss: 3.0704 - val_rpn_class_loss: 1.0401 - val_rpn_bbox_loss: 0.6703 - val_mrcnn_class_loss: 0.6490 - val_mrcnn_bbox_loss: 0.3263 - val_mrcnn_mask_loss: 0.3847\n",
      "Epoch 20/100\n",
      "146/146 [==============================] - 437s 3s/step - batch: 72.5000 - size: 2.0000 - loss: 0.7742 - rpn_class_loss: 0.0324 - rpn_bbox_loss: 0.0995 - mrcnn_class_loss: 0.2009 - mrcnn_bbox_loss: 0.1332 - mrcnn_mask_loss: 0.3083 - val_loss: 2.6998 - val_rpn_class_loss: 0.7387 - val_rpn_bbox_loss: 0.6020 - val_mrcnn_class_loss: 0.6473 - val_mrcnn_bbox_loss: 0.3359 - val_mrcnn_mask_loss: 0.3759\n"
     ]
    },
    {
     "name": "stdout",
     "output_type": "stream",
     "text": [
      "Epoch 21/100\n",
      "146/146 [==============================] - 475s 3s/step - batch: 72.5000 - size: 2.0000 - loss: 0.7651 - rpn_class_loss: 0.0346 - rpn_bbox_loss: 0.1001 - mrcnn_class_loss: 0.1973 - mrcnn_bbox_loss: 0.1279 - mrcnn_mask_loss: 0.3051 - val_loss: 3.4832 - val_rpn_class_loss: 1.2943 - val_rpn_bbox_loss: 0.6929 - val_mrcnn_class_loss: 0.7717 - val_mrcnn_bbox_loss: 0.3415 - val_mrcnn_mask_loss: 0.3827\n",
      "Epoch 22/100\n",
      "146/146 [==============================] - 476s 3s/step - batch: 72.5000 - size: 2.0000 - loss: 0.7162 - rpn_class_loss: 0.0297 - rpn_bbox_loss: 0.0842 - mrcnn_class_loss: 0.1823 - mrcnn_bbox_loss: 0.1198 - mrcnn_mask_loss: 0.3002 - val_loss: 3.6363 - val_rpn_class_loss: 1.4200 - val_rpn_bbox_loss: 0.7269 - val_mrcnn_class_loss: 0.8006 - val_mrcnn_bbox_loss: 0.3198 - val_mrcnn_mask_loss: 0.3690\n",
      "Epoch 23/100\n",
      "146/146 [==============================] - 472s 3s/step - batch: 72.5000 - size: 2.0000 - loss: 0.7266 - rpn_class_loss: 0.0304 - rpn_bbox_loss: 0.0939 - mrcnn_class_loss: 0.1820 - mrcnn_bbox_loss: 0.1206 - mrcnn_mask_loss: 0.2996 - val_loss: 3.7010 - val_rpn_class_loss: 1.4596 - val_rpn_bbox_loss: 0.8797 - val_mrcnn_class_loss: 0.6591 - val_mrcnn_bbox_loss: 0.3033 - val_mrcnn_mask_loss: 0.3992\n",
      "Epoch 24/100\n",
      "146/146 [==============================] - 487s 3s/step - batch: 72.5000 - size: 2.0000 - loss: 0.6990 - rpn_class_loss: 0.0267 - rpn_bbox_loss: 0.0832 - mrcnn_class_loss: 0.1766 - mrcnn_bbox_loss: 0.1151 - mrcnn_mask_loss: 0.2975 - val_loss: 3.3978 - val_rpn_class_loss: 1.2312 - val_rpn_bbox_loss: 0.7357 - val_mrcnn_class_loss: 0.7334 - val_mrcnn_bbox_loss: 0.3167 - val_mrcnn_mask_loss: 0.3809\n",
      "Epoch 25/100\n",
      "146/146 [==============================] - 409s 3s/step - batch: 72.5000 - size: 2.0000 - loss: 0.6913 - rpn_class_loss: 0.0266 - rpn_bbox_loss: 0.0855 - mrcnn_class_loss: 0.1756 - mrcnn_bbox_loss: 0.1130 - mrcnn_mask_loss: 0.2907 - val_loss: 3.7887 - val_rpn_class_loss: 1.4421 - val_rpn_bbox_loss: 0.8127 - val_mrcnn_class_loss: 0.8066 - val_mrcnn_bbox_loss: 0.3306 - val_mrcnn_mask_loss: 0.3967\n",
      "Epoch 26/100\n",
      "146/146 [==============================] - 459s 3s/step - batch: 72.5000 - size: 2.0000 - loss: 0.6789 - rpn_class_loss: 0.0280 - rpn_bbox_loss: 0.0822 - mrcnn_class_loss: 0.1660 - mrcnn_bbox_loss: 0.1103 - mrcnn_mask_loss: 0.2923 - val_loss: 3.7624 - val_rpn_class_loss: 1.5370 - val_rpn_bbox_loss: 0.7580 - val_mrcnn_class_loss: 0.7391 - val_mrcnn_bbox_loss: 0.3430 - val_mrcnn_mask_loss: 0.3854\n",
      "Epoch 27/100\n",
      "146/146 [==============================] - 452s 3s/step - batch: 72.5000 - size: 2.0000 - loss: 0.6525 - rpn_class_loss: 0.0241 - rpn_bbox_loss: 0.0740 - mrcnn_class_loss: 0.1661 - mrcnn_bbox_loss: 0.1055 - mrcnn_mask_loss: 0.2828 - val_loss: 3.8379 - val_rpn_class_loss: 1.4441 - val_rpn_bbox_loss: 0.9728 - val_mrcnn_class_loss: 0.6875 - val_mrcnn_bbox_loss: 0.3283 - val_mrcnn_mask_loss: 0.4052\n",
      "Epoch 28/100\n",
      "146/146 [==============================] - 427s 3s/step - batch: 72.5000 - size: 2.0000 - loss: 0.6240 - rpn_class_loss: 0.0229 - rpn_bbox_loss: 0.0693 - mrcnn_class_loss: 0.1519 - mrcnn_bbox_loss: 0.1000 - mrcnn_mask_loss: 0.2799 - val_loss: 3.3773 - val_rpn_class_loss: 1.3146 - val_rpn_bbox_loss: 0.8016 - val_mrcnn_class_loss: 0.5748 - val_mrcnn_bbox_loss: 0.3168 - val_mrcnn_mask_loss: 0.3695\n",
      "Epoch 29/100\n",
      "146/146 [==============================] - 496s 3s/step - batch: 72.5000 - size: 2.0000 - loss: 0.6093 - rpn_class_loss: 0.0199 - rpn_bbox_loss: 0.0709 - mrcnn_class_loss: 0.1459 - mrcnn_bbox_loss: 0.0968 - mrcnn_mask_loss: 0.2758 - val_loss: 4.3107 - val_rpn_class_loss: 1.8297 - val_rpn_bbox_loss: 0.9265 - val_mrcnn_class_loss: 0.8459 - val_mrcnn_bbox_loss: 0.3218 - val_mrcnn_mask_loss: 0.3867\n",
      "Epoch 30/100\n",
      "146/146 [==============================] - 455s 3s/step - batch: 72.5000 - size: 2.0000 - loss: 0.5877 - rpn_class_loss: 0.0180 - rpn_bbox_loss: 0.0637 - mrcnn_class_loss: 0.1397 - mrcnn_bbox_loss: 0.0944 - mrcnn_mask_loss: 0.2720 - val_loss: 3.3501 - val_rpn_class_loss: 1.2649 - val_rpn_bbox_loss: 0.8823 - val_mrcnn_class_loss: 0.5545 - val_mrcnn_bbox_loss: 0.2814 - val_mrcnn_mask_loss: 0.3670\n",
      "Epoch 31/100\n",
      "146/146 [==============================] - 467s 3s/step - batch: 72.5000 - size: 2.0000 - loss: 0.5772 - rpn_class_loss: 0.0178 - rpn_bbox_loss: 0.0653 - mrcnn_class_loss: 0.1375 - mrcnn_bbox_loss: 0.0913 - mrcnn_mask_loss: 0.2653 - val_loss: 3.7452 - val_rpn_class_loss: 1.4355 - val_rpn_bbox_loss: 0.7584 - val_mrcnn_class_loss: 0.8395 - val_mrcnn_bbox_loss: 0.3173 - val_mrcnn_mask_loss: 0.3945\n",
      "Epoch 32/100\n",
      "146/146 [==============================] - 470s 3s/step - batch: 72.5000 - size: 2.0000 - loss: 0.5807 - rpn_class_loss: 0.0206 - rpn_bbox_loss: 0.0682 - mrcnn_class_loss: 0.1357 - mrcnn_bbox_loss: 0.0912 - mrcnn_mask_loss: 0.2651 - val_loss: 3.7649 - val_rpn_class_loss: 1.4863 - val_rpn_bbox_loss: 0.8607 - val_mrcnn_class_loss: 0.7240 - val_mrcnn_bbox_loss: 0.3107 - val_mrcnn_mask_loss: 0.3832\n",
      "Epoch 33/100\n",
      "146/146 [==============================] - 480s 3s/step - batch: 72.5000 - size: 2.0000 - loss: 0.5586 - rpn_class_loss: 0.0190 - rpn_bbox_loss: 0.0631 - mrcnn_class_loss: 0.1299 - mrcnn_bbox_loss: 0.0856 - mrcnn_mask_loss: 0.2610 - val_loss: 4.1848 - val_rpn_class_loss: 1.8424 - val_rpn_bbox_loss: 0.9308 - val_mrcnn_class_loss: 0.7515 - val_mrcnn_bbox_loss: 0.2811 - val_mrcnn_mask_loss: 0.3790\n",
      "Epoch 34/100\n",
      "146/146 [==============================] - 427s 3s/step - batch: 72.5000 - size: 2.0000 - loss: 0.5481 - rpn_class_loss: 0.0160 - rpn_bbox_loss: 0.0595 - mrcnn_class_loss: 0.1298 - mrcnn_bbox_loss: 0.0842 - mrcnn_mask_loss: 0.2586 - val_loss: 3.7639 - val_rpn_class_loss: 1.4516 - val_rpn_bbox_loss: 0.9080 - val_mrcnn_class_loss: 0.7027 - val_mrcnn_bbox_loss: 0.3168 - val_mrcnn_mask_loss: 0.3848\n",
      "Epoch 35/100\n",
      "146/146 [==============================] - 496s 3s/step - batch: 72.5000 - size: 2.0000 - loss: 0.5305 - rpn_class_loss: 0.0165 - rpn_bbox_loss: 0.0551 - mrcnn_class_loss: 0.1200 - mrcnn_bbox_loss: 0.0813 - mrcnn_mask_loss: 0.2576 - val_loss: 4.5604 - val_rpn_class_loss: 1.9320 - val_rpn_bbox_loss: 1.0423 - val_mrcnn_class_loss: 0.8891 - val_mrcnn_bbox_loss: 0.3059 - val_mrcnn_mask_loss: 0.3910\n",
      "Epoch 36/100\n",
      "146/146 [==============================] - 456s 3s/step - batch: 72.5000 - size: 2.0000 - loss: 0.5149 - rpn_class_loss: 0.0119 - rpn_bbox_loss: 0.0533 - mrcnn_class_loss: 0.1172 - mrcnn_bbox_loss: 0.0800 - mrcnn_mask_loss: 0.2525 - val_loss: 4.4853 - val_rpn_class_loss: 1.8892 - val_rpn_bbox_loss: 0.9813 - val_mrcnn_class_loss: 0.8949 - val_mrcnn_bbox_loss: 0.3141 - val_mrcnn_mask_loss: 0.4058\n",
      "Epoch 37/100\n",
      "146/146 [==============================] - 456s 3s/step - batch: 72.5000 - size: 2.0000 - loss: 0.5014 - rpn_class_loss: 0.0129 - rpn_bbox_loss: 0.0530 - mrcnn_class_loss: 0.1126 - mrcnn_bbox_loss: 0.0754 - mrcnn_mask_loss: 0.2475 - val_loss: 4.8972 - val_rpn_class_loss: 2.3197 - val_rpn_bbox_loss: 1.1008 - val_mrcnn_class_loss: 0.8015 - val_mrcnn_bbox_loss: 0.2934 - val_mrcnn_mask_loss: 0.3819\n",
      "Epoch 38/100\n",
      "146/146 [==============================] - 446s 3s/step - batch: 72.5000 - size: 2.0000 - loss: 0.4900 - rpn_class_loss: 0.0119 - rpn_bbox_loss: 0.0515 - mrcnn_class_loss: 0.1082 - mrcnn_bbox_loss: 0.0730 - mrcnn_mask_loss: 0.2454 - val_loss: 3.3758 - val_rpn_class_loss: 1.2227 - val_rpn_bbox_loss: 0.7651 - val_mrcnn_class_loss: 0.6792 - val_mrcnn_bbox_loss: 0.3275 - val_mrcnn_mask_loss: 0.3813\n",
      "Epoch 39/100\n",
      "146/146 [==============================] - 437s 3s/step - batch: 72.5000 - size: 2.0000 - loss: 0.4784 - rpn_class_loss: 0.0111 - rpn_bbox_loss: 0.0467 - mrcnn_class_loss: 0.1024 - mrcnn_bbox_loss: 0.0712 - mrcnn_mask_loss: 0.2470 - val_loss: 4.2626 - val_rpn_class_loss: 1.7242 - val_rpn_bbox_loss: 0.9082 - val_mrcnn_class_loss: 0.9399 - val_mrcnn_bbox_loss: 0.3021 - val_mrcnn_mask_loss: 0.3882\n",
      "Epoch 40/100\n",
      "146/146 [==============================] - 462s 3s/step - batch: 72.5000 - size: 2.0000 - loss: 0.4753 - rpn_class_loss: 0.0114 - rpn_bbox_loss: 0.0465 - mrcnn_class_loss: 0.1061 - mrcnn_bbox_loss: 0.0702 - mrcnn_mask_loss: 0.2411 - val_loss: 3.9984 - val_rpn_class_loss: 1.6543 - val_rpn_bbox_loss: 0.8391 - val_mrcnn_class_loss: 0.8216 - val_mrcnn_bbox_loss: 0.3084 - val_mrcnn_mask_loss: 0.3750\n"
     ]
    },
    {
     "name": "stdout",
     "output_type": "stream",
     "text": [
      "Epoch 41/100\n",
      "146/146 [==============================] - 474s 3s/step - batch: 72.5000 - size: 2.0000 - loss: 0.4509 - rpn_class_loss: 0.0088 - rpn_bbox_loss: 0.0418 - mrcnn_class_loss: 0.0993 - mrcnn_bbox_loss: 0.0651 - mrcnn_mask_loss: 0.2359 - val_loss: 4.3675 - val_rpn_class_loss: 1.9576 - val_rpn_bbox_loss: 0.9446 - val_mrcnn_class_loss: 0.8130 - val_mrcnn_bbox_loss: 0.2858 - val_mrcnn_mask_loss: 0.3666\n",
      "Epoch 42/100\n",
      "146/146 [==============================] - 521s 4s/step - batch: 72.5000 - size: 2.0000 - loss: 0.4390 - rpn_class_loss: 0.0094 - rpn_bbox_loss: 0.0410 - mrcnn_class_loss: 0.0949 - mrcnn_bbox_loss: 0.0628 - mrcnn_mask_loss: 0.2308 - val_loss: 5.4474 - val_rpn_class_loss: 2.5296 - val_rpn_bbox_loss: 1.1550 - val_mrcnn_class_loss: 1.0270 - val_mrcnn_bbox_loss: 0.2896 - val_mrcnn_mask_loss: 0.4463\n",
      "Epoch 43/100\n",
      "146/146 [==============================] - 491s 3s/step - batch: 72.5000 - size: 2.0000 - loss: 0.4307 - rpn_class_loss: 0.0092 - rpn_bbox_loss: 0.0425 - mrcnn_class_loss: 0.0899 - mrcnn_bbox_loss: 0.0611 - mrcnn_mask_loss: 0.2279 - val_loss: 4.2469 - val_rpn_class_loss: 1.7936 - val_rpn_bbox_loss: 1.0148 - val_mrcnn_class_loss: 0.7721 - val_mrcnn_bbox_loss: 0.2821 - val_mrcnn_mask_loss: 0.3843\n",
      "Epoch 44/100\n",
      "146/146 [==============================] - 477s 3s/step - batch: 72.5000 - size: 2.0000 - loss: 0.4512 - rpn_class_loss: 0.0109 - rpn_bbox_loss: 0.0467 - mrcnn_class_loss: 0.0995 - mrcnn_bbox_loss: 0.0650 - mrcnn_mask_loss: 0.2291 - val_loss: 4.9938 - val_rpn_class_loss: 2.2776 - val_rpn_bbox_loss: 1.2838 - val_mrcnn_class_loss: 0.7251 - val_mrcnn_bbox_loss: 0.2791 - val_mrcnn_mask_loss: 0.4280\n",
      "Epoch 45/100\n",
      "146/146 [==============================] - 418s 3s/step - batch: 72.5000 - size: 2.0000 - loss: 0.4296 - rpn_class_loss: 0.0090 - rpn_bbox_loss: 0.0417 - mrcnn_class_loss: 0.0915 - mrcnn_bbox_loss: 0.0623 - mrcnn_mask_loss: 0.2250 - val_loss: 4.9506 - val_rpn_class_loss: 2.2683 - val_rpn_bbox_loss: 0.9208 - val_mrcnn_class_loss: 1.0279 - val_mrcnn_bbox_loss: 0.3018 - val_mrcnn_mask_loss: 0.4317\n",
      "Epoch 46/100\n",
      "146/146 [==============================] - 461s 3s/step - batch: 72.5000 - size: 2.0000 - loss: 0.4360 - rpn_class_loss: 0.0091 - rpn_bbox_loss: 0.0420 - mrcnn_class_loss: 0.0945 - mrcnn_bbox_loss: 0.0627 - mrcnn_mask_loss: 0.2277 - val_loss: 5.5506 - val_rpn_class_loss: 2.5998 - val_rpn_bbox_loss: 1.0694 - val_mrcnn_class_loss: 1.1450 - val_mrcnn_bbox_loss: 0.3120 - val_mrcnn_mask_loss: 0.4243\n",
      "Epoch 47/100\n",
      "146/146 [==============================] - 478s 3s/step - batch: 72.5000 - size: 2.0000 - loss: 0.4091 - rpn_class_loss: 0.0082 - rpn_bbox_loss: 0.0395 - mrcnn_class_loss: 0.0859 - mrcnn_bbox_loss: 0.0582 - mrcnn_mask_loss: 0.2173 - val_loss: 5.5237 - val_rpn_class_loss: 2.5787 - val_rpn_bbox_loss: 1.2379 - val_mrcnn_class_loss: 1.0154 - val_mrcnn_bbox_loss: 0.2839 - val_mrcnn_mask_loss: 0.4078\n",
      "Epoch 48/100\n",
      "146/146 [==============================] - 454s 3s/step - batch: 72.5000 - size: 2.0000 - loss: 0.4094 - rpn_class_loss: 0.0086 - rpn_bbox_loss: 0.0403 - mrcnn_class_loss: 0.0878 - mrcnn_bbox_loss: 0.0579 - mrcnn_mask_loss: 0.2149 - val_loss: 4.5912 - val_rpn_class_loss: 1.9265 - val_rpn_bbox_loss: 1.0488 - val_mrcnn_class_loss: 0.9225 - val_mrcnn_bbox_loss: 0.2923 - val_mrcnn_mask_loss: 0.4011\n",
      "Epoch 49/100\n",
      "146/146 [==============================] - 444s 3s/step - batch: 72.5000 - size: 2.0000 - loss: 0.4094 - rpn_class_loss: 0.0087 - rpn_bbox_loss: 0.0415 - mrcnn_class_loss: 0.0809 - mrcnn_bbox_loss: 0.0580 - mrcnn_mask_loss: 0.2202 - val_loss: 5.7903 - val_rpn_class_loss: 2.6652 - val_rpn_bbox_loss: 1.1813 - val_mrcnn_class_loss: 1.1514 - val_mrcnn_bbox_loss: 0.3058 - val_mrcnn_mask_loss: 0.4866\n",
      "Epoch 50/100\n",
      "146/146 [==============================] - 467s 3s/step - batch: 72.5000 - size: 2.0000 - loss: 0.3911 - rpn_class_loss: 0.0071 - rpn_bbox_loss: 0.0379 - mrcnn_class_loss: 0.0809 - mrcnn_bbox_loss: 0.0545 - mrcnn_mask_loss: 0.2107 - val_loss: 3.9632 - val_rpn_class_loss: 1.7062 - val_rpn_bbox_loss: 0.6923 - val_mrcnn_class_loss: 0.8728 - val_mrcnn_bbox_loss: 0.3183 - val_mrcnn_mask_loss: 0.3737\n",
      "Epoch 51/100\n",
      "146/146 [==============================] - 429s 3s/step - batch: 72.5000 - size: 2.0000 - loss: 0.3784 - rpn_class_loss: 0.0062 - rpn_bbox_loss: 0.0353 - mrcnn_class_loss: 0.0786 - mrcnn_bbox_loss: 0.0532 - mrcnn_mask_loss: 0.2050 - val_loss: 6.0261 - val_rpn_class_loss: 2.9152 - val_rpn_bbox_loss: 1.0811 - val_mrcnn_class_loss: 1.2347 - val_mrcnn_bbox_loss: 0.3051 - val_mrcnn_mask_loss: 0.4901\n",
      "Epoch 52/100\n",
      "146/146 [==============================] - 469s 3s/step - batch: 72.5000 - size: 2.0000 - loss: 0.3653 - rpn_class_loss: 0.0056 - rpn_bbox_loss: 0.0325 - mrcnn_class_loss: 0.0763 - mrcnn_bbox_loss: 0.0502 - mrcnn_mask_loss: 0.2006 - val_loss: 5.5309 - val_rpn_class_loss: 2.6423 - val_rpn_bbox_loss: 1.1551 - val_mrcnn_class_loss: 1.0075 - val_mrcnn_bbox_loss: 0.2938 - val_mrcnn_mask_loss: 0.4323\n",
      "Epoch 53/100\n",
      "146/146 [==============================] - 469s 3s/step - batch: 72.5000 - size: 2.0000 - loss: 0.3850 - rpn_class_loss: 0.0098 - rpn_bbox_loss: 0.0376 - mrcnn_class_loss: 0.0799 - mrcnn_bbox_loss: 0.0525 - mrcnn_mask_loss: 0.2052 - val_loss: 5.6079 - val_rpn_class_loss: 2.7746 - val_rpn_bbox_loss: 1.2824 - val_mrcnn_class_loss: 0.8690 - val_mrcnn_bbox_loss: 0.2861 - val_mrcnn_mask_loss: 0.3957\n",
      "Epoch 54/100\n",
      "146/146 [==============================] - 440s 3s/step - batch: 72.5000 - size: 2.0000 - loss: 0.3673 - rpn_class_loss: 0.0062 - rpn_bbox_loss: 0.0343 - mrcnn_class_loss: 0.0746 - mrcnn_bbox_loss: 0.0504 - mrcnn_mask_loss: 0.2018 - val_loss: 5.4944 - val_rpn_class_loss: 2.6536 - val_rpn_bbox_loss: 1.1516 - val_mrcnn_class_loss: 0.9960 - val_mrcnn_bbox_loss: 0.2918 - val_mrcnn_mask_loss: 0.4014\n",
      "Epoch 55/100\n",
      "146/146 [==============================] - 503s 3s/step - batch: 72.5000 - size: 2.0000 - loss: 0.3676 - rpn_class_loss: 0.0057 - rpn_bbox_loss: 0.0349 - mrcnn_class_loss: 0.0733 - mrcnn_bbox_loss: 0.0503 - mrcnn_mask_loss: 0.2034 - val_loss: 4.5034 - val_rpn_class_loss: 2.0241 - val_rpn_bbox_loss: 0.9763 - val_mrcnn_class_loss: 0.8257 - val_mrcnn_bbox_loss: 0.2827 - val_mrcnn_mask_loss: 0.3946\n",
      "Epoch 56/100\n",
      "146/146 [==============================] - 434s 3s/step - batch: 72.5000 - size: 2.0000 - loss: 0.3611 - rpn_class_loss: 0.0066 - rpn_bbox_loss: 0.0342 - mrcnn_class_loss: 0.0730 - mrcnn_bbox_loss: 0.0495 - mrcnn_mask_loss: 0.1978 - val_loss: 4.8375 - val_rpn_class_loss: 2.3143 - val_rpn_bbox_loss: 1.0509 - val_mrcnn_class_loss: 0.8069 - val_mrcnn_bbox_loss: 0.2706 - val_mrcnn_mask_loss: 0.3948\n",
      "Epoch 57/100\n",
      "146/146 [==============================] - 459s 3s/step - batch: 72.5000 - size: 2.0000 - loss: 0.3390 - rpn_class_loss: 0.0074 - rpn_bbox_loss: 0.0315 - mrcnn_class_loss: 0.0660 - mrcnn_bbox_loss: 0.0450 - mrcnn_mask_loss: 0.1891 - val_loss: 5.7479 - val_rpn_class_loss: 2.9322 - val_rpn_bbox_loss: 1.2168 - val_mrcnn_class_loss: 0.8818 - val_mrcnn_bbox_loss: 0.3023 - val_mrcnn_mask_loss: 0.4147\n",
      "Epoch 58/100\n",
      "146/146 [==============================] - 430s 3s/step - batch: 72.5000 - size: 2.0000 - loss: 0.3330 - rpn_class_loss: 0.0052 - rpn_bbox_loss: 0.0289 - mrcnn_class_loss: 0.0636 - mrcnn_bbox_loss: 0.0444 - mrcnn_mask_loss: 0.1909 - val_loss: 6.2399 - val_rpn_class_loss: 3.1591 - val_rpn_bbox_loss: 1.2150 - val_mrcnn_class_loss: 1.0926 - val_mrcnn_bbox_loss: 0.3105 - val_mrcnn_mask_loss: 0.4627\n",
      "Epoch 59/100\n",
      "146/146 [==============================] - 475s 3s/step - batch: 72.5000 - size: 2.0000 - loss: 0.3392 - rpn_class_loss: 0.0048 - rpn_bbox_loss: 0.0300 - mrcnn_class_loss: 0.0678 - mrcnn_bbox_loss: 0.0441 - mrcnn_mask_loss: 0.1924 - val_loss: 6.4523 - val_rpn_class_loss: 3.2174 - val_rpn_bbox_loss: 1.2977 - val_mrcnn_class_loss: 1.1608 - val_mrcnn_bbox_loss: 0.3116 - val_mrcnn_mask_loss: 0.4648\n",
      "Epoch 60/100\n",
      "146/146 [==============================] - 421s 3s/step - batch: 72.5000 - size: 2.0000 - loss: 0.3244 - rpn_class_loss: 0.0042 - rpn_bbox_loss: 0.0288 - mrcnn_class_loss: 0.0635 - mrcnn_bbox_loss: 0.0433 - mrcnn_mask_loss: 0.1848 - val_loss: 5.4069 - val_rpn_class_loss: 2.5991 - val_rpn_bbox_loss: 1.1507 - val_mrcnn_class_loss: 0.9297 - val_mrcnn_bbox_loss: 0.3104 - val_mrcnn_mask_loss: 0.4169\n"
     ]
    },
    {
     "name": "stdout",
     "output_type": "stream",
     "text": [
      "Epoch 61/100\n",
      "146/146 [==============================] - 424s 3s/step - batch: 72.5000 - size: 2.0000 - loss: 0.3287 - rpn_class_loss: 0.0051 - rpn_bbox_loss: 0.0284 - mrcnn_class_loss: 0.0631 - mrcnn_bbox_loss: 0.0427 - mrcnn_mask_loss: 0.1894 - val_loss: 4.1058 - val_rpn_class_loss: 1.7438 - val_rpn_bbox_loss: 0.8847 - val_mrcnn_class_loss: 0.8413 - val_mrcnn_bbox_loss: 0.2595 - val_mrcnn_mask_loss: 0.3765\n",
      "Epoch 62/100\n",
      "146/146 [==============================] - 495s 3s/step - batch: 72.5000 - size: 2.0000 - loss: 0.3158 - rpn_class_loss: 0.0044 - rpn_bbox_loss: 0.0276 - mrcnn_class_loss: 0.0592 - mrcnn_bbox_loss: 0.0412 - mrcnn_mask_loss: 0.1835 - val_loss: 6.2701 - val_rpn_class_loss: 3.1707 - val_rpn_bbox_loss: 1.2715 - val_mrcnn_class_loss: 1.0476 - val_mrcnn_bbox_loss: 0.2836 - val_mrcnn_mask_loss: 0.4966\n",
      "Epoch 63/100\n",
      "146/146 [==============================] - 453s 3s/step - batch: 72.5000 - size: 2.0000 - loss: 0.3288 - rpn_class_loss: 0.0053 - rpn_bbox_loss: 0.0310 - mrcnn_class_loss: 0.0634 - mrcnn_bbox_loss: 0.0428 - mrcnn_mask_loss: 0.1862 - val_loss: 4.3973 - val_rpn_class_loss: 1.9609 - val_rpn_bbox_loss: 0.8724 - val_mrcnn_class_loss: 0.8295 - val_mrcnn_bbox_loss: 0.3169 - val_mrcnn_mask_loss: 0.4176\n",
      "Epoch 64/100\n",
      "146/146 [==============================] - 477s 3s/step - batch: 72.5000 - size: 2.0000 - loss: 0.3212 - rpn_class_loss: 0.0044 - rpn_bbox_loss: 0.0282 - mrcnn_class_loss: 0.0647 - mrcnn_bbox_loss: 0.0417 - mrcnn_mask_loss: 0.1823 - val_loss: 5.1835 - val_rpn_class_loss: 2.4180 - val_rpn_bbox_loss: 1.1331 - val_mrcnn_class_loss: 0.9082 - val_mrcnn_bbox_loss: 0.2959 - val_mrcnn_mask_loss: 0.4281\n",
      "Epoch 65/100\n",
      "146/146 [==============================] - 457s 3s/step - batch: 72.5000 - size: 2.0000 - loss: 0.2976 - rpn_class_loss: 0.0039 - rpn_bbox_loss: 0.0252 - mrcnn_class_loss: 0.0559 - mrcnn_bbox_loss: 0.0380 - mrcnn_mask_loss: 0.1745 - val_loss: 5.3236 - val_rpn_class_loss: 2.4870 - val_rpn_bbox_loss: 1.2006 - val_mrcnn_class_loss: 0.9127 - val_mrcnn_bbox_loss: 0.2808 - val_mrcnn_mask_loss: 0.4426\n",
      "Epoch 66/100\n",
      "146/146 [==============================] - 469s 3s/step - batch: 72.5000 - size: 2.0000 - loss: 0.3110 - rpn_class_loss: 0.0039 - rpn_bbox_loss: 0.0272 - mrcnn_class_loss: 0.0612 - mrcnn_bbox_loss: 0.0398 - mrcnn_mask_loss: 0.1790 - val_loss: 5.8763 - val_rpn_class_loss: 2.9489 - val_rpn_bbox_loss: 1.2277 - val_mrcnn_class_loss: 0.9843 - val_mrcnn_bbox_loss: 0.2981 - val_mrcnn_mask_loss: 0.4173\n",
      "Epoch 67/100\n",
      "146/146 [==============================] - 464s 3s/step - batch: 72.5000 - size: 2.0000 - loss: 0.3022 - rpn_class_loss: 0.0045 - rpn_bbox_loss: 0.0255 - mrcnn_class_loss: 0.0578 - mrcnn_bbox_loss: 0.0379 - mrcnn_mask_loss: 0.1763 - val_loss: 5.7926 - val_rpn_class_loss: 2.8701 - val_rpn_bbox_loss: 1.2066 - val_mrcnn_class_loss: 0.9790 - val_mrcnn_bbox_loss: 0.3014 - val_mrcnn_mask_loss: 0.4355\n",
      "Epoch 68/100\n",
      "146/146 [==============================] - 453s 3s/step - batch: 72.5000 - size: 2.0000 - loss: 0.2944 - rpn_class_loss: 0.0033 - rpn_bbox_loss: 0.0240 - mrcnn_class_loss: 0.0557 - mrcnn_bbox_loss: 0.0373 - mrcnn_mask_loss: 0.1742 - val_loss: 6.0474 - val_rpn_class_loss: 2.9765 - val_rpn_bbox_loss: 1.3087 - val_mrcnn_class_loss: 1.0486 - val_mrcnn_bbox_loss: 0.2906 - val_mrcnn_mask_loss: 0.4231\n",
      "Epoch 69/100\n",
      "146/146 [==============================] - 458s 3s/step - batch: 72.5000 - size: 2.0000 - loss: 0.2924 - rpn_class_loss: 0.0039 - rpn_bbox_loss: 0.0242 - mrcnn_class_loss: 0.0542 - mrcnn_bbox_loss: 0.0372 - mrcnn_mask_loss: 0.1728 - val_loss: 4.9966 - val_rpn_class_loss: 2.4207 - val_rpn_bbox_loss: 1.0513 - val_mrcnn_class_loss: 0.8051 - val_mrcnn_bbox_loss: 0.2905 - val_mrcnn_mask_loss: 0.4289\n",
      "Epoch 70/100\n",
      "146/146 [==============================] - 443s 3s/step - batch: 72.5000 - size: 2.0000 - loss: 0.2974 - rpn_class_loss: 0.0041 - rpn_bbox_loss: 0.0261 - mrcnn_class_loss: 0.0580 - mrcnn_bbox_loss: 0.0372 - mrcnn_mask_loss: 0.1720 - val_loss: 5.9526 - val_rpn_class_loss: 2.8862 - val_rpn_bbox_loss: 1.0911 - val_mrcnn_class_loss: 1.1416 - val_mrcnn_bbox_loss: 0.3117 - val_mrcnn_mask_loss: 0.5220\n",
      "Epoch 71/100\n",
      "146/146 [==============================] - 501s 3s/step - batch: 72.5000 - size: 2.0000 - loss: 0.2927 - rpn_class_loss: 0.0036 - rpn_bbox_loss: 0.0253 - mrcnn_class_loss: 0.0561 - mrcnn_bbox_loss: 0.0373 - mrcnn_mask_loss: 0.1704 - val_loss: 6.3505 - val_rpn_class_loss: 3.1906 - val_rpn_bbox_loss: 1.2506 - val_mrcnn_class_loss: 1.1395 - val_mrcnn_bbox_loss: 0.3028 - val_mrcnn_mask_loss: 0.4670\n",
      "Epoch 72/100\n",
      "146/146 [==============================] - 433s 3s/step - batch: 72.5000 - size: 2.0000 - loss: 0.2814 - rpn_class_loss: 0.0030 - rpn_bbox_loss: 0.0237 - mrcnn_class_loss: 0.0538 - mrcnn_bbox_loss: 0.0350 - mrcnn_mask_loss: 0.1660 - val_loss: 6.6954 - val_rpn_class_loss: 3.3254 - val_rpn_bbox_loss: 1.1082 - val_mrcnn_class_loss: 1.3619 - val_mrcnn_bbox_loss: 0.3421 - val_mrcnn_mask_loss: 0.5578\n",
      "Epoch 73/100\n",
      "146/146 [==============================] - 437s 3s/step - batch: 72.5000 - size: 2.0000 - loss: 0.2971 - rpn_class_loss: 0.0031 - rpn_bbox_loss: 0.0253 - mrcnn_class_loss: 0.0603 - mrcnn_bbox_loss: 0.0373 - mrcnn_mask_loss: 0.1713 - val_loss: 5.7568 - val_rpn_class_loss: 2.7292 - val_rpn_bbox_loss: 0.9490 - val_mrcnn_class_loss: 1.2437 - val_mrcnn_bbox_loss: 0.3316 - val_mrcnn_mask_loss: 0.5033\n",
      "Epoch 74/100\n",
      "146/146 [==============================] - 457s 3s/step - batch: 72.5000 - size: 2.0000 - loss: 0.2895 - rpn_class_loss: 0.0032 - rpn_bbox_loss: 0.0259 - mrcnn_class_loss: 0.0571 - mrcnn_bbox_loss: 0.0355 - mrcnn_mask_loss: 0.1679 - val_loss: 6.9685 - val_rpn_class_loss: 3.4919 - val_rpn_bbox_loss: 1.2290 - val_mrcnn_class_loss: 1.4069 - val_mrcnn_bbox_loss: 0.3289 - val_mrcnn_mask_loss: 0.5116\n",
      "Epoch 75/100\n",
      "146/146 [==============================] - 474s 3s/step - batch: 72.5000 - size: 2.0000 - loss: 0.2824 - rpn_class_loss: 0.0041 - rpn_bbox_loss: 0.0244 - mrcnn_class_loss: 0.0543 - mrcnn_bbox_loss: 0.0353 - mrcnn_mask_loss: 0.1643 - val_loss: 6.3796 - val_rpn_class_loss: 3.3019 - val_rpn_bbox_loss: 1.2298 - val_mrcnn_class_loss: 1.1564 - val_mrcnn_bbox_loss: 0.2800 - val_mrcnn_mask_loss: 0.4114\n",
      "Epoch 76/100\n",
      "146/146 [==============================] - 480s 3s/step - batch: 72.5000 - size: 2.0000 - loss: 0.2711 - rpn_class_loss: 0.0030 - rpn_bbox_loss: 0.0215 - mrcnn_class_loss: 0.0512 - mrcnn_bbox_loss: 0.0332 - mrcnn_mask_loss: 0.1622 - val_loss: 6.7217 - val_rpn_class_loss: 3.4504 - val_rpn_bbox_loss: 1.3471 - val_mrcnn_class_loss: 1.1498 - val_mrcnn_bbox_loss: 0.2949 - val_mrcnn_mask_loss: 0.4796\n",
      "Epoch 77/100\n",
      "146/146 [==============================] - 433s 3s/step - batch: 72.5000 - size: 2.0000 - loss: 0.2723 - rpn_class_loss: 0.0027 - rpn_bbox_loss: 0.0215 - mrcnn_class_loss: 0.0505 - mrcnn_bbox_loss: 0.0329 - mrcnn_mask_loss: 0.1647 - val_loss: 7.2543 - val_rpn_class_loss: 3.8714 - val_rpn_bbox_loss: 1.3983 - val_mrcnn_class_loss: 1.0732 - val_mrcnn_bbox_loss: 0.3050 - val_mrcnn_mask_loss: 0.6064\n",
      "Epoch 78/100\n",
      "146/146 [==============================] - 447s 3s/step - batch: 72.5000 - size: 2.0000 - loss: 0.2500 - rpn_class_loss: 0.0026 - rpn_bbox_loss: 0.0187 - mrcnn_class_loss: 0.0448 - mrcnn_bbox_loss: 0.0293 - mrcnn_mask_loss: 0.1545 - val_loss: 6.7873 - val_rpn_class_loss: 3.5363 - val_rpn_bbox_loss: 1.3049 - val_mrcnn_class_loss: 1.0998 - val_mrcnn_bbox_loss: 0.2780 - val_mrcnn_mask_loss: 0.5684\n",
      "Epoch 79/100\n",
      "146/146 [==============================] - 464s 3s/step - batch: 72.5000 - size: 2.0000 - loss: 0.2764 - rpn_class_loss: 0.0030 - rpn_bbox_loss: 0.0245 - mrcnn_class_loss: 0.0523 - mrcnn_bbox_loss: 0.0334 - mrcnn_mask_loss: 0.1633 - val_loss: 6.8030 - val_rpn_class_loss: 3.5306 - val_rpn_bbox_loss: 1.1759 - val_mrcnn_class_loss: 1.2717 - val_mrcnn_bbox_loss: 0.2979 - val_mrcnn_mask_loss: 0.5269\n",
      "Epoch 80/100\n",
      "146/146 [==============================] - 479s 3s/step - batch: 72.5000 - size: 2.0000 - loss: 0.2665 - rpn_class_loss: 0.0025 - rpn_bbox_loss: 0.0226 - mrcnn_class_loss: 0.0491 - mrcnn_bbox_loss: 0.0323 - mrcnn_mask_loss: 0.1601 - val_loss: 6.9744 - val_rpn_class_loss: 3.6949 - val_rpn_bbox_loss: 1.3807 - val_mrcnn_class_loss: 1.1063 - val_mrcnn_bbox_loss: 0.2901 - val_mrcnn_mask_loss: 0.5025\n"
     ]
    },
    {
     "name": "stdout",
     "output_type": "stream",
     "text": [
      "Epoch 81/100\n",
      "146/146 [==============================] - 441s 3s/step - batch: 72.5000 - size: 2.0000 - loss: 0.2490 - rpn_class_loss: 0.0024 - rpn_bbox_loss: 0.0190 - mrcnn_class_loss: 0.0473 - mrcnn_bbox_loss: 0.0295 - mrcnn_mask_loss: 0.1507 - val_loss: 5.6734 - val_rpn_class_loss: 2.8836 - val_rpn_bbox_loss: 1.1082 - val_mrcnn_class_loss: 0.9517 - val_mrcnn_bbox_loss: 0.2712 - val_mrcnn_mask_loss: 0.4587\n",
      "Epoch 82/100\n",
      "146/146 [==============================] - 477s 3s/step - batch: 72.5000 - size: 2.0000 - loss: 0.2772 - rpn_class_loss: 0.0037 - rpn_bbox_loss: 0.0246 - mrcnn_class_loss: 0.0512 - mrcnn_bbox_loss: 0.0333 - mrcnn_mask_loss: 0.1643 - val_loss: 6.4886 - val_rpn_class_loss: 3.2608 - val_rpn_bbox_loss: 1.1411 - val_mrcnn_class_loss: 1.2387 - val_mrcnn_bbox_loss: 0.3069 - val_mrcnn_mask_loss: 0.5410\n",
      "Epoch 83/100\n",
      "146/146 [==============================] - 453s 3s/step - batch: 72.5000 - size: 2.0000 - loss: 0.2635 - rpn_class_loss: 0.0034 - rpn_bbox_loss: 0.0220 - mrcnn_class_loss: 0.0496 - mrcnn_bbox_loss: 0.0314 - mrcnn_mask_loss: 0.1571 - val_loss: 5.5951 - val_rpn_class_loss: 2.6022 - val_rpn_bbox_loss: 0.9594 - val_mrcnn_class_loss: 1.1672 - val_mrcnn_bbox_loss: 0.3108 - val_mrcnn_mask_loss: 0.5556\n",
      "Epoch 84/100\n",
      "146/146 [==============================] - 423s 3s/step - batch: 72.5000 - size: 2.0000 - loss: 0.2564 - rpn_class_loss: 0.0028 - rpn_bbox_loss: 0.0218 - mrcnn_class_loss: 0.0488 - mrcnn_bbox_loss: 0.0306 - mrcnn_mask_loss: 0.1524 - val_loss: 6.2831 - val_rpn_class_loss: 3.2296 - val_rpn_bbox_loss: 1.2023 - val_mrcnn_class_loss: 1.0527 - val_mrcnn_bbox_loss: 0.2989 - val_mrcnn_mask_loss: 0.4996\n",
      "Epoch 85/100\n",
      "146/146 [==============================] - 468s 3s/step - batch: 72.5000 - size: 2.0000 - loss: 0.2574 - rpn_class_loss: 0.0029 - rpn_bbox_loss: 0.0207 - mrcnn_class_loss: 0.0493 - mrcnn_bbox_loss: 0.0302 - mrcnn_mask_loss: 0.1544 - val_loss: 5.6578 - val_rpn_class_loss: 2.9392 - val_rpn_bbox_loss: 1.0660 - val_mrcnn_class_loss: 0.8994 - val_mrcnn_bbox_loss: 0.2783 - val_mrcnn_mask_loss: 0.4749\n",
      "Epoch 86/100\n",
      "146/146 [==============================] - 430s 3s/step - batch: 72.5000 - size: 2.0000 - loss: 0.2556 - rpn_class_loss: 0.0023 - rpn_bbox_loss: 0.0210 - mrcnn_class_loss: 0.0492 - mrcnn_bbox_loss: 0.0305 - mrcnn_mask_loss: 0.1525 - val_loss: 5.6557 - val_rpn_class_loss: 2.7690 - val_rpn_bbox_loss: 1.1439 - val_mrcnn_class_loss: 1.0076 - val_mrcnn_bbox_loss: 0.2869 - val_mrcnn_mask_loss: 0.4483\n",
      "Epoch 87/100\n",
      "146/146 [==============================] - 475s 3s/step - batch: 72.5000 - size: 2.0000 - loss: 0.2397 - rpn_class_loss: 0.0027 - rpn_bbox_loss: 0.0182 - mrcnn_class_loss: 0.0443 - mrcnn_bbox_loss: 0.0274 - mrcnn_mask_loss: 0.1471 - val_loss: 7.7705 - val_rpn_class_loss: 4.2105 - val_rpn_bbox_loss: 1.3512 - val_mrcnn_class_loss: 1.3478 - val_mrcnn_bbox_loss: 0.3019 - val_mrcnn_mask_loss: 0.5589\n",
      "Epoch 88/100\n",
      "146/146 [==============================] - 461s 3s/step - batch: 72.5000 - size: 2.0000 - loss: 0.2597 - rpn_class_loss: 0.0027 - rpn_bbox_loss: 0.0224 - mrcnn_class_loss: 0.0500 - mrcnn_bbox_loss: 0.0307 - mrcnn_mask_loss: 0.1538 - val_loss: 5.6315 - val_rpn_class_loss: 2.8950 - val_rpn_bbox_loss: 1.0298 - val_mrcnn_class_loss: 0.9966 - val_mrcnn_bbox_loss: 0.2674 - val_mrcnn_mask_loss: 0.4426\n",
      "Epoch 89/100\n",
      "146/146 [==============================] - 449s 3s/step - batch: 72.5000 - size: 2.0000 - loss: 0.2408 - rpn_class_loss: 0.0024 - rpn_bbox_loss: 0.0193 - mrcnn_class_loss: 0.0447 - mrcnn_bbox_loss: 0.0280 - mrcnn_mask_loss: 0.1463 - val_loss: 6.7500 - val_rpn_class_loss: 3.6423 - val_rpn_bbox_loss: 1.3633 - val_mrcnn_class_loss: 1.0076 - val_mrcnn_bbox_loss: 0.2706 - val_mrcnn_mask_loss: 0.4663\n",
      "Epoch 90/100\n",
      "146/146 [==============================] - 431s 3s/step - batch: 72.5000 - size: 2.0000 - loss: 0.2365 - rpn_class_loss: 0.0017 - rpn_bbox_loss: 0.0177 - mrcnn_class_loss: 0.0451 - mrcnn_bbox_loss: 0.0271 - mrcnn_mask_loss: 0.1450 - val_loss: 6.1518 - val_rpn_class_loss: 3.2304 - val_rpn_bbox_loss: 1.2920 - val_mrcnn_class_loss: 0.9275 - val_mrcnn_bbox_loss: 0.2756 - val_mrcnn_mask_loss: 0.4263\n",
      "Epoch 91/100\n",
      "146/146 [==============================] - 475s 3s/step - batch: 72.5000 - size: 2.0000 - loss: 0.2546 - rpn_class_loss: 0.0028 - rpn_bbox_loss: 0.0210 - mrcnn_class_loss: 0.0489 - mrcnn_bbox_loss: 0.0300 - mrcnn_mask_loss: 0.1519 - val_loss: 6.6625 - val_rpn_class_loss: 3.4678 - val_rpn_bbox_loss: 1.2257 - val_mrcnn_class_loss: 1.2174 - val_mrcnn_bbox_loss: 0.2881 - val_mrcnn_mask_loss: 0.4634\n",
      "Epoch 92/100\n",
      "146/146 [==============================] - 468s 3s/step - batch: 72.5000 - size: 2.0000 - loss: 0.2352 - rpn_class_loss: 0.0020 - rpn_bbox_loss: 0.0180 - mrcnn_class_loss: 0.0444 - mrcnn_bbox_loss: 0.0269 - mrcnn_mask_loss: 0.1438 - val_loss: 4.9404 - val_rpn_class_loss: 2.2709 - val_rpn_bbox_loss: 1.0585 - val_mrcnn_class_loss: 0.8682 - val_mrcnn_bbox_loss: 0.2895 - val_mrcnn_mask_loss: 0.4533\n",
      "Epoch 93/100\n",
      "146/146 [==============================] - 452s 3s/step - batch: 72.5000 - size: 2.0000 - loss: 0.2337 - rpn_class_loss: 0.0021 - rpn_bbox_loss: 0.0187 - mrcnn_class_loss: 0.0450 - mrcnn_bbox_loss: 0.0272 - mrcnn_mask_loss: 0.1407 - val_loss: 6.6186 - val_rpn_class_loss: 3.3667 - val_rpn_bbox_loss: 1.1085 - val_mrcnn_class_loss: 1.2316 - val_mrcnn_bbox_loss: 0.3232 - val_mrcnn_mask_loss: 0.5885\n",
      "Epoch 94/100\n",
      "146/146 [==============================] - 435s 3s/step - batch: 72.5000 - size: 2.0000 - loss: 0.2297 - rpn_class_loss: 0.0021 - rpn_bbox_loss: 0.0175 - mrcnn_class_loss: 0.0433 - mrcnn_bbox_loss: 0.0259 - mrcnn_mask_loss: 0.1409 - val_loss: 6.9778 - val_rpn_class_loss: 3.6171 - val_rpn_bbox_loss: 1.1742 - val_mrcnn_class_loss: 1.2725 - val_mrcnn_bbox_loss: 0.2907 - val_mrcnn_mask_loss: 0.6233\n",
      "Epoch 95/100\n",
      "146/146 [==============================] - 482s 3s/step - batch: 72.5000 - size: 2.0000 - loss: 0.2335 - rpn_class_loss: 0.0024 - rpn_bbox_loss: 0.0177 - mrcnn_class_loss: 0.0440 - mrcnn_bbox_loss: 0.0263 - mrcnn_mask_loss: 0.1431 - val_loss: 7.5046 - val_rpn_class_loss: 4.0513 - val_rpn_bbox_loss: 1.1722 - val_mrcnn_class_loss: 1.3983 - val_mrcnn_bbox_loss: 0.3040 - val_mrcnn_mask_loss: 0.5787\n",
      "Epoch 96/100\n",
      "146/146 [==============================] - 434s 3s/step - batch: 72.5000 - size: 2.0000 - loss: 0.2199 - rpn_class_loss: 0.0019 - rpn_bbox_loss: 0.0160 - mrcnn_class_loss: 0.0412 - mrcnn_bbox_loss: 0.0247 - mrcnn_mask_loss: 0.1361 - val_loss: 6.8153 - val_rpn_class_loss: 3.6634 - val_rpn_bbox_loss: 1.2624 - val_mrcnn_class_loss: 1.0677 - val_mrcnn_bbox_loss: 0.2928 - val_mrcnn_mask_loss: 0.5290\n",
      "Epoch 97/100\n",
      "146/146 [==============================] - 473s 3s/step - batch: 72.5000 - size: 2.0000 - loss: 0.2273 - rpn_class_loss: 0.0017 - rpn_bbox_loss: 0.0172 - mrcnn_class_loss: 0.0425 - mrcnn_bbox_loss: 0.0260 - mrcnn_mask_loss: 0.1399 - val_loss: 7.3501 - val_rpn_class_loss: 3.9648 - val_rpn_bbox_loss: 1.2218 - val_mrcnn_class_loss: 1.2261 - val_mrcnn_bbox_loss: 0.3073 - val_mrcnn_mask_loss: 0.6300\n",
      "Epoch 98/100\n",
      "146/146 [==============================] - 432s 3s/step - batch: 72.5000 - size: 2.0000 - loss: 0.2254 - rpn_class_loss: 0.0016 - rpn_bbox_loss: 0.0163 - mrcnn_class_loss: 0.0424 - mrcnn_bbox_loss: 0.0251 - mrcnn_mask_loss: 0.1401 - val_loss: 6.6998 - val_rpn_class_loss: 3.5348 - val_rpn_bbox_loss: 1.3444 - val_mrcnn_class_loss: 1.0443 - val_mrcnn_bbox_loss: 0.2798 - val_mrcnn_mask_loss: 0.4965\n",
      "Epoch 99/100\n",
      "146/146 [==============================] - 449s 3s/step - batch: 72.5000 - size: 2.0000 - loss: 0.2148 - rpn_class_loss: 0.0014 - rpn_bbox_loss: 0.0157 - mrcnn_class_loss: 0.0385 - mrcnn_bbox_loss: 0.0243 - mrcnn_mask_loss: 0.1347 - val_loss: 7.6229 - val_rpn_class_loss: 4.1298 - val_rpn_bbox_loss: 1.3331 - val_mrcnn_class_loss: 1.3576 - val_mrcnn_bbox_loss: 0.2905 - val_mrcnn_mask_loss: 0.5120\n",
      "Epoch 100/100\n",
      "146/146 [==============================] - 476s 3s/step - batch: 72.5000 - size: 2.0000 - loss: 0.2245 - rpn_class_loss: 0.0018 - rpn_bbox_loss: 0.0168 - mrcnn_class_loss: 0.0426 - mrcnn_bbox_loss: 0.0255 - mrcnn_mask_loss: 0.1377 - val_loss: 6.1611 - val_rpn_class_loss: 3.2162 - val_rpn_bbox_loss: 1.1017 - val_mrcnn_class_loss: 1.0739 - val_mrcnn_bbox_loss: 0.2697 - val_mrcnn_mask_loss: 0.4995\n"
     ]
    }
   ],
   "source": [
    "# cargar dataset de entrenamiento\n",
    "train_set = DatasetArandanos()\n",
    "train_set.load_dataset(conjunto_datos, is_train=True)\n",
    "train_set.prepare()\n",
    "\n",
    "# cargar dataset de test \n",
    "test_set = DatasetArandanos()\n",
    "test_set.load_dataset(conjunto_datos, is_train=False)\n",
    "test_set.prepare()\n",
    "\n",
    "# preparar la configuración llamando a la clase de configuración definida por el usuario\n",
    "config = ConfigArandanos()\n",
    "\n",
    "# definir el modelo\n",
    "with tf.device(config.DEVICE):\n",
    "    model = MaskRCNN(mode='training', model_dir='./', config=config)\n",
    "\n",
    "# cargar pesos del modelo \n",
    "weights_path = pesos\n",
    "\n",
    "# cargar los pesos del modelo\n",
    "model.load_weights(weights_path, \n",
    "                   by_name=True, \n",
    "                   exclude=[\"mrcnn_class_logits\", \"mrcnn_bbox_fc\",  \"mrcnn_bbox\", \"mrcnn_mask\"])\n",
    "\n",
    "#augmentation = iaa.Sequential(iaa.Fliplr(0.5), iaa.Flipud(0.5))\n",
    "#augmentation = iaa.Sometimes(5/6,iaa.Fliplr(0.5), iaa.Flipud(0.5))\n",
    "#augmentation = iaa.Sequential([iaa.Fliplr(0.5), iaa.Flipud(0.5)])\n",
    "#augmentation = iaa.Sometimes(5/6, iaa.Fliplr(0.5), iaa.Flipud(0.5))\n",
    "augmentation = iaa.Sometimes(0.5, iaa.Fliplr(0.5), iaa.Flipud(0.5))\n",
    "\n",
    "# start the training of model\n",
    "# you can change epochs and layers (head or all)\n",
    "model.train(train_set, test_set, learning_rate=config.LEARNING_RATE, epochs=100, layers='all', augmentation=augmentation)\n"
   ]
  }
 ],
 "metadata": {
  "colab": {
   "name": "master.ipynb",
   "provenance": []
  },
  "hide_input": false,
  "kernelspec": {
   "display_name": "Python 3",
   "language": "python",
   "name": "python3"
  },
  "language_info": {
   "codemirror_mode": {
    "name": "ipython",
    "version": 3
   },
   "file_extension": ".py",
   "mimetype": "text/x-python",
   "name": "python",
   "nbconvert_exporter": "python",
   "pygments_lexer": "ipython3",
   "version": "3.8.8"
  },
  "vscode": {
   "interpreter": {
    "hash": "da38062997892a68ae88df3a1549a85ff68f4e3a875c1f51aead31b07f2af4c3"
   }
  }
 },
 "nbformat": 4,
 "nbformat_minor": 1
}
