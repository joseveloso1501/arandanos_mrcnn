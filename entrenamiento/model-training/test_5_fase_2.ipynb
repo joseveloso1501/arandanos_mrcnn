{
 "cells": [
  {
   "cell_type": "markdown",
   "metadata": {},
   "source": [
    "# Test 5 (paper) - Experimento 5 (PT)\n",
    "\n",
    "Entrenamiento de Mask R-CNN con dataset modificado para emular \"Test 5\"\n",
    "\n",
    "### Hiperparametros\n",
    "* **epoch = 300**\n",
    "    * steps x epoch = 146 (lotes de imagenes)\n",
    "    * batch = 2\n",
    "* optimizador = SGD\n",
    "* Funcion de perdida = SMOOTHL1LOSS\n",
    "* Metrica de evaluacion = mAP (IoU >= 0.5)\n",
    "* Mini-mask shape: 56x56\n",
    "* RPN anchor scales: (32, 64, 128, 256, 512)\n",
    "* Tasa de aprendizaje: 0.001\n",
    "* imagenes = 292\n",
    "    * entrenamiento 81% = 237\n",
    "    * validacion 19% = 55\n",
    "* etiquetas = 9140\n",
    "* **resolucion = 1920 x 1080**\n",
    "* etiquetas = bounding box formato VOC XML\n",
    "* **numero de clases = 2 (arandano, arandano-maduro)**\n",
    "* **data augmentation = false**\n"
   ]
  },
  {
   "cell_type": "markdown",
   "metadata": {
    "id": "9csYdOiCeux-"
   },
   "source": [
    "## Comprobar directorio principal"
   ]
  },
  {
   "cell_type": "code",
   "execution_count": 1,
   "metadata": {
    "scrolled": false
   },
   "outputs": [
    {
     "name": "stdout",
     "output_type": "stream",
     "text": [
      "/tf/PT_JoseVeloso/Mask_RCNN-master_matterport/model-training\r\n",
      "total 1772\r\n",
      "drwxr-xr-x 4 root root    4096 Aug  7 06:10 build\r\n",
      "drwxr-xr-x 2 root root    4096 Aug  7 06:10 dist\r\n",
      "drwxr-xr-x 2 root root    4096 Aug  8 03:15 mask_rcnn.egg-info\r\n",
      "-rw-r--r-- 1 root root  162962 Sep 13 07:31 master-test_5.ipynb\r\n",
      "-rw-r--r-- 1 root root   31908 Sep 13 07:49 master-test_5_fase_2.ipynb\r\n",
      "-rw-r--r-- 1 root root  110113 Sep 13 07:33 master-test_6.ipynb\r\n",
      "-rw-r--r-- 1 root root   17222 Sep 13 07:36 master-test_6_fase_2.ipynb\r\n",
      "-rw-r--r-- 1 root root 1395023 Sep 13 01:41 master-v2.ipynb\r\n",
      "-rw-r--r-- 1 root root   71399 Aug 17 21:33 master.ipynb\r\n",
      "drwxr-xr-x 4 root root    4096 Sep 13 07:49 mrcnn\r\n"
     ]
    }
   ],
   "source": [
    "!pwd && ls -l"
   ]
  },
  {
   "cell_type": "markdown",
   "metadata": {
    "id": "j6qajN7v0saE"
   },
   "source": [
    "# Importar bibliotecas"
   ]
  },
  {
   "cell_type": "code",
   "execution_count": 2,
   "metadata": {
    "executionInfo": {
     "elapsed": 6812,
     "status": "ok",
     "timestamp": 1659596011947,
     "user": {
      "displayName": "José Ignacio Veloso Inzunza",
      "userId": "04140603416196179882"
     },
     "user_tz": 240
    },
    "id": "iyA_0ghC0saJ",
    "scrolled": true
   },
   "outputs": [],
   "source": [
    "# bibliotecas basicas\n",
    "import os\n",
    "from os import listdir\n",
    "import sys\n",
    "import json\n",
    "import datetime\n",
    "\n",
    "#sys.path.append(\"/tf/PT_JoseVeloso/Mask_RCNN-master/\")\n",
    "\n",
    "# bibliotecas avanzadas \n",
    "from xml.etree import ElementTree\n",
    "import skimage.draw\n",
    "import cv2\n",
    "import imgaug\n",
    "\n",
    "# bibliotecas mask rcnn \n",
    "from mrcnn.utils import Dataset\n",
    "from mrcnn.config import Config\n",
    "from mrcnn.model import MaskRCNN\n",
    "from mrcnn.visualize import display_instances\n",
    "from mrcnn.utils import extract_bboxes\n",
    "from mrcnn.utils import compute_ap\n",
    "from mrcnn.model import load_image_gt\n",
    "from mrcnn.model import mold_image\n",
    "from mrcnn import visualize\n",
    "\n",
    "# biblioteca matplotlib \n",
    "import matplotlib.pyplot as plt\n",
    "\n",
    "# bibliotecas numpy \n",
    "import numpy as np\n",
    "from numpy import zeros\n",
    "from numpy import asarray\n",
    "from numpy import expand_dims\n",
    "from numpy import mean\n",
    "\n",
    "# bibliotecas keras\n",
    "import tensorflow as tf\n",
    "from tensorflow.keras.preprocessing.image import load_img   #keras.preprocessing.image tensorflow.keras.preprocessing.image import load_img\n",
    "from tensorflow.keras.preprocessing.image import img_to_array\n",
    "\n",
    "# ignorar alertas de elementos que seran descontinuados\n",
    "import warnings\n",
    "warnings.filterwarnings(\"ignore\", category=DeprecationWarning) \n",
    "\n",
    "%matplotlib inline\n",
    "#plt.show()\n",
    "\n",
    "import imgaug.augmenters as iaa"
   ]
  },
  {
   "cell_type": "markdown",
   "metadata": {},
   "source": [
    "# Fase 2 - Entrenamiento con dos clases y etiquetas de Bounding Box"
   ]
  },
  {
   "cell_type": "markdown",
   "metadata": {},
   "source": [
    "Entrenamiento del modelo con 2 clases:\n",
    "arandano, arandano-maduro\n",
    "Las imágenes estan etiquetadas con bounding box de la misma manera que en Fase 1."
   ]
  },
  {
   "cell_type": "code",
   "execution_count": 3,
   "metadata": {
    "scrolled": false
   },
   "outputs": [
    {
     "name": "stdout",
     "output_type": "stream",
     "text": [
      "/tf/PT_JoseVeloso/Mask_RCNN-master_matterport\n"
     ]
    }
   ],
   "source": [
    "cd /tf/PT_JoseVeloso/Mask_RCNN-master_matterport/"
   ]
  },
  {
   "cell_type": "code",
   "execution_count": 4,
   "metadata": {},
   "outputs": [
    {
     "name": "stdout",
     "output_type": "stream",
     "text": [
      "\n",
      "Configurations:\n",
      "BACKBONE                       resnet101\n",
      "BACKBONE_STRIDES               [4, 8, 16, 32, 64]\n",
      "BATCH_SIZE                     2\n",
      "BBOX_STD_DEV                   [0.1 0.1 0.2 0.2]\n",
      "COMPUTE_BACKBONE_SHAPE         None\n",
      "DETECTION_MAX_INSTANCES        100\n",
      "DETECTION_MIN_CONFIDENCE       0.7\n",
      "DETECTION_NMS_THRESHOLD        0.3\n",
      "DEVICE                         /gpu:0\n",
      "FPN_CLASSIF_FC_LAYERS_SIZE     1024\n",
      "GPU_COUNT                      1\n",
      "GRADIENT_CLIP_NORM             5.0\n",
      "IMAGES_PER_GPU                 2\n",
      "IMAGE_CHANNEL_COUNT            3\n",
      "IMAGE_MAX_DIM                  1024\n",
      "IMAGE_META_SIZE                15\n",
      "IMAGE_MIN_DIM                  512\n",
      "IMAGE_MIN_SCALE                0\n",
      "IMAGE_RESIZE_MODE              square\n",
      "IMAGE_SHAPE                    [1024 1024    3]\n",
      "LEARNING_MOMENTUM              0.8\n",
      "LEARNING_RATE                  0.001\n",
      "LOSS_WEIGHTS                   {'rpn_class_loss': 1.0, 'rpn_bbox_loss': 1.0, 'mrcnn_class_loss': 1.0, 'mrcnn_bbox_loss': 1.0, 'mrcnn_mask_loss': 1.0}\n",
      "MASK_POOL_SIZE                 14\n",
      "MASK_SHAPE                     [28, 28]\n",
      "MAX_GT_INSTANCES               100\n",
      "MEAN_PIXEL                     [123.7 116.8 103.9]\n",
      "MINI_MASK_SHAPE                (56, 56)\n",
      "NAME                           arandano_cfg_test_5_fase_2_\n",
      "NUM_CLASSES                    3\n",
      "POOL_SIZE                      7\n",
      "POST_NMS_ROIS_INFERENCE        1000\n",
      "POST_NMS_ROIS_TRAINING         2000\n",
      "PRE_NMS_LIMIT                  6000\n",
      "ROI_POSITIVE_RATIO             0.33\n",
      "RPN_ANCHOR_RATIOS              [0.5, 1, 1.5]\n",
      "RPN_ANCHOR_SCALES              (32, 64, 128, 256, 512)\n",
      "RPN_ANCHOR_STRIDE              1\n",
      "RPN_BBOX_STD_DEV               [0.1 0.1 0.2 0.2]\n",
      "RPN_NMS_THRESHOLD              0.7\n",
      "RPN_TRAIN_ANCHORS_PER_IMAGE    256\n",
      "STEPS_PER_EPOCH                146\n",
      "TOP_DOWN_PYRAMID_SIZE          256\n",
      "TRAIN_BN                       False\n",
      "TRAIN_ROIS_PER_IMAGE           200\n",
      "Train_ROIs_Per_Image           200\n",
      "USE_MINI_MASK                  True\n",
      "USE_RPN_ROIS                   True\n",
      "VALIDATION_STEPS               50\n",
      "WEIGHT_DECAY                   0.0001\n",
      "\n",
      "\n"
     ]
    }
   ],
   "source": [
    "class DatasetArandanos(Dataset):\n",
    "    \n",
    "    # load_dataset function is used to load the train and test dataset\n",
    "    def load_dataset(self, dataset_dir, is_train=True):\n",
    "        \n",
    "        # we use add_class for each class in our dataset and assign numbers to them. 0 is background\n",
    "        # self.add_class('source', 'class id', 'class name')\n",
    "        self.add_class(\"dataset\", 1, \"arandano\")\n",
    "        self.add_class(\"dataset\", 2, \"arandano-maduro\")\n",
    "        #self.add_class(\"dataset\", 3, \"Level-3\")\n",
    "        #self.add_class(\"dataset\", 4, \"Level-4\")\n",
    "        \n",
    "        # we concatenate the dataset_dir with /images and /annots\n",
    "        images_dir = dataset_dir + '/images/'\n",
    "        annotations_dir = dataset_dir + '/annots/'\n",
    "        \n",
    "        # is_train will be true if we our training our model and false when we are testing the model\n",
    "        for filename in listdir(images_dir):\n",
    "            \n",
    "            # extract image id\n",
    "            image_id = filename[:-4] # used to skip last 4 chars which is '.jpg' (class_id.jpg)\n",
    "            \n",
    "            # if is_train is True skip all images with id greater than and equal to 160\n",
    "             # roughly 80% of dataset for training\n",
    "            if is_train and int(image_id) >= 41590 :\n",
    "                #print(\"image_id: \", image_id)\n",
    "                continue\n",
    "             \n",
    "            # if is_train is not True skip all images with id less than 420\n",
    "            if not is_train and int(image_id) < 41590:\n",
    "                continue\n",
    "            \n",
    "            # img_path and ann_path variables are defined\n",
    "            img_path = images_dir + filename\n",
    "            ann_path = annotations_dir + image_id + '.xml'\n",
    "            \n",
    "            # using add_image function we pass image_id, image_path and ann_path so that the current\n",
    "            # image is added to the dataset for training\n",
    "            self.add_image('dataset', image_id=image_id, path=img_path, annotation=ann_path)\n",
    "\n",
    "    # function used to extract bouding boxes from annotated files\n",
    "    def extract_boxes(self, filename):\n",
    "\n",
    "        # you can see how the images are annotated we extracrt the width, height and bndbox values\n",
    "\n",
    "        # <size>\n",
    "\n",
    "        #       <width>640</width>\n",
    "\n",
    "        #       <height>360</height>\n",
    "\n",
    "        #       <depth>3</depth>\n",
    "\n",
    "        # </size>\n",
    "\n",
    "\n",
    "        # <object>\n",
    "\n",
    "        #          <name>damage</name>\n",
    "\n",
    "        #          <pose>Unspecified</pose>\n",
    "\n",
    "        #          <truncated>0</truncated>\n",
    "\n",
    "        #          <difficult>0</difficult>\n",
    "\n",
    "\n",
    "        #          <bndbox>\n",
    "\n",
    "        #                 <xmin>315</xmin>\n",
    "\n",
    "        #                 <ymin>160</ymin>\n",
    "\n",
    "        #                 <xmax>381</xmax>\n",
    "\n",
    "        #                 <ymax>199</ymax>\n",
    "\n",
    "        #          </bndbox>\n",
    "\n",
    "        # </object>\n",
    "\n",
    "        # </annotation>\n",
    "        \n",
    "        # used to parse the .xml files\n",
    "        tree = ElementTree.parse(filename)\n",
    "        \n",
    "        # to get the root of the xml file\n",
    "        root = tree.getroot()\n",
    "        \n",
    "        # we will append all x, y coordinated in boxes\n",
    "        # for all instances of an onject\n",
    "        boxes = list()\n",
    "        \n",
    "        # we find all attributes with name bndbox\n",
    "        # bndbox will exist for each ground truth in an image\n",
    "        for box in root.findall('.//object'):\n",
    "            name = box.find('name').text\n",
    "            xmin = int(box.find('./bndbox/xmin').text)\n",
    "            ymin = int(box.find('./bndbox/ymin').text)\n",
    "            xmax = int(box.find('./bndbox/xmax').text)\n",
    "            ymax = int(box.find('./bndbox/ymax').text)\n",
    "            coors = [xmin, ymin, xmax, ymax, name]\n",
    "            boxes.append(coors)\n",
    "            \n",
    "            # I have included this line to skip any un-annotated images\n",
    "            if name=='arandano' or name=='arandano-maduro':\n",
    "                boxes.append(coors)\n",
    "\n",
    "        # extract width and height of the image\n",
    "        width = int(root.find('.//size/width').text)\n",
    "        height = int(root.find('.//size/height').text)\n",
    "        \n",
    "        # return boxes-> list, width-> int and height-> int \n",
    "        return boxes, width, height\n",
    "    \n",
    "    # this function calls on the extract_boxes method and is used to load a mask for each instance in an image\n",
    "    # returns a boolean mask with following dimensions width * height * instances        \n",
    "    def load_mask(self, image_id):\n",
    "        \n",
    "        # info points to the current image_id\n",
    "        info = self.image_info[image_id]\n",
    "        \n",
    "        # we get the annotation path of image_id which is dataset_dir/annots/image_id.xml\n",
    "        path = info['annotation']\n",
    "        \n",
    "        # we call the extract_boxes method(above) to get bndbox from .xml file\n",
    "        boxes, w, h = self.extract_boxes(path)\n",
    "        \n",
    "        # we create len(boxes) number of masks of height 'h' and width 'w'\n",
    "        masks = zeros([h, w, len(boxes)], dtype='uint8')\n",
    "\n",
    "        class_ids = list()\n",
    "        \n",
    "        # we loop over all boxes and generate masks (bndbox mask) and class id for each instance\n",
    "        # masks will have rectange shape as we have used bndboxes for annotations\n",
    "        # for example: if 2.jpg have four objects we will have following masks and class_ids\n",
    "        # 000000000 000000000 000003330 111100000\n",
    "        # 000011100 022200000 000003330 111100000\n",
    "        # 000011100 022200000 000003330 111100000\n",
    "        # 000000000 022200000 000000000 000000000\n",
    "        #    1         2          3         1<- class_ids\n",
    "        for i in range(len(boxes)):\n",
    "            box = boxes[i]\n",
    "            row_s, row_e = box[1], box[3]\n",
    "            col_s, col_e = box[0], box[2]\n",
    "            \n",
    "            # box[4] will have the name of the class for a particular damage\n",
    "            if (box[4] == 'arandano'):\n",
    "                masks[row_s:row_e, col_s:col_e, i] = 1\n",
    "                class_ids.append(self.class_names.index('arandano'))\n",
    "            elif(box[4] == 'arandano-maduro'):\n",
    "                masks[row_s:row_e, col_s:col_e, i] = 2\n",
    "                class_ids.append(self.class_names.index('arandano-maduro')) \n",
    "                \n",
    "        # return masks and class_ids as array\n",
    "        return masks, asarray(class_ids, dtype='int32')\n",
    "    \n",
    "    # this functions takes the image_id and returns the path of the image\n",
    "    def image_reference(self, image_id):\n",
    "        info = self.image_info[image_id]\n",
    "        return info['path']\n",
    "\n"
   ]
  },
  {
   "cell_type": "code",
   "execution_count": null,
   "metadata": {},
   "outputs": [],
   "source": [
    "# damage configuration class, you can change values of hyper parameters here\n",
    "class ConfigArandanos(Config):\n",
    "\n",
    "    # nombre de la configuracion\n",
    "    NAME = \"arandano_cfg_test_5_fase_2_2_\"    \n",
    "    \n",
    "# clase arandano + clase background \n",
    "    NUM_CLASSES = 1 + 2\n",
    "    \n",
    "    # pasos por epoch y confianza minima    # STEPS_PER_EPOCH = cantidad de lotes/batchs\n",
    "    #STEPS_PER_EPOCH = 73   # por epoch se entrenaran 73 lotes de 4 imagenes, dataset = 292\n",
    "    STEPS_PER_EPOCH = 146\n",
    "    \n",
    "    # tasa de aprendizaje y momentum\n",
    "    LEARNING_RATE=0.001\n",
    "    LEARNING_MOMENTUM = 0.8\n",
    "    \n",
    "    # penalización de regularización\n",
    "    WEIGHT_DECAY = 0.0001\n",
    "    \n",
    "    # el tamaño de la imagen está controlado por este parámetro\n",
    "    IMAGE_MIN_DIM = 512\n",
    "    \n",
    "    # pasos de validación\n",
    "    VALIDATION_STEPS = 50\n",
    "    \n",
    "    # número de regiones de interés generadas por imagen\n",
    "    Train_ROIs_Per_Image = 200\n",
    "    \n",
    "    # escala de anclas RPN y proporciones (ratios) para encontrar la ROI\n",
    "    RPN_ANCHOR_SCALES = (32, 64, 128, 256, 512)    # Longitud del lado del ancla cuadrada, en píxeles \n",
    "    RPN_ANCHOR_RATIOS = [0.5, 1, 1.5]   # Proporciones de anclas por cada celda (ancho/alto). Un valor de 1 representa un ancla cuadrada y 0,5 es un ancla ancha \n",
    "    \n",
    "    MINI_MASK_SHAPE = (56, 56)\n",
    "    \n",
    "    \n",
    "config = ConfigArandanos()\n",
    "config.display()"
   ]
  },
  {
   "cell_type": "markdown",
   "metadata": {},
   "source": [
    "### Entrenamiento"
   ]
  },
  {
   "cell_type": "code",
   "execution_count": 5,
   "metadata": {},
   "outputs": [
    {
     "name": "stdout",
     "output_type": "stream",
     "text": [
      "/tf/PT_JoseVeloso/Mask_RCNN-master_matterport\n"
     ]
    }
   ],
   "source": [
    "cd /tf/PT_JoseVeloso/Mask_RCNN-master_matterport/"
   ]
  },
  {
   "cell_type": "code",
   "execution_count": 6,
   "metadata": {},
   "outputs": [],
   "source": [
    "#pesos = 'mask_rcnn_coco.h5'\n",
    "#pesos = 'mask_rcnn_damage_cfg_0049.h5'\n",
    "#pesos = 'arandano_cfg_test_5_20220907T0914/mask_rcnn_arandano_cfg_0300.h5'\n",
    "pesos = 'arandano_cfg_test_5_20220907T0914/mask_rcnn_arandano_cfg_0300.h5'\n",
    "\n",
    "conjunto_datos = 'customImages/test_5_fase_2'\n"
   ]
  },
  {
   "cell_type": "code",
   "execution_count": 7,
   "metadata": {
    "scrolled": true
   },
   "outputs": [
    {
     "name": "stdout",
     "output_type": "stream",
     "text": [
      "\n",
      "Starting at epoch 0. LR=0.001\n",
      "\n",
      "Checkpoint Path: ./arandano_cfg_test_5_fase_2_20220913T0749/mask_rcnn_arandano_cfg_test_5_fase_2__{epoch:04d}.h5\n",
      "Selecting layers to train\n",
      "conv1                  (Conv2D)\n",
      "bn_conv1               (BatchNorm)\n",
      "res2a_branch2a         (Conv2D)\n",
      "bn2a_branch2a          (BatchNorm)\n",
      "res2a_branch2b         (Conv2D)\n",
      "bn2a_branch2b          (BatchNorm)\n",
      "res2a_branch2c         (Conv2D)\n",
      "res2a_branch1          (Conv2D)\n",
      "bn2a_branch2c          (BatchNorm)\n",
      "bn2a_branch1           (BatchNorm)\n",
      "res2b_branch2a         (Conv2D)\n",
      "bn2b_branch2a          (BatchNorm)\n",
      "res2b_branch2b         (Conv2D)\n",
      "bn2b_branch2b          (BatchNorm)\n",
      "res2b_branch2c         (Conv2D)\n",
      "bn2b_branch2c          (BatchNorm)\n",
      "res2c_branch2a         (Conv2D)\n",
      "bn2c_branch2a          (BatchNorm)\n",
      "res2c_branch2b         (Conv2D)\n",
      "bn2c_branch2b          (BatchNorm)\n",
      "res2c_branch2c         (Conv2D)\n",
      "bn2c_branch2c          (BatchNorm)\n",
      "res3a_branch2a         (Conv2D)\n",
      "bn3a_branch2a          (BatchNorm)\n",
      "res3a_branch2b         (Conv2D)\n",
      "bn3a_branch2b          (BatchNorm)\n",
      "res3a_branch2c         (Conv2D)\n",
      "res3a_branch1          (Conv2D)\n",
      "bn3a_branch2c          (BatchNorm)\n",
      "bn3a_branch1           (BatchNorm)\n",
      "res3b_branch2a         (Conv2D)\n",
      "bn3b_branch2a          (BatchNorm)\n",
      "res3b_branch2b         (Conv2D)\n",
      "bn3b_branch2b          (BatchNorm)\n",
      "res3b_branch2c         (Conv2D)\n",
      "bn3b_branch2c          (BatchNorm)\n",
      "res3c_branch2a         (Conv2D)\n",
      "bn3c_branch2a          (BatchNorm)\n",
      "res3c_branch2b         (Conv2D)\n",
      "bn3c_branch2b          (BatchNorm)\n",
      "res3c_branch2c         (Conv2D)\n",
      "bn3c_branch2c          (BatchNorm)\n",
      "res3d_branch2a         (Conv2D)\n",
      "bn3d_branch2a          (BatchNorm)\n",
      "res3d_branch2b         (Conv2D)\n",
      "bn3d_branch2b          (BatchNorm)\n",
      "res3d_branch2c         (Conv2D)\n",
      "bn3d_branch2c          (BatchNorm)\n",
      "res4a_branch2a         (Conv2D)\n",
      "bn4a_branch2a          (BatchNorm)\n",
      "res4a_branch2b         (Conv2D)\n",
      "bn4a_branch2b          (BatchNorm)\n",
      "res4a_branch2c         (Conv2D)\n",
      "res4a_branch1          (Conv2D)\n",
      "bn4a_branch2c          (BatchNorm)\n",
      "bn4a_branch1           (BatchNorm)\n",
      "res4b_branch2a         (Conv2D)\n",
      "bn4b_branch2a          (BatchNorm)\n",
      "res4b_branch2b         (Conv2D)\n",
      "bn4b_branch2b          (BatchNorm)\n",
      "res4b_branch2c         (Conv2D)\n",
      "bn4b_branch2c          (BatchNorm)\n",
      "res4c_branch2a         (Conv2D)\n",
      "bn4c_branch2a          (BatchNorm)\n",
      "res4c_branch2b         (Conv2D)\n",
      "bn4c_branch2b          (BatchNorm)\n",
      "res4c_branch2c         (Conv2D)\n",
      "bn4c_branch2c          (BatchNorm)\n",
      "res4d_branch2a         (Conv2D)\n",
      "bn4d_branch2a          (BatchNorm)\n",
      "res4d_branch2b         (Conv2D)\n",
      "bn4d_branch2b          (BatchNorm)\n",
      "res4d_branch2c         (Conv2D)\n",
      "bn4d_branch2c          (BatchNorm)\n",
      "res4e_branch2a         (Conv2D)\n",
      "bn4e_branch2a          (BatchNorm)\n",
      "res4e_branch2b         (Conv2D)\n",
      "bn4e_branch2b          (BatchNorm)\n",
      "res4e_branch2c         (Conv2D)\n",
      "bn4e_branch2c          (BatchNorm)\n",
      "res4f_branch2a         (Conv2D)\n",
      "bn4f_branch2a          (BatchNorm)\n",
      "res4f_branch2b         (Conv2D)\n",
      "bn4f_branch2b          (BatchNorm)\n",
      "res4f_branch2c         (Conv2D)\n",
      "bn4f_branch2c          (BatchNorm)\n",
      "res4g_branch2a         (Conv2D)\n",
      "bn4g_branch2a          (BatchNorm)\n",
      "res4g_branch2b         (Conv2D)\n",
      "bn4g_branch2b          (BatchNorm)\n",
      "res4g_branch2c         (Conv2D)\n",
      "bn4g_branch2c          (BatchNorm)\n",
      "res4h_branch2a         (Conv2D)\n",
      "bn4h_branch2a          (BatchNorm)\n",
      "res4h_branch2b         (Conv2D)\n",
      "bn4h_branch2b          (BatchNorm)\n",
      "res4h_branch2c         (Conv2D)\n",
      "bn4h_branch2c          (BatchNorm)\n",
      "res4i_branch2a         (Conv2D)\n",
      "bn4i_branch2a          (BatchNorm)\n",
      "res4i_branch2b         (Conv2D)\n",
      "bn4i_branch2b          (BatchNorm)\n",
      "res4i_branch2c         (Conv2D)\n",
      "bn4i_branch2c          (BatchNorm)\n",
      "res4j_branch2a         (Conv2D)\n",
      "bn4j_branch2a          (BatchNorm)\n",
      "res4j_branch2b         (Conv2D)\n",
      "bn4j_branch2b          (BatchNorm)\n",
      "res4j_branch2c         (Conv2D)\n",
      "bn4j_branch2c          (BatchNorm)\n",
      "res4k_branch2a         (Conv2D)\n",
      "bn4k_branch2a          (BatchNorm)\n",
      "res4k_branch2b         (Conv2D)\n",
      "bn4k_branch2b          (BatchNorm)\n",
      "res4k_branch2c         (Conv2D)\n",
      "bn4k_branch2c          (BatchNorm)\n",
      "res4l_branch2a         (Conv2D)\n",
      "bn4l_branch2a          (BatchNorm)\n",
      "res4l_branch2b         (Conv2D)\n",
      "bn4l_branch2b          (BatchNorm)\n",
      "res4l_branch2c         (Conv2D)\n",
      "bn4l_branch2c          (BatchNorm)\n",
      "res4m_branch2a         (Conv2D)\n",
      "bn4m_branch2a          (BatchNorm)\n",
      "res4m_branch2b         (Conv2D)\n",
      "bn4m_branch2b          (BatchNorm)\n",
      "res4m_branch2c         (Conv2D)\n",
      "bn4m_branch2c          (BatchNorm)\n",
      "res4n_branch2a         (Conv2D)\n",
      "bn4n_branch2a          (BatchNorm)\n",
      "res4n_branch2b         (Conv2D)\n",
      "bn4n_branch2b          (BatchNorm)\n",
      "res4n_branch2c         (Conv2D)\n",
      "bn4n_branch2c          (BatchNorm)\n",
      "res4o_branch2a         (Conv2D)\n",
      "bn4o_branch2a          (BatchNorm)\n",
      "res4o_branch2b         (Conv2D)\n",
      "bn4o_branch2b          (BatchNorm)\n",
      "res4o_branch2c         (Conv2D)\n",
      "bn4o_branch2c          (BatchNorm)\n",
      "res4p_branch2a         (Conv2D)\n",
      "bn4p_branch2a          (BatchNorm)\n",
      "res4p_branch2b         (Conv2D)\n",
      "bn4p_branch2b          (BatchNorm)\n",
      "res4p_branch2c         (Conv2D)\n",
      "bn4p_branch2c          (BatchNorm)\n",
      "res4q_branch2a         (Conv2D)\n",
      "bn4q_branch2a          (BatchNorm)\n",
      "res4q_branch2b         (Conv2D)\n",
      "bn4q_branch2b          (BatchNorm)\n",
      "res4q_branch2c         (Conv2D)\n",
      "bn4q_branch2c          (BatchNorm)\n",
      "res4r_branch2a         (Conv2D)\n",
      "bn4r_branch2a          (BatchNorm)\n",
      "res4r_branch2b         (Conv2D)\n",
      "bn4r_branch2b          (BatchNorm)\n",
      "res4r_branch2c         (Conv2D)\n",
      "bn4r_branch2c          (BatchNorm)\n",
      "res4s_branch2a         (Conv2D)\n",
      "bn4s_branch2a          (BatchNorm)\n",
      "res4s_branch2b         (Conv2D)\n",
      "bn4s_branch2b          (BatchNorm)\n",
      "res4s_branch2c         (Conv2D)\n",
      "bn4s_branch2c          (BatchNorm)\n",
      "res4t_branch2a         (Conv2D)\n",
      "bn4t_branch2a          (BatchNorm)\n",
      "res4t_branch2b         (Conv2D)\n",
      "bn4t_branch2b          (BatchNorm)\n",
      "res4t_branch2c         (Conv2D)\n",
      "bn4t_branch2c          (BatchNorm)\n",
      "res4u_branch2a         (Conv2D)\n",
      "bn4u_branch2a          (BatchNorm)\n",
      "res4u_branch2b         (Conv2D)\n",
      "bn4u_branch2b          (BatchNorm)\n",
      "res4u_branch2c         (Conv2D)\n",
      "bn4u_branch2c          (BatchNorm)\n",
      "res4v_branch2a         (Conv2D)\n",
      "bn4v_branch2a          (BatchNorm)\n",
      "res4v_branch2b         (Conv2D)\n",
      "bn4v_branch2b          (BatchNorm)\n",
      "res4v_branch2c         (Conv2D)\n",
      "bn4v_branch2c          (BatchNorm)\n",
      "res4w_branch2a         (Conv2D)\n",
      "bn4w_branch2a          (BatchNorm)\n",
      "res4w_branch2b         (Conv2D)\n",
      "bn4w_branch2b          (BatchNorm)\n",
      "res4w_branch2c         (Conv2D)\n",
      "bn4w_branch2c          (BatchNorm)\n",
      "res5a_branch2a         (Conv2D)\n",
      "bn5a_branch2a          (BatchNorm)\n",
      "res5a_branch2b         (Conv2D)\n",
      "bn5a_branch2b          (BatchNorm)\n",
      "res5a_branch2c         (Conv2D)\n",
      "res5a_branch1          (Conv2D)\n",
      "bn5a_branch2c          (BatchNorm)\n",
      "bn5a_branch1           (BatchNorm)\n",
      "res5b_branch2a         (Conv2D)\n",
      "bn5b_branch2a          (BatchNorm)\n",
      "res5b_branch2b         (Conv2D)\n",
      "bn5b_branch2b          (BatchNorm)\n",
      "res5b_branch2c         (Conv2D)\n",
      "bn5b_branch2c          (BatchNorm)\n",
      "res5c_branch2a         (Conv2D)\n",
      "bn5c_branch2a          (BatchNorm)\n",
      "res5c_branch2b         (Conv2D)\n",
      "bn5c_branch2b          (BatchNorm)\n",
      "res5c_branch2c         (Conv2D)\n",
      "bn5c_branch2c          (BatchNorm)\n",
      "fpn_c5p5               (Conv2D)\n",
      "fpn_c4p4               (Conv2D)\n",
      "fpn_c3p3               (Conv2D)\n",
      "fpn_c2p2               (Conv2D)\n",
      "fpn_p5                 (Conv2D)\n",
      "fpn_p2                 (Conv2D)\n",
      "fpn_p3                 (Conv2D)\n",
      "fpn_p4                 (Conv2D)\n",
      "rpn_model              (Functional)\n",
      "anchors                (AnchorsLayer)\n",
      "mrcnn_mask_conv1       (TimeDistributed)\n",
      "mrcnn_mask_bn1         (TimeDistributed)\n",
      "mrcnn_mask_conv2       (TimeDistributed)\n",
      "mrcnn_mask_bn2         (TimeDistributed)\n",
      "mrcnn_class_conv1      (TimeDistributed)\n",
      "mrcnn_class_bn1        (TimeDistributed)\n",
      "mrcnn_mask_conv3       (TimeDistributed)\n",
      "mrcnn_mask_bn3         (TimeDistributed)\n",
      "mrcnn_class_conv2      (TimeDistributed)\n",
      "mrcnn_class_bn2        (TimeDistributed)\n",
      "mrcnn_mask_conv4       (TimeDistributed)\n",
      "mrcnn_mask_bn4         (TimeDistributed)\n",
      "mrcnn_bbox_fc          (TimeDistributed)\n",
      "mrcnn_mask_deconv      (TimeDistributed)\n",
      "mrcnn_class_logits     (TimeDistributed)\n",
      "mrcnn_mask             (TimeDistributed)\n"
     ]
    },
    {
     "name": "stderr",
     "output_type": "stream",
     "text": [
      "/usr/local/lib/python3.8/dist-packages/keras/optimizers/optimizer_v2/gradient_descent.py:111: UserWarning: The `lr` argument is deprecated, use `learning_rate` instead.\n",
      "  super().__init__(name, **kwargs)\n",
      "/usr/local/lib/python3.8/dist-packages/imgaug/augmenters/base.py:49: SuspiciousSingleImageShapeWarning: You provided a numpy array of shape (1024, 1024, 98) as a single-image augmentation input, which was interpreted as (H, W, C). The last dimension however has a size of >=32, which indicates that you provided a multi-image array with shape (N, H, W) instead. If that is the case, you should use e.g. augmenter(imageS=<your input>) or augment_imageS(<your input>). Otherwise your multi-image input will be interpreted as a single image during augmentation.\n",
      "  ia.warn(\n"
     ]
    },
    {
     "name": "stdout",
     "output_type": "stream",
     "text": [
      "Epoch 1/300\n"
     ]
    },
    {
     "name": "stderr",
     "output_type": "stream",
     "text": [
      "/usr/local/lib/python3.8/dist-packages/imgaug/augmenters/base.py:49: SuspiciousSingleImageShapeWarning: You provided a numpy array of shape (1024, 1024, 52) as a single-image augmentation input, which was interpreted as (H, W, C). The last dimension however has a size of >=32, which indicates that you provided a multi-image array with shape (N, H, W) instead. If that is the case, you should use e.g. augmenter(imageS=<your input>) or augment_imageS(<your input>). Otherwise your multi-image input will be interpreted as a single image during augmentation.\n",
      "  ia.warn(\n",
      "/usr/local/lib/python3.8/dist-packages/tensorflow/python/framework/indexed_slices.py:444: UserWarning: Converting sparse IndexedSlices(IndexedSlices(indices=Tensor(\"training/SGD/gradients/gradients/roi_align_classifier/concat_grad/sub:0\", shape=(None,), dtype=int32), values=Tensor(\"training/SGD/gradients/gradients/roi_align_classifier/concat_grad/GatherV2_2:0\", shape=(None, 7, 7, 256), dtype=float32), dense_shape=Tensor(\"training/SGD/gradients/gradients/roi_align_classifier/concat_grad/Shape:0\", shape=(4,), dtype=int32))) to a dense Tensor of unknown shape. This may consume a large amount of memory.\n",
      "  warnings.warn(\n",
      "/usr/local/lib/python3.8/dist-packages/tensorflow/python/framework/indexed_slices.py:444: UserWarning: Converting sparse IndexedSlices(IndexedSlices(indices=Tensor(\"training/SGD/gradients/gradients/roi_align_classifier/concat_grad/sub_1:0\", shape=(None,), dtype=int32), values=Tensor(\"training/SGD/gradients/gradients/roi_align_classifier/concat_grad/GatherV2_5:0\", shape=(None, 7, 7, 256), dtype=float32), dense_shape=Tensor(\"training/SGD/gradients/gradients/roi_align_classifier/concat_grad/Shape_1:0\", shape=(4,), dtype=int32))) to a dense Tensor of unknown shape. This may consume a large amount of memory.\n",
      "  warnings.warn(\n",
      "/usr/local/lib/python3.8/dist-packages/tensorflow/python/framework/indexed_slices.py:444: UserWarning: Converting sparse IndexedSlices(IndexedSlices(indices=Tensor(\"training/SGD/gradients/gradients/roi_align_classifier/concat_grad/sub_2:0\", shape=(None,), dtype=int32), values=Tensor(\"training/SGD/gradients/gradients/roi_align_classifier/concat_grad/GatherV2_8:0\", shape=(None, 7, 7, 256), dtype=float32), dense_shape=Tensor(\"training/SGD/gradients/gradients/roi_align_classifier/concat_grad/Shape_2:0\", shape=(4,), dtype=int32))) to a dense Tensor of unknown shape. This may consume a large amount of memory.\n",
      "  warnings.warn(\n",
      "/usr/local/lib/python3.8/dist-packages/tensorflow/python/framework/indexed_slices.py:444: UserWarning: Converting sparse IndexedSlices(IndexedSlices(indices=Tensor(\"training/SGD/gradients/gradients/roi_align_classifier/concat_grad/sub_3:0\", shape=(None,), dtype=int32), values=Tensor(\"training/SGD/gradients/gradients/roi_align_classifier/concat_grad/GatherV2_11:0\", shape=(None, 7, 7, 256), dtype=float32), dense_shape=Tensor(\"training/SGD/gradients/gradients/roi_align_classifier/concat_grad/Shape_3:0\", shape=(4,), dtype=int32))) to a dense Tensor of unknown shape. This may consume a large amount of memory.\n",
      "  warnings.warn(\n",
      "/usr/local/lib/python3.8/dist-packages/tensorflow/python/framework/indexed_slices.py:444: UserWarning: Converting sparse IndexedSlices(IndexedSlices(indices=Tensor(\"training/SGD/gradients/gradients/roi_align_mask/concat_grad/sub:0\", shape=(None,), dtype=int32), values=Tensor(\"training/SGD/gradients/gradients/roi_align_mask/concat_grad/GatherV2_2:0\", shape=(None, 14, 14, 256), dtype=float32), dense_shape=Tensor(\"training/SGD/gradients/gradients/roi_align_mask/concat_grad/Shape:0\", shape=(4,), dtype=int32))) to a dense Tensor of unknown shape. This may consume a large amount of memory.\n",
      "  warnings.warn(\n",
      "/usr/local/lib/python3.8/dist-packages/tensorflow/python/framework/indexed_slices.py:444: UserWarning: Converting sparse IndexedSlices(IndexedSlices(indices=Tensor(\"training/SGD/gradients/gradients/roi_align_mask/concat_grad/sub_1:0\", shape=(None,), dtype=int32), values=Tensor(\"training/SGD/gradients/gradients/roi_align_mask/concat_grad/GatherV2_5:0\", shape=(None, 14, 14, 256), dtype=float32), dense_shape=Tensor(\"training/SGD/gradients/gradients/roi_align_mask/concat_grad/Shape_1:0\", shape=(4,), dtype=int32))) to a dense Tensor of unknown shape. This may consume a large amount of memory.\n",
      "  warnings.warn(\n",
      "/usr/local/lib/python3.8/dist-packages/tensorflow/python/framework/indexed_slices.py:444: UserWarning: Converting sparse IndexedSlices(IndexedSlices(indices=Tensor(\"training/SGD/gradients/gradients/roi_align_mask/concat_grad/sub_2:0\", shape=(None,), dtype=int32), values=Tensor(\"training/SGD/gradients/gradients/roi_align_mask/concat_grad/GatherV2_8:0\", shape=(None, 14, 14, 256), dtype=float32), dense_shape=Tensor(\"training/SGD/gradients/gradients/roi_align_mask/concat_grad/Shape_2:0\", shape=(4,), dtype=int32))) to a dense Tensor of unknown shape. This may consume a large amount of memory.\n",
      "  warnings.warn(\n",
      "/usr/local/lib/python3.8/dist-packages/tensorflow/python/framework/indexed_slices.py:444: UserWarning: Converting sparse IndexedSlices(IndexedSlices(indices=Tensor(\"training/SGD/gradients/gradients/roi_align_mask/concat_grad/sub_3:0\", shape=(None,), dtype=int32), values=Tensor(\"training/SGD/gradients/gradients/roi_align_mask/concat_grad/GatherV2_11:0\", shape=(None, 14, 14, 256), dtype=float32), dense_shape=Tensor(\"training/SGD/gradients/gradients/roi_align_mask/concat_grad/Shape_3:0\", shape=(4,), dtype=int32))) to a dense Tensor of unknown shape. This may consume a large amount of memory.\n",
      "  warnings.warn(\n",
      "/usr/local/lib/python3.8/dist-packages/tensorflow/python/framework/indexed_slices.py:444: UserWarning: Converting sparse IndexedSlices(IndexedSlices(indices=Tensor(\"training/SGD/gradients/gradients/ROI/GatherV2_2_grad/Reshape_1:0\", shape=(6000,), dtype=int32), values=Tensor(\"training/SGD/gradients/gradients/ROI/GatherV2_2_grad/Reshape:0\", shape=(6000, 4), dtype=float32), dense_shape=Tensor(\"training/SGD/gradients/gradients/ROI/GatherV2_2_grad/Cast:0\", shape=(2,), dtype=int32, device=/device:GPU:0))) to a dense Tensor of unknown shape. This may consume a large amount of memory.\n",
      "  warnings.warn(\n",
      "/usr/local/lib/python3.8/dist-packages/tensorflow/python/framework/indexed_slices.py:444: UserWarning: Converting sparse IndexedSlices(IndexedSlices(indices=Tensor(\"training/SGD/gradients/gradients/ROI/GatherV2_3_grad/Reshape_1:0\", shape=(6000,), dtype=int32), values=Tensor(\"training/SGD/gradients/gradients/ROI/GatherV2_3_grad/Reshape:0\", shape=(6000, 4), dtype=float32), dense_shape=Tensor(\"training/SGD/gradients/gradients/ROI/GatherV2_3_grad/Cast:0\", shape=(2,), dtype=int32, device=/device:GPU:0))) to a dense Tensor of unknown shape. This may consume a large amount of memory.\n",
      "  warnings.warn(\n",
      "/usr/local/lib/python3.8/dist-packages/imgaug/augmenters/base.py:49: SuspiciousSingleImageShapeWarning: You provided a numpy array of shape (1024, 1024, 114) as a single-image augmentation input, which was interpreted as (H, W, C). The last dimension however has a size of >=32, which indicates that you provided a multi-image array with shape (N, H, W) instead. If that is the case, you should use e.g. augmenter(imageS=<your input>) or augment_imageS(<your input>). Otherwise your multi-image input will be interpreted as a single image during augmentation.\n",
      "  ia.warn(\n",
      "/usr/local/lib/python3.8/dist-packages/imgaug/augmenters/base.py:49: SuspiciousSingleImageShapeWarning: You provided a numpy array of shape (1024, 1024, 36) as a single-image augmentation input, which was interpreted as (H, W, C). The last dimension however has a size of >=32, which indicates that you provided a multi-image array with shape (N, H, W) instead. If that is the case, you should use e.g. augmenter(imageS=<your input>) or augment_imageS(<your input>). Otherwise your multi-image input will be interpreted as a single image during augmentation.\n",
      "  ia.warn(\n",
      "/usr/local/lib/python3.8/dist-packages/imgaug/augmenters/base.py:49: SuspiciousSingleImageShapeWarning: You provided a numpy array of shape (1024, 1024, 62) as a single-image augmentation input, which was interpreted as (H, W, C). The last dimension however has a size of >=32, which indicates that you provided a multi-image array with shape (N, H, W) instead. If that is the case, you should use e.g. augmenter(imageS=<your input>) or augment_imageS(<your input>). Otherwise your multi-image input will be interpreted as a single image during augmentation.\n",
      "  ia.warn(\n"
     ]
    },
    {
     "name": "stderr",
     "output_type": "stream",
     "text": [
      "/usr/local/lib/python3.8/dist-packages/imgaug/augmenters/base.py:49: SuspiciousSingleImageShapeWarning: You provided a numpy array of shape (1024, 1024, 34) as a single-image augmentation input, which was interpreted as (H, W, C). The last dimension however has a size of >=32, which indicates that you provided a multi-image array with shape (N, H, W) instead. If that is the case, you should use e.g. augmenter(imageS=<your input>) or augment_imageS(<your input>). Otherwise your multi-image input will be interpreted as a single image during augmentation.\n",
      "  ia.warn(\n",
      "/usr/local/lib/python3.8/dist-packages/imgaug/augmenters/base.py:49: SuspiciousSingleImageShapeWarning: You provided a numpy array of shape (1024, 1024, 38) as a single-image augmentation input, which was interpreted as (H, W, C). The last dimension however has a size of >=32, which indicates that you provided a multi-image array with shape (N, H, W) instead. If that is the case, you should use e.g. augmenter(imageS=<your input>) or augment_imageS(<your input>). Otherwise your multi-image input will be interpreted as a single image during augmentation.\n",
      "  ia.warn(\n",
      "/usr/local/lib/python3.8/dist-packages/imgaug/augmenters/base.py:49: SuspiciousSingleImageShapeWarning: You provided a numpy array of shape (1024, 1024, 58) as a single-image augmentation input, which was interpreted as (H, W, C). The last dimension however has a size of >=32, which indicates that you provided a multi-image array with shape (N, H, W) instead. If that is the case, you should use e.g. augmenter(imageS=<your input>) or augment_imageS(<your input>). Otherwise your multi-image input will be interpreted as a single image during augmentation.\n",
      "  ia.warn(\n",
      "/usr/local/lib/python3.8/dist-packages/imgaug/augmenters/base.py:49: SuspiciousSingleImageShapeWarning: You provided a numpy array of shape (1024, 1024, 42) as a single-image augmentation input, which was interpreted as (H, W, C). The last dimension however has a size of >=32, which indicates that you provided a multi-image array with shape (N, H, W) instead. If that is the case, you should use e.g. augmenter(imageS=<your input>) or augment_imageS(<your input>). Otherwise your multi-image input will be interpreted as a single image during augmentation.\n",
      "  ia.warn(\n",
      "/usr/local/lib/python3.8/dist-packages/imgaug/augmenters/base.py:49: SuspiciousSingleImageShapeWarning: You provided a numpy array of shape (1024, 1024, 44) as a single-image augmentation input, which was interpreted as (H, W, C). The last dimension however has a size of >=32, which indicates that you provided a multi-image array with shape (N, H, W) instead. If that is the case, you should use e.g. augmenter(imageS=<your input>) or augment_imageS(<your input>). Otherwise your multi-image input will be interpreted as a single image during augmentation.\n",
      "  ia.warn(\n",
      "/usr/local/lib/python3.8/dist-packages/imgaug/augmenters/base.py:49: SuspiciousSingleImageShapeWarning: You provided a numpy array of shape (1024, 1024, 36) as a single-image augmentation input, which was interpreted as (H, W, C). The last dimension however has a size of >=32, which indicates that you provided a multi-image array with shape (N, H, W) instead. If that is the case, you should use e.g. augmenter(imageS=<your input>) or augment_imageS(<your input>). Otherwise your multi-image input will be interpreted as a single image during augmentation.\n",
      "  ia.warn(\n",
      "/usr/local/lib/python3.8/dist-packages/imgaug/augmenters/base.py:49: SuspiciousSingleImageShapeWarning: You provided a numpy array of shape (1024, 1024, 44) as a single-image augmentation input, which was interpreted as (H, W, C). The last dimension however has a size of >=32, which indicates that you provided a multi-image array with shape (N, H, W) instead. If that is the case, you should use e.g. augmenter(imageS=<your input>) or augment_imageS(<your input>). Otherwise your multi-image input will be interpreted as a single image during augmentation.\n",
      "  ia.warn(\n",
      "/usr/local/lib/python3.8/dist-packages/imgaug/augmenters/base.py:49: SuspiciousSingleImageShapeWarning: You provided a numpy array of shape (1024, 1024, 78) as a single-image augmentation input, which was interpreted as (H, W, C). The last dimension however has a size of >=32, which indicates that you provided a multi-image array with shape (N, H, W) instead. If that is the case, you should use e.g. augmenter(imageS=<your input>) or augment_imageS(<your input>). Otherwise your multi-image input will be interpreted as a single image during augmentation.\n",
      "  ia.warn(\n",
      "/usr/local/lib/python3.8/dist-packages/imgaug/augmenters/base.py:49: SuspiciousSingleImageShapeWarning: You provided a numpy array of shape (1024, 1024, 50) as a single-image augmentation input, which was interpreted as (H, W, C). The last dimension however has a size of >=32, which indicates that you provided a multi-image array with shape (N, H, W) instead. If that is the case, you should use e.g. augmenter(imageS=<your input>) or augment_imageS(<your input>). Otherwise your multi-image input will be interpreted as a single image during augmentation.\n",
      "  ia.warn(\n",
      "/usr/local/lib/python3.8/dist-packages/imgaug/augmenters/base.py:49: SuspiciousSingleImageShapeWarning: You provided a numpy array of shape (1024, 1024, 58) as a single-image augmentation input, which was interpreted as (H, W, C). The last dimension however has a size of >=32, which indicates that you provided a multi-image array with shape (N, H, W) instead. If that is the case, you should use e.g. augmenter(imageS=<your input>) or augment_imageS(<your input>). Otherwise your multi-image input will be interpreted as a single image during augmentation.\n",
      "  ia.warn(\n"
     ]
    },
    {
     "name": "stdout",
     "output_type": "stream",
     "text": [
      "\r\n",
      "  1/146 [..............................] - ETA: 1:02:46 - batch: 0.0000e+00 - size: 2.0000 - loss: 28.6028 - rpn_class_loss: 12.7713 - rpn_bbox_loss: 15.7512 - mrcnn_class_loss: 0.0802 - mrcnn_bbox_loss: 0.0000e+00 - mrcnn_mask_loss: 0.0000e+00"
     ]
    },
    {
     "name": "stderr",
     "output_type": "stream",
     "text": [
      "/usr/local/lib/python3.8/dist-packages/imgaug/augmenters/base.py:49: SuspiciousSingleImageShapeWarning: You provided a numpy array of shape (1024, 1024, 44) as a single-image augmentation input, which was interpreted as (H, W, C). The last dimension however has a size of >=32, which indicates that you provided a multi-image array with shape (N, H, W) instead. If that is the case, you should use e.g. augmenter(imageS=<your input>) or augment_imageS(<your input>). Otherwise your multi-image input will be interpreted as a single image during augmentation.\n",
      "  ia.warn(\n"
     ]
    },
    {
     "name": "stdout",
     "output_type": "stream",
     "text": [
      "\b\b\b\b\b\b\b\b\b\b\b\b\b\b\b\b\b\b\b\b\b\b\b\b\b\b\b\b\b\b\b\b\b\b\b\b\b\b\b\b\b\b\b\b\b\b\b\b\b\b\b\b\b\b\b\b\b\b\b\b\b\b\b\b\b\b\b\b\b\b\b\b\b\b\b\b\b\b\b\b\b\b\b\b\b\b\b\b\b\b\b\b\b\b\b\b\b\b\b\b\b\b\b\b\b\b\b\b\b\b\b\b\b\b\b\b\b\b\b\b\b\b\b\b\b\b\b\b\b\b\b\b\b\b\b\b\b\b\b\b\b\b\b\b\b\b\b\b\b\b\b\b\b\b\b\b\b\b\b\b\b\b\b\b\b\b\b\b\b\b\b\b\b\b\b\b\b\b\b\b\b\b\b\b\b\b\b\b\b\b\b\b\b\b\b\b\b\b\b\b\b\b\b\b\b\b\b\b\b\b\b\b\b\b\b\b\b\b\b\b\b\b\b\b\b\b\b\b\b\b\b\b\b\b\b\b\b\b\b\b\b\b\b\b\r\n",
      "  2/146 [..............................] - ETA: 5:34 - batch: 0.5000 - size: 2.0000 - loss: 22.8449 - rpn_class_loss: 10.0728 - rpn_bbox_loss: 12.7320 - mrcnn_class_loss: 0.0401 - mrcnn_bbox_loss: 0.0000e+00 - mrcnn_mask_loss: 0.0000e+00       "
     ]
    },
    {
     "name": "stderr",
     "output_type": "stream",
     "text": [
      "/usr/local/lib/python3.8/dist-packages/imgaug/augmenters/base.py:49: SuspiciousSingleImageShapeWarning: You provided a numpy array of shape (1024, 1024, 56) as a single-image augmentation input, which was interpreted as (H, W, C). The last dimension however has a size of >=32, which indicates that you provided a multi-image array with shape (N, H, W) instead. If that is the case, you should use e.g. augmenter(imageS=<your input>) or augment_imageS(<your input>). Otherwise your multi-image input will be interpreted as a single image during augmentation.\n",
      "  ia.warn(\n"
     ]
    },
    {
     "name": "stdout",
     "output_type": "stream",
     "text": [
      "  4/146 [..............................] - ETA: 3:07 - batch: 1.5000 - size: 2.0000 - loss: 17.1507 - rpn_class_loss: 8.1170 - rpn_bbox_loss: 9.0136 - mrcnn_class_loss: 0.0200 - mrcnn_bbox_loss: 0.0000e+00 - mrcnn_mask_loss: 0.0000e+00 "
     ]
    },
    {
     "name": "stderr",
     "output_type": "stream",
     "text": [
      "/usr/local/lib/python3.8/dist-packages/imgaug/augmenters/base.py:49: SuspiciousSingleImageShapeWarning: You provided a numpy array of shape (1024, 1024, 64) as a single-image augmentation input, which was interpreted as (H, W, C). The last dimension however has a size of >=32, which indicates that you provided a multi-image array with shape (N, H, W) instead. If that is the case, you should use e.g. augmenter(imageS=<your input>) or augment_imageS(<your input>). Otherwise your multi-image input will be interpreted as a single image during augmentation.\n",
      "  ia.warn(\n"
     ]
    },
    {
     "name": "stdout",
     "output_type": "stream",
     "text": [
      "\b\b\b\b\b\b\b\b\b\b\b\b\b\b\b\b\b\b\b\b\b\b\b\b\b\b\b\b\b\b\b\b\b\b\b\b\b\b\b\b\b\b\b\b\b\b\b\b\b\b\b\b\b\b\b\b\b\b\b\b\b\b\b\b\b\b\b\b\b\b\b\b\b\b\b\b\b\b\b\b\b\b\b\b\b\b\b\b\b\b\b\b\b\b\b\b\b\b\b\b\b\b\b\b\b\b\b\b\b\b\b\b\b\b\b\b\b\b\b\b\b\b\b\b\b\b\b\b\b\b\b\b\b\b\b\b\b\b\b\b\b\b\b\b\b\b\b\b\b\b\b\b\b\b\b\b\b\b\b\b\b\b\b\b\b\b\b\b\b\b\b\b\b\b\b\b\b\b\b\b\b\b\b\b\b\b\b\b\b\b\b\b\b\b\b\b\b\b\b\b\b\b\b\b\b\b\b\b\b\b\b\b\b\b\b\b\b\b\b\b\b\b\b\b\b\b\b\b\b\b\b\b\b\b\b\r\n",
      "  5/146 [>.............................] - ETA: 2:48 - batch: 2.0000 - size: 2.0000 - loss: 15.4914 - rpn_class_loss: 7.2651 - rpn_bbox_loss: 8.2103 - mrcnn_class_loss: 0.0160 - mrcnn_bbox_loss: 0.0000e+00 - mrcnn_mask_loss: 0.0000e+00"
     ]
    },
    {
     "name": "stderr",
     "output_type": "stream",
     "text": [
      "/usr/local/lib/python3.8/dist-packages/imgaug/augmenters/base.py:49: SuspiciousSingleImageShapeWarning: You provided a numpy array of shape (1024, 1024, 36) as a single-image augmentation input, which was interpreted as (H, W, C). The last dimension however has a size of >=32, which indicates that you provided a multi-image array with shape (N, H, W) instead. If that is the case, you should use e.g. augmenter(imageS=<your input>) or augment_imageS(<your input>). Otherwise your multi-image input will be interpreted as a single image during augmentation.\n",
      "  ia.warn(\n"
     ]
    },
    {
     "name": "stdout",
     "output_type": "stream",
     "text": [
      "  7/146 [>.............................] - ETA: 2:29 - batch: 3.0000 - size: 2.0000 - loss: 14.1251 - rpn_class_loss: 6.2021 - rpn_bbox_loss: 7.2187 - mrcnn_class_loss: 0.0199 - mrcnn_bbox_loss: 0.5346 - mrcnn_mask_loss: 0.1498       "
     ]
    },
    {
     "name": "stderr",
     "output_type": "stream",
     "text": [
      "/usr/local/lib/python3.8/dist-packages/imgaug/augmenters/base.py:49: SuspiciousSingleImageShapeWarning: You provided a numpy array of shape (1024, 1024, 56) as a single-image augmentation input, which was interpreted as (H, W, C). The last dimension however has a size of >=32, which indicates that you provided a multi-image array with shape (N, H, W) instead. If that is the case, you should use e.g. augmenter(imageS=<your input>) or augment_imageS(<your input>). Otherwise your multi-image input will be interpreted as a single image during augmentation.\n",
      "  ia.warn(\n"
     ]
    },
    {
     "name": "stdout",
     "output_type": "stream",
     "text": [
      " 10/146 [=>............................] - ETA: 2:14 - batch: 4.5000 - size: 2.0000 - loss: 13.6421 - rpn_class_loss: 5.0610 - rpn_bbox_loss: 7.3794 - mrcnn_class_loss: 0.0311 - mrcnn_bbox_loss: 0.9930 - mrcnn_mask_loss: 0.1776"
     ]
    },
    {
     "name": "stderr",
     "output_type": "stream",
     "text": [
      "/usr/local/lib/python3.8/dist-packages/imgaug/augmenters/base.py:49: SuspiciousSingleImageShapeWarning: You provided a numpy array of shape (1024, 1024, 58) as a single-image augmentation input, which was interpreted as (H, W, C). The last dimension however has a size of >=32, which indicates that you provided a multi-image array with shape (N, H, W) instead. If that is the case, you should use e.g. augmenter(imageS=<your input>) or augment_imageS(<your input>). Otherwise your multi-image input will be interpreted as a single image during augmentation.\n",
      "  ia.warn(\n"
     ]
    },
    {
     "name": "stdout",
     "output_type": "stream",
     "text": [
      " 14/146 [=>............................] - ETA: 2:03 - batch: 6.5000 - size: 2.0000 - loss: 11.6110 - rpn_class_loss: 4.0948 - rpn_bbox_loss: 6.2169 - mrcnn_class_loss: 0.0444 - mrcnn_bbox_loss: 1.0384 - mrcnn_mask_loss: 0.2165"
     ]
    },
    {
     "name": "stderr",
     "output_type": "stream",
     "text": [
      "/usr/local/lib/python3.8/dist-packages/imgaug/augmenters/base.py:49: SuspiciousSingleImageShapeWarning: You provided a numpy array of shape (1024, 1024, 64) as a single-image augmentation input, which was interpreted as (H, W, C). The last dimension however has a size of >=32, which indicates that you provided a multi-image array with shape (N, H, W) instead. If that is the case, you should use e.g. augmenter(imageS=<your input>) or augment_imageS(<your input>). Otherwise your multi-image input will be interpreted as a single image during augmentation.\n",
      "  ia.warn(\n"
     ]
    },
    {
     "name": "stdout",
     "output_type": "stream",
     "text": [
      " 16/146 [==>...........................] - ETA: 1:59 - batch: 7.5000 - size: 2.0000 - loss: 10.8418 - rpn_class_loss: 3.6618 - rpn_bbox_loss: 5.7148 - mrcnn_class_loss: 0.0650 - mrcnn_bbox_loss: 1.1385 - mrcnn_mask_loss: 0.2617"
     ]
    },
    {
     "name": "stderr",
     "output_type": "stream",
     "text": [
      "/usr/local/lib/python3.8/dist-packages/imgaug/augmenters/base.py:49: SuspiciousSingleImageShapeWarning: You provided a numpy array of shape (1024, 1024, 58) as a single-image augmentation input, which was interpreted as (H, W, C). The last dimension however has a size of >=32, which indicates that you provided a multi-image array with shape (N, H, W) instead. If that is the case, you should use e.g. augmenter(imageS=<your input>) or augment_imageS(<your input>). Otherwise your multi-image input will be interpreted as a single image during augmentation.\n",
      "  ia.warn(\n"
     ]
    },
    {
     "name": "stdout",
     "output_type": "stream",
     "text": [
      " 18/146 [==>...........................] - ETA: 1:56 - batch: 8.5000 - size: 2.0000 - loss: 10.1454 - rpn_class_loss: 3.3212 - rpn_bbox_loss: 5.2907 - mrcnn_class_loss: 0.0769 - mrcnn_bbox_loss: 1.1580 - mrcnn_mask_loss: 0.2986"
     ]
    },
    {
     "name": "stderr",
     "output_type": "stream",
     "text": [
      "/usr/local/lib/python3.8/dist-packages/imgaug/augmenters/base.py:49: SuspiciousSingleImageShapeWarning: You provided a numpy array of shape (1024, 1024, 50) as a single-image augmentation input, which was interpreted as (H, W, C). The last dimension however has a size of >=32, which indicates that you provided a multi-image array with shape (N, H, W) instead. If that is the case, you should use e.g. augmenter(imageS=<your input>) or augment_imageS(<your input>). Otherwise your multi-image input will be interpreted as a single image during augmentation.\n",
      "  ia.warn(\n"
     ]
    },
    {
     "name": "stdout",
     "output_type": "stream",
     "text": [
      " 20/146 [===>..........................] - ETA: 1:53 - batch: 9.5000 - size: 2.0000 - loss: 9.6664 - rpn_class_loss: 3.0410 - rpn_bbox_loss: 5.0414 - mrcnn_class_loss: 0.0850 - mrcnn_bbox_loss: 1.1715 - mrcnn_mask_loss: 0.3276"
     ]
    },
    {
     "name": "stderr",
     "output_type": "stream",
     "text": [
      "/usr/local/lib/python3.8/dist-packages/imgaug/augmenters/base.py:49: SuspiciousSingleImageShapeWarning: You provided a numpy array of shape (1024, 1024, 36) as a single-image augmentation input, which was interpreted as (H, W, C). The last dimension however has a size of >=32, which indicates that you provided a multi-image array with shape (N, H, W) instead. If that is the case, you should use e.g. augmenter(imageS=<your input>) or augment_imageS(<your input>). Otherwise your multi-image input will be interpreted as a single image during augmentation.\n",
      "  ia.warn(\n"
     ]
    },
    {
     "name": "stdout",
     "output_type": "stream",
     "text": [
      "\b\b\b\b\b\b\b\b\b\b\b\b\b\b\b\b\b\b\b\b\b\b\b\b\b\b\b\b\b\b\b\b\b\b\b\b\b\b\b\b\b\b\b\b\b\b\b\b\b\b\b\b\b\b\b\b\b\b\b\b\b\b\b\b\b\b\b\b\b\b\b\b\b\b\b\b\b\b\b\b\b\b\b\b\b\b\b\b\b\b\b\b\b\b\b\b\b\b\b\b\b\b\b\b\b\b\b\b\b\b\b\b\b\b\b\b\b\b\b\b\b\b\b\b\b\b\b\b\b\b\b\b\b\b\b\b\b\b\b\b\b\b\b\b\b\b\b\b\b\b\b\b\b\b\b\b\b\b\b\b\b\b\b\b\b\b\b\b\b\b\b\b\b\b\b\b\b\b\b\b\b\b\b\b\b\b\b\b\b\b\b\b\b\b\b\b\b\b\b\b\b\b\b\b\b\b\b\b\b\b\b\b\b\b\b\b\b\b\b\b\b\b\b\b\b\b\r\n",
      " 21/146 [===>..........................] - ETA: 1:52 - batch: 10.0000 - size: 2.0000 - loss: 9.4077 - rpn_class_loss: 2.9192 - rpn_bbox_loss: 4.8788 - mrcnn_class_loss: 0.0955 - mrcnn_bbox_loss: 1.1751 - mrcnn_mask_loss: 0.3390"
     ]
    },
    {
     "name": "stderr",
     "output_type": "stream",
     "text": [
      "/usr/local/lib/python3.8/dist-packages/imgaug/augmenters/base.py:49: SuspiciousSingleImageShapeWarning: You provided a numpy array of shape (1024, 1024, 38) as a single-image augmentation input, which was interpreted as (H, W, C). The last dimension however has a size of >=32, which indicates that you provided a multi-image array with shape (N, H, W) instead. If that is the case, you should use e.g. augmenter(imageS=<your input>) or augment_imageS(<your input>). Otherwise your multi-image input will be interpreted as a single image during augmentation.\n",
      "  ia.warn(\n"
     ]
    },
    {
     "name": "stdout",
     "output_type": "stream",
     "text": [
      "\b\b\b\b\b\b\b\b\b\b\b\b\b\b\b\b\b\b\b\b\b\b\b\b\b\b\b\b\b\b\b\b\b\b\b\b\b\b\b\b\b\b\b\b\b\b\b\b\b\b\b\b\b\b\b\b\b\b\b\b\b\b\b\b\b\b\b\b\b\b\b\b\b\b\b\b\b\b\b\b\b\b\b\b\b\b\b\b\b\b\b\b\b\b\b\b\b\b\b\b\b\b\b\b\b\b\b\b\b\b\b\b\b\b\b\b\b\b\b\b\b\b\b\b\b\b\b\b\b\b\b\b\b\b\b\b\b\b\b\b\b\b\b\b\b\b\b\b\b\b\b\b\b\b\b\b\b\b\b\b\b\b\b\b\b\b\b\b\b\b\b\b\b\b\b\b\b\b\b\b\b\b\b\b\b\b\b\b\b\b\b\b\b\b\b\b\b\b\b\b\b\b\b\b\b\b\b\b\b\b\b\b\b\b\b\b\b\b\b\b\b\b\b\b\b\b\b\r\n",
      " 22/146 [===>..........................] - ETA: 1:50 - batch: 10.5000 - size: 2.0000 - loss: 9.1373 - rpn_class_loss: 2.8056 - rpn_bbox_loss: 4.7221 - mrcnn_class_loss: 0.0952 - mrcnn_bbox_loss: 1.1677 - mrcnn_mask_loss: 0.3468"
     ]
    },
    {
     "name": "stderr",
     "output_type": "stream",
     "text": [
      "/usr/local/lib/python3.8/dist-packages/imgaug/augmenters/base.py:49: SuspiciousSingleImageShapeWarning: You provided a numpy array of shape (1024, 1024, 36) as a single-image augmentation input, which was interpreted as (H, W, C). The last dimension however has a size of >=32, which indicates that you provided a multi-image array with shape (N, H, W) instead. If that is the case, you should use e.g. augmenter(imageS=<your input>) or augment_imageS(<your input>). Otherwise your multi-image input will be interpreted as a single image during augmentation.\n",
      "  ia.warn(\n"
     ]
    },
    {
     "name": "stdout",
     "output_type": "stream",
     "text": [
      "\b\b\b\b\b\b\b\b\b\b\b\b\b\b\b\b\b\b\b\b\b\b\b\b\b\b\b\b\b\b\b\b\b\b\b\b\b\b\b\b\b\b\b\b\b\b\b\b\b\b\b\b\b\b\b\b\b\b\b\b\b\b\b\b\b\b\b\b\b\b\b\b\b\b\b\b\b\b\b\b\b\b\b\b\b\b\b\b\b\b\b\b\b\b\b\b\b\b\b\b\b\b\b\b\b\b\b\b\b\b\b\b\b\b\b\b\b\b\b\b\b\b\b\b\b\b\b\b\b\b\b\b\b\b\b\b\b\b\b\b\b\b\b\b\b\b\b\b\b\b\b\b\b\b\b\b\b\b\b\b\b\b\b\b\b\b\b\b\b\b\b\b\b\b\b\b\b\b\b\b\b\b\b\b\b\b\b\b\b\b\b\b\b\b\b\b\b\b\b\b\b\b\b\b\b\b\b\b\b\b\b\b\b\b\b\b\b\b\b\b\b\b\b\b\b\b\b\r\n",
      " 23/146 [===>..........................] - ETA: 1:53 - batch: 11.0000 - size: 2.0000 - loss: 8.9260 - rpn_class_loss: 2.6995 - rpn_bbox_loss: 4.5779 - mrcnn_class_loss: 0.1129 - mrcnn_bbox_loss: 1.1778 - mrcnn_mask_loss: 0.3580"
     ]
    },
    {
     "name": "stderr",
     "output_type": "stream",
     "text": [
      "/usr/local/lib/python3.8/dist-packages/imgaug/augmenters/base.py:49: SuspiciousSingleImageShapeWarning: You provided a numpy array of shape (1024, 1024, 62) as a single-image augmentation input, which was interpreted as (H, W, C). The last dimension however has a size of >=32, which indicates that you provided a multi-image array with shape (N, H, W) instead. If that is the case, you should use e.g. augmenter(imageS=<your input>) or augment_imageS(<your input>). Otherwise your multi-image input will be interpreted as a single image during augmentation.\n",
      "  ia.warn(\n"
     ]
    },
    {
     "name": "stdout",
     "output_type": "stream",
     "text": [
      "\b\b\b\b\b\b\b\b\b\b\b\b\b\b\b\b\b\b\b\b\b\b\b\b\b\b\b\b\b\b\b\b\b\b\b\b\b\b\b\b\b\b\b\b\b\b\b\b\b\b\b\b\b\b\b\b\b\b\b\b\b\b\b\b\b\b\b\b\b\b\b\b\b\b\b\b\b\b\b\b\b\b\b\b\b\b\b\b\b\b\b\b\b\b\b\b\b\b\b\b\b\b\b\b\b\b\b\b\b\b\b\b\b\b\b\b\b\b\b\b\b\b\b\b\b\b\b\b\b\b\b\b\b\b\b\b\b\b\b\b\b\b\b\b\b\b\b\b\b\b\b\b\b\b\b\b\b\b\b\b\b\b\b\b\b\b\b\b\b\b\b\b\b\b\b\b\b\b\b\b\b\b\b\b\b\b\b\b\b\b\b\b\b\b\b\b\b\b\b\b\b\b\b\b\b\b\b\b\b\b\b\b\b\b\b\b\b\b\b\b\b\b\b\b\b\b\b\r\n",
      " 24/146 [===>..........................] - ETA: 2:01 - batch: 11.5000 - size: 2.0000 - loss: 8.7560 - rpn_class_loss: 2.6262 - rpn_bbox_loss: 4.4584 - mrcnn_class_loss: 0.1103 - mrcnn_bbox_loss: 1.1881 - mrcnn_mask_loss: 0.3730"
     ]
    },
    {
     "name": "stderr",
     "output_type": "stream",
     "text": [
      "/usr/local/lib/python3.8/dist-packages/imgaug/augmenters/base.py:49: SuspiciousSingleImageShapeWarning: You provided a numpy array of shape (1024, 1024, 34) as a single-image augmentation input, which was interpreted as (H, W, C). The last dimension however has a size of >=32, which indicates that you provided a multi-image array with shape (N, H, W) instead. If that is the case, you should use e.g. augmenter(imageS=<your input>) or augment_imageS(<your input>). Otherwise your multi-image input will be interpreted as a single image during augmentation.\n",
      "  ia.warn(\n"
     ]
    },
    {
     "name": "stdout",
     "output_type": "stream",
     "text": [
      " 26/146 [====>.........................] - ETA: 2:02 - batch: 12.5000 - size: 2.0000 - loss: 8.3110 - rpn_class_loss: 2.4578 - rpn_bbox_loss: 4.1933 - mrcnn_class_loss: 0.1133 - mrcnn_bbox_loss: 1.1614 - mrcnn_mask_loss: 0.3852"
     ]
    },
    {
     "name": "stderr",
     "output_type": "stream",
     "text": [
      "/usr/local/lib/python3.8/dist-packages/imgaug/augmenters/base.py:49: SuspiciousSingleImageShapeWarning: You provided a numpy array of shape (1024, 1024, 58) as a single-image augmentation input, which was interpreted as (H, W, C). The last dimension however has a size of >=32, which indicates that you provided a multi-image array with shape (N, H, W) instead. If that is the case, you should use e.g. augmenter(imageS=<your input>) or augment_imageS(<your input>). Otherwise your multi-image input will be interpreted as a single image during augmentation.\n",
      "  ia.warn(\n"
     ]
    },
    {
     "name": "stdout",
     "output_type": "stream",
     "text": [
      "\b\b\b\b\b\b\b\b\b\b\b\b\b\b\b\b\b\b\b\b\b\b\b\b\b\b\b\b\b\b\b\b\b\b\b\b\b\b\b\b\b\b\b\b\b\b\b\b\b\b\b\b\b\b\b\b\b\b\b\b\b\b\b\b\b\b\b\b\b\b\b\b\b\b\b\b\b\b\b\b\b\b\b\b\b\b\b\b\b\b\b\b\b\b\b\b\b\b\b\b\b\b\b\b\b\b\b\b\b\b\b\b\b\b\b\b\b\b\b\b\b\b\b\b\b\b\b\b\b\b\b\b\b\b\b\b\b\b\b\b\b\b\b\b\b\b\b\b\b\b\b\b\b\b\b\b\b\b\b\b\b\b\b\b\b\b\b\b\b\b\b\b\b\b\b\b\b\b\b\b\b\b\b\b\b\b\b\b\b\b\b\b\b\b\b\b\b\b\b\b\b\b\b\b\b\b\b\b\b\b\b\b\b\b\b\b\b\b\b\b\b\b\b\b\b\b\b\r\n",
      " 27/146 [====>.........................] - ETA: 2:05 - batch: 13.0000 - size: 2.0000 - loss: 8.1588 - rpn_class_loss: 2.3815 - rpn_bbox_loss: 4.0945 - mrcnn_class_loss: 0.1302 - mrcnn_bbox_loss: 1.1613 - mrcnn_mask_loss: 0.3913"
     ]
    },
    {
     "name": "stderr",
     "output_type": "stream",
     "text": [
      "/usr/local/lib/python3.8/dist-packages/imgaug/augmenters/base.py:49: SuspiciousSingleImageShapeWarning: You provided a numpy array of shape (1024, 1024, 114) as a single-image augmentation input, which was interpreted as (H, W, C). The last dimension however has a size of >=32, which indicates that you provided a multi-image array with shape (N, H, W) instead. If that is the case, you should use e.g. augmenter(imageS=<your input>) or augment_imageS(<your input>). Otherwise your multi-image input will be interpreted as a single image during augmentation.\n",
      "  ia.warn(\n",
      "/usr/local/lib/python3.8/dist-packages/imgaug/augmenters/base.py:49: SuspiciousSingleImageShapeWarning: You provided a numpy array of shape (1024, 1024, 34) as a single-image augmentation input, which was interpreted as (H, W, C). The last dimension however has a size of >=32, which indicates that you provided a multi-image array with shape (N, H, W) instead. If that is the case, you should use e.g. augmenter(imageS=<your input>) or augment_imageS(<your input>). Otherwise your multi-image input will be interpreted as a single image during augmentation.\n",
      "  ia.warn(\n"
     ]
    },
    {
     "name": "stdout",
     "output_type": "stream",
     "text": [
      "\b\b\b\b\b\b\b\b\b\b\b\b\b\b\b\b\b\b\b\b\b\b\b\b\b\b\b\b\b\b\b\b\b\b\b\b\b\b\b\b\b\b\b\b\b\b\b\b\b\b\b\b\b\b\b\b\b\b\b\b\b\b\b\b\b\b\b\b\b\b\b\b\b\b\b\b\b\b\b\b\b\b\b\b\b\b\b\b\b\b\b\b\b\b\b\b\b\b\b\b\b\b\b\b\b\b\b\b\b\b\b\b\b\b\b\b\b\b\b\b\b\b\b\b\b\b\b\b\b\b\b\b\b\b\b\b\b\b\b\b\b\b\b\b\b\b\b\b\b\b\b\b\b\b\b\b\b\b\b\b\b\b\b\b\b\b\b\b\b\b\b\b\b\b\b\b\b\b\b\b\b\b\b\b\b\b\b\b\b\b\b\b\b\b\b\b\b\b\b\b\b\b\b\b\b\b\b\b\b\b\b\b\b\b\b\b\b\b\b\b\b\b\b\b\b\b\b\r\n",
      " 28/146 [====>.........................] - ETA: 2:15 - batch: 13.5000 - size: 2.0000 - loss: 8.0192 - rpn_class_loss: 2.3181 - rpn_bbox_loss: 4.0178 - mrcnn_class_loss: 0.1393 - mrcnn_bbox_loss: 1.1467 - mrcnn_mask_loss: 0.3973"
     ]
    },
    {
     "name": "stderr",
     "output_type": "stream",
     "text": [
      "/usr/local/lib/python3.8/dist-packages/imgaug/augmenters/base.py:49: SuspiciousSingleImageShapeWarning: You provided a numpy array of shape (1024, 1024, 44) as a single-image augmentation input, which was interpreted as (H, W, C). The last dimension however has a size of >=32, which indicates that you provided a multi-image array with shape (N, H, W) instead. If that is the case, you should use e.g. augmenter(imageS=<your input>) or augment_imageS(<your input>). Otherwise your multi-image input will be interpreted as a single image during augmentation.\n",
      "  ia.warn(\n"
     ]
    },
    {
     "name": "stdout",
     "output_type": "stream",
     "text": [
      "\b\b\b\b\b\b\b\b\b\b\b\b\b\b\b\b\b\b\b\b\b\b\b\b\b\b\b\b\b\b\b\b\b\b\b\b\b\b\b\b\b\b\b\b\b\b\b\b\b\b\b\b\b\b\b\b\b\b\b\b\b\b\b\b\b\b\b\b\b\b\b\b\b\b\b\b\b\b\b\b\b\b\b\b\b\b\b\b\b\b\b\b\b\b\b\b\b\b\b\b\b\b\b\b\b\b\b\b\b\b\b\b\b\b\b\b\b\b\b\b\b\b\b\b\b\b\b\b\b\b\b\b\b\b\b\b\b\b\b\b\b\b\b\b\b\b\b\b\b\b\b\b\b\b\b\b\b\b\b\b\b\b\b\b\b\b\b\b\b\b\b\b\b\b\b\b\b\b\b\b\b\b\b\b\b\b\b\b\b\b\b\b\b\b\b\b\b\b\b\b\b\b\b\b\b\b\b\b\b\b\b\b\b\b\b\b\b\b\b\b\b\b\b\b\b\b\b\r\n",
      " 29/146 [====>.........................] - ETA: 2:16 - batch: 14.0000 - size: 2.0000 - loss: 7.8622 - rpn_class_loss: 2.2531 - rpn_bbox_loss: 3.9265 - mrcnn_class_loss: 0.1456 - mrcnn_bbox_loss: 1.1346 - mrcnn_mask_loss: 0.4025"
     ]
    },
    {
     "name": "stderr",
     "output_type": "stream",
     "text": [
      "/usr/local/lib/python3.8/dist-packages/imgaug/augmenters/base.py:49: SuspiciousSingleImageShapeWarning: You provided a numpy array of shape (1024, 1024, 50) as a single-image augmentation input, which was interpreted as (H, W, C). The last dimension however has a size of >=32, which indicates that you provided a multi-image array with shape (N, H, W) instead. If that is the case, you should use e.g. augmenter(imageS=<your input>) or augment_imageS(<your input>). Otherwise your multi-image input will be interpreted as a single image during augmentation.\n",
      "  ia.warn(\n"
     ]
    },
    {
     "name": "stdout",
     "output_type": "stream",
     "text": [
      "\b\b\b\b\b\b\b\b\b\b\b\b\b\b\b\b\b\b\b\b\b\b\b\b\b\b\b\b\b\b\b\b\b\b\b\b\b\b\b\b\b\b\b\b\b\b\b\b\b\b\b\b\b\b\b\b\b\b\b\b\b\b\b\b\b\b\b\b\b\b\b\b\b\b\b\b\b\b\b\b\b\b\b\b\b\b\b\b\b\b\b\b\b\b\b\b\b\b\b\b\b\b\b\b\b\b\b\b\b\b\b\b\b\b\b\b\b\b\b\b\b\b\b\b\b\b\b\b\b\b\b\b\b\b\b\b\b\b\b\b\b\b\b\b\b\b\b\b\b\b\b\b\b\b\b\b\b\b\b\b\b\b\b\b\b\b\b\b\b\b\b\b\b\b\b\b\b\b\b\b\b\b\b\b\b\b\b\b\b\b\b\b\b\b\b\b\b\b\b\b\b\b\b\b\b\b\b\b\b\b\b\b\b\b\b\b\b\b\b\b\b\b\b\b\b\b\b\r\n",
      " 30/146 [=====>........................] - ETA: 2:19 - batch: 14.5000 - size: 2.0000 - loss: 7.7205 - rpn_class_loss: 2.1959 - rpn_bbox_loss: 3.8462 - mrcnn_class_loss: 0.1488 - mrcnn_bbox_loss: 1.1243 - mrcnn_mask_loss: 0.4054"
     ]
    },
    {
     "name": "stderr",
     "output_type": "stream",
     "text": [
      "/usr/local/lib/python3.8/dist-packages/imgaug/augmenters/base.py:49: SuspiciousSingleImageShapeWarning: You provided a numpy array of shape (1024, 1024, 58) as a single-image augmentation input, which was interpreted as (H, W, C). The last dimension however has a size of >=32, which indicates that you provided a multi-image array with shape (N, H, W) instead. If that is the case, you should use e.g. augmenter(imageS=<your input>) or augment_imageS(<your input>). Otherwise your multi-image input will be interpreted as a single image during augmentation.\n",
      "  ia.warn(\n",
      "/usr/local/lib/python3.8/dist-packages/imgaug/augmenters/base.py:49: SuspiciousSingleImageShapeWarning: You provided a numpy array of shape (1024, 1024, 50) as a single-image augmentation input, which was interpreted as (H, W, C). The last dimension however has a size of >=32, which indicates that you provided a multi-image array with shape (N, H, W) instead. If that is the case, you should use e.g. augmenter(imageS=<your input>) or augment_imageS(<your input>). Otherwise your multi-image input will be interpreted as a single image during augmentation.\n",
      "  ia.warn(\n"
     ]
    },
    {
     "name": "stdout",
     "output_type": "stream",
     "text": [
      "\b\b\b\b\b\b\b\b\b\b\b\b\b\b\b\b\b\b\b\b\b\b\b\b\b\b\b\b\b\b\b\b\b\b\b\b\b\b\b\b\b\b\b\b\b\b\b\b\b\b\b\b\b\b\b\b\b\b\b\b\b\b\b\b\b\b\b\b\b\b\b\b\b\b\b\b\b\b\b\b\b\b\b\b\b\b\b\b\b\b\b\b\b\b\b\b\b\b\b\b\b\b\b\b\b\b\b\b\b\b\b\b\b\b\b\b\b\b\b\b\b\b\b\b\b\b\b\b\b\b\b\b\b\b\b\b\b\b\b\b\b\b\b\b\b\b\b\b\b\b\b\b\b\b\b\b\b\b\b\b\b\b\b\b\b\b\b\b\b\b\b\b\b\b\b\b\b\b\b\b\b\b\b\b\b\b\b\b\b\b\b\b\b\b\b\b\b\b\b\b\b\b\b\b\b\b\b\b\b\b\b\b\b\b\b\b\b\b\b\b\b\b\b\b\b\b\b\r\n",
      " 31/146 [=====>........................] - ETA: 2:21 - batch: 15.0000 - size: 2.0000 - loss: 7.5659 - rpn_class_loss: 2.1361 - rpn_bbox_loss: 3.7586 - mrcnn_class_loss: 0.1448 - mrcnn_bbox_loss: 1.1169 - mrcnn_mask_loss: 0.4095"
     ]
    },
    {
     "name": "stderr",
     "output_type": "stream",
     "text": [
      "/usr/local/lib/python3.8/dist-packages/imgaug/augmenters/base.py:49: SuspiciousSingleImageShapeWarning: You provided a numpy array of shape (1024, 1024, 58) as a single-image augmentation input, which was interpreted as (H, W, C). The last dimension however has a size of >=32, which indicates that you provided a multi-image array with shape (N, H, W) instead. If that is the case, you should use e.g. augmenter(imageS=<your input>) or augment_imageS(<your input>). Otherwise your multi-image input will be interpreted as a single image during augmentation.\n",
      "  ia.warn(\n",
      "/usr/local/lib/python3.8/dist-packages/imgaug/augmenters/base.py:49: SuspiciousSingleImageShapeWarning: You provided a numpy array of shape (1024, 1024, 36) as a single-image augmentation input, which was interpreted as (H, W, C). The last dimension however has a size of >=32, which indicates that you provided a multi-image array with shape (N, H, W) instead. If that is the case, you should use e.g. augmenter(imageS=<your input>) or augment_imageS(<your input>). Otherwise your multi-image input will be interpreted as a single image during augmentation.\n",
      "  ia.warn(\n"
     ]
    },
    {
     "name": "stdout",
     "output_type": "stream",
     "text": [
      "\b\b\b\b\b\b\b\b\b\b\b\b\b\b\b\b\b\b\b\b\b\b\b\b\b\b\b\b\b\b\b\b\b\b\b\b\b\b\b\b\b\b\b\b\b\b\b\b\b\b\b\b\b\b\b\b\b\b\b\b\b\b\b\b\b\b\b\b\b\b\b\b\b\b\b\b\b\b\b\b\b\b\b\b\b\b\b\b\b\b\b\b\b\b\b\b\b\b\b\b\b\b\b\b\b\b\b\b\b\b\b\b\b\b\b\b\b\b\b\b\b\b\b\b\b\b\b\b\b\b\b\b\b\b\b\b\b\b\b\b\b\b\b\b\b\b\b\b\b\b\b\b\b\b\b\b\b\b\b\b\b\b\b\b\b\b\b\b\b\b\b\b\b\b\b\b\b\b\b\b\b\b\b\b\b\b\b\b\b\b\b\b\b\b\b\b\b\b\b\b\b\b\b\b\b\b\b\b\b\b\b\b\b\b\b\b\b\b\b\b\b\b\b\b\b\b\b\r\n",
      " 32/146 [=====>........................] - ETA: 2:25 - batch: 15.5000 - size: 2.0000 - loss: 7.4156 - rpn_class_loss: 2.0775 - rpn_bbox_loss: 3.6728 - mrcnn_class_loss: 0.1475 - mrcnn_bbox_loss: 1.1059 - mrcnn_mask_loss: 0.4120"
     ]
    },
    {
     "name": "stderr",
     "output_type": "stream",
     "text": [
      "/usr/local/lib/python3.8/dist-packages/imgaug/augmenters/base.py:49: SuspiciousSingleImageShapeWarning: You provided a numpy array of shape (1024, 1024, 46) as a single-image augmentation input, which was interpreted as (H, W, C). The last dimension however has a size of >=32, which indicates that you provided a multi-image array with shape (N, H, W) instead. If that is the case, you should use e.g. augmenter(imageS=<your input>) or augment_imageS(<your input>). Otherwise your multi-image input will be interpreted as a single image during augmentation.\n",
      "  ia.warn(\n",
      "/usr/local/lib/python3.8/dist-packages/imgaug/augmenters/base.py:49: SuspiciousSingleImageShapeWarning: You provided a numpy array of shape (1024, 1024, 46) as a single-image augmentation input, which was interpreted as (H, W, C). The last dimension however has a size of >=32, which indicates that you provided a multi-image array with shape (N, H, W) instead. If that is the case, you should use e.g. augmenter(imageS=<your input>) or augment_imageS(<your input>). Otherwise your multi-image input will be interpreted as a single image during augmentation.\n",
      "  ia.warn(\n"
     ]
    },
    {
     "name": "stdout",
     "output_type": "stream",
     "text": [
      "\b\b\b\b\b\b\b\b\b\b\b\b\b\b\b\b\b\b\b\b\b\b\b\b\b\b\b\b\b\b\b\b\b\b\b\b\b\b\b\b\b\b\b\b\b\b\b\b\b\b\b\b\b\b\b\b\b\b\b\b\b\b\b\b\b\b\b\b\b\b\b\b\b\b\b\b\b\b\b\b\b\b\b\b\b\b\b\b\b\b\b\b\b\b\b\b\b\b\b\b\b\b\b\b\b\b\b\b\b\b\b\b\b\b\b\b\b\b\b\b\b\b\b\b\b\b\b\b\b\b\b\b\b\b\b\b\b\b\b\b\b\b\b\b\b\b\b\b\b\b\b\b\b\b\b\b\b\b\b\b\b\b\b\b\b\b\b\b\b\b\b\b\b\b\b\b\b\b\b\b\b\b\b\b\b\b\b\b\b\b\b\b\b\b\b\b\b\b\b\b\b\b\b\b\b\b\b\b\b\b\b\b\b\b\b\b\b\b\b\b\b\b\b\b\b\b\b\r\n",
      " 33/146 [=====>........................] - ETA: 2:27 - batch: 16.0000 - size: 2.0000 - loss: 7.2831 - rpn_class_loss: 2.0281 - rpn_bbox_loss: 3.5876 - mrcnn_class_loss: 0.1531 - mrcnn_bbox_loss: 1.0991 - mrcnn_mask_loss: 0.4152"
     ]
    },
    {
     "name": "stderr",
     "output_type": "stream",
     "text": [
      "/usr/local/lib/python3.8/dist-packages/imgaug/augmenters/base.py:49: SuspiciousSingleImageShapeWarning: You provided a numpy array of shape (1024, 1024, 52) as a single-image augmentation input, which was interpreted as (H, W, C). The last dimension however has a size of >=32, which indicates that you provided a multi-image array with shape (N, H, W) instead. If that is the case, you should use e.g. augmenter(imageS=<your input>) or augment_imageS(<your input>). Otherwise your multi-image input will be interpreted as a single image during augmentation.\n",
      "  ia.warn(\n"
     ]
    },
    {
     "name": "stdout",
     "output_type": "stream",
     "text": [
      "\b\b\b\b\b\b\b\b\b\b\b\b\b\b\b\b\b\b\b\b\b\b\b\b\b\b\b\b\b\b\b\b\b\b\b\b\b\b\b\b\b\b\b\b\b\b\b\b\b\b\b\b\b\b\b\b\b\b\b\b\b\b\b\b\b\b\b\b\b\b\b\b\b\b\b\b\b\b\b\b\b\b\b\b\b\b\b\b\b\b\b\b\b\b\b\b\b\b\b\b\b\b\b\b\b\b\b\b\b\b\b\b\b\b\b\b\b\b\b\b\b\b\b\b\b\b\b\b\b\b\b\b\b\b\b\b\b\b\b\b\b\b\b\b\b\b\b\b\b\b\b\b\b\b\b\b\b\b\b\b\b\b\b\b\b\b\b\b\b\b\b\b\b\b\b\b\b\b\b\b\b\b\b\b\b\b\b\b\b\b\b\b\b\b\b\b\b\b\b\b\b\b\b\b\b\b\b\b\b\b\b\b\b\b\b\b\b\b\b\b\b\b\b\b\b\b\b\r\n",
      " 34/146 [=====>........................] - ETA: 2:30 - batch: 16.5000 - size: 2.0000 - loss: 7.1530 - rpn_class_loss: 1.9766 - rpn_bbox_loss: 3.5096 - mrcnn_class_loss: 0.1608 - mrcnn_bbox_loss: 1.0881 - mrcnn_mask_loss: 0.4180"
     ]
    },
    {
     "name": "stderr",
     "output_type": "stream",
     "text": [
      "/usr/local/lib/python3.8/dist-packages/imgaug/augmenters/base.py:49: SuspiciousSingleImageShapeWarning: You provided a numpy array of shape (1024, 1024, 50) as a single-image augmentation input, which was interpreted as (H, W, C). The last dimension however has a size of >=32, which indicates that you provided a multi-image array with shape (N, H, W) instead. If that is the case, you should use e.g. augmenter(imageS=<your input>) or augment_imageS(<your input>). Otherwise your multi-image input will be interpreted as a single image during augmentation.\n",
      "  ia.warn(\n",
      "/usr/local/lib/python3.8/dist-packages/imgaug/augmenters/base.py:49: SuspiciousSingleImageShapeWarning: You provided a numpy array of shape (1024, 1024, 46) as a single-image augmentation input, which was interpreted as (H, W, C). The last dimension however has a size of >=32, which indicates that you provided a multi-image array with shape (N, H, W) instead. If that is the case, you should use e.g. augmenter(imageS=<your input>) or augment_imageS(<your input>). Otherwise your multi-image input will be interpreted as a single image during augmentation.\n",
      "  ia.warn(\n"
     ]
    },
    {
     "name": "stdout",
     "output_type": "stream",
     "text": [
      "\b\b\b\b\b\b\b\b\b\b\b\b\b\b\b\b\b\b\b\b\b\b\b\b\b\b\b\b\b\b\b\b\b\b\b\b\b\b\b\b\b\b\b\b\b\b\b\b\b\b\b\b\b\b\b\b\b\b\b\b\b\b\b\b\b\b\b\b\b\b\b\b\b\b\b\b\b\b\b\b\b\b\b\b\b\b\b\b\b\b\b\b\b\b\b\b\b\b\b\b\b\b\b\b\b\b\b\b\b\b\b\b\b\b\b\b\b\b\b\b\b\b\b\b\b\b\b\b\b\b\b\b\b\b\b\b\b\b\b\b\b\b\b\b\b\b\b\b\b\b\b\b\b\b\b\b\b\b\b\b\b\b\b\b\b\b\b\b\b\b\b\b\b\b\b\b\b\b\b\b\b\b\b\b\b\b\b\b\b\b\b\b\b\b\b\b\b\b\b\b\b\b\b\b\b\b\b\b\b\b\b\b\b\b\b\b\b\b\b\b\b\b\b\b\b\b\b\r\n",
      " 35/146 [======>.......................] - ETA: 2:30 - batch: 17.0000 - size: 2.0000 - loss: 7.0389 - rpn_class_loss: 1.9288 - rpn_bbox_loss: 3.4383 - mrcnn_class_loss: 0.1709 - mrcnn_bbox_loss: 1.0803 - mrcnn_mask_loss: 0.4206"
     ]
    },
    {
     "name": "stderr",
     "output_type": "stream",
     "text": [
      "/usr/local/lib/python3.8/dist-packages/imgaug/augmenters/base.py:49: SuspiciousSingleImageShapeWarning: You provided a numpy array of shape (1024, 1024, 34) as a single-image augmentation input, which was interpreted as (H, W, C). The last dimension however has a size of >=32, which indicates that you provided a multi-image array with shape (N, H, W) instead. If that is the case, you should use e.g. augmenter(imageS=<your input>) or augment_imageS(<your input>). Otherwise your multi-image input will be interpreted as a single image during augmentation.\n",
      "  ia.warn(\n"
     ]
    },
    {
     "name": "stdout",
     "output_type": "stream",
     "text": [
      "\b\b\b\b\b\b\b\b\b\b\b\b\b\b\b\b\b\b\b\b\b\b\b\b\b\b\b\b\b\b\b\b\b\b\b\b\b\b\b\b\b\b\b\b\b\b\b\b\b\b\b\b\b\b\b\b\b\b\b\b\b\b\b\b\b\b\b\b\b\b\b\b\b\b\b\b\b\b\b\b\b\b\b\b\b\b\b\b\b\b\b\b\b\b\b\b\b\b\b\b\b\b\b\b\b\b\b\b\b\b\b\b\b\b\b\b\b\b\b\b\b\b\b\b\b\b\b\b\b\b\b\b\b\b\b\b\b\b\b\b\b\b\b\b\b\b\b\b\b\b\b\b\b\b\b\b\b\b\b\b\b\b\b\b\b\b\b\b\b\b\b\b\b\b\b\b\b\b\b\b\b\b\b\b\b\b\b\b\b\b\b\b\b\b\b\b\b\b\b\b\b\b\b\b\b\b\b\b\b\b\b\b\b\b\b\b\b\b\b\b\b\b\b\b\b\b\b\r\n",
      " 36/146 [======>.......................] - ETA: 2:31 - batch: 17.5000 - size: 2.0000 - loss: 6.9229 - rpn_class_loss: 1.8803 - rpn_bbox_loss: 3.3664 - mrcnn_class_loss: 0.1804 - mrcnn_bbox_loss: 1.0705 - mrcnn_mask_loss: 0.4252"
     ]
    },
    {
     "name": "stderr",
     "output_type": "stream",
     "text": [
      "/usr/local/lib/python3.8/dist-packages/imgaug/augmenters/base.py:49: SuspiciousSingleImageShapeWarning: You provided a numpy array of shape (1024, 1024, 64) as a single-image augmentation input, which was interpreted as (H, W, C). The last dimension however has a size of >=32, which indicates that you provided a multi-image array with shape (N, H, W) instead. If that is the case, you should use e.g. augmenter(imageS=<your input>) or augment_imageS(<your input>). Otherwise your multi-image input will be interpreted as a single image during augmentation.\n",
      "  ia.warn(\n",
      "/usr/local/lib/python3.8/dist-packages/imgaug/augmenters/base.py:49: SuspiciousSingleImageShapeWarning: You provided a numpy array of shape (1024, 1024, 56) as a single-image augmentation input, which was interpreted as (H, W, C). The last dimension however has a size of >=32, which indicates that you provided a multi-image array with shape (N, H, W) instead. If that is the case, you should use e.g. augmenter(imageS=<your input>) or augment_imageS(<your input>). Otherwise your multi-image input will be interpreted as a single image during augmentation.\n",
      "  ia.warn(\n",
      "/usr/local/lib/python3.8/dist-packages/imgaug/augmenters/base.py:49: SuspiciousSingleImageShapeWarning: You provided a numpy array of shape (1024, 1024, 40) as a single-image augmentation input, which was interpreted as (H, W, C). The last dimension however has a size of >=32, which indicates that you provided a multi-image array with shape (N, H, W) instead. If that is the case, you should use e.g. augmenter(imageS=<your input>) or augment_imageS(<your input>). Otherwise your multi-image input will be interpreted as a single image during augmentation.\n",
      "  ia.warn(\n"
     ]
    },
    {
     "name": "stdout",
     "output_type": "stream",
     "text": [
      "\b\b\b\b\b\b\b\b\b\b\b\b\b\b\b\b\b\b\b\b\b\b\b\b\b\b\b\b\b\b\b\b\b\b\b\b\b\b\b\b\b\b\b\b\b\b\b\b\b\b\b\b\b\b\b\b\b\b\b\b\b\b\b\b\b\b\b\b\b\b\b\b\b\b\b\b\b\b\b\b\b\b\b\b\b\b\b\b\b\b\b\b\b\b\b\b\b\b\b\b\b\b\b\b\b\b\b\b\b\b\b\b\b\b\b\b\b\b\b\b\b\b\b\b\b\b\b\b\b\b\b\b\b\b\b\b\b\b\b\b\b\b\b\b\b\b\b\b\b\b\b\b\b\b\b\b\b\b\b\b\b\b\b\b\b\b\b\b\b\b\b\b\b\b\b\b\b\b\b\b\b\b\b\b\b\b\b\b\b\b\b\b\b\b\b\b\b\b\b\b\b\b\b\b\b\b\b\b\b\b\b\b\b\b\b\b\b\b\b\b\b\b\b\b\b\b\b\r\n",
      " 37/146 [======>.......................] - ETA: 2:35 - batch: 18.0000 - size: 2.0000 - loss: 6.8392 - rpn_class_loss: 1.8571 - rpn_bbox_loss: 3.3143 - mrcnn_class_loss: 0.1804 - mrcnn_bbox_loss: 1.0571 - mrcnn_mask_loss: 0.4304"
     ]
    },
    {
     "name": "stderr",
     "output_type": "stream",
     "text": [
      "/usr/local/lib/python3.8/dist-packages/imgaug/augmenters/base.py:49: SuspiciousSingleImageShapeWarning: You provided a numpy array of shape (1024, 1024, 42) as a single-image augmentation input, which was interpreted as (H, W, C). The last dimension however has a size of >=32, which indicates that you provided a multi-image array with shape (N, H, W) instead. If that is the case, you should use e.g. augmenter(imageS=<your input>) or augment_imageS(<your input>). Otherwise your multi-image input will be interpreted as a single image during augmentation.\n",
      "  ia.warn(\n"
     ]
    },
    {
     "name": "stdout",
     "output_type": "stream",
     "text": [
      "\b\b\b\b\b\b\b\b\b\b\b\b\b\b\b\b\b\b\b\b\b\b\b\b\b\b\b\b\b\b\b\b\b\b\b\b\b\b\b\b\b\b\b\b\b\b\b\b\b\b\b\b\b\b\b\b\b\b\b\b\b\b\b\b\b\b\b\b\b\b\b\b\b\b\b\b\b\b\b\b\b\b\b\b\b\b\b\b\b\b\b\b\b\b\b\b\b\b\b\b\b\b\b\b\b\b\b\b\b\b\b\b\b\b\b\b\b\b\b\b\b\b\b\b\b\b\b\b\b\b\b\b\b\b\b\b\b\b\b\b\b\b\b\b\b\b\b\b\b\b\b\b\b\b\b\b\b\b\b\b\b\b\b\b\b\b\b\b\b\b\b\b\b\b\b\b\b\b\b\b\b\b\b\b\b\b\b\b\b\b\b\b\b\b\b\b\b\b\b\b\b\b\b\b\b\b\b\b\b\b\b\b\b\b\b\b\b\b\b\b\b\b\b\b\b\b\b\r\n",
      " 38/146 [======>.......................] - ETA: 2:35 - batch: 18.5000 - size: 2.0000 - loss: 6.7468 - rpn_class_loss: 1.8189 - rpn_bbox_loss: 3.2595 - mrcnn_class_loss: 0.1837 - mrcnn_bbox_loss: 1.0507 - mrcnn_mask_loss: 0.4340"
     ]
    },
    {
     "name": "stderr",
     "output_type": "stream",
     "text": [
      "/usr/local/lib/python3.8/dist-packages/imgaug/augmenters/base.py:49: SuspiciousSingleImageShapeWarning: You provided a numpy array of shape (1024, 1024, 64) as a single-image augmentation input, which was interpreted as (H, W, C). The last dimension however has a size of >=32, which indicates that you provided a multi-image array with shape (N, H, W) instead. If that is the case, you should use e.g. augmenter(imageS=<your input>) or augment_imageS(<your input>). Otherwise your multi-image input will be interpreted as a single image during augmentation.\n",
      "  ia.warn(\n"
     ]
    },
    {
     "name": "stdout",
     "output_type": "stream",
     "text": [
      "\b\b\b\b\b\b\b\b\b\b\b\b\b\b\b\b\b\b\b\b\b\b\b\b\b\b\b\b\b\b\b\b\b\b\b\b\b\b\b\b\b\b\b\b\b\b\b\b\b\b\b\b\b\b\b\b\b\b\b\b\b\b\b\b\b\b\b\b\b\b\b\b\b\b\b\b\b\b\b\b\b\b\b\b\b\b\b\b\b\b\b\b\b\b\b\b\b\b\b\b\b\b\b\b\b\b\b\b\b\b\b\b\b\b\b\b\b\b\b\b\b\b\b\b\b\b\b\b\b\b\b\b\b\b\b\b\b\b\b\b\b\b\b\b\b\b\b\b\b\b\b\b\b\b\b\b\b\b\b\b\b\b\b\b\b\b\b\b\b\b\b\b\b\b\b\b\b\b\b\b\b\b\b\b\b\b\b\b\b\b\b\b\b\b\b\b\b\b\b\b\b\b\b\b\b\b\b\b\b\b\b\b\b\b\b\b\b\b\b\b\b\b\b\b\b\b\b\r\n",
      " 39/146 [=======>......................] - ETA: 2:36 - batch: 19.0000 - size: 2.0000 - loss: 6.6712 - rpn_class_loss: 1.7881 - rpn_bbox_loss: 3.2144 - mrcnn_class_loss: 0.1851 - mrcnn_bbox_loss: 1.0454 - mrcnn_mask_loss: 0.4382"
     ]
    },
    {
     "name": "stderr",
     "output_type": "stream",
     "text": [
      "/usr/local/lib/python3.8/dist-packages/imgaug/augmenters/base.py:49: SuspiciousSingleImageShapeWarning: You provided a numpy array of shape (1024, 1024, 36) as a single-image augmentation input, which was interpreted as (H, W, C). The last dimension however has a size of >=32, which indicates that you provided a multi-image array with shape (N, H, W) instead. If that is the case, you should use e.g. augmenter(imageS=<your input>) or augment_imageS(<your input>). Otherwise your multi-image input will be interpreted as a single image during augmentation.\n",
      "  ia.warn(\n"
     ]
    },
    {
     "name": "stdout",
     "output_type": "stream",
     "text": [
      "\b\b\b\b\b\b\b\b\b\b\b\b\b\b\b\b\b\b\b\b\b\b\b\b\b\b\b\b\b\b\b\b\b\b\b\b\b\b\b\b\b\b\b\b\b\b\b\b\b\b\b\b\b\b\b\b\b\b\b\b\b\b\b\b\b\b\b\b\b\b\b\b\b\b\b\b\b\b\b\b\b\b\b\b\b\b\b\b\b\b\b\b\b\b\b\b\b\b\b\b\b\b\b\b\b\b\b\b\b\b\b\b\b\b\b\b\b\b\b\b\b\b\b\b\b\b\b\b\b\b\b\b\b\b\b\b\b\b\b\b\b\b\b\b\b\b\b\b\b\b\b\b\b\b\b\b\b\b\b\b\b\b\b\b\b\b\b\b\b\b\b\b\b\b\b\b\b\b\b\b\b\b\b\b\b\b\b\b\b\b\b\b\b\b\b\b\b\b\b\b\b\b\b\b\b\b\b\b\b\b\b\b\b\b\b\b\b\b\b\b\b\b\b\b\b\b\b\r\n",
      " 40/146 [=======>......................] - ETA: 2:34 - batch: 19.5000 - size: 2.0000 - loss: 6.5632 - rpn_class_loss: 1.7518 - rpn_bbox_loss: 3.1489 - mrcnn_class_loss: 0.1816 - mrcnn_bbox_loss: 1.0437 - mrcnn_mask_loss: 0.4372"
     ]
    },
    {
     "name": "stderr",
     "output_type": "stream",
     "text": [
      "/usr/local/lib/python3.8/dist-packages/imgaug/augmenters/base.py:49: SuspiciousSingleImageShapeWarning: You provided a numpy array of shape (1024, 1024, 40) as a single-image augmentation input, which was interpreted as (H, W, C). The last dimension however has a size of >=32, which indicates that you provided a multi-image array with shape (N, H, W) instead. If that is the case, you should use e.g. augmenter(imageS=<your input>) or augment_imageS(<your input>). Otherwise your multi-image input will be interpreted as a single image during augmentation.\n",
      "  ia.warn(\n"
     ]
    },
    {
     "name": "stdout",
     "output_type": "stream",
     "text": [
      " 42/146 [=======>......................] - ETA: 2:30 - batch: 20.5000 - size: 2.0000 - loss: 6.3542 - rpn_class_loss: 1.6834 - rpn_bbox_loss: 3.0442 - mrcnn_class_loss: 0.1779 - mrcnn_bbox_loss: 1.0187 - mrcnn_mask_loss: 0.4300"
     ]
    },
    {
     "name": "stderr",
     "output_type": "stream",
     "text": [
      "/usr/local/lib/python3.8/dist-packages/imgaug/augmenters/base.py:49: SuspiciousSingleImageShapeWarning: You provided a numpy array of shape (1024, 1024, 78) as a single-image augmentation input, which was interpreted as (H, W, C). The last dimension however has a size of >=32, which indicates that you provided a multi-image array with shape (N, H, W) instead. If that is the case, you should use e.g. augmenter(imageS=<your input>) or augment_imageS(<your input>). Otherwise your multi-image input will be interpreted as a single image during augmentation.\n",
      "  ia.warn(\n",
      "/usr/local/lib/python3.8/dist-packages/imgaug/augmenters/base.py:49: SuspiciousSingleImageShapeWarning: You provided a numpy array of shape (1024, 1024, 56) as a single-image augmentation input, which was interpreted as (H, W, C). The last dimension however has a size of >=32, which indicates that you provided a multi-image array with shape (N, H, W) instead. If that is the case, you should use e.g. augmenter(imageS=<your input>) or augment_imageS(<your input>). Otherwise your multi-image input will be interpreted as a single image during augmentation.\n",
      "  ia.warn(\n",
      "/usr/local/lib/python3.8/dist-packages/imgaug/augmenters/base.py:49: SuspiciousSingleImageShapeWarning: You provided a numpy array of shape (1024, 1024, 46) as a single-image augmentation input, which was interpreted as (H, W, C). The last dimension however has a size of >=32, which indicates that you provided a multi-image array with shape (N, H, W) instead. If that is the case, you should use e.g. augmenter(imageS=<your input>) or augment_imageS(<your input>). Otherwise your multi-image input will be interpreted as a single image during augmentation.\n",
      "  ia.warn(\n"
     ]
    },
    {
     "name": "stdout",
     "output_type": "stream",
     "text": [
      "\b\b\b\b\b\b\b\b\b\b\b\b\b\b\b\b\b\b\b\b\b\b\b\b\b\b\b\b\b\b\b\b\b\b\b\b\b\b\b\b\b\b\b\b\b\b\b\b\b\b\b\b\b\b\b\b\b\b\b\b\b\b\b\b\b\b\b\b\b\b\b\b\b\b\b\b\b\b\b\b\b\b\b\b\b\b\b\b\b\b\b\b\b\b\b\b\b\b\b\b\b\b\b\b\b\b\b\b\b\b\b\b\b\b\b\b\b\b\b\b\b\b\b\b\b\b\b\b\b\b\b\b\b\b\b\b\b\b\b\b\b\b\b\b\b\b\b\b\b\b\b\b\b\b\b\b\b\b\b\b\b\b\b\b\b\b\b\b\b\b\b\b\b\b\b\b\b\b\b\b\b\b\b\b\b\b\b\b\b\b\b\b\b\b\b\b\b\b\b\b\b\b\b\b\b\b\b\b\b\b\b\b\b\b\b\b\b\b\b\b\b\b\b\b\b\b\b\r\n",
      " 43/146 [=======>......................] - ETA: 2:34 - batch: 21.0000 - size: 2.0000 - loss: 6.2869 - rpn_class_loss: 1.6585 - rpn_bbox_loss: 2.9989 - mrcnn_class_loss: 0.1833 - mrcnn_bbox_loss: 1.0153 - mrcnn_mask_loss: 0.4309"
     ]
    },
    {
     "name": "stderr",
     "output_type": "stream",
     "text": [
      "/usr/local/lib/python3.8/dist-packages/imgaug/augmenters/base.py:49: SuspiciousSingleImageShapeWarning: You provided a numpy array of shape (1024, 1024, 62) as a single-image augmentation input, which was interpreted as (H, W, C). The last dimension however has a size of >=32, which indicates that you provided a multi-image array with shape (N, H, W) instead. If that is the case, you should use e.g. augmenter(imageS=<your input>) or augment_imageS(<your input>). Otherwise your multi-image input will be interpreted as a single image during augmentation.\n",
      "  ia.warn(\n",
      "/usr/local/lib/python3.8/dist-packages/imgaug/augmenters/base.py:49: SuspiciousSingleImageShapeWarning: You provided a numpy array of shape (1024, 1024, 36) as a single-image augmentation input, which was interpreted as (H, W, C). The last dimension however has a size of >=32, which indicates that you provided a multi-image array with shape (N, H, W) instead. If that is the case, you should use e.g. augmenter(imageS=<your input>) or augment_imageS(<your input>). Otherwise your multi-image input will be interpreted as a single image during augmentation.\n",
      "  ia.warn(\n"
     ]
    },
    {
     "name": "stdout",
     "output_type": "stream",
     "text": [
      "\b\b\b\b\b\b\b\b\b\b\b\b\b\b\b\b\b\b\b\b\b\b\b\b\b\b\b\b\b\b\b\b\b\b\b\b\b\b\b\b\b\b\b\b\b\b\b\b\b\b\b\b\b\b\b\b\b\b\b\b\b\b\b\b\b\b\b\b\b\b\b\b\b\b\b\b\b\b\b\b\b\b\b\b\b\b\b\b\b\b\b\b\b\b\b\b\b\b\b\b\b\b\b\b\b\b\b\b\b\b\b\b\b\b\b\b\b\b\b\b\b\b\b\b\b\b\b\b\b\b\b\b\b\b\b\b\b\b\b\b\b\b\b\b\b\b\b\b\b\b\b\b\b\b\b\b\b\b\b\b\b\b\b\b\b\b\b\b\b\b\b\b\b\b\b\b\b\b\b\b\b\b\b\b\b\b\b\b\b\b\b\b\b\b\b\b\b\b\b\b\b\b\b\b\b\b\b\b\b\b\b\b\b\b\b\b\b\b\b\b\b\b\b\b\b\b\b\r\n",
      " 44/146 [========>.....................] - ETA: 2:36 - batch: 21.5000 - size: 2.0000 - loss: 6.2135 - rpn_class_loss: 1.6331 - rpn_bbox_loss: 2.9494 - mrcnn_class_loss: 0.1889 - mrcnn_bbox_loss: 1.0086 - mrcnn_mask_loss: 0.4336"
     ]
    },
    {
     "name": "stderr",
     "output_type": "stream",
     "text": [
      "/usr/local/lib/python3.8/dist-packages/imgaug/augmenters/base.py:49: SuspiciousSingleImageShapeWarning: You provided a numpy array of shape (1024, 1024, 52) as a single-image augmentation input, which was interpreted as (H, W, C). The last dimension however has a size of >=32, which indicates that you provided a multi-image array with shape (N, H, W) instead. If that is the case, you should use e.g. augmenter(imageS=<your input>) or augment_imageS(<your input>). Otherwise your multi-image input will be interpreted as a single image during augmentation.\n",
      "  ia.warn(\n"
     ]
    },
    {
     "name": "stdout",
     "output_type": "stream",
     "text": [
      "\b\b\b\b\b\b\b\b\b\b\b\b\b\b\b\b\b\b\b\b\b\b\b\b\b\b\b\b\b\b\b\b\b\b\b\b\b\b\b\b\b\b\b\b\b\b\b\b\b\b\b\b\b\b\b\b\b\b\b\b\b\b\b\b\b\b\b\b\b\b\b\b\b\b\b\b\b\b\b\b\b\b\b\b\b\b\b\b\b\b\b\b\b\b\b\b\b\b\b\b\b\b\b\b\b\b\b\b\b\b\b\b\b\b\b\b\b\b\b\b\b\b\b\b\b\b\b\b\b\b\b\b\b\b\b\b\b\b\b\b\b\b\b\b\b\b\b\b\b\b\b\b\b\b\b\b\b\b\b\b\b\b\b\b\b\b\b\b\b\b\b\b\b\b\b\b\b\b\b\b\b\b\b\b\b\b\b\b\b\b\b\b\b\b\b\b\b\b\b\b\b\b\b\b\b\b\b\b\b\b\b\b\b\b\b\b\b\b\b\b\b\b\b\b\b\b\b\r\n",
      " 45/146 [========>.....................] - ETA: 2:35 - batch: 22.0000 - size: 2.0000 - loss: 6.1338 - rpn_class_loss: 1.6083 - rpn_bbox_loss: 2.9029 - mrcnn_class_loss: 0.1888 - mrcnn_bbox_loss: 0.9996 - mrcnn_mask_loss: 0.4343"
     ]
    },
    {
     "name": "stderr",
     "output_type": "stream",
     "text": [
      "/usr/local/lib/python3.8/dist-packages/imgaug/augmenters/base.py:49: SuspiciousSingleImageShapeWarning: You provided a numpy array of shape (1024, 1024, 52) as a single-image augmentation input, which was interpreted as (H, W, C). The last dimension however has a size of >=32, which indicates that you provided a multi-image array with shape (N, H, W) instead. If that is the case, you should use e.g. augmenter(imageS=<your input>) or augment_imageS(<your input>). Otherwise your multi-image input will be interpreted as a single image during augmentation.\n",
      "  ia.warn(\n"
     ]
    },
    {
     "name": "stdout",
     "output_type": "stream",
     "text": [
      " 47/146 [========>.....................] - ETA: 2:33 - batch: 23.0000 - size: 2.0000 - loss: 6.0054 - rpn_class_loss: 1.5604 - rpn_bbox_loss: 2.8252 - mrcnn_class_loss: 0.1930 - mrcnn_bbox_loss: 0.9871 - mrcnn_mask_loss: 0.4398"
     ]
    },
    {
     "name": "stderr",
     "output_type": "stream",
     "text": [
      "/usr/local/lib/python3.8/dist-packages/imgaug/augmenters/base.py:49: SuspiciousSingleImageShapeWarning: You provided a numpy array of shape (1024, 1024, 40) as a single-image augmentation input, which was interpreted as (H, W, C). The last dimension however has a size of >=32, which indicates that you provided a multi-image array with shape (N, H, W) instead. If that is the case, you should use e.g. augmenter(imageS=<your input>) or augment_imageS(<your input>). Otherwise your multi-image input will be interpreted as a single image during augmentation.\n",
      "  ia.warn(\n"
     ]
    },
    {
     "name": "stdout",
     "output_type": "stream",
     "text": [
      "\b\b\b\b\b\b\b\b\b\b\b\b\b\b\b\b\b\b\b\b\b\b\b\b\b\b\b\b\b\b\b\b\b\b\b\b\b\b\b\b\b\b\b\b\b\b\b\b\b\b\b\b\b\b\b\b\b\b\b\b\b\b\b\b\b\b\b\b\b\b\b\b\b\b\b\b\b\b\b\b\b\b\b\b\b\b\b\b\b\b\b\b\b\b\b\b\b\b\b\b\b\b\b\b\b\b\b\b\b\b\b\b\b\b\b\b\b\b\b\b\b\b\b\b\b\b\b\b\b\b\b\b\b\b\b\b\b\b\b\b\b\b\b\b\b\b\b\b\b\b\b\b\b\b\b\b\b\b\b\b\b\b\b\b\b\b\b\b\b\b\b\b\b\b\b\b\b\b\b\b\b\b\b\b\b\b\b\b\b\b\b\b\b\b\b\b\b\b\b\b\b\b\b\b\b\b\b\b\b\b\b\b\b\b\b\b\b\b\b\b\b\b\b\b\b\b\b\r\n",
      " 48/146 [========>.....................] - ETA: 2:32 - batch: 23.5000 - size: 2.0000 - loss: 5.9291 - rpn_class_loss: 1.5338 - rpn_bbox_loss: 2.7782 - mrcnn_class_loss: 0.1958 - mrcnn_bbox_loss: 0.9790 - mrcnn_mask_loss: 0.4424"
     ]
    },
    {
     "name": "stderr",
     "output_type": "stream",
     "text": [
      "/usr/local/lib/python3.8/dist-packages/imgaug/augmenters/base.py:49: SuspiciousSingleImageShapeWarning: You provided a numpy array of shape (1024, 1024, 44) as a single-image augmentation input, which was interpreted as (H, W, C). The last dimension however has a size of >=32, which indicates that you provided a multi-image array with shape (N, H, W) instead. If that is the case, you should use e.g. augmenter(imageS=<your input>) or augment_imageS(<your input>). Otherwise your multi-image input will be interpreted as a single image during augmentation.\n",
      "  ia.warn(\n"
     ]
    },
    {
     "name": "stdout",
     "output_type": "stream",
     "text": [
      "\b\b\b\b\b\b\b\b\b\b\b\b\b\b\b\b\b\b\b\b\b\b\b\b\b\b\b\b\b\b\b\b\b\b\b\b\b\b\b\b\b\b\b\b\b\b\b\b\b\b\b\b\b\b\b\b\b\b\b\b\b\b\b\b\b\b\b\b\b\b\b\b\b\b\b\b\b\b\b\b\b\b\b\b\b\b\b\b\b\b\b\b\b\b\b\b\b\b\b\b\b\b\b\b\b\b\b\b\b\b\b\b\b\b\b\b\b\b\b\b\b\b\b\b\b\b\b\b\b\b\b\b\b\b\b\b\b\b\b\b\b\b\b\b\b\b\b\b\b\b\b\b\b\b\b\b\b\b\b\b\b\b\b\b\b\b\b\b\b\b\b\b\b\b\b\b\b\b\b\b\b\b\b\b\b\b\b\b\b\b\b\b\b\b\b\b\b\b\b\b\b\b\b\b\b\b\b\b\b\b\b\b\b\b\b\b\b\b\b\b\b\b\b\b\b\b\b\r\n",
      " 49/146 [=========>....................] - ETA: 2:30 - batch: 24.0000 - size: 2.0000 - loss: 5.8635 - rpn_class_loss: 1.5108 - rpn_bbox_loss: 2.7356 - mrcnn_class_loss: 0.1998 - mrcnn_bbox_loss: 0.9729 - mrcnn_mask_loss: 0.4444"
     ]
    },
    {
     "name": "stderr",
     "output_type": "stream",
     "text": [
      "/usr/local/lib/python3.8/dist-packages/imgaug/augmenters/base.py:49: SuspiciousSingleImageShapeWarning: You provided a numpy array of shape (1024, 1024, 46) as a single-image augmentation input, which was interpreted as (H, W, C). The last dimension however has a size of >=32, which indicates that you provided a multi-image array with shape (N, H, W) instead. If that is the case, you should use e.g. augmenter(imageS=<your input>) or augment_imageS(<your input>). Otherwise your multi-image input will be interpreted as a single image during augmentation.\n",
      "  ia.warn(\n"
     ]
    },
    {
     "name": "stdout",
     "output_type": "stream",
     "text": [
      "\b\b\b\b\b\b\b\b\b\b\b\b\b\b\b\b\b\b\b\b\b\b\b\b\b\b\b\b\b\b\b\b\b\b\b\b\b\b\b\b\b\b\b\b\b\b\b\b\b\b\b\b\b\b\b\b\b\b\b\b\b\b\b\b\b\b\b\b\b\b\b\b\b\b\b\b\b\b\b\b\b\b\b\b\b\b\b\b\b\b\b\b\b\b\b\b\b\b\b\b\b\b\b\b\b\b\b\b\b\b\b\b\b\b\b\b\b\b\b\b\b\b\b\b\b\b\b\b\b\b\b\b\b\b\b\b\b\b\b\b\b\b\b\b\b\b\b\b\b\b\b\b\b\b\b\b\b\b\b\b\b\b\b\b\b\b\b\b\b\b\b\b\b\b\b\b\b\b\b\b\b\b\b\b\b\b\b\b\b\b\b\b\b\b\b\b\b\b\b\b\b\b\b\b\b\b\b\b\b\b\b\b\b\b\b\b\b\b\b\b\b\b\b\b\b\b\b\r\n",
      " 50/146 [=========>....................] - ETA: 2:29 - batch: 24.5000 - size: 2.0000 - loss: 5.8015 - rpn_class_loss: 1.4861 - rpn_bbox_loss: 2.6955 - mrcnn_class_loss: 0.2074 - mrcnn_bbox_loss: 0.9654 - mrcnn_mask_loss: 0.4471"
     ]
    },
    {
     "name": "stderr",
     "output_type": "stream",
     "text": [
      "/usr/local/lib/python3.8/dist-packages/imgaug/augmenters/base.py:49: SuspiciousSingleImageShapeWarning: You provided a numpy array of shape (1024, 1024, 36) as a single-image augmentation input, which was interpreted as (H, W, C). The last dimension however has a size of >=32, which indicates that you provided a multi-image array with shape (N, H, W) instead. If that is the case, you should use e.g. augmenter(imageS=<your input>) or augment_imageS(<your input>). Otherwise your multi-image input will be interpreted as a single image during augmentation.\n",
      "  ia.warn(\n",
      "/usr/local/lib/python3.8/dist-packages/imgaug/augmenters/base.py:49: SuspiciousSingleImageShapeWarning: You provided a numpy array of shape (1024, 1024, 64) as a single-image augmentation input, which was interpreted as (H, W, C). The last dimension however has a size of >=32, which indicates that you provided a multi-image array with shape (N, H, W) instead. If that is the case, you should use e.g. augmenter(imageS=<your input>) or augment_imageS(<your input>). Otherwise your multi-image input will be interpreted as a single image during augmentation.\n",
      "  ia.warn(\n"
     ]
    },
    {
     "name": "stdout",
     "output_type": "stream",
     "text": [
      "\b\b\b\b\b\b\b\b\b\b\b\b\b\b\b\b\b\b\b\b\b\b\b\b\b\b\b\b\b\b\b\b\b\b\b\b\b\b\b\b\b\b\b\b\b\b\b\b\b\b\b\b\b\b\b\b\b\b\b\b\b\b\b\b\b\b\b\b\b\b\b\b\b\b\b\b\b\b\b\b\b\b\b\b\b\b\b\b\b\b\b\b\b\b\b\b\b\b\b\b\b\b\b\b\b\b\b\b\b\b\b\b\b\b\b\b\b\b\b\b\b\b\b\b\b\b\b\b\b\b\b\b\b\b\b\b\b\b\b\b\b\b\b\b\b\b\b\b\b\b\b\b\b\b\b\b\b\b\b\b\b\b\b\b\b\b\b\b\b\b\b\b\b\b\b\b\b\b\b\b\b\b\b\b\b\b\b\b\b\b\b\b\b\b\b\b\b\b\b\b\b\b\b\b\b\b\b\b\b\b\b\b\b\b\b\b\b\b\b\b\b\b\b\b\b\b\b\r\n",
      " 51/146 [=========>....................] - ETA: 2:27 - batch: 25.0000 - size: 2.0000 - loss: 5.7336 - rpn_class_loss: 1.4622 - rpn_bbox_loss: 2.6532 - mrcnn_class_loss: 0.2118 - mrcnn_bbox_loss: 0.9578 - mrcnn_mask_loss: 0.4485"
     ]
    },
    {
     "name": "stderr",
     "output_type": "stream",
     "text": [
      "/usr/local/lib/python3.8/dist-packages/imgaug/augmenters/base.py:49: SuspiciousSingleImageShapeWarning: You provided a numpy array of shape (1024, 1024, 40) as a single-image augmentation input, which was interpreted as (H, W, C). The last dimension however has a size of >=32, which indicates that you provided a multi-image array with shape (N, H, W) instead. If that is the case, you should use e.g. augmenter(imageS=<your input>) or augment_imageS(<your input>). Otherwise your multi-image input will be interpreted as a single image during augmentation.\n",
      "  ia.warn(\n",
      "/usr/local/lib/python3.8/dist-packages/imgaug/augmenters/base.py:49: SuspiciousSingleImageShapeWarning: You provided a numpy array of shape (1024, 1024, 44) as a single-image augmentation input, which was interpreted as (H, W, C). The last dimension however has a size of >=32, which indicates that you provided a multi-image array with shape (N, H, W) instead. If that is the case, you should use e.g. augmenter(imageS=<your input>) or augment_imageS(<your input>). Otherwise your multi-image input will be interpreted as a single image during augmentation.\n",
      "  ia.warn(\n"
     ]
    },
    {
     "name": "stdout",
     "output_type": "stream",
     "text": [
      "\b\b\b\b\b\b\b\b\b\b\b\b\b\b\b\b\b\b\b\b\b\b\b\b\b\b\b\b\b\b\b\b\b\b\b\b\b\b\b\b\b\b\b\b\b\b\b\b\b\b\b\b\b\b\b\b\b\b\b\b\b\b\b\b\b\b\b\b\b\b\b\b\b\b\b\b\b\b\b\b\b\b\b\b\b\b\b\b\b\b\b\b\b\b\b\b\b\b\b\b\b\b\b\b\b\b\b\b\b\b\b\b\b\b\b\b\b\b\b\b\b\b\b\b\b\b\b\b\b\b\b\b\b\b\b\b\b\b\b\b\b\b\b\b\b\b\b\b\b\b\b\b\b\b\b\b\b\b\b\b\b\b\b\b\b\b\b\b\b\b\b\b\b\b\b\b\b\b\b\b\b\b\b\b\b\b\b\b\b\b\b\b\b\b\b\b\b\b\b\b\b\b\b\b\b\b\b\b\b\b\b\b\b\b\b\b\b\b\b\b\b\b\b\b\b\b\b\r\n",
      " 52/146 [=========>....................] - ETA: 2:28 - batch: 25.5000 - size: 2.0000 - loss: 5.6883 - rpn_class_loss: 1.4428 - rpn_bbox_loss: 2.6269 - mrcnn_class_loss: 0.2151 - mrcnn_bbox_loss: 0.9509 - mrcnn_mask_loss: 0.4526"
     ]
    },
    {
     "name": "stderr",
     "output_type": "stream",
     "text": [
      "/usr/local/lib/python3.8/dist-packages/imgaug/augmenters/base.py:49: SuspiciousSingleImageShapeWarning: You provided a numpy array of shape (1024, 1024, 56) as a single-image augmentation input, which was interpreted as (H, W, C). The last dimension however has a size of >=32, which indicates that you provided a multi-image array with shape (N, H, W) instead. If that is the case, you should use e.g. augmenter(imageS=<your input>) or augment_imageS(<your input>). Otherwise your multi-image input will be interpreted as a single image during augmentation.\n",
      "  ia.warn(\n",
      "/usr/local/lib/python3.8/dist-packages/imgaug/augmenters/base.py:49: SuspiciousSingleImageShapeWarning: You provided a numpy array of shape (1024, 1024, 64) as a single-image augmentation input, which was interpreted as (H, W, C). The last dimension however has a size of >=32, which indicates that you provided a multi-image array with shape (N, H, W) instead. If that is the case, you should use e.g. augmenter(imageS=<your input>) or augment_imageS(<your input>). Otherwise your multi-image input will be interpreted as a single image during augmentation.\n",
      "  ia.warn(\n"
     ]
    },
    {
     "name": "stdout",
     "output_type": "stream",
     "text": [
      " 54/146 [==========>...................] - ETA: 2:28 - batch: 26.5000 - size: 2.0000 - loss: 5.5862 - rpn_class_loss: 1.4037 - rpn_bbox_loss: 2.5607 - mrcnn_class_loss: 0.2260 - mrcnn_bbox_loss: 0.9383 - mrcnn_mask_loss: 0.4575"
     ]
    },
    {
     "name": "stderr",
     "output_type": "stream",
     "text": [
      "/usr/local/lib/python3.8/dist-packages/imgaug/augmenters/base.py:49: SuspiciousSingleImageShapeWarning: You provided a numpy array of shape (1024, 1024, 56) as a single-image augmentation input, which was interpreted as (H, W, C). The last dimension however has a size of >=32, which indicates that you provided a multi-image array with shape (N, H, W) instead. If that is the case, you should use e.g. augmenter(imageS=<your input>) or augment_imageS(<your input>). Otherwise your multi-image input will be interpreted as a single image during augmentation.\n",
      "  ia.warn(\n"
     ]
    },
    {
     "name": "stdout",
     "output_type": "stream",
     "text": [
      "\b\b\b\b\b\b\b\b\b\b\b\b\b\b\b\b\b\b\b\b\b\b\b\b\b\b\b\b\b\b\b\b\b\b\b\b\b\b\b\b\b\b\b\b\b\b\b\b\b\b\b\b\b\b\b\b\b\b\b\b\b\b\b\b\b\b\b\b\b\b\b\b\b\b\b\b\b\b\b\b\b\b\b\b\b\b\b\b\b\b\b\b\b\b\b\b\b\b\b\b\b\b\b\b\b\b\b\b\b\b\b\b\b\b\b\b\b\b\b\b\b\b\b\b\b\b\b\b\b\b\b\b\b\b\b\b\b\b\b\b\b\b\b\b\b\b\b\b\b\b\b\b\b\b\b\b\b\b\b\b\b\b\b\b\b\b\b\b\b\b\b\b\b\b\b\b\b\b\b\b\b\b\b\b\b\b\b\b\b\b\b\b\b\b\b\b\b\b\b\b\b\b\b\b\b\b\b\b\b\b\b\b\b\b\b\b\b\b\b\b\b\b\b\b\b\b\b\r\n",
      " 55/146 [==========>...................] - ETA: 2:27 - batch: 27.0000 - size: 2.0000 - loss: 5.5297 - rpn_class_loss: 1.3834 - rpn_bbox_loss: 2.5230 - mrcnn_class_loss: 0.2313 - mrcnn_bbox_loss: 0.9326 - mrcnn_mask_loss: 0.4593"
     ]
    },
    {
     "name": "stderr",
     "output_type": "stream",
     "text": [
      "/usr/local/lib/python3.8/dist-packages/imgaug/augmenters/base.py:49: SuspiciousSingleImageShapeWarning: You provided a numpy array of shape (1024, 1024, 72) as a single-image augmentation input, which was interpreted as (H, W, C). The last dimension however has a size of >=32, which indicates that you provided a multi-image array with shape (N, H, W) instead. If that is the case, you should use e.g. augmenter(imageS=<your input>) or augment_imageS(<your input>). Otherwise your multi-image input will be interpreted as a single image during augmentation.\n",
      "  ia.warn(\n",
      "/usr/local/lib/python3.8/dist-packages/imgaug/augmenters/base.py:49: SuspiciousSingleImageShapeWarning: You provided a numpy array of shape (1024, 1024, 44) as a single-image augmentation input, which was interpreted as (H, W, C). The last dimension however has a size of >=32, which indicates that you provided a multi-image array with shape (N, H, W) instead. If that is the case, you should use e.g. augmenter(imageS=<your input>) or augment_imageS(<your input>). Otherwise your multi-image input will be interpreted as a single image during augmentation.\n",
      "  ia.warn(\n"
     ]
    },
    {
     "name": "stdout",
     "output_type": "stream",
     "text": [
      "\b\b\b\b\b\b\b\b\b\b\b\b\b\b\b\b\b\b\b\b\b\b\b\b\b\b\b\b\b\b\b\b\b\b\b\b\b\b\b\b\b\b\b\b\b\b\b\b\b\b\b\b\b\b\b\b\b\b\b\b\b\b\b\b\b\b\b\b\b\b\b\b\b\b\b\b\b\b\b\b\b\b\b\b\b\b\b\b\b\b\b\b\b\b\b\b\b\b\b\b\b\b\b\b\b\b\b\b\b\b\b\b\b\b\b\b\b\b\b\b\b\b\b\b\b\b\b\b\b\b\b\b\b\b\b\b\b\b\b\b\b\b\b\b\b\b\b\b\b\b\b\b\b\b\b\b\b\b\b\b\b\b\b\b\b\b\b\b\b\b\b\b\b\b\b\b\b\b\b\b\b\b\b\b\b\b\b\b\b\b\b\b\b\b\b\b\b\b\b\b\b\b\b\b\b\b\b\b\b\b\b\b\b\b\b\b\b\b\b\b\b\b\b\b\b\b\b\r\n",
      " 56/146 [==========>...................] - ETA: 2:27 - batch: 27.5000 - size: 2.0000 - loss: 5.4729 - rpn_class_loss: 1.3644 - rpn_bbox_loss: 2.4878 - mrcnn_class_loss: 0.2330 - mrcnn_bbox_loss: 0.9264 - mrcnn_mask_loss: 0.4613"
     ]
    },
    {
     "name": "stderr",
     "output_type": "stream",
     "text": [
      "/usr/local/lib/python3.8/dist-packages/imgaug/augmenters/base.py:49: SuspiciousSingleImageShapeWarning: You provided a numpy array of shape (1024, 1024, 38) as a single-image augmentation input, which was interpreted as (H, W, C). The last dimension however has a size of >=32, which indicates that you provided a multi-image array with shape (N, H, W) instead. If that is the case, you should use e.g. augmenter(imageS=<your input>) or augment_imageS(<your input>). Otherwise your multi-image input will be interpreted as a single image during augmentation.\n",
      "  ia.warn(\n"
     ]
    },
    {
     "name": "stdout",
     "output_type": "stream",
     "text": [
      " 59/146 [===========>..................] - ETA: 2:22 - batch: 29.0000 - size: 2.0000 - loss: 5.3244 - rpn_class_loss: 1.3063 - rpn_bbox_loss: 2.3942 - mrcnn_class_loss: 0.2490 - mrcnn_bbox_loss: 0.9108 - mrcnn_mask_loss: 0.4642"
     ]
    },
    {
     "name": "stderr",
     "output_type": "stream",
     "text": [
      "/usr/local/lib/python3.8/dist-packages/imgaug/augmenters/base.py:49: SuspiciousSingleImageShapeWarning: You provided a numpy array of shape (1024, 1024, 38) as a single-image augmentation input, which was interpreted as (H, W, C). The last dimension however has a size of >=32, which indicates that you provided a multi-image array with shape (N, H, W) instead. If that is the case, you should use e.g. augmenter(imageS=<your input>) or augment_imageS(<your input>). Otherwise your multi-image input will be interpreted as a single image during augmentation.\n",
      "  ia.warn(\n"
     ]
    },
    {
     "name": "stdout",
     "output_type": "stream",
     "text": [
      " 61/146 [===========>..................] - ETA: 2:17 - batch: 30.0000 - size: 2.0000 - loss: 5.2155 - rpn_class_loss: 1.2691 - rpn_bbox_loss: 2.3308 - mrcnn_class_loss: 0.2502 - mrcnn_bbox_loss: 0.8998 - mrcnn_mask_loss: 0.4655"
     ]
    },
    {
     "name": "stderr",
     "output_type": "stream",
     "text": [
      "/usr/local/lib/python3.8/dist-packages/imgaug/augmenters/base.py:49: SuspiciousSingleImageShapeWarning: You provided a numpy array of shape (1024, 1024, 34) as a single-image augmentation input, which was interpreted as (H, W, C). The last dimension however has a size of >=32, which indicates that you provided a multi-image array with shape (N, H, W) instead. If that is the case, you should use e.g. augmenter(imageS=<your input>) or augment_imageS(<your input>). Otherwise your multi-image input will be interpreted as a single image during augmentation.\n",
      "  ia.warn(\n"
     ]
    },
    {
     "name": "stdout",
     "output_type": "stream",
     "text": [
      "\b\b\b\b\b\b\b\b\b\b\b\b\b\b\b\b\b\b\b\b\b\b\b\b\b\b\b\b\b\b\b\b\b\b\b\b\b\b\b\b\b\b\b\b\b\b\b\b\b\b\b\b\b\b\b\b\b\b\b\b\b\b\b\b\b\b\b\b\b\b\b\b\b\b\b\b\b\b\b\b\b\b\b\b\b\b\b\b\b\b\b\b\b\b\b\b\b\b\b\b\b\b\b\b\b\b\b\b\b\b\b\b\b\b\b\b\b\b\b\b\b\b\b\b\b\b\b\b\b\b\b\b\b\b\b\b\b\b\b\b\b\b\b\b\b\b\b\b\b\b\b\b\b\b\b\b\b\b\b\b\b\b\b\b\b\b\b\b\b\b\b\b\b\b\b\b\b\b\b\b\b\b\b\b\b\b\b\b\b\b\b\b\b\b\b\b\b\b\b\b\b\b\b\b\b\b\b\b\b\b\b\b\b\b\b\b\b\b\b\b\b\b\b\b\b\b\b\r\n",
      " 62/146 [===========>..................] - ETA: 2:15 - batch: 30.5000 - size: 2.0000 - loss: 5.1810 - rpn_class_loss: 1.2524 - rpn_bbox_loss: 2.3124 - mrcnn_class_loss: 0.2511 - mrcnn_bbox_loss: 0.8973 - mrcnn_mask_loss: 0.4677"
     ]
    },
    {
     "name": "stderr",
     "output_type": "stream",
     "text": [
      "/usr/local/lib/python3.8/dist-packages/imgaug/augmenters/base.py:49: SuspiciousSingleImageShapeWarning: You provided a numpy array of shape (1024, 1024, 56) as a single-image augmentation input, which was interpreted as (H, W, C). The last dimension however has a size of >=32, which indicates that you provided a multi-image array with shape (N, H, W) instead. If that is the case, you should use e.g. augmenter(imageS=<your input>) or augment_imageS(<your input>). Otherwise your multi-image input will be interpreted as a single image during augmentation.\n",
      "  ia.warn(\n"
     ]
    },
    {
     "name": "stdout",
     "output_type": "stream",
     "text": [
      "\b\b\b\b\b\b\b\b\b\b\b\b\b\b\b\b\b\b\b\b\b\b\b\b\b\b\b\b\b\b\b\b\b\b\b\b\b\b\b\b\b\b\b\b\b\b\b\b\b\b\b\b\b\b\b\b\b\b\b\b\b\b\b\b\b\b\b\b\b\b\b\b\b\b\b\b\b\b\b\b\b\b\b\b\b\b\b\b\b\b\b\b\b\b\b\b\b\b\b\b\b\b\b\b\b\b\b\b\b\b\b\b\b\b\b\b\b\b\b\b\b\b\b\b\b\b\b\b\b\b\b\b\b\b\b\b\b\b\b\b\b\b\b\b\b\b\b\b\b\b\b\b\b\b\b\b\b\b\b\b\b\b\b\b\b\b\b\b\b\b\b\b\b\b\b\b\b\b\b\b\b\b\b\b\b\b\b\b\b\b\b\b\b\b\b\b\b\b\b\b\b\b\b\b\b\b\b\b\b\b\b\b\b\b\b\b\b\b\b\b\b\b\b\b\b\b\b\r\n",
      " 63/146 [===========>..................] - ETA: 2:13 - batch: 31.0000 - size: 2.0000 - loss: 5.1377 - rpn_class_loss: 1.2355 - rpn_bbox_loss: 2.2881 - mrcnn_class_loss: 0.2523 - mrcnn_bbox_loss: 0.8929 - mrcnn_mask_loss: 0.4689"
     ]
    },
    {
     "name": "stderr",
     "output_type": "stream",
     "text": [
      "/usr/local/lib/python3.8/dist-packages/imgaug/augmenters/base.py:49: SuspiciousSingleImageShapeWarning: You provided a numpy array of shape (1024, 1024, 44) as a single-image augmentation input, which was interpreted as (H, W, C). The last dimension however has a size of >=32, which indicates that you provided a multi-image array with shape (N, H, W) instead. If that is the case, you should use e.g. augmenter(imageS=<your input>) or augment_imageS(<your input>). Otherwise your multi-image input will be interpreted as a single image during augmentation.\n",
      "  ia.warn(\n"
     ]
    },
    {
     "name": "stdout",
     "output_type": "stream",
     "text": [
      "\b\b\b\b\b\b\b\b\b\b\b\b\b\b\b\b\b\b\b\b\b\b\b\b\b\b\b\b\b\b\b\b\b\b\b\b\b\b\b\b\b\b\b\b\b\b\b\b\b\b\b\b\b\b\b\b\b\b\b\b\b\b\b\b\b\b\b\b\b\b\b\b\b\b\b\b\b\b\b\b\b\b\b\b\b\b\b\b\b\b\b\b\b\b\b\b\b\b\b\b\b\b\b\b\b\b\b\b\b\b\b\b\b\b\b\b\b\b\b\b\b\b\b\b\b\b\b\b\b\b\b\b\b\b\b\b\b\b\b\b\b\b\b\b\b\b\b\b\b\b\b\b\b\b\b\b\b\b\b\b\b\b\b\b\b\b\b\b\b\b\b\b\b\b\b\b\b\b\b\b\b\b\b\b\b\b\b\b\b\b\b\b\b\b\b\b\b\b\b\b\b\b\b\b\b\b\b\b\b\b\b\b\b\b\b\b\b\b\b\b\b\b\b\b\b\b\b\r\n",
      " 64/146 [============>.................] - ETA: 2:13 - batch: 31.5000 - size: 2.0000 - loss: 5.1018 - rpn_class_loss: 1.2247 - rpn_bbox_loss: 2.2634 - mrcnn_class_loss: 0.2564 - mrcnn_bbox_loss: 0.8869 - mrcnn_mask_loss: 0.4703"
     ]
    },
    {
     "name": "stderr",
     "output_type": "stream",
     "text": [
      "/usr/local/lib/python3.8/dist-packages/imgaug/augmenters/base.py:49: SuspiciousSingleImageShapeWarning: You provided a numpy array of shape (1024, 1024, 78) as a single-image augmentation input, which was interpreted as (H, W, C). The last dimension however has a size of >=32, which indicates that you provided a multi-image array with shape (N, H, W) instead. If that is the case, you should use e.g. augmenter(imageS=<your input>) or augment_imageS(<your input>). Otherwise your multi-image input will be interpreted as a single image during augmentation.\n",
      "  ia.warn(\n",
      "/usr/local/lib/python3.8/dist-packages/imgaug/augmenters/base.py:49: SuspiciousSingleImageShapeWarning: You provided a numpy array of shape (1024, 1024, 72) as a single-image augmentation input, which was interpreted as (H, W, C). The last dimension however has a size of >=32, which indicates that you provided a multi-image array with shape (N, H, W) instead. If that is the case, you should use e.g. augmenter(imageS=<your input>) or augment_imageS(<your input>). Otherwise your multi-image input will be interpreted as a single image during augmentation.\n",
      "  ia.warn(\n"
     ]
    },
    {
     "name": "stdout",
     "output_type": "stream",
     "text": [
      "\b\b\b\b\b\b\b\b\b\b\b\b\b\b\b\b\b\b\b\b\b\b\b\b\b\b\b\b\b\b\b\b\b\b\b\b\b\b\b\b\b\b\b\b\b\b\b\b\b\b\b\b\b\b\b\b\b\b\b\b\b\b\b\b\b\b\b\b\b\b\b\b\b\b\b\b\b\b\b\b\b\b\b\b\b\b\b\b\b\b\b\b\b\b\b\b\b\b\b\b\b\b\b\b\b\b\b\b\b\b\b\b\b\b\b\b\b\b\b\b\b\b\b\b\b\b\b\b\b\b\b\b\b\b\b\b\b\b\b\b\b\b\b\b\b\b\b\b\b\b\b\b\b\b\b\b\b\b\b\b\b\b\b\b\b\b\b\b\b\b\b\b\b\b\b\b\b\b\b\b\b\b\b\b\b\b\b\b\b\b\b\b\b\b\b\b\b\b\b\b\b\b\b\b\b\b\b\b\b\b\b\b\b\b\b\b\b\b\b\b\b\b\b\b\b\b\b\r\n",
      " 65/146 [============>.................] - ETA: 2:14 - batch: 32.0000 - size: 2.0000 - loss: 5.0677 - rpn_class_loss: 1.2144 - rpn_bbox_loss: 2.2423 - mrcnn_class_loss: 0.2574 - mrcnn_bbox_loss: 0.8818 - mrcnn_mask_loss: 0.4717"
     ]
    },
    {
     "name": "stderr",
     "output_type": "stream",
     "text": [
      "/usr/local/lib/python3.8/dist-packages/imgaug/augmenters/base.py:49: SuspiciousSingleImageShapeWarning: You provided a numpy array of shape (1024, 1024, 38) as a single-image augmentation input, which was interpreted as (H, W, C). The last dimension however has a size of >=32, which indicates that you provided a multi-image array with shape (N, H, W) instead. If that is the case, you should use e.g. augmenter(imageS=<your input>) or augment_imageS(<your input>). Otherwise your multi-image input will be interpreted as a single image during augmentation.\n",
      "  ia.warn(\n",
      "/usr/local/lib/python3.8/dist-packages/imgaug/augmenters/base.py:49: SuspiciousSingleImageShapeWarning: You provided a numpy array of shape (1024, 1024, 38) as a single-image augmentation input, which was interpreted as (H, W, C). The last dimension however has a size of >=32, which indicates that you provided a multi-image array with shape (N, H, W) instead. If that is the case, you should use e.g. augmenter(imageS=<your input>) or augment_imageS(<your input>). Otherwise your multi-image input will be interpreted as a single image during augmentation.\n",
      "  ia.warn(\n"
     ]
    },
    {
     "name": "stdout",
     "output_type": "stream",
     "text": [
      "\b\b\b\b\b\b\b\b\b\b\b\b\b\b\b\b\b\b\b\b\b\b\b\b\b\b\b\b\b\b\b\b\b\b\b\b\b\b\b\b\b\b\b\b\b\b\b\b\b\b\b\b\b\b\b\b\b\b\b\b\b\b\b\b\b\b\b\b\b\b\b\b\b\b\b\b\b\b\b\b\b\b\b\b\b\b\b\b\b\b\b\b\b\b\b\b\b\b\b\b\b\b\b\b\b\b\b\b\b\b\b\b\b\b\b\b\b\b\b\b\b\b\b\b\b\b\b\b\b\b\b\b\b\b\b\b\b\b\b\b\b\b\b\b\b\b\b\b\b\b\b\b\b\b\b\b\b\b\b\b\b\b\b\b\b\b\b\b\b\b\b\b\b\b\b\b\b\b\b\b\b\b\b\b\b\b\b\b\b\b\b\b\b\b\b\b\b\b\b\b\b\b\b\b\b\b\b\b\b\b\b\b\b\b\b\b\b\b\b\b\b\b\b\b\b\b\b\r\n",
      " 66/146 [============>.................] - ETA: 2:13 - batch: 32.5000 - size: 2.0000 - loss: 5.0268 - rpn_class_loss: 1.2011 - rpn_bbox_loss: 2.2173 - mrcnn_class_loss: 0.2582 - mrcnn_bbox_loss: 0.8797 - mrcnn_mask_loss: 0.4705"
     ]
    },
    {
     "name": "stderr",
     "output_type": "stream",
     "text": [
      "/usr/local/lib/python3.8/dist-packages/imgaug/augmenters/base.py:49: SuspiciousSingleImageShapeWarning: You provided a numpy array of shape (1024, 1024, 58) as a single-image augmentation input, which was interpreted as (H, W, C). The last dimension however has a size of >=32, which indicates that you provided a multi-image array with shape (N, H, W) instead. If that is the case, you should use e.g. augmenter(imageS=<your input>) or augment_imageS(<your input>). Otherwise your multi-image input will be interpreted as a single image during augmentation.\n",
      "  ia.warn(\n",
      "/usr/local/lib/python3.8/dist-packages/imgaug/augmenters/base.py:49: SuspiciousSingleImageShapeWarning: You provided a numpy array of shape (1024, 1024, 36) as a single-image augmentation input, which was interpreted as (H, W, C). The last dimension however has a size of >=32, which indicates that you provided a multi-image array with shape (N, H, W) instead. If that is the case, you should use e.g. augmenter(imageS=<your input>) or augment_imageS(<your input>). Otherwise your multi-image input will be interpreted as a single image during augmentation.\n",
      "  ia.warn(\n"
     ]
    },
    {
     "name": "stdout",
     "output_type": "stream",
     "text": [
      " 68/146 [============>.................] - ETA: 2:10 - batch: 33.5000 - size: 2.0000 - loss: 4.9468 - rpn_class_loss: 1.1748 - rpn_bbox_loss: 2.1669 - mrcnn_class_loss: 0.2642 - mrcnn_bbox_loss: 0.8718 - mrcnn_mask_loss: 0.4691"
     ]
    },
    {
     "name": "stderr",
     "output_type": "stream",
     "text": [
      "/usr/local/lib/python3.8/dist-packages/imgaug/augmenters/base.py:49: SuspiciousSingleImageShapeWarning: You provided a numpy array of shape (1024, 1024, 114) as a single-image augmentation input, which was interpreted as (H, W, C). The last dimension however has a size of >=32, which indicates that you provided a multi-image array with shape (N, H, W) instead. If that is the case, you should use e.g. augmenter(imageS=<your input>) or augment_imageS(<your input>). Otherwise your multi-image input will be interpreted as a single image during augmentation.\n",
      "  ia.warn(\n"
     ]
    },
    {
     "name": "stdout",
     "output_type": "stream",
     "text": [
      "\b\b\b\b\b\b\b\b\b\b\b\b\b\b\b\b\b\b\b\b\b\b\b\b\b\b\b\b\b\b\b\b\b\b\b\b\b\b\b\b\b\b\b\b\b\b\b\b\b\b\b\b\b\b\b\b\b\b\b\b\b\b\b\b\b\b\b\b\b\b\b\b\b\b\b\b\b\b\b\b\b\b\b\b\b\b\b\b\b\b\b\b\b\b\b\b\b\b\b\b\b\b\b\b\b\b\b\b\b\b\b\b\b\b\b\b\b\b\b\b\b\b\b\b\b\b\b\b\b\b\b\b\b\b\b\b\b\b\b\b\b\b\b\b\b\b\b\b\b\b\b\b\b\b\b\b\b\b\b\b\b\b\b\b\b\b\b\b\b\b\b\b\b\b\b\b\b\b\b\b\b\b\b\b\b\b\b\b\b\b\b\b\b\b\b\b\b\b\b\b\b\b\b\b\b\b\b\b\b\b\b\b\b\b\b\b\b\b\b\b\b\b\b\b\b\b\b\r\n",
      " 69/146 [=============>................] - ETA: 2:10 - batch: 34.0000 - size: 2.0000 - loss: 4.9229 - rpn_class_loss: 1.1645 - rpn_bbox_loss: 2.1525 - mrcnn_class_loss: 0.2642 - mrcnn_bbox_loss: 0.8705 - mrcnn_mask_loss: 0.4712"
     ]
    },
    {
     "name": "stderr",
     "output_type": "stream",
     "text": [
      "/usr/local/lib/python3.8/dist-packages/imgaug/augmenters/base.py:49: SuspiciousSingleImageShapeWarning: You provided a numpy array of shape (1024, 1024, 120) as a single-image augmentation input, which was interpreted as (H, W, C). The last dimension however has a size of >=32, which indicates that you provided a multi-image array with shape (N, H, W) instead. If that is the case, you should use e.g. augmenter(imageS=<your input>) or augment_imageS(<your input>). Otherwise your multi-image input will be interpreted as a single image during augmentation.\n",
      "  ia.warn(\n",
      "/usr/local/lib/python3.8/dist-packages/imgaug/augmenters/base.py:49: SuspiciousSingleImageShapeWarning: You provided a numpy array of shape (1024, 1024, 44) as a single-image augmentation input, which was interpreted as (H, W, C). The last dimension however has a size of >=32, which indicates that you provided a multi-image array with shape (N, H, W) instead. If that is the case, you should use e.g. augmenter(imageS=<your input>) or augment_imageS(<your input>). Otherwise your multi-image input will be interpreted as a single image during augmentation.\n",
      "  ia.warn(\n",
      "/usr/local/lib/python3.8/dist-packages/imgaug/augmenters/base.py:49: SuspiciousSingleImageShapeWarning: You provided a numpy array of shape (1024, 1024, 38) as a single-image augmentation input, which was interpreted as (H, W, C). The last dimension however has a size of >=32, which indicates that you provided a multi-image array with shape (N, H, W) instead. If that is the case, you should use e.g. augmenter(imageS=<your input>) or augment_imageS(<your input>). Otherwise your multi-image input will be interpreted as a single image during augmentation.\n",
      "  ia.warn(\n"
     ]
    },
    {
     "name": "stdout",
     "output_type": "stream",
     "text": [
      "\b\b\b\b\b\b\b\b\b\b\b\b\b\b\b\b\b\b\b\b\b\b\b\b\b\b\b\b\b\b\b\b\b\b\b\b\b\b\b\b\b\b\b\b\b\b\b\b\b\b\b\b\b\b\b\b\b\b\b\b\b\b\b\b\b\b\b\b\b\b\b\b\b\b\b\b\b\b\b\b\b\b\b\b\b\b\b\b\b\b\b\b\b\b\b\b\b\b\b\b\b\b\b\b\b\b\b\b\b\b\b\b\b\b\b\b\b\b\b\b\b\b\b\b\b\b\b\b\b\b\b\b\b\b\b\b\b\b\b\b\b\b\b\b\b\b\b\b\b\b\b\b\b\b\b\b\b\b\b\b\b\b\b\b\b\b\b\b\b\b\b\b\b\b\b\b\b\b\b\b\b\b\b\b\b\b\b\b\b\b\b\b\b\b\b\b\b\b\b\b\b\b\b\b\b\b\b\b\b\b\b\b\b\b\b\b\b\b\b\b\b\b\b\b\b\b\b\r\n",
      " 70/146 [=============>................] - ETA: 2:11 - batch: 34.5000 - size: 2.0000 - loss: 4.9007 - rpn_class_loss: 1.1545 - rpn_bbox_loss: 2.1389 - mrcnn_class_loss: 0.2673 - mrcnn_bbox_loss: 0.8671 - mrcnn_mask_loss: 0.4728"
     ]
    },
    {
     "name": "stderr",
     "output_type": "stream",
     "text": [
      "/usr/local/lib/python3.8/dist-packages/imgaug/augmenters/base.py:49: SuspiciousSingleImageShapeWarning: You provided a numpy array of shape (1024, 1024, 44) as a single-image augmentation input, which was interpreted as (H, W, C). The last dimension however has a size of >=32, which indicates that you provided a multi-image array with shape (N, H, W) instead. If that is the case, you should use e.g. augmenter(imageS=<your input>) or augment_imageS(<your input>). Otherwise your multi-image input will be interpreted as a single image during augmentation.\n",
      "  ia.warn(\n",
      "/usr/local/lib/python3.8/dist-packages/imgaug/augmenters/base.py:49: SuspiciousSingleImageShapeWarning: You provided a numpy array of shape (1024, 1024, 62) as a single-image augmentation input, which was interpreted as (H, W, C). The last dimension however has a size of >=32, which indicates that you provided a multi-image array with shape (N, H, W) instead. If that is the case, you should use e.g. augmenter(imageS=<your input>) or augment_imageS(<your input>). Otherwise your multi-image input will be interpreted as a single image during augmentation.\n",
      "  ia.warn(\n"
     ]
    },
    {
     "name": "stdout",
     "output_type": "stream",
     "text": [
      "\b\b\b\b\b\b\b\b\b\b\b\b\b\b\b\b\b\b\b\b\b\b\b\b\b\b\b\b\b\b\b\b\b\b\b\b\b\b\b\b\b\b\b\b\b\b\b\b\b\b\b\b\b\b\b\b\b\b\b\b\b\b\b\b\b\b\b\b\b\b\b\b\b\b\b\b\b\b\b\b\b\b\b\b\b\b\b\b\b\b\b\b\b\b\b\b\b\b\b\b\b\b\b\b\b\b\b\b\b\b\b\b\b\b\b\b\b\b\b\b\b\b\b\b\b\b\b\b\b\b\b\b\b\b\b\b\b\b\b\b\b\b\b\b\b\b\b\b\b\b\b\b\b\b\b\b\b\b\b\b\b\b\b\b\b\b\b\b\b\b\b\b\b\b\b\b\b\b\b\b\b\b\b\b\b\b\b\b\b\b\b\b\b\b\b\b\b\b\b\b\b\b\b\b\b\b\b\b\b\b\b\b\b\b\b\b\b\b\b\b\b\b\b\b\b\b\b\r\n",
      " 71/146 [=============>................] - ETA: 2:10 - batch: 35.0000 - size: 2.0000 - loss: 4.8749 - rpn_class_loss: 1.1437 - rpn_bbox_loss: 2.1194 - mrcnn_class_loss: 0.2729 - mrcnn_bbox_loss: 0.8653 - mrcnn_mask_loss: 0.4736"
     ]
    },
    {
     "name": "stderr",
     "output_type": "stream",
     "text": [
      "/usr/local/lib/python3.8/dist-packages/imgaug/augmenters/base.py:49: SuspiciousSingleImageShapeWarning: You provided a numpy array of shape (1024, 1024, 38) as a single-image augmentation input, which was interpreted as (H, W, C). The last dimension however has a size of >=32, which indicates that you provided a multi-image array with shape (N, H, W) instead. If that is the case, you should use e.g. augmenter(imageS=<your input>) or augment_imageS(<your input>). Otherwise your multi-image input will be interpreted as a single image during augmentation.\n",
      "  ia.warn(\n",
      "/usr/local/lib/python3.8/dist-packages/imgaug/augmenters/base.py:49: SuspiciousSingleImageShapeWarning: You provided a numpy array of shape (1024, 1024, 34) as a single-image augmentation input, which was interpreted as (H, W, C). The last dimension however has a size of >=32, which indicates that you provided a multi-image array with shape (N, H, W) instead. If that is the case, you should use e.g. augmenter(imageS=<your input>) or augment_imageS(<your input>). Otherwise your multi-image input will be interpreted as a single image during augmentation.\n",
      "  ia.warn(\n"
     ]
    },
    {
     "name": "stdout",
     "output_type": "stream",
     "text": [
      "\b\b\b\b\b\b\b\b\b\b\b\b\b\b\b\b\b\b\b\b\b\b\b\b\b\b\b\b\b\b\b\b\b\b\b\b\b\b\b\b\b\b\b\b\b\b\b\b\b\b\b\b\b\b\b\b\b\b\b\b\b\b\b\b\b\b\b\b\b\b\b\b\b\b\b\b\b\b\b\b\b\b\b\b\b\b\b\b\b\b\b\b\b\b\b\b\b\b\b\b\b\b\b\b\b\b\b\b\b\b\b\b\b\b\b\b\b\b\b\b\b\b\b\b\b\b\b\b\b\b\b\b\b\b\b\b\b\b\b\b\b\b\b\b\b\b\b\b\b\b\b\b\b\b\b\b\b\b\b\b\b\b\b\b\b\b\b\b\b\b\b\b\b\b\b\b\b\b\b\b\b\b\b\b\b\b\b\b\b\b\b\b\b\b\b\b\b\b\b\b\b\b\b\b\b\b\b\b\b\b\b\b\b\b\b\b\b\b\b\b\b\b\b\b\b\b\b\r\n",
      " 72/146 [=============>................] - ETA: 2:09 - batch: 35.5000 - size: 2.0000 - loss: 4.8427 - rpn_class_loss: 1.1363 - rpn_bbox_loss: 2.0984 - mrcnn_class_loss: 0.2721 - mrcnn_bbox_loss: 0.8612 - mrcnn_mask_loss: 0.4746"
     ]
    },
    {
     "name": "stderr",
     "output_type": "stream",
     "text": [
      "/usr/local/lib/python3.8/dist-packages/imgaug/augmenters/base.py:49: SuspiciousSingleImageShapeWarning: You provided a numpy array of shape (1024, 1024, 72) as a single-image augmentation input, which was interpreted as (H, W, C). The last dimension however has a size of >=32, which indicates that you provided a multi-image array with shape (N, H, W) instead. If that is the case, you should use e.g. augmenter(imageS=<your input>) or augment_imageS(<your input>). Otherwise your multi-image input will be interpreted as a single image during augmentation.\n",
      "  ia.warn(\n"
     ]
    },
    {
     "name": "stdout",
     "output_type": "stream",
     "text": [
      "\b\b\b\b\b\b\b\b\b\b\b\b\b\b\b\b\b\b\b\b\b\b\b\b\b\b\b\b\b\b\b\b\b\b\b\b\b\b\b\b\b\b\b\b\b\b\b\b\b\b\b\b\b\b\b\b\b\b\b\b\b\b\b\b\b\b\b\b\b\b\b\b\b\b\b\b\b\b\b\b\b\b\b\b\b\b\b\b\b\b\b\b\b\b\b\b\b\b\b\b\b\b\b\b\b\b\b\b\b\b\b\b\b\b\b\b\b\b\b\b\b\b\b\b\b\b\b\b\b\b\b\b\b\b\b\b\b\b\b\b\b\b\b\b\b\b\b\b\b\b\b\b\b\b\b\b\b\b\b\b\b\b\b\b\b\b\b\b\b\b\b\b\b\b\b\b\b\b\b\b\b\b\b\b\b\b\b\b\b\b\b\b\b\b\b\b\b\b\b\b\b\b\b\b\b\b\b\b\b\b\b\b\b\b\b\b\b\b\b\b\b\b\b\b\b\b\b\r\n",
      " 73/146 [==============>...............] - ETA: 2:08 - batch: 36.0000 - size: 2.0000 - loss: 4.8115 - rpn_class_loss: 1.1258 - rpn_bbox_loss: 2.0788 - mrcnn_class_loss: 0.2738 - mrcnn_bbox_loss: 0.8579 - mrcnn_mask_loss: 0.4752"
     ]
    },
    {
     "name": "stderr",
     "output_type": "stream",
     "text": [
      "/usr/local/lib/python3.8/dist-packages/imgaug/augmenters/base.py:49: SuspiciousSingleImageShapeWarning: You provided a numpy array of shape (1024, 1024, 64) as a single-image augmentation input, which was interpreted as (H, W, C). The last dimension however has a size of >=32, which indicates that you provided a multi-image array with shape (N, H, W) instead. If that is the case, you should use e.g. augmenter(imageS=<your input>) or augment_imageS(<your input>). Otherwise your multi-image input will be interpreted as a single image during augmentation.\n",
      "  ia.warn(\n",
      "/usr/local/lib/python3.8/dist-packages/imgaug/augmenters/base.py:49: SuspiciousSingleImageShapeWarning: You provided a numpy array of shape (1024, 1024, 52) as a single-image augmentation input, which was interpreted as (H, W, C). The last dimension however has a size of >=32, which indicates that you provided a multi-image array with shape (N, H, W) instead. If that is the case, you should use e.g. augmenter(imageS=<your input>) or augment_imageS(<your input>). Otherwise your multi-image input will be interpreted as a single image during augmentation.\n",
      "  ia.warn(\n"
     ]
    },
    {
     "name": "stdout",
     "output_type": "stream",
     "text": [
      "\b\b\b\b\b\b\b\b\b\b\b\b\b\b\b\b\b\b\b\b\b\b\b\b\b\b\b\b\b\b\b\b\b\b\b\b\b\b\b\b\b\b\b\b\b\b\b\b\b\b\b\b\b\b\b\b\b\b\b\b\b\b\b\b\b\b\b\b\b\b\b\b\b\b\b\b\b\b\b\b\b\b\b\b\b\b\b\b\b\b\b\b\b\b\b\b\b\b\b\b\b\b\b\b\b\b\b\b\b\b\b\b\b\b\b\b\b\b\b\b\b\b\b\b\b\b\b\b\b\b\b\b\b\b\b\b\b\b\b\b\b\b\b\b\b\b\b\b\b\b\b\b\b\b\b\b\b\b\b\b\b\b\b\b\b\b\b\b\b\b\b\b\b\b\b\b\b\b\b\b\b\b\b\b\b\b\b\b\b\b\b\b\b\b\b\b\b\b\b\b\b\b\b\b\b\b\b\b\b\b\b\b\b\b\b\b\b\b\b\b\b\b\b\b\b\b\b\r\n",
      " 74/146 [==============>...............] - ETA: 2:07 - batch: 36.5000 - size: 2.0000 - loss: 4.7801 - rpn_class_loss: 1.1143 - rpn_bbox_loss: 2.0615 - mrcnn_class_loss: 0.2743 - mrcnn_bbox_loss: 0.8543 - mrcnn_mask_loss: 0.4757"
     ]
    },
    {
     "name": "stderr",
     "output_type": "stream",
     "text": [
      "/usr/local/lib/python3.8/dist-packages/imgaug/augmenters/base.py:49: SuspiciousSingleImageShapeWarning: You provided a numpy array of shape (1024, 1024, 58) as a single-image augmentation input, which was interpreted as (H, W, C). The last dimension however has a size of >=32, which indicates that you provided a multi-image array with shape (N, H, W) instead. If that is the case, you should use e.g. augmenter(imageS=<your input>) or augment_imageS(<your input>). Otherwise your multi-image input will be interpreted as a single image during augmentation.\n",
      "  ia.warn(\n"
     ]
    },
    {
     "name": "stdout",
     "output_type": "stream",
     "text": [
      "\b\b\b\b\b\b\b\b\b\b\b\b\b\b\b\b\b\b\b\b\b\b\b\b\b\b\b\b\b\b\b\b\b\b\b\b\b\b\b\b\b\b\b\b\b\b\b\b\b\b\b\b\b\b\b\b\b\b\b\b\b\b\b\b\b\b\b\b\b\b\b\b\b\b\b\b\b\b\b\b\b\b\b\b\b\b\b\b\b\b\b\b\b\b\b\b\b\b\b\b\b\b\b\b\b\b\b\b\b\b\b\b\b\b\b\b\b\b\b\b\b\b\b\b\b\b\b\b\b\b\b\b\b\b\b\b\b\b\b\b\b\b\b\b\b\b\b\b\b\b\b\b\b\b\b\b\b\b\b\b\b\b\b\b\b\b\b\b\b\b\b\b\b\b\b\b\b\b\b\b\b\b\b\b\b\b\b\b\b\b\b\b\b\b\b\b\b\b\b\b\b\b\b\b\b\b\b\b\b\b\b\b\b\b\b\b\b\b\b\b\b\b\b\b\b\b\b\r\n",
      " 75/146 [==============>...............] - ETA: 2:05 - batch: 37.0000 - size: 2.0000 - loss: 4.7470 - rpn_class_loss: 1.1025 - rpn_bbox_loss: 2.0421 - mrcnn_class_loss: 0.2752 - mrcnn_bbox_loss: 0.8515 - mrcnn_mask_loss: 0.4756"
     ]
    },
    {
     "name": "stderr",
     "output_type": "stream",
     "text": [
      "/usr/local/lib/python3.8/dist-packages/imgaug/augmenters/base.py:49: SuspiciousSingleImageShapeWarning: You provided a numpy array of shape (1024, 1024, 36) as a single-image augmentation input, which was interpreted as (H, W, C). The last dimension however has a size of >=32, which indicates that you provided a multi-image array with shape (N, H, W) instead. If that is the case, you should use e.g. augmenter(imageS=<your input>) or augment_imageS(<your input>). Otherwise your multi-image input will be interpreted as a single image during augmentation.\n",
      "  ia.warn(\n",
      "/usr/local/lib/python3.8/dist-packages/imgaug/augmenters/base.py:49: SuspiciousSingleImageShapeWarning: You provided a numpy array of shape (1024, 1024, 44) as a single-image augmentation input, which was interpreted as (H, W, C). The last dimension however has a size of >=32, which indicates that you provided a multi-image array with shape (N, H, W) instead. If that is the case, you should use e.g. augmenter(imageS=<your input>) or augment_imageS(<your input>). Otherwise your multi-image input will be interpreted as a single image during augmentation.\n",
      "  ia.warn(\n"
     ]
    },
    {
     "name": "stdout",
     "output_type": "stream",
     "text": [
      "\b\b\b\b\b\b\b\b\b\b\b\b\b\b\b\b\b\b\b\b\b\b\b\b\b\b\b\b\b\b\b\b\b\b\b\b\b\b\b\b\b\b\b\b\b\b\b\b\b\b\b\b\b\b\b\b\b\b\b\b\b\b\b\b\b\b\b\b\b\b\b\b\b\b\b\b\b\b\b\b\b\b\b\b\b\b\b\b\b\b\b\b\b\b\b\b\b\b\b\b\b\b\b\b\b\b\b\b\b\b\b\b\b\b\b\b\b\b\b\b\b\b\b\b\b\b\b\b\b\b\b\b\b\b\b\b\b\b\b\b\b\b\b\b\b\b\b\b\b\b\b\b\b\b\b\b\b\b\b\b\b\b\b\b\b\b\b\b\b\b\b\b\b\b\b\b\b\b\b\b\b\b\b\b\b\b\b\b\b\b\b\b\b\b\b\b\b\b\b\b\b\b\b\b\b\b\b\b\b\b\b\b\b\b\b\b\b\b\b\b\b\b\b\b\b\b\b\r\n",
      " 76/146 [==============>...............] - ETA: 2:04 - batch: 37.5000 - size: 2.0000 - loss: 4.7146 - rpn_class_loss: 1.0913 - rpn_bbox_loss: 2.0233 - mrcnn_class_loss: 0.2764 - mrcnn_bbox_loss: 0.8475 - mrcnn_mask_loss: 0.4760"
     ]
    },
    {
     "name": "stderr",
     "output_type": "stream",
     "text": [
      "/usr/local/lib/python3.8/dist-packages/imgaug/augmenters/base.py:49: SuspiciousSingleImageShapeWarning: You provided a numpy array of shape (1024, 1024, 40) as a single-image augmentation input, which was interpreted as (H, W, C). The last dimension however has a size of >=32, which indicates that you provided a multi-image array with shape (N, H, W) instead. If that is the case, you should use e.g. augmenter(imageS=<your input>) or augment_imageS(<your input>). Otherwise your multi-image input will be interpreted as a single image during augmentation.\n",
      "  ia.warn(\n"
     ]
    },
    {
     "name": "stdout",
     "output_type": "stream",
     "text": [
      " 78/146 [===============>..............] - ETA: 2:00 - batch: 38.5000 - size: 2.0000 - loss: 4.6492 - rpn_class_loss: 1.0710 - rpn_bbox_loss: 1.9862 - mrcnn_class_loss: 0.2769 - mrcnn_bbox_loss: 0.8379 - mrcnn_mask_loss: 0.4771"
     ]
    },
    {
     "name": "stderr",
     "output_type": "stream",
     "text": [
      "/usr/local/lib/python3.8/dist-packages/imgaug/augmenters/base.py:49: SuspiciousSingleImageShapeWarning: You provided a numpy array of shape (1024, 1024, 50) as a single-image augmentation input, which was interpreted as (H, W, C). The last dimension however has a size of >=32, which indicates that you provided a multi-image array with shape (N, H, W) instead. If that is the case, you should use e.g. augmenter(imageS=<your input>) or augment_imageS(<your input>). Otherwise your multi-image input will be interpreted as a single image during augmentation.\n",
      "  ia.warn(\n"
     ]
    },
    {
     "name": "stdout",
     "output_type": "stream",
     "text": [
      "\b\b\b\b\b\b\b\b\b\b\b\b\b\b\b\b\b\b\b\b\b\b\b\b\b\b\b\b\b\b\b\b\b\b\b\b\b\b\b\b\b\b\b\b\b\b\b\b\b\b\b\b\b\b\b\b\b\b\b\b\b\b\b\b\b\b\b\b\b\b\b\b\b\b\b\b\b\b\b\b\b\b\b\b\b\b\b\b\b\b\b\b\b\b\b\b\b\b\b\b\b\b\b\b\b\b\b\b\b\b\b\b\b\b\b\b\b\b\b\b\b\b\b\b\b\b\b\b\b\b\b\b\b\b\b\b\b\b\b\b\b\b\b\b\b\b\b\b\b\b\b\b\b\b\b\b\b\b\b\b\b\b\b\b\b\b\b\b\b\b\b\b\b\b\b\b\b\b\b\b\b\b\b\b\b\b\b\b\b\b\b\b\b\b\b\b\b\b\b\b\b\b\b\b\b\b\b\b\b\b\b\b\b\b\b\b\b\b\b\b\b\b\b\b\b\b\b\r\n",
      " 79/146 [===============>..............] - ETA: 1:59 - batch: 39.0000 - size: 2.0000 - loss: 4.6190 - rpn_class_loss: 1.0609 - rpn_bbox_loss: 1.9664 - mrcnn_class_loss: 0.2808 - mrcnn_bbox_loss: 0.8335 - mrcnn_mask_loss: 0.4775"
     ]
    },
    {
     "name": "stderr",
     "output_type": "stream",
     "text": [
      "/usr/local/lib/python3.8/dist-packages/imgaug/augmenters/base.py:49: SuspiciousSingleImageShapeWarning: You provided a numpy array of shape (1024, 1024, 46) as a single-image augmentation input, which was interpreted as (H, W, C). The last dimension however has a size of >=32, which indicates that you provided a multi-image array with shape (N, H, W) instead. If that is the case, you should use e.g. augmenter(imageS=<your input>) or augment_imageS(<your input>). Otherwise your multi-image input will be interpreted as a single image during augmentation.\n",
      "  ia.warn(\n"
     ]
    },
    {
     "name": "stdout",
     "output_type": "stream",
     "text": [
      "\b\b\b\b\b\b\b\b\b\b\b\b\b\b\b\b\b\b\b\b\b\b\b\b\b\b\b\b\b\b\b\b\b\b\b\b\b\b\b\b\b\b\b\b\b\b\b\b\b\b\b\b\b\b\b\b\b\b\b\b\b\b\b\b\b\b\b\b\b\b\b\b\b\b\b\b\b\b\b\b\b\b\b\b\b\b\b\b\b\b\b\b\b\b\b\b\b\b\b\b\b\b\b\b\b\b\b\b\b\b\b\b\b\b\b\b\b\b\b\b\b\b\b\b\b\b\b\b\b\b\b\b\b\b\b\b\b\b\b\b\b\b\b\b\b\b\b\b\b\b\b\b\b\b\b\b\b\b\b\b\b\b\b\b\b\b\b\b\b\b\b\b\b\b\b\b\b\b\b\b\b\b\b\b\b\b\b\b\b\b\b\b\b\b\b\b\b\b\b\b\b\b\b\b\b\b\b\b\b\b\b\b\b\b\b\b\b\b\b\b\b\b\b\b\b\b\b\r\n",
      " 80/146 [===============>..............] - ETA: 1:56 - batch: 39.5000 - size: 2.0000 - loss: 4.5876 - rpn_class_loss: 1.0499 - rpn_bbox_loss: 1.9455 - mrcnn_class_loss: 0.2863 - mrcnn_bbox_loss: 0.8290 - mrcnn_mask_loss: 0.4770"
     ]
    },
    {
     "name": "stderr",
     "output_type": "stream",
     "text": [
      "/usr/local/lib/python3.8/dist-packages/imgaug/augmenters/base.py:49: SuspiciousSingleImageShapeWarning: You provided a numpy array of shape (1024, 1024, 50) as a single-image augmentation input, which was interpreted as (H, W, C). The last dimension however has a size of >=32, which indicates that you provided a multi-image array with shape (N, H, W) instead. If that is the case, you should use e.g. augmenter(imageS=<your input>) or augment_imageS(<your input>). Otherwise your multi-image input will be interpreted as a single image during augmentation.\n",
      "  ia.warn(\n",
      "/usr/local/lib/python3.8/dist-packages/imgaug/augmenters/base.py:49: SuspiciousSingleImageShapeWarning: You provided a numpy array of shape (1024, 1024, 36) as a single-image augmentation input, which was interpreted as (H, W, C). The last dimension however has a size of >=32, which indicates that you provided a multi-image array with shape (N, H, W) instead. If that is the case, you should use e.g. augmenter(imageS=<your input>) or augment_imageS(<your input>). Otherwise your multi-image input will be interpreted as a single image during augmentation.\n",
      "  ia.warn(\n"
     ]
    },
    {
     "name": "stdout",
     "output_type": "stream",
     "text": [
      "\b\b\b\b\b\b\b\b\b\b\b\b\b\b\b\b\b\b\b\b\b\b\b\b\b\b\b\b\b\b\b\b\b\b\b\b\b\b\b\b\b\b\b\b\b\b\b\b\b\b\b\b\b\b\b\b\b\b\b\b\b\b\b\b\b\b\b\b\b\b\b\b\b\b\b\b\b\b\b\b\b\b\b\b\b\b\b\b\b\b\b\b\b\b\b\b\b\b\b\b\b\b\b\b\b\b\b\b\b\b\b\b\b\b\b\b\b\b\b\b\b\b\b\b\b\b\b\b\b\b\b\b\b\b\b\b\b\b\b\b\b\b\b\b\b\b\b\b\b\b\b\b\b\b\b\b\b\b\b\b\b\b\b\b\b\b\b\b\b\b\b\b\b\b\b\b\b\b\b\b\b\b\b\b\b\b\b\b\b\b\b\b\b\b\b\b\b\b\b\b\b\b\b\b\b\b\b\b\b\b\b\b\b\b\b\b\b\b\b\b\b\b\b\b\b\b\b\r\n",
      " 81/146 [===============>..............] - ETA: 1:55 - batch: 40.0000 - size: 2.0000 - loss: 4.5588 - rpn_class_loss: 1.0397 - rpn_bbox_loss: 1.9266 - mrcnn_class_loss: 0.2901 - mrcnn_bbox_loss: 0.8244 - mrcnn_mask_loss: 0.4779"
     ]
    },
    {
     "name": "stderr",
     "output_type": "stream",
     "text": [
      "/usr/local/lib/python3.8/dist-packages/imgaug/augmenters/base.py:49: SuspiciousSingleImageShapeWarning: You provided a numpy array of shape (1024, 1024, 44) as a single-image augmentation input, which was interpreted as (H, W, C). The last dimension however has a size of >=32, which indicates that you provided a multi-image array with shape (N, H, W) instead. If that is the case, you should use e.g. augmenter(imageS=<your input>) or augment_imageS(<your input>). Otherwise your multi-image input will be interpreted as a single image during augmentation.\n",
      "  ia.warn(\n"
     ]
    },
    {
     "name": "stdout",
     "output_type": "stream",
     "text": [
      " 83/146 [================>.............] - ETA: 1:52 - batch: 41.0000 - size: 2.0000 - loss: 4.5031 - rpn_class_loss: 1.0211 - rpn_bbox_loss: 1.8919 - mrcnn_class_loss: 0.2946 - mrcnn_bbox_loss: 0.8181 - mrcnn_mask_loss: 0.4775"
     ]
    },
    {
     "name": "stderr",
     "output_type": "stream",
     "text": [
      "/usr/local/lib/python3.8/dist-packages/imgaug/augmenters/base.py:49: SuspiciousSingleImageShapeWarning: You provided a numpy array of shape (1024, 1024, 38) as a single-image augmentation input, which was interpreted as (H, W, C). The last dimension however has a size of >=32, which indicates that you provided a multi-image array with shape (N, H, W) instead. If that is the case, you should use e.g. augmenter(imageS=<your input>) or augment_imageS(<your input>). Otherwise your multi-image input will be interpreted as a single image during augmentation.\n",
      "  ia.warn(\n",
      "/usr/local/lib/python3.8/dist-packages/imgaug/augmenters/base.py:49: SuspiciousSingleImageShapeWarning: You provided a numpy array of shape (1024, 1024, 58) as a single-image augmentation input, which was interpreted as (H, W, C). The last dimension however has a size of >=32, which indicates that you provided a multi-image array with shape (N, H, W) instead. If that is the case, you should use e.g. augmenter(imageS=<your input>) or augment_imageS(<your input>). Otherwise your multi-image input will be interpreted as a single image during augmentation.\n",
      "  ia.warn(\n"
     ]
    },
    {
     "name": "stdout",
     "output_type": "stream",
     "text": [
      "\b\b\b\b\b\b\b\b\b\b\b\b\b\b\b\b\b\b\b\b\b\b\b\b\b\b\b\b\b\b\b\b\b\b\b\b\b\b\b\b\b\b\b\b\b\b\b\b\b\b\b\b\b\b\b\b\b\b\b\b\b\b\b\b\b\b\b\b\b\b\b\b\b\b\b\b\b\b\b\b\b\b\b\b\b\b\b\b\b\b\b\b\b\b\b\b\b\b\b\b\b\b\b\b\b\b\b\b\b\b\b\b\b\b\b\b\b\b\b\b\b\b\b\b\b\b\b\b\b\b\b\b\b\b\b\b\b\b\b\b\b\b\b\b\b\b\b\b\b\b\b\b\b\b\b\b\b\b\b\b\b\b\b\b\b\b\b\b\b\b\b\b\b\b\b\b\b\b\b\b\b\b\b\b\b\b\b\b\b\b\b\b\b\b\b\b\b\b\b\b\b\b\b\b\b\b\b\b\b\b\b\b\b\b\b\b\b\b\b\b\b\b\b\b\b\b\b\r\n",
      " 84/146 [================>.............] - ETA: 1:50 - batch: 41.5000 - size: 2.0000 - loss: 4.4753 - rpn_class_loss: 1.0118 - rpn_bbox_loss: 1.8758 - mrcnn_class_loss: 0.2960 - mrcnn_bbox_loss: 0.8139 - mrcnn_mask_loss: 0.4779"
     ]
    },
    {
     "name": "stderr",
     "output_type": "stream",
     "text": [
      "/usr/local/lib/python3.8/dist-packages/imgaug/augmenters/base.py:49: SuspiciousSingleImageShapeWarning: You provided a numpy array of shape (1024, 1024, 34) as a single-image augmentation input, which was interpreted as (H, W, C). The last dimension however has a size of >=32, which indicates that you provided a multi-image array with shape (N, H, W) instead. If that is the case, you should use e.g. augmenter(imageS=<your input>) or augment_imageS(<your input>). Otherwise your multi-image input will be interpreted as a single image during augmentation.\n",
      "  ia.warn(\n",
      "/usr/local/lib/python3.8/dist-packages/imgaug/augmenters/base.py:49: SuspiciousSingleImageShapeWarning: You provided a numpy array of shape (1024, 1024, 38) as a single-image augmentation input, which was interpreted as (H, W, C). The last dimension however has a size of >=32, which indicates that you provided a multi-image array with shape (N, H, W) instead. If that is the case, you should use e.g. augmenter(imageS=<your input>) or augment_imageS(<your input>). Otherwise your multi-image input will be interpreted as a single image during augmentation.\n",
      "  ia.warn(\n"
     ]
    },
    {
     "name": "stdout",
     "output_type": "stream",
     "text": [
      "\b\b\b\b\b\b\b\b\b\b\b\b\b\b\b\b\b\b\b\b\b\b\b\b\b\b\b\b\b\b\b\b\b\b\b\b\b\b\b\b\b\b\b\b\b\b\b\b\b\b\b\b\b\b\b\b\b\b\b\b\b\b\b\b\b\b\b\b\b\b\b\b\b\b\b\b\b\b\b\b\b\b\b\b\b\b\b\b\b\b\b\b\b\b\b\b\b\b\b\b\b\b\b\b\b\b\b\b\b\b\b\b\b\b\b\b\b\b\b\b\b\b\b\b\b\b\b\b\b\b\b\b\b\b\b\b\b\b\b\b\b\b\b\b\b\b\b\b\b\b\b\b\b\b\b\b\b\b\b\b\b\b\b\b\b\b\b\b\b\b\b\b\b\b\b\b\b\b\b\b\b\b\b\b\b\b\b\b\b\b\b\b\b\b\b\b\b\b\b\b\b\b\b\b\b\b\b\b\b\b\b\b\b\b\b\b\b\b\b\b\b\b\b\b\b\b\b\r\n",
      " 85/146 [================>.............] - ETA: 1:48 - batch: 42.0000 - size: 2.0000 - loss: 4.4512 - rpn_class_loss: 1.0025 - rpn_bbox_loss: 1.8619 - mrcnn_class_loss: 0.2962 - mrcnn_bbox_loss: 0.8112 - mrcnn_mask_loss: 0.4794"
     ]
    },
    {
     "name": "stderr",
     "output_type": "stream",
     "text": [
      "/usr/local/lib/python3.8/dist-packages/imgaug/augmenters/base.py:49: SuspiciousSingleImageShapeWarning: You provided a numpy array of shape (1024, 1024, 44) as a single-image augmentation input, which was interpreted as (H, W, C). The last dimension however has a size of >=32, which indicates that you provided a multi-image array with shape (N, H, W) instead. If that is the case, you should use e.g. augmenter(imageS=<your input>) or augment_imageS(<your input>). Otherwise your multi-image input will be interpreted as a single image during augmentation.\n",
      "  ia.warn(\n"
     ]
    },
    {
     "name": "stdout",
     "output_type": "stream",
     "text": [
      " 88/146 [=================>............] - ETA: 1:43 - batch: 43.5000 - size: 2.0000 - loss: 4.3696 - rpn_class_loss: 0.9749 - rpn_bbox_loss: 1.8164 - mrcnn_class_loss: 0.2997 - mrcnn_bbox_loss: 0.7995 - mrcnn_mask_loss: 0.4791"
     ]
    },
    {
     "name": "stderr",
     "output_type": "stream",
     "text": [
      "/usr/local/lib/python3.8/dist-packages/imgaug/augmenters/base.py:49: SuspiciousSingleImageShapeWarning: You provided a numpy array of shape (1024, 1024, 46) as a single-image augmentation input, which was interpreted as (H, W, C). The last dimension however has a size of >=32, which indicates that you provided a multi-image array with shape (N, H, W) instead. If that is the case, you should use e.g. augmenter(imageS=<your input>) or augment_imageS(<your input>). Otherwise your multi-image input will be interpreted as a single image during augmentation.\n",
      "  ia.warn(\n"
     ]
    },
    {
     "name": "stdout",
     "output_type": "stream",
     "text": [
      " 90/146 [=================>............] - ETA: 1:38 - batch: 44.5000 - size: 2.0000 - loss: 4.3145 - rpn_class_loss: 0.9566 - rpn_bbox_loss: 1.7844 - mrcnn_class_loss: 0.3018 - mrcnn_bbox_loss: 0.7927 - mrcnn_mask_loss: 0.4790"
     ]
    },
    {
     "name": "stderr",
     "output_type": "stream",
     "text": [
      "/usr/local/lib/python3.8/dist-packages/imgaug/augmenters/base.py:49: SuspiciousSingleImageShapeWarning: You provided a numpy array of shape (1024, 1024, 44) as a single-image augmentation input, which was interpreted as (H, W, C). The last dimension however has a size of >=32, which indicates that you provided a multi-image array with shape (N, H, W) instead. If that is the case, you should use e.g. augmenter(imageS=<your input>) or augment_imageS(<your input>). Otherwise your multi-image input will be interpreted as a single image during augmentation.\n",
      "  ia.warn(\n"
     ]
    },
    {
     "name": "stdout",
     "output_type": "stream",
     "text": [
      " 92/146 [=================>............] - ETA: 1:34 - batch: 45.5000 - size: 2.0000 - loss: 4.2585 - rpn_class_loss: 0.9395 - rpn_bbox_loss: 1.7542 - mrcnn_class_loss: 0.3012 - mrcnn_bbox_loss: 0.7844 - mrcnn_mask_loss: 0.4791"
     ]
    },
    {
     "name": "stderr",
     "output_type": "stream",
     "text": [
      "/usr/local/lib/python3.8/dist-packages/imgaug/augmenters/base.py:49: SuspiciousSingleImageShapeWarning: You provided a numpy array of shape (1024, 1024, 64) as a single-image augmentation input, which was interpreted as (H, W, C). The last dimension however has a size of >=32, which indicates that you provided a multi-image array with shape (N, H, W) instead. If that is the case, you should use e.g. augmenter(imageS=<your input>) or augment_imageS(<your input>). Otherwise your multi-image input will be interpreted as a single image during augmentation.\n",
      "  ia.warn(\n"
     ]
    },
    {
     "name": "stdout",
     "output_type": "stream",
     "text": [
      "\b\b\b\b\b\b\b\b\b\b\b\b\b\b\b\b\b\b\b\b\b\b\b\b\b\b\b\b\b\b\b\b\b\b\b\b\b\b\b\b\b\b\b\b\b\b\b\b\b\b\b\b\b\b\b\b\b\b\b\b\b\b\b\b\b\b\b\b\b\b\b\b\b\b\b\b\b\b\b\b\b\b\b\b\b\b\b\b\b\b\b\b\b\b\b\b\b\b\b\b\b\b\b\b\b\b\b\b\b\b\b\b\b\b\b\b\b\b\b\b\b\b\b\b\b\b\b\b\b\b\b\b\b\b\b\b\b\b\b\b\b\b\b\b\b\b\b\b\b\b\b\b\b\b\b\b\b\b\b\b\b\b\b\b\b\b\b\b\b\b\b\b\b\b\b\b\b\b\b\b\b\b\b\b\b\b\b\b\b\b\b\b\b\b\b\b\b\b\b\b\b\b\b\b\b\b\b\b\b\b\b\b\b\b\b\b\b\b\b\b\b\b\b\b\b\b\b\r\n",
      " 93/146 [==================>...........] - ETA: 1:33 - batch: 46.0000 - size: 2.0000 - loss: 4.2398 - rpn_class_loss: 0.9348 - rpn_bbox_loss: 1.7423 - mrcnn_class_loss: 0.3022 - mrcnn_bbox_loss: 0.7807 - mrcnn_mask_loss: 0.4798"
     ]
    },
    {
     "name": "stderr",
     "output_type": "stream",
     "text": [
      "/usr/local/lib/python3.8/dist-packages/imgaug/augmenters/base.py:49: SuspiciousSingleImageShapeWarning: You provided a numpy array of shape (1024, 1024, 98) as a single-image augmentation input, which was interpreted as (H, W, C). The last dimension however has a size of >=32, which indicates that you provided a multi-image array with shape (N, H, W) instead. If that is the case, you should use e.g. augmenter(imageS=<your input>) or augment_imageS(<your input>). Otherwise your multi-image input will be interpreted as a single image during augmentation.\n",
      "  ia.warn(\n"
     ]
    },
    {
     "name": "stdout",
     "output_type": "stream",
     "text": [
      "\b\b\b\b\b\b\b\b\b\b\b\b\b\b\b\b\b\b\b\b\b\b\b\b\b\b\b\b\b\b\b\b\b\b\b\b\b\b\b\b\b\b\b\b\b\b\b\b\b\b\b\b\b\b\b\b\b\b\b\b\b\b\b\b\b\b\b\b\b\b\b\b\b\b\b\b\b\b\b\b\b\b\b\b\b\b\b\b\b\b\b\b\b\b\b\b\b\b\b\b\b\b\b\b\b\b\b\b\b\b\b\b\b\b\b\b\b\b\b\b\b\b\b\b\b\b\b\b\b\b\b\b\b\b\b\b\b\b\b\b\b\b\b\b\b\b\b\b\b\b\b\b\b\b\b\b\b\b\b\b\b\b\b\b\b\b\b\b\b\b\b\b\b\b\b\b\b\b\b\b\b\b\b\b\b\b\b\b\b\b\b\b\b\b\b\b\b\b\b\b\b\b\b\b\b\b\b\b\b\b\b\b\b\b\b\b\b\b\b\b\b\b\b\b\b\b\b\r\n",
      " 94/146 [==================>...........] - ETA: 1:32 - batch: 46.5000 - size: 2.0000 - loss: 4.2247 - rpn_class_loss: 0.9312 - rpn_bbox_loss: 1.7345 - mrcnn_class_loss: 0.3002 - mrcnn_bbox_loss: 0.7775 - mrcnn_mask_loss: 0.4813"
     ]
    },
    {
     "name": "stderr",
     "output_type": "stream",
     "text": [
      "/usr/local/lib/python3.8/dist-packages/imgaug/augmenters/base.py:49: SuspiciousSingleImageShapeWarning: You provided a numpy array of shape (1024, 1024, 120) as a single-image augmentation input, which was interpreted as (H, W, C). The last dimension however has a size of >=32, which indicates that you provided a multi-image array with shape (N, H, W) instead. If that is the case, you should use e.g. augmenter(imageS=<your input>) or augment_imageS(<your input>). Otherwise your multi-image input will be interpreted as a single image during augmentation.\n",
      "  ia.warn(\n"
     ]
    },
    {
     "name": "stdout",
     "output_type": "stream",
     "text": [
      "\b\b\b\b\b\b\b\b\b\b\b\b\b\b\b\b\b\b\b\b\b\b\b\b\b\b\b\b\b\b\b\b\b\b\b\b\b\b\b\b\b\b\b\b\b\b\b\b\b\b\b\b\b\b\b\b\b\b\b\b\b\b\b\b\b\b\b\b\b\b\b\b\b\b\b\b\b\b\b\b\b\b\b\b\b\b\b\b\b\b\b\b\b\b\b\b\b\b\b\b\b\b\b\b\b\b\b\b\b\b\b\b\b\b\b\b\b\b\b\b\b\b\b\b\b\b\b\b\b\b\b\b\b\b\b\b\b\b\b\b\b\b\b\b\b\b\b\b\b\b\b\b\b\b\b\b\b\b\b\b\b\b\b\b\b\b\b\b\b\b\b\b\b\b\b\b\b\b\b\b\b\b\b\b\b\b\b\b\b\b\b\b\b\b\b\b\b\b\b\b\b\b\b\b\b\b\b\b\b\b\b\b\b\b\b\b\b\b\b\b\b\b\b\b\b\b\b\r\n",
      " 95/146 [==================>...........] - ETA: 1:31 - batch: 47.0000 - size: 2.0000 - loss: 4.2095 - rpn_class_loss: 0.9246 - rpn_bbox_loss: 1.7256 - mrcnn_class_loss: 0.3031 - mrcnn_bbox_loss: 0.7746 - mrcnn_mask_loss: 0.4815"
     ]
    },
    {
     "name": "stderr",
     "output_type": "stream",
     "text": [
      "/usr/local/lib/python3.8/dist-packages/imgaug/augmenters/base.py:49: SuspiciousSingleImageShapeWarning: You provided a numpy array of shape (1024, 1024, 36) as a single-image augmentation input, which was interpreted as (H, W, C). The last dimension however has a size of >=32, which indicates that you provided a multi-image array with shape (N, H, W) instead. If that is the case, you should use e.g. augmenter(imageS=<your input>) or augment_imageS(<your input>). Otherwise your multi-image input will be interpreted as a single image during augmentation.\n",
      "  ia.warn(\n",
      "/usr/local/lib/python3.8/dist-packages/imgaug/augmenters/base.py:49: SuspiciousSingleImageShapeWarning: You provided a numpy array of shape (1024, 1024, 40) as a single-image augmentation input, which was interpreted as (H, W, C). The last dimension however has a size of >=32, which indicates that you provided a multi-image array with shape (N, H, W) instead. If that is the case, you should use e.g. augmenter(imageS=<your input>) or augment_imageS(<your input>). Otherwise your multi-image input will be interpreted as a single image during augmentation.\n",
      "  ia.warn(\n"
     ]
    },
    {
     "name": "stdout",
     "output_type": "stream",
     "text": [
      "\b\b\b\b\b\b\b\b\b\b\b\b\b\b\b\b\b\b\b\b\b\b\b\b\b\b\b\b\b\b\b\b\b\b\b\b\b\b\b\b\b\b\b\b\b\b\b\b\b\b\b\b\b\b\b\b\b\b\b\b\b\b\b\b\b\b\b\b\b\b\b\b\b\b\b\b\b\b\b\b\b\b\b\b\b\b\b\b\b\b\b\b\b\b\b\b\b\b\b\b\b\b\b\b\b\b\b\b\b\b\b\b\b\b\b\b\b\b\b\b\b\b\b\b\b\b\b\b\b\b\b\b\b\b\b\b\b\b\b\b\b\b\b\b\b\b\b\b\b\b\b\b\b\b\b\b\b\b\b\b\b\b\b\b\b\b\b\b\b\b\b\b\b\b\b\b\b\b\b\b\b\b\b\b\b\b\b\b\b\b\b\b\b\b\b\b\b\b\b\b\b\b\b\b\b\b\b\b\b\b\b\b\b\b\b\b\b\b\b\b\b\b\b\b\b\b\b\r\n",
      " 96/146 [==================>...........] - ETA: 1:29 - batch: 47.5000 - size: 2.0000 - loss: 4.1857 - rpn_class_loss: 0.9171 - rpn_bbox_loss: 1.7123 - mrcnn_class_loss: 0.3030 - mrcnn_bbox_loss: 0.7727 - mrcnn_mask_loss: 0.4806"
     ]
    },
    {
     "name": "stderr",
     "output_type": "stream",
     "text": [
      "/usr/local/lib/python3.8/dist-packages/imgaug/augmenters/base.py:49: SuspiciousSingleImageShapeWarning: You provided a numpy array of shape (1024, 1024, 34) as a single-image augmentation input, which was interpreted as (H, W, C). The last dimension however has a size of >=32, which indicates that you provided a multi-image array with shape (N, H, W) instead. If that is the case, you should use e.g. augmenter(imageS=<your input>) or augment_imageS(<your input>). Otherwise your multi-image input will be interpreted as a single image during augmentation.\n",
      "  ia.warn(\n",
      "/usr/local/lib/python3.8/dist-packages/imgaug/augmenters/base.py:49: SuspiciousSingleImageShapeWarning: You provided a numpy array of shape (1024, 1024, 46) as a single-image augmentation input, which was interpreted as (H, W, C). The last dimension however has a size of >=32, which indicates that you provided a multi-image array with shape (N, H, W) instead. If that is the case, you should use e.g. augmenter(imageS=<your input>) or augment_imageS(<your input>). Otherwise your multi-image input will be interpreted as a single image during augmentation.\n",
      "  ia.warn(\n"
     ]
    },
    {
     "name": "stdout",
     "output_type": "stream",
     "text": [
      "\b\b\b\b\b\b\b\b\b\b\b\b\b\b\b\b\b\b\b\b\b\b\b\b\b\b\b\b\b\b\b\b\b\b\b\b\b\b\b\b\b\b\b\b\b\b\b\b\b\b\b\b\b\b\b\b\b\b\b\b\b\b\b\b\b\b\b\b\b\b\b\b\b\b\b\b\b\b\b\b\b\b\b\b\b\b\b\b\b\b\b\b\b\b\b\b\b\b\b\b\b\b\b\b\b\b\b\b\b\b\b\b\b\b\b\b\b\b\b\b\b\b\b\b\b\b\b\b\b\b\b\b\b\b\b\b\b\b\b\b\b\b\b\b\b\b\b\b\b\b\b\b\b\b\b\b\b\b\b\b\b\b\b\b\b\b\b\b\b\b\b\b\b\b\b\b\b\b\b\b\b\b\b\b\b\b\b\b\b\b\b\b\b\b\b\b\b\b\b\b\b\b\b\b\b\b\b\b\b\b\b\b\b\b\b\b\b\b\b\b\b\b\b\b\b\b\b\r\n",
      " 97/146 [==================>...........] - ETA: 1:27 - batch: 48.0000 - size: 2.0000 - loss: 4.1638 - rpn_class_loss: 0.9110 - rpn_bbox_loss: 1.6991 - mrcnn_class_loss: 0.3031 - mrcnn_bbox_loss: 0.7699 - mrcnn_mask_loss: 0.4807"
     ]
    },
    {
     "name": "stderr",
     "output_type": "stream",
     "text": [
      "/usr/local/lib/python3.8/dist-packages/imgaug/augmenters/base.py:49: SuspiciousSingleImageShapeWarning: You provided a numpy array of shape (1024, 1024, 44) as a single-image augmentation input, which was interpreted as (H, W, C). The last dimension however has a size of >=32, which indicates that you provided a multi-image array with shape (N, H, W) instead. If that is the case, you should use e.g. augmenter(imageS=<your input>) or augment_imageS(<your input>). Otherwise your multi-image input will be interpreted as a single image during augmentation.\n",
      "  ia.warn(\n",
      "/usr/local/lib/python3.8/dist-packages/imgaug/augmenters/base.py:49: SuspiciousSingleImageShapeWarning: You provided a numpy array of shape (1024, 1024, 34) as a single-image augmentation input, which was interpreted as (H, W, C). The last dimension however has a size of >=32, which indicates that you provided a multi-image array with shape (N, H, W) instead. If that is the case, you should use e.g. augmenter(imageS=<your input>) or augment_imageS(<your input>). Otherwise your multi-image input will be interpreted as a single image during augmentation.\n",
      "  ia.warn(\n"
     ]
    },
    {
     "name": "stdout",
     "output_type": "stream",
     "text": [
      "\b\b\b\b\b\b\b\b\b\b\b\b\b\b\b\b\b\b\b\b\b\b\b\b\b\b\b\b\b\b\b\b\b\b\b\b\b\b\b\b\b\b\b\b\b\b\b\b\b\b\b\b\b\b\b\b\b\b\b\b\b\b\b\b\b\b\b\b\b\b\b\b\b\b\b\b\b\b\b\b\b\b\b\b\b\b\b\b\b\b\b\b\b\b\b\b\b\b\b\b\b\b\b\b\b\b\b\b\b\b\b\b\b\b\b\b\b\b\b\b\b\b\b\b\b\b\b\b\b\b\b\b\b\b\b\b\b\b\b\b\b\b\b\b\b\b\b\b\b\b\b\b\b\b\b\b\b\b\b\b\b\b\b\b\b\b\b\b\b\b\b\b\b\b\b\b\b\b\b\b\b\b\b\b\b\b\b\b\b\b\b\b\b\b\b\b\b\b\b\b\b\b\b\b\b\b\b\b\b\b\b\b\b\b\b\b\b\b\b\b\b\b\b\b\b\b\b\r\n",
      " 98/146 [===================>..........] - ETA: 1:26 - batch: 48.5000 - size: 2.0000 - loss: 4.1441 - rpn_class_loss: 0.9044 - rpn_bbox_loss: 1.6870 - mrcnn_class_loss: 0.3051 - mrcnn_bbox_loss: 0.7667 - mrcnn_mask_loss: 0.4808"
     ]
    },
    {
     "name": "stderr",
     "output_type": "stream",
     "text": [
      "/usr/local/lib/python3.8/dist-packages/imgaug/augmenters/base.py:49: SuspiciousSingleImageShapeWarning: You provided a numpy array of shape (1024, 1024, 46) as a single-image augmentation input, which was interpreted as (H, W, C). The last dimension however has a size of >=32, which indicates that you provided a multi-image array with shape (N, H, W) instead. If that is the case, you should use e.g. augmenter(imageS=<your input>) or augment_imageS(<your input>). Otherwise your multi-image input will be interpreted as a single image during augmentation.\n",
      "  ia.warn(\n"
     ]
    },
    {
     "name": "stdout",
     "output_type": "stream",
     "text": [
      "\b\b\b\b\b\b\b\b\b\b\b\b\b\b\b\b\b\b\b\b\b\b\b\b\b\b\b\b\b\b\b\b\b\b\b\b\b\b\b\b\b\b\b\b\b\b\b\b\b\b\b\b\b\b\b\b\b\b\b\b\b\b\b\b\b\b\b\b\b\b\b\b\b\b\b\b\b\b\b\b\b\b\b\b\b\b\b\b\b\b\b\b\b\b\b\b\b\b\b\b\b\b\b\b\b\b\b\b\b\b\b\b\b\b\b\b\b\b\b\b\b\b\b\b\b\b\b\b\b\b\b\b\b\b\b\b\b\b\b\b\b\b\b\b\b\b\b\b\b\b\b\b\b\b\b\b\b\b\b\b\b\b\b\b\b\b\b\b\b\b\b\b\b\b\b\b\b\b\b\b\b\b\b\b\b\b\b\b\b\b\b\b\b\b\b\b\b\b\b\b\b\b\b\b\b\b\b\b\b\b\b\b\b\b\b\b\b\b\b\b\b\b\b\b\b\b\b\r\n",
      " 99/146 [===================>..........] - ETA: 1:24 - batch: 49.0000 - size: 2.0000 - loss: 4.1209 - rpn_class_loss: 0.8973 - rpn_bbox_loss: 1.6734 - mrcnn_class_loss: 0.3067 - mrcnn_bbox_loss: 0.7631 - mrcnn_mask_loss: 0.4805"
     ]
    },
    {
     "name": "stderr",
     "output_type": "stream",
     "text": [
      "/usr/local/lib/python3.8/dist-packages/imgaug/augmenters/base.py:49: SuspiciousSingleImageShapeWarning: You provided a numpy array of shape (1024, 1024, 58) as a single-image augmentation input, which was interpreted as (H, W, C). The last dimension however has a size of >=32, which indicates that you provided a multi-image array with shape (N, H, W) instead. If that is the case, you should use e.g. augmenter(imageS=<your input>) or augment_imageS(<your input>). Otherwise your multi-image input will be interpreted as a single image during augmentation.\n",
      "  ia.warn(\n",
      "/usr/local/lib/python3.8/dist-packages/imgaug/augmenters/base.py:49: SuspiciousSingleImageShapeWarning: You provided a numpy array of shape (1024, 1024, 42) as a single-image augmentation input, which was interpreted as (H, W, C). The last dimension however has a size of >=32, which indicates that you provided a multi-image array with shape (N, H, W) instead. If that is the case, you should use e.g. augmenter(imageS=<your input>) or augment_imageS(<your input>). Otherwise your multi-image input will be interpreted as a single image during augmentation.\n",
      "  ia.warn(\n"
     ]
    },
    {
     "name": "stdout",
     "output_type": "stream",
     "text": [
      "\b\b\b\b\b\b\b\b\b\b\b\b\b\b\b\b\b\b\b\b\b\b\b\b\b\b\b\b\b\b\b\b\b\b\b\b\b\b\b\b\b\b\b\b\b\b\b\b\b\b\b\b\b\b\b\b\b\b\b\b\b\b\b\b\b\b\b\b\b\b\b\b\b\b\b\b\b\b\b\b\b\b\b\b\b\b\b\b\b\b\b\b\b\b\b\b\b\b\b\b\b\b\b\b\b\b\b\b\b\b\b\b\b\b\b\b\b\b\b\b\b\b\b\b\b\b\b\b\b\b\b\b\b\b\b\b\b\b\b\b\b\b\b\b\b\b\b\b\b\b\b\b\b\b\b\b\b\b\b\b\b\b\b\b\b\b\b\b\b\b\b\b\b\b\b\b\b\b\b\b\b\b\b\b\b\b\b\b\b\b\b\b\b\b\b\b\b\b\b\b\b\b\b\b\b\b\b\b\b\b\b\b\b\b\b\b\b\b\b\b\b\b\b\b\b\b\b\r\n",
      "100/146 [===================>..........] - ETA: 1:23 - batch: 49.5000 - size: 2.0000 - loss: 4.0992 - rpn_class_loss: 0.8906 - rpn_bbox_loss: 1.6602 - mrcnn_class_loss: 0.3077 - mrcnn_bbox_loss: 0.7600 - mrcnn_mask_loss: 0.4808"
     ]
    },
    {
     "name": "stderr",
     "output_type": "stream",
     "text": [
      "/usr/local/lib/python3.8/dist-packages/imgaug/augmenters/base.py:49: SuspiciousSingleImageShapeWarning: You provided a numpy array of shape (1024, 1024, 58) as a single-image augmentation input, which was interpreted as (H, W, C). The last dimension however has a size of >=32, which indicates that you provided a multi-image array with shape (N, H, W) instead. If that is the case, you should use e.g. augmenter(imageS=<your input>) or augment_imageS(<your input>). Otherwise your multi-image input will be interpreted as a single image during augmentation.\n",
      "  ia.warn(\n"
     ]
    },
    {
     "name": "stdout",
     "output_type": "stream",
     "text": [
      "\b\b\b\b\b\b\b\b\b\b\b\b\b\b\b\b\b\b\b\b\b\b\b\b\b\b\b\b\b\b\b\b\b\b\b\b\b\b\b\b\b\b\b\b\b\b\b\b\b\b\b\b\b\b\b\b\b\b\b\b\b\b\b\b\b\b\b\b\b\b\b\b\b\b\b\b\b\b\b\b\b\b\b\b\b\b\b\b\b\b\b\b\b\b\b\b\b\b\b\b\b\b\b\b\b\b\b\b\b\b\b\b\b\b\b\b\b\b\b\b\b\b\b\b\b\b\b\b\b\b\b\b\b\b\b\b\b\b\b\b\b\b\b\b\b\b\b\b\b\b\b\b\b\b\b\b\b\b\b\b\b\b\b\b\b\b\b\b\b\b\b\b\b\b\b\b\b\b\b\b\b\b\b\b\b\b\b\b\b\b\b\b\b\b\b\b\b\b\b\b\b\b\b\b\b\b\b\b\b\b\b\b\b\b\b\b\b\b\b\b\b\b\b\b\b\b\b\r\n",
      "101/146 [===================>..........] - ETA: 1:21 - batch: 50.0000 - size: 2.0000 - loss: 4.0801 - rpn_class_loss: 0.8845 - rpn_bbox_loss: 1.6492 - mrcnn_class_loss: 0.3082 - mrcnn_bbox_loss: 0.7569 - mrcnn_mask_loss: 0.4812"
     ]
    },
    {
     "name": "stderr",
     "output_type": "stream",
     "text": [
      "/usr/local/lib/python3.8/dist-packages/imgaug/augmenters/base.py:49: SuspiciousSingleImageShapeWarning: You provided a numpy array of shape (1024, 1024, 46) as a single-image augmentation input, which was interpreted as (H, W, C). The last dimension however has a size of >=32, which indicates that you provided a multi-image array with shape (N, H, W) instead. If that is the case, you should use e.g. augmenter(imageS=<your input>) or augment_imageS(<your input>). Otherwise your multi-image input will be interpreted as a single image during augmentation.\n",
      "  ia.warn(\n"
     ]
    },
    {
     "name": "stdout",
     "output_type": "stream",
     "text": [
      "\b\b\b\b\b\b\b\b\b\b\b\b\b\b\b\b\b\b\b\b\b\b\b\b\b\b\b\b\b\b\b\b\b\b\b\b\b\b\b\b\b\b\b\b\b\b\b\b\b\b\b\b\b\b\b\b\b\b\b\b\b\b\b\b\b\b\b\b\b\b\b\b\b\b\b\b\b\b\b\b\b\b\b\b\b\b\b\b\b\b\b\b\b\b\b\b\b\b\b\b\b\b\b\b\b\b\b\b\b\b\b\b\b\b\b\b\b\b\b\b\b\b\b\b\b\b\b\b\b\b\b\b\b\b\b\b\b\b\b\b\b\b\b\b\b\b\b\b\b\b\b\b\b\b\b\b\b\b\b\b\b\b\b\b\b\b\b\b\b\b\b\b\b\b\b\b\b\b\b\b\b\b\b\b\b\b\b\b\b\b\b\b\b\b\b\b\b\b\b\b\b\b\b\b\b\b\b\b\b\b\b\b\b\b\b\b\b\b\b\b\b\b\b\b\b\b\b\r\n",
      "102/146 [===================>..........] - ETA: 1:19 - batch: 50.5000 - size: 2.0000 - loss: 4.0569 - rpn_class_loss: 0.8776 - rpn_bbox_loss: 1.6357 - mrcnn_class_loss: 0.3091 - mrcnn_bbox_loss: 0.7536 - mrcnn_mask_loss: 0.4808"
     ]
    },
    {
     "name": "stderr",
     "output_type": "stream",
     "text": [
      "/usr/local/lib/python3.8/dist-packages/imgaug/augmenters/base.py:49: SuspiciousSingleImageShapeWarning: You provided a numpy array of shape (1024, 1024, 32) as a single-image augmentation input, which was interpreted as (H, W, C). The last dimension however has a size of >=32, which indicates that you provided a multi-image array with shape (N, H, W) instead. If that is the case, you should use e.g. augmenter(imageS=<your input>) or augment_imageS(<your input>). Otherwise your multi-image input will be interpreted as a single image during augmentation.\n",
      "  ia.warn(\n"
     ]
    },
    {
     "name": "stdout",
     "output_type": "stream",
     "text": [
      "105/146 [====================>.........] - ETA: 1:13 - batch: 52.0000 - size: 2.0000 - loss: 3.9919 - rpn_class_loss: 0.8584 - rpn_bbox_loss: 1.5988 - mrcnn_class_loss: 0.3088 - mrcnn_bbox_loss: 0.7452 - mrcnn_mask_loss: 0.4807"
     ]
    },
    {
     "name": "stderr",
     "output_type": "stream",
     "text": [
      "/usr/local/lib/python3.8/dist-packages/imgaug/augmenters/base.py:49: SuspiciousSingleImageShapeWarning: You provided a numpy array of shape (1024, 1024, 36) as a single-image augmentation input, which was interpreted as (H, W, C). The last dimension however has a size of >=32, which indicates that you provided a multi-image array with shape (N, H, W) instead. If that is the case, you should use e.g. augmenter(imageS=<your input>) or augment_imageS(<your input>). Otherwise your multi-image input will be interpreted as a single image during augmentation.\n",
      "  ia.warn(\n"
     ]
    },
    {
     "name": "stdout",
     "output_type": "stream",
     "text": [
      "\b\b\b\b\b\b\b\b\b\b\b\b\b\b\b\b\b\b\b\b\b\b\b\b\b\b\b\b\b\b\b\b\b\b\b\b\b\b\b\b\b\b\b\b\b\b\b\b\b\b\b\b\b\b\b\b\b\b\b\b\b\b\b\b\b\b\b\b\b\b\b\b\b\b\b\b\b\b\b\b\b\b\b\b\b\b\b\b\b\b\b\b\b\b\b\b\b\b\b\b\b\b\b\b\b\b\b\b\b\b\b\b\b\b\b\b\b\b\b\b\b\b\b\b\b\b\b\b\b\b\b\b\b\b\b\b\b\b\b\b\b\b\b\b\b\b\b\b\b\b\b\b\b\b\b\b\b\b\b\b\b\b\b\b\b\b\b\b\b\b\b\b\b\b\b\b\b\b\b\b\b\b\b\b\b\b\b\b\b\b\b\b\b\b\b\b\b\b\b\b\b\b\b\b\b\b\b\b\b\b\b\b\b\b\b\b\b\b\b\b\b\b\b\b\b\b\b\r\n",
      "106/146 [====================>.........] - ETA: 1:11 - batch: 52.5000 - size: 2.0000 - loss: 3.9708 - rpn_class_loss: 0.8516 - rpn_bbox_loss: 1.5864 - mrcnn_class_loss: 0.3104 - mrcnn_bbox_loss: 0.7425 - mrcnn_mask_loss: 0.4800"
     ]
    },
    {
     "name": "stderr",
     "output_type": "stream",
     "text": [
      "/usr/local/lib/python3.8/dist-packages/imgaug/augmenters/base.py:49: SuspiciousSingleImageShapeWarning: You provided a numpy array of shape (1024, 1024, 36) as a single-image augmentation input, which was interpreted as (H, W, C). The last dimension however has a size of >=32, which indicates that you provided a multi-image array with shape (N, H, W) instead. If that is the case, you should use e.g. augmenter(imageS=<your input>) or augment_imageS(<your input>). Otherwise your multi-image input will be interpreted as a single image during augmentation.\n",
      "  ia.warn(\n"
     ]
    },
    {
     "name": "stdout",
     "output_type": "stream",
     "text": [
      "109/146 [=====================>........] - ETA: 1:05 - batch: 54.0000 - size: 2.0000 - loss: 3.9141 - rpn_class_loss: 0.8317 - rpn_bbox_loss: 1.5511 - mrcnn_class_loss: 0.3170 - mrcnn_bbox_loss: 0.7346 - mrcnn_mask_loss: 0.4797"
     ]
    },
    {
     "name": "stderr",
     "output_type": "stream",
     "text": [
      "/usr/local/lib/python3.8/dist-packages/imgaug/augmenters/base.py:49: SuspiciousSingleImageShapeWarning: You provided a numpy array of shape (1024, 1024, 40) as a single-image augmentation input, which was interpreted as (H, W, C). The last dimension however has a size of >=32, which indicates that you provided a multi-image array with shape (N, H, W) instead. If that is the case, you should use e.g. augmenter(imageS=<your input>) or augment_imageS(<your input>). Otherwise your multi-image input will be interpreted as a single image during augmentation.\n",
      "  ia.warn(\n"
     ]
    },
    {
     "name": "stdout",
     "output_type": "stream",
     "text": [
      "111/146 [=====================>........] - ETA: 1:02 - batch: 55.0000 - size: 2.0000 - loss: 3.8836 - rpn_class_loss: 0.8194 - rpn_bbox_loss: 1.5369 - mrcnn_class_loss: 0.3170 - mrcnn_bbox_loss: 0.7302 - mrcnn_mask_loss: 0.4801"
     ]
    },
    {
     "name": "stderr",
     "output_type": "stream",
     "text": [
      "/usr/local/lib/python3.8/dist-packages/imgaug/augmenters/base.py:49: SuspiciousSingleImageShapeWarning: You provided a numpy array of shape (1024, 1024, 32) as a single-image augmentation input, which was interpreted as (H, W, C). The last dimension however has a size of >=32, which indicates that you provided a multi-image array with shape (N, H, W) instead. If that is the case, you should use e.g. augmenter(imageS=<your input>) or augment_imageS(<your input>). Otherwise your multi-image input will be interpreted as a single image during augmentation.\n",
      "  ia.warn(\n"
     ]
    },
    {
     "name": "stdout",
     "output_type": "stream",
     "text": [
      "\b\b\b\b\b\b\b\b\b\b\b\b\b\b\b\b\b\b\b\b\b\b\b\b\b\b\b\b\b\b\b\b\b\b\b\b\b\b\b\b\b\b\b\b\b\b\b\b\b\b\b\b\b\b\b\b\b\b\b\b\b\b\b\b\b\b\b\b\b\b\b\b\b\b\b\b\b\b\b\b\b\b\b\b\b\b\b\b\b\b\b\b\b\b\b\b\b\b\b\b\b\b\b\b\b\b\b\b\b\b\b\b\b\b\b\b\b\b\b\b\b\b\b\b\b\b\b\b\b\b\b\b\b\b\b\b\b\b\b\b\b\b\b\b\b\b\b\b\b\b\b\b\b\b\b\b\b\b\b\b\b\b\b\b\b\b\b\b\b\b\b\b\b\b\b\b\b\b\b\b\b\b\b\b\b\b\b\b\b\b\b\b\b\b\b\b\b\b\b\b\b\b\b\b\b\b\b\b\b\b\b\b\b\b\b\b\b\b\b\b\b\b\b\b\b\b\b\r\n",
      "112/146 [======================>.......] - ETA: 1:00 - batch: 55.5000 - size: 2.0000 - loss: 3.8694 - rpn_class_loss: 0.8131 - rpn_bbox_loss: 1.5294 - mrcnn_class_loss: 0.3178 - mrcnn_bbox_loss: 0.7277 - mrcnn_mask_loss: 0.4814"
     ]
    },
    {
     "name": "stderr",
     "output_type": "stream",
     "text": [
      "/usr/local/lib/python3.8/dist-packages/imgaug/augmenters/base.py:49: SuspiciousSingleImageShapeWarning: You provided a numpy array of shape (1024, 1024, 34) as a single-image augmentation input, which was interpreted as (H, W, C). The last dimension however has a size of >=32, which indicates that you provided a multi-image array with shape (N, H, W) instead. If that is the case, you should use e.g. augmenter(imageS=<your input>) or augment_imageS(<your input>). Otherwise your multi-image input will be interpreted as a single image during augmentation.\n",
      "  ia.warn(\n"
     ]
    },
    {
     "name": "stdout",
     "output_type": "stream",
     "text": [
      "114/146 [======================>.......] - ETA: 56s - batch: 56.5000 - size: 2.0000 - loss: 3.8313 - rpn_class_loss: 0.8009 - rpn_bbox_loss: 1.5071 - mrcnn_class_loss: 0.3201 - mrcnn_bbox_loss: 0.7221 - mrcnn_mask_loss: 0.4810"
     ]
    },
    {
     "name": "stderr",
     "output_type": "stream",
     "text": [
      "/usr/local/lib/python3.8/dist-packages/imgaug/augmenters/base.py:49: SuspiciousSingleImageShapeWarning: You provided a numpy array of shape (1024, 1024, 40) as a single-image augmentation input, which was interpreted as (H, W, C). The last dimension however has a size of >=32, which indicates that you provided a multi-image array with shape (N, H, W) instead. If that is the case, you should use e.g. augmenter(imageS=<your input>) or augment_imageS(<your input>). Otherwise your multi-image input will be interpreted as a single image during augmentation.\n",
      "  ia.warn(\n",
      "/usr/local/lib/python3.8/dist-packages/imgaug/augmenters/base.py:49: SuspiciousSingleImageShapeWarning: You provided a numpy array of shape (1024, 1024, 62) as a single-image augmentation input, which was interpreted as (H, W, C). The last dimension however has a size of >=32, which indicates that you provided a multi-image array with shape (N, H, W) instead. If that is the case, you should use e.g. augmenter(imageS=<your input>) or augment_imageS(<your input>). Otherwise your multi-image input will be interpreted as a single image during augmentation.\n",
      "  ia.warn(\n"
     ]
    },
    {
     "name": "stdout",
     "output_type": "stream",
     "text": [
      "\b\b\b\b\b\b\b\b\b\b\b\b\b\b\b\b\b\b\b\b\b\b\b\b\b\b\b\b\b\b\b\b\b\b\b\b\b\b\b\b\b\b\b\b\b\b\b\b\b\b\b\b\b\b\b\b\b\b\b\b\b\b\b\b\b\b\b\b\b\b\b\b\b\b\b\b\b\b\b\b\b\b\b\b\b\b\b\b\b\b\b\b\b\b\b\b\b\b\b\b\b\b\b\b\b\b\b\b\b\b\b\b\b\b\b\b\b\b\b\b\b\b\b\b\b\b\b\b\b\b\b\b\b\b\b\b\b\b\b\b\b\b\b\b\b\b\b\b\b\b\b\b\b\b\b\b\b\b\b\b\b\b\b\b\b\b\b\b\b\b\b\b\b\b\b\b\b\b\b\b\b\b\b\b\b\b\b\b\b\b\b\b\b\b\b\b\b\b\b\b\b\b\b\b\b\b\b\b\b\b\b\b\b\b\b\b\b\b\b\b\b\b\b\b\b\b\r\n",
      "115/146 [======================>.......] - ETA: 54s - batch: 57.0000 - size: 2.0000 - loss: 3.8176 - rpn_class_loss: 0.7956 - rpn_bbox_loss: 1.4984 - mrcnn_class_loss: 0.3224 - mrcnn_bbox_loss: 0.7196 - mrcnn_mask_loss: 0.4816"
     ]
    },
    {
     "name": "stderr",
     "output_type": "stream",
     "text": [
      "/usr/local/lib/python3.8/dist-packages/imgaug/augmenters/base.py:49: SuspiciousSingleImageShapeWarning: You provided a numpy array of shape (1024, 1024, 44) as a single-image augmentation input, which was interpreted as (H, W, C). The last dimension however has a size of >=32, which indicates that you provided a multi-image array with shape (N, H, W) instead. If that is the case, you should use e.g. augmenter(imageS=<your input>) or augment_imageS(<your input>). Otherwise your multi-image input will be interpreted as a single image during augmentation.\n",
      "  ia.warn(\n"
     ]
    },
    {
     "name": "stdout",
     "output_type": "stream",
     "text": [
      "\b\b\b\b\b\b\b\b\b\b\b\b\b\b\b\b\b\b\b\b\b\b\b\b\b\b\b\b\b\b\b\b\b\b\b\b\b\b\b\b\b\b\b\b\b\b\b\b\b\b\b\b\b\b\b\b\b\b\b\b\b\b\b\b\b\b\b\b\b\b\b\b\b\b\b\b\b\b\b\b\b\b\b\b\b\b\b\b\b\b\b\b\b\b\b\b\b\b\b\b\b\b\b\b\b\b\b\b\b\b\b\b\b\b\b\b\b\b\b\b\b\b\b\b\b\b\b\b\b\b\b\b\b\b\b\b\b\b\b\b\b\b\b\b\b\b\b\b\b\b\b\b\b\b\b\b\b\b\b\b\b\b\b\b\b\b\b\b\b\b\b\b\b\b\b\b\b\b\b\b\b\b\b\b\b\b\b\b\b\b\b\b\b\b\b\b\b\b\b\b\b\b\b\b\b\b\b\b\b\b\b\b\b\b\b\b\b\b\b\b\b\b\b\b\b\b\r\n",
      "116/146 [======================>.......] - ETA: 52s - batch: 57.5000 - size: 2.0000 - loss: 3.8037 - rpn_class_loss: 0.7915 - rpn_bbox_loss: 1.4900 - mrcnn_class_loss: 0.3235 - mrcnn_bbox_loss: 0.7169 - mrcnn_mask_loss: 0.4818"
     ]
    },
    {
     "name": "stderr",
     "output_type": "stream",
     "text": [
      "/usr/local/lib/python3.8/dist-packages/imgaug/augmenters/base.py:49: SuspiciousSingleImageShapeWarning: You provided a numpy array of shape (1024, 1024, 34) as a single-image augmentation input, which was interpreted as (H, W, C). The last dimension however has a size of >=32, which indicates that you provided a multi-image array with shape (N, H, W) instead. If that is the case, you should use e.g. augmenter(imageS=<your input>) or augment_imageS(<your input>). Otherwise your multi-image input will be interpreted as a single image during augmentation.\n",
      "  ia.warn(\n"
     ]
    },
    {
     "name": "stdout",
     "output_type": "stream",
     "text": [
      "\b\b\b\b\b\b\b\b\b\b\b\b\b\b\b\b\b\b\b\b\b\b\b\b\b\b\b\b\b\b\b\b\b\b\b\b\b\b\b\b\b\b\b\b\b\b\b\b\b\b\b\b\b\b\b\b\b\b\b\b\b\b\b\b\b\b\b\b\b\b\b\b\b\b\b\b\b\b\b\b\b\b\b\b\b\b\b\b\b\b\b\b\b\b\b\b\b\b\b\b\b\b\b\b\b\b\b\b\b\b\b\b\b\b\b\b\b\b\b\b\b\b\b\b\b\b\b\b\b\b\b\b\b\b\b\b\b\b\b\b\b\b\b\b\b\b\b\b\b\b\b\b\b\b\b\b\b\b\b\b\b\b\b\b\b\b\b\b\b\b\b\b\b\b\b\b\b\b\b\b\b\b\b\b\b\b\b\b\b\b\b\b\b\b\b\b\b\b\b\b\b\b\b\b\b\b\b\b\b\b\b\b\b\b\b\b\b\b\b\b\b\b\b\b\b\b\r\n",
      "117/146 [=======================>......] - ETA: 51s - batch: 58.0000 - size: 2.0000 - loss: 3.7886 - rpn_class_loss: 0.7868 - rpn_bbox_loss: 1.4813 - mrcnn_class_loss: 0.3247 - mrcnn_bbox_loss: 0.7143 - mrcnn_mask_loss: 0.4816"
     ]
    },
    {
     "name": "stderr",
     "output_type": "stream",
     "text": [
      "/usr/local/lib/python3.8/dist-packages/imgaug/augmenters/base.py:49: SuspiciousSingleImageShapeWarning: You provided a numpy array of shape (1024, 1024, 62) as a single-image augmentation input, which was interpreted as (H, W, C). The last dimension however has a size of >=32, which indicates that you provided a multi-image array with shape (N, H, W) instead. If that is the case, you should use e.g. augmenter(imageS=<your input>) or augment_imageS(<your input>). Otherwise your multi-image input will be interpreted as a single image during augmentation.\n",
      "  ia.warn(\n"
     ]
    },
    {
     "name": "stdout",
     "output_type": "stream",
     "text": [
      "120/146 [=======================>......] - ETA: 45s - batch: 59.5000 - size: 2.0000 - loss: 3.7462 - rpn_class_loss: 0.7735 - rpn_bbox_loss: 1.4571 - mrcnn_class_loss: 0.3271 - mrcnn_bbox_loss: 0.7071 - mrcnn_mask_loss: 0.4814"
     ]
    },
    {
     "name": "stderr",
     "output_type": "stream",
     "text": [
      "/usr/local/lib/python3.8/dist-packages/imgaug/augmenters/base.py:49: SuspiciousSingleImageShapeWarning: You provided a numpy array of shape (1024, 1024, 44) as a single-image augmentation input, which was interpreted as (H, W, C). The last dimension however has a size of >=32, which indicates that you provided a multi-image array with shape (N, H, W) instead. If that is the case, you should use e.g. augmenter(imageS=<your input>) or augment_imageS(<your input>). Otherwise your multi-image input will be interpreted as a single image during augmentation.\n",
      "  ia.warn(\n"
     ]
    },
    {
     "name": "stdout",
     "output_type": "stream",
     "text": [
      "\b\b\b\b\b\b\b\b\b\b\b\b\b\b\b\b\b\b\b\b\b\b\b\b\b\b\b\b\b\b\b\b\b\b\b\b\b\b\b\b\b\b\b\b\b\b\b\b\b\b\b\b\b\b\b\b\b\b\b\b\b\b\b\b\b\b\b\b\b\b\b\b\b\b\b\b\b\b\b\b\b\b\b\b\b\b\b\b\b\b\b\b\b\b\b\b\b\b\b\b\b\b\b\b\b\b\b\b\b\b\b\b\b\b\b\b\b\b\b\b\b\b\b\b\b\b\b\b\b\b\b\b\b\b\b\b\b\b\b\b\b\b\b\b\b\b\b\b\b\b\b\b\b\b\b\b\b\b\b\b\b\b\b\b\b\b\b\b\b\b\b\b\b\b\b\b\b\b\b\b\b\b\b\b\b\b\b\b\b\b\b\b\b\b\b\b\b\b\b\b\b\b\b\b\b\b\b\b\b\b\b\b\b\b\b\b\b\b\b\b\b\b\b\b\b\b\r\n",
      "121/146 [=======================>......] - ETA: 43s - batch: 60.0000 - size: 2.0000 - loss: 3.7300 - rpn_class_loss: 0.7685 - rpn_bbox_loss: 1.4479 - mrcnn_class_loss: 0.3266 - mrcnn_bbox_loss: 0.7057 - mrcnn_mask_loss: 0.4813"
     ]
    },
    {
     "name": "stderr",
     "output_type": "stream",
     "text": [
      "/usr/local/lib/python3.8/dist-packages/imgaug/augmenters/base.py:49: SuspiciousSingleImageShapeWarning: You provided a numpy array of shape (1024, 1024, 46) as a single-image augmentation input, which was interpreted as (H, W, C). The last dimension however has a size of >=32, which indicates that you provided a multi-image array with shape (N, H, W) instead. If that is the case, you should use e.g. augmenter(imageS=<your input>) or augment_imageS(<your input>). Otherwise your multi-image input will be interpreted as a single image during augmentation.\n",
      "  ia.warn(\n",
      "/usr/local/lib/python3.8/dist-packages/imgaug/augmenters/base.py:49: SuspiciousSingleImageShapeWarning: You provided a numpy array of shape (1024, 1024, 44) as a single-image augmentation input, which was interpreted as (H, W, C). The last dimension however has a size of >=32, which indicates that you provided a multi-image array with shape (N, H, W) instead. If that is the case, you should use e.g. augmenter(imageS=<your input>) or augment_imageS(<your input>). Otherwise your multi-image input will be interpreted as a single image during augmentation.\n",
      "  ia.warn(\n"
     ]
    },
    {
     "name": "stdout",
     "output_type": "stream",
     "text": [
      "\b\b\b\b\b\b\b\b\b\b\b\b\b\b\b\b\b\b\b\b\b\b\b\b\b\b\b\b\b\b\b\b\b\b\b\b\b\b\b\b\b\b\b\b\b\b\b\b\b\b\b\b\b\b\b\b\b\b\b\b\b\b\b\b\b\b\b\b\b\b\b\b\b\b\b\b\b\b\b\b\b\b\b\b\b\b\b\b\b\b\b\b\b\b\b\b\b\b\b\b\b\b\b\b\b\b\b\b\b\b\b\b\b\b\b\b\b\b\b\b\b\b\b\b\b\b\b\b\b\b\b\b\b\b\b\b\b\b\b\b\b\b\b\b\b\b\b\b\b\b\b\b\b\b\b\b\b\b\b\b\b\b\b\b\b\b\b\b\b\b\b\b\b\b\b\b\b\b\b\b\b\b\b\b\b\b\b\b\b\b\b\b\b\b\b\b\b\b\b\b\b\b\b\b\b\b\b\b\b\b\b\b\b\b\b\b\b\b\b\b\b\b\b\b\b\b\r\n",
      "122/146 [========================>.....] - ETA: 42s - batch: 60.5000 - size: 2.0000 - loss: 3.7156 - rpn_class_loss: 0.7634 - rpn_bbox_loss: 1.4398 - mrcnn_class_loss: 0.3281 - mrcnn_bbox_loss: 0.7029 - mrcnn_mask_loss: 0.4813"
     ]
    },
    {
     "name": "stderr",
     "output_type": "stream",
     "text": [
      "/usr/local/lib/python3.8/dist-packages/imgaug/augmenters/base.py:49: SuspiciousSingleImageShapeWarning: You provided a numpy array of shape (1024, 1024, 64) as a single-image augmentation input, which was interpreted as (H, W, C). The last dimension however has a size of >=32, which indicates that you provided a multi-image array with shape (N, H, W) instead. If that is the case, you should use e.g. augmenter(imageS=<your input>) or augment_imageS(<your input>). Otherwise your multi-image input will be interpreted as a single image during augmentation.\n",
      "  ia.warn(\n"
     ]
    },
    {
     "name": "stdout",
     "output_type": "stream",
     "text": [
      "\b\b\b\b\b\b\b\b\b\b\b\b\b\b\b\b\b\b\b\b\b\b\b\b\b\b\b\b\b\b\b\b\b\b\b\b\b\b\b\b\b\b\b\b\b\b\b\b\b\b\b\b\b\b\b\b\b\b\b\b\b\b\b\b\b\b\b\b\b\b\b\b\b\b\b\b\b\b\b\b\b\b\b\b\b\b\b\b\b\b\b\b\b\b\b\b\b\b\b\b\b\b\b\b\b\b\b\b\b\b\b\b\b\b\b\b\b\b\b\b\b\b\b\b\b\b\b\b\b\b\b\b\b\b\b\b\b\b\b\b\b\b\b\b\b\b\b\b\b\b\b\b\b\b\b\b\b\b\b\b\b\b\b\b\b\b\b\b\b\b\b\b\b\b\b\b\b\b\b\b\b\b\b\b\b\b\b\b\b\b\b\b\b\b\b\b\b\b\b\b\b\b\b\b\b\b\b\b\b\b\b\b\b\b\b\b\b\b\b\b\b\b\b\b\b\b\r\n",
      "123/146 [========================>.....] - ETA: 40s - batch: 61.0000 - size: 2.0000 - loss: 3.7003 - rpn_class_loss: 0.7589 - rpn_bbox_loss: 1.4315 - mrcnn_class_loss: 0.3286 - mrcnn_bbox_loss: 0.7004 - mrcnn_mask_loss: 0.4808"
     ]
    },
    {
     "name": "stderr",
     "output_type": "stream",
     "text": [
      "/usr/local/lib/python3.8/dist-packages/imgaug/augmenters/base.py:49: SuspiciousSingleImageShapeWarning: You provided a numpy array of shape (1024, 1024, 44) as a single-image augmentation input, which was interpreted as (H, W, C). The last dimension however has a size of >=32, which indicates that you provided a multi-image array with shape (N, H, W) instead. If that is the case, you should use e.g. augmenter(imageS=<your input>) or augment_imageS(<your input>). Otherwise your multi-image input will be interpreted as a single image during augmentation.\n",
      "  ia.warn(\n",
      "/usr/local/lib/python3.8/dist-packages/imgaug/augmenters/base.py:49: SuspiciousSingleImageShapeWarning: You provided a numpy array of shape (1024, 1024, 50) as a single-image augmentation input, which was interpreted as (H, W, C). The last dimension however has a size of >=32, which indicates that you provided a multi-image array with shape (N, H, W) instead. If that is the case, you should use e.g. augmenter(imageS=<your input>) or augment_imageS(<your input>). Otherwise your multi-image input will be interpreted as a single image during augmentation.\n",
      "  ia.warn(\n"
     ]
    },
    {
     "name": "stdout",
     "output_type": "stream",
     "text": [
      "\b\b\b\b\b\b\b\b\b\b\b\b\b\b\b\b\b\b\b\b\b\b\b\b\b\b\b\b\b\b\b\b\b\b\b\b\b\b\b\b\b\b\b\b\b\b\b\b\b\b\b\b\b\b\b\b\b\b\b\b\b\b\b\b\b\b\b\b\b\b\b\b\b\b\b\b\b\b\b\b\b\b\b\b\b\b\b\b\b\b\b\b\b\b\b\b\b\b\b\b\b\b\b\b\b\b\b\b\b\b\b\b\b\b\b\b\b\b\b\b\b\b\b\b\b\b\b\b\b\b\b\b\b\b\b\b\b\b\b\b\b\b\b\b\b\b\b\b\b\b\b\b\b\b\b\b\b\b\b\b\b\b\b\b\b\b\b\b\b\b\b\b\b\b\b\b\b\b\b\b\b\b\b\b\b\b\b\b\b\b\b\b\b\b\b\b\b\b\b\b\b\b\b\b\b\b\b\b\b\b\b\b\b\b\b\b\b\b\b\b\b\b\b\b\b\b\r\n",
      "124/146 [========================>.....] - ETA: 38s - batch: 61.5000 - size: 2.0000 - loss: 3.6904 - rpn_class_loss: 0.7560 - rpn_bbox_loss: 1.4253 - mrcnn_class_loss: 0.3292 - mrcnn_bbox_loss: 0.6988 - mrcnn_mask_loss: 0.4812"
     ]
    },
    {
     "name": "stderr",
     "output_type": "stream",
     "text": [
      "/usr/local/lib/python3.8/dist-packages/imgaug/augmenters/base.py:49: SuspiciousSingleImageShapeWarning: You provided a numpy array of shape (1024, 1024, 38) as a single-image augmentation input, which was interpreted as (H, W, C). The last dimension however has a size of >=32, which indicates that you provided a multi-image array with shape (N, H, W) instead. If that is the case, you should use e.g. augmenter(imageS=<your input>) or augment_imageS(<your input>). Otherwise your multi-image input will be interpreted as a single image during augmentation.\n",
      "  ia.warn(\n"
     ]
    },
    {
     "name": "stdout",
     "output_type": "stream",
     "text": [
      "\b\b\b\b\b\b\b\b\b\b\b\b\b\b\b\b\b\b\b\b\b\b\b\b\b\b\b\b\b\b\b\b\b\b\b\b\b\b\b\b\b\b\b\b\b\b\b\b\b\b\b\b\b\b\b\b\b\b\b\b\b\b\b\b\b\b\b\b\b\b\b\b\b\b\b\b\b\b\b\b\b\b\b\b\b\b\b\b\b\b\b\b\b\b\b\b\b\b\b\b\b\b\b\b\b\b\b\b\b\b\b\b\b\b\b\b\b\b\b\b\b\b\b\b\b\b\b\b\b\b\b\b\b\b\b\b\b\b\b\b\b\b\b\b\b\b\b\b\b\b\b\b\b\b\b\b\b\b\b\b\b\b\b\b\b\b\b\b\b\b\b\b\b\b\b\b\b\b\b\b\b\b\b\b\b\b\b\b\b\b\b\b\b\b\b\b\b\b\b\b\b\b\b\b\b\b\b\b\b\b\b\b\b\b\b\b\b\b\b\b\b\b\b\b\b\b\r\n",
      "125/146 [========================>.....] - ETA: 36s - batch: 62.0000 - size: 2.0000 - loss: 3.6747 - rpn_class_loss: 0.7515 - rpn_bbox_loss: 1.4164 - mrcnn_class_loss: 0.3292 - mrcnn_bbox_loss: 0.6967 - mrcnn_mask_loss: 0.4808"
     ]
    },
    {
     "name": "stderr",
     "output_type": "stream",
     "text": [
      "/usr/local/lib/python3.8/dist-packages/imgaug/augmenters/base.py:49: SuspiciousSingleImageShapeWarning: You provided a numpy array of shape (1024, 1024, 44) as a single-image augmentation input, which was interpreted as (H, W, C). The last dimension however has a size of >=32, which indicates that you provided a multi-image array with shape (N, H, W) instead. If that is the case, you should use e.g. augmenter(imageS=<your input>) or augment_imageS(<your input>). Otherwise your multi-image input will be interpreted as a single image during augmentation.\n",
      "  ia.warn(\n",
      "/usr/local/lib/python3.8/dist-packages/imgaug/augmenters/base.py:49: SuspiciousSingleImageShapeWarning: You provided a numpy array of shape (1024, 1024, 36) as a single-image augmentation input, which was interpreted as (H, W, C). The last dimension however has a size of >=32, which indicates that you provided a multi-image array with shape (N, H, W) instead. If that is the case, you should use e.g. augmenter(imageS=<your input>) or augment_imageS(<your input>). Otherwise your multi-image input will be interpreted as a single image during augmentation.\n",
      "  ia.warn(\n"
     ]
    },
    {
     "name": "stdout",
     "output_type": "stream",
     "text": [
      "127/146 [=========================>....] - ETA: 33s - batch: 63.0000 - size: 2.0000 - loss: 3.6467 - rpn_class_loss: 0.7435 - rpn_bbox_loss: 1.4019 - mrcnn_class_loss: 0.3277 - mrcnn_bbox_loss: 0.6920 - mrcnn_mask_loss: 0.4815"
     ]
    },
    {
     "name": "stderr",
     "output_type": "stream",
     "text": [
      "/usr/local/lib/python3.8/dist-packages/imgaug/augmenters/base.py:49: SuspiciousSingleImageShapeWarning: You provided a numpy array of shape (1024, 1024, 38) as a single-image augmentation input, which was interpreted as (H, W, C). The last dimension however has a size of >=32, which indicates that you provided a multi-image array with shape (N, H, W) instead. If that is the case, you should use e.g. augmenter(imageS=<your input>) or augment_imageS(<your input>). Otherwise your multi-image input will be interpreted as a single image during augmentation.\n",
      "  ia.warn(\n"
     ]
    },
    {
     "name": "stdout",
     "output_type": "stream",
     "text": [
      "\b\b\b\b\b\b\b\b\b\b\b\b\b\b\b\b\b\b\b\b\b\b\b\b\b\b\b\b\b\b\b\b\b\b\b\b\b\b\b\b\b\b\b\b\b\b\b\b\b\b\b\b\b\b\b\b\b\b\b\b\b\b\b\b\b\b\b\b\b\b\b\b\b\b\b\b\b\b\b\b\b\b\b\b\b\b\b\b\b\b\b\b\b\b\b\b\b\b\b\b\b\b\b\b\b\b\b\b\b\b\b\b\b\b\b\b\b\b\b\b\b\b\b\b\b\b\b\b\b\b\b\b\b\b\b\b\b\b\b\b\b\b\b\b\b\b\b\b\b\b\b\b\b\b\b\b\b\b\b\b\b\b\b\b\b\b\b\b\b\b\b\b\b\b\b\b\b\b\b\b\b\b\b\b\b\b\b\b\b\b\b\b\b\b\b\b\b\b\b\b\b\b\b\b\b\b\b\b\b\b\b\b\b\b\b\b\b\b\b\b\b\b\b\b\b\b\r\n",
      "128/146 [=========================>....] - ETA: 31s - batch: 63.5000 - size: 2.0000 - loss: 3.6318 - rpn_class_loss: 0.7391 - rpn_bbox_loss: 1.3932 - mrcnn_class_loss: 0.3281 - mrcnn_bbox_loss: 0.6906 - mrcnn_mask_loss: 0.4808"
     ]
    },
    {
     "name": "stderr",
     "output_type": "stream",
     "text": [
      "/usr/local/lib/python3.8/dist-packages/imgaug/augmenters/base.py:49: SuspiciousSingleImageShapeWarning: You provided a numpy array of shape (1024, 1024, 52) as a single-image augmentation input, which was interpreted as (H, W, C). The last dimension however has a size of >=32, which indicates that you provided a multi-image array with shape (N, H, W) instead. If that is the case, you should use e.g. augmenter(imageS=<your input>) or augment_imageS(<your input>). Otherwise your multi-image input will be interpreted as a single image during augmentation.\n",
      "  ia.warn(\n"
     ]
    },
    {
     "name": "stdout",
     "output_type": "stream",
     "text": [
      "130/146 [=========================>....] - ETA: 28s - batch: 64.5000 - size: 2.0000 - loss: 3.6023 - rpn_class_loss: 0.7312 - rpn_bbox_loss: 1.3775 - mrcnn_class_loss: 0.3276 - mrcnn_bbox_loss: 0.6862 - mrcnn_mask_loss: 0.4798"
     ]
    },
    {
     "name": "stderr",
     "output_type": "stream",
     "text": [
      "/usr/local/lib/python3.8/dist-packages/imgaug/augmenters/base.py:49: SuspiciousSingleImageShapeWarning: You provided a numpy array of shape (1024, 1024, 40) as a single-image augmentation input, which was interpreted as (H, W, C). The last dimension however has a size of >=32, which indicates that you provided a multi-image array with shape (N, H, W) instead. If that is the case, you should use e.g. augmenter(imageS=<your input>) or augment_imageS(<your input>). Otherwise your multi-image input will be interpreted as a single image during augmentation.\n",
      "  ia.warn(\n",
      "/usr/local/lib/python3.8/dist-packages/imgaug/augmenters/base.py:49: SuspiciousSingleImageShapeWarning: You provided a numpy array of shape (1024, 1024, 62) as a single-image augmentation input, which was interpreted as (H, W, C). The last dimension however has a size of >=32, which indicates that you provided a multi-image array with shape (N, H, W) instead. If that is the case, you should use e.g. augmenter(imageS=<your input>) or augment_imageS(<your input>). Otherwise your multi-image input will be interpreted as a single image during augmentation.\n",
      "  ia.warn(\n"
     ]
    },
    {
     "name": "stdout",
     "output_type": "stream",
     "text": [
      "132/146 [==========================>...] - ETA: 24s - batch: 65.5000 - size: 2.0000 - loss: 3.5768 - rpn_class_loss: 0.7229 - rpn_bbox_loss: 1.3638 - mrcnn_class_loss: 0.3286 - mrcnn_bbox_loss: 0.6822 - mrcnn_mask_loss: 0.4793"
     ]
    },
    {
     "name": "stderr",
     "output_type": "stream",
     "text": [
      "/usr/local/lib/python3.8/dist-packages/imgaug/augmenters/base.py:49: SuspiciousSingleImageShapeWarning: You provided a numpy array of shape (1024, 1024, 64) as a single-image augmentation input, which was interpreted as (H, W, C). The last dimension however has a size of >=32, which indicates that you provided a multi-image array with shape (N, H, W) instead. If that is the case, you should use e.g. augmenter(imageS=<your input>) or augment_imageS(<your input>). Otherwise your multi-image input will be interpreted as a single image during augmentation.\n",
      "  ia.warn(\n"
     ]
    },
    {
     "name": "stdout",
     "output_type": "stream",
     "text": [
      "\b\b\b\b\b\b\b\b\b\b\b\b\b\b\b\b\b\b\b\b\b\b\b\b\b\b\b\b\b\b\b\b\b\b\b\b\b\b\b\b\b\b\b\b\b\b\b\b\b\b\b\b\b\b\b\b\b\b\b\b\b\b\b\b\b\b\b\b\b\b\b\b\b\b\b\b\b\b\b\b\b\b\b\b\b\b\b\b\b\b\b\b\b\b\b\b\b\b\b\b\b\b\b\b\b\b\b\b\b\b\b\b\b\b\b\b\b\b\b\b\b\b\b\b\b\b\b\b\b\b\b\b\b\b\b\b\b\b\b\b\b\b\b\b\b\b\b\b\b\b\b\b\b\b\b\b\b\b\b\b\b\b\b\b\b\b\b\b\b\b\b\b\b\b\b\b\b\b\b\b\b\b\b\b\b\b\b\b\b\b\b\b\b\b\b\b\b\b\b\b\b\b\b\b\b\b\b\b\b\b\b\b\b\b\b\b\b\b\b\b\b\b\b\b\b\b\r\n",
      "133/146 [==========================>...] - ETA: 22s - batch: 66.0000 - size: 2.0000 - loss: 3.5704 - rpn_class_loss: 0.7194 - rpn_bbox_loss: 1.3600 - mrcnn_class_loss: 0.3299 - mrcnn_bbox_loss: 0.6815 - mrcnn_mask_loss: 0.4796"
     ]
    },
    {
     "name": "stderr",
     "output_type": "stream",
     "text": [
      "/usr/local/lib/python3.8/dist-packages/imgaug/augmenters/base.py:49: SuspiciousSingleImageShapeWarning: You provided a numpy array of shape (1024, 1024, 58) as a single-image augmentation input, which was interpreted as (H, W, C). The last dimension however has a size of >=32, which indicates that you provided a multi-image array with shape (N, H, W) instead. If that is the case, you should use e.g. augmenter(imageS=<your input>) or augment_imageS(<your input>). Otherwise your multi-image input will be interpreted as a single image during augmentation.\n",
      "  ia.warn(\n",
      "/usr/local/lib/python3.8/dist-packages/imgaug/augmenters/base.py:49: SuspiciousSingleImageShapeWarning: You provided a numpy array of shape (1024, 1024, 64) as a single-image augmentation input, which was interpreted as (H, W, C). The last dimension however has a size of >=32, which indicates that you provided a multi-image array with shape (N, H, W) instead. If that is the case, you should use e.g. augmenter(imageS=<your input>) or augment_imageS(<your input>). Otherwise your multi-image input will be interpreted as a single image during augmentation.\n",
      "  ia.warn(\n"
     ]
    },
    {
     "name": "stdout",
     "output_type": "stream",
     "text": [
      "\b\b\b\b\b\b\b\b\b\b\b\b\b\b\b\b\b\b\b\b\b\b\b\b\b\b\b\b\b\b\b\b\b\b\b\b\b\b\b\b\b\b\b\b\b\b\b\b\b\b\b\b\b\b\b\b\b\b\b\b\b\b\b\b\b\b\b\b\b\b\b\b\b\b\b\b\b\b\b\b\b\b\b\b\b\b\b\b\b\b\b\b\b\b\b\b\b\b\b\b\b\b\b\b\b\b\b\b\b\b\b\b\b\b\b\b\b\b\b\b\b\b\b\b\b\b\b\b\b\b\b\b\b\b\b\b\b\b\b\b\b\b\b\b\b\b\b\b\b\b\b\b\b\b\b\b\b\b\b\b\b\b\b\b\b\b\b\b\b\b\b\b\b\b\b\b\b\b\b\b\b\b\b\b\b\b\b\b\b\b\b\b\b\b\b\b\b\b\b\b\b\b\b\b\b\b\b\b\b\b\b\b\b\b\b\b\b\b\b\b\b\b\b\b\b\b\r\n",
      "134/146 [==========================>...] - ETA: 21s - batch: 66.5000 - size: 2.0000 - loss: 3.5568 - rpn_class_loss: 0.7152 - rpn_bbox_loss: 1.3526 - mrcnn_class_loss: 0.3299 - mrcnn_bbox_loss: 0.6797 - mrcnn_mask_loss: 0.4794"
     ]
    },
    {
     "name": "stderr",
     "output_type": "stream",
     "text": [
      "/usr/local/lib/python3.8/dist-packages/imgaug/augmenters/base.py:49: SuspiciousSingleImageShapeWarning: You provided a numpy array of shape (1024, 1024, 44) as a single-image augmentation input, which was interpreted as (H, W, C). The last dimension however has a size of >=32, which indicates that you provided a multi-image array with shape (N, H, W) instead. If that is the case, you should use e.g. augmenter(imageS=<your input>) or augment_imageS(<your input>). Otherwise your multi-image input will be interpreted as a single image during augmentation.\n",
      "  ia.warn(\n"
     ]
    },
    {
     "name": "stdout",
     "output_type": "stream",
     "text": [
      "\b\b\b\b\b\b\b\b\b\b\b\b\b\b\b\b\b\b\b\b\b\b\b\b\b\b\b\b\b\b\b\b\b\b\b\b\b\b\b\b\b\b\b\b\b\b\b\b\b\b\b\b\b\b\b\b\b\b\b\b\b\b\b\b\b\b\b\b\b\b\b\b\b\b\b\b\b\b\b\b\b\b\b\b\b\b\b\b\b\b\b\b\b\b\b\b\b\b\b\b\b\b\b\b\b\b\b\b\b\b\b\b\b\b\b\b\b\b\b\b\b\b\b\b\b\b\b\b\b\b\b\b\b\b\b\b\b\b\b\b\b\b\b\b\b\b\b\b\b\b\b\b\b\b\b\b\b\b\b\b\b\b\b\b\b\b\b\b\b\b\b\b\b\b\b\b\b\b\b\b\b\b\b\b\b\b\b\b\b\b\b\b\b\b\b\b\b\b\b\b\b\b\b\b\b\b\b\b\b\b\b\b\b\b\b\b\b\b\b\b\b\b\b\b\b\b\r\n",
      "135/146 [==========================>...] - ETA: 19s - batch: 67.0000 - size: 2.0000 - loss: 3.5487 - rpn_class_loss: 0.7119 - rpn_bbox_loss: 1.3475 - mrcnn_class_loss: 0.3314 - mrcnn_bbox_loss: 0.6781 - mrcnn_mask_loss: 0.4798"
     ]
    },
    {
     "name": "stderr",
     "output_type": "stream",
     "text": [
      "/usr/local/lib/python3.8/dist-packages/imgaug/augmenters/base.py:49: SuspiciousSingleImageShapeWarning: You provided a numpy array of shape (1024, 1024, 62) as a single-image augmentation input, which was interpreted as (H, W, C). The last dimension however has a size of >=32, which indicates that you provided a multi-image array with shape (N, H, W) instead. If that is the case, you should use e.g. augmenter(imageS=<your input>) or augment_imageS(<your input>). Otherwise your multi-image input will be interpreted as a single image during augmentation.\n",
      "  ia.warn(\n",
      "/usr/local/lib/python3.8/dist-packages/imgaug/augmenters/base.py:49: SuspiciousSingleImageShapeWarning: You provided a numpy array of shape (1024, 1024, 58) as a single-image augmentation input, which was interpreted as (H, W, C). The last dimension however has a size of >=32, which indicates that you provided a multi-image array with shape (N, H, W) instead. If that is the case, you should use e.g. augmenter(imageS=<your input>) or augment_imageS(<your input>). Otherwise your multi-image input will be interpreted as a single image during augmentation.\n",
      "  ia.warn(\n"
     ]
    },
    {
     "name": "stdout",
     "output_type": "stream",
     "text": [
      "\b\b\b\b\b\b\b\b\b\b\b\b\b\b\b\b\b\b\b\b\b\b\b\b\b\b\b\b\b\b\b\b\b\b\b\b\b\b\b\b\b\b\b\b\b\b\b\b\b\b\b\b\b\b\b\b\b\b\b\b\b\b\b\b\b\b\b\b\b\b\b\b\b\b\b\b\b\b\b\b\b\b\b\b\b\b\b\b\b\b\b\b\b\b\b\b\b\b\b\b\b\b\b\b\b\b\b\b\b\b\b\b\b\b\b\b\b\b\b\b\b\b\b\b\b\b\b\b\b\b\b\b\b\b\b\b\b\b\b\b\b\b\b\b\b\b\b\b\b\b\b\b\b\b\b\b\b\b\b\b\b\b\b\b\b\b\b\b\b\b\b\b\b\b\b\b\b\b\b\b\b\b\b\b\b\b\b\b\b\b\b\b\b\b\b\b\b\b\b\b\b\b\b\b\b\b\b\b\b\b\b\b\b\b\b\b\b\b\b\b\b\b\b\b\b\b\r\n",
      "136/146 [==========================>...] - ETA: 17s - batch: 67.5000 - size: 2.0000 - loss: 3.5367 - rpn_class_loss: 0.7082 - rpn_bbox_loss: 1.3400 - mrcnn_class_loss: 0.3323 - mrcnn_bbox_loss: 0.6765 - mrcnn_mask_loss: 0.4798"
     ]
    },
    {
     "name": "stderr",
     "output_type": "stream",
     "text": [
      "/usr/local/lib/python3.8/dist-packages/imgaug/augmenters/base.py:49: SuspiciousSingleImageShapeWarning: You provided a numpy array of shape (1024, 1024, 98) as a single-image augmentation input, which was interpreted as (H, W, C). The last dimension however has a size of >=32, which indicates that you provided a multi-image array with shape (N, H, W) instead. If that is the case, you should use e.g. augmenter(imageS=<your input>) or augment_imageS(<your input>). Otherwise your multi-image input will be interpreted as a single image during augmentation.\n",
      "  ia.warn(\n",
      "/usr/local/lib/python3.8/dist-packages/imgaug/augmenters/base.py:49: SuspiciousSingleImageShapeWarning: You provided a numpy array of shape (1024, 1024, 56) as a single-image augmentation input, which was interpreted as (H, W, C). The last dimension however has a size of >=32, which indicates that you provided a multi-image array with shape (N, H, W) instead. If that is the case, you should use e.g. augmenter(imageS=<your input>) or augment_imageS(<your input>). Otherwise your multi-image input will be interpreted as a single image during augmentation.\n",
      "  ia.warn(\n"
     ]
    },
    {
     "name": "stdout",
     "output_type": "stream",
     "text": [
      "\b\b\b\b\b\b\b\b\b\b\b\b\b\b\b\b\b\b\b\b\b\b\b\b\b\b\b\b\b\b\b\b\b\b\b\b\b\b\b\b\b\b\b\b\b\b\b\b\b\b\b\b\b\b\b\b\b\b\b\b\b\b\b\b\b\b\b\b\b\b\b\b\b\b\b\b\b\b\b\b\b\b\b\b\b\b\b\b\b\b\b\b\b\b\b\b\b\b\b\b\b\b\b\b\b\b\b\b\b\b\b\b\b\b\b\b\b\b\b\b\b\b\b\b\b\b\b\b\b\b\b\b\b\b\b\b\b\b\b\b\b\b\b\b\b\b\b\b\b\b\b\b\b\b\b\b\b\b\b\b\b\b\b\b\b\b\b\b\b\b\b\b\b\b\b\b\b\b\b\b\b\b\b\b\b\b\b\b\b\b\b\b\b\b\b\b\b\b\b\b\b\b\b\b\b\b\b\b\b\b\b\b\b\b\b\b\b\b\b\b\b\b\b\b\b\b\r\n",
      "137/146 [===========================>..] - ETA: 16s - batch: 68.0000 - size: 2.0000 - loss: 3.5286 - rpn_class_loss: 0.7056 - rpn_bbox_loss: 1.3348 - mrcnn_class_loss: 0.3340 - mrcnn_bbox_loss: 0.6743 - mrcnn_mask_loss: 0.4800"
     ]
    },
    {
     "name": "stderr",
     "output_type": "stream",
     "text": [
      "/usr/local/lib/python3.8/dist-packages/imgaug/augmenters/base.py:49: SuspiciousSingleImageShapeWarning: You provided a numpy array of shape (1024, 1024, 44) as a single-image augmentation input, which was interpreted as (H, W, C). The last dimension however has a size of >=32, which indicates that you provided a multi-image array with shape (N, H, W) instead. If that is the case, you should use e.g. augmenter(imageS=<your input>) or augment_imageS(<your input>). Otherwise your multi-image input will be interpreted as a single image during augmentation.\n",
      "  ia.warn(\n",
      "/usr/local/lib/python3.8/dist-packages/imgaug/augmenters/base.py:49: SuspiciousSingleImageShapeWarning: You provided a numpy array of shape (1024, 1024, 38) as a single-image augmentation input, which was interpreted as (H, W, C). The last dimension however has a size of >=32, which indicates that you provided a multi-image array with shape (N, H, W) instead. If that is the case, you should use e.g. augmenter(imageS=<your input>) or augment_imageS(<your input>). Otherwise your multi-image input will be interpreted as a single image during augmentation.\n",
      "  ia.warn(\n"
     ]
    },
    {
     "name": "stdout",
     "output_type": "stream",
     "text": [
      "\b\b\b\b\b\b\b\b\b\b\b\b\b\b\b\b\b\b\b\b\b\b\b\b\b\b\b\b\b\b\b\b\b\b\b\b\b\b\b\b\b\b\b\b\b\b\b\b\b\b\b\b\b\b\b\b\b\b\b\b\b\b\b\b\b\b\b\b\b\b\b\b\b\b\b\b\b\b\b\b\b\b\b\b\b\b\b\b\b\b\b\b\b\b\b\b\b\b\b\b\b\b\b\b\b\b\b\b\b\b\b\b\b\b\b\b\b\b\b\b\b\b\b\b\b\b\b\b\b\b\b\b\b\b\b\b\b\b\b\b\b\b\b\b\b\b\b\b\b\b\b\b\b\b\b\b\b\b\b\b\b\b\b\b\b\b\b\b\b\b\b\b\b\b\b\b\b\b\b\b\b\b\b\b\b\b\b\b\b\b\b\b\b\b\b\b\b\b\b\b\b\b\b\b\b\b\b\b\b\b\b\b\b\b\b\b\b\b\b\b\b\b\b\b\b\b\r\n",
      "138/146 [===========================>..] - ETA: 14s - batch: 68.5000 - size: 2.0000 - loss: 3.5180 - rpn_class_loss: 0.7015 - rpn_bbox_loss: 1.3288 - mrcnn_class_loss: 0.3351 - mrcnn_bbox_loss: 0.6730 - mrcnn_mask_loss: 0.4798"
     ]
    },
    {
     "name": "stderr",
     "output_type": "stream",
     "text": [
      "/usr/local/lib/python3.8/dist-packages/imgaug/augmenters/base.py:49: SuspiciousSingleImageShapeWarning: You provided a numpy array of shape (1024, 1024, 38) as a single-image augmentation input, which was interpreted as (H, W, C). The last dimension however has a size of >=32, which indicates that you provided a multi-image array with shape (N, H, W) instead. If that is the case, you should use e.g. augmenter(imageS=<your input>) or augment_imageS(<your input>). Otherwise your multi-image input will be interpreted as a single image during augmentation.\n",
      "  ia.warn(\n"
     ]
    },
    {
     "name": "stdout",
     "output_type": "stream",
     "text": [
      "\b\b\b\b\b\b\b\b\b\b\b\b\b\b\b\b\b\b\b\b\b\b\b\b\b\b\b\b\b\b\b\b\b\b\b\b\b\b\b\b\b\b\b\b\b\b\b\b\b\b\b\b\b\b\b\b\b\b\b\b\b\b\b\b\b\b\b\b\b\b\b\b\b\b\b\b\b\b\b\b\b\b\b\b\b\b\b\b\b\b\b\b\b\b\b\b\b\b\b\b\b\b\b\b\b\b\b\b\b\b\b\b\b\b\b\b\b\b\b\b\b\b\b\b\b\b\b\b\b\b\b\b\b\b\b\b\b\b\b\b\b\b\b\b\b\b\b\b\b\b\b\b\b\b\b\b\b\b\b\b\b\b\b\b\b\b\b\b\b\b\b\b\b\b\b\b\b\b\b\b\b\b\b\b\b\b\b\b\b\b\b\b\b\b\b\b\b\b\b\b\b\b\b\b\b\b\b\b\b\b\b\b\b\b\b\b\b\b\b\b\b\b\b\b\b\b\r\n",
      "139/146 [===========================>..] - ETA: 12s - batch: 69.0000 - size: 2.0000 - loss: 3.5079 - rpn_class_loss: 0.6989 - rpn_bbox_loss: 1.3218 - mrcnn_class_loss: 0.3357 - mrcnn_bbox_loss: 0.6725 - mrcnn_mask_loss: 0.4791"
     ]
    },
    {
     "name": "stderr",
     "output_type": "stream",
     "text": [
      "/usr/local/lib/python3.8/dist-packages/imgaug/augmenters/base.py:49: SuspiciousSingleImageShapeWarning: You provided a numpy array of shape (1024, 1024, 42) as a single-image augmentation input, which was interpreted as (H, W, C). The last dimension however has a size of >=32, which indicates that you provided a multi-image array with shape (N, H, W) instead. If that is the case, you should use e.g. augmenter(imageS=<your input>) or augment_imageS(<your input>). Otherwise your multi-image input will be interpreted as a single image during augmentation.\n",
      "  ia.warn(\n",
      "/usr/local/lib/python3.8/dist-packages/imgaug/augmenters/base.py:49: SuspiciousSingleImageShapeWarning: You provided a numpy array of shape (1024, 1024, 34) as a single-image augmentation input, which was interpreted as (H, W, C). The last dimension however has a size of >=32, which indicates that you provided a multi-image array with shape (N, H, W) instead. If that is the case, you should use e.g. augmenter(imageS=<your input>) or augment_imageS(<your input>). Otherwise your multi-image input will be interpreted as a single image during augmentation.\n",
      "  ia.warn(\n"
     ]
    },
    {
     "name": "stdout",
     "output_type": "stream",
     "text": [
      "\b\b\b\b\b\b\b\b\b\b\b\b\b\b\b\b\b\b\b\b\b\b\b\b\b\b\b\b\b\b\b\b\b\b\b\b\b\b\b\b\b\b\b\b\b\b\b\b\b\b\b\b\b\b\b\b\b\b\b\b\b\b\b\b\b\b\b\b\b\b\b\b\b\b\b\b\b\b\b\b\b\b\b\b\b\b\b\b\b\b\b\b\b\b\b\b\b\b\b\b\b\b\b\b\b\b\b\b\b\b\b\b\b\b\b\b\b\b\b\b\b\b\b\b\b\b\b\b\b\b\b\b\b\b\b\b\b\b\b\b\b\b\b\b\b\b\b\b\b\b\b\b\b\b\b\b\b\b\b\b\b\b\b\b\b\b\b\b\b\b\b\b\b\b\b\b\b\b\b\b\b\b\b\b\b\b\b\b\b\b\b\b\b\b\b\b\b\b\b\b\b\b\b\b\b\b\b\b\b\b\b\b\b\b\b\b\b\b\b\b\b\b\b\b\b\b\r\n",
      "140/146 [===========================>..] - ETA: 10s - batch: 69.5000 - size: 2.0000 - loss: 3.4968 - rpn_class_loss: 0.6952 - rpn_bbox_loss: 1.3158 - mrcnn_class_loss: 0.3362 - mrcnn_bbox_loss: 0.6704 - mrcnn_mask_loss: 0.4792"
     ]
    },
    {
     "name": "stderr",
     "output_type": "stream",
     "text": [
      "/usr/local/lib/python3.8/dist-packages/imgaug/augmenters/base.py:49: SuspiciousSingleImageShapeWarning: You provided a numpy array of shape (1024, 1024, 40) as a single-image augmentation input, which was interpreted as (H, W, C). The last dimension however has a size of >=32, which indicates that you provided a multi-image array with shape (N, H, W) instead. If that is the case, you should use e.g. augmenter(imageS=<your input>) or augment_imageS(<your input>). Otherwise your multi-image input will be interpreted as a single image during augmentation.\n",
      "  ia.warn(\n"
     ]
    },
    {
     "name": "stdout",
     "output_type": "stream",
     "text": [
      "\b\b\b\b\b\b\b\b\b\b\b\b\b\b\b\b\b\b\b\b\b\b\b\b\b\b\b\b\b\b\b\b\b\b\b\b\b\b\b\b\b\b\b\b\b\b\b\b\b\b\b\b\b\b\b\b\b\b\b\b\b\b\b\b\b\b\b\b\b\b\b\b\b\b\b\b\b\b\b\b\b\b\b\b\b\b\b\b\b\b\b\b\b\b\b\b\b\b\b\b\b\b\b\b\b\b\b\b\b\b\b\b\b\b\b\b\b\b\b\b\b\b\b\b\b\b\b\b\b\b\b\b\b\b\b\b\b\b\b\b\b\b\b\b\b\b\b\b\b\b\b\b\b\b\b\b\b\b\b\b\b\b\b\b\b\b\b\b\b\b\b\b\b\b\b\b\b\b\b\b\b\b\b\b\b\b\b\b\b\b\b\b\b\b\b\b\b\b\b\b\b\b\b\b\b\b\b\b\b\b\b\b\b\b\b\b\b\b\b\b\b\b\b\b\b\b\r\n",
      "141/146 [===========================>..] - ETA: 8s - batch: 70.0000 - size: 2.0000 - loss: 3.4885 - rpn_class_loss: 0.6918 - rpn_bbox_loss: 1.3111 - mrcnn_class_loss: 0.3368 - mrcnn_bbox_loss: 0.6689 - mrcnn_mask_loss: 0.4799 "
     ]
    },
    {
     "name": "stderr",
     "output_type": "stream",
     "text": [
      "/usr/local/lib/python3.8/dist-packages/imgaug/augmenters/base.py:49: SuspiciousSingleImageShapeWarning: You provided a numpy array of shape (1024, 1024, 52) as a single-image augmentation input, which was interpreted as (H, W, C). The last dimension however has a size of >=32, which indicates that you provided a multi-image array with shape (N, H, W) instead. If that is the case, you should use e.g. augmenter(imageS=<your input>) or augment_imageS(<your input>). Otherwise your multi-image input will be interpreted as a single image during augmentation.\n",
      "  ia.warn(\n"
     ]
    },
    {
     "name": "stdout",
     "output_type": "stream",
     "text": [
      "\b\b\b\b\b\b\b\b\b\b\b\b\b\b\b\b\b\b\b\b\b\b\b\b\b\b\b\b\b\b\b\b\b\b\b\b\b\b\b\b\b\b\b\b\b\b\b\b\b\b\b\b\b\b\b\b\b\b\b\b\b\b\b\b\b\b\b\b\b\b\b\b\b\b\b\b\b\b\b\b\b\b\b\b\b\b\b\b\b\b\b\b\b\b\b\b\b\b\b\b\b\b\b\b\b\b\b\b\b\b\b\b\b\b\b\b\b\b\b\b\b\b\b\b\b\b\b\b\b\b\b\b\b\b\b\b\b\b\b\b\b\b\b\b\b\b\b\b\b\b\b\b\b\b\b\b\b\b\b\b\b\b\b\b\b\b\b\b\b\b\b\b\b\b\b\b\b\b\b\b\b\b\b\b\b\b\b\b\b\b\b\b\b\b\b\b\b\b\b\b\b\b\b\b\b\b\b\b\b\b\b\b\b\b\b\b\b\b\b\b\b\b\b\b\b\r\n",
      "142/146 [============================>.] - ETA: 7s - batch: 70.5000 - size: 2.0000 - loss: 3.4753 - rpn_class_loss: 0.6879 - rpn_bbox_loss: 1.3036 - mrcnn_class_loss: 0.3375 - mrcnn_bbox_loss: 0.6668 - mrcnn_mask_loss: 0.4794"
     ]
    },
    {
     "name": "stderr",
     "output_type": "stream",
     "text": [
      "/usr/local/lib/python3.8/dist-packages/imgaug/augmenters/base.py:49: SuspiciousSingleImageShapeWarning: You provided a numpy array of shape (1024, 1024, 32) as a single-image augmentation input, which was interpreted as (H, W, C). The last dimension however has a size of >=32, which indicates that you provided a multi-image array with shape (N, H, W) instead. If that is the case, you should use e.g. augmenter(imageS=<your input>) or augment_imageS(<your input>). Otherwise your multi-image input will be interpreted as a single image during augmentation.\n",
      "  ia.warn(\n",
      "/usr/local/lib/python3.8/dist-packages/imgaug/augmenters/base.py:49: SuspiciousSingleImageShapeWarning: You provided a numpy array of shape (1024, 1024, 40) as a single-image augmentation input, which was interpreted as (H, W, C). The last dimension however has a size of >=32, which indicates that you provided a multi-image array with shape (N, H, W) instead. If that is the case, you should use e.g. augmenter(imageS=<your input>) or augment_imageS(<your input>). Otherwise your multi-image input will be interpreted as a single image during augmentation.\n",
      "  ia.warn(\n"
     ]
    },
    {
     "name": "stdout",
     "output_type": "stream",
     "text": [
      "\b\b\b\b\b\b\b\b\b\b\b\b\b\b\b\b\b\b\b\b\b\b\b\b\b\b\b\b\b\b\b\b\b\b\b\b\b\b\b\b\b\b\b\b\b\b\b\b\b\b\b\b\b\b\b\b\b\b\b\b\b\b\b\b\b\b\b\b\b\b\b\b\b\b\b\b\b\b\b\b\b\b\b\b\b\b\b\b\b\b\b\b\b\b\b\b\b\b\b\b\b\b\b\b\b\b\b\b\b\b\b\b\b\b\b\b\b\b\b\b\b\b\b\b\b\b\b\b\b\b\b\b\b\b\b\b\b\b\b\b\b\b\b\b\b\b\b\b\b\b\b\b\b\b\b\b\b\b\b\b\b\b\b\b\b\b\b\b\b\b\b\b\b\b\b\b\b\b\b\b\b\b\b\b\b\b\b\b\b\b\b\b\b\b\b\b\b\b\b\b\b\b\b\b\b\b\b\b\b\b\b\b\b\b\b\b\b\b\b\b\b\b\b\b\b\r\n",
      "143/146 [============================>.] - ETA: 5s - batch: 71.0000 - size: 2.0000 - loss: 3.4635 - rpn_class_loss: 0.6838 - rpn_bbox_loss: 1.2972 - mrcnn_class_loss: 0.3383 - mrcnn_bbox_loss: 0.6651 - mrcnn_mask_loss: 0.4791"
     ]
    },
    {
     "name": "stderr",
     "output_type": "stream",
     "text": [
      "/usr/local/lib/python3.8/dist-packages/imgaug/augmenters/base.py:49: SuspiciousSingleImageShapeWarning: You provided a numpy array of shape (1024, 1024, 40) as a single-image augmentation input, which was interpreted as (H, W, C). The last dimension however has a size of >=32, which indicates that you provided a multi-image array with shape (N, H, W) instead. If that is the case, you should use e.g. augmenter(imageS=<your input>) or augment_imageS(<your input>). Otherwise your multi-image input will be interpreted as a single image during augmentation.\n",
      "  ia.warn(\n"
     ]
    },
    {
     "name": "stdout",
     "output_type": "stream",
     "text": [
      "145/146 [============================>.] - ETA: 1s - batch: 72.0000 - size: 2.0000 - loss: 3.4384 - rpn_class_loss: 0.6764 - rpn_bbox_loss: 1.2838 - mrcnn_class_loss: 0.3385 - mrcnn_bbox_loss: 0.6607 - mrcnn_mask_loss: 0.4790"
     ]
    },
    {
     "name": "stderr",
     "output_type": "stream",
     "text": [
      "/usr/local/lib/python3.8/dist-packages/imgaug/augmenters/base.py:49: SuspiciousSingleImageShapeWarning: You provided a numpy array of shape (1024, 1024, 40) as a single-image augmentation input, which was interpreted as (H, W, C). The last dimension however has a size of >=32, which indicates that you provided a multi-image array with shape (N, H, W) instead. If that is the case, you should use e.g. augmenter(imageS=<your input>) or augment_imageS(<your input>). Otherwise your multi-image input will be interpreted as a single image during augmentation.\n",
      "  ia.warn(\n"
     ]
    },
    {
     "name": "stdout",
     "output_type": "stream",
     "text": [
      "146/146 [==============================] - 530s 3s/step - batch: 72.5000 - size: 2.0000 - loss: 3.4248 - rpn_class_loss: 0.6731 - rpn_bbox_loss: 1.2769 - mrcnn_class_loss: 0.3374 - mrcnn_bbox_loss: 0.6589 - mrcnn_mask_loss: 0.4786 - val_loss: 2.5137 - val_rpn_class_loss: 0.6742 - val_rpn_bbox_loss: 0.5841 - val_mrcnn_class_loss: 0.3644 - val_mrcnn_bbox_loss: 0.4684 - val_mrcnn_mask_loss: 0.4226\n",
      "Epoch 2/300\n",
      "146/146 [==============================] - 461s 3s/step - batch: 72.5000 - size: 2.0000 - loss: 1.7557 - rpn_class_loss: 0.1718 - rpn_bbox_loss: 0.3608 - mrcnn_class_loss: 0.4238 - mrcnn_bbox_loss: 0.3596 - mrcnn_mask_loss: 0.4397 - val_loss: 2.2940 - val_rpn_class_loss: 0.4119 - val_rpn_bbox_loss: 0.5739 - val_mrcnn_class_loss: 0.4477 - val_mrcnn_bbox_loss: 0.4380 - val_mrcnn_mask_loss: 0.4225\n",
      "Epoch 3/300\n",
      "146/146 [==============================] - 462s 3s/step - batch: 72.5000 - size: 2.0000 - loss: 1.5893 - rpn_class_loss: 0.1300 - rpn_bbox_loss: 0.3144 - mrcnn_class_loss: 0.4040 - mrcnn_bbox_loss: 0.3174 - mrcnn_mask_loss: 0.4235 - val_loss: 2.1117 - val_rpn_class_loss: 0.3563 - val_rpn_bbox_loss: 0.4811 - val_mrcnn_class_loss: 0.4431 - val_mrcnn_bbox_loss: 0.4305 - val_mrcnn_mask_loss: 0.4007\n",
      "Epoch 4/300\n",
      "146/146 [==============================] - 422s 3s/step - batch: 72.5000 - size: 2.0000 - loss: 1.4378 - rpn_class_loss: 0.1108 - rpn_bbox_loss: 0.2664 - mrcnn_class_loss: 0.3767 - mrcnn_bbox_loss: 0.2773 - mrcnn_mask_loss: 0.4067 - val_loss: 2.2258 - val_rpn_class_loss: 0.3631 - val_rpn_bbox_loss: 0.5014 - val_mrcnn_class_loss: 0.5168 - val_mrcnn_bbox_loss: 0.4218 - val_mrcnn_mask_loss: 0.4228\n",
      "Epoch 5/300\n",
      "146/146 [==============================] - 477s 3s/step - batch: 72.5000 - size: 2.0000 - loss: 1.3806 - rpn_class_loss: 0.0996 - rpn_bbox_loss: 0.2474 - mrcnn_class_loss: 0.3737 - mrcnn_bbox_loss: 0.2623 - mrcnn_mask_loss: 0.3976 - val_loss: 2.2909 - val_rpn_class_loss: 0.4672 - val_rpn_bbox_loss: 0.5222 - val_mrcnn_class_loss: 0.4727 - val_mrcnn_bbox_loss: 0.3988 - val_mrcnn_mask_loss: 0.4300\n",
      "Epoch 6/300\n",
      "146/146 [==============================] - 462s 3s/step - batch: 72.5000 - size: 2.0000 - loss: 1.2840 - rpn_class_loss: 0.0894 - rpn_bbox_loss: 0.2242 - mrcnn_class_loss: 0.3381 - mrcnn_bbox_loss: 0.2467 - mrcnn_mask_loss: 0.3856 - val_loss: 2.4492 - val_rpn_class_loss: 0.4792 - val_rpn_bbox_loss: 0.6413 - val_mrcnn_class_loss: 0.5381 - val_mrcnn_bbox_loss: 0.3968 - val_mrcnn_mask_loss: 0.3937\n",
      "Epoch 7/300\n",
      "146/146 [==============================] - 451s 3s/step - batch: 72.5000 - size: 2.0000 - loss: 1.2255 - rpn_class_loss: 0.0775 - rpn_bbox_loss: 0.2171 - mrcnn_class_loss: 0.3266 - mrcnn_bbox_loss: 0.2267 - mrcnn_mask_loss: 0.3776 - val_loss: 2.7200 - val_rpn_class_loss: 0.7066 - val_rpn_bbox_loss: 0.5358 - val_mrcnn_class_loss: 0.6718 - val_mrcnn_bbox_loss: 0.3902 - val_mrcnn_mask_loss: 0.4157\n",
      "Epoch 8/300\n",
      "146/146 [==============================] - 467s 3s/step - batch: 72.5000 - size: 2.0000 - loss: 1.1426 - rpn_class_loss: 0.0684 - rpn_bbox_loss: 0.1842 - mrcnn_class_loss: 0.3111 - mrcnn_bbox_loss: 0.2124 - mrcnn_mask_loss: 0.3666 - val_loss: 2.6471 - val_rpn_class_loss: 0.8056 - val_rpn_bbox_loss: 0.5659 - val_mrcnn_class_loss: 0.4885 - val_mrcnn_bbox_loss: 0.3941 - val_mrcnn_mask_loss: 0.3930\n",
      "Epoch 9/300\n",
      "146/146 [==============================] - 417s 3s/step - batch: 72.5000 - size: 2.0000 - loss: 1.1225 - rpn_class_loss: 0.0687 - rpn_bbox_loss: 0.1883 - mrcnn_class_loss: 0.3001 - mrcnn_bbox_loss: 0.2066 - mrcnn_mask_loss: 0.3588 - val_loss: 2.4164 - val_rpn_class_loss: 0.5477 - val_rpn_bbox_loss: 0.5638 - val_mrcnn_class_loss: 0.5537 - val_mrcnn_bbox_loss: 0.3777 - val_mrcnn_mask_loss: 0.3735\n",
      "Epoch 10/300\n",
      "146/146 [==============================] - 475s 3s/step - batch: 72.5000 - size: 2.0000 - loss: 1.0661 - rpn_class_loss: 0.0673 - rpn_bbox_loss: 0.1762 - mrcnn_class_loss: 0.2772 - mrcnn_bbox_loss: 0.1925 - mrcnn_mask_loss: 0.3529 - val_loss: 3.0641 - val_rpn_class_loss: 0.9725 - val_rpn_bbox_loss: 0.6071 - val_mrcnn_class_loss: 0.6979 - val_mrcnn_bbox_loss: 0.3965 - val_mrcnn_mask_loss: 0.3902\n",
      "Epoch 11/300\n",
      "146/146 [==============================] - 470s 3s/step - batch: 72.5000 - size: 2.0000 - loss: 1.0359 - rpn_class_loss: 0.0679 - rpn_bbox_loss: 0.1739 - mrcnn_class_loss: 0.2667 - mrcnn_bbox_loss: 0.1808 - mrcnn_mask_loss: 0.3466 - val_loss: 2.7898 - val_rpn_class_loss: 0.7619 - val_rpn_bbox_loss: 0.6353 - val_mrcnn_class_loss: 0.6398 - val_mrcnn_bbox_loss: 0.3639 - val_mrcnn_mask_loss: 0.3889\n",
      "Epoch 12/300\n",
      "146/146 [==============================] - 457s 3s/step - batch: 72.5000 - size: 2.0000 - loss: 1.0316 - rpn_class_loss: 0.0677 - rpn_bbox_loss: 0.1760 - mrcnn_class_loss: 0.2621 - mrcnn_bbox_loss: 0.1793 - mrcnn_mask_loss: 0.3465 - val_loss: 2.6124 - val_rpn_class_loss: 0.7327 - val_rpn_bbox_loss: 0.5907 - val_mrcnn_class_loss: 0.5271 - val_mrcnn_bbox_loss: 0.3718 - val_mrcnn_mask_loss: 0.3902\n",
      "Epoch 13/300\n",
      "146/146 [==============================] - 418s 3s/step - batch: 72.5000 - size: 2.0000 - loss: 0.9334 - rpn_class_loss: 0.0549 - rpn_bbox_loss: 0.1507 - mrcnn_class_loss: 0.2317 - mrcnn_bbox_loss: 0.1626 - mrcnn_mask_loss: 0.3336 - val_loss: 2.6665 - val_rpn_class_loss: 0.8310 - val_rpn_bbox_loss: 0.5439 - val_mrcnn_class_loss: 0.5580 - val_mrcnn_bbox_loss: 0.3620 - val_mrcnn_mask_loss: 0.3715\n",
      "Epoch 14/300\n",
      "146/146 [==============================] - 468s 3s/step - batch: 72.5000 - size: 2.0000 - loss: 0.9261 - rpn_class_loss: 0.0554 - rpn_bbox_loss: 0.1453 - mrcnn_class_loss: 0.2334 - mrcnn_bbox_loss: 0.1628 - mrcnn_mask_loss: 0.3291 - val_loss: 2.2539 - val_rpn_class_loss: 0.5085 - val_rpn_bbox_loss: 0.5152 - val_mrcnn_class_loss: 0.4934 - val_mrcnn_bbox_loss: 0.3745 - val_mrcnn_mask_loss: 0.3624\n",
      "Epoch 15/300\n",
      "146/146 [==============================] - 479s 3s/step - batch: 72.5000 - size: 2.0000 - loss: 0.8821 - rpn_class_loss: 0.0472 - rpn_bbox_loss: 0.1359 - mrcnn_class_loss: 0.2271 - mrcnn_bbox_loss: 0.1514 - mrcnn_mask_loss: 0.3204 - val_loss: 3.0710 - val_rpn_class_loss: 1.0916 - val_rpn_bbox_loss: 0.5904 - val_mrcnn_class_loss: 0.6389 - val_mrcnn_bbox_loss: 0.3611 - val_mrcnn_mask_loss: 0.3890\n",
      "Epoch 16/300\n",
      "146/146 [==============================] - 442s 3s/step - batch: 72.5000 - size: 2.0000 - loss: 0.8759 - rpn_class_loss: 0.0471 - rpn_bbox_loss: 0.1392 - mrcnn_class_loss: 0.2186 - mrcnn_bbox_loss: 0.1512 - mrcnn_mask_loss: 0.3198 - val_loss: 2.6159 - val_rpn_class_loss: 0.8071 - val_rpn_bbox_loss: 0.5431 - val_mrcnn_class_loss: 0.5407 - val_mrcnn_bbox_loss: 0.3584 - val_mrcnn_mask_loss: 0.3667\n",
      "Epoch 17/300\n",
      "146/146 [==============================] - 461s 3s/step - batch: 72.5000 - size: 2.0000 - loss: 0.8735 - rpn_class_loss: 0.0483 - rpn_bbox_loss: 0.1351 - mrcnn_class_loss: 0.2233 - mrcnn_bbox_loss: 0.1453 - mrcnn_mask_loss: 0.3215 - val_loss: 2.5804 - val_rpn_class_loss: 0.7600 - val_rpn_bbox_loss: 0.5712 - val_mrcnn_class_loss: 0.5159 - val_mrcnn_bbox_loss: 0.3616 - val_mrcnn_mask_loss: 0.3717\n",
      "Epoch 18/300\n",
      "146/146 [==============================] - 449s 3s/step - batch: 72.5000 - size: 2.0000 - loss: 0.8184 - rpn_class_loss: 0.0425 - rpn_bbox_loss: 0.1206 - mrcnn_class_loss: 0.2023 - mrcnn_bbox_loss: 0.1401 - mrcnn_mask_loss: 0.3129 - val_loss: 2.7752 - val_rpn_class_loss: 0.8001 - val_rpn_bbox_loss: 0.6601 - val_mrcnn_class_loss: 0.6047 - val_mrcnn_bbox_loss: 0.3473 - val_mrcnn_mask_loss: 0.3630\n",
      "Epoch 19/300\n",
      "146/146 [==============================] - 471s 3s/step - batch: 72.5000 - size: 2.0000 - loss: 0.7988 - rpn_class_loss: 0.0387 - rpn_bbox_loss: 0.1179 - mrcnn_class_loss: 0.1992 - mrcnn_bbox_loss: 0.1338 - mrcnn_mask_loss: 0.3092 - val_loss: 2.8502 - val_rpn_class_loss: 0.9206 - val_rpn_bbox_loss: 0.5981 - val_mrcnn_class_loss: 0.5950 - val_mrcnn_bbox_loss: 0.3672 - val_mrcnn_mask_loss: 0.3694\n",
      "Epoch 20/300\n",
      "146/146 [==============================] - 427s 3s/step - batch: 72.5000 - size: 2.0000 - loss: 0.7871 - rpn_class_loss: 0.0398 - rpn_bbox_loss: 0.1127 - mrcnn_class_loss: 0.1945 - mrcnn_bbox_loss: 0.1325 - mrcnn_mask_loss: 0.3075 - val_loss: 3.0505 - val_rpn_class_loss: 1.0338 - val_rpn_bbox_loss: 0.6530 - val_mrcnn_class_loss: 0.6258 - val_mrcnn_bbox_loss: 0.3638 - val_mrcnn_mask_loss: 0.3741\n"
     ]
    },
    {
     "name": "stdout",
     "output_type": "stream",
     "text": [
      "Epoch 21/300\n",
      "146/146 [==============================] - 474s 3s/step - batch: 72.5000 - size: 2.0000 - loss: 0.7777 - rpn_class_loss: 0.0370 - rpn_bbox_loss: 0.1143 - mrcnn_class_loss: 0.1947 - mrcnn_bbox_loss: 0.1277 - mrcnn_mask_loss: 0.3041 - val_loss: 3.0350 - val_rpn_class_loss: 1.0706 - val_rpn_bbox_loss: 0.6076 - val_mrcnn_class_loss: 0.6274 - val_mrcnn_bbox_loss: 0.3722 - val_mrcnn_mask_loss: 0.3572\n",
      "Epoch 22/300\n",
      "146/146 [==============================] - 522s 4s/step - batch: 72.5000 - size: 2.0000 - loss: 0.7662 - rpn_class_loss: 0.0368 - rpn_bbox_loss: 0.1154 - mrcnn_class_loss: 0.1873 - mrcnn_bbox_loss: 0.1251 - mrcnn_mask_loss: 0.3016 - val_loss: 3.0860 - val_rpn_class_loss: 1.1656 - val_rpn_bbox_loss: 0.5820 - val_mrcnn_class_loss: 0.6134 - val_mrcnn_bbox_loss: 0.3418 - val_mrcnn_mask_loss: 0.3832\n",
      "Epoch 23/300\n",
      "146/146 [==============================] - 466s 3s/step - batch: 72.5000 - size: 2.0000 - loss: 0.7357 - rpn_class_loss: 0.0364 - rpn_bbox_loss: 0.1043 - mrcnn_class_loss: 0.1776 - mrcnn_bbox_loss: 0.1189 - mrcnn_mask_loss: 0.2985 - val_loss: 2.8423 - val_rpn_class_loss: 0.9301 - val_rpn_bbox_loss: 0.6488 - val_mrcnn_class_loss: 0.5600 - val_mrcnn_bbox_loss: 0.3416 - val_mrcnn_mask_loss: 0.3618\n",
      "Epoch 24/300\n",
      "146/146 [==============================] - 443s 3s/step - batch: 72.5000 - size: 2.0000 - loss: 0.7204 - rpn_class_loss: 0.0327 - rpn_bbox_loss: 0.1040 - mrcnn_class_loss: 0.1731 - mrcnn_bbox_loss: 0.1177 - mrcnn_mask_loss: 0.2928 - val_loss: 3.0828 - val_rpn_class_loss: 1.1151 - val_rpn_bbox_loss: 0.6865 - val_mrcnn_class_loss: 0.5601 - val_mrcnn_bbox_loss: 0.3487 - val_mrcnn_mask_loss: 0.3724\n",
      "Epoch 25/300\n",
      "146/146 [==============================] - 431s 3s/step - batch: 72.5000 - size: 2.0000 - loss: 0.7027 - rpn_class_loss: 0.0301 - rpn_bbox_loss: 0.0956 - mrcnn_class_loss: 0.1726 - mrcnn_bbox_loss: 0.1135 - mrcnn_mask_loss: 0.2908 - val_loss: 3.2142 - val_rpn_class_loss: 1.2287 - val_rpn_bbox_loss: 0.6546 - val_mrcnn_class_loss: 0.6292 - val_mrcnn_bbox_loss: 0.3456 - val_mrcnn_mask_loss: 0.3560\n",
      "Epoch 26/300\n",
      "146/146 [==============================] - 452s 3s/step - batch: 72.5000 - size: 2.0000 - loss: 0.6762 - rpn_class_loss: 0.0322 - rpn_bbox_loss: 0.0946 - mrcnn_class_loss: 0.1580 - mrcnn_bbox_loss: 0.1062 - mrcnn_mask_loss: 0.2852 - val_loss: 3.0054 - val_rpn_class_loss: 1.0233 - val_rpn_bbox_loss: 0.6162 - val_mrcnn_class_loss: 0.6240 - val_mrcnn_bbox_loss: 0.3714 - val_mrcnn_mask_loss: 0.3706\n",
      "Epoch 27/300\n",
      "146/146 [==============================] - 432s 3s/step - batch: 72.5000 - size: 2.0000 - loss: 0.6657 - rpn_class_loss: 0.0302 - rpn_bbox_loss: 0.0942 - mrcnn_class_loss: 0.1532 - mrcnn_bbox_loss: 0.1045 - mrcnn_mask_loss: 0.2836 - val_loss: 2.9191 - val_rpn_class_loss: 0.9352 - val_rpn_bbox_loss: 0.6759 - val_mrcnn_class_loss: 0.6129 - val_mrcnn_bbox_loss: 0.3258 - val_mrcnn_mask_loss: 0.3693\n",
      "Epoch 28/300\n",
      "146/146 [==============================] - 429s 3s/step - batch: 72.5000 - size: 2.0000 - loss: 0.6366 - rpn_class_loss: 0.0259 - rpn_bbox_loss: 0.0868 - mrcnn_class_loss: 0.1442 - mrcnn_bbox_loss: 0.1016 - mrcnn_mask_loss: 0.2780 - val_loss: 2.5148 - val_rpn_class_loss: 0.8031 - val_rpn_bbox_loss: 0.5760 - val_mrcnn_class_loss: 0.4545 - val_mrcnn_bbox_loss: 0.3529 - val_mrcnn_mask_loss: 0.3283\n",
      "Epoch 29/300\n",
      "146/146 [==============================] - 467s 3s/step - batch: 72.5000 - size: 2.0000 - loss: 0.6287 - rpn_class_loss: 0.0252 - rpn_bbox_loss: 0.0854 - mrcnn_class_loss: 0.1457 - mrcnn_bbox_loss: 0.0985 - mrcnn_mask_loss: 0.2738 - val_loss: 2.9921 - val_rpn_class_loss: 1.0714 - val_rpn_bbox_loss: 0.6579 - val_mrcnn_class_loss: 0.5760 - val_mrcnn_bbox_loss: 0.3247 - val_mrcnn_mask_loss: 0.3622\n",
      "Epoch 30/300\n",
      "146/146 [==============================] - 434s 3s/step - batch: 72.5000 - size: 2.0000 - loss: 0.5989 - rpn_class_loss: 0.0228 - rpn_bbox_loss: 0.0767 - mrcnn_class_loss: 0.1406 - mrcnn_bbox_loss: 0.0912 - mrcnn_mask_loss: 0.2676 - val_loss: 3.2801 - val_rpn_class_loss: 1.0828 - val_rpn_bbox_loss: 0.6554 - val_mrcnn_class_loss: 0.7700 - val_mrcnn_bbox_loss: 0.3710 - val_mrcnn_mask_loss: 0.4009\n",
      "Epoch 31/300\n",
      "146/146 [==============================] - 485s 3s/step - batch: 72.5000 - size: 2.0000 - loss: 0.6069 - rpn_class_loss: 0.0248 - rpn_bbox_loss: 0.0791 - mrcnn_class_loss: 0.1386 - mrcnn_bbox_loss: 0.0936 - mrcnn_mask_loss: 0.2708 - val_loss: 4.2843 - val_rpn_class_loss: 1.8761 - val_rpn_bbox_loss: 0.7288 - val_mrcnn_class_loss: 0.8769 - val_mrcnn_bbox_loss: 0.3601 - val_mrcnn_mask_loss: 0.4424\n",
      "Epoch 32/300\n",
      "146/146 [==============================] - 454s 3s/step - batch: 72.5000 - size: 2.0000 - loss: 0.5994 - rpn_class_loss: 0.0240 - rpn_bbox_loss: 0.0794 - mrcnn_class_loss: 0.1335 - mrcnn_bbox_loss: 0.0923 - mrcnn_mask_loss: 0.2702 - val_loss: 3.2495 - val_rpn_class_loss: 1.2154 - val_rpn_bbox_loss: 0.6778 - val_mrcnn_class_loss: 0.6522 - val_mrcnn_bbox_loss: 0.3445 - val_mrcnn_mask_loss: 0.3595\n",
      "Epoch 33/300\n",
      "146/146 [==============================] - 474s 3s/step - batch: 72.5000 - size: 2.0000 - loss: 0.5788 - rpn_class_loss: 0.0219 - rpn_bbox_loss: 0.0761 - mrcnn_class_loss: 0.1278 - mrcnn_bbox_loss: 0.0890 - mrcnn_mask_loss: 0.2640 - val_loss: 3.1159 - val_rpn_class_loss: 1.1577 - val_rpn_bbox_loss: 0.6025 - val_mrcnn_class_loss: 0.6387 - val_mrcnn_bbox_loss: 0.3533 - val_mrcnn_mask_loss: 0.3637\n",
      "Epoch 34/300\n",
      "146/146 [==============================] - 483s 3s/step - batch: 72.5000 - size: 2.0000 - loss: 0.5679 - rpn_class_loss: 0.0216 - rpn_bbox_loss: 0.0743 - mrcnn_class_loss: 0.1296 - mrcnn_bbox_loss: 0.0841 - mrcnn_mask_loss: 0.2583 - val_loss: 3.5444 - val_rpn_class_loss: 1.3926 - val_rpn_bbox_loss: 0.6352 - val_mrcnn_class_loss: 0.7853 - val_mrcnn_bbox_loss: 0.3460 - val_mrcnn_mask_loss: 0.3853\n",
      "Epoch 35/300\n",
      "146/146 [==============================] - 419s 3s/step - batch: 72.5000 - size: 2.0000 - loss: 0.5548 - rpn_class_loss: 0.0227 - rpn_bbox_loss: 0.0695 - mrcnn_class_loss: 0.1255 - mrcnn_bbox_loss: 0.0827 - mrcnn_mask_loss: 0.2545 - val_loss: 3.4796 - val_rpn_class_loss: 1.4461 - val_rpn_bbox_loss: 0.6835 - val_mrcnn_class_loss: 0.6359 - val_mrcnn_bbox_loss: 0.3326 - val_mrcnn_mask_loss: 0.3815\n",
      "Epoch 36/300\n",
      "146/146 [==============================] - 452s 3s/step - batch: 72.5000 - size: 2.0000 - loss: 0.5518 - rpn_class_loss: 0.0209 - rpn_bbox_loss: 0.0668 - mrcnn_class_loss: 0.1244 - mrcnn_bbox_loss: 0.0833 - mrcnn_mask_loss: 0.2564 - val_loss: 3.2440 - val_rpn_class_loss: 1.2618 - val_rpn_bbox_loss: 0.6220 - val_mrcnn_class_loss: 0.6590 - val_mrcnn_bbox_loss: 0.3314 - val_mrcnn_mask_loss: 0.3698\n",
      "Epoch 37/300\n",
      "146/146 [==============================] - 451s 3s/step - batch: 72.5000 - size: 2.0000 - loss: 0.5348 - rpn_class_loss: 0.0188 - rpn_bbox_loss: 0.0691 - mrcnn_class_loss: 0.1168 - mrcnn_bbox_loss: 0.0811 - mrcnn_mask_loss: 0.2491 - val_loss: 4.1803 - val_rpn_class_loss: 1.8685 - val_rpn_bbox_loss: 0.7467 - val_mrcnn_class_loss: 0.7793 - val_mrcnn_bbox_loss: 0.3667 - val_mrcnn_mask_loss: 0.4192\n",
      "Epoch 38/300\n",
      "146/146 [==============================] - 465s 3s/step - batch: 72.5000 - size: 2.0000 - loss: 0.5126 - rpn_class_loss: 0.0177 - rpn_bbox_loss: 0.0596 - mrcnn_class_loss: 0.1144 - mrcnn_bbox_loss: 0.0757 - mrcnn_mask_loss: 0.2452 - val_loss: 4.9131 - val_rpn_class_loss: 2.2698 - val_rpn_bbox_loss: 0.8381 - val_mrcnn_class_loss: 1.0083 - val_mrcnn_bbox_loss: 0.3446 - val_mrcnn_mask_loss: 0.4522\n",
      "Epoch 39/300\n",
      "146/146 [==============================] - 557s 4s/step - batch: 72.5000 - size: 2.0000 - loss: 0.5147 - rpn_class_loss: 0.0199 - rpn_bbox_loss: 0.0621 - mrcnn_class_loss: 0.1144 - mrcnn_bbox_loss: 0.0749 - mrcnn_mask_loss: 0.2434 - val_loss: 3.8916 - val_rpn_class_loss: 1.7300 - val_rpn_bbox_loss: 0.7372 - val_mrcnn_class_loss: 0.7213 - val_mrcnn_bbox_loss: 0.3278 - val_mrcnn_mask_loss: 0.3753\n",
      "Epoch 40/300\n",
      "146/146 [==============================] - 611s 4s/step - batch: 72.5000 - size: 2.0000 - loss: 0.5255 - rpn_class_loss: 0.0221 - rpn_bbox_loss: 0.0718 - mrcnn_class_loss: 0.1108 - mrcnn_bbox_loss: 0.0761 - mrcnn_mask_loss: 0.2448 - val_loss: 3.6110 - val_rpn_class_loss: 1.4661 - val_rpn_bbox_loss: 0.6576 - val_mrcnn_class_loss: 0.7153 - val_mrcnn_bbox_loss: 0.3392 - val_mrcnn_mask_loss: 0.4328\n"
     ]
    },
    {
     "name": "stdout",
     "output_type": "stream",
     "text": [
      "Epoch 41/300\n",
      "146/146 [==============================] - 593s 4s/step - batch: 72.5000 - size: 2.0000 - loss: 0.5028 - rpn_class_loss: 0.0206 - rpn_bbox_loss: 0.0692 - mrcnn_class_loss: 0.1029 - mrcnn_bbox_loss: 0.0725 - mrcnn_mask_loss: 0.2375 - val_loss: 4.1398 - val_rpn_class_loss: 1.7830 - val_rpn_bbox_loss: 0.8937 - val_mrcnn_class_loss: 0.7884 - val_mrcnn_bbox_loss: 0.3100 - val_mrcnn_mask_loss: 0.3647\n",
      "Epoch 42/300\n",
      "146/146 [==============================] - 524s 4s/step - batch: 72.5000 - size: 2.0000 - loss: 0.4637 - rpn_class_loss: 0.0137 - rpn_bbox_loss: 0.0500 - mrcnn_class_loss: 0.1009 - mrcnn_bbox_loss: 0.0682 - mrcnn_mask_loss: 0.2309 - val_loss: 4.4833 - val_rpn_class_loss: 1.9461 - val_rpn_bbox_loss: 0.7990 - val_mrcnn_class_loss: 0.9248 - val_mrcnn_bbox_loss: 0.3689 - val_mrcnn_mask_loss: 0.4446\n",
      "Epoch 43/300\n",
      "146/146 [==============================] - 556s 4s/step - batch: 72.5000 - size: 2.0000 - loss: 0.4742 - rpn_class_loss: 0.0175 - rpn_bbox_loss: 0.0590 - mrcnn_class_loss: 0.1005 - mrcnn_bbox_loss: 0.0688 - mrcnn_mask_loss: 0.2284 - val_loss: 3.7904 - val_rpn_class_loss: 1.5839 - val_rpn_bbox_loss: 0.6234 - val_mrcnn_class_loss: 0.8492 - val_mrcnn_bbox_loss: 0.3422 - val_mrcnn_mask_loss: 0.3917\n",
      "Epoch 44/300\n",
      "146/146 [==============================] - 520s 4s/step - batch: 72.5000 - size: 2.0000 - loss: 0.4659 - rpn_class_loss: 0.0140 - rpn_bbox_loss: 0.0557 - mrcnn_class_loss: 0.1003 - mrcnn_bbox_loss: 0.0671 - mrcnn_mask_loss: 0.2289 - val_loss: 4.2565 - val_rpn_class_loss: 1.9061 - val_rpn_bbox_loss: 0.8678 - val_mrcnn_class_loss: 0.8010 - val_mrcnn_bbox_loss: 0.3162 - val_mrcnn_mask_loss: 0.3653\n",
      "Epoch 45/300\n",
      "146/146 [==============================] - 538s 4s/step - batch: 72.5000 - size: 2.0000 - loss: 0.4464 - rpn_class_loss: 0.0159 - rpn_bbox_loss: 0.0524 - mrcnn_class_loss: 0.0936 - mrcnn_bbox_loss: 0.0643 - mrcnn_mask_loss: 0.2202 - val_loss: 4.5031 - val_rpn_class_loss: 2.0800 - val_rpn_bbox_loss: 0.7014 - val_mrcnn_class_loss: 0.8896 - val_mrcnn_bbox_loss: 0.3518 - val_mrcnn_mask_loss: 0.4803\n",
      "Epoch 46/300\n",
      "146/146 [==============================] - 500s 3s/step - batch: 72.5000 - size: 2.0000 - loss: 0.4364 - rpn_class_loss: 0.0123 - rpn_bbox_loss: 0.0526 - mrcnn_class_loss: 0.0898 - mrcnn_bbox_loss: 0.0617 - mrcnn_mask_loss: 0.2200 - val_loss: 4.0412 - val_rpn_class_loss: 1.6962 - val_rpn_bbox_loss: 0.6834 - val_mrcnn_class_loss: 0.9003 - val_mrcnn_bbox_loss: 0.3488 - val_mrcnn_mask_loss: 0.4126\n",
      "Epoch 47/300\n",
      "146/146 [==============================] - 564s 4s/step - batch: 72.5000 - size: 2.0000 - loss: 0.4308 - rpn_class_loss: 0.0131 - rpn_bbox_loss: 0.0493 - mrcnn_class_loss: 0.0903 - mrcnn_bbox_loss: 0.0597 - mrcnn_mask_loss: 0.2183 - val_loss: 3.3601 - val_rpn_class_loss: 1.2869 - val_rpn_bbox_loss: 0.6412 - val_mrcnn_class_loss: 0.7058 - val_mrcnn_bbox_loss: 0.3533 - val_mrcnn_mask_loss: 0.3729\n",
      "Epoch 48/300\n",
      "146/146 [==============================] - 570s 4s/step - batch: 72.5000 - size: 2.0000 - loss: 0.4533 - rpn_class_loss: 0.0128 - rpn_bbox_loss: 0.0589 - mrcnn_class_loss: 0.0930 - mrcnn_bbox_loss: 0.0643 - mrcnn_mask_loss: 0.2242 - val_loss: 4.1639 - val_rpn_class_loss: 1.8667 - val_rpn_bbox_loss: 0.7042 - val_mrcnn_class_loss: 0.8476 - val_mrcnn_bbox_loss: 0.3581 - val_mrcnn_mask_loss: 0.3873\n",
      "Epoch 49/300\n",
      "146/146 [==============================] - 560s 4s/step - batch: 72.5000 - size: 2.0000 - loss: 0.4155 - rpn_class_loss: 0.0118 - rpn_bbox_loss: 0.0477 - mrcnn_class_loss: 0.0875 - mrcnn_bbox_loss: 0.0589 - mrcnn_mask_loss: 0.2096 - val_loss: 4.0065 - val_rpn_class_loss: 1.6955 - val_rpn_bbox_loss: 0.6550 - val_mrcnn_class_loss: 0.8877 - val_mrcnn_bbox_loss: 0.3699 - val_mrcnn_mask_loss: 0.3984\n",
      "Epoch 50/300\n",
      "146/146 [==============================] - 591s 4s/step - batch: 72.5000 - size: 2.0000 - loss: 0.4101 - rpn_class_loss: 0.0106 - rpn_bbox_loss: 0.0474 - mrcnn_class_loss: 0.0865 - mrcnn_bbox_loss: 0.0564 - mrcnn_mask_loss: 0.2092 - val_loss: 4.9929 - val_rpn_class_loss: 2.3689 - val_rpn_bbox_loss: 0.8009 - val_mrcnn_class_loss: 1.0515 - val_mrcnn_bbox_loss: 0.3454 - val_mrcnn_mask_loss: 0.4262\n",
      "Epoch 51/300\n",
      "146/146 [==============================] - 497s 3s/step - batch: 72.5000 - size: 2.0000 - loss: 0.4311 - rpn_class_loss: 0.0122 - rpn_bbox_loss: 0.0511 - mrcnn_class_loss: 0.0940 - mrcnn_bbox_loss: 0.0602 - mrcnn_mask_loss: 0.2135 - val_loss: 4.5246 - val_rpn_class_loss: 2.0527 - val_rpn_bbox_loss: 0.7260 - val_mrcnn_class_loss: 0.9168 - val_mrcnn_bbox_loss: 0.3621 - val_mrcnn_mask_loss: 0.4671\n",
      "Epoch 52/300\n",
      "146/146 [==============================] - 559s 4s/step - batch: 72.5000 - size: 2.0000 - loss: 0.3916 - rpn_class_loss: 0.0108 - rpn_bbox_loss: 0.0412 - mrcnn_class_loss: 0.0804 - mrcnn_bbox_loss: 0.0538 - mrcnn_mask_loss: 0.2054 - val_loss: 3.6792 - val_rpn_class_loss: 1.5249 - val_rpn_bbox_loss: 0.6923 - val_mrcnn_class_loss: 0.7464 - val_mrcnn_bbox_loss: 0.3115 - val_mrcnn_mask_loss: 0.4042\n",
      "Epoch 53/300\n",
      "146/146 [==============================] - 513s 4s/step - batch: 72.5000 - size: 2.0000 - loss: 0.3798 - rpn_class_loss: 0.0083 - rpn_bbox_loss: 0.0411 - mrcnn_class_loss: 0.0778 - mrcnn_bbox_loss: 0.0516 - mrcnn_mask_loss: 0.2009 - val_loss: 4.7169 - val_rpn_class_loss: 2.0223 - val_rpn_bbox_loss: 0.7295 - val_mrcnn_class_loss: 1.0376 - val_mrcnn_bbox_loss: 0.3656 - val_mrcnn_mask_loss: 0.5619\n",
      "Epoch 54/300\n",
      "146/146 [==============================] - 553s 4s/step - batch: 72.5000 - size: 2.0000 - loss: 0.4026 - rpn_class_loss: 0.0111 - rpn_bbox_loss: 0.0499 - mrcnn_class_loss: 0.0817 - mrcnn_bbox_loss: 0.0550 - mrcnn_mask_loss: 0.2049 - val_loss: 4.4579 - val_rpn_class_loss: 1.7600 - val_rpn_bbox_loss: 0.7616 - val_mrcnn_class_loss: 1.0614 - val_mrcnn_bbox_loss: 0.3816 - val_mrcnn_mask_loss: 0.4933\n",
      "Epoch 55/300\n",
      "146/146 [==============================] - 610s 4s/step - batch: 72.5000 - size: 2.0000 - loss: 0.3724 - rpn_class_loss: 0.0081 - rpn_bbox_loss: 0.0406 - mrcnn_class_loss: 0.0753 - mrcnn_bbox_loss: 0.0509 - mrcnn_mask_loss: 0.1974 - val_loss: 4.6252 - val_rpn_class_loss: 1.9996 - val_rpn_bbox_loss: 0.7335 - val_mrcnn_class_loss: 1.0763 - val_mrcnn_bbox_loss: 0.3653 - val_mrcnn_mask_loss: 0.4505\n",
      "Epoch 56/300\n",
      "146/146 [==============================] - 527s 4s/step - batch: 72.5000 - size: 2.0000 - loss: 0.3946 - rpn_class_loss: 0.0084 - rpn_bbox_loss: 0.0438 - mrcnn_class_loss: 0.0859 - mrcnn_bbox_loss: 0.0538 - mrcnn_mask_loss: 0.2028 - val_loss: 4.6238 - val_rpn_class_loss: 2.1537 - val_rpn_bbox_loss: 0.8325 - val_mrcnn_class_loss: 0.8847 - val_mrcnn_bbox_loss: 0.3260 - val_mrcnn_mask_loss: 0.4268\n",
      "Epoch 57/300\n",
      "146/146 [==============================] - 562s 4s/step - batch: 72.5000 - size: 2.0000 - loss: 0.3839 - rpn_class_loss: 0.0100 - rpn_bbox_loss: 0.0473 - mrcnn_class_loss: 0.0763 - mrcnn_bbox_loss: 0.0517 - mrcnn_mask_loss: 0.1986 - val_loss: 4.8305 - val_rpn_class_loss: 2.2094 - val_rpn_bbox_loss: 0.8792 - val_mrcnn_class_loss: 1.0105 - val_mrcnn_bbox_loss: 0.3354 - val_mrcnn_mask_loss: 0.3960\n",
      "Epoch 58/300\n",
      "146/146 [==============================] - 530s 4s/step - batch: 72.5000 - size: 2.0000 - loss: 0.3668 - rpn_class_loss: 0.0100 - rpn_bbox_loss: 0.0402 - mrcnn_class_loss: 0.0767 - mrcnn_bbox_loss: 0.0494 - mrcnn_mask_loss: 0.1906 - val_loss: 4.6630 - val_rpn_class_loss: 2.0128 - val_rpn_bbox_loss: 0.7521 - val_mrcnn_class_loss: 0.9735 - val_mrcnn_bbox_loss: 0.3601 - val_mrcnn_mask_loss: 0.5646\n",
      "Epoch 59/300\n",
      "146/146 [==============================] - 583s 4s/step - batch: 72.5000 - size: 2.0000 - loss: 0.3777 - rpn_class_loss: 0.0097 - rpn_bbox_loss: 0.0463 - mrcnn_class_loss: 0.0757 - mrcnn_bbox_loss: 0.0512 - mrcnn_mask_loss: 0.1948 - val_loss: 4.9141 - val_rpn_class_loss: 2.1992 - val_rpn_bbox_loss: 0.7448 - val_mrcnn_class_loss: 0.9737 - val_mrcnn_bbox_loss: 0.3624 - val_mrcnn_mask_loss: 0.6340\n",
      "Epoch 60/300\n",
      "146/146 [==============================] - 587s 4s/step - batch: 72.5000 - size: 2.0000 - loss: 0.3641 - rpn_class_loss: 0.0111 - rpn_bbox_loss: 0.0415 - mrcnn_class_loss: 0.0741 - mrcnn_bbox_loss: 0.0484 - mrcnn_mask_loss: 0.1890 - val_loss: 4.7922 - val_rpn_class_loss: 2.2755 - val_rpn_bbox_loss: 0.7200 - val_mrcnn_class_loss: 0.9618 - val_mrcnn_bbox_loss: 0.3558 - val_mrcnn_mask_loss: 0.4791\n"
     ]
    },
    {
     "name": "stdout",
     "output_type": "stream",
     "text": [
      "Epoch 61/300\n",
      "146/146 [==============================] - 627s 4s/step - batch: 72.5000 - size: 2.0000 - loss: 0.3339 - rpn_class_loss: 0.0072 - rpn_bbox_loss: 0.0349 - mrcnn_class_loss: 0.0667 - mrcnn_bbox_loss: 0.0438 - mrcnn_mask_loss: 0.1813 - val_loss: 4.5483 - val_rpn_class_loss: 1.9714 - val_rpn_bbox_loss: 0.7331 - val_mrcnn_class_loss: 1.0618 - val_mrcnn_bbox_loss: 0.3488 - val_mrcnn_mask_loss: 0.4331\n",
      "Epoch 62/300\n",
      "146/146 [==============================] - 578s 4s/step - batch: 72.5000 - size: 2.0000 - loss: 0.3485 - rpn_class_loss: 0.0069 - rpn_bbox_loss: 0.0358 - mrcnn_class_loss: 0.0704 - mrcnn_bbox_loss: 0.0465 - mrcnn_mask_loss: 0.1889 - val_loss: 4.3704 - val_rpn_class_loss: 2.0045 - val_rpn_bbox_loss: 0.7475 - val_mrcnn_class_loss: 0.8292 - val_mrcnn_bbox_loss: 0.3582 - val_mrcnn_mask_loss: 0.4309\n",
      "Epoch 63/300\n",
      "146/146 [==============================] - 530s 4s/step - batch: 72.5000 - size: 2.0000 - loss: 0.3438 - rpn_class_loss: 0.0079 - rpn_bbox_loss: 0.0363 - mrcnn_class_loss: 0.0723 - mrcnn_bbox_loss: 0.0457 - mrcnn_mask_loss: 0.1817 - val_loss: 4.9879 - val_rpn_class_loss: 2.2613 - val_rpn_bbox_loss: 0.8672 - val_mrcnn_class_loss: 1.0559 - val_mrcnn_bbox_loss: 0.3589 - val_mrcnn_mask_loss: 0.4446\n",
      "Epoch 64/300\n",
      "146/146 [==============================] - 607s 4s/step - batch: 72.5000 - size: 2.0000 - loss: 0.3425 - rpn_class_loss: 0.0073 - rpn_bbox_loss: 0.0403 - mrcnn_class_loss: 0.0687 - mrcnn_bbox_loss: 0.0445 - mrcnn_mask_loss: 0.1817 - val_loss: 5.2784 - val_rpn_class_loss: 2.5275 - val_rpn_bbox_loss: 0.8818 - val_mrcnn_class_loss: 1.0677 - val_mrcnn_bbox_loss: 0.3483 - val_mrcnn_mask_loss: 0.4532\n",
      "Epoch 65/300\n",
      "146/146 [==============================] - 529s 4s/step - batch: 72.5000 - size: 2.0000 - loss: 0.3349 - rpn_class_loss: 0.0058 - rpn_bbox_loss: 0.0353 - mrcnn_class_loss: 0.0674 - mrcnn_bbox_loss: 0.0437 - mrcnn_mask_loss: 0.1827 - val_loss: 4.9241 - val_rpn_class_loss: 2.2958 - val_rpn_bbox_loss: 0.8080 - val_mrcnn_class_loss: 1.0306 - val_mrcnn_bbox_loss: 0.3391 - val_mrcnn_mask_loss: 0.4506\n",
      "Epoch 66/300\n",
      "146/146 [==============================] - 533s 4s/step - batch: 72.5000 - size: 2.0000 - loss: 0.3106 - rpn_class_loss: 0.0067 - rpn_bbox_loss: 0.0306 - mrcnn_class_loss: 0.0622 - mrcnn_bbox_loss: 0.0386 - mrcnn_mask_loss: 0.1724 - val_loss: 4.6993 - val_rpn_class_loss: 2.2150 - val_rpn_bbox_loss: 0.7981 - val_mrcnn_class_loss: 0.9277 - val_mrcnn_bbox_loss: 0.3276 - val_mrcnn_mask_loss: 0.4309\n",
      "Epoch 67/300\n",
      "146/146 [==============================] - 566s 4s/step - batch: 72.5000 - size: 2.0000 - loss: 0.3235 - rpn_class_loss: 0.0064 - rpn_bbox_loss: 0.0362 - mrcnn_class_loss: 0.0644 - mrcnn_bbox_loss: 0.0419 - mrcnn_mask_loss: 0.1745 - val_loss: 5.2704 - val_rpn_class_loss: 2.5215 - val_rpn_bbox_loss: 0.8349 - val_mrcnn_class_loss: 1.1026 - val_mrcnn_bbox_loss: 0.3365 - val_mrcnn_mask_loss: 0.4749\n",
      "Epoch 68/300\n",
      "146/146 [==============================] - 553s 4s/step - batch: 72.5000 - size: 2.0000 - loss: 0.3210 - rpn_class_loss: 0.0058 - rpn_bbox_loss: 0.0321 - mrcnn_class_loss: 0.0649 - mrcnn_bbox_loss: 0.0419 - mrcnn_mask_loss: 0.1763 - val_loss: 5.9888 - val_rpn_class_loss: 2.9369 - val_rpn_bbox_loss: 0.8735 - val_mrcnn_class_loss: 1.2716 - val_mrcnn_bbox_loss: 0.3762 - val_mrcnn_mask_loss: 0.5306\n",
      "Epoch 69/300\n",
      "146/146 [==============================] - 564s 4s/step - batch: 72.5000 - size: 2.0000 - loss: 0.3176 - rpn_class_loss: 0.0075 - rpn_bbox_loss: 0.0351 - mrcnn_class_loss: 0.0642 - mrcnn_bbox_loss: 0.0407 - mrcnn_mask_loss: 0.1701 - val_loss: 5.1426 - val_rpn_class_loss: 2.2959 - val_rpn_bbox_loss: 0.7774 - val_mrcnn_class_loss: 1.1571 - val_mrcnn_bbox_loss: 0.3963 - val_mrcnn_mask_loss: 0.5160\n",
      "Epoch 70/300\n",
      "146/146 [==============================] - 546s 4s/step - batch: 72.5000 - size: 2.0000 - loss: 0.3088 - rpn_class_loss: 0.0060 - rpn_bbox_loss: 0.0326 - mrcnn_class_loss: 0.0626 - mrcnn_bbox_loss: 0.0393 - mrcnn_mask_loss: 0.1684 - val_loss: 6.4979 - val_rpn_class_loss: 3.2775 - val_rpn_bbox_loss: 0.9111 - val_mrcnn_class_loss: 1.3321 - val_mrcnn_bbox_loss: 0.3736 - val_mrcnn_mask_loss: 0.6035\n",
      "Epoch 71/300\n",
      "146/146 [==============================] - 574s 4s/step - batch: 72.5000 - size: 2.0000 - loss: 0.3082 - rpn_class_loss: 0.0050 - rpn_bbox_loss: 0.0316 - mrcnn_class_loss: 0.0646 - mrcnn_bbox_loss: 0.0390 - mrcnn_mask_loss: 0.1681 - val_loss: 5.0371 - val_rpn_class_loss: 2.2488 - val_rpn_bbox_loss: 0.9133 - val_mrcnn_class_loss: 1.0420 - val_mrcnn_bbox_loss: 0.3499 - val_mrcnn_mask_loss: 0.4832\n",
      "Epoch 72/300\n",
      "146/146 [==============================] - 539s 4s/step - batch: 72.5000 - size: 2.0000 - loss: 0.3064 - rpn_class_loss: 0.0049 - rpn_bbox_loss: 0.0349 - mrcnn_class_loss: 0.0620 - mrcnn_bbox_loss: 0.0395 - mrcnn_mask_loss: 0.1652 - val_loss: 5.9479 - val_rpn_class_loss: 3.0583 - val_rpn_bbox_loss: 0.8754 - val_mrcnn_class_loss: 1.1370 - val_mrcnn_bbox_loss: 0.3358 - val_mrcnn_mask_loss: 0.5415\n",
      "Epoch 73/300\n",
      "146/146 [==============================] - 593s 4s/step - batch: 72.5000 - size: 2.0000 - loss: 0.2953 - rpn_class_loss: 0.0048 - rpn_bbox_loss: 0.0314 - mrcnn_class_loss: 0.0588 - mrcnn_bbox_loss: 0.0378 - mrcnn_mask_loss: 0.1625 - val_loss: 4.3617 - val_rpn_class_loss: 1.9228 - val_rpn_bbox_loss: 0.6332 - val_mrcnn_class_loss: 0.9982 - val_mrcnn_bbox_loss: 0.3426 - val_mrcnn_mask_loss: 0.4649\n",
      "Epoch 74/300\n",
      "146/146 [==============================] - 573s 4s/step - batch: 72.5000 - size: 2.0000 - loss: 0.2874 - rpn_class_loss: 0.0042 - rpn_bbox_loss: 0.0272 - mrcnn_class_loss: 0.0611 - mrcnn_bbox_loss: 0.0360 - mrcnn_mask_loss: 0.1589 - val_loss: 5.6893 - val_rpn_class_loss: 2.8569 - val_rpn_bbox_loss: 0.9025 - val_mrcnn_class_loss: 1.0702 - val_mrcnn_bbox_loss: 0.3278 - val_mrcnn_mask_loss: 0.5320\n",
      "Epoch 75/300\n",
      "146/146 [==============================] - 569s 4s/step - batch: 72.5000 - size: 2.0000 - loss: 0.2890 - rpn_class_loss: 0.0046 - rpn_bbox_loss: 0.0272 - mrcnn_class_loss: 0.0603 - mrcnn_bbox_loss: 0.0359 - mrcnn_mask_loss: 0.1609 - val_loss: 5.3315 - val_rpn_class_loss: 2.6093 - val_rpn_bbox_loss: 0.8160 - val_mrcnn_class_loss: 1.0243 - val_mrcnn_bbox_loss: 0.3424 - val_mrcnn_mask_loss: 0.5394\n",
      "Epoch 76/300\n",
      "146/146 [==============================] - 536s 4s/step - batch: 72.5000 - size: 2.0000 - loss: 0.2937 - rpn_class_loss: 0.0053 - rpn_bbox_loss: 0.0303 - mrcnn_class_loss: 0.0590 - mrcnn_bbox_loss: 0.0369 - mrcnn_mask_loss: 0.1622 - val_loss: 5.8817 - val_rpn_class_loss: 2.9243 - val_rpn_bbox_loss: 0.8454 - val_mrcnn_class_loss: 1.1859 - val_mrcnn_bbox_loss: 0.3509 - val_mrcnn_mask_loss: 0.5751\n",
      "Epoch 77/300\n",
      "146/146 [==============================] - 476s 3s/step - batch: 72.5000 - size: 2.0000 - loss: 0.2973 - rpn_class_loss: 0.0052 - rpn_bbox_loss: 0.0336 - mrcnn_class_loss: 0.0606 - mrcnn_bbox_loss: 0.0363 - mrcnn_mask_loss: 0.1616 - val_loss: 5.7512 - val_rpn_class_loss: 2.6746 - val_rpn_bbox_loss: 0.8305 - val_mrcnn_class_loss: 1.1278 - val_mrcnn_bbox_loss: 0.3923 - val_mrcnn_mask_loss: 0.7261\n",
      "Epoch 78/300\n",
      "146/146 [==============================] - 575s 4s/step - batch: 72.5000 - size: 2.0000 - loss: 0.2873 - rpn_class_loss: 0.0045 - rpn_bbox_loss: 0.0276 - mrcnn_class_loss: 0.0605 - mrcnn_bbox_loss: 0.0353 - mrcnn_mask_loss: 0.1594 - val_loss: 4.5951 - val_rpn_class_loss: 1.9941 - val_rpn_bbox_loss: 0.7155 - val_mrcnn_class_loss: 1.0485 - val_mrcnn_bbox_loss: 0.3482 - val_mrcnn_mask_loss: 0.4888\n",
      "Epoch 79/300\n",
      "146/146 [==============================] - 545s 4s/step - batch: 72.5000 - size: 2.0000 - loss: 0.2873 - rpn_class_loss: 0.0060 - rpn_bbox_loss: 0.0294 - mrcnn_class_loss: 0.0603 - mrcnn_bbox_loss: 0.0346 - mrcnn_mask_loss: 0.1569 - val_loss: 5.7815 - val_rpn_class_loss: 2.8211 - val_rpn_bbox_loss: 0.8400 - val_mrcnn_class_loss: 1.2135 - val_mrcnn_bbox_loss: 0.3506 - val_mrcnn_mask_loss: 0.5562\n",
      "Epoch 80/300\n",
      "146/146 [==============================] - 481s 3s/step - batch: 72.5000 - size: 2.0000 - loss: 0.2696 - rpn_class_loss: 0.0043 - rpn_bbox_loss: 0.0264 - mrcnn_class_loss: 0.0539 - mrcnn_bbox_loss: 0.0328 - mrcnn_mask_loss: 0.1522 - val_loss: 5.3378 - val_rpn_class_loss: 2.6145 - val_rpn_bbox_loss: 0.8409 - val_mrcnn_class_loss: 0.9967 - val_mrcnn_bbox_loss: 0.3225 - val_mrcnn_mask_loss: 0.5632\n"
     ]
    },
    {
     "name": "stdout",
     "output_type": "stream",
     "text": [
      "Epoch 81/300\n",
      "146/146 [==============================] - 555s 4s/step - batch: 72.5000 - size: 2.0000 - loss: 0.2756 - rpn_class_loss: 0.0038 - rpn_bbox_loss: 0.0270 - mrcnn_class_loss: 0.0573 - mrcnn_bbox_loss: 0.0338 - mrcnn_mask_loss: 0.1536 - val_loss: 5.7749 - val_rpn_class_loss: 2.7609 - val_rpn_bbox_loss: 0.8246 - val_mrcnn_class_loss: 1.2691 - val_mrcnn_bbox_loss: 0.3646 - val_mrcnn_mask_loss: 0.5557\n",
      "Epoch 82/300\n",
      "146/146 [==============================] - 552s 4s/step - batch: 72.5000 - size: 2.0000 - loss: 0.2697 - rpn_class_loss: 0.0039 - rpn_bbox_loss: 0.0246 - mrcnn_class_loss: 0.0556 - mrcnn_bbox_loss: 0.0326 - mrcnn_mask_loss: 0.1529 - val_loss: 6.3949 - val_rpn_class_loss: 3.2426 - val_rpn_bbox_loss: 0.8842 - val_mrcnn_class_loss: 1.2881 - val_mrcnn_bbox_loss: 0.3572 - val_mrcnn_mask_loss: 0.6229\n",
      "Epoch 83/300\n",
      "146/146 [==============================] - 541s 4s/step - batch: 72.5000 - size: 2.0000 - loss: 0.2862 - rpn_class_loss: 0.0047 - rpn_bbox_loss: 0.0301 - mrcnn_class_loss: 0.0599 - mrcnn_bbox_loss: 0.0349 - mrcnn_mask_loss: 0.1566 - val_loss: 4.5990 - val_rpn_class_loss: 2.0592 - val_rpn_bbox_loss: 0.6633 - val_mrcnn_class_loss: 0.9796 - val_mrcnn_bbox_loss: 0.3613 - val_mrcnn_mask_loss: 0.5354\n",
      "Epoch 84/300\n",
      "146/146 [==============================] - 508s 3s/step - batch: 72.5000 - size: 2.0000 - loss: 0.2723 - rpn_class_loss: 0.0045 - rpn_bbox_loss: 0.0265 - mrcnn_class_loss: 0.0546 - mrcnn_bbox_loss: 0.0330 - mrcnn_mask_loss: 0.1537 - val_loss: 7.3758 - val_rpn_class_loss: 3.6245 - val_rpn_bbox_loss: 0.8306 - val_mrcnn_class_loss: 1.4927 - val_mrcnn_bbox_loss: 0.3888 - val_mrcnn_mask_loss: 1.0391\n",
      "Epoch 85/300\n",
      "146/146 [==============================] - 569s 4s/step - batch: 72.5000 - size: 2.0000 - loss: 0.2807 - rpn_class_loss: 0.0043 - rpn_bbox_loss: 0.0301 - mrcnn_class_loss: 0.0574 - mrcnn_bbox_loss: 0.0341 - mrcnn_mask_loss: 0.1548 - val_loss: 5.7041 - val_rpn_class_loss: 2.9397 - val_rpn_bbox_loss: 0.7547 - val_mrcnn_class_loss: 1.1002 - val_mrcnn_bbox_loss: 0.3473 - val_mrcnn_mask_loss: 0.5622\n",
      "Epoch 86/300\n",
      "146/146 [==============================] - 513s 4s/step - batch: 72.5000 - size: 2.0000 - loss: 0.2698 - rpn_class_loss: 0.0049 - rpn_bbox_loss: 0.0278 - mrcnn_class_loss: 0.0532 - mrcnn_bbox_loss: 0.0332 - mrcnn_mask_loss: 0.1506 - val_loss: 5.2679 - val_rpn_class_loss: 2.4579 - val_rpn_bbox_loss: 0.7083 - val_mrcnn_class_loss: 1.1652 - val_mrcnn_bbox_loss: 0.3615 - val_mrcnn_mask_loss: 0.5750\n",
      "Epoch 87/300\n",
      "146/146 [==============================] - 571s 4s/step - batch: 72.5000 - size: 2.0000 - loss: 0.2671 - rpn_class_loss: 0.0039 - rpn_bbox_loss: 0.0281 - mrcnn_class_loss: 0.0528 - mrcnn_bbox_loss: 0.0325 - mrcnn_mask_loss: 0.1497 - val_loss: 5.8668 - val_rpn_class_loss: 2.8412 - val_rpn_bbox_loss: 0.8166 - val_mrcnn_class_loss: 1.2112 - val_mrcnn_bbox_loss: 0.3680 - val_mrcnn_mask_loss: 0.6298\n",
      "Epoch 88/300\n",
      "146/146 [==============================] - 559s 4s/step - batch: 72.5000 - size: 2.0000 - loss: 0.2461 - rpn_class_loss: 0.0031 - rpn_bbox_loss: 0.0228 - mrcnn_class_loss: 0.0494 - mrcnn_bbox_loss: 0.0295 - mrcnn_mask_loss: 0.1413 - val_loss: 5.9497 - val_rpn_class_loss: 2.9426 - val_rpn_bbox_loss: 0.8228 - val_mrcnn_class_loss: 1.1733 - val_mrcnn_bbox_loss: 0.3732 - val_mrcnn_mask_loss: 0.6377\n",
      "Epoch 89/300\n",
      "146/146 [==============================] - 507s 3s/step - batch: 72.5000 - size: 2.0000 - loss: 0.2584 - rpn_class_loss: 0.0038 - rpn_bbox_loss: 0.0276 - mrcnn_class_loss: 0.0515 - mrcnn_bbox_loss: 0.0307 - mrcnn_mask_loss: 0.1447 - val_loss: 6.0696 - val_rpn_class_loss: 3.1650 - val_rpn_bbox_loss: 0.8550 - val_mrcnn_class_loss: 1.1145 - val_mrcnn_bbox_loss: 0.3501 - val_mrcnn_mask_loss: 0.5850\n",
      "Epoch 90/300\n",
      "146/146 [==============================] - 568s 4s/step - batch: 72.5000 - size: 2.0000 - loss: 0.2635 - rpn_class_loss: 0.0061 - rpn_bbox_loss: 0.0273 - mrcnn_class_loss: 0.0522 - mrcnn_bbox_loss: 0.0315 - mrcnn_mask_loss: 0.1465 - val_loss: 5.6452 - val_rpn_class_loss: 2.6966 - val_rpn_bbox_loss: 0.8366 - val_mrcnn_class_loss: 1.0960 - val_mrcnn_bbox_loss: 0.3678 - val_mrcnn_mask_loss: 0.6482\n",
      "Epoch 91/300\n",
      "146/146 [==============================] - 537s 4s/step - batch: 72.5000 - size: 2.0000 - loss: 0.2577 - rpn_class_loss: 0.0031 - rpn_bbox_loss: 0.0246 - mrcnn_class_loss: 0.0525 - mrcnn_bbox_loss: 0.0310 - mrcnn_mask_loss: 0.1464 - val_loss: 6.5175 - val_rpn_class_loss: 3.3254 - val_rpn_bbox_loss: 0.9312 - val_mrcnn_class_loss: 1.3169 - val_mrcnn_bbox_loss: 0.3368 - val_mrcnn_mask_loss: 0.6072\n",
      "Epoch 92/300\n",
      "146/146 [==============================] - 571s 4s/step - batch: 72.5000 - size: 2.0000 - loss: 0.2559 - rpn_class_loss: 0.0036 - rpn_bbox_loss: 0.0270 - mrcnn_class_loss: 0.0509 - mrcnn_bbox_loss: 0.0306 - mrcnn_mask_loss: 0.1438 - val_loss: 5.7369 - val_rpn_class_loss: 2.7796 - val_rpn_bbox_loss: 0.7887 - val_mrcnn_class_loss: 1.1199 - val_mrcnn_bbox_loss: 0.3848 - val_mrcnn_mask_loss: 0.6639\n",
      "Epoch 93/300\n",
      "146/146 [==============================] - 497s 3s/step - batch: 72.5000 - size: 2.0000 - loss: 0.2505 - rpn_class_loss: 0.0030 - rpn_bbox_loss: 0.0250 - mrcnn_class_loss: 0.0520 - mrcnn_bbox_loss: 0.0293 - mrcnn_mask_loss: 0.1412 - val_loss: 5.1320 - val_rpn_class_loss: 2.4028 - val_rpn_bbox_loss: 0.7864 - val_mrcnn_class_loss: 0.9749 - val_mrcnn_bbox_loss: 0.3750 - val_mrcnn_mask_loss: 0.5928\n",
      "Epoch 94/300\n",
      "146/146 [==============================] - 556s 4s/step - batch: 72.5000 - size: 2.0000 - loss: 0.2381 - rpn_class_loss: 0.0038 - rpn_bbox_loss: 0.0213 - mrcnn_class_loss: 0.0486 - mrcnn_bbox_loss: 0.0274 - mrcnn_mask_loss: 0.1371 - val_loss: 5.4188 - val_rpn_class_loss: 2.5175 - val_rpn_bbox_loss: 0.7397 - val_mrcnn_class_loss: 1.1614 - val_mrcnn_bbox_loss: 0.3461 - val_mrcnn_mask_loss: 0.6541\n",
      "Epoch 95/300\n",
      "146/146 [==============================] - 591s 4s/step - batch: 72.5000 - size: 2.0000 - loss: 0.2414 - rpn_class_loss: 0.0034 - rpn_bbox_loss: 0.0224 - mrcnn_class_loss: 0.0490 - mrcnn_bbox_loss: 0.0278 - mrcnn_mask_loss: 0.1388 - val_loss: 6.6875 - val_rpn_class_loss: 3.3565 - val_rpn_bbox_loss: 0.8545 - val_mrcnn_class_loss: 1.3980 - val_mrcnn_bbox_loss: 0.3668 - val_mrcnn_mask_loss: 0.7117\n",
      "Epoch 96/300\n",
      "146/146 [==============================] - 474s 3s/step - batch: 72.5000 - size: 2.0000 - loss: 0.2290 - rpn_class_loss: 0.0026 - rpn_bbox_loss: 0.0212 - mrcnn_class_loss: 0.0455 - mrcnn_bbox_loss: 0.0263 - mrcnn_mask_loss: 0.1334 - val_loss: 4.9892 - val_rpn_class_loss: 2.3334 - val_rpn_bbox_loss: 0.7217 - val_mrcnn_class_loss: 1.0414 - val_mrcnn_bbox_loss: 0.3336 - val_mrcnn_mask_loss: 0.5591\n",
      "Epoch 97/300\n",
      "146/146 [==============================] - 525s 4s/step - batch: 72.5000 - size: 2.0000 - loss: 0.2412 - rpn_class_loss: 0.0031 - rpn_bbox_loss: 0.0237 - mrcnn_class_loss: 0.0477 - mrcnn_bbox_loss: 0.0288 - mrcnn_mask_loss: 0.1378 - val_loss: 5.2366 - val_rpn_class_loss: 2.4196 - val_rpn_bbox_loss: 0.7155 - val_mrcnn_class_loss: 1.1235 - val_mrcnn_bbox_loss: 0.3527 - val_mrcnn_mask_loss: 0.6253\n",
      "Epoch 98/300\n",
      "146/146 [==============================] - 554s 4s/step - batch: 72.5000 - size: 2.0000 - loss: 0.2347 - rpn_class_loss: 0.0029 - rpn_bbox_loss: 0.0230 - mrcnn_class_loss: 0.0463 - mrcnn_bbox_loss: 0.0268 - mrcnn_mask_loss: 0.1357 - val_loss: 6.1613 - val_rpn_class_loss: 2.9801 - val_rpn_bbox_loss: 0.8164 - val_mrcnn_class_loss: 1.3111 - val_mrcnn_bbox_loss: 0.3861 - val_mrcnn_mask_loss: 0.6676\n",
      "Epoch 99/300\n",
      "146/146 [==============================] - 598s 4s/step - batch: 72.5000 - size: 2.0000 - loss: 0.2351 - rpn_class_loss: 0.0026 - rpn_bbox_loss: 0.0220 - mrcnn_class_loss: 0.0486 - mrcnn_bbox_loss: 0.0271 - mrcnn_mask_loss: 0.1349 - val_loss: 7.0268 - val_rpn_class_loss: 3.5333 - val_rpn_bbox_loss: 0.9215 - val_mrcnn_class_loss: 1.6087 - val_mrcnn_bbox_loss: 0.3614 - val_mrcnn_mask_loss: 0.6018\n",
      "Epoch 100/300\n",
      "146/146 [==============================] - 493s 3s/step - batch: 72.5000 - size: 2.0000 - loss: 0.2376 - rpn_class_loss: 0.0027 - rpn_bbox_loss: 0.0232 - mrcnn_class_loss: 0.0476 - mrcnn_bbox_loss: 0.0274 - mrcnn_mask_loss: 0.1367 - val_loss: 6.4944 - val_rpn_class_loss: 3.2926 - val_rpn_bbox_loss: 0.8187 - val_mrcnn_class_loss: 1.3644 - val_mrcnn_bbox_loss: 0.3750 - val_mrcnn_mask_loss: 0.6437\n"
     ]
    },
    {
     "name": "stdout",
     "output_type": "stream",
     "text": [
      "Epoch 101/300\n",
      "146/146 [==============================] - 533s 4s/step - batch: 72.5000 - size: 2.0000 - loss: 0.2305 - rpn_class_loss: 0.0028 - rpn_bbox_loss: 0.0208 - mrcnn_class_loss: 0.0460 - mrcnn_bbox_loss: 0.0269 - mrcnn_mask_loss: 0.1341 - val_loss: 5.6976 - val_rpn_class_loss: 2.8306 - val_rpn_bbox_loss: 0.7734 - val_mrcnn_class_loss: 1.1901 - val_mrcnn_bbox_loss: 0.3537 - val_mrcnn_mask_loss: 0.5497\n",
      "Epoch 102/300\n",
      "146/146 [==============================] - 569s 4s/step - batch: 72.5000 - size: 2.0000 - loss: 0.2319 - rpn_class_loss: 0.0021 - rpn_bbox_loss: 0.0212 - mrcnn_class_loss: 0.0474 - mrcnn_bbox_loss: 0.0272 - mrcnn_mask_loss: 0.1340 - val_loss: 7.2162 - val_rpn_class_loss: 3.7207 - val_rpn_bbox_loss: 0.9518 - val_mrcnn_class_loss: 1.5101 - val_mrcnn_bbox_loss: 0.3790 - val_mrcnn_mask_loss: 0.6546\n",
      "Epoch 103/300\n",
      "146/146 [==============================] - 489s 3s/step - batch: 72.5000 - size: 2.0000 - loss: 0.2247 - rpn_class_loss: 0.0024 - rpn_bbox_loss: 0.0190 - mrcnn_class_loss: 0.0448 - mrcnn_bbox_loss: 0.0256 - mrcnn_mask_loss: 0.1329 - val_loss: 5.3823 - val_rpn_class_loss: 2.5568 - val_rpn_bbox_loss: 0.8347 - val_mrcnn_class_loss: 1.1266 - val_mrcnn_bbox_loss: 0.3534 - val_mrcnn_mask_loss: 0.5109\n",
      "Epoch 104/300\n",
      "146/146 [==============================] - 551s 4s/step - batch: 72.5000 - size: 2.0000 - loss: 0.2518 - rpn_class_loss: 0.0035 - rpn_bbox_loss: 0.0276 - mrcnn_class_loss: 0.0504 - mrcnn_bbox_loss: 0.0298 - mrcnn_mask_loss: 0.1406 - val_loss: 7.4676 - val_rpn_class_loss: 3.7164 - val_rpn_bbox_loss: 0.8687 - val_mrcnn_class_loss: 1.6201 - val_mrcnn_bbox_loss: 0.4002 - val_mrcnn_mask_loss: 0.8622\n",
      "Epoch 105/300\n",
      "146/146 [==============================] - 529s 4s/step - batch: 72.5000 - size: 2.0000 - loss: 0.2275 - rpn_class_loss: 0.0023 - rpn_bbox_loss: 0.0216 - mrcnn_class_loss: 0.0462 - mrcnn_bbox_loss: 0.0261 - mrcnn_mask_loss: 0.1313 - val_loss: 7.7841 - val_rpn_class_loss: 4.1937 - val_rpn_bbox_loss: 0.9247 - val_mrcnn_class_loss: 1.4874 - val_mrcnn_bbox_loss: 0.3660 - val_mrcnn_mask_loss: 0.8122\n",
      "Epoch 106/300\n",
      "146/146 [==============================] - 587s 4s/step - batch: 72.5000 - size: 2.0000 - loss: 0.2370 - rpn_class_loss: 0.0039 - rpn_bbox_loss: 0.0234 - mrcnn_class_loss: 0.0465 - mrcnn_bbox_loss: 0.0268 - mrcnn_mask_loss: 0.1363 - val_loss: 5.7045 - val_rpn_class_loss: 2.8005 - val_rpn_bbox_loss: 0.7795 - val_mrcnn_class_loss: 1.1774 - val_mrcnn_bbox_loss: 0.3540 - val_mrcnn_mask_loss: 0.5930\n",
      "Epoch 107/300\n",
      "146/146 [==============================] - 562s 4s/step - batch: 72.5000 - size: 2.0000 - loss: 0.2118 - rpn_class_loss: 0.0017 - rpn_bbox_loss: 0.0183 - mrcnn_class_loss: 0.0429 - mrcnn_bbox_loss: 0.0238 - mrcnn_mask_loss: 0.1251 - val_loss: 5.5284 - val_rpn_class_loss: 2.6647 - val_rpn_bbox_loss: 0.7653 - val_mrcnn_class_loss: 1.1913 - val_mrcnn_bbox_loss: 0.3239 - val_mrcnn_mask_loss: 0.5832\n",
      "Epoch 108/300\n",
      "146/146 [==============================] - 484s 3s/step - batch: 72.5000 - size: 2.0000 - loss: 0.2152 - rpn_class_loss: 0.0020 - rpn_bbox_loss: 0.0183 - mrcnn_class_loss: 0.0439 - mrcnn_bbox_loss: 0.0241 - mrcnn_mask_loss: 0.1270 - val_loss: 6.4974 - val_rpn_class_loss: 3.1658 - val_rpn_bbox_loss: 0.8159 - val_mrcnn_class_loss: 1.3780 - val_mrcnn_bbox_loss: 0.3760 - val_mrcnn_mask_loss: 0.7618\n",
      "Epoch 109/300\n",
      "146/146 [==============================] - 523s 4s/step - batch: 72.5000 - size: 2.0000 - loss: 0.2211 - rpn_class_loss: 0.0025 - rpn_bbox_loss: 0.0197 - mrcnn_class_loss: 0.0463 - mrcnn_bbox_loss: 0.0249 - mrcnn_mask_loss: 0.1275 - val_loss: 5.8336 - val_rpn_class_loss: 2.7015 - val_rpn_bbox_loss: 0.7537 - val_mrcnn_class_loss: 1.3048 - val_mrcnn_bbox_loss: 0.3720 - val_mrcnn_mask_loss: 0.7016\n",
      "Epoch 110/300\n",
      "146/146 [==============================] - 495s 3s/step - batch: 72.5000 - size: 2.0000 - loss: 0.2071 - rpn_class_loss: 0.0018 - rpn_bbox_loss: 0.0162 - mrcnn_class_loss: 0.0428 - mrcnn_bbox_loss: 0.0233 - mrcnn_mask_loss: 0.1229 - val_loss: 5.7094 - val_rpn_class_loss: 2.7894 - val_rpn_bbox_loss: 0.7364 - val_mrcnn_class_loss: 1.2251 - val_mrcnn_bbox_loss: 0.3516 - val_mrcnn_mask_loss: 0.6068\n",
      "Epoch 111/300\n",
      "146/146 [==============================] - 580s 4s/step - batch: 72.5000 - size: 2.0000 - loss: 0.2193 - rpn_class_loss: 0.0023 - rpn_bbox_loss: 0.0192 - mrcnn_class_loss: 0.0469 - mrcnn_bbox_loss: 0.0244 - mrcnn_mask_loss: 0.1265 - val_loss: 6.9117 - val_rpn_class_loss: 3.7130 - val_rpn_bbox_loss: 0.8819 - val_mrcnn_class_loss: 1.3160 - val_mrcnn_bbox_loss: 0.3356 - val_mrcnn_mask_loss: 0.6653\n",
      "Epoch 112/300\n",
      "146/146 [==============================] - 477s 3s/step - batch: 72.5000 - size: 2.0000 - loss: 0.2113 - rpn_class_loss: 0.0030 - rpn_bbox_loss: 0.0198 - mrcnn_class_loss: 0.0427 - mrcnn_bbox_loss: 0.0233 - mrcnn_mask_loss: 0.1226 - val_loss: 6.8776 - val_rpn_class_loss: 3.5366 - val_rpn_bbox_loss: 0.8596 - val_mrcnn_class_loss: 1.4098 - val_mrcnn_bbox_loss: 0.3707 - val_mrcnn_mask_loss: 0.7009\n",
      "Epoch 113/300\n",
      "146/146 [==============================] - 520s 4s/step - batch: 72.5000 - size: 2.0000 - loss: 0.2064 - rpn_class_loss: 0.0020 - rpn_bbox_loss: 0.0182 - mrcnn_class_loss: 0.0421 - mrcnn_bbox_loss: 0.0230 - mrcnn_mask_loss: 0.1212 - val_loss: 6.6667 - val_rpn_class_loss: 3.3990 - val_rpn_bbox_loss: 0.7440 - val_mrcnn_class_loss: 1.3886 - val_mrcnn_bbox_loss: 0.3905 - val_mrcnn_mask_loss: 0.7446\n",
      "Epoch 114/300\n",
      "146/146 [==============================] - 550s 4s/step - batch: 72.5000 - size: 2.0000 - loss: 0.2054 - rpn_class_loss: 0.0020 - rpn_bbox_loss: 0.0175 - mrcnn_class_loss: 0.0427 - mrcnn_bbox_loss: 0.0226 - mrcnn_mask_loss: 0.1207 - val_loss: 6.1408 - val_rpn_class_loss: 3.0895 - val_rpn_bbox_loss: 0.7231 - val_mrcnn_class_loss: 1.3359 - val_mrcnn_bbox_loss: 0.3527 - val_mrcnn_mask_loss: 0.6396\n",
      "Epoch 115/300\n",
      "146/146 [==============================] - 501s 3s/step - batch: 72.5000 - size: 2.0000 - loss: 0.2026 - rpn_class_loss: 0.0016 - rpn_bbox_loss: 0.0184 - mrcnn_class_loss: 0.0396 - mrcnn_bbox_loss: 0.0226 - mrcnn_mask_loss: 0.1205 - val_loss: 6.5218 - val_rpn_class_loss: 3.2938 - val_rpn_bbox_loss: 0.9066 - val_mrcnn_class_loss: 1.2452 - val_mrcnn_bbox_loss: 0.3597 - val_mrcnn_mask_loss: 0.7165\n",
      "Epoch 116/300\n",
      "146/146 [==============================] - 544s 4s/step - batch: 72.5000 - size: 2.0000 - loss: 0.2047 - rpn_class_loss: 0.0019 - rpn_bbox_loss: 0.0170 - mrcnn_class_loss: 0.0424 - mrcnn_bbox_loss: 0.0226 - mrcnn_mask_loss: 0.1209 - val_loss: 5.9811 - val_rpn_class_loss: 2.9496 - val_rpn_bbox_loss: 0.8239 - val_mrcnn_class_loss: 1.2721 - val_mrcnn_bbox_loss: 0.3337 - val_mrcnn_mask_loss: 0.6020\n",
      "Epoch 117/300\n",
      "146/146 [==============================] - 509s 4s/step - batch: 72.5000 - size: 2.0000 - loss: 0.2015 - rpn_class_loss: 0.0021 - rpn_bbox_loss: 0.0172 - mrcnn_class_loss: 0.0396 - mrcnn_bbox_loss: 0.0222 - mrcnn_mask_loss: 0.1203 - val_loss: 7.0381 - val_rpn_class_loss: 3.7162 - val_rpn_bbox_loss: 0.9653 - val_mrcnn_class_loss: 1.3501 - val_mrcnn_bbox_loss: 0.3365 - val_mrcnn_mask_loss: 0.6699\n",
      "Epoch 118/300\n",
      "146/146 [==============================] - 586s 4s/step - batch: 72.5000 - size: 2.0000 - loss: 0.2135 - rpn_class_loss: 0.0027 - rpn_bbox_loss: 0.0212 - mrcnn_class_loss: 0.0423 - mrcnn_bbox_loss: 0.0241 - mrcnn_mask_loss: 0.1232 - val_loss: 6.8170 - val_rpn_class_loss: 3.3456 - val_rpn_bbox_loss: 0.8956 - val_mrcnn_class_loss: 1.4159 - val_mrcnn_bbox_loss: 0.3647 - val_mrcnn_mask_loss: 0.7951\n",
      "Epoch 119/300\n",
      "146/146 [==============================] - 553s 4s/step - batch: 72.5000 - size: 2.0000 - loss: 0.1995 - rpn_class_loss: 0.0018 - rpn_bbox_loss: 0.0168 - mrcnn_class_loss: 0.0420 - mrcnn_bbox_loss: 0.0217 - mrcnn_mask_loss: 0.1172 - val_loss: 7.2276 - val_rpn_class_loss: 3.7809 - val_rpn_bbox_loss: 0.9508 - val_mrcnn_class_loss: 1.3788 - val_mrcnn_bbox_loss: 0.3556 - val_mrcnn_mask_loss: 0.7615\n",
      "Epoch 120/300\n",
      "146/146 [==============================] - 536s 4s/step - batch: 72.5000 - size: 2.0000 - loss: 0.1980 - rpn_class_loss: 0.0018 - rpn_bbox_loss: 0.0168 - mrcnn_class_loss: 0.0402 - mrcnn_bbox_loss: 0.0218 - mrcnn_mask_loss: 0.1174 - val_loss: 5.7012 - val_rpn_class_loss: 2.8464 - val_rpn_bbox_loss: 0.8310 - val_mrcnn_class_loss: 1.0930 - val_mrcnn_bbox_loss: 0.3387 - val_mrcnn_mask_loss: 0.5920\n"
     ]
    },
    {
     "name": "stdout",
     "output_type": "stream",
     "text": [
      "Epoch 121/300\n",
      "146/146 [==============================] - 570s 4s/step - batch: 72.5000 - size: 2.0000 - loss: 0.2075 - rpn_class_loss: 0.0027 - rpn_bbox_loss: 0.0198 - mrcnn_class_loss: 0.0432 - mrcnn_bbox_loss: 0.0230 - mrcnn_mask_loss: 0.1188 - val_loss: 5.6572 - val_rpn_class_loss: 2.5224 - val_rpn_bbox_loss: 0.6449 - val_mrcnn_class_loss: 1.3540 - val_mrcnn_bbox_loss: 0.3832 - val_mrcnn_mask_loss: 0.7528\n",
      "Epoch 122/300\n",
      "146/146 [==============================] - 540s 4s/step - batch: 72.5000 - size: 2.0000 - loss: 0.2003 - rpn_class_loss: 0.0018 - rpn_bbox_loss: 0.0181 - mrcnn_class_loss: 0.0410 - mrcnn_bbox_loss: 0.0215 - mrcnn_mask_loss: 0.1180 - val_loss: 6.3816 - val_rpn_class_loss: 3.2673 - val_rpn_bbox_loss: 0.7866 - val_mrcnn_class_loss: 1.2900 - val_mrcnn_bbox_loss: 0.3637 - val_mrcnn_mask_loss: 0.6740\n",
      "Epoch 123/300\n",
      "146/146 [==============================] - 563s 4s/step - batch: 72.5000 - size: 2.0000 - loss: 0.2024 - rpn_class_loss: 0.0017 - rpn_bbox_loss: 0.0168 - mrcnn_class_loss: 0.0435 - mrcnn_bbox_loss: 0.0219 - mrcnn_mask_loss: 0.1185 - val_loss: 6.1590 - val_rpn_class_loss: 3.1729 - val_rpn_bbox_loss: 0.8274 - val_mrcnn_class_loss: 1.1964 - val_mrcnn_bbox_loss: 0.3393 - val_mrcnn_mask_loss: 0.6229\n",
      "Epoch 124/300\n",
      "146/146 [==============================] - 494s 3s/step - batch: 72.5000 - size: 2.0000 - loss: 0.1903 - rpn_class_loss: 0.0017 - rpn_bbox_loss: 0.0158 - mrcnn_class_loss: 0.0386 - mrcnn_bbox_loss: 0.0205 - mrcnn_mask_loss: 0.1138 - val_loss: 6.7535 - val_rpn_class_loss: 3.5475 - val_rpn_bbox_loss: 0.8749 - val_mrcnn_class_loss: 1.3699 - val_mrcnn_bbox_loss: 0.3242 - val_mrcnn_mask_loss: 0.6370\n",
      "Epoch 125/300\n",
      "146/146 [==============================] - 574s 4s/step - batch: 72.5000 - size: 2.0000 - loss: 0.1846 - rpn_class_loss: 0.0015 - rpn_bbox_loss: 0.0148 - mrcnn_class_loss: 0.0388 - mrcnn_bbox_loss: 0.0197 - mrcnn_mask_loss: 0.1099 - val_loss: 6.6047 - val_rpn_class_loss: 3.4085 - val_rpn_bbox_loss: 0.8718 - val_mrcnn_class_loss: 1.2675 - val_mrcnn_bbox_loss: 0.3504 - val_mrcnn_mask_loss: 0.7064\n",
      "Epoch 126/300\n",
      "146/146 [==============================] - 509s 4s/step - batch: 72.5000 - size: 2.0000 - loss: 0.1936 - rpn_class_loss: 0.0018 - rpn_bbox_loss: 0.0161 - mrcnn_class_loss: 0.0414 - mrcnn_bbox_loss: 0.0206 - mrcnn_mask_loss: 0.1137 - val_loss: 7.8030 - val_rpn_class_loss: 4.4009 - val_rpn_bbox_loss: 0.9880 - val_mrcnn_class_loss: 1.4082 - val_mrcnn_bbox_loss: 0.3367 - val_mrcnn_mask_loss: 0.6692\n",
      "Epoch 127/300\n",
      "146/146 [==============================] - 538s 4s/step - batch: 72.5000 - size: 2.0000 - loss: 0.1884 - rpn_class_loss: 0.0019 - rpn_bbox_loss: 0.0162 - mrcnn_class_loss: 0.0397 - mrcnn_bbox_loss: 0.0202 - mrcnn_mask_loss: 0.1105 - val_loss: 7.5880 - val_rpn_class_loss: 4.0007 - val_rpn_bbox_loss: 0.9912 - val_mrcnn_class_loss: 1.4599 - val_mrcnn_bbox_loss: 0.3490 - val_mrcnn_mask_loss: 0.7872\n",
      "Epoch 128/300\n",
      "146/146 [==============================] - 545s 4s/step - batch: 72.5000 - size: 2.0000 - loss: 0.1912 - rpn_class_loss: 0.0015 - rpn_bbox_loss: 0.0158 - mrcnn_class_loss: 0.0395 - mrcnn_bbox_loss: 0.0202 - mrcnn_mask_loss: 0.1142 - val_loss: 6.5559 - val_rpn_class_loss: 3.3437 - val_rpn_bbox_loss: 0.9324 - val_mrcnn_class_loss: 1.2126 - val_mrcnn_bbox_loss: 0.3250 - val_mrcnn_mask_loss: 0.7422\n",
      "Epoch 129/300\n",
      "146/146 [==============================] - 561s 4s/step - batch: 72.5000 - size: 2.0000 - loss: 0.1894 - rpn_class_loss: 0.0016 - rpn_bbox_loss: 0.0158 - mrcnn_class_loss: 0.0389 - mrcnn_bbox_loss: 0.0202 - mrcnn_mask_loss: 0.1127 - val_loss: 6.8759 - val_rpn_class_loss: 3.4192 - val_rpn_bbox_loss: 0.8383 - val_mrcnn_class_loss: 1.4678 - val_mrcnn_bbox_loss: 0.3738 - val_mrcnn_mask_loss: 0.7768\n",
      "Epoch 130/300\n",
      "146/146 [==============================] - 554s 4s/step - batch: 72.5000 - size: 2.0000 - loss: 0.1875 - rpn_class_loss: 0.0019 - rpn_bbox_loss: 0.0157 - mrcnn_class_loss: 0.0380 - mrcnn_bbox_loss: 0.0199 - mrcnn_mask_loss: 0.1119 - val_loss: 6.7756 - val_rpn_class_loss: 3.4205 - val_rpn_bbox_loss: 0.7776 - val_mrcnn_class_loss: 1.3933 - val_mrcnn_bbox_loss: 0.3753 - val_mrcnn_mask_loss: 0.8088\n",
      "Epoch 131/300\n",
      "146/146 [==============================] - 500s 3s/step - batch: 72.5000 - size: 2.0000 - loss: 0.1869 - rpn_class_loss: 0.0021 - rpn_bbox_loss: 0.0169 - mrcnn_class_loss: 0.0369 - mrcnn_bbox_loss: 0.0195 - mrcnn_mask_loss: 0.1114 - val_loss: 6.8285 - val_rpn_class_loss: 3.5027 - val_rpn_bbox_loss: 0.7914 - val_mrcnn_class_loss: 1.3835 - val_mrcnn_bbox_loss: 0.3609 - val_mrcnn_mask_loss: 0.7901\n",
      "Epoch 132/300\n",
      "146/146 [==============================] - 446s 3s/step - batch: 72.5000 - size: 2.0000 - loss: 0.1871 - rpn_class_loss: 0.0012 - rpn_bbox_loss: 0.0149 - mrcnn_class_loss: 0.0393 - mrcnn_bbox_loss: 0.0199 - mrcnn_mask_loss: 0.1117 - val_loss: 6.9728 - val_rpn_class_loss: 3.5321 - val_rpn_bbox_loss: 0.9350 - val_mrcnn_class_loss: 1.3647 - val_mrcnn_bbox_loss: 0.3567 - val_mrcnn_mask_loss: 0.7843\n",
      "Epoch 133/300\n",
      "146/146 [==============================] - 420s 3s/step - batch: 72.5000 - size: 2.0000 - loss: 0.1820 - rpn_class_loss: 0.0014 - rpn_bbox_loss: 0.0149 - mrcnn_class_loss: 0.0368 - mrcnn_bbox_loss: 0.0193 - mrcnn_mask_loss: 0.1096 - val_loss: 7.0702 - val_rpn_class_loss: 3.8343 - val_rpn_bbox_loss: 0.9400 - val_mrcnn_class_loss: 1.2376 - val_mrcnn_bbox_loss: 0.3403 - val_mrcnn_mask_loss: 0.7182\n",
      "Epoch 134/300\n",
      "146/146 [==============================] - 467s 3s/step - batch: 72.5000 - size: 2.0000 - loss: 0.1876 - rpn_class_loss: 0.0019 - rpn_bbox_loss: 0.0164 - mrcnn_class_loss: 0.0371 - mrcnn_bbox_loss: 0.0202 - mrcnn_mask_loss: 0.1120 - val_loss: 6.5239 - val_rpn_class_loss: 3.2375 - val_rpn_bbox_loss: 0.8478 - val_mrcnn_class_loss: 1.3300 - val_mrcnn_bbox_loss: 0.3444 - val_mrcnn_mask_loss: 0.7642\n",
      "Epoch 135/300\n",
      "146/146 [==============================] - 480s 3s/step - batch: 72.5000 - size: 2.0000 - loss: 0.1825 - rpn_class_loss: 0.0018 - rpn_bbox_loss: 0.0159 - mrcnn_class_loss: 0.0389 - mrcnn_bbox_loss: 0.0191 - mrcnn_mask_loss: 0.1068 - val_loss: 7.5244 - val_rpn_class_loss: 3.9041 - val_rpn_bbox_loss: 1.0066 - val_mrcnn_class_loss: 1.4030 - val_mrcnn_bbox_loss: 0.3677 - val_mrcnn_mask_loss: 0.8428\n",
      "Epoch 136/300\n",
      "146/146 [==============================] - 434s 3s/step - batch: 72.5000 - size: 2.0000 - loss: 0.1945 - rpn_class_loss: 0.0022 - rpn_bbox_loss: 0.0178 - mrcnn_class_loss: 0.0405 - mrcnn_bbox_loss: 0.0206 - mrcnn_mask_loss: 0.1134 - val_loss: 7.5124 - val_rpn_class_loss: 3.7657 - val_rpn_bbox_loss: 0.8828 - val_mrcnn_class_loss: 1.5828 - val_mrcnn_bbox_loss: 0.3675 - val_mrcnn_mask_loss: 0.9136\n",
      "Epoch 137/300\n",
      "146/146 [==============================] - 449s 3s/step - batch: 72.5000 - size: 2.0000 - loss: 0.1732 - rpn_class_loss: 0.0015 - rpn_bbox_loss: 0.0136 - mrcnn_class_loss: 0.0343 - mrcnn_bbox_loss: 0.0181 - mrcnn_mask_loss: 0.1057 - val_loss: 7.0748 - val_rpn_class_loss: 3.5654 - val_rpn_bbox_loss: 0.8487 - val_mrcnn_class_loss: 1.4171 - val_mrcnn_bbox_loss: 0.3970 - val_mrcnn_mask_loss: 0.8466\n",
      "Epoch 138/300\n",
      "146/146 [==============================] - 460s 3s/step - batch: 72.5000 - size: 2.0000 - loss: 0.1755 - rpn_class_loss: 0.0016 - rpn_bbox_loss: 0.0140 - mrcnn_class_loss: 0.0345 - mrcnn_bbox_loss: 0.0183 - mrcnn_mask_loss: 0.1072 - val_loss: 6.8068 - val_rpn_class_loss: 3.5542 - val_rpn_bbox_loss: 0.8755 - val_mrcnn_class_loss: 1.2285 - val_mrcnn_bbox_loss: 0.3484 - val_mrcnn_mask_loss: 0.8002\n",
      "Epoch 139/300\n",
      "146/146 [==============================] - 415s 3s/step - batch: 72.5000 - size: 2.0000 - loss: 0.1742 - rpn_class_loss: 0.0014 - rpn_bbox_loss: 0.0135 - mrcnn_class_loss: 0.0367 - mrcnn_bbox_loss: 0.0183 - mrcnn_mask_loss: 0.1042 - val_loss: 7.1878 - val_rpn_class_loss: 3.8810 - val_rpn_bbox_loss: 0.8706 - val_mrcnn_class_loss: 1.3713 - val_mrcnn_bbox_loss: 0.3413 - val_mrcnn_mask_loss: 0.7237\n",
      "Epoch 140/300\n",
      "146/146 [==============================] - 484s 3s/step - batch: 72.5000 - size: 2.0000 - loss: 0.1784 - rpn_class_loss: 0.0016 - rpn_bbox_loss: 0.0148 - mrcnn_class_loss: 0.0374 - mrcnn_bbox_loss: 0.0187 - mrcnn_mask_loss: 0.1059 - val_loss: 7.7317 - val_rpn_class_loss: 4.0483 - val_rpn_bbox_loss: 0.9586 - val_mrcnn_class_loss: 1.5166 - val_mrcnn_bbox_loss: 0.3686 - val_mrcnn_mask_loss: 0.8397\n"
     ]
    },
    {
     "name": "stdout",
     "output_type": "stream",
     "text": [
      "Epoch 141/300\n",
      "146/146 [==============================] - 474s 3s/step - batch: 72.5000 - size: 2.0000 - loss: 0.1803 - rpn_class_loss: 0.0021 - rpn_bbox_loss: 0.0153 - mrcnn_class_loss: 0.0372 - mrcnn_bbox_loss: 0.0192 - mrcnn_mask_loss: 0.1064 - val_loss: 7.3622 - val_rpn_class_loss: 3.6831 - val_rpn_bbox_loss: 0.8906 - val_mrcnn_class_loss: 1.5869 - val_mrcnn_bbox_loss: 0.3677 - val_mrcnn_mask_loss: 0.8340\n",
      "Epoch 142/300\n",
      "146/146 [==============================] - 497s 3s/step - batch: 72.5000 - size: 2.0000 - loss: 0.1762 - rpn_class_loss: 0.0015 - rpn_bbox_loss: 0.0142 - mrcnn_class_loss: 0.0356 - mrcnn_bbox_loss: 0.0183 - mrcnn_mask_loss: 0.1067 - val_loss: 7.8222 - val_rpn_class_loss: 4.1020 - val_rpn_bbox_loss: 0.9564 - val_mrcnn_class_loss: 1.5661 - val_mrcnn_bbox_loss: 0.3562 - val_mrcnn_mask_loss: 0.8416\n",
      "Epoch 143/300\n",
      "146/146 [==============================] - 447s 3s/step - batch: 72.5000 - size: 2.0000 - loss: 0.1730 - rpn_class_loss: 0.0014 - rpn_bbox_loss: 0.0135 - mrcnn_class_loss: 0.0363 - mrcnn_bbox_loss: 0.0180 - mrcnn_mask_loss: 0.1039 - val_loss: 6.2657 - val_rpn_class_loss: 3.3116 - val_rpn_bbox_loss: 0.8625 - val_mrcnn_class_loss: 1.1951 - val_mrcnn_bbox_loss: 0.3252 - val_mrcnn_mask_loss: 0.5712\n",
      "Epoch 144/300\n",
      "146/146 [==============================] - 484s 3s/step - batch: 72.5000 - size: 2.0000 - loss: 0.1767 - rpn_class_loss: 0.0017 - rpn_bbox_loss: 0.0150 - mrcnn_class_loss: 0.0371 - mrcnn_bbox_loss: 0.0183 - mrcnn_mask_loss: 0.1046 - val_loss: 8.6426 - val_rpn_class_loss: 4.5155 - val_rpn_bbox_loss: 0.9718 - val_mrcnn_class_loss: 1.7415 - val_mrcnn_bbox_loss: 0.3782 - val_mrcnn_mask_loss: 1.0356\n",
      "Epoch 145/300\n",
      "146/146 [==============================] - 471s 3s/step - batch: 72.5000 - size: 2.0000 - loss: 0.1786 - rpn_class_loss: 0.0016 - rpn_bbox_loss: 0.0154 - mrcnn_class_loss: 0.0371 - mrcnn_bbox_loss: 0.0189 - mrcnn_mask_loss: 0.1057 - val_loss: 7.4417 - val_rpn_class_loss: 3.7642 - val_rpn_bbox_loss: 0.8323 - val_mrcnn_class_loss: 1.5227 - val_mrcnn_bbox_loss: 0.3862 - val_mrcnn_mask_loss: 0.9361\n",
      "Epoch 146/300\n",
      "146/146 [==============================] - 440s 3s/step - batch: 72.5000 - size: 2.0000 - loss: 0.1734 - rpn_class_loss: 0.0016 - rpn_bbox_loss: 0.0132 - mrcnn_class_loss: 0.0364 - mrcnn_bbox_loss: 0.0181 - mrcnn_mask_loss: 0.1040 - val_loss: 7.1360 - val_rpn_class_loss: 3.7621 - val_rpn_bbox_loss: 0.8097 - val_mrcnn_class_loss: 1.4322 - val_mrcnn_bbox_loss: 0.3552 - val_mrcnn_mask_loss: 0.7767\n",
      "Epoch 147/300\n",
      "146/146 [==============================] - 505s 3s/step - batch: 72.5000 - size: 2.0000 - loss: 0.1691 - rpn_class_loss: 0.0014 - rpn_bbox_loss: 0.0130 - mrcnn_class_loss: 0.0366 - mrcnn_bbox_loss: 0.0171 - mrcnn_mask_loss: 0.1010 - val_loss: 7.7382 - val_rpn_class_loss: 4.2874 - val_rpn_bbox_loss: 0.9504 - val_mrcnn_class_loss: 1.4148 - val_mrcnn_bbox_loss: 0.3362 - val_mrcnn_mask_loss: 0.7494\n",
      "Epoch 148/300\n",
      "146/146 [==============================] - 470s 3s/step - batch: 72.5000 - size: 2.0000 - loss: 0.1684 - rpn_class_loss: 0.0016 - rpn_bbox_loss: 0.0133 - mrcnn_class_loss: 0.0335 - mrcnn_bbox_loss: 0.0176 - mrcnn_mask_loss: 0.1025 - val_loss: 7.2924 - val_rpn_class_loss: 3.6267 - val_rpn_bbox_loss: 0.7791 - val_mrcnn_class_loss: 1.6073 - val_mrcnn_bbox_loss: 0.3792 - val_mrcnn_mask_loss: 0.9001\n",
      "Epoch 149/300\n",
      "146/146 [==============================] - 511s 4s/step - batch: 72.5000 - size: 2.0000 - loss: 0.1655 - rpn_class_loss: 0.0014 - rpn_bbox_loss: 0.0127 - mrcnn_class_loss: 0.0357 - mrcnn_bbox_loss: 0.0168 - mrcnn_mask_loss: 0.0990 - val_loss: 6.8617 - val_rpn_class_loss: 3.6687 - val_rpn_bbox_loss: 0.8850 - val_mrcnn_class_loss: 1.2894 - val_mrcnn_bbox_loss: 0.3170 - val_mrcnn_mask_loss: 0.7015\n",
      "Epoch 150/300\n",
      "146/146 [==============================] - 452s 3s/step - batch: 72.5000 - size: 2.0000 - loss: 0.1690 - rpn_class_loss: 0.0012 - rpn_bbox_loss: 0.0135 - mrcnn_class_loss: 0.0339 - mrcnn_bbox_loss: 0.0178 - mrcnn_mask_loss: 0.1026 - val_loss: 6.6545 - val_rpn_class_loss: 3.2897 - val_rpn_bbox_loss: 0.7628 - val_mrcnn_class_loss: 1.4355 - val_mrcnn_bbox_loss: 0.3605 - val_mrcnn_mask_loss: 0.8061\n",
      "Epoch 151/300\n",
      "146/146 [==============================] - 440s 3s/step - batch: 72.5000 - size: 2.0000 - loss: 0.1692 - rpn_class_loss: 0.0012 - rpn_bbox_loss: 0.0135 - mrcnn_class_loss: 0.0361 - mrcnn_bbox_loss: 0.0178 - mrcnn_mask_loss: 0.1006 - val_loss: 7.4461 - val_rpn_class_loss: 3.6345 - val_rpn_bbox_loss: 0.7995 - val_mrcnn_class_loss: 1.6294 - val_mrcnn_bbox_loss: 0.4014 - val_mrcnn_mask_loss: 0.9813\n",
      "Epoch 152/300\n",
      "146/146 [==============================] - 437s 3s/step - batch: 72.5000 - size: 2.0000 - loss: 0.1615 - rpn_class_loss: 0.0011 - rpn_bbox_loss: 0.0123 - mrcnn_class_loss: 0.0331 - mrcnn_bbox_loss: 0.0167 - mrcnn_mask_loss: 0.0983 - val_loss: 7.3969 - val_rpn_class_loss: 3.7250 - val_rpn_bbox_loss: 0.8395 - val_mrcnn_class_loss: 1.5516 - val_mrcnn_bbox_loss: 0.3721 - val_mrcnn_mask_loss: 0.9087\n",
      "Epoch 153/300\n",
      "146/146 [==============================] - 455s 3s/step - batch: 72.5000 - size: 2.0000 - loss: 0.1602 - rpn_class_loss: 8.4048e-04 - rpn_bbox_loss: 0.0114 - mrcnn_class_loss: 0.0341 - mrcnn_bbox_loss: 0.0164 - mrcnn_mask_loss: 0.0975 - val_loss: 6.4884 - val_rpn_class_loss: 3.0913 - val_rpn_bbox_loss: 0.7429 - val_mrcnn_class_loss: 1.4782 - val_mrcnn_bbox_loss: 0.3547 - val_mrcnn_mask_loss: 0.8214\n",
      "Epoch 154/300\n",
      "146/146 [==============================] - 491s 3s/step - batch: 72.5000 - size: 2.0000 - loss: 0.1654 - rpn_class_loss: 0.0019 - rpn_bbox_loss: 0.0134 - mrcnn_class_loss: 0.0335 - mrcnn_bbox_loss: 0.0171 - mrcnn_mask_loss: 0.0995 - val_loss: 7.8656 - val_rpn_class_loss: 4.2977 - val_rpn_bbox_loss: 1.0237 - val_mrcnn_class_loss: 1.4801 - val_mrcnn_bbox_loss: 0.3213 - val_mrcnn_mask_loss: 0.7428\n",
      "Epoch 155/300\n",
      "146/146 [==============================] - 442s 3s/step - batch: 72.5000 - size: 2.0000 - loss: 0.1696 - rpn_class_loss: 0.0015 - rpn_bbox_loss: 0.0137 - mrcnn_class_loss: 0.0357 - mrcnn_bbox_loss: 0.0171 - mrcnn_mask_loss: 0.1016 - val_loss: 7.1947 - val_rpn_class_loss: 3.3817 - val_rpn_bbox_loss: 0.7477 - val_mrcnn_class_loss: 1.7173 - val_mrcnn_bbox_loss: 0.4102 - val_mrcnn_mask_loss: 0.9378\n",
      "Epoch 156/300\n",
      "146/146 [==============================] - 470s 3s/step - batch: 72.5000 - size: 2.0000 - loss: 0.1621 - rpn_class_loss: 0.0013 - rpn_bbox_loss: 0.0121 - mrcnn_class_loss: 0.0355 - mrcnn_bbox_loss: 0.0161 - mrcnn_mask_loss: 0.0972 - val_loss: 7.3192 - val_rpn_class_loss: 3.7665 - val_rpn_bbox_loss: 0.9024 - val_mrcnn_class_loss: 1.4072 - val_mrcnn_bbox_loss: 0.3829 - val_mrcnn_mask_loss: 0.8601\n",
      "Epoch 157/300\n",
      "146/146 [==============================] - 433s 3s/step - batch: 72.5000 - size: 2.0000 - loss: 0.1598 - rpn_class_loss: 0.0014 - rpn_bbox_loss: 0.0125 - mrcnn_class_loss: 0.0330 - mrcnn_bbox_loss: 0.0156 - mrcnn_mask_loss: 0.0973 - val_loss: 6.8179 - val_rpn_class_loss: 3.4972 - val_rpn_bbox_loss: 0.7857 - val_mrcnn_class_loss: 1.2861 - val_mrcnn_bbox_loss: 0.3581 - val_mrcnn_mask_loss: 0.8908\n",
      "Epoch 158/300\n",
      "146/146 [==============================] - 474s 3s/step - batch: 72.5000 - size: 2.0000 - loss: 0.1617 - rpn_class_loss: 0.0016 - rpn_bbox_loss: 0.0132 - mrcnn_class_loss: 0.0328 - mrcnn_bbox_loss: 0.0165 - mrcnn_mask_loss: 0.0977 - val_loss: 8.9058 - val_rpn_class_loss: 4.8277 - val_rpn_bbox_loss: 0.9689 - val_mrcnn_class_loss: 1.7445 - val_mrcnn_bbox_loss: 0.4085 - val_mrcnn_mask_loss: 0.9563\n",
      "Epoch 159/300\n",
      "146/146 [==============================] - 475s 3s/step - batch: 72.5000 - size: 2.0000 - loss: 0.1553 - rpn_class_loss: 0.0012 - rpn_bbox_loss: 0.0112 - mrcnn_class_loss: 0.0316 - mrcnn_bbox_loss: 0.0155 - mrcnn_mask_loss: 0.0958 - val_loss: 8.4393 - val_rpn_class_loss: 4.5304 - val_rpn_bbox_loss: 0.9574 - val_mrcnn_class_loss: 1.5466 - val_mrcnn_bbox_loss: 0.3741 - val_mrcnn_mask_loss: 1.0309\n",
      "Epoch 160/300\n",
      "146/146 [==============================] - 448s 3s/step - batch: 72.5000 - size: 2.0000 - loss: 0.1501 - rpn_class_loss: 8.3263e-04 - rpn_bbox_loss: 0.0106 - mrcnn_class_loss: 0.0296 - mrcnn_bbox_loss: 0.0153 - mrcnn_mask_loss: 0.0938 - val_loss: 8.5105 - val_rpn_class_loss: 4.8849 - val_rpn_bbox_loss: 1.0543 - val_mrcnn_class_loss: 1.3792 - val_mrcnn_bbox_loss: 0.3294 - val_mrcnn_mask_loss: 0.8627\n"
     ]
    },
    {
     "name": "stdout",
     "output_type": "stream",
     "text": [
      "Epoch 161/300\n",
      "146/146 [==============================] - 496s 3s/step - batch: 72.5000 - size: 2.0000 - loss: 0.1688 - rpn_class_loss: 0.0017 - rpn_bbox_loss: 0.0143 - mrcnn_class_loss: 0.0361 - mrcnn_bbox_loss: 0.0173 - mrcnn_mask_loss: 0.0994 - val_loss: 7.5864 - val_rpn_class_loss: 4.1450 - val_rpn_bbox_loss: 0.8674 - val_mrcnn_class_loss: 1.4224 - val_mrcnn_bbox_loss: 0.3215 - val_mrcnn_mask_loss: 0.8301\n",
      "Epoch 162/300\n",
      "146/146 [==============================] - 460s 3s/step - batch: 72.5000 - size: 2.0000 - loss: 0.1571 - rpn_class_loss: 0.0011 - rpn_bbox_loss: 0.0118 - mrcnn_class_loss: 0.0319 - mrcnn_bbox_loss: 0.0161 - mrcnn_mask_loss: 0.0963 - val_loss: 8.2685 - val_rpn_class_loss: 4.3285 - val_rpn_bbox_loss: 0.8455 - val_mrcnn_class_loss: 1.6957 - val_mrcnn_bbox_loss: 0.3793 - val_mrcnn_mask_loss: 1.0194\n",
      "Epoch 163/300\n",
      "146/146 [==============================] - 473s 3s/step - batch: 72.5000 - size: 2.0000 - loss: 0.1498 - rpn_class_loss: 0.0011 - rpn_bbox_loss: 0.0111 - mrcnn_class_loss: 0.0300 - mrcnn_bbox_loss: 0.0151 - mrcnn_mask_loss: 0.0926 - val_loss: 7.6494 - val_rpn_class_loss: 3.8846 - val_rpn_bbox_loss: 0.8903 - val_mrcnn_class_loss: 1.5012 - val_mrcnn_bbox_loss: 0.3693 - val_mrcnn_mask_loss: 1.0041\n",
      "Epoch 164/300\n",
      "146/146 [==============================] - 468s 3s/step - batch: 72.5000 - size: 2.0000 - loss: 0.1599 - rpn_class_loss: 0.0017 - rpn_bbox_loss: 0.0123 - mrcnn_class_loss: 0.0331 - mrcnn_bbox_loss: 0.0161 - mrcnn_mask_loss: 0.0967 - val_loss: 7.7364 - val_rpn_class_loss: 4.2849 - val_rpn_bbox_loss: 0.8945 - val_mrcnn_class_loss: 1.4028 - val_mrcnn_bbox_loss: 0.3431 - val_mrcnn_mask_loss: 0.8111\n",
      "Epoch 165/300\n",
      "146/146 [==============================] - 429s 3s/step - batch: 72.5000 - size: 2.0000 - loss: 0.1583 - rpn_class_loss: 0.0013 - rpn_bbox_loss: 0.0118 - mrcnn_class_loss: 0.0328 - mrcnn_bbox_loss: 0.0158 - mrcnn_mask_loss: 0.0966 - val_loss: 6.4654 - val_rpn_class_loss: 3.1711 - val_rpn_bbox_loss: 0.6529 - val_mrcnn_class_loss: 1.4141 - val_mrcnn_bbox_loss: 0.3549 - val_mrcnn_mask_loss: 0.8724\n",
      "Epoch 166/300\n",
      "146/146 [==============================] - 431s 3s/step - batch: 72.5000 - size: 2.0000 - loss: 0.1566 - rpn_class_loss: 7.5871e-04 - rpn_bbox_loss: 0.0113 - mrcnn_class_loss: 0.0341 - mrcnn_bbox_loss: 0.0156 - mrcnn_mask_loss: 0.0948 - val_loss: 6.7754 - val_rpn_class_loss: 3.1836 - val_rpn_bbox_loss: 0.6902 - val_mrcnn_class_loss: 1.4187 - val_mrcnn_bbox_loss: 0.4139 - val_mrcnn_mask_loss: 1.0690\n",
      "Epoch 167/300\n",
      "146/146 [==============================] - 464s 3s/step - batch: 72.5000 - size: 2.0000 - loss: 0.1602 - rpn_class_loss: 0.0015 - rpn_bbox_loss: 0.0131 - mrcnn_class_loss: 0.0350 - mrcnn_bbox_loss: 0.0164 - mrcnn_mask_loss: 0.0941 - val_loss: 7.0718 - val_rpn_class_loss: 3.6215 - val_rpn_bbox_loss: 0.6789 - val_mrcnn_class_loss: 1.4707 - val_mrcnn_bbox_loss: 0.3431 - val_mrcnn_mask_loss: 0.9575\n",
      "Epoch 168/300\n",
      "146/146 [==============================] - 465s 3s/step - batch: 72.5000 - size: 2.0000 - loss: 0.1476 - rpn_class_loss: 9.1809e-04 - rpn_bbox_loss: 0.0109 - mrcnn_class_loss: 0.0298 - mrcnn_bbox_loss: 0.0147 - mrcnn_mask_loss: 0.0913 - val_loss: 7.3486 - val_rpn_class_loss: 3.9354 - val_rpn_bbox_loss: 0.8423 - val_mrcnn_class_loss: 1.3630 - val_mrcnn_bbox_loss: 0.3446 - val_mrcnn_mask_loss: 0.8632\n",
      "Epoch 169/300\n",
      "146/146 [==============================] - 437s 3s/step - batch: 72.5000 - size: 2.0000 - loss: 0.1480 - rpn_class_loss: 0.0011 - rpn_bbox_loss: 0.0104 - mrcnn_class_loss: 0.0305 - mrcnn_bbox_loss: 0.0149 - mrcnn_mask_loss: 0.0910 - val_loss: 7.4691 - val_rpn_class_loss: 3.8191 - val_rpn_bbox_loss: 0.8271 - val_mrcnn_class_loss: 1.4832 - val_mrcnn_bbox_loss: 0.3794 - val_mrcnn_mask_loss: 0.9603\n",
      "Epoch 170/300\n",
      "146/146 [==============================] - 464s 3s/step - batch: 72.5000 - size: 2.0000 - loss: 0.1534 - rpn_class_loss: 8.4712e-04 - rpn_bbox_loss: 0.0114 - mrcnn_class_loss: 0.0316 - mrcnn_bbox_loss: 0.0155 - mrcnn_mask_loss: 0.0940 - val_loss: 6.4252 - val_rpn_class_loss: 3.3271 - val_rpn_bbox_loss: 0.7197 - val_mrcnn_class_loss: 1.2314 - val_mrcnn_bbox_loss: 0.3556 - val_mrcnn_mask_loss: 0.7912\n",
      "Epoch 171/300\n",
      "146/146 [==============================] - 452s 3s/step - batch: 72.5000 - size: 2.0000 - loss: 0.1497 - rpn_class_loss: 9.3567e-04 - rpn_bbox_loss: 0.0109 - mrcnn_class_loss: 0.0304 - mrcnn_bbox_loss: 0.0149 - mrcnn_mask_loss: 0.0925 - val_loss: 6.9402 - val_rpn_class_loss: 3.7468 - val_rpn_bbox_loss: 0.8407 - val_mrcnn_class_loss: 1.2305 - val_mrcnn_bbox_loss: 0.3226 - val_mrcnn_mask_loss: 0.7995\n",
      "Epoch 172/300\n",
      "146/146 [==============================] - 446s 3s/step - batch: 72.5000 - size: 2.0000 - loss: 0.1465 - rpn_class_loss: 0.0012 - rpn_bbox_loss: 0.0102 - mrcnn_class_loss: 0.0306 - mrcnn_bbox_loss: 0.0143 - mrcnn_mask_loss: 0.0901 - val_loss: 7.6780 - val_rpn_class_loss: 3.9535 - val_rpn_bbox_loss: 0.8058 - val_mrcnn_class_loss: 1.5500 - val_mrcnn_bbox_loss: 0.3962 - val_mrcnn_mask_loss: 0.9725\n",
      "Epoch 173/300\n",
      "146/146 [==============================] - 473s 3s/step - batch: 72.5000 - size: 2.0000 - loss: 0.1492 - rpn_class_loss: 6.9222e-04 - rpn_bbox_loss: 0.0105 - mrcnn_class_loss: 0.0329 - mrcnn_bbox_loss: 0.0144 - mrcnn_mask_loss: 0.0908 - val_loss: 7.4070 - val_rpn_class_loss: 3.9610 - val_rpn_bbox_loss: 0.9440 - val_mrcnn_class_loss: 1.4132 - val_mrcnn_bbox_loss: 0.3207 - val_mrcnn_mask_loss: 0.7680\n",
      "Epoch 174/300\n",
      "146/146 [==============================] - 458s 3s/step - batch: 72.5000 - size: 2.0000 - loss: 0.1527 - rpn_class_loss: 9.5881e-04 - rpn_bbox_loss: 0.0113 - mrcnn_class_loss: 0.0343 - mrcnn_bbox_loss: 0.0152 - mrcnn_mask_loss: 0.0910 - val_loss: 7.3710 - val_rpn_class_loss: 3.9895 - val_rpn_bbox_loss: 0.8721 - val_mrcnn_class_loss: 1.3268 - val_mrcnn_bbox_loss: 0.3598 - val_mrcnn_mask_loss: 0.8228\n",
      "Epoch 175/300\n",
      "146/146 [==============================] - 525s 4s/step - batch: 72.5000 - size: 2.0000 - loss: 0.1419 - rpn_class_loss: 7.8874e-04 - rpn_bbox_loss: 0.0094 - mrcnn_class_loss: 0.0309 - mrcnn_bbox_loss: 0.0136 - mrcnn_mask_loss: 0.0872 - val_loss: 7.1791 - val_rpn_class_loss: 3.8677 - val_rpn_bbox_loss: 0.8242 - val_mrcnn_class_loss: 1.3181 - val_mrcnn_bbox_loss: 0.3123 - val_mrcnn_mask_loss: 0.8569\n",
      "Epoch 176/300\n",
      "146/146 [==============================] - 434s 3s/step - batch: 72.5000 - size: 2.0000 - loss: 0.1525 - rpn_class_loss: 0.0012 - rpn_bbox_loss: 0.0117 - mrcnn_class_loss: 0.0326 - mrcnn_bbox_loss: 0.0151 - mrcnn_mask_loss: 0.0918 - val_loss: 8.0954 - val_rpn_class_loss: 4.1416 - val_rpn_bbox_loss: 0.8749 - val_mrcnn_class_loss: 1.5903 - val_mrcnn_bbox_loss: 0.3847 - val_mrcnn_mask_loss: 1.1040\n",
      "Epoch 177/300\n",
      "146/146 [==============================] - 495s 3s/step - batch: 72.5000 - size: 2.0000 - loss: 0.1409 - rpn_class_loss: 7.7352e-04 - rpn_bbox_loss: 0.0097 - mrcnn_class_loss: 0.0300 - mrcnn_bbox_loss: 0.0137 - mrcnn_mask_loss: 0.0867 - val_loss: 7.6288 - val_rpn_class_loss: 4.2361 - val_rpn_bbox_loss: 0.9772 - val_mrcnn_class_loss: 1.3015 - val_mrcnn_bbox_loss: 0.3350 - val_mrcnn_mask_loss: 0.7790\n",
      "Epoch 178/300\n",
      "146/146 [==============================] - 476s 3s/step - batch: 72.5000 - size: 2.0000 - loss: 0.1563 - rpn_class_loss: 0.0017 - rpn_bbox_loss: 0.0130 - mrcnn_class_loss: 0.0339 - mrcnn_bbox_loss: 0.0152 - mrcnn_mask_loss: 0.0925 - val_loss: 8.2730 - val_rpn_class_loss: 4.5924 - val_rpn_bbox_loss: 0.8878 - val_mrcnn_class_loss: 1.5068 - val_mrcnn_bbox_loss: 0.3738 - val_mrcnn_mask_loss: 0.9122\n",
      "Epoch 179/300\n",
      "146/146 [==============================] - 472s 3s/step - batch: 72.5000 - size: 2.0000 - loss: 0.1477 - rpn_class_loss: 0.0012 - rpn_bbox_loss: 0.0112 - mrcnn_class_loss: 0.0317 - mrcnn_bbox_loss: 0.0146 - mrcnn_mask_loss: 0.0890 - val_loss: 8.0689 - val_rpn_class_loss: 4.5347 - val_rpn_bbox_loss: 0.8791 - val_mrcnn_class_loss: 1.5138 - val_mrcnn_bbox_loss: 0.3107 - val_mrcnn_mask_loss: 0.8305\n",
      "Epoch 180/300\n",
      "146/146 [==============================] - 468s 3s/step - batch: 72.5000 - size: 2.0000 - loss: 0.1550 - rpn_class_loss: 0.0014 - rpn_bbox_loss: 0.0121 - mrcnn_class_loss: 0.0329 - mrcnn_bbox_loss: 0.0153 - mrcnn_mask_loss: 0.0932 - val_loss: 7.2789 - val_rpn_class_loss: 3.6498 - val_rpn_bbox_loss: 0.8272 - val_mrcnn_class_loss: 1.4612 - val_mrcnn_bbox_loss: 0.3811 - val_mrcnn_mask_loss: 0.9596\n"
     ]
    },
    {
     "name": "stdout",
     "output_type": "stream",
     "text": [
      "Epoch 181/300\n",
      "146/146 [==============================] - 453s 3s/step - batch: 72.5000 - size: 2.0000 - loss: 0.1448 - rpn_class_loss: 0.0014 - rpn_bbox_loss: 0.0111 - mrcnn_class_loss: 0.0311 - mrcnn_bbox_loss: 0.0143 - mrcnn_mask_loss: 0.0868 - val_loss: 7.9422 - val_rpn_class_loss: 4.1430 - val_rpn_bbox_loss: 0.8563 - val_mrcnn_class_loss: 1.5826 - val_mrcnn_bbox_loss: 0.3696 - val_mrcnn_mask_loss: 0.9907\n",
      "Epoch 182/300\n",
      "146/146 [==============================] - 477s 3s/step - batch: 72.5000 - size: 2.0000 - loss: 0.1426 - rpn_class_loss: 8.6075e-04 - rpn_bbox_loss: 0.0100 - mrcnn_class_loss: 0.0308 - mrcnn_bbox_loss: 0.0138 - mrcnn_mask_loss: 0.0872 - val_loss: 6.5000 - val_rpn_class_loss: 3.2968 - val_rpn_bbox_loss: 0.6836 - val_mrcnn_class_loss: 1.2522 - val_mrcnn_bbox_loss: 0.3649 - val_mrcnn_mask_loss: 0.9025\n",
      "Epoch 183/300\n",
      "146/146 [==============================] - 451s 3s/step - batch: 72.5000 - size: 2.0000 - loss: 0.1456 - rpn_class_loss: 0.0012 - rpn_bbox_loss: 0.0105 - mrcnn_class_loss: 0.0311 - mrcnn_bbox_loss: 0.0142 - mrcnn_mask_loss: 0.0887 - val_loss: 7.6330 - val_rpn_class_loss: 4.0798 - val_rpn_bbox_loss: 0.8841 - val_mrcnn_class_loss: 1.4965 - val_mrcnn_bbox_loss: 0.3233 - val_mrcnn_mask_loss: 0.8493\n",
      "Epoch 184/300\n",
      "146/146 [==============================] - 502s 3s/step - batch: 72.5000 - size: 2.0000 - loss: 0.1494 - rpn_class_loss: 0.0015 - rpn_bbox_loss: 0.0115 - mrcnn_class_loss: 0.0335 - mrcnn_bbox_loss: 0.0143 - mrcnn_mask_loss: 0.0886 - val_loss: 7.4582 - val_rpn_class_loss: 3.8286 - val_rpn_bbox_loss: 0.8270 - val_mrcnn_class_loss: 1.4973 - val_mrcnn_bbox_loss: 0.3755 - val_mrcnn_mask_loss: 0.9298\n",
      "Epoch 185/300\n",
      "146/146 [==============================] - 458s 3s/step - batch: 72.5000 - size: 2.0000 - loss: 0.1484 - rpn_class_loss: 0.0012 - rpn_bbox_loss: 0.0115 - mrcnn_class_loss: 0.0315 - mrcnn_bbox_loss: 0.0147 - mrcnn_mask_loss: 0.0895 - val_loss: 7.6488 - val_rpn_class_loss: 3.8647 - val_rpn_bbox_loss: 0.7863 - val_mrcnn_class_loss: 1.6167 - val_mrcnn_bbox_loss: 0.3809 - val_mrcnn_mask_loss: 1.0002\n",
      "Epoch 186/300\n",
      "146/146 [==============================] - 467s 3s/step - batch: 72.5000 - size: 2.0000 - loss: 0.1516 - rpn_class_loss: 0.0015 - rpn_bbox_loss: 0.0127 - mrcnn_class_loss: 0.0314 - mrcnn_bbox_loss: 0.0150 - mrcnn_mask_loss: 0.0911 - val_loss: 7.1785 - val_rpn_class_loss: 3.5693 - val_rpn_bbox_loss: 0.7817 - val_mrcnn_class_loss: 1.4996 - val_mrcnn_bbox_loss: 0.3797 - val_mrcnn_mask_loss: 0.9482\n",
      "Epoch 187/300\n",
      "146/146 [==============================] - 490s 3s/step - batch: 72.5000 - size: 2.0000 - loss: 0.1442 - rpn_class_loss: 0.0011 - rpn_bbox_loss: 0.0106 - mrcnn_class_loss: 0.0309 - mrcnn_bbox_loss: 0.0139 - mrcnn_mask_loss: 0.0878 - val_loss: 7.0978 - val_rpn_class_loss: 3.5479 - val_rpn_bbox_loss: 0.7812 - val_mrcnn_class_loss: 1.4262 - val_mrcnn_bbox_loss: 0.3690 - val_mrcnn_mask_loss: 0.9735\n",
      "Epoch 188/300\n",
      "146/146 [==============================] - 487s 3s/step - batch: 72.5000 - size: 2.0000 - loss: 0.1431 - rpn_class_loss: 7.2487e-04 - rpn_bbox_loss: 0.0103 - mrcnn_class_loss: 0.0309 - mrcnn_bbox_loss: 0.0140 - mrcnn_mask_loss: 0.0871 - val_loss: 8.3129 - val_rpn_class_loss: 4.5007 - val_rpn_bbox_loss: 0.8684 - val_mrcnn_class_loss: 1.5491 - val_mrcnn_bbox_loss: 0.3881 - val_mrcnn_mask_loss: 1.0066\n",
      "Epoch 189/300\n",
      "146/146 [==============================] - 471s 3s/step - batch: 72.5000 - size: 2.0000 - loss: 0.1410 - rpn_class_loss: 7.9397e-04 - rpn_bbox_loss: 0.0097 - mrcnn_class_loss: 0.0313 - mrcnn_bbox_loss: 0.0131 - mrcnn_mask_loss: 0.0862 - val_loss: 7.8093 - val_rpn_class_loss: 3.9884 - val_rpn_bbox_loss: 0.8659 - val_mrcnn_class_loss: 1.5293 - val_mrcnn_bbox_loss: 0.3818 - val_mrcnn_mask_loss: 1.0438\n",
      "Epoch 190/300\n",
      "146/146 [==============================] - 428s 3s/step - batch: 72.5000 - size: 2.0000 - loss: 0.1377 - rpn_class_loss: 8.8311e-04 - rpn_bbox_loss: 0.0093 - mrcnn_class_loss: 0.0305 - mrcnn_bbox_loss: 0.0131 - mrcnn_mask_loss: 0.0839 - val_loss: 7.1796 - val_rpn_class_loss: 3.4665 - val_rpn_bbox_loss: 0.6886 - val_mrcnn_class_loss: 1.4784 - val_mrcnn_bbox_loss: 0.4128 - val_mrcnn_mask_loss: 1.1333\n",
      "Epoch 191/300\n",
      "146/146 [==============================] - 474s 3s/step - batch: 72.5000 - size: 2.0000 - loss: 0.1489 - rpn_class_loss: 0.0013 - rpn_bbox_loss: 0.0123 - mrcnn_class_loss: 0.0329 - mrcnn_bbox_loss: 0.0148 - mrcnn_mask_loss: 0.0875 - val_loss: 6.7392 - val_rpn_class_loss: 3.5769 - val_rpn_bbox_loss: 0.7149 - val_mrcnn_class_loss: 1.1986 - val_mrcnn_bbox_loss: 0.3504 - val_mrcnn_mask_loss: 0.8983\n",
      "Epoch 192/300\n",
      "146/146 [==============================] - 409s 3s/step - batch: 72.5000 - size: 2.0000 - loss: 0.1392 - rpn_class_loss: 7.4554e-04 - rpn_bbox_loss: 0.0099 - mrcnn_class_loss: 0.0307 - mrcnn_bbox_loss: 0.0133 - mrcnn_mask_loss: 0.0846 - val_loss: 7.3770 - val_rpn_class_loss: 3.9884 - val_rpn_bbox_loss: 0.8182 - val_mrcnn_class_loss: 1.3911 - val_mrcnn_bbox_loss: 0.3381 - val_mrcnn_mask_loss: 0.8412\n",
      "Epoch 193/300\n",
      "146/146 [==============================] - 449s 3s/step - batch: 72.5000 - size: 2.0000 - loss: 0.1351 - rpn_class_loss: 6.3957e-04 - rpn_bbox_loss: 0.0093 - mrcnn_class_loss: 0.0291 - mrcnn_bbox_loss: 0.0132 - mrcnn_mask_loss: 0.0829 - val_loss: 6.1665 - val_rpn_class_loss: 2.9645 - val_rpn_bbox_loss: 0.7025 - val_mrcnn_class_loss: 1.2114 - val_mrcnn_bbox_loss: 0.3545 - val_mrcnn_mask_loss: 0.9335\n",
      "Epoch 194/300\n",
      "146/146 [==============================] - 477s 3s/step - batch: 72.5000 - size: 2.0000 - loss: 0.1380 - rpn_class_loss: 0.0010 - rpn_bbox_loss: 0.0106 - mrcnn_class_loss: 0.0292 - mrcnn_bbox_loss: 0.0137 - mrcnn_mask_loss: 0.0834 - val_loss: 7.0716 - val_rpn_class_loss: 3.4861 - val_rpn_bbox_loss: 0.6808 - val_mrcnn_class_loss: 1.5382 - val_mrcnn_bbox_loss: 0.3542 - val_mrcnn_mask_loss: 1.0123\n",
      "Epoch 195/300\n",
      "146/146 [==============================] - 445s 3s/step - batch: 72.5000 - size: 2.0000 - loss: 0.1345 - rpn_class_loss: 9.1946e-04 - rpn_bbox_loss: 0.0096 - mrcnn_class_loss: 0.0288 - mrcnn_bbox_loss: 0.0130 - mrcnn_mask_loss: 0.0821 - val_loss: 7.3473 - val_rpn_class_loss: 3.8054 - val_rpn_bbox_loss: 0.8168 - val_mrcnn_class_loss: 1.4243 - val_mrcnn_bbox_loss: 0.3356 - val_mrcnn_mask_loss: 0.9652\n",
      "Epoch 196/300\n",
      "146/146 [==============================] - 500s 3s/step - batch: 72.5000 - size: 2.0000 - loss: 0.1378 - rpn_class_loss: 0.0011 - rpn_bbox_loss: 0.0097 - mrcnn_class_loss: 0.0298 - mrcnn_bbox_loss: 0.0131 - mrcnn_mask_loss: 0.0841 - val_loss: 7.4975 - val_rpn_class_loss: 4.1637 - val_rpn_bbox_loss: 0.7669 - val_mrcnn_class_loss: 1.4246 - val_mrcnn_bbox_loss: 0.3101 - val_mrcnn_mask_loss: 0.8323\n",
      "Epoch 197/300\n",
      "146/146 [==============================] - 466s 3s/step - batch: 72.5000 - size: 2.0000 - loss: 0.1404 - rpn_class_loss: 9.9050e-04 - rpn_bbox_loss: 0.0103 - mrcnn_class_loss: 0.0312 - mrcnn_bbox_loss: 0.0135 - mrcnn_mask_loss: 0.0844 - val_loss: 7.6273 - val_rpn_class_loss: 3.9853 - val_rpn_bbox_loss: 0.8387 - val_mrcnn_class_loss: 1.5445 - val_mrcnn_bbox_loss: 0.3291 - val_mrcnn_mask_loss: 0.9297\n",
      "Epoch 198/300\n",
      "146/146 [==============================] - 443s 3s/step - batch: 72.5000 - size: 2.0000 - loss: 0.1353 - rpn_class_loss: 6.9854e-04 - rpn_bbox_loss: 0.0100 - mrcnn_class_loss: 0.0292 - mrcnn_bbox_loss: 0.0132 - mrcnn_mask_loss: 0.0822 - val_loss: 7.8374 - val_rpn_class_loss: 3.9864 - val_rpn_bbox_loss: 0.7971 - val_mrcnn_class_loss: 1.5342 - val_mrcnn_bbox_loss: 0.3854 - val_mrcnn_mask_loss: 1.1344\n",
      "Epoch 199/300\n",
      "146/146 [==============================] - 480s 3s/step - batch: 72.5000 - size: 2.0000 - loss: 0.1394 - rpn_class_loss: 8.8290e-04 - rpn_bbox_loss: 0.0104 - mrcnn_class_loss: 0.0289 - mrcnn_bbox_loss: 0.0138 - mrcnn_mask_loss: 0.0854 - val_loss: 7.9046 - val_rpn_class_loss: 4.1331 - val_rpn_bbox_loss: 0.8195 - val_mrcnn_class_loss: 1.5493 - val_mrcnn_bbox_loss: 0.3651 - val_mrcnn_mask_loss: 1.0376\n",
      "Epoch 200/300\n",
      "146/146 [==============================] - 443s 3s/step - batch: 72.5000 - size: 2.0000 - loss: 0.1375 - rpn_class_loss: 5.7990e-04 - rpn_bbox_loss: 0.0100 - mrcnn_class_loss: 0.0295 - mrcnn_bbox_loss: 0.0128 - mrcnn_mask_loss: 0.0846 - val_loss: 7.5020 - val_rpn_class_loss: 3.7679 - val_rpn_bbox_loss: 0.7416 - val_mrcnn_class_loss: 1.5206 - val_mrcnn_bbox_loss: 0.3754 - val_mrcnn_mask_loss: 1.0964\n"
     ]
    },
    {
     "name": "stdout",
     "output_type": "stream",
     "text": [
      "Epoch 201/300\n",
      "146/146 [==============================] - 445s 3s/step - batch: 72.5000 - size: 2.0000 - loss: 0.1298 - rpn_class_loss: 6.5024e-04 - rpn_bbox_loss: 0.0082 - mrcnn_class_loss: 0.0285 - mrcnn_bbox_loss: 0.0123 - mrcnn_mask_loss: 0.0802 - val_loss: 8.4703 - val_rpn_class_loss: 4.5579 - val_rpn_bbox_loss: 0.9384 - val_mrcnn_class_loss: 1.5988 - val_mrcnn_bbox_loss: 0.3685 - val_mrcnn_mask_loss: 1.0068\n",
      "Epoch 202/300\n",
      "146/146 [==============================] - 444s 3s/step - batch: 72.5000 - size: 2.0000 - loss: 0.1341 - rpn_class_loss: 8.5633e-04 - rpn_bbox_loss: 0.0091 - mrcnn_class_loss: 0.0297 - mrcnn_bbox_loss: 0.0126 - mrcnn_mask_loss: 0.0818 - val_loss: 7.5208 - val_rpn_class_loss: 3.9579 - val_rpn_bbox_loss: 0.8391 - val_mrcnn_class_loss: 1.4676 - val_mrcnn_bbox_loss: 0.3382 - val_mrcnn_mask_loss: 0.9181\n",
      "Epoch 203/300\n",
      "146/146 [==============================] - 470s 3s/step - batch: 72.5000 - size: 2.0000 - loss: 0.1339 - rpn_class_loss: 9.8102e-04 - rpn_bbox_loss: 0.0095 - mrcnn_class_loss: 0.0291 - mrcnn_bbox_loss: 0.0126 - mrcnn_mask_loss: 0.0817 - val_loss: 8.1479 - val_rpn_class_loss: 4.2925 - val_rpn_bbox_loss: 0.8629 - val_mrcnn_class_loss: 1.5254 - val_mrcnn_bbox_loss: 0.3811 - val_mrcnn_mask_loss: 1.0860\n",
      "Epoch 204/300\n",
      "146/146 [==============================] - 451s 3s/step - batch: 72.5000 - size: 2.0000 - loss: 0.1338 - rpn_class_loss: 8.2144e-04 - rpn_bbox_loss: 0.0099 - mrcnn_class_loss: 0.0286 - mrcnn_bbox_loss: 0.0128 - mrcnn_mask_loss: 0.0817 - val_loss: 7.9665 - val_rpn_class_loss: 4.1638 - val_rpn_bbox_loss: 0.8752 - val_mrcnn_class_loss: 1.5603 - val_mrcnn_bbox_loss: 0.3672 - val_mrcnn_mask_loss: 1.0001\n",
      "Epoch 205/300\n",
      "146/146 [==============================] - 431s 3s/step - batch: 72.5000 - size: 2.0000 - loss: 0.1332 - rpn_class_loss: 0.0012 - rpn_bbox_loss: 0.0093 - mrcnn_class_loss: 0.0290 - mrcnn_bbox_loss: 0.0125 - mrcnn_mask_loss: 0.0812 - val_loss: 7.1243 - val_rpn_class_loss: 3.6666 - val_rpn_bbox_loss: 0.7864 - val_mrcnn_class_loss: 1.4137 - val_mrcnn_bbox_loss: 0.3445 - val_mrcnn_mask_loss: 0.9131\n",
      "Epoch 206/300\n",
      "146/146 [==============================] - 475s 3s/step - batch: 72.5000 - size: 2.0000 - loss: 0.1335 - rpn_class_loss: 8.8939e-04 - rpn_bbox_loss: 0.0095 - mrcnn_class_loss: 0.0290 - mrcnn_bbox_loss: 0.0126 - mrcnn_mask_loss: 0.0815 - val_loss: 6.7351 - val_rpn_class_loss: 3.4464 - val_rpn_bbox_loss: 0.7643 - val_mrcnn_class_loss: 1.3210 - val_mrcnn_bbox_loss: 0.3569 - val_mrcnn_mask_loss: 0.8464\n",
      "Epoch 207/300\n",
      "146/146 [==============================] - 453s 3s/step - batch: 72.5000 - size: 2.0000 - loss: 0.1331 - rpn_class_loss: 8.3211e-04 - rpn_bbox_loss: 0.0103 - mrcnn_class_loss: 0.0281 - mrcnn_bbox_loss: 0.0127 - mrcnn_mask_loss: 0.0812 - val_loss: 8.1445 - val_rpn_class_loss: 4.4967 - val_rpn_bbox_loss: 0.9251 - val_mrcnn_class_loss: 1.3889 - val_mrcnn_bbox_loss: 0.3406 - val_mrcnn_mask_loss: 0.9931\n",
      "Epoch 208/300\n",
      "146/146 [==============================] - 476s 3s/step - batch: 72.5000 - size: 2.0000 - loss: 0.1423 - rpn_class_loss: 0.0016 - rpn_bbox_loss: 0.0113 - mrcnn_class_loss: 0.0313 - mrcnn_bbox_loss: 0.0138 - mrcnn_mask_loss: 0.0843 - val_loss: 7.9215 - val_rpn_class_loss: 4.3390 - val_rpn_bbox_loss: 0.8707 - val_mrcnn_class_loss: 1.4344 - val_mrcnn_bbox_loss: 0.3550 - val_mrcnn_mask_loss: 0.9224\n",
      "Epoch 209/300\n",
      "146/146 [==============================] - 455s 3s/step - batch: 72.5000 - size: 2.0000 - loss: 0.1324 - rpn_class_loss: 9.7360e-04 - rpn_bbox_loss: 0.0096 - mrcnn_class_loss: 0.0285 - mrcnn_bbox_loss: 0.0126 - mrcnn_mask_loss: 0.0808 - val_loss: 7.4596 - val_rpn_class_loss: 4.0504 - val_rpn_bbox_loss: 0.8126 - val_mrcnn_class_loss: 1.3598 - val_mrcnn_bbox_loss: 0.3376 - val_mrcnn_mask_loss: 0.8991\n",
      "Epoch 210/300\n",
      "146/146 [==============================] - 480s 3s/step - batch: 72.5000 - size: 2.0000 - loss: 0.1319 - rpn_class_loss: 9.0715e-04 - rpn_bbox_loss: 0.0098 - mrcnn_class_loss: 0.0267 - mrcnn_bbox_loss: 0.0128 - mrcnn_mask_loss: 0.0816 - val_loss: 8.0441 - val_rpn_class_loss: 4.2527 - val_rpn_bbox_loss: 0.9151 - val_mrcnn_class_loss: 1.4510 - val_mrcnn_bbox_loss: 0.3586 - val_mrcnn_mask_loss: 1.0666\n",
      "Epoch 211/300\n",
      "146/146 [==============================] - 494s 3s/step - batch: 72.5000 - size: 2.0000 - loss: 0.1352 - rpn_class_loss: 0.0010 - rpn_bbox_loss: 0.0099 - mrcnn_class_loss: 0.0286 - mrcnn_bbox_loss: 0.0126 - mrcnn_mask_loss: 0.0831 - val_loss: 8.6205 - val_rpn_class_loss: 5.0670 - val_rpn_bbox_loss: 1.0130 - val_mrcnn_class_loss: 1.3920 - val_mrcnn_bbox_loss: 0.3127 - val_mrcnn_mask_loss: 0.8358\n",
      "Epoch 212/300\n",
      "146/146 [==============================] - 447s 3s/step - batch: 72.5000 - size: 2.0000 - loss: 0.1276 - rpn_class_loss: 6.6074e-04 - rpn_bbox_loss: 0.0088 - mrcnn_class_loss: 0.0268 - mrcnn_bbox_loss: 0.0120 - mrcnn_mask_loss: 0.0792 - val_loss: 7.8564 - val_rpn_class_loss: 3.9629 - val_rpn_bbox_loss: 0.7709 - val_mrcnn_class_loss: 1.5993 - val_mrcnn_bbox_loss: 0.3870 - val_mrcnn_mask_loss: 1.1362\n",
      "Epoch 213/300\n",
      "146/146 [==============================] - 478s 3s/step - batch: 72.5000 - size: 2.0000 - loss: 0.1339 - rpn_class_loss: 7.7680e-04 - rpn_bbox_loss: 0.0095 - mrcnn_class_loss: 0.0299 - mrcnn_bbox_loss: 0.0127 - mrcnn_mask_loss: 0.0810 - val_loss: 7.6922 - val_rpn_class_loss: 4.0579 - val_rpn_bbox_loss: 0.8107 - val_mrcnn_class_loss: 1.5044 - val_mrcnn_bbox_loss: 0.3473 - val_mrcnn_mask_loss: 0.9719\n",
      "Epoch 214/300\n",
      "146/146 [==============================] - 450s 3s/step - batch: 72.5000 - size: 2.0000 - loss: 0.1277 - rpn_class_loss: 9.6784e-04 - rpn_bbox_loss: 0.0091 - mrcnn_class_loss: 0.0273 - mrcnn_bbox_loss: 0.0120 - mrcnn_mask_loss: 0.0784 - val_loss: 8.2965 - val_rpn_class_loss: 4.5441 - val_rpn_bbox_loss: 0.8915 - val_mrcnn_class_loss: 1.5790 - val_mrcnn_bbox_loss: 0.3193 - val_mrcnn_mask_loss: 0.9627\n",
      "Epoch 215/300\n",
      "146/146 [==============================] - 493s 3s/step - batch: 72.5000 - size: 2.0000 - loss: 0.1328 - rpn_class_loss: 9.9068e-04 - rpn_bbox_loss: 0.0100 - mrcnn_class_loss: 0.0280 - mrcnn_bbox_loss: 0.0127 - mrcnn_mask_loss: 0.0810 - val_loss: 7.6231 - val_rpn_class_loss: 4.0927 - val_rpn_bbox_loss: 0.8086 - val_mrcnn_class_loss: 1.4079 - val_mrcnn_bbox_loss: 0.3236 - val_mrcnn_mask_loss: 0.9903\n",
      "Epoch 216/300\n",
      "146/146 [==============================] - 454s 3s/step - batch: 72.5000 - size: 2.0000 - loss: 0.1299 - rpn_class_loss: 7.3116e-04 - rpn_bbox_loss: 0.0090 - mrcnn_class_loss: 0.0287 - mrcnn_bbox_loss: 0.0123 - mrcnn_mask_loss: 0.0792 - val_loss: 8.4436 - val_rpn_class_loss: 4.6777 - val_rpn_bbox_loss: 0.8928 - val_mrcnn_class_loss: 1.5612 - val_mrcnn_bbox_loss: 0.3331 - val_mrcnn_mask_loss: 0.9787\n",
      "Epoch 217/300\n",
      "146/146 [==============================] - 456s 3s/step - batch: 72.5000 - size: 2.0000 - loss: 0.1302 - rpn_class_loss: 0.0011 - rpn_bbox_loss: 0.0088 - mrcnn_class_loss: 0.0299 - mrcnn_bbox_loss: 0.0122 - mrcnn_mask_loss: 0.0782 - val_loss: 7.6901 - val_rpn_class_loss: 4.0599 - val_rpn_bbox_loss: 0.8475 - val_mrcnn_class_loss: 1.3912 - val_mrcnn_bbox_loss: 0.3413 - val_mrcnn_mask_loss: 1.0501\n",
      "Epoch 218/300\n",
      "146/146 [==============================] - 429s 3s/step - batch: 72.5000 - size: 2.0000 - loss: 0.1195 - rpn_class_loss: 5.3172e-04 - rpn_bbox_loss: 0.0075 - mrcnn_class_loss: 0.0260 - mrcnn_bbox_loss: 0.0108 - mrcnn_mask_loss: 0.0746 - val_loss: 8.8264 - val_rpn_class_loss: 4.6273 - val_rpn_bbox_loss: 0.8768 - val_mrcnn_class_loss: 1.6612 - val_mrcnn_bbox_loss: 0.3981 - val_mrcnn_mask_loss: 1.2631\n",
      "Epoch 219/300\n",
      "146/146 [==============================] - 444s 3s/step - batch: 72.5000 - size: 2.0000 - loss: 0.1242 - rpn_class_loss: 6.7426e-04 - rpn_bbox_loss: 0.0078 - mrcnn_class_loss: 0.0268 - mrcnn_bbox_loss: 0.0114 - mrcnn_mask_loss: 0.0774 - val_loss: 7.3387 - val_rpn_class_loss: 3.8320 - val_rpn_bbox_loss: 0.7620 - val_mrcnn_class_loss: 1.4863 - val_mrcnn_bbox_loss: 0.3343 - val_mrcnn_mask_loss: 0.9241\n",
      "Epoch 220/300\n",
      "146/146 [==============================] - 489s 3s/step - batch: 72.5000 - size: 2.0000 - loss: 0.1240 - rpn_class_loss: 4.4310e-04 - rpn_bbox_loss: 0.0084 - mrcnn_class_loss: 0.0274 - mrcnn_bbox_loss: 0.0115 - mrcnn_mask_loss: 0.0762 - val_loss: 7.3858 - val_rpn_class_loss: 3.9753 - val_rpn_bbox_loss: 0.7854 - val_mrcnn_class_loss: 1.4007 - val_mrcnn_bbox_loss: 0.3230 - val_mrcnn_mask_loss: 0.9015\n"
     ]
    },
    {
     "name": "stdout",
     "output_type": "stream",
     "text": [
      "Epoch 221/300\n",
      "146/146 [==============================] - 434s 3s/step - batch: 72.5000 - size: 2.0000 - loss: 0.1265 - rpn_class_loss: 7.3117e-04 - rpn_bbox_loss: 0.0088 - mrcnn_class_loss: 0.0280 - mrcnn_bbox_loss: 0.0117 - mrcnn_mask_loss: 0.0773 - val_loss: 8.4538 - val_rpn_class_loss: 4.4794 - val_rpn_bbox_loss: 0.8779 - val_mrcnn_class_loss: 1.5011 - val_mrcnn_bbox_loss: 0.3821 - val_mrcnn_mask_loss: 1.2132\n",
      "Epoch 222/300\n",
      "146/146 [==============================] - 479s 3s/step - batch: 72.5000 - size: 2.0000 - loss: 0.1287 - rpn_class_loss: 6.8667e-04 - rpn_bbox_loss: 0.0093 - mrcnn_class_loss: 0.0289 - mrcnn_bbox_loss: 0.0117 - mrcnn_mask_loss: 0.0780 - val_loss: 8.1913 - val_rpn_class_loss: 4.5084 - val_rpn_bbox_loss: 0.9802 - val_mrcnn_class_loss: 1.4249 - val_mrcnn_bbox_loss: 0.3529 - val_mrcnn_mask_loss: 0.9250\n",
      "Epoch 223/300\n",
      "146/146 [==============================] - 424s 3s/step - batch: 72.5000 - size: 2.0000 - loss: 0.1284 - rpn_class_loss: 7.7637e-04 - rpn_bbox_loss: 0.0092 - mrcnn_class_loss: 0.0273 - mrcnn_bbox_loss: 0.0123 - mrcnn_mask_loss: 0.0788 - val_loss: 8.1972 - val_rpn_class_loss: 4.3159 - val_rpn_bbox_loss: 0.7814 - val_mrcnn_class_loss: 1.6396 - val_mrcnn_bbox_loss: 0.3772 - val_mrcnn_mask_loss: 1.0830\n",
      "Epoch 224/300\n",
      "146/146 [==============================] - 480s 3s/step - batch: 72.5000 - size: 2.0000 - loss: 0.1265 - rpn_class_loss: 8.2108e-04 - rpn_bbox_loss: 0.0086 - mrcnn_class_loss: 0.0276 - mrcnn_bbox_loss: 0.0119 - mrcnn_mask_loss: 0.0776 - val_loss: 8.5515 - val_rpn_class_loss: 4.7603 - val_rpn_bbox_loss: 0.9252 - val_mrcnn_class_loss: 1.4974 - val_mrcnn_bbox_loss: 0.3437 - val_mrcnn_mask_loss: 1.0248\n",
      "Epoch 225/300\n",
      "146/146 [==============================] - 426s 3s/step - batch: 72.5000 - size: 2.0000 - loss: 0.1233 - rpn_class_loss: 7.2555e-04 - rpn_bbox_loss: 0.0080 - mrcnn_class_loss: 0.0272 - mrcnn_bbox_loss: 0.0113 - mrcnn_mask_loss: 0.0760 - val_loss: 8.6923 - val_rpn_class_loss: 4.5998 - val_rpn_bbox_loss: 0.8962 - val_mrcnn_class_loss: 1.7677 - val_mrcnn_bbox_loss: 0.3606 - val_mrcnn_mask_loss: 1.0681\n",
      "Epoch 226/300\n",
      "146/146 [==============================] - 472s 3s/step - batch: 72.5000 - size: 2.0000 - loss: 0.1231 - rpn_class_loss: 7.0063e-04 - rpn_bbox_loss: 0.0081 - mrcnn_class_loss: 0.0266 - mrcnn_bbox_loss: 0.0113 - mrcnn_mask_loss: 0.0764 - val_loss: 7.8602 - val_rpn_class_loss: 4.0556 - val_rpn_bbox_loss: 0.7761 - val_mrcnn_class_loss: 1.5634 - val_mrcnn_bbox_loss: 0.3924 - val_mrcnn_mask_loss: 1.0726\n",
      "Epoch 227/300\n",
      "146/146 [==============================] - 501s 3s/step - batch: 72.5000 - size: 2.0000 - loss: 0.1203 - rpn_class_loss: 5.8973e-04 - rpn_bbox_loss: 0.0081 - mrcnn_class_loss: 0.0266 - mrcnn_bbox_loss: 0.0110 - mrcnn_mask_loss: 0.0740 - val_loss: 8.8017 - val_rpn_class_loss: 4.9978 - val_rpn_bbox_loss: 0.8657 - val_mrcnn_class_loss: 1.5886 - val_mrcnn_bbox_loss: 0.3473 - val_mrcnn_mask_loss: 1.0024\n",
      "Epoch 228/300\n",
      "146/146 [==============================] - 442s 3s/step - batch: 72.5000 - size: 2.0000 - loss: 0.1230 - rpn_class_loss: 0.0010 - rpn_bbox_loss: 0.0082 - mrcnn_class_loss: 0.0273 - mrcnn_bbox_loss: 0.0111 - mrcnn_mask_loss: 0.0754 - val_loss: 7.7074 - val_rpn_class_loss: 4.1651 - val_rpn_bbox_loss: 0.7777 - val_mrcnn_class_loss: 1.3792 - val_mrcnn_bbox_loss: 0.3501 - val_mrcnn_mask_loss: 1.0353\n",
      "Epoch 229/300\n",
      "146/146 [==============================] - 498s 3s/step - batch: 72.5000 - size: 2.0000 - loss: 0.1303 - rpn_class_loss: 9.6391e-04 - rpn_bbox_loss: 0.0099 - mrcnn_class_loss: 0.0290 - mrcnn_bbox_loss: 0.0122 - mrcnn_mask_loss: 0.0782 - val_loss: 8.2436 - val_rpn_class_loss: 4.5487 - val_rpn_bbox_loss: 0.8211 - val_mrcnn_class_loss: 1.5259 - val_mrcnn_bbox_loss: 0.3428 - val_mrcnn_mask_loss: 1.0051\n",
      "Epoch 230/300\n",
      "146/146 [==============================] - 451s 3s/step - batch: 72.5000 - size: 2.0000 - loss: 0.1279 - rpn_class_loss: 7.8498e-04 - rpn_bbox_loss: 0.0089 - mrcnn_class_loss: 0.0289 - mrcnn_bbox_loss: 0.0118 - mrcnn_mask_loss: 0.0775 - val_loss: 8.4075 - val_rpn_class_loss: 4.5276 - val_rpn_bbox_loss: 0.7913 - val_mrcnn_class_loss: 1.6536 - val_mrcnn_bbox_loss: 0.3798 - val_mrcnn_mask_loss: 1.0551\n",
      "Epoch 231/300\n",
      "146/146 [==============================] - 475s 3s/step - batch: 72.5000 - size: 2.0000 - loss: 0.1246 - rpn_class_loss: 0.0010 - rpn_bbox_loss: 0.0087 - mrcnn_class_loss: 0.0275 - mrcnn_bbox_loss: 0.0113 - mrcnn_mask_loss: 0.0761 - val_loss: 8.0641 - val_rpn_class_loss: 4.3333 - val_rpn_bbox_loss: 0.8121 - val_mrcnn_class_loss: 1.5956 - val_mrcnn_bbox_loss: 0.3431 - val_mrcnn_mask_loss: 0.9800\n",
      "Epoch 232/300\n",
      "146/146 [==============================] - 439s 3s/step - batch: 72.5000 - size: 2.0000 - loss: 0.1250 - rpn_class_loss: 4.7351e-04 - rpn_bbox_loss: 0.0086 - mrcnn_class_loss: 0.0268 - mrcnn_bbox_loss: 0.0116 - mrcnn_mask_loss: 0.0775 - val_loss: 7.7713 - val_rpn_class_loss: 4.3407 - val_rpn_bbox_loss: 0.9083 - val_mrcnn_class_loss: 1.3331 - val_mrcnn_bbox_loss: 0.3136 - val_mrcnn_mask_loss: 0.8755\n",
      "Epoch 233/300\n",
      "146/146 [==============================] - 465s 3s/step - batch: 72.5000 - size: 2.0000 - loss: 0.1225 - rpn_class_loss: 7.4523e-04 - rpn_bbox_loss: 0.0082 - mrcnn_class_loss: 0.0279 - mrcnn_bbox_loss: 0.0111 - mrcnn_mask_loss: 0.0746 - val_loss: 8.6615 - val_rpn_class_loss: 4.8850 - val_rpn_bbox_loss: 0.9343 - val_mrcnn_class_loss: 1.5067 - val_mrcnn_bbox_loss: 0.3390 - val_mrcnn_mask_loss: 0.9965\n",
      "Epoch 234/300\n",
      "146/146 [==============================] - 454s 3s/step - batch: 72.5000 - size: 2.0000 - loss: 0.1220 - rpn_class_loss: 7.3025e-04 - rpn_bbox_loss: 0.0084 - mrcnn_class_loss: 0.0269 - mrcnn_bbox_loss: 0.0112 - mrcnn_mask_loss: 0.0748 - val_loss: 7.7083 - val_rpn_class_loss: 3.8218 - val_rpn_bbox_loss: 0.6922 - val_mrcnn_class_loss: 1.5762 - val_mrcnn_bbox_loss: 0.4024 - val_mrcnn_mask_loss: 1.2157\n",
      "Epoch 235/300\n",
      "146/146 [==============================] - 479s 3s/step - batch: 72.5000 - size: 2.0000 - loss: 0.1209 - rpn_class_loss: 8.7758e-04 - rpn_bbox_loss: 0.0083 - mrcnn_class_loss: 0.0266 - mrcnn_bbox_loss: 0.0110 - mrcnn_mask_loss: 0.0741 - val_loss: 8.3403 - val_rpn_class_loss: 4.6220 - val_rpn_bbox_loss: 0.7976 - val_mrcnn_class_loss: 1.5304 - val_mrcnn_bbox_loss: 0.3819 - val_mrcnn_mask_loss: 1.0084\n",
      "Epoch 236/300\n",
      "146/146 [==============================] - 485s 3s/step - batch: 72.5000 - size: 2.0000 - loss: 0.1175 - rpn_class_loss: 5.7031e-04 - rpn_bbox_loss: 0.0074 - mrcnn_class_loss: 0.0257 - mrcnn_bbox_loss: 0.0107 - mrcnn_mask_loss: 0.0732 - val_loss: 8.0401 - val_rpn_class_loss: 4.4086 - val_rpn_bbox_loss: 0.8222 - val_mrcnn_class_loss: 1.4052 - val_mrcnn_bbox_loss: 0.3662 - val_mrcnn_mask_loss: 1.0379\n",
      "Epoch 237/300\n",
      "146/146 [==============================] - 476s 3s/step - batch: 72.5000 - size: 2.0000 - loss: 0.1207 - rpn_class_loss: 0.0011 - rpn_bbox_loss: 0.0082 - mrcnn_class_loss: 0.0278 - mrcnn_bbox_loss: 0.0108 - mrcnn_mask_loss: 0.0728 - val_loss: 8.2364 - val_rpn_class_loss: 4.4869 - val_rpn_bbox_loss: 0.8101 - val_mrcnn_class_loss: 1.5915 - val_mrcnn_bbox_loss: 0.3297 - val_mrcnn_mask_loss: 1.0182\n",
      "Epoch 238/300\n",
      "146/146 [==============================] - 470s 3s/step - batch: 72.5000 - size: 2.0000 - loss: 0.1223 - rpn_class_loss: 7.4619e-04 - rpn_bbox_loss: 0.0093 - mrcnn_class_loss: 0.0259 - mrcnn_bbox_loss: 0.0118 - mrcnn_mask_loss: 0.0746 - val_loss: 8.0426 - val_rpn_class_loss: 4.4272 - val_rpn_bbox_loss: 0.8187 - val_mrcnn_class_loss: 1.5398 - val_mrcnn_bbox_loss: 0.3266 - val_mrcnn_mask_loss: 0.9304\n",
      "Epoch 239/300\n",
      "146/146 [==============================] - 472s 3s/step - batch: 72.5000 - size: 2.0000 - loss: 0.1192 - rpn_class_loss: 5.3658e-04 - rpn_bbox_loss: 0.0080 - mrcnn_class_loss: 0.0250 - mrcnn_bbox_loss: 0.0110 - mrcnn_mask_loss: 0.0746 - val_loss: 7.9414 - val_rpn_class_loss: 4.3381 - val_rpn_bbox_loss: 0.8991 - val_mrcnn_class_loss: 1.3668 - val_mrcnn_bbox_loss: 0.3211 - val_mrcnn_mask_loss: 1.0162\n",
      "Epoch 240/300\n",
      "146/146 [==============================] - 424s 3s/step - batch: 72.5000 - size: 2.0000 - loss: 0.1124 - rpn_class_loss: 6.6325e-04 - rpn_bbox_loss: 0.0071 - mrcnn_class_loss: 0.0226 - mrcnn_bbox_loss: 0.0101 - mrcnn_mask_loss: 0.0719 - val_loss: 8.2728 - val_rpn_class_loss: 4.2252 - val_rpn_bbox_loss: 0.8453 - val_mrcnn_class_loss: 1.7013 - val_mrcnn_bbox_loss: 0.3859 - val_mrcnn_mask_loss: 1.1151\n"
     ]
    },
    {
     "name": "stdout",
     "output_type": "stream",
     "text": [
      "Epoch 241/300\n",
      "146/146 [==============================] - 504s 3s/step - batch: 72.5000 - size: 2.0000 - loss: 0.1181 - rpn_class_loss: 6.7096e-04 - rpn_bbox_loss: 0.0078 - mrcnn_class_loss: 0.0248 - mrcnn_bbox_loss: 0.0109 - mrcnn_mask_loss: 0.0740 - val_loss: 8.1888 - val_rpn_class_loss: 4.1972 - val_rpn_bbox_loss: 0.7562 - val_mrcnn_class_loss: 1.6837 - val_mrcnn_bbox_loss: 0.3601 - val_mrcnn_mask_loss: 1.1916\n",
      "Epoch 242/300\n",
      "146/146 [==============================] - 447s 3s/step - batch: 72.5000 - size: 2.0000 - loss: 0.1167 - rpn_class_loss: 6.0772e-04 - rpn_bbox_loss: 0.0077 - mrcnn_class_loss: 0.0256 - mrcnn_bbox_loss: 0.0106 - mrcnn_mask_loss: 0.0721 - val_loss: 8.4245 - val_rpn_class_loss: 4.1510 - val_rpn_bbox_loss: 0.7366 - val_mrcnn_class_loss: 1.8621 - val_mrcnn_bbox_loss: 0.3901 - val_mrcnn_mask_loss: 1.2846\n",
      "Epoch 243/300\n",
      "146/146 [==============================] - 457s 3s/step - batch: 72.5000 - size: 2.0000 - loss: 0.1157 - rpn_class_loss: 7.7255e-04 - rpn_bbox_loss: 0.0074 - mrcnn_class_loss: 0.0257 - mrcnn_bbox_loss: 0.0104 - mrcnn_mask_loss: 0.0715 - val_loss: 6.9903 - val_rpn_class_loss: 3.6975 - val_rpn_bbox_loss: 0.7563 - val_mrcnn_class_loss: 1.2588 - val_mrcnn_bbox_loss: 0.3472 - val_mrcnn_mask_loss: 0.9305\n",
      "Epoch 244/300\n",
      "146/146 [==============================] - 448s 3s/step - batch: 72.5000 - size: 2.0000 - loss: 0.1135 - rpn_class_loss: 5.4352e-04 - rpn_bbox_loss: 0.0073 - mrcnn_class_loss: 0.0241 - mrcnn_bbox_loss: 0.0102 - mrcnn_mask_loss: 0.0713 - val_loss: 8.4794 - val_rpn_class_loss: 4.3219 - val_rpn_bbox_loss: 0.7499 - val_mrcnn_class_loss: 1.8466 - val_mrcnn_bbox_loss: 0.3814 - val_mrcnn_mask_loss: 1.1796\n",
      "Epoch 245/300\n",
      "146/146 [==============================] - 441s 3s/step - batch: 72.5000 - size: 2.0000 - loss: 0.1170 - rpn_class_loss: 5.1570e-04 - rpn_bbox_loss: 0.0074 - mrcnn_class_loss: 0.0255 - mrcnn_bbox_loss: 0.0106 - mrcnn_mask_loss: 0.0729 - val_loss: 8.0524 - val_rpn_class_loss: 4.2862 - val_rpn_bbox_loss: 0.7874 - val_mrcnn_class_loss: 1.5330 - val_mrcnn_bbox_loss: 0.3746 - val_mrcnn_mask_loss: 1.0712\n",
      "Epoch 246/300\n",
      "146/146 [==============================] - 519s 4s/step - batch: 72.5000 - size: 2.0000 - loss: 0.1151 - rpn_class_loss: 4.7671e-04 - rpn_bbox_loss: 0.0079 - mrcnn_class_loss: 0.0250 - mrcnn_bbox_loss: 0.0104 - mrcnn_mask_loss: 0.0712 - val_loss: 8.6387 - val_rpn_class_loss: 4.7716 - val_rpn_bbox_loss: 0.9153 - val_mrcnn_class_loss: 1.5283 - val_mrcnn_bbox_loss: 0.3357 - val_mrcnn_mask_loss: 1.0878\n",
      "Epoch 247/300\n",
      "146/146 [==============================] - 474s 3s/step - batch: 72.5000 - size: 2.0000 - loss: 0.1221 - rpn_class_loss: 6.3767e-04 - rpn_bbox_loss: 0.0090 - mrcnn_class_loss: 0.0255 - mrcnn_bbox_loss: 0.0113 - mrcnn_mask_loss: 0.0756 - val_loss: 7.9594 - val_rpn_class_loss: 4.0380 - val_rpn_bbox_loss: 0.8064 - val_mrcnn_class_loss: 1.5229 - val_mrcnn_bbox_loss: 0.4056 - val_mrcnn_mask_loss: 1.1867\n",
      "Epoch 248/300\n",
      "146/146 [==============================] - 461s 3s/step - batch: 72.5000 - size: 2.0000 - loss: 0.1154 - rpn_class_loss: 3.9543e-04 - rpn_bbox_loss: 0.0074 - mrcnn_class_loss: 0.0258 - mrcnn_bbox_loss: 0.0107 - mrcnn_mask_loss: 0.0711 - val_loss: 7.5313 - val_rpn_class_loss: 3.8638 - val_rpn_bbox_loss: 0.7774 - val_mrcnn_class_loss: 1.4348 - val_mrcnn_bbox_loss: 0.3671 - val_mrcnn_mask_loss: 1.0882\n",
      "Epoch 249/300\n",
      "146/146 [==============================] - 443s 3s/step - batch: 72.5000 - size: 2.0000 - loss: 0.1188 - rpn_class_loss: 6.9682e-04 - rpn_bbox_loss: 0.0079 - mrcnn_class_loss: 0.0274 - mrcnn_bbox_loss: 0.0107 - mrcnn_mask_loss: 0.0722 - val_loss: 9.2055 - val_rpn_class_loss: 5.0728 - val_rpn_bbox_loss: 0.8405 - val_mrcnn_class_loss: 1.7782 - val_mrcnn_bbox_loss: 0.3397 - val_mrcnn_mask_loss: 1.1744\n",
      "Epoch 250/300\n",
      "146/146 [==============================] - 497s 3s/step - batch: 72.5000 - size: 2.0000 - loss: 0.1167 - rpn_class_loss: 6.4672e-04 - rpn_bbox_loss: 0.0079 - mrcnn_class_loss: 0.0258 - mrcnn_bbox_loss: 0.0107 - mrcnn_mask_loss: 0.0717 - val_loss: 8.2508 - val_rpn_class_loss: 4.3625 - val_rpn_bbox_loss: 0.7396 - val_mrcnn_class_loss: 1.6975 - val_mrcnn_bbox_loss: 0.3606 - val_mrcnn_mask_loss: 1.0907\n",
      "Epoch 251/300\n",
      "146/146 [==============================] - 455s 3s/step - batch: 72.5000 - size: 2.0000 - loss: 0.1177 - rpn_class_loss: 5.3876e-04 - rpn_bbox_loss: 0.0080 - mrcnn_class_loss: 0.0262 - mrcnn_bbox_loss: 0.0107 - mrcnn_mask_loss: 0.0723 - val_loss: 8.3830 - val_rpn_class_loss: 4.4817 - val_rpn_bbox_loss: 0.7952 - val_mrcnn_class_loss: 1.6520 - val_mrcnn_bbox_loss: 0.3624 - val_mrcnn_mask_loss: 1.0917\n",
      "Epoch 252/300\n",
      "146/146 [==============================] - 471s 3s/step - batch: 72.5000 - size: 2.0000 - loss: 0.1190 - rpn_class_loss: 5.9073e-04 - rpn_bbox_loss: 0.0079 - mrcnn_class_loss: 0.0275 - mrcnn_bbox_loss: 0.0108 - mrcnn_mask_loss: 0.0723 - val_loss: 8.8949 - val_rpn_class_loss: 5.0469 - val_rpn_bbox_loss: 0.9079 - val_mrcnn_class_loss: 1.6147 - val_mrcnn_bbox_loss: 0.3350 - val_mrcnn_mask_loss: 0.9904\n",
      "Epoch 253/300\n",
      "146/146 [==============================] - 492s 3s/step - batch: 72.5000 - size: 2.0000 - loss: 0.1203 - rpn_class_loss: 8.3549e-04 - rpn_bbox_loss: 0.0086 - mrcnn_class_loss: 0.0274 - mrcnn_bbox_loss: 0.0107 - mrcnn_mask_loss: 0.0728 - val_loss: 8.1332 - val_rpn_class_loss: 4.3470 - val_rpn_bbox_loss: 0.8428 - val_mrcnn_class_loss: 1.5811 - val_mrcnn_bbox_loss: 0.3574 - val_mrcnn_mask_loss: 1.0049\n",
      "Epoch 254/300\n",
      "146/146 [==============================] - 452s 3s/step - batch: 72.5000 - size: 2.0000 - loss: 0.1119 - rpn_class_loss: 6.8035e-04 - rpn_bbox_loss: 0.0072 - mrcnn_class_loss: 0.0242 - mrcnn_bbox_loss: 0.0101 - mrcnn_mask_loss: 0.0697 - val_loss: 7.1627 - val_rpn_class_loss: 3.6203 - val_rpn_bbox_loss: 0.6876 - val_mrcnn_class_loss: 1.3124 - val_mrcnn_bbox_loss: 0.3660 - val_mrcnn_mask_loss: 1.1764\n",
      "Epoch 255/300\n",
      "146/146 [==============================] - 477s 3s/step - batch: 72.5000 - size: 2.0000 - loss: 0.1106 - rpn_class_loss: 5.0604e-04 - rpn_bbox_loss: 0.0071 - mrcnn_class_loss: 0.0239 - mrcnn_bbox_loss: 0.0100 - mrcnn_mask_loss: 0.0691 - val_loss: 7.9037 - val_rpn_class_loss: 4.1945 - val_rpn_bbox_loss: 0.7964 - val_mrcnn_class_loss: 1.4250 - val_mrcnn_bbox_loss: 0.3595 - val_mrcnn_mask_loss: 1.1283\n",
      "Epoch 256/300\n",
      "146/146 [==============================] - 489s 3s/step - batch: 72.5000 - size: 2.0000 - loss: 0.1167 - rpn_class_loss: 8.6918e-04 - rpn_bbox_loss: 0.0088 - mrcnn_class_loss: 0.0242 - mrcnn_bbox_loss: 0.0106 - mrcnn_mask_loss: 0.0722 - val_loss: 9.6375 - val_rpn_class_loss: 5.1477 - val_rpn_bbox_loss: 0.8495 - val_mrcnn_class_loss: 1.9006 - val_mrcnn_bbox_loss: 0.4020 - val_mrcnn_mask_loss: 1.3376\n",
      "Epoch 257/300\n",
      "146/146 [==============================] - 470s 3s/step - batch: 72.5000 - size: 2.0000 - loss: 0.1126 - rpn_class_loss: 6.3326e-04 - rpn_bbox_loss: 0.0074 - mrcnn_class_loss: 0.0243 - mrcnn_bbox_loss: 0.0103 - mrcnn_mask_loss: 0.0700 - val_loss: 8.6462 - val_rpn_class_loss: 4.7373 - val_rpn_bbox_loss: 0.8674 - val_mrcnn_class_loss: 1.6907 - val_mrcnn_bbox_loss: 0.3235 - val_mrcnn_mask_loss: 1.0274\n",
      "Epoch 258/300\n",
      "146/146 [==============================] - 450s 3s/step - batch: 72.5000 - size: 2.0000 - loss: 0.1173 - rpn_class_loss: 7.3103e-04 - rpn_bbox_loss: 0.0082 - mrcnn_class_loss: 0.0273 - mrcnn_bbox_loss: 0.0105 - mrcnn_mask_loss: 0.0707 - val_loss: 8.9211 - val_rpn_class_loss: 5.0241 - val_rpn_bbox_loss: 0.8721 - val_mrcnn_class_loss: 1.5996 - val_mrcnn_bbox_loss: 0.3505 - val_mrcnn_mask_loss: 1.0748\n",
      "Epoch 259/300\n",
      "146/146 [==============================] - 484s 3s/step - batch: 72.5000 - size: 2.0000 - loss: 0.1142 - rpn_class_loss: 7.1703e-04 - rpn_bbox_loss: 0.0079 - mrcnn_class_loss: 0.0259 - mrcnn_bbox_loss: 0.0101 - mrcnn_mask_loss: 0.0697 - val_loss: 8.9135 - val_rpn_class_loss: 4.9368 - val_rpn_bbox_loss: 0.8811 - val_mrcnn_class_loss: 1.6059 - val_mrcnn_bbox_loss: 0.3459 - val_mrcnn_mask_loss: 1.1437\n",
      "Epoch 260/300\n",
      "146/146 [==============================] - 506s 3s/step - batch: 72.5000 - size: 2.0000 - loss: 0.1118 - rpn_class_loss: 6.3808e-04 - rpn_bbox_loss: 0.0073 - mrcnn_class_loss: 0.0237 - mrcnn_bbox_loss: 0.0105 - mrcnn_mask_loss: 0.0697 - val_loss: 7.6253 - val_rpn_class_loss: 4.0075 - val_rpn_bbox_loss: 0.7904 - val_mrcnn_class_loss: 1.3964 - val_mrcnn_bbox_loss: 0.3503 - val_mrcnn_mask_loss: 1.0807\n"
     ]
    },
    {
     "name": "stdout",
     "output_type": "stream",
     "text": [
      "Epoch 261/300\n",
      "146/146 [==============================] - 488s 3s/step - batch: 72.5000 - size: 2.0000 - loss: 0.1183 - rpn_class_loss: 0.0011 - rpn_bbox_loss: 0.0084 - mrcnn_class_loss: 0.0260 - mrcnn_bbox_loss: 0.0105 - mrcnn_mask_loss: 0.0723 - val_loss: 8.4821 - val_rpn_class_loss: 4.5173 - val_rpn_bbox_loss: 0.8753 - val_mrcnn_class_loss: 1.5931 - val_mrcnn_bbox_loss: 0.3650 - val_mrcnn_mask_loss: 1.1314\n",
      "Epoch 262/300\n",
      "146/146 [==============================] - 485s 3s/step - batch: 72.5000 - size: 2.0000 - loss: 0.1097 - rpn_class_loss: 4.4192e-04 - rpn_bbox_loss: 0.0068 - mrcnn_class_loss: 0.0242 - mrcnn_bbox_loss: 0.0097 - mrcnn_mask_loss: 0.0685 - val_loss: 8.5944 - val_rpn_class_loss: 4.4904 - val_rpn_bbox_loss: 0.8526 - val_mrcnn_class_loss: 1.6712 - val_mrcnn_bbox_loss: 0.3756 - val_mrcnn_mask_loss: 1.2046\n",
      "Epoch 263/300\n",
      "146/146 [==============================] - 435s 3s/step - batch: 72.5000 - size: 2.0000 - loss: 0.1094 - rpn_class_loss: 8.2814e-04 - rpn_bbox_loss: 0.0068 - mrcnn_class_loss: 0.0237 - mrcnn_bbox_loss: 0.0098 - mrcnn_mask_loss: 0.0682 - val_loss: 8.0178 - val_rpn_class_loss: 4.2928 - val_rpn_bbox_loss: 0.7548 - val_mrcnn_class_loss: 1.4820 - val_mrcnn_bbox_loss: 0.3653 - val_mrcnn_mask_loss: 1.1229\n",
      "Epoch 264/300\n",
      "146/146 [==============================] - 460s 3s/step - batch: 72.5000 - size: 2.0000 - loss: 0.1121 - rpn_class_loss: 7.1971e-04 - rpn_bbox_loss: 0.0073 - mrcnn_class_loss: 0.0247 - mrcnn_bbox_loss: 0.0100 - mrcnn_mask_loss: 0.0694 - val_loss: 8.2528 - val_rpn_class_loss: 4.5490 - val_rpn_bbox_loss: 0.7958 - val_mrcnn_class_loss: 1.5110 - val_mrcnn_bbox_loss: 0.3403 - val_mrcnn_mask_loss: 1.0567\n",
      "Epoch 265/300\n",
      "146/146 [==============================] - 496s 3s/step - batch: 72.5000 - size: 2.0000 - loss: 0.1111 - rpn_class_loss: 7.1482e-04 - rpn_bbox_loss: 0.0074 - mrcnn_class_loss: 0.0235 - mrcnn_bbox_loss: 0.0100 - mrcnn_mask_loss: 0.0695 - val_loss: 8.7026 - val_rpn_class_loss: 4.8932 - val_rpn_bbox_loss: 0.9364 - val_mrcnn_class_loss: 1.5987 - val_mrcnn_bbox_loss: 0.3459 - val_mrcnn_mask_loss: 0.9284\n",
      "Epoch 266/300\n",
      "146/146 [==============================] - 432s 3s/step - batch: 72.5000 - size: 2.0000 - loss: 0.1141 - rpn_class_loss: 9.0595e-04 - rpn_bbox_loss: 0.0076 - mrcnn_class_loss: 0.0243 - mrcnn_bbox_loss: 0.0101 - mrcnn_mask_loss: 0.0712 - val_loss: 8.4633 - val_rpn_class_loss: 4.4472 - val_rpn_bbox_loss: 0.7586 - val_mrcnn_class_loss: 1.6729 - val_mrcnn_bbox_loss: 0.3746 - val_mrcnn_mask_loss: 1.2099\n",
      "Epoch 267/300\n",
      "146/146 [==============================] - 503s 3s/step - batch: 72.5000 - size: 2.0000 - loss: 0.1111 - rpn_class_loss: 3.5446e-04 - rpn_bbox_loss: 0.0076 - mrcnn_class_loss: 0.0242 - mrcnn_bbox_loss: 0.0097 - mrcnn_mask_loss: 0.0693 - val_loss: 9.1893 - val_rpn_class_loss: 5.1554 - val_rpn_bbox_loss: 0.8433 - val_mrcnn_class_loss: 1.7240 - val_mrcnn_bbox_loss: 0.3659 - val_mrcnn_mask_loss: 1.1008\n",
      "Epoch 268/300\n",
      "146/146 [==============================] - 462s 3s/step - batch: 72.5000 - size: 2.0000 - loss: 0.1158 - rpn_class_loss: 6.3550e-04 - rpn_bbox_loss: 0.0077 - mrcnn_class_loss: 0.0255 - mrcnn_bbox_loss: 0.0103 - mrcnn_mask_loss: 0.0716 - val_loss: 8.2833 - val_rpn_class_loss: 4.2035 - val_rpn_bbox_loss: 0.7336 - val_mrcnn_class_loss: 1.7347 - val_mrcnn_bbox_loss: 0.3820 - val_mrcnn_mask_loss: 1.2296\n",
      "Epoch 269/300\n",
      "146/146 [==============================] - 473s 3s/step - batch: 72.5000 - size: 2.0000 - loss: 0.1095 - rpn_class_loss: 5.7471e-04 - rpn_bbox_loss: 0.0070 - mrcnn_class_loss: 0.0236 - mrcnn_bbox_loss: 0.0100 - mrcnn_mask_loss: 0.0683 - val_loss: 9.1811 - val_rpn_class_loss: 5.1529 - val_rpn_bbox_loss: 0.9350 - val_mrcnn_class_loss: 1.6222 - val_mrcnn_bbox_loss: 0.3301 - val_mrcnn_mask_loss: 1.1409\n",
      "Epoch 270/300\n",
      "146/146 [==============================] - 438s 3s/step - batch: 72.5000 - size: 2.0000 - loss: 0.1110 - rpn_class_loss: 7.9447e-04 - rpn_bbox_loss: 0.0071 - mrcnn_class_loss: 0.0247 - mrcnn_bbox_loss: 0.0097 - mrcnn_mask_loss: 0.0686 - val_loss: 9.2029 - val_rpn_class_loss: 4.7604 - val_rpn_bbox_loss: 0.7492 - val_mrcnn_class_loss: 1.8919 - val_mrcnn_bbox_loss: 0.3891 - val_mrcnn_mask_loss: 1.4122\n",
      "Epoch 271/300\n",
      "146/146 [==============================] - 466s 3s/step - batch: 72.5000 - size: 2.0000 - loss: 0.1053 - rpn_class_loss: 4.0513e-04 - rpn_bbox_loss: 0.0064 - mrcnn_class_loss: 0.0229 - mrcnn_bbox_loss: 0.0093 - mrcnn_mask_loss: 0.0663 - val_loss: 7.7713 - val_rpn_class_loss: 4.1006 - val_rpn_bbox_loss: 0.7500 - val_mrcnn_class_loss: 1.4951 - val_mrcnn_bbox_loss: 0.3328 - val_mrcnn_mask_loss: 1.0927\n",
      "Epoch 272/300\n",
      "146/146 [==============================] - 504s 3s/step - batch: 72.5000 - size: 2.0000 - loss: 0.1074 - rpn_class_loss: 4.9409e-04 - rpn_bbox_loss: 0.0062 - mrcnn_class_loss: 0.0244 - mrcnn_bbox_loss: 0.0094 - mrcnn_mask_loss: 0.0670 - val_loss: 8.8199 - val_rpn_class_loss: 4.8717 - val_rpn_bbox_loss: 0.8612 - val_mrcnn_class_loss: 1.5667 - val_mrcnn_bbox_loss: 0.3451 - val_mrcnn_mask_loss: 1.1752\n",
      "Epoch 273/300\n",
      "146/146 [==============================] - 458s 3s/step - batch: 72.5000 - size: 2.0000 - loss: 0.1057 - rpn_class_loss: 4.8931e-04 - rpn_bbox_loss: 0.0065 - mrcnn_class_loss: 0.0231 - mrcnn_bbox_loss: 0.0094 - mrcnn_mask_loss: 0.0663 - val_loss: 7.8114 - val_rpn_class_loss: 4.1521 - val_rpn_bbox_loss: 0.7982 - val_mrcnn_class_loss: 1.4598 - val_mrcnn_bbox_loss: 0.3495 - val_mrcnn_mask_loss: 1.0519\n",
      "Epoch 274/300\n",
      "146/146 [==============================] - 524s 4s/step - batch: 72.5000 - size: 2.0000 - loss: 0.1123 - rpn_class_loss: 7.7911e-04 - rpn_bbox_loss: 0.0072 - mrcnn_class_loss: 0.0264 - mrcnn_bbox_loss: 0.0099 - mrcnn_mask_loss: 0.0679 - val_loss: 8.2600 - val_rpn_class_loss: 4.5496 - val_rpn_bbox_loss: 0.8193 - val_mrcnn_class_loss: 1.5507 - val_mrcnn_bbox_loss: 0.3508 - val_mrcnn_mask_loss: 0.9895\n",
      "Epoch 275/300\n",
      "146/146 [==============================] - 447s 3s/step - batch: 72.5000 - size: 2.0000 - loss: 0.1033 - rpn_class_loss: 5.2436e-04 - rpn_bbox_loss: 0.0064 - mrcnn_class_loss: 0.0230 - mrcnn_bbox_loss: 0.0089 - mrcnn_mask_loss: 0.0645 - val_loss: 8.8089 - val_rpn_class_loss: 4.6947 - val_rpn_bbox_loss: 0.8133 - val_mrcnn_class_loss: 1.6152 - val_mrcnn_bbox_loss: 0.3636 - val_mrcnn_mask_loss: 1.3220\n",
      "Epoch 276/300\n",
      "146/146 [==============================] - 450s 3s/step - batch: 72.5000 - size: 2.0000 - loss: 0.1023 - rpn_class_loss: 4.7196e-04 - rpn_bbox_loss: 0.0061 - mrcnn_class_loss: 0.0218 - mrcnn_bbox_loss: 0.0091 - mrcnn_mask_loss: 0.0648 - val_loss: 8.2831 - val_rpn_class_loss: 4.1854 - val_rpn_bbox_loss: 0.7620 - val_mrcnn_class_loss: 1.6435 - val_mrcnn_bbox_loss: 0.3955 - val_mrcnn_mask_loss: 1.2966\n",
      "Epoch 277/300\n",
      "146/146 [==============================] - 451s 3s/step - batch: 72.5000 - size: 2.0000 - loss: 0.1104 - rpn_class_loss: 5.9503e-04 - rpn_bbox_loss: 0.0070 - mrcnn_class_loss: 0.0260 - mrcnn_bbox_loss: 0.0096 - mrcnn_mask_loss: 0.0673 - val_loss: 8.6858 - val_rpn_class_loss: 4.6807 - val_rpn_bbox_loss: 0.8131 - val_mrcnn_class_loss: 1.6475 - val_mrcnn_bbox_loss: 0.3770 - val_mrcnn_mask_loss: 1.1676\n",
      "Epoch 278/300\n",
      "146/146 [==============================] - 433s 3s/step - batch: 72.5000 - size: 2.0000 - loss: 0.1028 - rpn_class_loss: 5.0728e-04 - rpn_bbox_loss: 0.0061 - mrcnn_class_loss: 0.0231 - mrcnn_bbox_loss: 0.0087 - mrcnn_mask_loss: 0.0644 - val_loss: 9.0048 - val_rpn_class_loss: 4.8621 - val_rpn_bbox_loss: 0.9170 - val_mrcnn_class_loss: 1.6750 - val_mrcnn_bbox_loss: 0.3517 - val_mrcnn_mask_loss: 1.1990\n",
      "Epoch 279/300\n",
      "146/146 [==============================] - 486s 3s/step - batch: 72.5000 - size: 2.0000 - loss: 0.1091 - rpn_class_loss: 8.0769e-04 - rpn_bbox_loss: 0.0070 - mrcnn_class_loss: 0.0245 - mrcnn_bbox_loss: 0.0096 - mrcnn_mask_loss: 0.0671 - val_loss: 9.9059 - val_rpn_class_loss: 5.4203 - val_rpn_bbox_loss: 0.8191 - val_mrcnn_class_loss: 1.9296 - val_mrcnn_bbox_loss: 0.3929 - val_mrcnn_mask_loss: 1.3440\n",
      "Epoch 280/300\n",
      "146/146 [==============================] - 476s 3s/step - batch: 72.5000 - size: 2.0000 - loss: 0.1103 - rpn_class_loss: 7.4680e-04 - rpn_bbox_loss: 0.0071 - mrcnn_class_loss: 0.0251 - mrcnn_bbox_loss: 0.0095 - mrcnn_mask_loss: 0.0678 - val_loss: 8.3363 - val_rpn_class_loss: 4.5443 - val_rpn_bbox_loss: 0.7772 - val_mrcnn_class_loss: 1.5782 - val_mrcnn_bbox_loss: 0.3512 - val_mrcnn_mask_loss: 1.0853\n"
     ]
    },
    {
     "name": "stdout",
     "output_type": "stream",
     "text": [
      "Epoch 281/300\n",
      "146/146 [==============================] - 449s 3s/step - batch: 72.5000 - size: 2.0000 - loss: 0.1012 - rpn_class_loss: 5.3861e-04 - rpn_bbox_loss: 0.0062 - mrcnn_class_loss: 0.0221 - mrcnn_bbox_loss: 0.0090 - mrcnn_mask_loss: 0.0634 - val_loss: 7.7098 - val_rpn_class_loss: 4.0017 - val_rpn_bbox_loss: 0.7380 - val_mrcnn_class_loss: 1.4938 - val_mrcnn_bbox_loss: 0.3727 - val_mrcnn_mask_loss: 1.1037\n",
      "Epoch 282/300\n",
      "146/146 [==============================] - 465s 3s/step - batch: 72.5000 - size: 2.0000 - loss: 0.1086 - rpn_class_loss: 6.0132e-04 - rpn_bbox_loss: 0.0074 - mrcnn_class_loss: 0.0237 - mrcnn_bbox_loss: 0.0097 - mrcnn_mask_loss: 0.0672 - val_loss: 8.6683 - val_rpn_class_loss: 4.5548 - val_rpn_bbox_loss: 0.7896 - val_mrcnn_class_loss: 1.7328 - val_mrcnn_bbox_loss: 0.3705 - val_mrcnn_mask_loss: 1.2206\n",
      "Epoch 283/300\n",
      "146/146 [==============================] - 450s 3s/step - batch: 72.5000 - size: 2.0000 - loss: 0.1006 - rpn_class_loss: 4.2584e-04 - rpn_bbox_loss: 0.0058 - mrcnn_class_loss: 0.0225 - mrcnn_bbox_loss: 0.0088 - mrcnn_mask_loss: 0.0631 - val_loss: 8.2863 - val_rpn_class_loss: 4.3636 - val_rpn_bbox_loss: 0.9101 - val_mrcnn_class_loss: 1.5047 - val_mrcnn_bbox_loss: 0.3749 - val_mrcnn_mask_loss: 1.1330\n",
      "Epoch 284/300\n",
      "146/146 [==============================] - 421s 3s/step - batch: 72.5000 - size: 2.0000 - loss: 0.1031 - rpn_class_loss: 7.5712e-04 - rpn_bbox_loss: 0.0060 - mrcnn_class_loss: 0.0234 - mrcnn_bbox_loss: 0.0090 - mrcnn_mask_loss: 0.0640 - val_loss: 8.0922 - val_rpn_class_loss: 4.3709 - val_rpn_bbox_loss: 0.7669 - val_mrcnn_class_loss: 1.5012 - val_mrcnn_bbox_loss: 0.3620 - val_mrcnn_mask_loss: 1.0912\n",
      "Epoch 285/300\n",
      "146/146 [==============================] - 467s 3s/step - batch: 72.5000 - size: 2.0000 - loss: 0.1096 - rpn_class_loss: 5.8384e-04 - rpn_bbox_loss: 0.0069 - mrcnn_class_loss: 0.0249 - mrcnn_bbox_loss: 0.0096 - mrcnn_mask_loss: 0.0677 - val_loss: 9.4662 - val_rpn_class_loss: 5.4490 - val_rpn_bbox_loss: 0.8907 - val_mrcnn_class_loss: 1.6078 - val_mrcnn_bbox_loss: 0.3597 - val_mrcnn_mask_loss: 1.1590\n",
      "Epoch 286/300\n",
      "146/146 [==============================] - 496s 3s/step - batch: 72.5000 - size: 2.0000 - loss: 0.1071 - rpn_class_loss: 5.1808e-04 - rpn_bbox_loss: 0.0063 - mrcnn_class_loss: 0.0239 - mrcnn_bbox_loss: 0.0095 - mrcnn_mask_loss: 0.0669 - val_loss: 7.3972 - val_rpn_class_loss: 3.9207 - val_rpn_bbox_loss: 0.8615 - val_mrcnn_class_loss: 1.2882 - val_mrcnn_bbox_loss: 0.3529 - val_mrcnn_mask_loss: 0.9739\n",
      "Epoch 287/300\n",
      "146/146 [==============================] - 430s 3s/step - batch: 72.5000 - size: 2.0000 - loss: 0.1024 - rpn_class_loss: 5.7360e-04 - rpn_bbox_loss: 0.0066 - mrcnn_class_loss: 0.0215 - mrcnn_bbox_loss: 0.0089 - mrcnn_mask_loss: 0.0649 - val_loss: 9.0754 - val_rpn_class_loss: 5.1141 - val_rpn_bbox_loss: 0.8772 - val_mrcnn_class_loss: 1.6267 - val_mrcnn_bbox_loss: 0.3387 - val_mrcnn_mask_loss: 1.1186\n",
      "Epoch 288/300\n",
      "146/146 [==============================] - 460s 3s/step - batch: 72.5000 - size: 2.0000 - loss: 0.1033 - rpn_class_loss: 7.4078e-04 - rpn_bbox_loss: 0.0064 - mrcnn_class_loss: 0.0236 - mrcnn_bbox_loss: 0.0089 - mrcnn_mask_loss: 0.0637 - val_loss: 8.3750 - val_rpn_class_loss: 4.5775 - val_rpn_bbox_loss: 0.7150 - val_mrcnn_class_loss: 1.6217 - val_mrcnn_bbox_loss: 0.3406 - val_mrcnn_mask_loss: 1.1202\n",
      "Epoch 289/300\n",
      "146/146 [==============================] - 438s 3s/step - batch: 72.5000 - size: 2.0000 - loss: 0.1038 - rpn_class_loss: 6.6708e-04 - rpn_bbox_loss: 0.0066 - mrcnn_class_loss: 0.0221 - mrcnn_bbox_loss: 0.0092 - mrcnn_mask_loss: 0.0653 - val_loss: 9.6821 - val_rpn_class_loss: 5.1204 - val_rpn_bbox_loss: 0.8070 - val_mrcnn_class_loss: 1.9027 - val_mrcnn_bbox_loss: 0.4116 - val_mrcnn_mask_loss: 1.4402\n",
      "Epoch 290/300\n",
      "146/146 [==============================] - 477s 3s/step - batch: 72.5000 - size: 2.0000 - loss: 0.1098 - rpn_class_loss: 0.0010 - rpn_bbox_loss: 0.0077 - mrcnn_class_loss: 0.0235 - mrcnn_bbox_loss: 0.0096 - mrcnn_mask_loss: 0.0679 - val_loss: 8.8526 - val_rpn_class_loss: 4.7310 - val_rpn_bbox_loss: 0.7869 - val_mrcnn_class_loss: 1.7456 - val_mrcnn_bbox_loss: 0.3482 - val_mrcnn_mask_loss: 1.2408\n",
      "Epoch 291/300\n",
      "146/146 [==============================] - 439s 3s/step - batch: 72.5000 - size: 2.0000 - loss: 0.1039 - rpn_class_loss: 3.7794e-04 - rpn_bbox_loss: 0.0064 - mrcnn_class_loss: 0.0246 - mrcnn_bbox_loss: 0.0090 - mrcnn_mask_loss: 0.0635 - val_loss: 8.9146 - val_rpn_class_loss: 4.6798 - val_rpn_bbox_loss: 0.8145 - val_mrcnn_class_loss: 1.7366 - val_mrcnn_bbox_loss: 0.3698 - val_mrcnn_mask_loss: 1.3139\n",
      "Epoch 292/300\n",
      "146/146 [==============================] - 446s 3s/step - batch: 72.5000 - size: 2.0000 - loss: 0.0998 - rpn_class_loss: 3.0540e-04 - rpn_bbox_loss: 0.0058 - mrcnn_class_loss: 0.0223 - mrcnn_bbox_loss: 0.0087 - mrcnn_mask_loss: 0.0627 - val_loss: 8.0149 - val_rpn_class_loss: 4.1913 - val_rpn_bbox_loss: 0.7593 - val_mrcnn_class_loss: 1.4993 - val_mrcnn_bbox_loss: 0.3709 - val_mrcnn_mask_loss: 1.1940\n",
      "Epoch 293/300\n",
      "146/146 [==============================] - 488s 3s/step - batch: 72.5000 - size: 2.0000 - loss: 0.1051 - rpn_class_loss: 6.2300e-04 - rpn_bbox_loss: 0.0069 - mrcnn_class_loss: 0.0232 - mrcnn_bbox_loss: 0.0090 - mrcnn_mask_loss: 0.0654 - val_loss: 8.9883 - val_rpn_class_loss: 5.1886 - val_rpn_bbox_loss: 0.9438 - val_mrcnn_class_loss: 1.5179 - val_mrcnn_bbox_loss: 0.3238 - val_mrcnn_mask_loss: 1.0143\n",
      "Epoch 294/300\n",
      "146/146 [==============================] - 466s 3s/step - batch: 72.5000 - size: 2.0000 - loss: 0.1077 - rpn_class_loss: 6.7224e-04 - rpn_bbox_loss: 0.0070 - mrcnn_class_loss: 0.0249 - mrcnn_bbox_loss: 0.0094 - mrcnn_mask_loss: 0.0658 - val_loss: 9.7351 - val_rpn_class_loss: 5.6279 - val_rpn_bbox_loss: 0.8756 - val_mrcnn_class_loss: 1.7509 - val_mrcnn_bbox_loss: 0.3342 - val_mrcnn_mask_loss: 1.1465\n",
      "Epoch 295/300\n",
      "146/146 [==============================] - 460s 3s/step - batch: 72.5000 - size: 2.0000 - loss: 0.1058 - rpn_class_loss: 3.9311e-04 - rpn_bbox_loss: 0.0067 - mrcnn_class_loss: 0.0245 - mrcnn_bbox_loss: 0.0092 - mrcnn_mask_loss: 0.0651 - val_loss: 8.7634 - val_rpn_class_loss: 4.6527 - val_rpn_bbox_loss: 0.8211 - val_mrcnn_class_loss: 1.6292 - val_mrcnn_bbox_loss: 0.3732 - val_mrcnn_mask_loss: 1.2872\n",
      "Epoch 296/300\n",
      "146/146 [==============================] - 450s 3s/step - batch: 72.5000 - size: 2.0000 - loss: 0.1049 - rpn_class_loss: 5.9571e-04 - rpn_bbox_loss: 0.0068 - mrcnn_class_loss: 0.0238 - mrcnn_bbox_loss: 0.0092 - mrcnn_mask_loss: 0.0644 - val_loss: 8.0775 - val_rpn_class_loss: 4.3366 - val_rpn_bbox_loss: 0.8859 - val_mrcnn_class_loss: 1.4450 - val_mrcnn_bbox_loss: 0.3487 - val_mrcnn_mask_loss: 1.0613\n",
      "Epoch 297/300\n",
      "146/146 [==============================] - 463s 3s/step - batch: 72.5000 - size: 2.0000 - loss: 0.1045 - rpn_class_loss: 5.7926e-04 - rpn_bbox_loss: 0.0064 - mrcnn_class_loss: 0.0249 - mrcnn_bbox_loss: 0.0090 - mrcnn_mask_loss: 0.0636 - val_loss: 7.7622 - val_rpn_class_loss: 4.0747 - val_rpn_bbox_loss: 0.8107 - val_mrcnn_class_loss: 1.4078 - val_mrcnn_bbox_loss: 0.3635 - val_mrcnn_mask_loss: 1.1056\n",
      "Epoch 298/300\n",
      "146/146 [==============================] - 454s 3s/step - batch: 72.5000 - size: 2.0000 - loss: 0.1004 - rpn_class_loss: 2.7899e-04 - rpn_bbox_loss: 0.0061 - mrcnn_class_loss: 0.0221 - mrcnn_bbox_loss: 0.0087 - mrcnn_mask_loss: 0.0632 - val_loss: 8.5068 - val_rpn_class_loss: 4.5504 - val_rpn_bbox_loss: 0.8001 - val_mrcnn_class_loss: 1.6498 - val_mrcnn_bbox_loss: 0.3623 - val_mrcnn_mask_loss: 1.1442\n",
      "Epoch 299/300\n",
      "146/146 [==============================] - 457s 3s/step - batch: 72.5000 - size: 2.0000 - loss: 0.1004 - rpn_class_loss: 5.7677e-04 - rpn_bbox_loss: 0.0062 - mrcnn_class_loss: 0.0216 - mrcnn_bbox_loss: 0.0086 - mrcnn_mask_loss: 0.0635 - val_loss: 8.3910 - val_rpn_class_loss: 4.3170 - val_rpn_bbox_loss: 0.7729 - val_mrcnn_class_loss: 1.6789 - val_mrcnn_bbox_loss: 0.3813 - val_mrcnn_mask_loss: 1.2410\n",
      "Epoch 300/300\n",
      "146/146 [==============================] - 459s 3s/step - batch: 72.5000 - size: 2.0000 - loss: 0.0986 - rpn_class_loss: 2.8625e-04 - rpn_bbox_loss: 0.0058 - mrcnn_class_loss: 0.0223 - mrcnn_bbox_loss: 0.0085 - mrcnn_mask_loss: 0.0617 - val_loss: 7.9017 - val_rpn_class_loss: 4.2733 - val_rpn_bbox_loss: 0.8462 - val_mrcnn_class_loss: 1.4609 - val_mrcnn_bbox_loss: 0.3336 - val_mrcnn_mask_loss: 0.9878\n"
     ]
    }
   ],
   "source": [
    "# cargar dataset de entrenamiento\n",
    "train_set = DatasetArandanos()\n",
    "train_set.load_dataset(conjunto_datos, is_train=True)\n",
    "train_set.prepare()\n",
    "\n",
    "# cargar dataset de test \n",
    "test_set = DatasetArandanos()\n",
    "test_set.load_dataset(conjunto_datos, is_train=False)\n",
    "test_set.prepare()\n",
    "\n",
    "# preparar la configuración llamando a la clase de configuración definida por el usuario\n",
    "config = ConfigArandanos()\n",
    "\n",
    "# definir el modelo\n",
    "with tf.device(config.DEVICE):\n",
    "    model = MaskRCNN(mode='training', model_dir='./', config=config)\n",
    "\n",
    "# cargar pesos del modelo \n",
    "weights_path = pesos\n",
    "\n",
    "# cargar los pesos del modelo\n",
    "model.load_weights(weights_path, \n",
    "                   by_name=True, \n",
    "                   exclude=[\"mrcnn_class_logits\", \"mrcnn_bbox_fc\",  \"mrcnn_bbox\", \"mrcnn_mask\"])\n",
    "\n",
    "#augmentation = iaa.Sequential(iaa.Fliplr(0.5), iaa.Flipud(0.5))\n",
    "#augmentation = iaa.Sometimes(5/6,iaa.Fliplr(0.5), iaa.Flipud(0.5))\n",
    "#augmentation = iaa.Sequential([iaa.Fliplr(0.5), iaa.Flipud(0.5)])\n",
    "#augmentation = iaa.Sometimes(5/6, iaa.Fliplr(0.5), iaa.Flipud(0.5))\n",
    "augmentation = iaa.Sometimes(0.5, iaa.Fliplr(0.5), iaa.Flipud(0.5))\n",
    "\n",
    "# start the training of model\n",
    "# you can change epochs and layers (head or all)\n",
    "model.train(train_set, test_set, learning_rate=config.LEARNING_RATE, epochs=300, layers='all', augmentation=augmentation)\n"
   ]
  }
 ],
 "metadata": {
  "colab": {
   "name": "master.ipynb",
   "provenance": []
  },
  "hide_input": false,
  "kernelspec": {
   "display_name": "Python 3",
   "language": "python",
   "name": "python3"
  },
  "language_info": {
   "codemirror_mode": {
    "name": "ipython",
    "version": 3
   },
   "file_extension": ".py",
   "mimetype": "text/x-python",
   "name": "python",
   "nbconvert_exporter": "python",
   "pygments_lexer": "ipython3",
   "version": "3.8.8"
  },
  "vscode": {
   "interpreter": {
    "hash": "da38062997892a68ae88df3a1549a85ff68f4e3a875c1f51aead31b07f2af4c3"
   }
  }
 },
 "nbformat": 4,
 "nbformat_minor": 1
}
